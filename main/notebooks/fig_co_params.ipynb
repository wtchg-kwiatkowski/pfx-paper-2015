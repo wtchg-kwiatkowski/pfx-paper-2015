{
 "cells": [
  {
   "cell_type": "markdown",
   "metadata": {},
   "source": [
    "# Figure 3A/B/C, crossover recombination"
   ]
  },
  {
   "cell_type": "code",
   "execution_count": 1,
   "metadata": {
    "collapsed": false
   },
   "outputs": [
    {
     "name": "stdout",
     "output_type": "stream",
     "text": [
      "docker image cggh/biipy:v1.6.0\n"
     ]
    },
    {
     "data": {
      "text/html": [
       "<style type=\"text/css\">\n",
       ".container {\n",
       "    width: 96%;\n",
       "}\n",
       "#maintoolbar {\n",
       "    display: none;\n",
       "}\n",
       "#header-container {\n",
       "    display: none;\n",
       "}\n",
       "#notebook {\n",
       "    padding-top: 0;\n",
       "}\n",
       "</style>"
      ],
      "text/plain": [
       "<IPython.core.display.HTML object>"
      ]
     },
     "metadata": {},
     "output_type": "display_data"
    }
   ],
   "source": [
    "%run ../../shared_setup.ipynb"
   ]
  },
  {
   "cell_type": "code",
   "execution_count": 2,
   "metadata": {
    "collapsed": false
   },
   "outputs": [
    {
     "name": "stderr",
     "output_type": "stream",
     "text": [
      "2016-03-08 18:03:07.143120 :: loading /data/plasmodium/pfalciparum/pf-crosses/data/public/20141022/3d7_hb3.combined.final.npz\n",
      "2016-03-08 18:03:07.530394 :: filter variants: excluding 157 (0.4%) retaining 42087 (99.6%) of 42244 variants\n",
      "2016-03-08 18:03:07.547061 :: filter samples: excluding ['C01/PG0062-C/ERR019070', 'C02/PG0053-C/ERR019067', 'C02/PG0055-C/ERR019066', 'C02/PG0056-C/ERR019068'] including ['3D7/PG0051-C/ERR019061', 'HB3/PG0052-C/ERR019054', 'C01/PG0065-C/ERR019064', 'C02/PG0067-C/ERR019073', 'C03/PG0066-C/ERR019072', 'C04/PG0061-C/ERR019059', 'C05/PG0068-C/ERR019065', 'C06/PG0069-C/ERR019055', 'C07/PG0070-C/ERR019056', 'C08/PG0071-C/ERR019074', 'C09/PG0072-C/ERR019057', 'C10/PG0063-C/ERR019060', 'C11/PG0064-C/ERR019071', 'C12/PG0058-C/ERR019063', 'C13/PG0054-C/ERR019062', 'C14/PG0060-C/ERR019058', 'C15/PG0057-C/ERR019069']\n",
      "2016-03-08 18:03:07.595019 :: filter calls: excluding 2216 (0.3%) retaining 713263 (99.7%) of 715479 calls\n",
      "2016-03-08 18:03:07.596214 :: loading /data/plasmodium/pfalciparum/pf-crosses/data/public/20141022/hb3_dd2.combined.final.npz\n",
      "2016-03-08 18:03:08.036497 :: filter variants: excluding 450 (1.2%) retaining 36461 (98.8%) of 36911 variants\n",
      "2016-03-08 18:03:08.054789 :: filter samples: excluding ['SC01/PG0025-C/ERR019045'] including ['HB3/PG0004-CW/ERR012788', 'DD2/PG0008-CW/ERR012840', '1BB5/PG0023-C/ERR015449', '3BA6/PG0022-Cx/ERR126027', '3BD5/PG0024-C/ERR019053', '7C101/PG0074-C/ERR019048', '7C111/PG0038-C/ERR015457', '7C12/PG0035-Cx/ERR037704', '7C126/PG0047-C/ERR015452', '7C140/PG0039-C/ERR015454', '7C159/PG0040-Cx/ERR107475', '7C16/PG0036-C/ERR015455', '7C170/PG0041-C/ERR015446', '7C183/PG0042-C/ERR015448', '7C188/PG0030-C/ERR019046', '7C20/PG0037-C/ERR015451', '7C3/PG0034-C/ERR019047', '7C408/PG0031-C/ERR015458', '7C421/PG0043-C/ERR015459', '7C424/PG0044-C/ERR019043', '7C46/PG0046-Cx/ERR107476', '7C7/PG0048-C/ERR019049', 'B1SD/PG0015-C/ERR019044', 'B4R3/PG0018-C/ERR019042', 'CH3_116/PG0032-Cx/ERR037703', 'CH3_61/PG0033-Cx/ERR175544', 'D43/PG0029-Cx/ERR107474', 'GC03/PG0021-C/ERR015447', 'GC06/PG0028-C/ERR015456', 'QC01/PG0017-C/ERR019050', 'QC13/PG0016-C/ERR012895', 'QC23/PG0045-C/ERR012892', 'QC34/PG0026-C/ERR015453', 'SC05/PG0019-C/ERR019051', 'TC05/PG0027-C/ERR015450', 'TC08/PG0020-C/ERR019052']\n",
      "2016-03-08 18:03:08.139415 :: filter calls: excluding 28934 (2.2%) retaining 1283662 (97.8%) of 1312596 calls\n",
      "2016-03-08 18:03:08.141501 :: loading /data/plasmodium/pfalciparum/pf-crosses/data/public/20141022/7g8_gb4.combined.final.npz\n",
      "2016-03-08 18:03:08.603804 :: filter variants: excluding 304 (0.9%) retaining 34471 (99.1%) of 34775 variants\n",
      "2016-03-08 18:03:08.623724 :: filter samples: excluding ['AUD/PG0112-CW/ERR045639', 'JC9/PG0111-C/ERR029409', 'JE11/PG0100-CW/ERR045630', 'JF6/PG0079-CW/ERR045637', 'KB8/PG0104-CW/ERR045642', 'LA10/PG0086-CW/ERR045629', 'NIC/PG0095-C/ERR027107', 'QF5/PG0078-CW/ERR045638', 'XD8/PG0105-CW/ERR045628', 'XF12/PG0102-CW/ERR045635', 'D2/PG0094-CW/ERR045632'] including ['7G8/PG0083-C/ERR027099', 'GB4/PG0084-C/ERR027100', 'AL2/PG0103-CW/ERR045627', 'AUD/PG0112-C/ERR029406', 'DAN/PG0098-C/ERR027110', 'DEV/PG0081-CW/ERR045633', 'JB12/PG0099-C/ERR029146', 'JB8/PG0087-C/ERR029091', 'JC3/PG0077-CW/ERR045636', 'JC9/PG0111-CW/ERR045634', 'JE11/PG0100-C/ERR029404', 'JF6/PG0079-C/ERR027102', 'JON/PG0107-C/ERR029408', 'KA6/PG0091-C/ERR027117', 'KB8/PG0104-C/ERR029148', 'KH7/PG0088-C/ERR027111', 'LA10/PG0086-C/ERR029090', 'NF10/PG0096-C/ERR027108', 'NIC/PG0095-CW/ERR045631', 'QF5/PG0078-C/ERR029092', 'TF1/PG0080-C/ERR027103', 'WC4/PG0082-C/ERR029093', 'WE2/PG0085-C/ERR027101', 'WF12/PG0097-C/ERR027109', 'XB3/PG0093-C/ERR029105', 'XD8/PG0105-C/ERR029144', 'XE7/PG0106-C/ERR029407', 'XF12/PG0102-C/ERR029143', 'XG10/PG0109-C/ERR029405']\n",
      "2016-03-08 18:03:08.685108 :: filter calls: excluding 12209 (1.2%) retaining 987450 (98.8%) of 999659 calls\n"
     ]
    },
    {
     "name": "stdout",
     "output_type": "stream",
     "text": [
      "{'3d7_hb3': 15, 'hb3_dd2': 34, '7g8_gb4': 27}\n",
      "76\n"
     ]
    }
   ],
   "source": [
    "# load variation data\n",
    "sample_exclusions = dup_samples.copy()\n",
    "for cross in excessive_recomb_samples:\n",
    "    sample_exclusions[cross] += excessive_recomb_samples[cross]\n",
    "\n",
    "callsets = load_callsets(COMBINED_CALLSET_FN_TEMPLATE, \n",
    "                         sample_exclusions=sample_exclusions, \n",
    "                         variant_filter='FILTER_PASS',\n",
    "                         call_filter=combined_conf_calls)\n",
    "\n",
    "samples = {cross: callsets[cross]['calldata'].dtype.names\n",
    "           for cross in CROSSES}\n",
    "progeny = {cross: samples[cross][2:] for cross in CROSSES}\n",
    "n_progeny = {cross: len(progeny[cross]) for cross in CROSSES}\n",
    "print(n_progeny)\n",
    "print(np.sum(list(n_progeny.values())))"
   ]
  },
  {
   "cell_type": "markdown",
   "metadata": {},
   "source": [
    "## How many CO events in total?"
   ]
  },
  {
   "cell_type": "code",
   "execution_count": 3,
   "metadata": {
    "collapsed": false
   },
   "outputs": [
    {
     "data": {
      "text/html": [
       "<table class='petl'>\n",
       "<caption>CO events (1194 rows)</caption>\n",
       "<thead>\n",
       "<tr>\n",
       "<th>0|sample</th>\n",
       "<th>1|chrom</th>\n",
       "<th>2|co_pos_mid</th>\n",
       "<th>3|co_pos_min</th>\n",
       "<th>4|co_pos_max</th>\n",
       "<th>5|co_pos_range</th>\n",
       "<th>6|cross</th>\n",
       "<th>7|co_from_parent</th>\n",
       "<th>8|co_to_parent</th>\n",
       "</tr>\n",
       "</thead>\n",
       "<tbody>\n",
       "<tr>\n",
       "<td>B1SD/PG0015-C/ERR019044</td>\n",
       "<td>b'Pf3D7_01_v3'</td>\n",
       "<td style='text-align: right'>145052</td>\n",
       "<td style='text-align: right'>144877</td>\n",
       "<td style='text-align: right'>145227</td>\n",
       "<td style='text-align: right'>350</td>\n",
       "<td>hb3_dd2</td>\n",
       "<td>hb3</td>\n",
       "<td>dd2</td>\n",
       "</tr>\n",
       "<tr>\n",
       "<td>GC03/PG0021-C/ERR015447</td>\n",
       "<td>b'Pf3D7_01_v3'</td>\n",
       "<td style='text-align: right'>163584</td>\n",
       "<td style='text-align: right'>163145</td>\n",
       "<td style='text-align: right'>164024</td>\n",
       "<td style='text-align: right'>879</td>\n",
       "<td>hb3_dd2</td>\n",
       "<td>dd2</td>\n",
       "<td>hb3</td>\n",
       "</tr>\n",
       "<tr>\n",
       "<td>XF12/PG0102-C/ERR029143</td>\n",
       "<td>b'Pf3D7_01_v3'</td>\n",
       "<td style='text-align: right'>206769</td>\n",
       "<td style='text-align: right'>205803</td>\n",
       "<td style='text-align: right'>207736</td>\n",
       "<td style='text-align: right'>1933</td>\n",
       "<td>7g8_gb4</td>\n",
       "<td>gb4</td>\n",
       "<td>7g8</td>\n",
       "</tr>\n",
       "<tr>\n",
       "<td>7C159/PG0040-Cx/ERR107475</td>\n",
       "<td>b'Pf3D7_01_v3'</td>\n",
       "<td style='text-align: right'>206905</td>\n",
       "<td style='text-align: right'>206074</td>\n",
       "<td style='text-align: right'>207736</td>\n",
       "<td style='text-align: right'>1662</td>\n",
       "<td>hb3_dd2</td>\n",
       "<td>hb3</td>\n",
       "<td>dd2</td>\n",
       "</tr>\n",
       "<tr>\n",
       "<td>CH3_61/PG0033-Cx/ERR175544</td>\n",
       "<td>b'Pf3D7_01_v3'</td>\n",
       "<td style='text-align: right'>206905</td>\n",
       "<td style='text-align: right'>206074</td>\n",
       "<td style='text-align: right'>207736</td>\n",
       "<td style='text-align: right'>1662</td>\n",
       "<td>hb3_dd2</td>\n",
       "<td>dd2</td>\n",
       "<td>hb3</td>\n",
       "</tr>\n",
       "</tbody>\n",
       "</table>\n",
       "<p><strong>...</strong></p>"
      ]
     },
     "metadata": {},
     "output_type": "display_data"
    }
   ],
   "source": [
    "tbl_co = etl.frompickle(os.path.join(PUBLIC_DIR, 'tbl_co.pickle'))\n",
    "display_with_nrows(tbl_co, caption='CO events')"
   ]
  },
  {
   "cell_type": "code",
   "execution_count": 4,
   "metadata": {
    "collapsed": false
   },
   "outputs": [
    {
     "data": {
      "text/html": [
       "<table class='petl'>\n",
       "<caption>CO events by cross</caption>\n",
       "<thead>\n",
       "<tr>\n",
       "<th>0|cross</th>\n",
       "<th>1|count</th>\n",
       "<th>2|frequency</th>\n",
       "<th>3|count_per_meiosis</th>\n",
       "</tr>\n",
       "</thead>\n",
       "<tbody>\n",
       "<tr>\n",
       "<td>hb3_dd2</td>\n",
       "<td style='text-align: right'>544</td>\n",
       "<td style='text-align: right'>0.4556113902847571</td>\n",
       "<td style='text-align: right'>16.0</td>\n",
       "</tr>\n",
       "<tr>\n",
       "<td>7g8_gb4</td>\n",
       "<td style='text-align: right'>385</td>\n",
       "<td style='text-align: right'>0.3224455611390285</td>\n",
       "<td style='text-align: right'>14.25925925925926</td>\n",
       "</tr>\n",
       "<tr>\n",
       "<td>3d7_hb3</td>\n",
       "<td style='text-align: right'>265</td>\n",
       "<td style='text-align: right'>0.2219430485762144</td>\n",
       "<td style='text-align: right'>17.666666666666668</td>\n",
       "</tr>\n",
       "</tbody>\n",
       "</table>\n"
      ]
     },
     "metadata": {},
     "output_type": "display_data"
    }
   ],
   "source": [
    "(tbl_co\n",
    " .valuecounts('cross')\n",
    "  .addfield('count_per_meiosis', \n",
    "            lambda row: row['count'] / n_progeny[row['cross']])\n",
    " .display(caption='CO events by cross')\n",
    ")"
   ]
  },
  {
   "cell_type": "markdown",
   "metadata": {},
   "source": [
    "## CO recombination rate"
   ]
  },
  {
   "cell_type": "code",
   "execution_count": 5,
   "metadata": {
    "collapsed": false
   },
   "outputs": [
    {
     "name": "stdout",
     "output_type": "stream",
     "text": [
      "meioses: 76\n",
      "crossovers: 1194\n",
      "total map length: 15.71 Morgan\n",
      "map length stderr: 0.454661909031\n",
      "map length 95% CI: 14.82 - 16.60\n"
     ]
    }
   ],
   "source": [
    "# the simple method...\n",
    "X = tbl_co.valuecounts('sample').values('count').list()\n",
    "\n",
    "n = len(X)\n",
    "assert np.sum(list(n_progeny.values())) == n\n",
    "print('meioses:', n)\n",
    "\n",
    "print('crossovers:', np.sum(X))\n",
    "\n",
    "mu_hat = np.mean(X)\n",
    "print('total map length: %.2f' % mu_hat, 'Morgan')\n",
    "\n",
    "mu_stderr = np.sqrt(mu_hat / n)\n",
    "print('map length stderr:', mu_stderr)\n",
    "\n",
    "mu_95ci = 1.96 * mu_stderr\n",
    "print('map length 95%% CI: %.2f - %.2f' % (mu_hat - mu_95ci, mu_hat + mu_95ci))"
   ]
  },
  {
   "cell_type": "code",
   "execution_count": 6,
   "metadata": {
    "collapsed": false
   },
   "outputs": [
    {
     "data": {
      "text/html": [
       "<table class='petl'>\n",
       "<caption>Core genome span (total = 21.16)</caption>\n",
       "<thead>\n",
       "<tr>\n",
       "<th>0|chrom</th>\n",
       "<th>1|stop</th>\n",
       "<th>2|start</th>\n",
       "<th>3|span</th>\n",
       "</tr>\n",
       "</thead>\n",
       "<tbody>\n",
       "<tr>\n",
       "<td>Pf3D7_01_v3</td>\n",
       "<td style='text-align: right'>575900</td>\n",
       "<td style='text-align: right'>92901</td>\n",
       "<td style='text-align: right'>482999</td>\n",
       "</tr>\n",
       "<tr>\n",
       "<td>Pf3D7_02_v3</td>\n",
       "<td style='text-align: right'>862500</td>\n",
       "<td style='text-align: right'>105801</td>\n",
       "<td style='text-align: right'>756699</td>\n",
       "</tr>\n",
       "<tr>\n",
       "<td>Pf3D7_03_v3</td>\n",
       "<td style='text-align: right'>1003060</td>\n",
       "<td style='text-align: right'>70631</td>\n",
       "<td style='text-align: right'>932429</td>\n",
       "</tr>\n",
       "<tr>\n",
       "<td>Pf3D7_04_v3</td>\n",
       "<td style='text-align: right'>1143990</td>\n",
       "<td style='text-align: right'>91421</td>\n",
       "<td style='text-align: right'>1052569</td>\n",
       "</tr>\n",
       "<tr>\n",
       "<td>Pf3D7_05_v3</td>\n",
       "<td style='text-align: right'>1321390</td>\n",
       "<td style='text-align: right'>37901</td>\n",
       "<td style='text-align: right'>1283489</td>\n",
       "</tr>\n",
       "<tr>\n",
       "<td>Pf3D7_06_v3</td>\n",
       "<td style='text-align: right'>1294830</td>\n",
       "<td style='text-align: right'>72351</td>\n",
       "<td style='text-align: right'>1222479</td>\n",
       "</tr>\n",
       "<tr>\n",
       "<td>Pf3D7_07_v3</td>\n",
       "<td style='text-align: right'>1381600</td>\n",
       "<td style='text-align: right'>77101</td>\n",
       "<td style='text-align: right'>1304499</td>\n",
       "</tr>\n",
       "<tr>\n",
       "<td>Pf3D7_08_v3</td>\n",
       "<td style='text-align: right'>1365730</td>\n",
       "<td style='text-align: right'>73561</td>\n",
       "<td style='text-align: right'>1292169</td>\n",
       "</tr>\n",
       "<tr>\n",
       "<td>Pf3D7_09_v3</td>\n",
       "<td style='text-align: right'>1473560</td>\n",
       "<td style='text-align: right'>79101</td>\n",
       "<td style='text-align: right'>1394459</td>\n",
       "</tr>\n",
       "<tr>\n",
       "<td>Pf3D7_10_v3</td>\n",
       "<td style='text-align: right'>1571815</td>\n",
       "<td style='text-align: right'>68971</td>\n",
       "<td style='text-align: right'>1502844</td>\n",
       "</tr>\n",
       "<tr>\n",
       "<td>Pf3D7_11_v3</td>\n",
       "<td style='text-align: right'>2003320</td>\n",
       "<td style='text-align: right'>110001</td>\n",
       "<td style='text-align: right'>1893319</td>\n",
       "</tr>\n",
       "<tr>\n",
       "<td>Pf3D7_12_v3</td>\n",
       "<td style='text-align: right'>2163700</td>\n",
       "<td style='text-align: right'>60301</td>\n",
       "<td style='text-align: right'>2103399</td>\n",
       "</tr>\n",
       "<tr>\n",
       "<td>Pf3D7_13_v3</td>\n",
       "<td style='text-align: right'>2791900</td>\n",
       "<td style='text-align: right'>74414</td>\n",
       "<td style='text-align: right'>2717486</td>\n",
       "</tr>\n",
       "<tr>\n",
       "<td>Pf3D7_14_v3</td>\n",
       "<td style='text-align: right'>3255710</td>\n",
       "<td style='text-align: right'>35775</td>\n",
       "<td style='text-align: right'>3219935</td>\n",
       "</tr>\n",
       "</tbody>\n",
       "</table>\n"
      ]
     },
     "metadata": {},
     "output_type": "display_data"
    }
   ],
   "source": [
    "# calculate marker span using accessibility regions, it's fairer and simpler\n",
    "tbl_marker_span = (\n",
    "    tbl_regions_1b\n",
    "    .eq('region_type', 'Core')\n",
    "    .aggregate(key='region_chrom', \n",
    "               aggregation={'start': ('region_start', min), 'stop': ('region_stop', max)})\n",
    "    .rename('region_chrom', 'chrom')\n",
    "    .addfield('span', lambda row: row.stop - row.start)\n",
    ")\n",
    "total_marker_span = tbl_marker_span.values('span').sum()\n",
    "tbl_marker_span.displayall(caption='Core genome span (total = %.2f)' % (total_marker_span/1e6))"
   ]
  },
  {
   "cell_type": "code",
   "execution_count": 7,
   "metadata": {
    "collapsed": false
   },
   "outputs": [
    {
     "name": "stdout",
     "output_type": "stream",
     "text": [
      "CO rate: 0.7425 Morgan/Mb\n",
      "CO rate 95% CI: 0.7004 - 0.7846 Morgan/Mb\n",
      "\n",
      "CO rate: 13.5 kb/cM\n",
      "CO rate 95% CI: 12.7 - 14.3 kb/cM\n"
     ]
    }
   ],
   "source": [
    "co_hat = (mu_hat / (total_marker_span / 1e6))\n",
    "print('CO rate: %.4f Morgan/Mb' % co_hat)\n",
    "co_95ci_lower = (mu_hat - mu_95ci) / (total_marker_span / 1e6)\n",
    "co_95ci_upper = (mu_hat + mu_95ci) / (total_marker_span / 1e6)\n",
    "print('CO rate 95%% CI: %.4f - %.4f Morgan/Mb' % (co_95ci_lower, co_95ci_upper))\n",
    "print()\n",
    "print('CO rate: %.1f kb/cM' % (10/co_hat))\n",
    "print('CO rate 95%% CI: %.1f - %.1f kb/cM' % (10/co_95ci_upper, 10/co_95ci_lower))"
   ]
  },
  {
   "cell_type": "markdown",
   "metadata": {},
   "source": [
    "## CO rate by progeny"
   ]
  },
  {
   "cell_type": "code",
   "execution_count": 8,
   "metadata": {
    "collapsed": false
   },
   "outputs": [
    {
     "data": {
      "text/html": [
       "<table class='petl'>\n",
       "<thead>\n",
       "<tr>\n",
       "<th>0|sample</th>\n",
       "<th>1|cross</th>\n",
       "<th>2|count</th>\n",
       "<th>3|frequency</th>\n",
       "</tr>\n",
       "</thead>\n",
       "<tbody>\n",
       "<tr>\n",
       "<td>C04/PG0061-C/ERR019059</td>\n",
       "<td>3d7_hb3</td>\n",
       "<td style='text-align: right'>26</td>\n",
       "<td style='text-align: right'>0.021775544388609715</td>\n",
       "</tr>\n",
       "<tr>\n",
       "<td>7C408/PG0031-C/ERR015458</td>\n",
       "<td>hb3_dd2</td>\n",
       "<td style='text-align: right'>25</td>\n",
       "<td style='text-align: right'>0.020938023450586266</td>\n",
       "</tr>\n",
       "<tr>\n",
       "<td>SC05/PG0019-C/ERR019051</td>\n",
       "<td>hb3_dd2</td>\n",
       "<td style='text-align: right'>23</td>\n",
       "<td style='text-align: right'>0.019262981574539362</td>\n",
       "</tr>\n",
       "<tr>\n",
       "<td>C14/PG0060-C/ERR019058</td>\n",
       "<td>3d7_hb3</td>\n",
       "<td style='text-align: right'>22</td>\n",
       "<td style='text-align: right'>0.018425460636515914</td>\n",
       "</tr>\n",
       "<tr>\n",
       "<td>7C3/PG0034-C/ERR019047</td>\n",
       "<td>hb3_dd2</td>\n",
       "<td style='text-align: right'>22</td>\n",
       "<td style='text-align: right'>0.018425460636515914</td>\n",
       "</tr>\n",
       "</tbody>\n",
       "</table>\n"
      ]
     },
     "metadata": {},
     "output_type": "display_data"
    },
    {
     "data": {
      "text/html": [
       "<table class='petl'>\n",
       "<thead>\n",
       "<tr>\n",
       "<th>0|sample</th>\n",
       "<th>1|cross</th>\n",
       "<th>2|count</th>\n",
       "<th>3|frequency</th>\n",
       "</tr>\n",
       "</thead>\n",
       "<tbody>\n",
       "<tr>\n",
       "<td>JC9/PG0111-CW/ERR045634</td>\n",
       "<td>7g8_gb4</td>\n",
       "<td style='text-align: right'>9</td>\n",
       "<td style='text-align: right'>0.007537688442211055</td>\n",
       "</tr>\n",
       "<tr>\n",
       "<td>WE2/PG0085-C/ERR027101</td>\n",
       "<td>7g8_gb4</td>\n",
       "<td style='text-align: right'>8</td>\n",
       "<td style='text-align: right'>0.006700167504187605</td>\n",
       "</tr>\n",
       "<tr>\n",
       "<td>B4R3/PG0018-C/ERR019042</td>\n",
       "<td>hb3_dd2</td>\n",
       "<td style='text-align: right'>8</td>\n",
       "<td style='text-align: right'>0.006700167504187605</td>\n",
       "</tr>\n",
       "<tr>\n",
       "<td>7C16/PG0036-C/ERR015455</td>\n",
       "<td>hb3_dd2</td>\n",
       "<td style='text-align: right'>7</td>\n",
       "<td style='text-align: right'>0.005862646566164154</td>\n",
       "</tr>\n",
       "<tr>\n",
       "<td>JON/PG0107-C/ERR029408</td>\n",
       "<td>7g8_gb4</td>\n",
       "<td style='text-align: right'>5</td>\n",
       "<td style='text-align: right'>0.0041876046901172526</td>\n",
       "</tr>\n",
       "</tbody>\n",
       "</table>\n"
      ]
     },
     "metadata": {},
     "output_type": "display_data"
    }
   ],
   "source": [
    "tbl_co.valuecounts('sample', 'cross').head(5).display()\n",
    "tbl_co.valuecounts('sample', 'cross').tail(5).display()"
   ]
  },
  {
   "cell_type": "markdown",
   "metadata": {},
   "source": [
    "## CO rate by cross"
   ]
  },
  {
   "cell_type": "code",
   "execution_count": 9,
   "metadata": {
    "collapsed": false
   },
   "outputs": [
    {
     "name": "stdout",
     "output_type": "stream",
     "text": [
      "\n",
      "3D7 x HB3\n",
      "meioses: 15\n",
      "crossovers: 265\n",
      "total map length: 17.67 Morgan\n",
      "map length stderr: 1.08525470641\n",
      "map length 95% CI: 15.54 - 19.79\n",
      "\n",
      "HB3 x Dd2\n",
      "meioses: 34\n",
      "crossovers: 544\n",
      "total map length: 16.00 Morgan\n",
      "map length stderr: 0.68599434057\n",
      "map length 95% CI: 14.66 - 17.34\n",
      "\n",
      "7G8 x GB4\n",
      "meioses: 27\n",
      "crossovers: 385\n",
      "total map length: 14.26 Morgan\n",
      "map length stderr: 0.726719143346\n",
      "map length 95% CI: 12.83 - 15.68\n"
     ]
    }
   ],
   "source": [
    "# the simple method...\n",
    "\n",
    "for cross in CROSSES:\n",
    "    \n",
    "    print()\n",
    "    print(LABELS[cross])\n",
    "    X = tbl_co.eq('cross', cross).valuecounts('sample').values('count').list()\n",
    "\n",
    "    n = len(X)\n",
    "    assert n_progeny[cross] == n\n",
    "    print('meioses:', n)\n",
    "\n",
    "    print('crossovers:', np.sum(X))\n",
    "\n",
    "    mu_hat = np.mean(X)\n",
    "    print('total map length: %.2f' % mu_hat, 'Morgan')\n",
    "\n",
    "    mu_stderr = np.sqrt(mu_hat / n)\n",
    "    print('map length stderr:', mu_stderr)\n",
    "\n",
    "    mu_95ci = 1.96 * mu_stderr\n",
    "    print('map length 95%% CI: %.2f - %.2f' % (mu_hat - mu_95ci, mu_hat + mu_95ci))"
   ]
  },
  {
   "cell_type": "code",
   "execution_count": 10,
   "metadata": {
    "collapsed": false
   },
   "outputs": [
    {
     "data": {
      "text/html": [
       "<div>\n",
       "<table border=\"1\" class=\"dataframe\">\n",
       "  <thead>\n",
       "    <tr style=\"text-align: right;\">\n",
       "      <th></th>\n",
       "      <th>cross</th>\n",
       "      <th>sample</th>\n",
       "      <th>n_co</th>\n",
       "      <th>frequency</th>\n",
       "    </tr>\n",
       "  </thead>\n",
       "  <tbody>\n",
       "    <tr>\n",
       "      <th>0</th>\n",
       "      <td>3d7_hb3</td>\n",
       "      <td>C01/PG0065-C/ERR019064</td>\n",
       "      <td>15</td>\n",
       "      <td>0.012563</td>\n",
       "    </tr>\n",
       "    <tr>\n",
       "      <th>1</th>\n",
       "      <td>3d7_hb3</td>\n",
       "      <td>C02/PG0067-C/ERR019073</td>\n",
       "      <td>15</td>\n",
       "      <td>0.012563</td>\n",
       "    </tr>\n",
       "    <tr>\n",
       "      <th>2</th>\n",
       "      <td>3d7_hb3</td>\n",
       "      <td>C03/PG0066-C/ERR019072</td>\n",
       "      <td>17</td>\n",
       "      <td>0.014238</td>\n",
       "    </tr>\n",
       "    <tr>\n",
       "      <th>3</th>\n",
       "      <td>3d7_hb3</td>\n",
       "      <td>C04/PG0061-C/ERR019059</td>\n",
       "      <td>26</td>\n",
       "      <td>0.021776</td>\n",
       "    </tr>\n",
       "    <tr>\n",
       "      <th>4</th>\n",
       "      <td>3d7_hb3</td>\n",
       "      <td>C05/PG0068-C/ERR019065</td>\n",
       "      <td>11</td>\n",
       "      <td>0.009213</td>\n",
       "    </tr>\n",
       "  </tbody>\n",
       "</table>\n",
       "</div>"
      ],
      "text/plain": [
       "     cross                  sample  n_co  frequency\n",
       "0  3d7_hb3  C01/PG0065-C/ERR019064    15   0.012563\n",
       "1  3d7_hb3  C02/PG0067-C/ERR019073    15   0.012563\n",
       "2  3d7_hb3  C03/PG0066-C/ERR019072    17   0.014238\n",
       "3  3d7_hb3  C04/PG0061-C/ERR019059    26   0.021776\n",
       "4  3d7_hb3  C05/PG0068-C/ERR019065    11   0.009213"
      ]
     },
     "execution_count": 10,
     "metadata": {},
     "output_type": "execute_result"
    }
   ],
   "source": [
    "df_co_by_sample = (\n",
    "    tbl_co\n",
    "    .valuecounts('cross', 'sample')\n",
    "    .sort(key=('cross', 'sample'))\n",
    "    .rename('count', 'n_co')\n",
    "    .todataframe()\n",
    ")\n",
    "df_co_by_sample.head()"
   ]
  },
  {
   "cell_type": "code",
   "execution_count": 11,
   "metadata": {
    "collapsed": false
   },
   "outputs": [
    {
     "name": "stdout",
     "output_type": "stream",
     "text": [
      "ANOVA 3.20793043117 0.0462029646224\n",
      "Kruskal 5.53134398344 0.0629337941466\n"
     ]
    }
   ],
   "source": [
    "vals = [df_co_by_sample[df_co_by_sample.cross == cross]['n_co'].values for cross in CROSSES]\n",
    "\n",
    "f_val, p_val = stats.f_oneway(*vals)\n",
    "print('ANOVA', f_val, p_val)\n",
    "\n",
    "h_val, p_val = stats.kruskal(*vals)\n",
    "print('Kruskal', h_val, p_val)"
   ]
  },
  {
   "cell_type": "code",
   "execution_count": 12,
   "metadata": {
    "collapsed": false
   },
   "outputs": [
    {
     "data": {
      "text/plain": [
       "76"
      ]
     },
     "execution_count": 12,
     "metadata": {},
     "output_type": "execute_result"
    }
   ],
   "source": [
    "len(df_co_by_sample)"
   ]
  },
  {
   "cell_type": "code",
   "execution_count": 13,
   "metadata": {
    "collapsed": false
   },
   "outputs": [],
   "source": [
    "def plot_co_rate_by_cross(ax):\n",
    "    X = df_co_by_sample.n_co\n",
    "    F = df_co_by_sample.cross\n",
    "    vals = [X[F == cross] for cross in CROSSES]\n",
    "    sns.despine(ax=ax)\n",
    "    sns.despine(ax=ax, offset=5)\n",
    "    #sns.violinplot(vals, ax=ax, linewidth=.5, )\n",
    "    #sns.boxplot(vals, ax=ax)\n",
    "    ax.boxplot(vals, notch=True, bootstrap=10000)\n",
    "    ax.set_xticklabels([LABELS[cross] for cross in CROSSES], fontsize=8)\n",
    "    ax.set_ylim(0, 30)\n",
    "    ax.set_ylabel('genetic map length (Morgan)')\n"
   ]
  },
  {
   "cell_type": "code",
   "execution_count": 14,
   "metadata": {
    "collapsed": false
   },
   "outputs": [
    {
     "data": {
      "image/png": "[encoded data removed]",
      "text/plain": [
       "<matplotlib.figure.Figure at 0x7fd08a019748>"
      ]
     },
     "metadata": {},
     "output_type": "display_data"
    }
   ],
   "source": [
    "width = 8/3\n",
    "height = width \n",
    "fig, ax = plt.subplots(figsize=(width, height))\n",
    "ax.set_xlabel('cross', color='w')\n",
    "plot_co_rate_by_cross(ax)\n",
    "ax.set_title('A', fontweight='bold')\n",
    "fig.tight_layout()\n",
    "fig.savefig('../../artwork/main/fig3A.jpg', dpi=900, jpeg_quality=100)"
   ]
  },
  {
   "cell_type": "markdown",
   "metadata": {},
   "source": [
    "## CO rate by chromosome"
   ]
  },
  {
   "cell_type": "code",
   "execution_count": 15,
   "metadata": {
    "collapsed": false
   },
   "outputs": [
    {
     "data": {
      "text/plain": [
       "{'Pf3D7_01_v3': 482999,\n",
       " 'Pf3D7_02_v3': 756699,\n",
       " 'Pf3D7_03_v3': 932429,\n",
       " 'Pf3D7_04_v3': 1052569,\n",
       " 'Pf3D7_05_v3': 1283489,\n",
       " 'Pf3D7_06_v3': 1222479,\n",
       " 'Pf3D7_07_v3': 1304499,\n",
       " 'Pf3D7_08_v3': 1292169,\n",
       " 'Pf3D7_09_v3': 1394459,\n",
       " 'Pf3D7_10_v3': 1502844,\n",
       " 'Pf3D7_11_v3': 1893319,\n",
       " 'Pf3D7_12_v3': 2103399,\n",
       " 'Pf3D7_13_v3': 2717486,\n",
       " 'Pf3D7_14_v3': 3219935}"
      ]
     },
     "execution_count": 15,
     "metadata": {},
     "output_type": "execute_result"
    }
   ],
   "source": [
    "lkp_span = tbl_marker_span.lookupone('chrom', 'span')\n",
    "lkp_span"
   ]
  },
  {
   "cell_type": "code",
   "execution_count": 16,
   "metadata": {
    "collapsed": false
   },
   "outputs": [
    {
     "data": {
      "text/html": [
       "<table class='petl'>\n",
       "<thead>\n",
       "<tr>\n",
       "<th>0|cross</th>\n",
       "<th>1|sample</th>\n",
       "<th>2|chrom</th>\n",
       "<th>3|count</th>\n",
       "<th>4|span</th>\n",
       "</tr>\n",
       "</thead>\n",
       "<tbody>\n",
       "<tr>\n",
       "<td>3d7_hb3</td>\n",
       "<td>C01/PG0065-C/ERR019064</td>\n",
       "<td>b'Pf3D7_01_v3'</td>\n",
       "<td style='text-align: right'>0</td>\n",
       "<td style='text-align: right'>482999</td>\n",
       "</tr>\n",
       "<tr>\n",
       "<td>3d7_hb3</td>\n",
       "<td>C01/PG0065-C/ERR019064</td>\n",
       "<td>b'Pf3D7_02_v3'</td>\n",
       "<td style='text-align: right'>0</td>\n",
       "<td style='text-align: right'>756699</td>\n",
       "</tr>\n",
       "<tr>\n",
       "<td>3d7_hb3</td>\n",
       "<td>C01/PG0065-C/ERR019064</td>\n",
       "<td>b'Pf3D7_03_v3'</td>\n",
       "<td style='text-align: right'>1</td>\n",
       "<td style='text-align: right'>932429</td>\n",
       "</tr>\n",
       "<tr>\n",
       "<td>3d7_hb3</td>\n",
       "<td>C01/PG0065-C/ERR019064</td>\n",
       "<td>b'Pf3D7_04_v3'</td>\n",
       "<td style='text-align: right'>0</td>\n",
       "<td style='text-align: right'>1052569</td>\n",
       "</tr>\n",
       "<tr>\n",
       "<td>3d7_hb3</td>\n",
       "<td>C01/PG0065-C/ERR019064</td>\n",
       "<td>b'Pf3D7_05_v3'</td>\n",
       "<td style='text-align: right'>1</td>\n",
       "<td style='text-align: right'>1283489</td>\n",
       "</tr>\n",
       "</tbody>\n",
       "</table>\n",
       "<p><strong>...</strong></p>"
      ]
     },
     "metadata": {},
     "output_type": "display_data"
    }
   ],
   "source": [
    "tbl_co_by_chrom = [['cross', 'sample', 'chrom', 'count']]\n",
    "\n",
    "for cross, sample in sorted(tbl_co.values(('cross', 'sample')).set()):\n",
    "    for chrom in CHROMOSOMES:\n",
    "        n = tbl_co.select(lambda row: row.cross == cross and row.sample == sample and row.chrom == chrom).nrows()\n",
    "        tbl_co_by_chrom.append([cross, sample, chrom, n])\n",
    "\n",
    "tbl_co_by_chrom = (etl\n",
    "    .wrap(tbl_co_by_chrom)\n",
    "    .addfield('span', lambda row: lkp_span[str(row.chrom, 'ascii')])\n",
    ")\n",
    "tbl_co_by_chrom.display()"
   ]
  },
  {
   "cell_type": "code",
   "execution_count": 17,
   "metadata": {
    "collapsed": false
   },
   "outputs": [],
   "source": [
    "df_co_by_chrom = tbl_co_by_chrom.todataframe()"
   ]
  },
  {
   "cell_type": "code",
   "execution_count": 18,
   "metadata": {
    "collapsed": false
   },
   "outputs": [
    {
     "data": {
      "image/png": "[encoded data removed]",
      "text/plain": [
       "<matplotlib.figure.Figure at 0x7fd0fc256be0>"
      ]
     },
     "metadata": {},
     "output_type": "display_data"
    }
   ],
   "source": [
    "plot = sns.lmplot('span', 'count', df_co_by_chrom, x_estimator=np.mean, col='cross')\n",
    "plot.set(ylim=(0, 4));"
   ]
  },
  {
   "cell_type": "code",
   "execution_count": 19,
   "metadata": {
    "collapsed": false
   },
   "outputs": [],
   "source": [
    "def plot_co_rate_by_chrom(ax, scatter_kws=dict()):\n",
    "    sns.despine(ax=ax)\n",
    "    sns.offset_spines(ax=ax)\n",
    "    sns.regplot('span', 'count', df_co_by_chrom, x_estimator=np.mean, scatter_kws=scatter_kws, ax=ax)\n",
    "    ax.set_xlabel('chromosome marker span (bp)')\n",
    "    ax.set_ylabel('genetic map length (Morgan)')\n",
    "    ax.set_ylim(0, 3)\n"
   ]
  },
  {
   "cell_type": "code",
   "execution_count": 20,
   "metadata": {
    "collapsed": false
   },
   "outputs": [
    {
     "name": "stderr",
     "output_type": "stream",
     "text": [
      "/usr/local/lib/python3.5/dist-packages/seaborn/utils.py:260: UserWarning: `offset_spines` is deprecated and will be removed in v0.5\n",
      "  warnings.warn(warn_msg, UserWarning)\n"
     ]
    },
    {
     "data": {
      "image/png": "[encoded data removed]",
      "text/plain": [
       "<matplotlib.figure.Figure at 0x7fd08a86c470>"
      ]
     },
     "metadata": {},
     "output_type": "display_data"
    }
   ],
   "source": [
    "width = 8/3\n",
    "height = width\n",
    "fig, ax = plt.subplots(figsize=(width, height))\n",
    "plot_co_rate_by_chrom(ax, scatter_kws=dict(s=12))\n",
    "ax.set_xticks(range(0, 3500000, 1000000))\n",
    "ax.set_xticklabels(range(0, 4, 1))\n",
    "ax.set_xlabel('chromosome marker span (Mbp)')\n",
    "ax.set_title('B', fontweight='bold')\n",
    "fig.tight_layout()\n",
    "fig.savefig('../../artwork/main/fig3B.jpg', dpi=900, jpeg_quality=100)"
   ]
  },
  {
   "cell_type": "markdown",
   "metadata": {},
   "source": [
    "## CO rate relative to centromere"
   ]
  },
  {
   "cell_type": "markdown",
   "metadata": {},
   "source": [
    "TODO redo with newer genome annotations to get an extra centromere"
   ]
  },
  {
   "cell_type": "code",
   "execution_count": 21,
   "metadata": {
    "collapsed": false
   },
   "outputs": [
    {
     "name": "stdout",
     "output_type": "stream",
     "text": [
      "1087\n"
     ]
    },
    {
     "data": {
      "text/html": [
       "<div>\n",
       "<table border=\"1\" class=\"dataframe\">\n",
       "  <thead>\n",
       "    <tr style=\"text-align: right;\">\n",
       "      <th></th>\n",
       "      <th>sample</th>\n",
       "      <th>chrom</th>\n",
       "      <th>co_pos_mid</th>\n",
       "      <th>co_pos_min</th>\n",
       "      <th>co_pos_max</th>\n",
       "      <th>co_pos_range</th>\n",
       "      <th>cross</th>\n",
       "      <th>co_from_parent</th>\n",
       "      <th>co_to_parent</th>\n",
       "      <th>cen_dist</th>\n",
       "    </tr>\n",
       "  </thead>\n",
       "  <tbody>\n",
       "    <tr>\n",
       "      <th>0</th>\n",
       "      <td>B1SD/PG0015-C/ERR019044</td>\n",
       "      <td>b'Pf3D7_01_v3'</td>\n",
       "      <td>145052</td>\n",
       "      <td>144877</td>\n",
       "      <td>145227</td>\n",
       "      <td>350</td>\n",
       "      <td>hb3_dd2</td>\n",
       "      <td>hb3</td>\n",
       "      <td>dd2</td>\n",
       "      <td>314069</td>\n",
       "    </tr>\n",
       "    <tr>\n",
       "      <th>1</th>\n",
       "      <td>GC03/PG0021-C/ERR015447</td>\n",
       "      <td>b'Pf3D7_01_v3'</td>\n",
       "      <td>163584</td>\n",
       "      <td>163145</td>\n",
       "      <td>164024</td>\n",
       "      <td>879</td>\n",
       "      <td>hb3_dd2</td>\n",
       "      <td>dd2</td>\n",
       "      <td>hb3</td>\n",
       "      <td>295537</td>\n",
       "    </tr>\n",
       "    <tr>\n",
       "      <th>2</th>\n",
       "      <td>XF12/PG0102-C/ERR029143</td>\n",
       "      <td>b'Pf3D7_01_v3'</td>\n",
       "      <td>206769</td>\n",
       "      <td>205803</td>\n",
       "      <td>207736</td>\n",
       "      <td>1933</td>\n",
       "      <td>7g8_gb4</td>\n",
       "      <td>gb4</td>\n",
       "      <td>7g8</td>\n",
       "      <td>252352</td>\n",
       "    </tr>\n",
       "    <tr>\n",
       "      <th>3</th>\n",
       "      <td>7C159/PG0040-Cx/ERR107475</td>\n",
       "      <td>b'Pf3D7_01_v3'</td>\n",
       "      <td>206905</td>\n",
       "      <td>206074</td>\n",
       "      <td>207736</td>\n",
       "      <td>1662</td>\n",
       "      <td>hb3_dd2</td>\n",
       "      <td>hb3</td>\n",
       "      <td>dd2</td>\n",
       "      <td>252216</td>\n",
       "    </tr>\n",
       "    <tr>\n",
       "      <th>4</th>\n",
       "      <td>CH3_61/PG0033-Cx/ERR175544</td>\n",
       "      <td>b'Pf3D7_01_v3'</td>\n",
       "      <td>206905</td>\n",
       "      <td>206074</td>\n",
       "      <td>207736</td>\n",
       "      <td>1662</td>\n",
       "      <td>hb3_dd2</td>\n",
       "      <td>dd2</td>\n",
       "      <td>hb3</td>\n",
       "      <td>252216</td>\n",
       "    </tr>\n",
       "  </tbody>\n",
       "</table>\n",
       "</div>"
      ],
      "text/plain": [
       "                       sample           chrom  co_pos_mid  co_pos_min  \\\n",
       "0     B1SD/PG0015-C/ERR019044  b'Pf3D7_01_v3'      145052      144877   \n",
       "1     GC03/PG0021-C/ERR015447  b'Pf3D7_01_v3'      163584      163145   \n",
       "2     XF12/PG0102-C/ERR029143  b'Pf3D7_01_v3'      206769      205803   \n",
       "3   7C159/PG0040-Cx/ERR107475  b'Pf3D7_01_v3'      206905      206074   \n",
       "4  CH3_61/PG0033-Cx/ERR175544  b'Pf3D7_01_v3'      206905      206074   \n",
       "\n",
       "   co_pos_max  co_pos_range    cross co_from_parent co_to_parent  cen_dist  \n",
       "0      145227           350  hb3_dd2            hb3          dd2    314069  \n",
       "1      164024           879  hb3_dd2            dd2          hb3    295537  \n",
       "2      207736          1933  7g8_gb4            gb4          7g8    252352  \n",
       "3      207736          1662  hb3_dd2            hb3          dd2    252216  \n",
       "4      207736          1662  hb3_dd2            dd2          hb3    252216  "
      ]
     },
     "execution_count": 21,
     "metadata": {},
     "output_type": "execute_result"
    }
   ],
   "source": [
    "def distance_to_centromere(row):\n",
    "    cen_id = 'PF3D7_CEN' + str(row.chrom[6:8], 'ascii')\n",
    "    cen = lkp_feature[cen_id]\n",
    "    cen_pos = (cen['feature_start'] + cen['feature_stop'])/2\n",
    "    return abs(row.co_pos_mid - cen_pos)\n",
    "\n",
    "df_co_cen = (\n",
    "    tbl_co\n",
    "    .lt('co_pos_range', 10000)  # require 10kb certainty\n",
    "    .ne('chrom', b'Pf3D7_10_v3')  # no centromere\n",
    "    .todataframe()\n",
    ")\n",
    "df_co_cen['cen_dist'] = df_co_cen.apply(distance_to_centromere, axis=1)\n",
    "print(len(df_co_cen))\n",
    "df_co_cen.head()"
   ]
  },
  {
   "cell_type": "code",
   "execution_count": 22,
   "metadata": {
    "collapsed": false
   },
   "outputs": [
    {
     "data": {
      "text/html": [
       "<table class='petl'>\n",
       "<thead>\n",
       "<tr>\n",
       "<th>0|chrom</th>\n",
       "<th>1|core_start</th>\n",
       "<th>2|core_stop</th>\n",
       "<th>3|cen_start</th>\n",
       "<th>4|cen_stop</th>\n",
       "<th>5|cen_pos</th>\n",
       "</tr>\n",
       "</thead>\n",
       "<tbody>\n",
       "<tr>\n",
       "<td>Pf3D7_01_v3</td>\n",
       "<td style='text-align: right'>92901</td>\n",
       "<td style='text-align: right'>575900</td>\n",
       "<td style='text-align: right'>457931</td>\n",
       "<td style='text-align: right'>460311</td>\n",
       "<td style='text-align: right'>459121.0</td>\n",
       "</tr>\n",
       "<tr>\n",
       "<td>Pf3D7_02_v3</td>\n",
       "<td style='text-align: right'>105801</td>\n",
       "<td style='text-align: right'>862500</td>\n",
       "<td style='text-align: right'>447300</td>\n",
       "<td style='text-align: right'>450450</td>\n",
       "<td style='text-align: right'>448875.0</td>\n",
       "</tr>\n",
       "<tr>\n",
       "<td>Pf3D7_03_v3</td>\n",
       "<td style='text-align: right'>70631</td>\n",
       "<td style='text-align: right'>1003060</td>\n",
       "<td style='text-align: right'>597816</td>\n",
       "<td style='text-align: right'>600275</td>\n",
       "<td style='text-align: right'>599045.5</td>\n",
       "</tr>\n",
       "<tr>\n",
       "<td>Pf3D7_04_v3</td>\n",
       "<td style='text-align: right'>91421</td>\n",
       "<td style='text-align: right'>1143990</td>\n",
       "<td style='text-align: right'>642003</td>\n",
       "<td style='text-align: right'>644529</td>\n",
       "<td style='text-align: right'>643266.0</td>\n",
       "</tr>\n",
       "<tr>\n",
       "<td>Pf3D7_05_v3</td>\n",
       "<td style='text-align: right'>37901</td>\n",
       "<td style='text-align: right'>1321390</td>\n",
       "<td style='text-align: right'>455740</td>\n",
       "<td style='text-align: right'>457252</td>\n",
       "<td style='text-align: right'>456496.0</td>\n",
       "</tr>\n",
       "</tbody>\n",
       "</table>\n",
       "<p><strong>...</strong></p>"
      ],
      "text/plain": [
       "+---------------+------------+-----------+-----------+----------+----------+\n",
       "| chrom         | core_start | core_stop | cen_start | cen_stop | cen_pos  |\n",
       "+===============+============+===========+===========+==========+==========+\n",
       "| 'Pf3D7_01_v3' |      92901 |    575900 |    457931 |   460311 | 459121.0 |\n",
       "+---------------+------------+-----------+-----------+----------+----------+\n",
       "| 'Pf3D7_02_v3' |     105801 |    862500 |    447300 |   450450 | 448875.0 |\n",
       "+---------------+------------+-----------+-----------+----------+----------+\n",
       "| 'Pf3D7_03_v3' |      70631 |   1003060 |    597816 |   600275 | 599045.5 |\n",
       "+---------------+------------+-----------+-----------+----------+----------+\n",
       "| 'Pf3D7_04_v3' |      91421 |   1143990 |    642003 |   644529 | 643266.0 |\n",
       "+---------------+------------+-----------+-----------+----------+----------+\n",
       "| 'Pf3D7_05_v3' |      37901 |   1321390 |    455740 |   457252 | 456496.0 |\n",
       "+---------------+------------+-----------+-----------+----------+----------+\n",
       "..."
      ]
     },
     "execution_count": 22,
     "metadata": {},
     "output_type": "execute_result"
    }
   ],
   "source": [
    "def get_cen_pos(chrom):\n",
    "    cen_id = 'PF3D7_CEN' + chrom[6:8]\n",
    "    cen = lkp_feature[cen_id]\n",
    "    return cen['feature_start'], cen['feature_stop']\n",
    "\n",
    "tbl_chrom_cen = (\n",
    "    tbl_regions_1b\n",
    "    .ne('region_chrom', 'Pf3D7_10_v3')\n",
    "    .eq('region_type', 'Core')\n",
    "    .aggregate(key='region_chrom', \n",
    "               aggregation={'core_start': ('region_start', min), 'core_stop': ('region_stop', max)})\n",
    "    .rename('region_chrom', 'chrom')\n",
    "    .addfield('cen', lambda row: get_cen_pos(row.chrom))\n",
    "    .unpack('cen', ['cen_start', 'cen_stop'])\n",
    "    .addfield('cen_pos', lambda row: (row.cen_start + row.cen_stop)/2)\n",
    ")\n",
    "tbl_chrom_cen"
   ]
  },
  {
   "cell_type": "code",
   "execution_count": 23,
   "metadata": {
    "collapsed": false
   },
   "outputs": [],
   "source": [
    "def plot_co_rate_cen(window_size=20000, ax=None, scatter_kws=dict()):\n",
    "    XX = list()  # distance to centromere\n",
    "    YY = list()  # CO recombination rate\n",
    "\n",
    "    # N.B., we need to account for the fact that some chromosomes are bigger than others.\n",
    "    # Consider each chromosome separately, move upstream and downstream of centromere separately.\n",
    "    # Gather what data there are.\n",
    "    # Should mean that estimates of recombination rate further from centromere have greater uncertainty.\n",
    "    # However should not mean there is any other effect of chromosome size.\n",
    "    for row in tbl_chrom_cen.records():\n",
    "        \n",
    "        # downstream\n",
    "        max_dist = row.core_stop - row.cen_pos\n",
    "        bins = np.arange(0, max_dist, window_size)\n",
    "        X = (bins[:-1] + bins[1:])/2.\n",
    "        # recombination rate\n",
    "        D = df_co_cen[(df_co_cen.chrom == row.chrom.encode('ascii')) & (df_co_cen.co_pos_min > row.cen_pos)].cen_dist\n",
    "        Y, _ = np.histogram(D, bins=bins)\n",
    "        XX.append(X)\n",
    "        YY.append(Y)\n",
    "        \n",
    "        # upstream\n",
    "        min_dist = row.cen_pos - row.core_start\n",
    "        bins = np.arange(0, min_dist, window_size)\n",
    "        X = (bins[:-1] + bins[1:])/2.\n",
    "        # recombination rate\n",
    "        D = df_co_cen[(df_co_cen.chrom == row.chrom.encode('ascii')) & (df_co_cen.co_pos_max < row.cen_pos)].cen_dist\n",
    "        Y, _ = np.histogram(D, bins=bins)\n",
    "        XX.append(X)\n",
    "        YY.append(Y)\n",
    "    \n",
    "    XX = np.concatenate(XX)\n",
    "    YY = np.concatenate(YY)\n",
    "    YY = YY / np.sum(list(n_progeny.values()))  # Morgan\n",
    "    YY = YY / (window_size/1e6)  # Morgan/Mbp\n",
    "    \n",
    "    if ax is None:\n",
    "        fig, ax = plt.subplots()\n",
    "    sns.despine(ax=ax, offset=5)\n",
    "    sns.regplot(XX, YY, x_estimator=np.mean, x_ci=95, ax=ax, fit_reg=False, scatter_kws=scatter_kws)\n",
    "    ax.set_xlim(0, 700000)\n",
    "    ax.set_ylim(0, 2)\n",
    "    ax.set_ylabel('CO recombination rate (Morgan/Mbp)')\n",
    "    ax.set_xlabel('distance from centromere (bp)')\n",
    "    ax.axhline(np.mean(YY), linestyle=':', linewidth=.5)\n",
    "    \n",
    "    "
   ]
  },
  {
   "cell_type": "code",
   "execution_count": 24,
   "metadata": {
    "collapsed": false
   },
   "outputs": [
    {
     "data": {
      "image/png": "[encoded data removed]",
      "text/plain": [
       "<matplotlib.figure.Figure at 0x7fd08a408630>"
      ]
     },
     "metadata": {},
     "output_type": "display_data"
    }
   ],
   "source": [
    "width = 8/3\n",
    "height = width\n",
    "fig, ax = plt.subplots(figsize=(width, height))\n",
    "plot_co_rate_cen(30000, ax=ax, scatter_kws=dict(s=12))\n",
    "ax.set_xlim(0, 510000)\n",
    "ax.set_xticks(range(0, 600000, 100000))\n",
    "ax.set_xticklabels(range(0, 600, 100))\n",
    "ax.set_xlabel('distance from centromere (kbp)')\n",
    "ax.set_title('C', fontweight='bold')\n",
    "fig.tight_layout()\n",
    "fig.savefig('../../artwork/main/fig3C.jpg', dpi=900, jpeg_quality=100)"
   ]
  },
  {
   "cell_type": "code",
   "execution_count": 25,
   "metadata": {
    "collapsed": false
   },
   "outputs": [
    {
     "data": {
      "text/plain": [
       "20.32"
      ]
     },
     "execution_count": 25,
     "metadata": {},
     "output_type": "execute_result"
    }
   ],
   "source": [
    "8 * 2.54"
   ]
  },
  {
   "cell_type": "code",
   "execution_count": 26,
   "metadata": {
    "collapsed": false
   },
   "outputs": [
    {
     "data": {
      "text/plain": [
       "13.546666666666667"
      ]
     },
     "execution_count": 26,
     "metadata": {},
     "output_type": "execute_result"
    }
   ],
   "source": [
    "(16/3)*2.54"
   ]
  },
  {
   "cell_type": "code",
   "execution_count": null,
   "metadata": {
    "collapsed": true
   },
   "outputs": [],
   "source": []
  }
 ],
 "metadata": {
  "kernelspec": {
   "display_name": "Python 3",
   "language": "python",
   "name": "python3"
  },
  "language_info": {
   "codemirror_mode": {
    "name": "ipython",
    "version": 3
   },
   "file_extension": ".py",
   "mimetype": "text/x-python",
   "name": "python",
   "nbconvert_exporter": "python",
   "pygments_lexer": "ipython3",
   "version": "3.5.0+"
  }
 },
 "nbformat": 4,
 "nbformat_minor": 0
}
