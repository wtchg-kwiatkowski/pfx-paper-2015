{
 "metadata": {
  "name": "",
  "signature": "sha256:de43696fe9cc326d88f13fb6d49c329b495f677ce5bad5f0fcf78d78cfbe64bd"
 },
 "nbformat": 3,
 "nbformat_minor": 0,
 "worksheets": [
  {
   "cells": [
    {
     "cell_type": "heading",
     "level": 1,
     "metadata": {},
     "source": [
      "Figure 3A/B/C, crossover recombination"
     ]
    },
    {
     "cell_type": "code",
     "collapsed": false,
     "input": [
      "from __future__ import division\n",
      "%run shared_setup.ipynb\n",
      "%run plotting_setup.ipynb"
     ],
     "language": "python",
     "metadata": {},
     "outputs": [],
     "prompt_number": 1
    },
    {
     "cell_type": "code",
     "collapsed": false,
     "input": [
      "# load variation data\n",
      "sample_exclusions = dup_samples.copy()\n",
      "for cross in excessive_recomb_samples:\n",
      "    sample_exclusions[cross] += excessive_recomb_samples[cross]\n",
      "\n",
      "callsets = load_callsets(COMBINED_CALLSET_FN_TEMPLATE, \n",
      "                         sample_exclusions=sample_exclusions, \n",
      "                         variant_filter='FILTER_PASS',\n",
      "                         call_filter=combined_conf_calls)\n",
      "\n",
      "samples = {cross: callsets[cross]['calldata'].dtype.names\n",
      "           for cross in CROSSES}\n",
      "progeny = {cross: samples[cross][2:] for cross in CROSSES}\n",
      "n_progeny = {cross: len(progeny[cross]) for cross in CROSSES}\n",
      "print n_progeny\n",
      "print np.sum(n_progeny.values())"
     ],
     "language": "python",
     "metadata": {},
     "outputs": [
      {
       "output_type": "stream",
       "stream": "stderr",
       "text": [
        "2014-12-10 15:42:27.932538 :: loading /data/plasmodium/pfalciparum/pf-crosses/data/public/20141022/3d7_hb3.combined.final.npz\n"
       ]
      },
      {
       "output_type": "stream",
       "stream": "stderr",
       "text": [
        "2014-12-10 15:42:28.268819 :: filter variants: excluding 157 (0.4%) retaining 42087 (99.6%) of 42244 variants\n"
       ]
      },
      {
       "output_type": "stream",
       "stream": "stderr",
       "text": [
        "2014-12-10 15:42:28.302732 :: filter samples: excluding ['C01/PG0062-C/ERR019070', 'C02/PG0053-C/ERR019067', 'C02/PG0055-C/ERR019066', 'C02/PG0056-C/ERR019068'] including ['3D7/PG0051-C/ERR019061', 'HB3/PG0052-C/ERR019054', 'C01/PG0065-C/ERR019064', 'C02/PG0067-C/ERR019073', 'C03/PG0066-C/ERR019072', 'C04/PG0061-C/ERR019059', 'C05/PG0068-C/ERR019065', 'C06/PG0069-C/ERR019055', 'C07/PG0070-C/ERR019056', 'C08/PG0071-C/ERR019074', 'C09/PG0072-C/ERR019057', 'C10/PG0063-C/ERR019060', 'C11/PG0064-C/ERR019071', 'C12/PG0058-C/ERR019063', 'C13/PG0054-C/ERR019062', 'C14/PG0060-C/ERR019058', 'C15/PG0057-C/ERR019069']\n"
       ]
      },
      {
       "output_type": "stream",
       "stream": "stderr",
       "text": [
        "2014-12-10 15:42:28.381872 :: filter calls: excluding 2216 (0.3%) retaining 713263 (99.7%) of 715479 calls\n"
       ]
      },
      {
       "output_type": "stream",
       "stream": "stderr",
       "text": [
        "2014-12-10 15:42:28.382814 :: loading /data/plasmodium/pfalciparum/pf-crosses/data/public/20141022/hb3_dd2.combined.final.npz\n"
       ]
      },
      {
       "output_type": "stream",
       "stream": "stderr",
       "text": [
        "2014-12-10 15:42:28.740436 :: filter variants: excluding 450 (1.2%) retaining 36461 (98.8%) of 36911 variants\n"
       ]
      },
      {
       "output_type": "stream",
       "stream": "stderr",
       "text": [
        "2014-12-10 15:42:28.788040 :: filter samples: excluding ['SC01/PG0025-C/ERR019045'] including ['HB3/PG0004-CW/ERR012788', 'DD2/PG0008-CW/ERR012840', '1BB5/PG0023-C/ERR015449', '3BA6/PG0022-Cx/ERR126027', '3BD5/PG0024-C/ERR019053', '7C101/PG0074-C/ERR019048', '7C111/PG0038-C/ERR015457', '7C12/PG0035-Cx/ERR037704', '7C126/PG0047-C/ERR015452', '7C140/PG0039-C/ERR015454', '7C159/PG0040-Cx/ERR107475', '7C16/PG0036-C/ERR015455', '7C170/PG0041-C/ERR015446', '7C183/PG0042-C/ERR015448', '7C188/PG0030-C/ERR019046', '7C20/PG0037-C/ERR015451', '7C3/PG0034-C/ERR019047', '7C408/PG0031-C/ERR015458', '7C421/PG0043-C/ERR015459', '7C424/PG0044-C/ERR019043', '7C46/PG0046-Cx/ERR107476', '7C7/PG0048-C/ERR019049', 'B1SD/PG0015-C/ERR019044', 'B4R3/PG0018-C/ERR019042', 'CH3_116/PG0032-Cx/ERR037703', 'CH3_61/PG0033-Cx/ERR175544', 'D43/PG0029-Cx/ERR107474', 'GC03/PG0021-C/ERR015447', 'GC06/PG0028-C/ERR015456', 'QC01/PG0017-C/ERR019050', 'QC13/PG0016-C/ERR012895', 'QC23/PG0045-C/ERR012892', 'QC34/PG0026-C/ERR015453', 'SC05/PG0019-C/ERR019051', 'TC05/PG0027-C/ERR015450', 'TC08/PG0020-C/ERR019052']\n"
       ]
      },
      {
       "output_type": "stream",
       "stream": "stderr",
       "text": [
        "2014-12-10 15:42:28.883725 :: filter calls: excluding 28934 (2.2%) retaining 1283662 (97.8%) of 1312596 calls\n"
       ]
      },
      {
       "output_type": "stream",
       "stream": "stderr",
       "text": [
        "2014-12-10 15:42:28.885580 :: loading /data/plasmodium/pfalciparum/pf-crosses/data/public/20141022/7g8_gb4.combined.final.npz\n"
       ]
      },
      {
       "output_type": "stream",
       "stream": "stderr",
       "text": [
        "2014-12-10 15:42:29.324185 :: filter variants: excluding 304 (0.9%) retaining 34471 (99.1%) of 34775 variants\n"
       ]
      },
      {
       "output_type": "stream",
       "stream": "stderr",
       "text": [
        "2014-12-10 15:42:29.371691 :: filter samples: excluding ['AUD/PG0112-CW/ERR045639', 'JC9/PG0111-C/ERR029409', 'JE11/PG0100-CW/ERR045630', 'JF6/PG0079-CW/ERR045637', 'KB8/PG0104-CW/ERR045642', 'LA10/PG0086-CW/ERR045629', 'NIC/PG0095-C/ERR027107', 'QF5/PG0078-CW/ERR045638', 'XD8/PG0105-CW/ERR045628', 'XF12/PG0102-CW/ERR045635', 'D2/PG0094-CW/ERR045632'] including ['7G8/PG0083-C/ERR027099', 'GB4/PG0084-C/ERR027100', 'AL2/PG0103-CW/ERR045627', 'AUD/PG0112-C/ERR029406', 'DAN/PG0098-C/ERR027110', 'DEV/PG0081-CW/ERR045633', 'JB12/PG0099-C/ERR029146', 'JB8/PG0087-C/ERR029091', 'JC3/PG0077-CW/ERR045636', 'JC9/PG0111-CW/ERR045634', 'JE11/PG0100-C/ERR029404', 'JF6/PG0079-C/ERR027102', 'JON/PG0107-C/ERR029408', 'KA6/PG0091-C/ERR027117', 'KB8/PG0104-C/ERR029148', 'KH7/PG0088-C/ERR027111', 'LA10/PG0086-C/ERR029090', 'NF10/PG0096-C/ERR027108', 'NIC/PG0095-CW/ERR045631', 'QF5/PG0078-C/ERR029092', 'TF1/PG0080-C/ERR027103', 'WC4/PG0082-C/ERR029093', 'WE2/PG0085-C/ERR027101', 'WF12/PG0097-C/ERR027109', 'XB3/PG0093-C/ERR029105', 'XD8/PG0105-C/ERR029144', 'XE7/PG0106-C/ERR029407', 'XF12/PG0102-C/ERR029143', 'XG10/PG0109-C/ERR029405']\n"
       ]
      },
      {
       "output_type": "stream",
       "stream": "stderr",
       "text": [
        "2014-12-10 15:42:29.454018 :: filter calls: excluding 12209 (1.2%) retaining 987450 (98.8%) of 999659 calls\n"
       ]
      },
      {
       "output_type": "stream",
       "stream": "stdout",
       "text": [
        "{'3d7_hb3': 15, 'hb3_dd2': 34, '7g8_gb4': 27}\n",
        "76\n"
       ]
      }
     ],
     "prompt_number": 2
    },
    {
     "cell_type": "heading",
     "level": 2,
     "metadata": {},
     "source": [
      "How many CO events in total?"
     ]
    },
    {
     "cell_type": "code",
     "collapsed": false,
     "input": [
      "tbl_co = etl.frompickle(os.path.join(PUBLIC_DIR, 'tbl_co.pickle'))\n",
      "display_with_nrows(tbl_co, caption='CO events')"
     ],
     "language": "python",
     "metadata": {},
     "outputs": [
      {
       "html": [
        "<table class='petl'>\r\n",
        "<caption>CO events (1194 rows)</caption>\r\n",
        "<thead>\r\n",
        "<tr>\r\n",
        "<th>0|sample</th>\r\n",
        "<th>1|chrom</th>\r\n",
        "<th>2|co_pos_mid</th>\r\n",
        "<th>3|co_pos_min</th>\r\n",
        "<th>4|co_pos_max</th>\r\n",
        "<th>5|co_pos_range</th>\r\n",
        "<th>6|cross</th>\r\n",
        "<th>7|co_from_parent</th>\r\n",
        "<th>8|co_to_parent</th>\r\n",
        "</tr>\r\n",
        "</thead>\r\n",
        "<tbody>\r\n",
        "<tr>\r\n",
        "<td>B1SD/PG0015-C/ERR019044</td>\r\n",
        "<td>Pf3D7_01_v3</td>\r\n",
        "<td style='text-align: right'>145052</td>\r\n",
        "<td style='text-align: right'>144877</td>\r\n",
        "<td style='text-align: right'>145227</td>\r\n",
        "<td style='text-align: right'>350</td>\r\n",
        "<td>hb3_dd2</td>\r\n",
        "<td>hb3</td>\r\n",
        "<td>dd2</td>\r\n",
        "</tr>\r\n",
        "<tr>\r\n",
        "<td>GC03/PG0021-C/ERR015447</td>\r\n",
        "<td>Pf3D7_01_v3</td>\r\n",
        "<td style='text-align: right'>163584</td>\r\n",
        "<td style='text-align: right'>163145</td>\r\n",
        "<td style='text-align: right'>164024</td>\r\n",
        "<td style='text-align: right'>879</td>\r\n",
        "<td>hb3_dd2</td>\r\n",
        "<td>dd2</td>\r\n",
        "<td>hb3</td>\r\n",
        "</tr>\r\n",
        "<tr>\r\n",
        "<td>XF12/PG0102-C/ERR029143</td>\r\n",
        "<td>Pf3D7_01_v3</td>\r\n",
        "<td style='text-align: right'>206769</td>\r\n",
        "<td style='text-align: right'>205803</td>\r\n",
        "<td style='text-align: right'>207736</td>\r\n",
        "<td style='text-align: right'>1933</td>\r\n",
        "<td>7g8_gb4</td>\r\n",
        "<td>gb4</td>\r\n",
        "<td>7g8</td>\r\n",
        "</tr>\r\n",
        "<tr>\r\n",
        "<td>7C159/PG0040-Cx/ERR107475</td>\r\n",
        "<td>Pf3D7_01_v3</td>\r\n",
        "<td style='text-align: right'>206905</td>\r\n",
        "<td style='text-align: right'>206074</td>\r\n",
        "<td style='text-align: right'>207736</td>\r\n",
        "<td style='text-align: right'>1662</td>\r\n",
        "<td>hb3_dd2</td>\r\n",
        "<td>hb3</td>\r\n",
        "<td>dd2</td>\r\n",
        "</tr>\r\n",
        "<tr>\r\n",
        "<td>CH3_61/PG0033-Cx/ERR175544</td>\r\n",
        "<td>Pf3D7_01_v3</td>\r\n",
        "<td style='text-align: right'>206905</td>\r\n",
        "<td style='text-align: right'>206074</td>\r\n",
        "<td style='text-align: right'>207736</td>\r\n",
        "<td style='text-align: right'>1662</td>\r\n",
        "<td>hb3_dd2</td>\r\n",
        "<td>dd2</td>\r\n",
        "<td>hb3</td>\r\n",
        "</tr>\r\n",
        "</tbody>\r\n",
        "</table>\r\n",
        "<p><strong>...</strong></p>"
       ],
       "metadata": {},
       "output_type": "display_data"
      }
     ],
     "prompt_number": 4
    },
    {
     "cell_type": "code",
     "collapsed": false,
     "input": [
      "(tbl_co\n",
      " .valuecounts('cross')\n",
      "  .addfield('count_per_meiosis', \n",
      "            lambda row: row['count'] / n_progeny[row['cross']])\n",
      " .display(caption='CO events by cross')\n",
      ")"
     ],
     "language": "python",
     "metadata": {},
     "outputs": [
      {
       "html": [
        "<table class='petl'>\r\n",
        "<caption>CO events by cross</caption>\r\n",
        "<thead>\r\n",
        "<tr>\r\n",
        "<th>0|cross</th>\r\n",
        "<th>1|count</th>\r\n",
        "<th>2|frequency</th>\r\n",
        "<th>3|count_per_meiosis</th>\r\n",
        "</tr>\r\n",
        "</thead>\r\n",
        "<tbody>\r\n",
        "<tr>\r\n",
        "<td>hb3_dd2</td>\r\n",
        "<td style='text-align: right'>544</td>\r\n",
        "<td style='text-align: right'>0.455611390285</td>\r\n",
        "<td style='text-align: right'>16.0</td>\r\n",
        "</tr>\r\n",
        "<tr>\r\n",
        "<td>7g8_gb4</td>\r\n",
        "<td style='text-align: right'>385</td>\r\n",
        "<td style='text-align: right'>0.322445561139</td>\r\n",
        "<td style='text-align: right'>14.2592592593</td>\r\n",
        "</tr>\r\n",
        "<tr>\r\n",
        "<td>3d7_hb3</td>\r\n",
        "<td style='text-align: right'>265</td>\r\n",
        "<td style='text-align: right'>0.221943048576</td>\r\n",
        "<td style='text-align: right'>17.6666666667</td>\r\n",
        "</tr>\r\n",
        "</tbody>\r\n",
        "</table>\r\n"
       ],
       "metadata": {},
       "output_type": "display_data"
      }
     ],
     "prompt_number": 8
    },
    {
     "cell_type": "heading",
     "level": 2,
     "metadata": {},
     "source": [
      "CO recombination rate"
     ]
    },
    {
     "cell_type": "code",
     "collapsed": false,
     "input": [
      "# the simple method...\n",
      "X = tbl_co.valuecounts('sample').values('count').list()\n",
      "\n",
      "n = len(X)\n",
      "assert np.sum(n_progeny.values()) == n\n",
      "print 'meioses:', n\n",
      "\n",
      "print 'crossovers:', np.sum(X)\n",
      "\n",
      "mu_hat = np.mean(X)\n",
      "print 'total map length: %.2f' % mu_hat, 'Morgan'\n",
      "\n",
      "mu_stderr = np.sqrt(mu_hat / n)\n",
      "print 'map length stderr:', mu_stderr\n",
      "\n",
      "mu_95ci = 1.96 * mu_stderr\n",
      "print 'map length 95%% CI: %.2f - %.2f' % (mu_hat - mu_95ci, mu_hat + mu_95ci)"
     ],
     "language": "python",
     "metadata": {},
     "outputs": [
      {
       "output_type": "stream",
       "stream": "stdout",
       "text": [
        "meioses: 76\n",
        "crossovers: 1194\n",
        "total map length: 15.71 Morgan\n",
        "map length stderr: 0.454661909031\n",
        "map length 95% CI: 14.82 - 16.60\n"
       ]
      }
     ],
     "prompt_number": 9
    },
    {
     "cell_type": "code",
     "collapsed": false,
     "input": [
      "# calculate marker span using accessibility regions, it's fairer and simpler\n",
      "tbl_marker_span = (\n",
      "    tbl_regions_1b\n",
      "    .eq('region_type', 'Core')\n",
      "    .aggregate(key='region_chrom', \n",
      "               aggregation={'start': ('region_start', min), 'stop': ('region_stop', max)})\n",
      "    .rename('region_chrom', 'chrom')\n",
      "    .addfield('span', lambda row: row.stop - row.start)\n",
      ")\n",
      "total_marker_span = tbl_marker_span.values('span').sum()\n",
      "tbl_marker_span.displayall(caption='Core genome span (total = %.2f)' % (total_marker_span/1e6))"
     ],
     "language": "python",
     "metadata": {},
     "outputs": [
      {
       "html": [
        "<table class='petl'>\r\n",
        "<caption>Core genome span (total = 21.16)</caption>\r\n",
        "<thead>\r\n",
        "<tr>\r\n",
        "<th>0|chrom</th>\r\n",
        "<th>1|start</th>\r\n",
        "<th>2|stop</th>\r\n",
        "<th>3|span</th>\r\n",
        "</tr>\r\n",
        "</thead>\r\n",
        "<tbody>\r\n",
        "<tr>\r\n",
        "<td>Pf3D7_01_v3</td>\r\n",
        "<td style='text-align: right'>92901</td>\r\n",
        "<td style='text-align: right'>575900</td>\r\n",
        "<td style='text-align: right'>482999</td>\r\n",
        "</tr>\r\n",
        "<tr>\r\n",
        "<td>Pf3D7_02_v3</td>\r\n",
        "<td style='text-align: right'>105801</td>\r\n",
        "<td style='text-align: right'>862500</td>\r\n",
        "<td style='text-align: right'>756699</td>\r\n",
        "</tr>\r\n",
        "<tr>\r\n",
        "<td>Pf3D7_03_v3</td>\r\n",
        "<td style='text-align: right'>70631</td>\r\n",
        "<td style='text-align: right'>1003060</td>\r\n",
        "<td style='text-align: right'>932429</td>\r\n",
        "</tr>\r\n",
        "<tr>\r\n",
        "<td>Pf3D7_04_v3</td>\r\n",
        "<td style='text-align: right'>91421</td>\r\n",
        "<td style='text-align: right'>1143990</td>\r\n",
        "<td style='text-align: right'>1052569</td>\r\n",
        "</tr>\r\n",
        "<tr>\r\n",
        "<td>Pf3D7_05_v3</td>\r\n",
        "<td style='text-align: right'>37901</td>\r\n",
        "<td style='text-align: right'>1321390</td>\r\n",
        "<td style='text-align: right'>1283489</td>\r\n",
        "</tr>\r\n",
        "<tr>\r\n",
        "<td>Pf3D7_06_v3</td>\r\n",
        "<td style='text-align: right'>72351</td>\r\n",
        "<td style='text-align: right'>1294830</td>\r\n",
        "<td style='text-align: right'>1222479</td>\r\n",
        "</tr>\r\n",
        "<tr>\r\n",
        "<td>Pf3D7_07_v3</td>\r\n",
        "<td style='text-align: right'>77101</td>\r\n",
        "<td style='text-align: right'>1381600</td>\r\n",
        "<td style='text-align: right'>1304499</td>\r\n",
        "</tr>\r\n",
        "<tr>\r\n",
        "<td>Pf3D7_08_v3</td>\r\n",
        "<td style='text-align: right'>73561</td>\r\n",
        "<td style='text-align: right'>1365730</td>\r\n",
        "<td style='text-align: right'>1292169</td>\r\n",
        "</tr>\r\n",
        "<tr>\r\n",
        "<td>Pf3D7_09_v3</td>\r\n",
        "<td style='text-align: right'>79101</td>\r\n",
        "<td style='text-align: right'>1473560</td>\r\n",
        "<td style='text-align: right'>1394459</td>\r\n",
        "</tr>\r\n",
        "<tr>\r\n",
        "<td>Pf3D7_10_v3</td>\r\n",
        "<td style='text-align: right'>68971</td>\r\n",
        "<td style='text-align: right'>1571815</td>\r\n",
        "<td style='text-align: right'>1502844</td>\r\n",
        "</tr>\r\n",
        "<tr>\r\n",
        "<td>Pf3D7_11_v3</td>\r\n",
        "<td style='text-align: right'>110001</td>\r\n",
        "<td style='text-align: right'>2003320</td>\r\n",
        "<td style='text-align: right'>1893319</td>\r\n",
        "</tr>\r\n",
        "<tr>\r\n",
        "<td>Pf3D7_12_v3</td>\r\n",
        "<td style='text-align: right'>60301</td>\r\n",
        "<td style='text-align: right'>2163700</td>\r\n",
        "<td style='text-align: right'>2103399</td>\r\n",
        "</tr>\r\n",
        "<tr>\r\n",
        "<td>Pf3D7_13_v3</td>\r\n",
        "<td style='text-align: right'>74414</td>\r\n",
        "<td style='text-align: right'>2791900</td>\r\n",
        "<td style='text-align: right'>2717486</td>\r\n",
        "</tr>\r\n",
        "<tr>\r\n",
        "<td>Pf3D7_14_v3</td>\r\n",
        "<td style='text-align: right'>35775</td>\r\n",
        "<td style='text-align: right'>3255710</td>\r\n",
        "<td style='text-align: right'>3219935</td>\r\n",
        "</tr>\r\n",
        "</tbody>\r\n",
        "</table>\r\n"
       ],
       "metadata": {},
       "output_type": "display_data"
      }
     ],
     "prompt_number": 45
    },
    {
     "cell_type": "code",
     "collapsed": false,
     "input": [
      "co_hat = (mu_hat / (total_marker_span / 1e6))\n",
      "print 'CO rate: %.4f Morgan/Mb' % co_hat\n",
      "co_95ci_lower = (mu_hat - mu_95ci) / (total_marker_span / 1e6)\n",
      "co_95ci_upper = (mu_hat + mu_95ci) / (total_marker_span / 1e6)\n",
      "print 'CO rate 95%% CI: %.4f - %.4f Morgan/Mb' % (co_95ci_lower, co_95ci_upper)\n",
      "print\n",
      "print 'CO rate: %.1f kb/cM' % (10/co_hat)\n",
      "print 'CO rate 95%% CI: %.1f - %.1f kb/cM' % (10/co_95ci_upper, 10/co_95ci_lower)"
     ],
     "language": "python",
     "metadata": {},
     "outputs": [
      {
       "output_type": "stream",
       "stream": "stdout",
       "text": [
        "CO rate: 0.7425 Morgan/Mb\n",
        "CO rate 95% CI: 0.7004 - 0.7846 Morgan/Mb\n",
        "\n",
        "CO rate: 13.5 kb/cM\n",
        "CO rate 95% CI: 12.7 - 14.3 kb/cM\n"
       ]
      }
     ],
     "prompt_number": 13
    },
    {
     "cell_type": "heading",
     "level": 2,
     "metadata": {},
     "source": [
      "CO rate by progeny"
     ]
    },
    {
     "cell_type": "code",
     "collapsed": false,
     "input": [
      "tbl_co.valuecounts('sample', 'cross').head(5).display()\n",
      "tbl_co.valuecounts('sample', 'cross').tail(5).display()"
     ],
     "language": "python",
     "metadata": {},
     "outputs": [
      {
       "html": [
        "<table class='petl'>\r\n",
        "<thead>\r\n",
        "<tr>\r\n",
        "<th>0|sample</th>\r\n",
        "<th>1|cross</th>\r\n",
        "<th>2|count</th>\r\n",
        "<th>3|frequency</th>\r\n",
        "</tr>\r\n",
        "</thead>\r\n",
        "<tbody>\r\n",
        "<tr>\r\n",
        "<td>C04/PG0061-C/ERR019059</td>\r\n",
        "<td>3d7_hb3</td>\r\n",
        "<td style='text-align: right'>26</td>\r\n",
        "<td style='text-align: right'>0.0217755443886</td>\r\n",
        "</tr>\r\n",
        "<tr>\r\n",
        "<td>7C408/PG0031-C/ERR015458</td>\r\n",
        "<td>hb3_dd2</td>\r\n",
        "<td style='text-align: right'>25</td>\r\n",
        "<td style='text-align: right'>0.0209380234506</td>\r\n",
        "</tr>\r\n",
        "<tr>\r\n",
        "<td>SC05/PG0019-C/ERR019051</td>\r\n",
        "<td>hb3_dd2</td>\r\n",
        "<td style='text-align: right'>23</td>\r\n",
        "<td style='text-align: right'>0.0192629815745</td>\r\n",
        "</tr>\r\n",
        "<tr>\r\n",
        "<td>CH3_61/PG0033-Cx/ERR175544</td>\r\n",
        "<td>hb3_dd2</td>\r\n",
        "<td style='text-align: right'>22</td>\r\n",
        "<td style='text-align: right'>0.0184254606365</td>\r\n",
        "</tr>\r\n",
        "<tr>\r\n",
        "<td>7C3/PG0034-C/ERR019047</td>\r\n",
        "<td>hb3_dd2</td>\r\n",
        "<td style='text-align: right'>22</td>\r\n",
        "<td style='text-align: right'>0.0184254606365</td>\r\n",
        "</tr>\r\n",
        "</tbody>\r\n",
        "</table>\r\n"
       ],
       "metadata": {},
       "output_type": "display_data"
      },
      {
       "html": [
        "<table class='petl'>\r\n",
        "<thead>\r\n",
        "<tr>\r\n",
        "<th>0|sample</th>\r\n",
        "<th>1|cross</th>\r\n",
        "<th>2|count</th>\r\n",
        "<th>3|frequency</th>\r\n",
        "</tr>\r\n",
        "</thead>\r\n",
        "<tbody>\r\n",
        "<tr>\r\n",
        "<td>JC9/PG0111-CW/ERR045634</td>\r\n",
        "<td>7g8_gb4</td>\r\n",
        "<td style='text-align: right'>9</td>\r\n",
        "<td style='text-align: right'>0.00753768844221</td>\r\n",
        "</tr>\r\n",
        "<tr>\r\n",
        "<td>B4R3/PG0018-C/ERR019042</td>\r\n",
        "<td>hb3_dd2</td>\r\n",
        "<td style='text-align: right'>8</td>\r\n",
        "<td style='text-align: right'>0.00670016750419</td>\r\n",
        "</tr>\r\n",
        "<tr>\r\n",
        "<td>WE2/PG0085-C/ERR027101</td>\r\n",
        "<td>7g8_gb4</td>\r\n",
        "<td style='text-align: right'>8</td>\r\n",
        "<td style='text-align: right'>0.00670016750419</td>\r\n",
        "</tr>\r\n",
        "<tr>\r\n",
        "<td>7C16/PG0036-C/ERR015455</td>\r\n",
        "<td>hb3_dd2</td>\r\n",
        "<td style='text-align: right'>7</td>\r\n",
        "<td style='text-align: right'>0.00586264656616</td>\r\n",
        "</tr>\r\n",
        "<tr>\r\n",
        "<td>JON/PG0107-C/ERR029408</td>\r\n",
        "<td>7g8_gb4</td>\r\n",
        "<td style='text-align: right'>5</td>\r\n",
        "<td style='text-align: right'>0.00418760469012</td>\r\n",
        "</tr>\r\n",
        "</tbody>\r\n",
        "</table>\r\n"
       ],
       "metadata": {},
       "output_type": "display_data"
      }
     ],
     "prompt_number": 15
    },
    {
     "cell_type": "heading",
     "level": 2,
     "metadata": {},
     "source": [
      "CO rate by cross"
     ]
    },
    {
     "cell_type": "code",
     "collapsed": false,
     "input": [
      "# the simple method...\n",
      "\n",
      "for cross in CROSSES:\n",
      "    \n",
      "    print\n",
      "    print LABELS[cross]\n",
      "    X = tbl_co.eq('cross', cross).valuecounts('sample').values('count').list()\n",
      "\n",
      "    n = len(X)\n",
      "    assert n_progeny[cross] == n\n",
      "    print 'meioses:', n\n",
      "\n",
      "    print 'crossovers:', np.sum(X)\n",
      "\n",
      "    mu_hat = np.mean(X)\n",
      "    print 'total map length: %.2f' % mu_hat, 'Morgan'\n",
      "\n",
      "    mu_stderr = np.sqrt(mu_hat / n)\n",
      "    print 'map length stderr:', mu_stderr\n",
      "\n",
      "    mu_95ci = 1.96 * mu_stderr\n",
      "    print 'map length 95%% CI: %.2f - %.2f' % (mu_hat - mu_95ci, mu_hat + mu_95ci)"
     ],
     "language": "python",
     "metadata": {},
     "outputs": [
      {
       "output_type": "stream",
       "stream": "stdout",
       "text": [
        "\n",
        "3D7 x HB3\n",
        "meioses: 15\n",
        "crossovers: 265\n",
        "total map length: 17.67 Morgan\n",
        "map length stderr: 1.08525470641\n",
        "map length 95% CI: 15.54 - 19.79\n",
        "\n",
        "HB3 x Dd2\n",
        "meioses: 34\n",
        "crossovers: 544\n",
        "total map length: 16.00 Morgan\n",
        "map length stderr: 0.68599434057\n",
        "map length 95% CI: 14.66 - 17.34\n",
        "\n",
        "7G8 x GB4\n",
        "meioses: 27\n",
        "crossovers: 385\n",
        "total map length: 14.26 Morgan\n",
        "map length stderr: 0.726719143346\n",
        "map length 95% CI: 12.83 - 15.68\n"
       ]
      }
     ],
     "prompt_number": 16
    },
    {
     "cell_type": "code",
     "collapsed": false,
     "input": [
      "df_co_by_sample = (\n",
      "    tbl_co\n",
      "    .valuecounts('cross', 'sample')\n",
      "    .sort(key=('cross', 'sample'))\n",
      "    .rename('count', 'n_co')\n",
      "    .todataframe()\n",
      ")\n",
      "df_co_by_sample.head()"
     ],
     "language": "python",
     "metadata": {},
     "outputs": [
      {
       "html": [
        "<div style=\"max-height:1000px;max-width:1500px;overflow:auto;\">\n",
        "<table border=\"1\" class=\"dataframe\">\n",
        "  <thead>\n",
        "    <tr style=\"text-align: right;\">\n",
        "      <th></th>\n",
        "      <th>cross</th>\n",
        "      <th>sample</th>\n",
        "      <th>n_co</th>\n",
        "      <th>frequency</th>\n",
        "    </tr>\n",
        "  </thead>\n",
        "  <tbody>\n",
        "    <tr>\n",
        "      <th>0</th>\n",
        "      <td> 3d7_hb3</td>\n",
        "      <td> C01/PG0065-C/ERR019064</td>\n",
        "      <td> 15</td>\n",
        "      <td> 0.012563</td>\n",
        "    </tr>\n",
        "    <tr>\n",
        "      <th>1</th>\n",
        "      <td> 3d7_hb3</td>\n",
        "      <td> C02/PG0067-C/ERR019073</td>\n",
        "      <td> 15</td>\n",
        "      <td> 0.012563</td>\n",
        "    </tr>\n",
        "    <tr>\n",
        "      <th>2</th>\n",
        "      <td> 3d7_hb3</td>\n",
        "      <td> C03/PG0066-C/ERR019072</td>\n",
        "      <td> 17</td>\n",
        "      <td> 0.014238</td>\n",
        "    </tr>\n",
        "    <tr>\n",
        "      <th>3</th>\n",
        "      <td> 3d7_hb3</td>\n",
        "      <td> C04/PG0061-C/ERR019059</td>\n",
        "      <td> 26</td>\n",
        "      <td> 0.021776</td>\n",
        "    </tr>\n",
        "    <tr>\n",
        "      <th>4</th>\n",
        "      <td> 3d7_hb3</td>\n",
        "      <td> C05/PG0068-C/ERR019065</td>\n",
        "      <td> 11</td>\n",
        "      <td> 0.009213</td>\n",
        "    </tr>\n",
        "  </tbody>\n",
        "</table>\n",
        "<p>5 rows \u00d7 4 columns</p>\n",
        "</div>"
       ],
       "metadata": {},
       "output_type": "pyout",
       "prompt_number": 20,
       "text": [
        "     cross                  sample  n_co  frequency\n",
        "0  3d7_hb3  C01/PG0065-C/ERR019064    15   0.012563\n",
        "1  3d7_hb3  C02/PG0067-C/ERR019073    15   0.012563\n",
        "2  3d7_hb3  C03/PG0066-C/ERR019072    17   0.014238\n",
        "3  3d7_hb3  C04/PG0061-C/ERR019059    26   0.021776\n",
        "4  3d7_hb3  C05/PG0068-C/ERR019065    11   0.009213\n",
        "\n",
        "[5 rows x 4 columns]"
       ]
      }
     ],
     "prompt_number": 20
    },
    {
     "cell_type": "code",
     "collapsed": false,
     "input": [
      "vals = [df_co_by_sample[df_co_by_sample.cross == cross]['n_co'].values for cross in CROSSES]\n",
      "\n",
      "f_val, p_val = stats.f_oneway(*vals)\n",
      "print 'ANOVA', f_val, p_val\n",
      "\n",
      "h_val, p_val = stats.kruskal(*vals)\n",
      "print 'Kruskal', h_val, p_val"
     ],
     "language": "python",
     "metadata": {},
     "outputs": [
      {
       "output_type": "stream",
       "stream": "stdout",
       "text": [
        "ANOVA 3.20793043117 0.0462029646224\n",
        "Kruskal 5.53134398344 0.0629337941466\n"
       ]
      }
     ],
     "prompt_number": 21
    },
    {
     "cell_type": "code",
     "collapsed": false,
     "input": [
      "len(df_co_by_sample)"
     ],
     "language": "python",
     "metadata": {},
     "outputs": [
      {
       "metadata": {},
       "output_type": "pyout",
       "prompt_number": 22,
       "text": [
        "76"
       ]
      }
     ],
     "prompt_number": 22
    },
    {
     "cell_type": "code",
     "collapsed": false,
     "input": [
      "def plot_co_rate_by_cross(ax):\n",
      "    X = df_co_by_sample.n_co\n",
      "    F = df_co_by_sample.cross\n",
      "    vals = [X[F == cross] for cross in CROSSES]\n",
      "    sns.despine(ax=ax)\n",
      "    sns.despine(ax=ax, offset=5)\n",
      "    #sns.violinplot(vals, ax=ax, linewidth=.5, )\n",
      "    #sns.boxplot(vals, ax=ax)\n",
      "    ax.boxplot(vals, notch=True, bootstrap=10000)\n",
      "    ax.set_xticklabels([LABELS[cross] for cross in CROSSES], fontsize=8)\n",
      "    ax.set_ylim(0, 30)\n",
      "    ax.set_ylabel('CO recombination rate (Morgan)')\n"
     ],
     "language": "python",
     "metadata": {},
     "outputs": [],
     "prompt_number": 94
    },
    {
     "cell_type": "code",
     "collapsed": false,
     "input": [
      "width = 8/3\n",
      "height = width \n",
      "fig, ax = plt.subplots(figsize=(width, height))\n",
      "ax.set_xlabel('cross', color='w')\n",
      "plot_co_rate_by_cross(ax)\n",
      "ax.set_title('A', fontweight='bold')\n",
      "fig.tight_layout()\n",
      "fig.savefig('../artwork/main/fig3A.jpg', dpi=900, jpeg_quality=100)"
     ],
     "language": "python",
     "metadata": {},
     "outputs": [
      {
       "metadata": {},
       "output_type": "display_data",
       "png": "[encoded data removed]",
       "text": [
        "<matplotlib.figure.Figure at 0x7f2ca0525450>"
       ]
      }
     ],
     "prompt_number": 109
    },
    {
     "cell_type": "heading",
     "level": 2,
     "metadata": {},
     "source": [
      "CO rate by chromosome"
     ]
    },
    {
     "cell_type": "code",
     "collapsed": false,
     "input": [
      "lkp_span = tbl_marker_span.lookupone('chrom', 'span')"
     ],
     "language": "python",
     "metadata": {},
     "outputs": [],
     "prompt_number": 46
    },
    {
     "cell_type": "code",
     "collapsed": false,
     "input": [
      "tbl_co_by_chrom = [['cross', 'sample', 'chrom', 'count']]\n",
      "\n",
      "for cross, sample in sorted(tbl_co.values(('cross', 'sample')).set()):\n",
      "    for chrom in CHROMOSOMES:\n",
      "        n = tbl_co.select(lambda row: row.cross == cross and row.sample == sample and row.chrom == chrom).nrows()\n",
      "        tbl_co_by_chrom.append([cross, sample, chrom, n])\n",
      "\n",
      "tbl_co_by_chrom = (etl\n",
      "    .wrap(tbl_co_by_chrom)\n",
      "    .addfield('span', lambda row: lkp_span[row.chrom])\n",
      ")\n",
      "tbl_co_by_chrom.display()"
     ],
     "language": "python",
     "metadata": {},
     "outputs": [
      {
       "html": [
        "<table class='petl'>\r\n",
        "<thead>\r\n",
        "<tr>\r\n",
        "<th>0|cross</th>\r\n",
        "<th>1|sample</th>\r\n",
        "<th>2|chrom</th>\r\n",
        "<th>3|count</th>\r\n",
        "<th>4|span</th>\r\n",
        "</tr>\r\n",
        "</thead>\r\n",
        "<tbody>\r\n",
        "<tr>\r\n",
        "<td>3d7_hb3</td>\r\n",
        "<td>C01/PG0065-C/ERR019064</td>\r\n",
        "<td>Pf3D7_01_v3</td>\r\n",
        "<td style='text-align: right'>0</td>\r\n",
        "<td style='text-align: right'>482999</td>\r\n",
        "</tr>\r\n",
        "<tr>\r\n",
        "<td>3d7_hb3</td>\r\n",
        "<td>C01/PG0065-C/ERR019064</td>\r\n",
        "<td>Pf3D7_02_v3</td>\r\n",
        "<td style='text-align: right'>0</td>\r\n",
        "<td style='text-align: right'>756699</td>\r\n",
        "</tr>\r\n",
        "<tr>\r\n",
        "<td>3d7_hb3</td>\r\n",
        "<td>C01/PG0065-C/ERR019064</td>\r\n",
        "<td>Pf3D7_03_v3</td>\r\n",
        "<td style='text-align: right'>1</td>\r\n",
        "<td style='text-align: right'>932429</td>\r\n",
        "</tr>\r\n",
        "<tr>\r\n",
        "<td>3d7_hb3</td>\r\n",
        "<td>C01/PG0065-C/ERR019064</td>\r\n",
        "<td>Pf3D7_04_v3</td>\r\n",
        "<td style='text-align: right'>0</td>\r\n",
        "<td style='text-align: right'>1052569</td>\r\n",
        "</tr>\r\n",
        "<tr>\r\n",
        "<td>3d7_hb3</td>\r\n",
        "<td>C01/PG0065-C/ERR019064</td>\r\n",
        "<td>Pf3D7_05_v3</td>\r\n",
        "<td style='text-align: right'>1</td>\r\n",
        "<td style='text-align: right'>1283489</td>\r\n",
        "</tr>\r\n",
        "</tbody>\r\n",
        "</table>\r\n",
        "<p><strong>...</strong></p>"
       ],
       "metadata": {},
       "output_type": "display_data"
      }
     ],
     "prompt_number": 47
    },
    {
     "cell_type": "code",
     "collapsed": false,
     "input": [
      "df_co_by_chrom = tbl_co_by_chrom.todataframe()"
     ],
     "language": "python",
     "metadata": {},
     "outputs": [],
     "prompt_number": 48
    },
    {
     "cell_type": "code",
     "collapsed": false,
     "input": [
      "plot = sns.lmplot('span', 'count', df_co_by_chrom, x_estimator=np.mean, col='cross')\n",
      "plot.set(ylim=(0, 4));"
     ],
     "language": "python",
     "metadata": {},
     "outputs": [
      {
       "metadata": {},
       "output_type": "display_data",
       "png": "[encoded data removed]",
       "text": [
        "<matplotlib.figure.Figure at 0x7f2c9e508f90>"
       ]
      }
     ],
     "prompt_number": 55
    },
    {
     "cell_type": "code",
     "collapsed": false,
     "input": [
      "def plot_co_rate_by_chrom(ax, scatter_kws=dict()):\n",
      "    sns.despine(ax=ax)\n",
      "    sns.offset_spines(ax=ax)\n",
      "    sns.regplot('span', 'count', df_co_by_chrom, x_estimator=np.mean, scatter_kws=scatter_kws, ax=ax)\n",
      "    ax.set_xlabel('chromosome marker span (bp)')\n",
      "    ax.set_ylabel('CO recombination rate (Morgan)')\n",
      "    ax.set_ylim(0, 3)\n"
     ],
     "language": "python",
     "metadata": {},
     "outputs": [],
     "prompt_number": 64
    },
    {
     "cell_type": "code",
     "collapsed": false,
     "input": [
      "width = 8/3\n",
      "height = width\n",
      "fig, ax = plt.subplots(figsize=(width, height))\n",
      "plot_co_rate_by_chrom(ax, scatter_kws=dict(s=12))\n",
      "ax.set_xticks(range(0, 3500000, 1000000))\n",
      "ax.set_xticklabels(range(0, 4, 1))\n",
      "ax.set_xlabel('chromosome marker span (Mbp)')\n",
      "ax.set_title('B', fontweight='bold')\n",
      "fig.tight_layout()\n",
      "fig.savefig('../artwork/main/fig3B.jpg', dpi=900, jpeg_quality=100)"
     ],
     "language": "python",
     "metadata": {},
     "outputs": [
      {
       "metadata": {},
       "output_type": "display_data",
       "png": "[encoded data removed]",
       "text": [
        "<matplotlib.figure.Figure at 0x7f2ca0555ed0>"
       ]
      }
     ],
     "prompt_number": 110
    },
    {
     "cell_type": "heading",
     "level": 2,
     "metadata": {},
     "source": [
      "CO rate relative to centromere"
     ]
    },
    {
     "cell_type": "markdown",
     "metadata": {},
     "source": [
      "TODO redo with newer genome annotations to get an extra centromere"
     ]
    },
    {
     "cell_type": "code",
     "collapsed": false,
     "input": [
      "def distance_to_centromere(row):\n",
      "    cen_id = 'PF3D7_CEN' + row.chrom[6:8]\n",
      "    cen = lkp_feature[cen_id]\n",
      "    cen_pos = (cen['feature_start'] + cen['feature_stop'])/2\n",
      "    return abs(row.co_pos_mid - cen_pos)\n",
      "\n",
      "df_co_cen = (\n",
      "    tbl_co\n",
      "    .lt('co_pos_range', 10000)  # require 10kb certainty\n",
      "    .ne('chrom', 'Pf3D7_10_v3')  # no centromere\n",
      "    .todataframe()\n",
      ")\n",
      "df_co_cen['cen_dist'] = df_co_cen.apply(distance_to_centromere, axis=1)\n",
      "print len(df_co_cen)\n",
      "df_co_cen.head()"
     ],
     "language": "python",
     "metadata": {},
     "outputs": [
      {
       "output_type": "stream",
       "stream": "stdout",
       "text": [
        "1087\n"
       ]
      },
      {
       "html": [
        "<div style=\"max-height:1000px;max-width:1500px;overflow:auto;\">\n",
        "<table border=\"1\" class=\"dataframe\">\n",
        "  <thead>\n",
        "    <tr style=\"text-align: right;\">\n",
        "      <th></th>\n",
        "      <th>sample</th>\n",
        "      <th>chrom</th>\n",
        "      <th>co_pos_mid</th>\n",
        "      <th>co_pos_min</th>\n",
        "      <th>co_pos_max</th>\n",
        "      <th>co_pos_range</th>\n",
        "      <th>cross</th>\n",
        "      <th>co_from_parent</th>\n",
        "      <th>co_to_parent</th>\n",
        "      <th>cen_dist</th>\n",
        "    </tr>\n",
        "  </thead>\n",
        "  <tbody>\n",
        "    <tr>\n",
        "      <th>0</th>\n",
        "      <td>    B1SD/PG0015-C/ERR019044</td>\n",
        "      <td> Pf3D7_01_v3</td>\n",
        "      <td> 145052</td>\n",
        "      <td> 144877</td>\n",
        "      <td> 145227</td>\n",
        "      <td>  350</td>\n",
        "      <td> hb3_dd2</td>\n",
        "      <td> hb3</td>\n",
        "      <td> dd2</td>\n",
        "      <td> 314069</td>\n",
        "    </tr>\n",
        "    <tr>\n",
        "      <th>1</th>\n",
        "      <td>    GC03/PG0021-C/ERR015447</td>\n",
        "      <td> Pf3D7_01_v3</td>\n",
        "      <td> 163584</td>\n",
        "      <td> 163145</td>\n",
        "      <td> 164024</td>\n",
        "      <td>  879</td>\n",
        "      <td> hb3_dd2</td>\n",
        "      <td> dd2</td>\n",
        "      <td> hb3</td>\n",
        "      <td> 295537</td>\n",
        "    </tr>\n",
        "    <tr>\n",
        "      <th>2</th>\n",
        "      <td>    XF12/PG0102-C/ERR029143</td>\n",
        "      <td> Pf3D7_01_v3</td>\n",
        "      <td> 206769</td>\n",
        "      <td> 205803</td>\n",
        "      <td> 207736</td>\n",
        "      <td> 1933</td>\n",
        "      <td> 7g8_gb4</td>\n",
        "      <td> gb4</td>\n",
        "      <td> 7g8</td>\n",
        "      <td> 252352</td>\n",
        "    </tr>\n",
        "    <tr>\n",
        "      <th>3</th>\n",
        "      <td>  7C159/PG0040-Cx/ERR107475</td>\n",
        "      <td> Pf3D7_01_v3</td>\n",
        "      <td> 206905</td>\n",
        "      <td> 206074</td>\n",
        "      <td> 207736</td>\n",
        "      <td> 1662</td>\n",
        "      <td> hb3_dd2</td>\n",
        "      <td> hb3</td>\n",
        "      <td> dd2</td>\n",
        "      <td> 252216</td>\n",
        "    </tr>\n",
        "    <tr>\n",
        "      <th>4</th>\n",
        "      <td> CH3_61/PG0033-Cx/ERR175544</td>\n",
        "      <td> Pf3D7_01_v3</td>\n",
        "      <td> 206905</td>\n",
        "      <td> 206074</td>\n",
        "      <td> 207736</td>\n",
        "      <td> 1662</td>\n",
        "      <td> hb3_dd2</td>\n",
        "      <td> dd2</td>\n",
        "      <td> hb3</td>\n",
        "      <td> 252216</td>\n",
        "    </tr>\n",
        "  </tbody>\n",
        "</table>\n",
        "<p>5 rows \u00d7 10 columns</p>\n",
        "</div>"
       ],
       "metadata": {},
       "output_type": "pyout",
       "prompt_number": 67,
       "text": [
        "                       sample        chrom  co_pos_mid  co_pos_min  \\\n",
        "0     B1SD/PG0015-C/ERR019044  Pf3D7_01_v3      145052      144877   \n",
        "1     GC03/PG0021-C/ERR015447  Pf3D7_01_v3      163584      163145   \n",
        "2     XF12/PG0102-C/ERR029143  Pf3D7_01_v3      206769      205803   \n",
        "3   7C159/PG0040-Cx/ERR107475  Pf3D7_01_v3      206905      206074   \n",
        "4  CH3_61/PG0033-Cx/ERR175544  Pf3D7_01_v3      206905      206074   \n",
        "\n",
        "   co_pos_max  co_pos_range    cross co_from_parent co_to_parent  cen_dist  \n",
        "0      145227           350  hb3_dd2            hb3          dd2    314069  \n",
        "1      164024           879  hb3_dd2            dd2          hb3    295537  \n",
        "2      207736          1933  7g8_gb4            gb4          7g8    252352  \n",
        "3      207736          1662  hb3_dd2            hb3          dd2    252216  \n",
        "4      207736          1662  hb3_dd2            dd2          hb3    252216  \n",
        "\n",
        "[5 rows x 10 columns]"
       ]
      }
     ],
     "prompt_number": 67
    },
    {
     "cell_type": "code",
     "collapsed": false,
     "input": [
      "def get_cen_pos(chrom):\n",
      "    cen_id = 'PF3D7_CEN' + chrom[6:8]\n",
      "    cen = lkp_feature[cen_id]\n",
      "    return cen['feature_start'], cen['feature_stop']\n",
      "\n",
      "tbl_chrom_cen = (\n",
      "    tbl_regions_1b\n",
      "    .ne('region_chrom', 'Pf3D7_10_v3')\n",
      "    .eq('region_type', 'Core')\n",
      "    .aggregate(key='region_chrom', \n",
      "               aggregation={'core_start': ('region_start', min), 'core_stop': ('region_stop', max)})\n",
      "    .rename('region_chrom', 'chrom')\n",
      "    .addfield('cen', lambda row: get_cen_pos(row.chrom))\n",
      "    .unpack('cen', ['cen_start', 'cen_stop'])\n",
      "    .addfield('cen_pos', lambda row: (row.cen_start + row.cen_stop)/2)\n",
      ")\n",
      "tbl_chrom_cen"
     ],
     "language": "python",
     "metadata": {},
     "outputs": [
      {
       "html": [
        "<table class='petl'>\r\n",
        "<thead>\r\n",
        "<tr>\r\n",
        "<th>0|chrom</th>\r\n",
        "<th>1|core_stop</th>\r\n",
        "<th>2|core_start</th>\r\n",
        "<th>3|cen_start</th>\r\n",
        "<th>4|cen_stop</th>\r\n",
        "<th>5|cen_pos</th>\r\n",
        "</tr>\r\n",
        "</thead>\r\n",
        "<tbody>\r\n",
        "<tr>\r\n",
        "<td>Pf3D7_01_v3</td>\r\n",
        "<td style='text-align: right'>575900</td>\r\n",
        "<td style='text-align: right'>92901</td>\r\n",
        "<td style='text-align: right'>457931</td>\r\n",
        "<td style='text-align: right'>460311</td>\r\n",
        "<td style='text-align: right'>459121.0</td>\r\n",
        "</tr>\r\n",
        "<tr>\r\n",
        "<td>Pf3D7_02_v3</td>\r\n",
        "<td style='text-align: right'>862500</td>\r\n",
        "<td style='text-align: right'>105801</td>\r\n",
        "<td style='text-align: right'>447300</td>\r\n",
        "<td style='text-align: right'>450450</td>\r\n",
        "<td style='text-align: right'>448875.0</td>\r\n",
        "</tr>\r\n",
        "<tr>\r\n",
        "<td>Pf3D7_03_v3</td>\r\n",
        "<td style='text-align: right'>1003060</td>\r\n",
        "<td style='text-align: right'>70631</td>\r\n",
        "<td style='text-align: right'>597816</td>\r\n",
        "<td style='text-align: right'>600275</td>\r\n",
        "<td style='text-align: right'>599045.5</td>\r\n",
        "</tr>\r\n",
        "<tr>\r\n",
        "<td>Pf3D7_04_v3</td>\r\n",
        "<td style='text-align: right'>1143990</td>\r\n",
        "<td style='text-align: right'>91421</td>\r\n",
        "<td style='text-align: right'>642003</td>\r\n",
        "<td style='text-align: right'>644529</td>\r\n",
        "<td style='text-align: right'>643266.0</td>\r\n",
        "</tr>\r\n",
        "<tr>\r\n",
        "<td>Pf3D7_05_v3</td>\r\n",
        "<td style='text-align: right'>1321390</td>\r\n",
        "<td style='text-align: right'>37901</td>\r\n",
        "<td style='text-align: right'>455740</td>\r\n",
        "<td style='text-align: right'>457252</td>\r\n",
        "<td style='text-align: right'>456496.0</td>\r\n",
        "</tr>\r\n",
        "</tbody>\r\n",
        "</table>\r\n",
        "<p><strong>...</strong></p>"
       ],
       "metadata": {},
       "output_type": "pyout",
       "prompt_number": 70,
       "text": [
        "+---------------+---------------+----------------+---------------+--------------+-------------+\n",
        "| '0|chrom'     | '1|core_stop' | '2|core_start' | '3|cen_start' | '4|cen_stop' | '5|cen_pos' |\n",
        "+===============+===============+================+===============+==============+=============+\n",
        "| 'Pf3D7_01_v3' |        575900 |          92901 |        457931 |       460311 |    459121.0 |\n",
        "+---------------+---------------+----------------+---------------+--------------+-------------+\n",
        "| 'Pf3D7_02_v3' |        862500 |         105801 |        447300 |       450450 |    448875.0 |\n",
        "+---------------+---------------+----------------+---------------+--------------+-------------+\n",
        "| 'Pf3D7_03_v3' |       1003060 |          70631 |        597816 |       600275 |    599045.5 |\n",
        "+---------------+---------------+----------------+---------------+--------------+-------------+\n",
        "| 'Pf3D7_04_v3' |       1143990 |          91421 |        642003 |       644529 |    643266.0 |\n",
        "+---------------+---------------+----------------+---------------+--------------+-------------+\n",
        "| 'Pf3D7_05_v3' |       1321390 |          37901 |        455740 |       457252 |    456496.0 |\n",
        "+---------------+---------------+----------------+---------------+--------------+-------------+"
       ]
      }
     ],
     "prompt_number": 70
    },
    {
     "cell_type": "code",
     "collapsed": false,
     "input": [
      "def plot_co_rate_cen(window_size=20000, ax=None, scatter_kws=dict()):\n",
      "    XX = list()  # distance to centromere\n",
      "    YY = list()  # CO recombination rate\n",
      "\n",
      "    # N.B., we need to account for the fact that some chromosomes are bigger than others.\n",
      "    # Consider each chromosome separately, move upstream and downstream of centromere separately.\n",
      "    # Gather what data there are.\n",
      "    # Should mean that estimates of recombination rate further from centromere have greater uncertainty.\n",
      "    # However should not mean there is any other effect of chromosome size.\n",
      "    for row in tbl_chrom_cen.records():\n",
      "        \n",
      "        # downstream\n",
      "        max_dist = row.core_stop - row.cen_pos\n",
      "        bins = np.arange(0, max_dist, window_size)\n",
      "        X = (bins[:-1] + bins[1:])/2.\n",
      "        # recombination rate\n",
      "        D = df_co_cen[(df_co_cen.chrom == row.chrom) & (df_co_cen.co_pos_min > row.cen_pos)].cen_dist\n",
      "        Y, _ = np.histogram(D, bins=bins)\n",
      "        XX.append(X)\n",
      "        YY.append(Y)\n",
      "        \n",
      "        # upstream\n",
      "        min_dist = row.cen_pos - row.core_start\n",
      "        bins = np.arange(0, min_dist, window_size)\n",
      "        X = (bins[:-1] + bins[1:])/2.\n",
      "        # recombination rate\n",
      "        D = df_co_cen[(df_co_cen.chrom == row.chrom) & (df_co_cen.co_pos_max < row.cen_pos)].cen_dist\n",
      "        Y, _ = np.histogram(D, bins=bins)\n",
      "        XX.append(X)\n",
      "        YY.append(Y)\n",
      "    \n",
      "    XX = np.concatenate(XX)\n",
      "    YY = np.concatenate(YY)\n",
      "    YY = YY / np.sum(n_progeny.values())  # Morgan\n",
      "    YY = YY / (window_size/1e6)  # Morgan/Mbp\n",
      "    \n",
      "    if ax is None:\n",
      "        fig, ax = plt.subplots()\n",
      "    sns.despine(ax=ax, offset=5)\n",
      "    sns.regplot(XX, YY, x_estimator=np.mean, x_ci=95, ax=ax, fit_reg=False, scatter_kws=scatter_kws)\n",
      "    ax.set_xlim(0, 700000)\n",
      "    ax.set_ylim(0, 2)\n",
      "    ax.set_ylabel('CO recombination rate (Morgan/Mbp)')\n",
      "    ax.set_xlabel('distance from centromere (bp)')\n",
      "    ax.axhline(np.mean(YY), linestyle=':', linewidth=.5)\n",
      "    \n",
      "    "
     ],
     "language": "python",
     "metadata": {},
     "outputs": [],
     "prompt_number": 79
    },
    {
     "cell_type": "code",
     "collapsed": false,
     "input": [
      "width = 8/3\n",
      "height = width\n",
      "fig, ax = plt.subplots(figsize=(width, height))\n",
      "plot_co_rate_cen(30000, ax=ax, scatter_kws=dict(s=12))\n",
      "ax.set_xlim(0, 510000)\n",
      "ax.set_xticks(range(0, 600000, 100000))\n",
      "ax.set_xticklabels(range(0, 600, 100))\n",
      "ax.set_xlabel('distance from centromere (kbp)')\n",
      "ax.set_title('C', fontweight='bold')\n",
      "fig.tight_layout()\n",
      "fig.savefig('../artwork/main/fig3C.jpg', dpi=900, jpeg_quality=100)"
     ],
     "language": "python",
     "metadata": {},
     "outputs": [
      {
       "metadata": {},
       "output_type": "display_data",
       "png": "[encoded data removed]",
       "text": [
        "<matplotlib.figure.Figure at 0x7f2c9f199690>"
       ]
      }
     ],
     "prompt_number": 111
    },
    {
     "cell_type": "code",
     "collapsed": false,
     "input": [
      "8 * 2.54"
     ],
     "language": "python",
     "metadata": {},
     "outputs": [
      {
       "metadata": {},
       "output_type": "pyout",
       "prompt_number": 105,
       "text": [
        "20.32"
       ]
      }
     ],
     "prompt_number": 105
    },
    {
     "cell_type": "code",
     "collapsed": false,
     "input": [
      "(16/3)*2.54"
     ],
     "language": "python",
     "metadata": {},
     "outputs": [
      {
       "metadata": {},
       "output_type": "pyout",
       "prompt_number": 106,
       "text": [
        "13.546666666666667"
       ]
      }
     ],
     "prompt_number": 106
    }
   ],
   "metadata": {}
  }
 ]
}