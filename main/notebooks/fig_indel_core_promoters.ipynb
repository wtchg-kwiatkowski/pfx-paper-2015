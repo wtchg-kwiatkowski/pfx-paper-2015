{
 "cells": [
  {
   "cell_type": "markdown",
   "metadata": {},
   "source": [
    "# Figure 1c, indel diversity relative to predicted core promoters"
   ]
  },
  {
   "cell_type": "code",
   "execution_count": 1,
   "metadata": {
    "collapsed": false
   },
   "outputs": [
    {
     "name": "stdout",
     "output_type": "stream",
     "text": [
      "docker image cggh/biipy:v1.6.0\n"
     ]
    },
    {
     "data": {
      "text/html": [
       "<style type=\"text/css\">\n",
       ".container {\n",
       "    width: 96%;\n",
       "}\n",
       "#maintoolbar {\n",
       "    display: none;\n",
       "}\n",
       "#header-container {\n",
       "    display: none;\n",
       "}\n",
       "#notebook {\n",
       "    padding-top: 0;\n",
       "}\n",
       "</style>"
      ],
      "text/plain": [
       "<IPython.core.display.HTML object>"
      ]
     },
     "metadata": {},
     "output_type": "display_data"
    }
   ],
   "source": [
    "%run ../../shared_setup.ipynb"
   ]
  },
  {
   "cell_type": "code",
   "execution_count": 2,
   "metadata": {
    "collapsed": false
   },
   "outputs": [
    {
     "data": {
      "text/html": [
       "<div>\n",
       "<table border=\"1\" class=\"dataframe\">\n",
       "  <thead>\n",
       "    <tr style=\"text-align: right;\">\n",
       "      <th></th>\n",
       "      <th>feature_chrom</th>\n",
       "      <th>feature_start</th>\n",
       "      <th>feature_stop</th>\n",
       "      <th>feature_length</th>\n",
       "      <th>site_dist</th>\n",
       "      <th>snp_diversity_3d7_hb3</th>\n",
       "      <th>indel_diversity_3d7_hb3</th>\n",
       "      <th>indel_str_diversity_3d7_hb3</th>\n",
       "      <th>indel_nostr_diversity_3d7_hb3</th>\n",
       "      <th>snp_diversity_hb3_dd2</th>\n",
       "      <th>...</th>\n",
       "      <th>indel_str_diversity_hb3_dd2</th>\n",
       "      <th>indel_nostr_diversity_hb3_dd2</th>\n",
       "      <th>snp_diversity_7g8_gb4</th>\n",
       "      <th>indel_diversity_7g8_gb4</th>\n",
       "      <th>indel_str_diversity_7g8_gb4</th>\n",
       "      <th>indel_nostr_diversity_7g8_gb4</th>\n",
       "      <th>snp_diversity_all</th>\n",
       "      <th>indel_diversity_all</th>\n",
       "      <th>indel_str_diversity_all</th>\n",
       "      <th>indel_nostr_diversity_all</th>\n",
       "    </tr>\n",
       "  </thead>\n",
       "  <tbody>\n",
       "    <tr>\n",
       "      <th>0</th>\n",
       "      <td>Pf3D7_01_v3</td>\n",
       "      <td>95941</td>\n",
       "      <td>95991</td>\n",
       "      <td>50</td>\n",
       "      <td>-2575</td>\n",
       "      <td>0</td>\n",
       "      <td>0</td>\n",
       "      <td>0</td>\n",
       "      <td>0</td>\n",
       "      <td>0</td>\n",
       "      <td>...</td>\n",
       "      <td>0</td>\n",
       "      <td>0</td>\n",
       "      <td>0</td>\n",
       "      <td>0</td>\n",
       "      <td>0</td>\n",
       "      <td>0</td>\n",
       "      <td>0</td>\n",
       "      <td>0</td>\n",
       "      <td>0</td>\n",
       "      <td>0</td>\n",
       "    </tr>\n",
       "    <tr>\n",
       "      <th>1</th>\n",
       "      <td>Pf3D7_01_v3</td>\n",
       "      <td>95948</td>\n",
       "      <td>95998</td>\n",
       "      <td>50</td>\n",
       "      <td>2425</td>\n",
       "      <td>0</td>\n",
       "      <td>0</td>\n",
       "      <td>0</td>\n",
       "      <td>0</td>\n",
       "      <td>0</td>\n",
       "      <td>...</td>\n",
       "      <td>0</td>\n",
       "      <td>0</td>\n",
       "      <td>0</td>\n",
       "      <td>0</td>\n",
       "      <td>0</td>\n",
       "      <td>0</td>\n",
       "      <td>0</td>\n",
       "      <td>0</td>\n",
       "      <td>0</td>\n",
       "      <td>0</td>\n",
       "    </tr>\n",
       "    <tr>\n",
       "      <th>2</th>\n",
       "      <td>Pf3D7_01_v3</td>\n",
       "      <td>95991</td>\n",
       "      <td>96041</td>\n",
       "      <td>50</td>\n",
       "      <td>-2525</td>\n",
       "      <td>0</td>\n",
       "      <td>0</td>\n",
       "      <td>0</td>\n",
       "      <td>0</td>\n",
       "      <td>0</td>\n",
       "      <td>...</td>\n",
       "      <td>0</td>\n",
       "      <td>0</td>\n",
       "      <td>0</td>\n",
       "      <td>0</td>\n",
       "      <td>0</td>\n",
       "      <td>0</td>\n",
       "      <td>0</td>\n",
       "      <td>0</td>\n",
       "      <td>0</td>\n",
       "      <td>0</td>\n",
       "    </tr>\n",
       "    <tr>\n",
       "      <th>3</th>\n",
       "      <td>Pf3D7_01_v3</td>\n",
       "      <td>95998</td>\n",
       "      <td>96048</td>\n",
       "      <td>50</td>\n",
       "      <td>2375</td>\n",
       "      <td>0</td>\n",
       "      <td>0</td>\n",
       "      <td>0</td>\n",
       "      <td>0</td>\n",
       "      <td>0</td>\n",
       "      <td>...</td>\n",
       "      <td>0</td>\n",
       "      <td>0</td>\n",
       "      <td>0</td>\n",
       "      <td>0</td>\n",
       "      <td>0</td>\n",
       "      <td>0</td>\n",
       "      <td>0</td>\n",
       "      <td>0</td>\n",
       "      <td>0</td>\n",
       "      <td>0</td>\n",
       "    </tr>\n",
       "    <tr>\n",
       "      <th>4</th>\n",
       "      <td>Pf3D7_01_v3</td>\n",
       "      <td>96041</td>\n",
       "      <td>96091</td>\n",
       "      <td>50</td>\n",
       "      <td>-2475</td>\n",
       "      <td>0</td>\n",
       "      <td>0</td>\n",
       "      <td>0</td>\n",
       "      <td>0</td>\n",
       "      <td>0</td>\n",
       "      <td>...</td>\n",
       "      <td>0</td>\n",
       "      <td>0</td>\n",
       "      <td>0</td>\n",
       "      <td>0</td>\n",
       "      <td>0</td>\n",
       "      <td>0</td>\n",
       "      <td>0</td>\n",
       "      <td>0</td>\n",
       "      <td>0</td>\n",
       "      <td>0</td>\n",
       "    </tr>\n",
       "  </tbody>\n",
       "</table>\n",
       "<p>5 rows × 21 columns</p>\n",
       "</div>"
      ],
      "text/plain": [
       "  feature_chrom  feature_start  feature_stop  feature_length  site_dist  \\\n",
       "0   Pf3D7_01_v3          95941         95991              50      -2575   \n",
       "1   Pf3D7_01_v3          95948         95998              50       2425   \n",
       "2   Pf3D7_01_v3          95991         96041              50      -2525   \n",
       "3   Pf3D7_01_v3          95998         96048              50       2375   \n",
       "4   Pf3D7_01_v3          96041         96091              50      -2475   \n",
       "\n",
       "   snp_diversity_3d7_hb3  indel_diversity_3d7_hb3  \\\n",
       "0                      0                        0   \n",
       "1                      0                        0   \n",
       "2                      0                        0   \n",
       "3                      0                        0   \n",
       "4                      0                        0   \n",
       "\n",
       "   indel_str_diversity_3d7_hb3  indel_nostr_diversity_3d7_hb3  \\\n",
       "0                            0                              0   \n",
       "1                            0                              0   \n",
       "2                            0                              0   \n",
       "3                            0                              0   \n",
       "4                            0                              0   \n",
       "\n",
       "   snp_diversity_hb3_dd2            ...              \\\n",
       "0                      0            ...               \n",
       "1                      0            ...               \n",
       "2                      0            ...               \n",
       "3                      0            ...               \n",
       "4                      0            ...               \n",
       "\n",
       "   indel_str_diversity_hb3_dd2  indel_nostr_diversity_hb3_dd2  \\\n",
       "0                            0                              0   \n",
       "1                            0                              0   \n",
       "2                            0                              0   \n",
       "3                            0                              0   \n",
       "4                            0                              0   \n",
       "\n",
       "   snp_diversity_7g8_gb4  indel_diversity_7g8_gb4  \\\n",
       "0                      0                        0   \n",
       "1                      0                        0   \n",
       "2                      0                        0   \n",
       "3                      0                        0   \n",
       "4                      0                        0   \n",
       "\n",
       "   indel_str_diversity_7g8_gb4  indel_nostr_diversity_7g8_gb4  \\\n",
       "0                            0                              0   \n",
       "1                            0                              0   \n",
       "2                            0                              0   \n",
       "3                            0                              0   \n",
       "4                            0                              0   \n",
       "\n",
       "   snp_diversity_all  indel_diversity_all  indel_str_diversity_all  \\\n",
       "0                  0                    0                        0   \n",
       "1                  0                    0                        0   \n",
       "2                  0                    0                        0   \n",
       "3                  0                    0                        0   \n",
       "4                  0                    0                        0   \n",
       "\n",
       "   indel_nostr_diversity_all  \n",
       "0                          0  \n",
       "1                          0  \n",
       "2                          0  \n",
       "3                          0  \n",
       "4                          0  \n",
       "\n",
       "[5 rows x 21 columns]"
      ]
     },
     "execution_count": 2,
     "metadata": {},
     "output_type": "execute_result"
    }
   ],
   "source": [
    "df_core_promoter_diversity_50 = pandas.read_pickle(os.path.join(CACHE_DIR, 'df_core_promoter_diversity_50'))\n",
    "df_core_promoter_diversity_50.head()"
   ]
  },
  {
   "cell_type": "code",
   "execution_count": 3,
   "metadata": {
    "collapsed": false
   },
   "outputs": [],
   "source": [
    "def plot_indel_cp_diversity(ax, is_str, xlim=(-500, 500), ylim=(0, .002), markersize=12, n_boot=1000):\n",
    "\n",
    "    df = df_core_promoter_diversity_50\n",
    "    x = df.site_dist\n",
    "\n",
    "    sns.despine(offset=5, ax=ax)\n",
    "\n",
    "    if is_str:\n",
    "        y = df.indel_str_diversity_all\n",
    "    else:\n",
    "        y = df.indel_nostr_diversity_all\n",
    "        \n",
    "    ax.axhline(np.mean(y), color='k', linestyle=':')\n",
    "    sns.regplot(x, y, x_estimator=np.mean, fit_reg=False, ax=ax, color='k', scatter_kws=dict(s=markersize), n_boot=n_boot)\n",
    "    ax.set_xlim(*xlim)\n",
    "    ax.set_ylim(*ylim)\n",
    "    ax.set_xlabel('distance to core promoter (bp)')\n",
    "    yticks = np.arange(ylim[0], ylim[1] + .0005, .0005)\n",
    "    ax.set_yticks(yticks)\n",
    "    ax.set_yticklabels(yticks * 1000)\n",
    "    ax.set_ylabel('diversity (kbp$^{-1}$)')\n",
    "#    ax.text(0, 1, '$\\\\times10^{-3}$', transform=ax.transAxes)\n",
    "    \n",
    "    return ax\n"
   ]
  },
  {
   "cell_type": "code",
   "execution_count": 4,
   "metadata": {
    "collapsed": false
   },
   "outputs": [
    {
     "data": {
      "image/png": "[encoded data removed]",
      "text/plain": [
       "<matplotlib.figure.Figure at 0x7efd5a02fcc0>"
      ]
     },
     "metadata": {},
     "output_type": "display_data"
    }
   ],
   "source": [
    "width = 8 * (1/3)\n",
    "height = width / 1.2\n",
    "fig, ax = plt.subplots(figsize=(width, height))\n",
    "plot_indel_cp_diversity(ax, is_str=True, n_boot=1000)\n",
    "fig.tight_layout()\n",
    "fig.savefig('../../artwork/main/fig1C1.jpeg', dpi=1200, jpeg_quality=100);"
   ]
  },
  {
   "cell_type": "code",
   "execution_count": 5,
   "metadata": {
    "collapsed": false
   },
   "outputs": [
    {
     "data": {
      "image/png": "[encoded data removed]",
      "text/plain": [
       "<matplotlib.figure.Figure at 0x7efd581ecef0>"
      ]
     },
     "metadata": {},
     "output_type": "display_data"
    }
   ],
   "source": [
    "width = 8 * (1/3)\n",
    "height = width / 1.2\n",
    "fig, ax = plt.subplots(figsize=(width, height))\n",
    "plot_indel_cp_diversity(ax, is_str=False, n_boot=1000)\n",
    "fig.tight_layout()\n",
    "fig.savefig('../../artwork/main/fig1C2.jpeg', dpi=1200, jpeg_quality=100);"
   ]
  },
  {
   "cell_type": "code",
   "execution_count": 5,
   "metadata": {
    "collapsed": false
   },
   "outputs": [],
   "source": []
  }
 ],
 "metadata": {
  "kernelspec": {
   "display_name": "Python 3",
   "language": "python",
   "name": "python3"
  },
  "language_info": {
   "codemirror_mode": {
    "name": "ipython",
    "version": 3
   },
   "file_extension": ".py",
   "mimetype": "text/x-python",
   "name": "python",
   "nbconvert_exporter": "python",
   "pygments_lexer": "ipython3",
   "version": "3.5.0+"
  }
 },
 "nbformat": 4,
 "nbformat_minor": 0
}
