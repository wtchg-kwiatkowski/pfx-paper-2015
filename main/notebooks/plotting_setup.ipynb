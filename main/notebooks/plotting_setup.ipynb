{
 "metadata": {
  "name": "",
  "signature": "sha256:8c7756e8292b3090291b655de136b2146d2236b4b6e8efda3befdbff64709e3d"
 },
 "nbformat": 3,
 "nbformat_minor": 0,
 "worksheets": [
  {
   "cells": [
    {
     "cell_type": "code",
     "collapsed": false,
     "input": [
      "%matplotlib inline\n",
      "import matplotlib as mpl\n",
      "import matplotlib.pyplot as plt\n",
      "from matplotlib.colors import ListedColormap\n",
      "from matplotlib.gridspec import GridSpec\n",
      "import seaborn as sns\n",
      "sns.set_context('paper')\n",
      "sns.set_style('white')\n",
      "sns.set_style('ticks')\n",
      "\n",
      "rcParams = plt.rcParams\n",
      "rcParams['font.size'] = 9\n",
      "rcParams['axes.labelsize'] = 9\n",
      "rcParams['xtick.labelsize'] = 9\n",
      "rcParams['ytick.labelsize'] = 9\n",
      "rcParams['legend.fontsize'] = 9\n",
      "rcParams['axes.linewidth'] = .5\n",
      "rcParams['lines.linewidth'] = .5\n",
      "rcParams['patch.linewidth'] = .5\n",
      "rcParams['font.family'] = 'arial'\n",
      "rcParams['ytick.direction'] = 'out'\n",
      "rcParams['xtick.direction'] = 'out'\n",
      "rcParams['savefig.jpeg_quality'] = 100\n",
      "rcParams['savefig.dpi'] = 120\n",
      "rcParams['lines.markeredgewidth'] = .5\n",
      "\n",
      "golden_ratio = 1.61803398875"
     ],
     "language": "python",
     "metadata": {},
     "outputs": [],
     "prompt_number": 1
    }
   ],
   "metadata": {}
  }
 ]
}