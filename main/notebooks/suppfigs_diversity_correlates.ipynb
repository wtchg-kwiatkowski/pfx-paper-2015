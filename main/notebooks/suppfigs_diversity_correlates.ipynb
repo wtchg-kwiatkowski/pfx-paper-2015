{
 "cells": [
  {
   "cell_type": "markdown",
   "metadata": {},
   "source": [
    "Study diversity in relation to feature types, core promoter position, and other phenomena."
   ]
  },
  {
   "cell_type": "code",
   "execution_count": 1,
   "metadata": {
    "collapsed": false
   },
   "outputs": [
    {
     "name": "stdout",
     "output_type": "stream",
     "text": [
      "docker image cggh/biipy:v1.6.0\n"
     ]
    },
    {
     "data": {
      "text/html": [
       "<style type=\"text/css\">\n",
       ".container {\n",
       "    width: 96%;\n",
       "}\n",
       "#maintoolbar {\n",
       "    display: none;\n",
       "}\n",
       "#header-container {\n",
       "    display: none;\n",
       "}\n",
       "#notebook {\n",
       "    padding-top: 0;\n",
       "}\n",
       "</style>"
      ],
      "text/plain": [
       "<IPython.core.display.HTML object>"
      ]
     },
     "metadata": {},
     "output_type": "display_data"
    }
   ],
   "source": [
    "%run ../../shared_setup.ipynb"
   ]
  },
  {
   "cell_type": "markdown",
   "metadata": {},
   "source": [
    "# Diversity by feature type"
   ]
  },
  {
   "cell_type": "code",
   "execution_count": 2,
   "metadata": {
    "collapsed": false
   },
   "outputs": [
    {
     "data": {
      "text/html": [
       "<table class='petl'>\n",
       "<thead>\n",
       "<tr>\n",
       "<th>0|region_chrom</th>\n",
       "<th>1|region_start</th>\n",
       "<th>2|region_stop</th>\n",
       "<th>3|region_type</th>\n",
       "<th>4|region_size</th>\n",
       "</tr>\n",
       "</thead>\n",
       "<tbody>\n",
       "<tr>\n",
       "<td>Pf3D7_01_v3</td>\n",
       "<td style='text-align: right'>1</td>\n",
       "<td style='text-align: right'>27336</td>\n",
       "<td>SubtelomericRepeat</td>\n",
       "<td style='text-align: right'>27336</td>\n",
       "</tr>\n",
       "<tr>\n",
       "<td>Pf3D7_01_v3</td>\n",
       "<td style='text-align: right'>27337</td>\n",
       "<td style='text-align: right'>92900</td>\n",
       "<td>SubtelomericHypervariable</td>\n",
       "<td style='text-align: right'>65564</td>\n",
       "</tr>\n",
       "<tr>\n",
       "<td>Pf3D7_01_v3</td>\n",
       "<td style='text-align: right'>92901</td>\n",
       "<td style='text-align: right'>457931</td>\n",
       "<td>Core</td>\n",
       "<td style='text-align: right'>365031</td>\n",
       "</tr>\n",
       "<tr>\n",
       "<td>Pf3D7_01_v3</td>\n",
       "<td style='text-align: right'>457932</td>\n",
       "<td style='text-align: right'>460311</td>\n",
       "<td>Centromere</td>\n",
       "<td style='text-align: right'>2380</td>\n",
       "</tr>\n",
       "<tr>\n",
       "<td>Pf3D7_01_v3</td>\n",
       "<td style='text-align: right'>460312</td>\n",
       "<td style='text-align: right'>575900</td>\n",
       "<td>Core</td>\n",
       "<td style='text-align: right'>115589</td>\n",
       "</tr>\n",
       "</tbody>\n",
       "</table>\n",
       "<p><strong>...</strong></p>"
      ],
      "text/plain": [
       "+---------------+--------------+-------------+-----------------------------+-------------+\n",
       "| region_chrom  | region_start | region_stop | region_type                 | region_size |\n",
       "+===============+==============+=============+=============================+=============+\n",
       "| 'Pf3D7_01_v3' |            1 |       27336 | 'SubtelomericRepeat'        |       27336 |\n",
       "+---------------+--------------+-------------+-----------------------------+-------------+\n",
       "| 'Pf3D7_01_v3' |        27337 |       92900 | 'SubtelomericHypervariable' |       65564 |\n",
       "+---------------+--------------+-------------+-----------------------------+-------------+\n",
       "| 'Pf3D7_01_v3' |        92901 |      457931 | 'Core'                      |      365031 |\n",
       "+---------------+--------------+-------------+-----------------------------+-------------+\n",
       "| 'Pf3D7_01_v3' |       457932 |      460311 | 'Centromere'                |        2380 |\n",
       "+---------------+--------------+-------------+-----------------------------+-------------+\n",
       "| 'Pf3D7_01_v3' |       460312 |      575900 | 'Core'                      |      115589 |\n",
       "+---------------+--------------+-------------+-----------------------------+-------------+\n",
       "..."
      ]
     },
     "execution_count": 2,
     "metadata": {},
     "output_type": "execute_result"
    }
   ],
   "source": [
    "tbl_regions_1b"
   ]
  },
  {
   "cell_type": "code",
   "execution_count": 3,
   "metadata": {
    "collapsed": false
   },
   "outputs": [
    {
     "data": {
      "text/html": [
       "<table class='petl'>\n",
       "<thead>\n",
       "<tr>\n",
       "<th>0|feature_chrom</th>\n",
       "<th>1|feature_type</th>\n",
       "<th>2|feature_start</th>\n",
       "<th>3|feature_stop</th>\n",
       "<th>4|feature_length</th>\n",
       "<th>5|feature_strand</th>\n",
       "<th>6|feature_id</th>\n",
       "<th>7|feature_parent_id</th>\n",
       "<th>8|feature_name</th>\n",
       "<th>9|feature_previous_id</th>\n",
       "<th>10|feature_region_type</th>\n",
       "<th>11|feature_region_size</th>\n",
       "</tr>\n",
       "</thead>\n",
       "<tbody>\n",
       "<tr>\n",
       "<td>Pf3D7_01_v3</td>\n",
       "<td>repeat_region</td>\n",
       "<td style='text-align: right'>1</td>\n",
       "<td style='text-align: right'>360</td>\n",
       "<td style='text-align: right'>359</td>\n",
       "<td>+</td>\n",
       "<td>Pfalciparum_REP_20</td>\n",
       "<td>None</td>\n",
       "<td>None</td>\n",
       "<td>None</td>\n",
       "<td>SubtelomericRepeat</td>\n",
       "<td style='text-align: right'>27336</td>\n",
       "</tr>\n",
       "<tr>\n",
       "<td>Pf3D7_01_v3</td>\n",
       "<td>repeat_region</td>\n",
       "<td style='text-align: right'>361</td>\n",
       "<td style='text-align: right'>1418</td>\n",
       "<td style='text-align: right'>1057</td>\n",
       "<td>+</td>\n",
       "<td>Pfalciparum_REP_15</td>\n",
       "<td>None</td>\n",
       "<td>None</td>\n",
       "<td>None</td>\n",
       "<td>SubtelomericRepeat</td>\n",
       "<td style='text-align: right'>27336</td>\n",
       "</tr>\n",
       "<tr>\n",
       "<td>Pf3D7_01_v3</td>\n",
       "<td>repeat_region</td>\n",
       "<td style='text-align: right'>2160</td>\n",
       "<td style='text-align: right'>3858</td>\n",
       "<td style='text-align: right'>1698</td>\n",
       "<td>+</td>\n",
       "<td>Pfalciparum_REP_35</td>\n",
       "<td>None</td>\n",
       "<td>None</td>\n",
       "<td>None</td>\n",
       "<td>SubtelomericRepeat</td>\n",
       "<td style='text-align: right'>27336</td>\n",
       "</tr>\n",
       "<tr>\n",
       "<td>Pf3D7_01_v3</td>\n",
       "<td>repeat_region</td>\n",
       "<td style='text-align: right'>8856</td>\n",
       "<td style='text-align: right'>9021</td>\n",
       "<td style='text-align: right'>165</td>\n",
       "<td>+</td>\n",
       "<td>Pfalciparum_REP_5</td>\n",
       "<td>None</td>\n",
       "<td>None</td>\n",
       "<td>None</td>\n",
       "<td>SubtelomericRepeat</td>\n",
       "<td style='text-align: right'>27336</td>\n",
       "</tr>\n",
       "<tr>\n",
       "<td>Pf3D7_01_v3</td>\n",
       "<td>repeat_region</td>\n",
       "<td style='text-align: right'>9313</td>\n",
       "<td style='text-align: right'>9529</td>\n",
       "<td style='text-align: right'>216</td>\n",
       "<td>+</td>\n",
       "<td>Pfalciparum_REP_25</td>\n",
       "<td>None</td>\n",
       "<td>None</td>\n",
       "<td>None</td>\n",
       "<td>SubtelomericRepeat</td>\n",
       "<td style='text-align: right'>27336</td>\n",
       "</tr>\n",
       "</tbody>\n",
       "</table>\n",
       "<p><strong>...</strong></p>"
      ],
      "text/plain": [
       "+---------------+-----------------+---------------+--------------+----------------+----------------+----------------------+-------------------+--------------+---------------------+----------------------+---------------------+\n",
       "| feature_chrom | feature_type    | feature_start | feature_stop | feature_length | feature_strand | feature_id           | feature_parent_id | feature_name | feature_previous_id | feature_region_type  | feature_region_size |\n",
       "+===============+=================+===============+==============+================+================+======================+===================+==============+=====================+======================+=====================+\n",
       "| 'Pf3D7_01_v3' | 'repeat_region' |             1 |          360 |            359 | '+'            | 'Pfalciparum_REP_20' | None              | None         | None                | 'SubtelomericRepeat' |               27336 |\n",
       "+---------------+-----------------+---------------+--------------+----------------+----------------+----------------------+-------------------+--------------+---------------------+----------------------+---------------------+\n",
       "| 'Pf3D7_01_v3' | 'repeat_region' |           361 |         1418 |           1057 | '+'            | 'Pfalciparum_REP_15' | None              | None         | None                | 'SubtelomericRepeat' |               27336 |\n",
       "+---------------+-----------------+---------------+--------------+----------------+----------------+----------------------+-------------------+--------------+---------------------+----------------------+---------------------+\n",
       "| 'Pf3D7_01_v3' | 'repeat_region' |          2160 |         3858 |           1698 | '+'            | 'Pfalciparum_REP_35' | None              | None         | None                | 'SubtelomericRepeat' |               27336 |\n",
       "+---------------+-----------------+---------------+--------------+----------------+----------------+----------------------+-------------------+--------------+---------------------+----------------------+---------------------+\n",
       "| 'Pf3D7_01_v3' | 'repeat_region' |          8856 |         9021 |            165 | '+'            | 'Pfalciparum_REP_5'  | None              | None         | None                | 'SubtelomericRepeat' |               27336 |\n",
       "+---------------+-----------------+---------------+--------------+----------------+----------------+----------------------+-------------------+--------------+---------------------+----------------------+---------------------+\n",
       "| 'Pf3D7_01_v3' | 'repeat_region' |          9313 |         9529 |            216 | '+'            | 'Pfalciparum_REP_25' | None              | None         | None                | 'SubtelomericRepeat' |               27336 |\n",
       "+---------------+-----------------+---------------+--------------+----------------+----------------+----------------------+-------------------+--------------+---------------------+----------------------+---------------------+\n",
       "..."
      ]
     },
     "execution_count": 3,
     "metadata": {},
     "output_type": "execute_result"
    }
   ],
   "source": [
    "tbl_features"
   ]
  },
  {
   "cell_type": "code",
   "execution_count": 4,
   "metadata": {
    "collapsed": false
   },
   "outputs": [
    {
     "data": {
      "text/html": [
       "<table class='petl'>\n",
       "<thead>\n",
       "<tr>\n",
       "<th>0|feature_type</th>\n",
       "<th>1|count</th>\n",
       "<th>2|frequency</th>\n",
       "</tr>\n",
       "</thead>\n",
       "<tbody>\n",
       "<tr>\n",
       "<td>CDS</td>\n",
       "<td style='text-align: right'>14334</td>\n",
       "<td style='text-align: right'>0.4532776776396926</td>\n",
       "</tr>\n",
       "<tr>\n",
       "<td>polypeptide</td>\n",
       "<td style='text-align: right'>5525</td>\n",
       "<td style='text-align: right'>0.17471460645732537</td>\n",
       "</tr>\n",
       "<tr>\n",
       "<td>gene</td>\n",
       "<td style='text-align: right'>5449</td>\n",
       "<td style='text-align: right'>0.17231129241374948</td>\n",
       "</tr>\n",
       "<tr>\n",
       "<td>mRNA</td>\n",
       "<td style='text-align: right'>5367</td>\n",
       "<td style='text-align: right'>0.16971824305094393</td>\n",
       "</tr>\n",
       "<tr>\n",
       "<td>pseudogenic_exon</td>\n",
       "<td style='text-align: right'>389</td>\n",
       "<td style='text-align: right'>0.012301173196723903</td>\n",
       "</tr>\n",
       "<tr>\n",
       "<td>pseudogene</td>\n",
       "<td style='text-align: right'>139</td>\n",
       "<td style='text-align: right'>0.0043955348954874615</td>\n",
       "</tr>\n",
       "<tr>\n",
       "<td>pseudogenic_transcript</td>\n",
       "<td style='text-align: right'>139</td>\n",
       "<td style='text-align: right'>0.0043955348954874615</td>\n",
       "</tr>\n",
       "<tr>\n",
       "<td>repeat_region</td>\n",
       "<td style='text-align: right'>58</td>\n",
       "<td style='text-align: right'>0.0018341080858868546</td>\n",
       "</tr>\n",
       "<tr>\n",
       "<td>ncRNA</td>\n",
       "<td style='text-align: right'>58</td>\n",
       "<td style='text-align: right'>0.0018341080858868546</td>\n",
       "</tr>\n",
       "<tr>\n",
       "<td>tRNA</td>\n",
       "<td style='text-align: right'>45</td>\n",
       "<td style='text-align: right'>0.0014230148942225595</td>\n",
       "</tr>\n",
       "<tr>\n",
       "<td>polypeptide_motif</td>\n",
       "<td style='text-align: right'>39</td>\n",
       "<td style='text-align: right'>0.001233279574992885</td>\n",
       "</tr>\n",
       "<tr>\n",
       "<td>snoRNA</td>\n",
       "<td style='text-align: right'>38</td>\n",
       "<td style='text-align: right'>0.0012016570217879391</td>\n",
       "</tr>\n",
       "<tr>\n",
       "<td>rRNA</td>\n",
       "<td style='text-align: right'>26</td>\n",
       "<td style='text-align: right'>0.0008221863833285899</td>\n",
       "</tr>\n",
       "<tr>\n",
       "<td>centromere</td>\n",
       "<td style='text-align: right'>13</td>\n",
       "<td style='text-align: right'>0.00041109319166429497</td>\n",
       "</tr>\n",
       "<tr>\n",
       "<td>snRNA</td>\n",
       "<td style='text-align: right'>4</td>\n",
       "<td style='text-align: right'>0.00012649021281978308</td>\n",
       "</tr>\n",
       "</tbody>\n",
       "</table>\n"
      ]
     },
     "metadata": {},
     "output_type": "display_data"
    }
   ],
   "source": [
    "tbl_features.valuecounts('feature_type').displayall()"
   ]
  },
  {
   "cell_type": "code",
   "execution_count": 5,
   "metadata": {
    "collapsed": false
   },
   "outputs": [
    {
     "data": {
      "text/html": [
       "<table class='petl'>\n",
       "<thead>\n",
       "<tr>\n",
       "<th>0|feature_chrom</th>\n",
       "<th>1|feature_type</th>\n",
       "<th>2|feature_start</th>\n",
       "<th>3|feature_stop</th>\n",
       "<th>4|feature_length</th>\n",
       "<th>5|feature_strand</th>\n",
       "<th>6|feature_id</th>\n",
       "<th>7|feature_name</th>\n",
       "<th>8|feature_previous_id</th>\n",
       "<th>9|feature_region_type</th>\n",
       "<th>10|feature_region_size</th>\n",
       "</tr>\n",
       "</thead>\n",
       "<tbody>\n",
       "<tr>\n",
       "<td>Pf3D7_01_v3</td>\n",
       "<td>gene</td>\n",
       "<td style='text-align: right'>29510</td>\n",
       "<td style='text-align: right'>37126</td>\n",
       "<td style='text-align: right'>7616</td>\n",
       "<td>+</td>\n",
       "<td>PF3D7_0100100</td>\n",
       "<td>VAR</td>\n",
       "<td>PFA0005w</td>\n",
       "<td>SubtelomericHypervariable</td>\n",
       "<td style='text-align: right'>65564</td>\n",
       "</tr>\n",
       "<tr>\n",
       "<td>Pf3D7_01_v3</td>\n",
       "<td>gene</td>\n",
       "<td style='text-align: right'>38982</td>\n",
       "<td style='text-align: right'>40207</td>\n",
       "<td style='text-align: right'>1225</td>\n",
       "<td>-</td>\n",
       "<td>PF3D7_0100200</td>\n",
       "<td>RIF</td>\n",
       "<td>PFA0010c</td>\n",
       "<td>SubtelomericHypervariable</td>\n",
       "<td style='text-align: right'>65564</td>\n",
       "</tr>\n",
       "<tr>\n",
       "<td>Pf3D7_01_v3</td>\n",
       "<td>gene</td>\n",
       "<td style='text-align: right'>42367</td>\n",
       "<td style='text-align: right'>46507</td>\n",
       "<td style='text-align: right'>4140</td>\n",
       "<td>-</td>\n",
       "<td>PF3D7_0100300</td>\n",
       "<td>None</td>\n",
       "<td>PFA0015c</td>\n",
       "<td>SubtelomericHypervariable</td>\n",
       "<td style='text-align: right'>65564</td>\n",
       "</tr>\n",
       "<tr>\n",
       "<td>Pf3D7_01_v3</td>\n",
       "<td>gene</td>\n",
       "<td style='text-align: right'>50363</td>\n",
       "<td style='text-align: right'>51636</td>\n",
       "<td style='text-align: right'>1273</td>\n",
       "<td>+</td>\n",
       "<td>PF3D7_0100400</td>\n",
       "<td>RIF</td>\n",
       "<td>PFA0020w</td>\n",
       "<td>SubtelomericHypervariable</td>\n",
       "<td style='text-align: right'>65564</td>\n",
       "</tr>\n",
       "<tr>\n",
       "<td>Pf3D7_01_v3</td>\n",
       "<td>pseudogene</td>\n",
       "<td style='text-align: right'>53169</td>\n",
       "<td style='text-align: right'>53280</td>\n",
       "<td style='text-align: right'>111</td>\n",
       "<td>-</td>\n",
       "<td>PF3D7_0100500</td>\n",
       "<td>var pseudogene, exon 1</td>\n",
       "<td>PFA0025c</td>\n",
       "<td>SubtelomericHypervariable</td>\n",
       "<td style='text-align: right'>65564</td>\n",
       "</tr>\n",
       "</tbody>\n",
       "</table>\n",
       "<p><strong>...</strong></p>"
      ],
      "text/plain": [
       "+---------------+--------------+---------------+--------------+----------------+----------------+-----------------+--------------------------+---------------------+-----------------------------+---------------------+\n",
       "| feature_chrom | feature_type | feature_start | feature_stop | feature_length | feature_strand | feature_id      | feature_name             | feature_previous_id | feature_region_type         | feature_region_size |\n",
       "+===============+==============+===============+==============+================+================+=================+==========================+=====================+=============================+=====================+\n",
       "| 'Pf3D7_01_v3' | 'gene'       |         29510 |        37126 |           7616 | '+'            | 'PF3D7_0100100' | 'VAR'                    | 'PFA0005w'          | 'SubtelomericHypervariable' |               65564 |\n",
       "+---------------+--------------+---------------+--------------+----------------+----------------+-----------------+--------------------------+---------------------+-----------------------------+---------------------+\n",
       "| 'Pf3D7_01_v3' | 'gene'       |         38982 |        40207 |           1225 | '-'            | 'PF3D7_0100200' | 'RIF'                    | 'PFA0010c'          | 'SubtelomericHypervariable' |               65564 |\n",
       "+---------------+--------------+---------------+--------------+----------------+----------------+-----------------+--------------------------+---------------------+-----------------------------+---------------------+\n",
       "| 'Pf3D7_01_v3' | 'gene'       |         42367 |        46507 |           4140 | '-'            | 'PF3D7_0100300' | None                     | 'PFA0015c'          | 'SubtelomericHypervariable' |               65564 |\n",
       "+---------------+--------------+---------------+--------------+----------------+----------------+-----------------+--------------------------+---------------------+-----------------------------+---------------------+\n",
       "| 'Pf3D7_01_v3' | 'gene'       |         50363 |        51636 |           1273 | '+'            | 'PF3D7_0100400' | 'RIF'                    | 'PFA0020w'          | 'SubtelomericHypervariable' |               65564 |\n",
       "+---------------+--------------+---------------+--------------+----------------+----------------+-----------------+--------------------------+---------------------+-----------------------------+---------------------+\n",
       "| 'Pf3D7_01_v3' | 'pseudogene' |         53169 |        53280 |            111 | '-'            | 'PF3D7_0100500' | 'var pseudogene, exon 1' | 'PFA0025c'          | 'SubtelomericHypervariable' |               65564 |\n",
       "+---------------+--------------+---------------+--------------+----------------+----------------+-----------------+--------------------------+---------------------+-----------------------------+---------------------+\n",
       "..."
      ]
     },
     "execution_count": 5,
     "metadata": {},
     "output_type": "execute_result"
    }
   ],
   "source": [
    "tbl_genes"
   ]
  },
  {
   "cell_type": "code",
   "execution_count": 6,
   "metadata": {
    "collapsed": false
   },
   "outputs": [
    {
     "data": {
      "image/png": "[encoded data removed]",
      "text/plain": [
       "<matplotlib.figure.Figure at 0x7fdbaee73cc0>"
      ]
     },
     "metadata": {},
     "output_type": "display_data"
    }
   ],
   "source": [
    "df = tbl_genes.cut('feature_strand', 'feature_length').todataframe()\n",
    "df.boxplot('feature_length', 'feature_strand', grid=False)\n",
    "plt.suptitle('Genes');"
   ]
  },
  {
   "cell_type": "code",
   "execution_count": 7,
   "metadata": {
    "collapsed": false
   },
   "outputs": [
    {
     "data": {
      "text/html": [
       "<table class='petl'>\n",
       "<thead>\n",
       "<tr>\n",
       "<th>0|feature_chrom</th>\n",
       "<th>1|feature_type</th>\n",
       "<th>2|feature_start</th>\n",
       "<th>3|feature_stop</th>\n",
       "<th>4|feature_length</th>\n",
       "<th>5|feature_id</th>\n",
       "<th>6|feature_region_size</th>\n",
       "<th>7|feature_region_type</th>\n",
       "<th>8|region_size</th>\n",
       "</tr>\n",
       "</thead>\n",
       "<tbody>\n",
       "<tr>\n",
       "<td>Pf3D7_01_v3</td>\n",
       "<td>intergenic_0</td>\n",
       "<td style='text-align: right'>37126</td>\n",
       "<td style='text-align: right'>38982</td>\n",
       "<td style='text-align: right'>1856</td>\n",
       "<td>PF3D7_0100100_PF3D7_0100200</td>\n",
       "<td style='text-align: right'>65564</td>\n",
       "<td>SubtelomericHypervariable</td>\n",
       "<td style='text-align: right'>65564</td>\n",
       "</tr>\n",
       "<tr>\n",
       "<td>Pf3D7_01_v3</td>\n",
       "<td>intergenic_1</td>\n",
       "<td style='text-align: right'>40207</td>\n",
       "<td style='text-align: right'>42367</td>\n",
       "<td style='text-align: right'>2160</td>\n",
       "<td>PF3D7_0100200_PF3D7_0100300</td>\n",
       "<td style='text-align: right'>65564</td>\n",
       "<td>SubtelomericHypervariable</td>\n",
       "<td style='text-align: right'>65564</td>\n",
       "</tr>\n",
       "<tr>\n",
       "<td>Pf3D7_01_v3</td>\n",
       "<td>intergenic_2</td>\n",
       "<td style='text-align: right'>46507</td>\n",
       "<td style='text-align: right'>50363</td>\n",
       "<td style='text-align: right'>3856</td>\n",
       "<td>PF3D7_0100300_PF3D7_0100400</td>\n",
       "<td style='text-align: right'>65564</td>\n",
       "<td>SubtelomericHypervariable</td>\n",
       "<td style='text-align: right'>65564</td>\n",
       "</tr>\n",
       "<tr>\n",
       "<td>Pf3D7_01_v3</td>\n",
       "<td>intergenic_0</td>\n",
       "<td style='text-align: right'>51636</td>\n",
       "<td style='text-align: right'>53169</td>\n",
       "<td style='text-align: right'>1533</td>\n",
       "<td>PF3D7_0100400_PF3D7_0100500</td>\n",
       "<td style='text-align: right'>65564</td>\n",
       "<td>SubtelomericHypervariable</td>\n",
       "<td style='text-align: right'>65564</td>\n",
       "</tr>\n",
       "<tr>\n",
       "<td>Pf3D7_01_v3</td>\n",
       "<td>intergenic_1</td>\n",
       "<td style='text-align: right'>53280</td>\n",
       "<td style='text-align: right'>53778</td>\n",
       "<td style='text-align: right'>498</td>\n",
       "<td>PF3D7_0100500_PF3D7_0100600</td>\n",
       "<td style='text-align: right'>65564</td>\n",
       "<td>SubtelomericHypervariable</td>\n",
       "<td style='text-align: right'>65564</td>\n",
       "</tr>\n",
       "</tbody>\n",
       "</table>\n",
       "<p><strong>...</strong></p>"
      ],
      "text/plain": [
       "+---------------+----------------+---------------+--------------+----------------+-------------------------------+---------------------+-----------------------------+-------------+\n",
       "| feature_chrom | feature_type   | feature_start | feature_stop | feature_length | feature_id                    | feature_region_size | feature_region_type         | region_size |\n",
       "+===============+================+===============+==============+================+===============================+=====================+=============================+=============+\n",
       "| 'Pf3D7_01_v3' | 'intergenic_0' |         37126 |        38982 |           1856 | 'PF3D7_0100100_PF3D7_0100200' |               65564 | 'SubtelomericHypervariable' |       65564 |\n",
       "+---------------+----------------+---------------+--------------+----------------+-------------------------------+---------------------+-----------------------------+-------------+\n",
       "| 'Pf3D7_01_v3' | 'intergenic_1' |         40207 |        42367 |           2160 | 'PF3D7_0100200_PF3D7_0100300' |               65564 | 'SubtelomericHypervariable' |       65564 |\n",
       "+---------------+----------------+---------------+--------------+----------------+-------------------------------+---------------------+-----------------------------+-------------+\n",
       "| 'Pf3D7_01_v3' | 'intergenic_2' |         46507 |        50363 |           3856 | 'PF3D7_0100300_PF3D7_0100400' |               65564 | 'SubtelomericHypervariable' |       65564 |\n",
       "+---------------+----------------+---------------+--------------+----------------+-------------------------------+---------------------+-----------------------------+-------------+\n",
       "| 'Pf3D7_01_v3' | 'intergenic_0' |         51636 |        53169 |           1533 | 'PF3D7_0100400_PF3D7_0100500' |               65564 | 'SubtelomericHypervariable' |       65564 |\n",
       "+---------------+----------------+---------------+--------------+----------------+-------------------------------+---------------------+-----------------------------+-------------+\n",
       "| 'Pf3D7_01_v3' | 'intergenic_1' |         53280 |        53778 |            498 | 'PF3D7_0100500_PF3D7_0100600' |               65564 | 'SubtelomericHypervariable' |       65564 |\n",
       "+---------------+----------------+---------------+--------------+----------------+-------------------------------+---------------------+-----------------------------+-------------+\n",
       "..."
      ]
     },
     "execution_count": 7,
     "metadata": {},
     "output_type": "execute_result"
    }
   ],
   "source": [
    "tbl_intergenic"
   ]
  },
  {
   "cell_type": "code",
   "execution_count": 8,
   "metadata": {
    "collapsed": false
   },
   "outputs": [
    {
     "data": {
      "image/png": "[encoded data removed]",
      "text/plain": [
       "<matplotlib.figure.Figure at 0x7fdc1abbf0b8>"
      ]
     },
     "metadata": {},
     "output_type": "display_data"
    }
   ],
   "source": [
    "df = tbl_intergenic.cut('feature_length', 'feature_type').todataframe()\n",
    "df.boxplot('feature_length', 'feature_type', grid=False)\n",
    "plt.ylim(0, 8000)\n",
    "plt.suptitle('Intergenic');"
   ]
  },
  {
   "cell_type": "code",
   "execution_count": 9,
   "metadata": {
    "collapsed": false
   },
   "outputs": [
    {
     "data": {
      "text/html": [
       "<table class='petl'>\n",
       "<thead>\n",
       "<tr>\n",
       "<th>0|feature_chrom</th>\n",
       "<th>1|feature_type</th>\n",
       "<th>2|feature_start</th>\n",
       "<th>3|feature_stop</th>\n",
       "<th>4|feature_length</th>\n",
       "<th>5|feature_strand</th>\n",
       "<th>6|feature_id</th>\n",
       "<th>7|feature_parent_id</th>\n",
       "<th>8|feature_name</th>\n",
       "<th>9|feature_previous_id</th>\n",
       "<th>10|feature_region_type</th>\n",
       "<th>11|feature_region_size</th>\n",
       "</tr>\n",
       "</thead>\n",
       "<tbody>\n",
       "<tr>\n",
       "<td>Pf3D7_01_v3</td>\n",
       "<td>CDS</td>\n",
       "<td style='text-align: right'>29510</td>\n",
       "<td style='text-align: right'>34762</td>\n",
       "<td style='text-align: right'>5252</td>\n",
       "<td>+</td>\n",
       "<td>PF3D7_0100100.1:exon:1</td>\n",
       "<td>PF3D7_0100100.1</td>\n",
       "<td>None</td>\n",
       "<td>None</td>\n",
       "<td>SubtelomericHypervariable</td>\n",
       "<td style='text-align: right'>65564</td>\n",
       "</tr>\n",
       "<tr>\n",
       "<td>Pf3D7_01_v3</td>\n",
       "<td>CDS</td>\n",
       "<td style='text-align: right'>35888</td>\n",
       "<td style='text-align: right'>37126</td>\n",
       "<td style='text-align: right'>1238</td>\n",
       "<td>+</td>\n",
       "<td>PF3D7_0100100.1:exon:2</td>\n",
       "<td>PF3D7_0100100.1</td>\n",
       "<td>None</td>\n",
       "<td>None</td>\n",
       "<td>SubtelomericHypervariable</td>\n",
       "<td style='text-align: right'>65564</td>\n",
       "</tr>\n",
       "<tr>\n",
       "<td>Pf3D7_01_v3</td>\n",
       "<td>CDS</td>\n",
       "<td style='text-align: right'>38982</td>\n",
       "<td style='text-align: right'>39923</td>\n",
       "<td style='text-align: right'>941</td>\n",
       "<td>-</td>\n",
       "<td>PF3D7_0100200.1:exon:1</td>\n",
       "<td>PF3D7_0100200.1</td>\n",
       "<td>None</td>\n",
       "<td>None</td>\n",
       "<td>SubtelomericHypervariable</td>\n",
       "<td style='text-align: right'>65564</td>\n",
       "</tr>\n",
       "<tr>\n",
       "<td>Pf3D7_01_v3</td>\n",
       "<td>CDS</td>\n",
       "<td style='text-align: right'>40154</td>\n",
       "<td style='text-align: right'>40207</td>\n",
       "<td style='text-align: right'>53</td>\n",
       "<td>-</td>\n",
       "<td>PF3D7_0100200.1:exon:2</td>\n",
       "<td>PF3D7_0100200.1</td>\n",
       "<td>None</td>\n",
       "<td>None</td>\n",
       "<td>SubtelomericHypervariable</td>\n",
       "<td style='text-align: right'>65564</td>\n",
       "</tr>\n",
       "<tr>\n",
       "<td>Pf3D7_01_v3</td>\n",
       "<td>CDS</td>\n",
       "<td style='text-align: right'>42367</td>\n",
       "<td style='text-align: right'>43617</td>\n",
       "<td style='text-align: right'>1250</td>\n",
       "<td>-</td>\n",
       "<td>PF3D7_0100300.1:exon:1</td>\n",
       "<td>PF3D7_0100300.1</td>\n",
       "<td>None</td>\n",
       "<td>None</td>\n",
       "<td>SubtelomericHypervariable</td>\n",
       "<td style='text-align: right'>65564</td>\n",
       "</tr>\n",
       "</tbody>\n",
       "</table>\n",
       "<p><strong>...</strong></p>"
      ],
      "text/plain": [
       "+---------------+--------------+---------------+--------------+----------------+----------------+--------------------------+-------------------+--------------+---------------------+-----------------------------+---------------------+\n",
       "| feature_chrom | feature_type | feature_start | feature_stop | feature_length | feature_strand | feature_id               | feature_parent_id | feature_name | feature_previous_id | feature_region_type         | feature_region_size |\n",
       "+===============+==============+===============+==============+================+================+==========================+===================+==============+=====================+=============================+=====================+\n",
       "| 'Pf3D7_01_v3' | 'CDS'        |         29510 |        34762 |           5252 | '+'            | 'PF3D7_0100100.1:exon:1' | 'PF3D7_0100100.1' | None         | None                | 'SubtelomericHypervariable' |               65564 |\n",
       "+---------------+--------------+---------------+--------------+----------------+----------------+--------------------------+-------------------+--------------+---------------------+-----------------------------+---------------------+\n",
       "| 'Pf3D7_01_v3' | 'CDS'        |         35888 |        37126 |           1238 | '+'            | 'PF3D7_0100100.1:exon:2' | 'PF3D7_0100100.1' | None         | None                | 'SubtelomericHypervariable' |               65564 |\n",
       "+---------------+--------------+---------------+--------------+----------------+----------------+--------------------------+-------------------+--------------+---------------------+-----------------------------+---------------------+\n",
       "| 'Pf3D7_01_v3' | 'CDS'        |         38982 |        39923 |            941 | '-'            | 'PF3D7_0100200.1:exon:1' | 'PF3D7_0100200.1' | None         | None                | 'SubtelomericHypervariable' |               65564 |\n",
       "+---------------+--------------+---------------+--------------+----------------+----------------+--------------------------+-------------------+--------------+---------------------+-----------------------------+---------------------+\n",
       "| 'Pf3D7_01_v3' | 'CDS'        |         40154 |        40207 |             53 | '-'            | 'PF3D7_0100200.1:exon:2' | 'PF3D7_0100200.1' | None         | None                | 'SubtelomericHypervariable' |               65564 |\n",
       "+---------------+--------------+---------------+--------------+----------------+----------------+--------------------------+-------------------+--------------+---------------------+-----------------------------+---------------------+\n",
       "| 'Pf3D7_01_v3' | 'CDS'        |         42367 |        43617 |           1250 | '-'            | 'PF3D7_0100300.1:exon:1' | 'PF3D7_0100300.1' | None         | None                | 'SubtelomericHypervariable' |               65564 |\n",
       "+---------------+--------------+---------------+--------------+----------------+----------------+--------------------------+-------------------+--------------+---------------------+-----------------------------+---------------------+\n",
       "..."
      ]
     },
     "execution_count": 9,
     "metadata": {},
     "output_type": "execute_result"
    }
   ],
   "source": [
    "tbl_exons"
   ]
  },
  {
   "cell_type": "code",
   "execution_count": 10,
   "metadata": {
    "collapsed": false
   },
   "outputs": [
    {
     "data": {
      "image/png": "[encoded data removed]",
      "text/plain": [
       "<matplotlib.figure.Figure at 0x7fdc1abbf588>"
      ]
     },
     "metadata": {},
     "output_type": "display_data"
    }
   ],
   "source": [
    "df = tbl_exons.cut('feature_strand', 'feature_length').todataframe()\n",
    "df.boxplot('feature_length', 'feature_strand', grid=False)\n",
    "plt.suptitle('Exons');"
   ]
  },
  {
   "cell_type": "code",
   "execution_count": 11,
   "metadata": {
    "collapsed": false
   },
   "outputs": [
    {
     "data": {
      "text/html": [
       "<table class='petl'>\n",
       "<thead>\n",
       "<tr>\n",
       "<th>0|feature_chrom</th>\n",
       "<th>1|feature_type</th>\n",
       "<th>2|feature_start</th>\n",
       "<th>3|feature_stop</th>\n",
       "<th>4|feature_length</th>\n",
       "<th>5|feature_strand</th>\n",
       "<th>6|feature_id</th>\n",
       "<th>7|feature_parent_id</th>\n",
       "<th>8|feature_name</th>\n",
       "<th>9|feature_previous_id</th>\n",
       "<th>10|feature_region_size</th>\n",
       "<th>11|feature_region_type</th>\n",
       "<th>12|region_size</th>\n",
       "</tr>\n",
       "</thead>\n",
       "<tbody>\n",
       "<tr>\n",
       "<td>Pf3D7_01_v3</td>\n",
       "<td>intron</td>\n",
       "<td style='text-align: right'>34762</td>\n",
       "<td style='text-align: right'>35888</td>\n",
       "<td style='text-align: right'>1126</td>\n",
       "<td>+</td>\n",
       "<td>PF3D7_0100100.1:exon:1_PF3D7_0100100.1:exon:2</td>\n",
       "<td>PF3D7_0100100.1</td>\n",
       "<td>None</td>\n",
       "<td>None</td>\n",
       "<td style='text-align: right'>65564</td>\n",
       "<td>SubtelomericHypervariable</td>\n",
       "<td style='text-align: right'>65564</td>\n",
       "</tr>\n",
       "<tr>\n",
       "<td>Pf3D7_01_v3</td>\n",
       "<td>intron</td>\n",
       "<td style='text-align: right'>39923</td>\n",
       "<td style='text-align: right'>40154</td>\n",
       "<td style='text-align: right'>231</td>\n",
       "<td>-</td>\n",
       "<td>PF3D7_0100200.1:exon:1_PF3D7_0100200.1:exon:2</td>\n",
       "<td>PF3D7_0100200.1</td>\n",
       "<td>None</td>\n",
       "<td>None</td>\n",
       "<td style='text-align: right'>65564</td>\n",
       "<td>SubtelomericHypervariable</td>\n",
       "<td style='text-align: right'>65564</td>\n",
       "</tr>\n",
       "<tr>\n",
       "<td>Pf3D7_01_v3</td>\n",
       "<td>intron</td>\n",
       "<td style='text-align: right'>43617</td>\n",
       "<td style='text-align: right'>43775</td>\n",
       "<td style='text-align: right'>158</td>\n",
       "<td>-</td>\n",
       "<td>PF3D7_0100300.1:exon:1_PF3D7_0100300.1:exon:2</td>\n",
       "<td>PF3D7_0100300.1</td>\n",
       "<td>None</td>\n",
       "<td>None</td>\n",
       "<td style='text-align: right'>65564</td>\n",
       "<td>SubtelomericHypervariable</td>\n",
       "<td style='text-align: right'>65564</td>\n",
       "</tr>\n",
       "<tr>\n",
       "<td>Pf3D7_01_v3</td>\n",
       "<td>intron</td>\n",
       "<td style='text-align: right'>50416</td>\n",
       "<td style='text-align: right'>50572</td>\n",
       "<td style='text-align: right'>156</td>\n",
       "<td>+</td>\n",
       "<td>PF3D7_0100400.1:exon:1_PF3D7_0100400.1:exon:2</td>\n",
       "<td>PF3D7_0100400.1</td>\n",
       "<td>None</td>\n",
       "<td>None</td>\n",
       "<td style='text-align: right'>65564</td>\n",
       "<td>SubtelomericHypervariable</td>\n",
       "<td style='text-align: right'>65564</td>\n",
       "</tr>\n",
       "<tr>\n",
       "<td>Pf3D7_01_v3</td>\n",
       "<td>intron</td>\n",
       "<td style='text-align: right'>54788</td>\n",
       "<td style='text-align: right'>54938</td>\n",
       "<td style='text-align: right'>150</td>\n",
       "<td>-</td>\n",
       "<td>PF3D7_0100600.1:exon:1_PF3D7_0100600.1:exon:2</td>\n",
       "<td>PF3D7_0100600.1</td>\n",
       "<td>None</td>\n",
       "<td>None</td>\n",
       "<td style='text-align: right'>65564</td>\n",
       "<td>SubtelomericHypervariable</td>\n",
       "<td style='text-align: right'>65564</td>\n",
       "</tr>\n",
       "</tbody>\n",
       "</table>\n",
       "<p><strong>...</strong></p>"
      ],
      "text/plain": [
       "+---------------+--------------+---------------+--------------+----------------+----------------+-------------------------------------------------+-------------------+--------------+---------------------+---------------------+-----------------------------+-------------+\n",
       "| feature_chrom | feature_type | feature_start | feature_stop | feature_length | feature_strand | feature_id                                      | feature_parent_id | feature_name | feature_previous_id | feature_region_size | feature_region_type         | region_size |\n",
       "+===============+==============+===============+==============+================+================+=================================================+===================+==============+=====================+=====================+=============================+=============+\n",
       "| 'Pf3D7_01_v3' | 'intron'     |         34762 |        35888 |           1126 | '+'            | 'PF3D7_0100100.1:exon:1_PF3D7_0100100.1:exon:2' | 'PF3D7_0100100.1' | None         | None                |               65564 | 'SubtelomericHypervariable' |       65564 |\n",
       "+---------------+--------------+---------------+--------------+----------------+----------------+-------------------------------------------------+-------------------+--------------+---------------------+---------------------+-----------------------------+-------------+\n",
       "| 'Pf3D7_01_v3' | 'intron'     |         39923 |        40154 |            231 | '-'            | 'PF3D7_0100200.1:exon:1_PF3D7_0100200.1:exon:2' | 'PF3D7_0100200.1' | None         | None                |               65564 | 'SubtelomericHypervariable' |       65564 |\n",
       "+---------------+--------------+---------------+--------------+----------------+----------------+-------------------------------------------------+-------------------+--------------+---------------------+---------------------+-----------------------------+-------------+\n",
       "| 'Pf3D7_01_v3' | 'intron'     |         43617 |        43775 |            158 | '-'            | 'PF3D7_0100300.1:exon:1_PF3D7_0100300.1:exon:2' | 'PF3D7_0100300.1' | None         | None                |               65564 | 'SubtelomericHypervariable' |       65564 |\n",
       "+---------------+--------------+---------------+--------------+----------------+----------------+-------------------------------------------------+-------------------+--------------+---------------------+---------------------+-----------------------------+-------------+\n",
       "| 'Pf3D7_01_v3' | 'intron'     |         50416 |        50572 |            156 | '+'            | 'PF3D7_0100400.1:exon:1_PF3D7_0100400.1:exon:2' | 'PF3D7_0100400.1' | None         | None                |               65564 | 'SubtelomericHypervariable' |       65564 |\n",
       "+---------------+--------------+---------------+--------------+----------------+----------------+-------------------------------------------------+-------------------+--------------+---------------------+---------------------+-----------------------------+-------------+\n",
       "| 'Pf3D7_01_v3' | 'intron'     |         54788 |        54938 |            150 | '-'            | 'PF3D7_0100600.1:exon:1_PF3D7_0100600.1:exon:2' | 'PF3D7_0100600.1' | None         | None                |               65564 | 'SubtelomericHypervariable' |       65564 |\n",
       "+---------------+--------------+---------------+--------------+----------------+----------------+-------------------------------------------------+-------------------+--------------+---------------------+---------------------+-----------------------------+-------------+\n",
       "..."
      ]
     },
     "execution_count": 11,
     "metadata": {},
     "output_type": "execute_result"
    }
   ],
   "source": [
    "tbl_introns"
   ]
  },
  {
   "cell_type": "code",
   "execution_count": 12,
   "metadata": {
    "collapsed": false
   },
   "outputs": [
    {
     "data": {
      "image/png": "[encoded data removed]",
      "text/plain": [
       "<matplotlib.figure.Figure at 0x7fdc065fb630>"
      ]
     },
     "metadata": {},
     "output_type": "display_data"
    }
   ],
   "source": [
    "df = tbl_introns.cut('feature_strand', 'feature_length').todataframe()\n",
    "df.boxplot('feature_length', 'feature_strand', grid=False)\n",
    "plt.suptitle('Introns');"
   ]
  },
  {
   "cell_type": "code",
   "execution_count": 13,
   "metadata": {
    "collapsed": false
   },
   "outputs": [
    {
     "name": "stderr",
     "output_type": "stream",
     "text": [
      "2016-03-08 18:10:02.327244 :: loading /data/plasmodium/pfalciparum/pf-crosses/data/public/20141022/3d7_hb3.combined.final.npz\n",
      "2016-03-08 18:10:02.675108 :: filter variants: excluding 157 (0.4%) retaining 42087 (99.6%) of 42244 variants\n",
      "2016-03-08 18:10:02.694079 :: loading /data/plasmodium/pfalciparum/pf-crosses/data/public/20141022/hb3_dd2.combined.final.npz\n",
      "2016-03-08 18:10:03.119766 :: filter variants: excluding 450 (1.2%) retaining 36461 (98.8%) of 36911 variants\n",
      "2016-03-08 18:10:03.144318 :: loading /data/plasmodium/pfalciparum/pf-crosses/data/public/20141022/7g8_gb4.combined.final.npz\n",
      "2016-03-08 18:10:03.597629 :: filter variants: excluding 304 (0.9%) retaining 34471 (99.1%) of 34775 variants\n",
      "2016-03-08 18:10:03.617412 :: filter variants: excluding 26699 (63.4%) retaining 15388 (36.6%) of 42087 variants\n",
      "2016-03-08 18:10:03.625040 :: filter variants: excluding 21576 (59.2%) retaining 14885 (40.8%) of 36461 variants\n",
      "2016-03-08 18:10:03.638832 :: filter variants: excluding 20079 (58.2%) retaining 14392 (41.8%) of 34471 variants\n",
      "2016-03-08 18:10:03.653141 :: filter variants: excluding 15388 (36.6%) retaining 26699 (63.4%) of 42087 variants\n",
      "2016-03-08 18:10:03.665831 :: filter variants: excluding 14885 (40.8%) retaining 21576 (59.2%) of 36461 variants\n",
      "2016-03-08 18:10:03.681223 :: filter variants: excluding 14392 (41.8%) retaining 20079 (58.2%) of 34471 variants\n",
      "2016-03-08 18:10:03.699509 :: filter variants: excluding 19736 (46.9%) retaining 22351 (53.1%) of 42087 variants\n",
      "2016-03-08 18:10:03.713274 :: filter variants: excluding 18816 (51.6%) retaining 17645 (48.4%) of 36461 variants\n",
      "2016-03-08 18:10:03.725941 :: filter variants: excluding 18167 (52.7%) retaining 16304 (47.3%) of 34471 variants\n",
      "2016-03-08 18:10:03.744395 :: filter variants: excluding 37739 (89.7%) retaining 4348 (10.3%) of 42087 variants\n",
      "2016-03-08 18:10:03.748786 :: filter variants: excluding 32530 (89.2%) retaining 3931 (10.8%) of 36461 variants\n",
      "2016-03-08 18:10:03.755149 :: filter variants: excluding 30696 (89.0%) retaining 3775 (11.0%) of 34471 variants\n"
     ]
    }
   ],
   "source": [
    "callsets = load_callsets(COMBINED_CALLSET_FN_TEMPLATE, variant_filter='FILTER_PASS')\n",
    "callsets_snp = filter_callsets(callsets, variant_filter='is_snp')\n",
    "callsets_indel = filter_callsets(callsets, variant_filter='~is_snp')\n",
    "callsets_indel_str = filter_callsets(callsets, variant_filter='~is_snp & STR')\n",
    "callsets_indel_nostr = filter_callsets(callsets, variant_filter='~is_snp & ~STR')"
   ]
  },
  {
   "cell_type": "code",
   "execution_count": 14,
   "metadata": {
    "collapsed": false
   },
   "outputs": [],
   "source": [
    "def tabulate_diversity(tbl, callset, field='diversity'):\n",
    "    \n",
    "    V, _, _ = unpack_callset(callset)\n",
    "    CHROM = V.CHROM\n",
    "    POS = V.POS\n",
    "    \n",
    "    def add_diversity(row):\n",
    "        start_index, stop_index = locate_variants(CHROM, POS, row.feature_chrom, row.feature_start, row.feature_stop)\n",
    "        n = stop_index - start_index\n",
    "        return n / row.feature_length\n",
    "    \n",
    "    return tbl.addfield(field, add_diversity)\n",
    "    \n",
    "    \n",
    "etl.Table.tabulate_diversity = tabulate_diversity\n",
    "\n",
    "\n",
    "def add_diversity_fields(tbl):\n",
    "    return (tbl\n",
    "        .tabulate_diversity(\n",
    "            callsets_snp['3d7_hb3'],\n",
    "            'snp_diversity_3d7_hb3'\n",
    "        )\n",
    "        .tabulate_diversity(\n",
    "            callsets_indel['3d7_hb3'],\n",
    "            'indel_diversity_3d7_hb3'\n",
    "        )\n",
    "        .tabulate_diversity(\n",
    "            callsets_indel_str['3d7_hb3'],\n",
    "            'indel_str_diversity_3d7_hb3'\n",
    "        )\n",
    "        .tabulate_diversity(\n",
    "            callsets_indel_nostr['3d7_hb3'],\n",
    "            'indel_nostr_diversity_3d7_hb3'\n",
    "        )\n",
    "        .tabulate_diversity(\n",
    "            callsets_snp['hb3_dd2'],\n",
    "            'snp_diversity_hb3_dd2'\n",
    "        )\n",
    "        .tabulate_diversity(\n",
    "            callsets_indel['hb3_dd2'],\n",
    "            'indel_diversity_hb3_dd2'\n",
    "        )\n",
    "        .tabulate_diversity(\n",
    "            callsets_indel_str['hb3_dd2'],\n",
    "            'indel_str_diversity_hb3_dd2'\n",
    "        )\n",
    "        .tabulate_diversity(\n",
    "            callsets_indel_nostr['hb3_dd2'],\n",
    "            'indel_nostr_diversity_hb3_dd2'\n",
    "        )\n",
    "        .tabulate_diversity(\n",
    "            callsets_snp['7g8_gb4'],\n",
    "            'snp_diversity_7g8_gb4'\n",
    "        )\n",
    "        .tabulate_diversity(\n",
    "            callsets_indel['7g8_gb4'],\n",
    "            'indel_diversity_7g8_gb4'\n",
    "        )\n",
    "        .tabulate_diversity(\n",
    "            callsets_indel_str['7g8_gb4'],\n",
    "            'indel_str_diversity_7g8_gb4'\n",
    "        )\n",
    "        .tabulate_diversity(\n",
    "            callsets_indel_nostr['7g8_gb4'],\n",
    "            'indel_nostr_diversity_7g8_gb4'\n",
    "        )\n",
    "        .addfield('snp_diversity_all', lambda row: sum(row['snp_diversity_%s' % cross] for cross in CROSSES) / 3)\n",
    "        .addfield('indel_diversity_all', lambda row: sum(row['indel_diversity_%s' % cross] for cross in CROSSES) / 3)\n",
    "        .addfield('indel_str_diversity_all', lambda row: sum(row['indel_str_diversity_%s' % cross] for cross in CROSSES) / 3)\n",
    "        .addfield('indel_nostr_diversity_all', lambda row: sum(row['indel_nostr_diversity_%s' % cross] for cross in CROSSES) / 3)\n",
    "    )\n",
    "\n",
    "\n",
    "etl.Table.add_diversity_fields = add_diversity_fields"
   ]
  },
  {
   "cell_type": "code",
   "execution_count": 15,
   "metadata": {
    "collapsed": false
   },
   "outputs": [
    {
     "data": {
      "text/html": [
       "<table class='petl'>\n",
       "<thead>\n",
       "<tr>\n",
       "<th>0|feature_chrom</th>\n",
       "<th>1|feature_type</th>\n",
       "<th>2|feature_start</th>\n",
       "<th>3|feature_stop</th>\n",
       "<th>4|feature_length</th>\n",
       "<th>5|feature_strand</th>\n",
       "<th>6|feature_id</th>\n",
       "<th>7|feature_parent_id</th>\n",
       "<th>8|feature_name</th>\n",
       "<th>9|feature_previous_id</th>\n",
       "<th>10|feature_region_size</th>\n",
       "<th>11|region_size</th>\n",
       "<th>12|snp_diversity_3d7_hb3</th>\n",
       "<th>13|indel_diversity_3d7_hb3</th>\n",
       "<th>14|indel_str_diversity_3d7_hb3</th>\n",
       "<th>15|indel_nostr_diversity_3d7_hb3</th>\n",
       "<th>16|snp_diversity_hb3_dd2</th>\n",
       "<th>17|indel_diversity_hb3_dd2</th>\n",
       "<th>18|indel_str_diversity_hb3_dd2</th>\n",
       "<th>19|indel_nostr_diversity_hb3_dd2</th>\n",
       "<th>20|snp_diversity_7g8_gb4</th>\n",
       "<th>21|indel_diversity_7g8_gb4</th>\n",
       "<th>22|indel_str_diversity_7g8_gb4</th>\n",
       "<th>23|indel_nostr_diversity_7g8_gb4</th>\n",
       "<th>24|snp_diversity_all</th>\n",
       "<th>25|indel_diversity_all</th>\n",
       "<th>26|indel_str_diversity_all</th>\n",
       "<th>27|indel_nostr_diversity_all</th>\n",
       "</tr>\n",
       "</thead>\n",
       "<tbody>\n",
       "<tr>\n",
       "<td>Pf3D7_01_v3</td>\n",
       "<td>intergenic_1</td>\n",
       "<td style='text-align: right'>91420</td>\n",
       "<td style='text-align: right'>93113</td>\n",
       "<td style='text-align: right'>1693</td>\n",
       "<td>None</td>\n",
       "<td>PF3D7_0101900_PF3D7_0102000</td>\n",
       "<td>None</td>\n",
       "<td>None</td>\n",
       "<td>None</td>\n",
       "<td style='text-align: right'>65564</td>\n",
       "<td style='text-align: right'>365031</td>\n",
       "<td style='text-align: right'>0.0</td>\n",
       "<td style='text-align: right'>0.0</td>\n",
       "<td style='text-align: right'>0.0</td>\n",
       "<td style='text-align: right'>0.0</td>\n",
       "<td style='text-align: right'>0.0</td>\n",
       "<td style='text-align: right'>0.0</td>\n",
       "<td style='text-align: right'>0.0</td>\n",
       "<td style='text-align: right'>0.0</td>\n",
       "<td style='text-align: right'>0.0</td>\n",
       "<td style='text-align: right'>0.0</td>\n",
       "<td style='text-align: right'>0.0</td>\n",
       "<td style='text-align: right'>0.0</td>\n",
       "<td style='text-align: right'>0.0</td>\n",
       "<td style='text-align: right'>0.0</td>\n",
       "<td style='text-align: right'>0.0</td>\n",
       "<td style='text-align: right'>0.0</td>\n",
       "</tr>\n",
       "<tr>\n",
       "<td>Pf3D7_01_v3</td>\n",
       "<td>intergenic_2</td>\n",
       "<td style='text-align: right'>93875</td>\n",
       "<td style='text-align: right'>95050</td>\n",
       "<td style='text-align: right'>1175</td>\n",
       "<td>None</td>\n",
       "<td>PF3D7_0102000_PF3D7_0102100</td>\n",
       "<td>None</td>\n",
       "<td>None</td>\n",
       "<td>None</td>\n",
       "<td style='text-align: right'>365031</td>\n",
       "<td style='text-align: right'>365031</td>\n",
       "<td style='text-align: right'>0.0</td>\n",
       "<td style='text-align: right'>0.002553191489361702</td>\n",
       "<td style='text-align: right'>0.001702127659574468</td>\n",
       "<td style='text-align: right'>0.000851063829787234</td>\n",
       "<td style='text-align: right'>0.0</td>\n",
       "<td style='text-align: right'>0.001702127659574468</td>\n",
       "<td style='text-align: right'>0.000851063829787234</td>\n",
       "<td style='text-align: right'>0.000851063829787234</td>\n",
       "<td style='text-align: right'>0.002553191489361702</td>\n",
       "<td style='text-align: right'>0.003404255319148936</td>\n",
       "<td style='text-align: right'>0.002553191489361702</td>\n",
       "<td style='text-align: right'>0.000851063829787234</td>\n",
       "<td style='text-align: right'>0.000851063829787234</td>\n",
       "<td style='text-align: right'>0.002553191489361702</td>\n",
       "<td style='text-align: right'>0.001702127659574468</td>\n",
       "<td style='text-align: right'>0.000851063829787234</td>\n",
       "</tr>\n",
       "<tr>\n",
       "<td>Pf3D7_01_v3</td>\n",
       "<td>intergenic_1</td>\n",
       "<td style='text-align: right'>95899</td>\n",
       "<td style='text-align: right'>98819</td>\n",
       "<td style='text-align: right'>2920</td>\n",
       "<td>None</td>\n",
       "<td>PF3D7_0102100_PF3D7_0102200</td>\n",
       "<td>None</td>\n",
       "<td>None</td>\n",
       "<td>None</td>\n",
       "<td style='text-align: right'>365031</td>\n",
       "<td style='text-align: right'>365031</td>\n",
       "<td style='text-align: right'>0.0</td>\n",
       "<td style='text-align: right'>0.0006849315068493151</td>\n",
       "<td style='text-align: right'>0.0006849315068493151</td>\n",
       "<td style='text-align: right'>0.0</td>\n",
       "<td style='text-align: right'>0.0</td>\n",
       "<td style='text-align: right'>0.0006849315068493151</td>\n",
       "<td style='text-align: right'>0.00034246575342465754</td>\n",
       "<td style='text-align: right'>0.00034246575342465754</td>\n",
       "<td style='text-align: right'>0.0</td>\n",
       "<td style='text-align: right'>0.0006849315068493151</td>\n",
       "<td style='text-align: right'>0.0006849315068493151</td>\n",
       "<td style='text-align: right'>0.0</td>\n",
       "<td style='text-align: right'>0.0</td>\n",
       "<td style='text-align: right'>0.0006849315068493152</td>\n",
       "<td style='text-align: right'>0.0005707762557077626</td>\n",
       "<td style='text-align: right'>0.00011415525114155251</td>\n",
       "</tr>\n",
       "<tr>\n",
       "<td>Pf3D7_01_v3</td>\n",
       "<td>CDS</td>\n",
       "<td style='text-align: right'>98819</td>\n",
       "<td style='text-align: right'>99013</td>\n",
       "<td style='text-align: right'>194</td>\n",
       "<td>+</td>\n",
       "<td>PF3D7_0102200.1:exon:1</td>\n",
       "<td>PF3D7_0102200.1</td>\n",
       "<td>None</td>\n",
       "<td>None</td>\n",
       "<td style='text-align: right'>365031</td>\n",
       "<td>None</td>\n",
       "<td style='text-align: right'>0.005154639175257732</td>\n",
       "<td style='text-align: right'>0.0</td>\n",
       "<td style='text-align: right'>0.0</td>\n",
       "<td style='text-align: right'>0.0</td>\n",
       "<td style='text-align: right'>0.0</td>\n",
       "<td style='text-align: right'>0.0</td>\n",
       "<td style='text-align: right'>0.0</td>\n",
       "<td style='text-align: right'>0.0</td>\n",
       "<td style='text-align: right'>0.005154639175257732</td>\n",
       "<td style='text-align: right'>0.0</td>\n",
       "<td style='text-align: right'>0.0</td>\n",
       "<td style='text-align: right'>0.0</td>\n",
       "<td style='text-align: right'>0.003436426116838488</td>\n",
       "<td style='text-align: right'>0.0</td>\n",
       "<td style='text-align: right'>0.0</td>\n",
       "<td style='text-align: right'>0.0</td>\n",
       "</tr>\n",
       "<tr>\n",
       "<td>Pf3D7_01_v3</td>\n",
       "<td>intron</td>\n",
       "<td style='text-align: right'>99013</td>\n",
       "<td style='text-align: right'>99220</td>\n",
       "<td style='text-align: right'>207</td>\n",
       "<td>+</td>\n",
       "<td>PF3D7_0102200.1:exon:1_PF3D7_0102200.1:exon:2</td>\n",
       "<td>PF3D7_0102200.1</td>\n",
       "<td>None</td>\n",
       "<td>None</td>\n",
       "<td style='text-align: right'>365031</td>\n",
       "<td style='text-align: right'>365031</td>\n",
       "<td style='text-align: right'>0.0</td>\n",
       "<td style='text-align: right'>0.0</td>\n",
       "<td style='text-align: right'>0.0</td>\n",
       "<td style='text-align: right'>0.0</td>\n",
       "<td style='text-align: right'>0.0</td>\n",
       "<td style='text-align: right'>0.0</td>\n",
       "<td style='text-align: right'>0.0</td>\n",
       "<td style='text-align: right'>0.0</td>\n",
       "<td style='text-align: right'>0.0</td>\n",
       "<td style='text-align: right'>0.0</td>\n",
       "<td style='text-align: right'>0.0</td>\n",
       "<td style='text-align: right'>0.0</td>\n",
       "<td style='text-align: right'>0.0</td>\n",
       "<td style='text-align: right'>0.0</td>\n",
       "<td style='text-align: right'>0.0</td>\n",
       "<td style='text-align: right'>0.0</td>\n",
       "</tr>\n",
       "</tbody>\n",
       "</table>\n",
       "<p><strong>...</strong></p>"
      ],
      "text/plain": [
       "+---------------+----------------+---------------+--------------+----------------+----------------+-------------------------------------------------+-------------------+--------------+---------------------+---------------------+-------------+-----------------------+-------------------------+-----------------------------+-------------------------------+-----------------------+-------------------------+-----------------------------+-------------------------------+-----------------------+-------------------------+-----------------------------+-------------------------------+----------------------+-----------------------+-------------------------+---------------------------+\n",
       "| feature_chrom | feature_type   | feature_start | feature_stop | feature_length | feature_strand | feature_id                                      | feature_parent_id | feature_name | feature_previous_id | feature_region_size | region_size | snp_diversity_3d7_hb3 | indel_diversity_3d7_hb3 | indel_str_diversity_3d7_hb3 | indel_nostr_diversity_3d7_hb3 | snp_diversity_hb3_dd2 | indel_diversity_hb3_dd2 | indel_str_diversity_hb3_dd2 | indel_nostr_diversity_hb3_dd2 | snp_diversity_7g8_gb4 | indel_diversity_7g8_gb4 | indel_str_diversity_7g8_gb4 | indel_nostr_diversity_7g8_gb4 | snp_diversity_all    | indel_diversity_all   | indel_str_diversity_all | indel_nostr_diversity_all |\n",
       "+===============+================+===============+==============+================+================+=================================================+===================+==============+=====================+=====================+=============+=======================+=========================+=============================+===============================+=======================+=========================+=============================+===============================+=======================+=========================+=============================+===============================+======================+=======================+=========================+===========================+\n",
       "| 'Pf3D7_01_v3' | 'intergenic_1' |         91420 |        93113 |           1693 | None           | 'PF3D7_0101900_PF3D7_0102000'                   | None              | None         | None                |               65564 |      365031 |                   0.0 |                     0.0 |                         0.0 |                           0.0 |                   0.0 |                     0.0 |                         0.0 |                           0.0 |                   0.0 |                     0.0 |                         0.0 |                           0.0 |                  0.0 |                   0.0 |                     0.0 |                       0.0 |\n",
       "+---------------+----------------+---------------+--------------+----------------+----------------+-------------------------------------------------+-------------------+--------------+---------------------+---------------------+-------------+-----------------------+-------------------------+-----------------------------+-------------------------------+-----------------------+-------------------------+-----------------------------+-------------------------------+-----------------------+-------------------------+-----------------------------+-------------------------------+----------------------+-----------------------+-------------------------+---------------------------+\n",
       "| 'Pf3D7_01_v3' | 'intergenic_2' |         93875 |        95050 |           1175 | None           | 'PF3D7_0102000_PF3D7_0102100'                   | None              | None         | None                |              365031 |      365031 |                   0.0 |    0.002553191489361702 |        0.001702127659574468 |          0.000851063829787234 |                   0.0 |    0.001702127659574468 |        0.000851063829787234 |          0.000851063829787234 |  0.002553191489361702 |    0.003404255319148936 |        0.002553191489361702 |          0.000851063829787234 | 0.000851063829787234 |  0.002553191489361702 |    0.001702127659574468 |      0.000851063829787234 |\n",
       "+---------------+----------------+---------------+--------------+----------------+----------------+-------------------------------------------------+-------------------+--------------+---------------------+---------------------+-------------+-----------------------+-------------------------+-----------------------------+-------------------------------+-----------------------+-------------------------+-----------------------------+-------------------------------+-----------------------+-------------------------+-----------------------------+-------------------------------+----------------------+-----------------------+-------------------------+---------------------------+\n",
       "| 'Pf3D7_01_v3' | 'intergenic_1' |         95899 |        98819 |           2920 | None           | 'PF3D7_0102100_PF3D7_0102200'                   | None              | None         | None                |              365031 |      365031 |                   0.0 |   0.0006849315068493151 |       0.0006849315068493151 |                           0.0 |                   0.0 |   0.0006849315068493151 |      0.00034246575342465754 |        0.00034246575342465754 |                   0.0 |   0.0006849315068493151 |       0.0006849315068493151 |                           0.0 |                  0.0 | 0.0006849315068493152 |   0.0005707762557077626 |    0.00011415525114155251 |\n",
       "+---------------+----------------+---------------+--------------+----------------+----------------+-------------------------------------------------+-------------------+--------------+---------------------+---------------------+-------------+-----------------------+-------------------------+-----------------------------+-------------------------------+-----------------------+-------------------------+-----------------------------+-------------------------------+-----------------------+-------------------------+-----------------------------+-------------------------------+----------------------+-----------------------+-------------------------+---------------------------+\n",
       "| 'Pf3D7_01_v3' | 'CDS'          |         98819 |        99013 |            194 | '+'            | 'PF3D7_0102200.1:exon:1'                        | 'PF3D7_0102200.1' | None         | None                |              365031 | None        |  0.005154639175257732 |                     0.0 |                         0.0 |                           0.0 |                   0.0 |                     0.0 |                         0.0 |                           0.0 |  0.005154639175257732 |                     0.0 |                         0.0 |                           0.0 | 0.003436426116838488 |                   0.0 |                     0.0 |                       0.0 |\n",
       "+---------------+----------------+---------------+--------------+----------------+----------------+-------------------------------------------------+-------------------+--------------+---------------------+---------------------+-------------+-----------------------+-------------------------+-----------------------------+-------------------------------+-----------------------+-------------------------+-----------------------------+-------------------------------+-----------------------+-------------------------+-----------------------------+-------------------------------+----------------------+-----------------------+-------------------------+---------------------------+\n",
       "| 'Pf3D7_01_v3' | 'intron'       |         99013 |        99220 |            207 | '+'            | 'PF3D7_0102200.1:exon:1_PF3D7_0102200.1:exon:2' | 'PF3D7_0102200.1' | None         | None                |              365031 |      365031 |                   0.0 |                     0.0 |                         0.0 |                           0.0 |                   0.0 |                     0.0 |                         0.0 |                           0.0 |                   0.0 |                     0.0 |                         0.0 |                           0.0 |                  0.0 |                   0.0 |                     0.0 |                       0.0 |\n",
       "+---------------+----------------+---------------+--------------+----------------+----------------+-------------------------------------------------+-------------------+--------------+---------------------+---------------------+-------------+-----------------------+-------------------------+-----------------------------+-------------------------------+-----------------------+-------------------------+-----------------------------+-------------------------------+-----------------------+-------------------------+-----------------------------+-------------------------------+----------------------+-----------------------+-------------------------+---------------------------+\n",
       "..."
      ]
     },
     "execution_count": 15,
     "metadata": {},
     "output_type": "execute_result"
    }
   ],
   "source": [
    "@etlcache\n",
    "def tbl_feature_diversity():\n",
    "    return (etl\n",
    "        .cat(tbl_exons, tbl_introns, tbl_intergenic)\n",
    "        .eq('feature_region_type', 'Core')\n",
    "        .cutout('feature_region_type')\n",
    "        .sort(key=('feature_chrom', 'feature_start', 'feature_type'))\n",
    "        .add_diversity_fields()\n",
    "    )\n",
    "\n",
    "tbl_feature_diversity"
   ]
  },
  {
   "cell_type": "code",
   "execution_count": 16,
   "metadata": {
    "collapsed": false
   },
   "outputs": [
    {
     "data": {
      "text/plain": [
       "['CDS', 'intergenic_0', 'intergenic_1', 'intergenic_2', 'intron']"
      ]
     },
     "execution_count": 16,
     "metadata": {},
     "output_type": "execute_result"
    }
   ],
   "source": [
    "df_feature_diversity = tbl_feature_diversity.cutout('feature_id', 'feature_parent_id').todataframe()\n",
    "feature_types = sorted(df_feature_diversity.feature_type.unique())\n",
    "feature_types"
   ]
  },
  {
   "cell_type": "code",
   "execution_count": 17,
   "metadata": {
    "collapsed": false
   },
   "outputs": [],
   "source": [
    "def multi_boxplot(df, by, variables, figsize=(10, 2.5), suptitle='', axtitles=None, ylim=None):\n",
    "    \n",
    "    # setup figure\n",
    "    fig = plt.figure(figsize=figsize)\n",
    "    fig.suptitle(suptitle, fontsize=11, y=1.05)\n",
    "    n = len(variables)\n",
    "\n",
    "    # make subplots\n",
    "    for i, v in enumerate(variables):\n",
    "        \n",
    "        # setup subplot\n",
    "        ax = fig.add_subplot(1, n, i+1)\n",
    "        sns.despine(offset=5, ax=ax)\n",
    "        \n",
    "        # obtain subplot data\n",
    "        grouped = df.groupby(by)[v]\n",
    "        xticklabels = [g[0] for g in grouped]\n",
    "        x = [g[1] for g in grouped]\n",
    "        \n",
    "        # plotting\n",
    "        ax.boxplot(x, showmeans=True, notch=True);\n",
    "        ax.set_xticklabels(xticklabels, rotation=90)\n",
    "        ax.set_ylabel('')\n",
    "        if ylim:\n",
    "            ax.set_ylim(*ylim)\n",
    "        if axtitles:\n",
    "            ax.set_title(axtitles[i])\n",
    "        else:\n",
    "            ax.set_title(v)\n",
    "        if i == 0:\n",
    "            ax.set_ylabel('diversity (bp$^{-1}$)')\n",
    "        else:\n",
    "            ax.set_yticks([])\n",
    "            ax.spines['left'].set_visible(False)\n",
    "    \n",
    "    return fig\n"
   ]
  },
  {
   "cell_type": "code",
   "execution_count": 18,
   "metadata": {
    "collapsed": false
   },
   "outputs": [
    {
     "data": {
      "image/png": "[encoded data removed]",
      "text/plain": [
       "<matplotlib.figure.Figure at 0x7fdbaeb95a90>"
      ]
     },
     "metadata": {},
     "output_type": "display_data"
    },
    {
     "data": {
      "image/png": "[encoded data removed]",
      "text/plain": [
       "<matplotlib.figure.Figure at 0x7fdbacf89e80>"
      ]
     },
     "metadata": {},
     "output_type": "display_data"
    },
    {
     "data": {
      "image/png": "[encoded data removed]",
      "text/plain": [
       "<matplotlib.figure.Figure at 0x7fdbace3dac8>"
      ]
     },
     "metadata": {},
     "output_type": "display_data"
    },
    {
     "data": {
      "image/png": "[encoded data removed]",
      "text/plain": [
       "<matplotlib.figure.Figure at 0x7fdbac92d9b0>"
      ]
     },
     "metadata": {},
     "output_type": "display_data"
    }
   ],
   "source": [
    "by = 'feature_type'\n",
    "for cross in CROSSES + ('all',):\n",
    "    variables = [v % cross for v in ('snp_diversity_%s', 'indel_diversity_%s', 'indel_str_diversity_%s', 'indel_nostr_diversity_%s')]\n",
    "    suptitle = LABELS.get(cross, 'All crosses')\n",
    "    axtitles = 'SNPs', 'INDELs', 'INDELs (STR)', 'INDELs (non-STR)'\n",
    "    fig = multi_boxplot(df_feature_diversity, by, variables, ylim=(0, 0.005), suptitle=suptitle, axtitles=axtitles)\n",
    "#     fig.savefig('../../artwork/suppfig_feature_diversity_%s.jpeg' % cross, jpeg_quality=100, dpi=200, bbox_inches='tight')\n"
   ]
  },
  {
   "cell_type": "code",
   "execution_count": 19,
   "metadata": {
    "collapsed": false
   },
   "outputs": [
    {
     "ename": "ImportError",
     "evalue": "No module named 'scikits'",
     "output_type": "error",
     "traceback": [
      "\u001b[1;31m---------------------------------------------------------------------------\u001b[0m",
      "\u001b[1;31mImportError\u001b[0m                               Traceback (most recent call last)",
      "\u001b[1;32m<ipython-input-19-6c41ff1e7b16>\u001b[0m in \u001b[0;36m<module>\u001b[1;34m()\u001b[0m\n\u001b[1;32m----> 1\u001b[1;33m \u001b[1;32mimport\u001b[0m \u001b[0mscikits\u001b[0m\u001b[1;33m.\u001b[0m\u001b[0mbootstrap\u001b[0m \u001b[1;32mas\u001b[0m \u001b[0mbootstrap\u001b[0m\u001b[1;33m\u001b[0m\u001b[0m\n\u001b[0m",
      "\u001b[1;31mImportError\u001b[0m: No module named 'scikits'"
     ]
    }
   ],
   "source": [
    "import scikits.bootstrap as bootstrap"
   ]
  },
  {
   "cell_type": "code",
   "execution_count": null,
   "metadata": {
    "collapsed": false
   },
   "outputs": [],
   "source": [
    "variable = 'snp_diversity_all'\n",
    "condition = (df_feature_diversity.feature_type == 'CDS') & (df_feature_diversity.feature_length > 50) \n",
    "x = df_feature_diversity[condition][variable] * (10**3)\n",
    "x.describe(percentiles=[.05, .25, .5, .75, .95]), bootstrap.ci(x) "
   ]
  },
  {
   "cell_type": "code",
   "execution_count": null,
   "metadata": {
    "collapsed": false
   },
   "outputs": [],
   "source": [
    "variable = 'snp_diversity_all'\n",
    "condition = (\n",
    "    (df_feature_diversity.feature_length > 50)\n",
    "    & (\n",
    "        (df_feature_diversity.feature_type == 'intergenic_0') \n",
    "        | (df_feature_diversity.feature_type == 'intergenic_1') \n",
    "        | (df_feature_diversity.feature_type == 'intergenic_2') \n",
    "        | (df_feature_diversity.feature_type == 'intron') \n",
    "    )\n",
    ")\n",
    "x = df_feature_diversity[condition][variable] * (10**3)\n",
    "x.describe(percentiles=[.05, .25, .5, .75, .95]), bootstrap.ci(x) "
   ]
  },
  {
   "cell_type": "code",
   "execution_count": null,
   "metadata": {
    "collapsed": false
   },
   "outputs": [],
   "source": [
    "variable = 'indel_diversity_all'\n",
    "condition = (df_feature_diversity.feature_type == 'CDS') & (df_feature_diversity.feature_length > 50) \n",
    "x = df_feature_diversity[condition][variable] * (10**3)\n",
    "x.describe(percentiles=[.05, .25, .5, .75, .95]), bootstrap.ci(x) "
   ]
  },
  {
   "cell_type": "code",
   "execution_count": null,
   "metadata": {
    "collapsed": false
   },
   "outputs": [],
   "source": [
    "variable = 'indel_diversity_all'\n",
    "condition = (\n",
    "    (df_feature_diversity.feature_length > 50)\n",
    "    & (\n",
    "        (df_feature_diversity.feature_type == 'intergenic_0') \n",
    "        | (df_feature_diversity.feature_type == 'intergenic_1') \n",
    "        | (df_feature_diversity.feature_type == 'intergenic_2') \n",
    "        | (df_feature_diversity.feature_type == 'intron') \n",
    "    )\n",
    ")\n",
    "x = df_feature_diversity[condition][variable] * (10**3)\n",
    "x.describe(percentiles=[.05, .25, .5, .75, .95]), bootstrap.ci(x) "
   ]
  },
  {
   "cell_type": "markdown",
   "metadata": {},
   "source": [
    "# Diversity by distance to core promoter"
   ]
  },
  {
   "cell_type": "code",
   "execution_count": null,
   "metadata": {
    "collapsed": false
   },
   "outputs": [],
   "source": [
    "cp_v3_coords_fn = os.path.join(DATA_DIR, 'reference/ponts_2011/cp_v3_coords.bed')\n",
    "\n",
    "@etlcache\n",
    "def tbl_core_promoters():\n",
    "    return (etl\n",
    "        .fromtsv(cp_v3_coords_fn)\n",
    "        .cut(0, 1, 3, 4)\n",
    "        .pushheader(['chrom', 'pos', 'strand', 'gene'])\n",
    "        .convert('pos', int)\n",
    "        .intervalleftjoin(tbl_intergenic.prefixheader('parent_'), \n",
    "                          lkey='chrom', lstart='pos', lstop='pos',\n",
    "                          rkey='parent_feature_chrom', rstart='parent_feature_start', rstop='parent_feature_stop', \n",
    "                          include_stop=True)\n",
    "        .eq('parent_feature_region_type', 'Core')\n",
    "        .cutout('parent_feature_chrom', 'parent_feature_region_type')\n",
    "        .sort(key=('chrom', 'pos'))\n",
    "    )\n",
    "\n",
    "tbl_core_promoters.display(10)\n",
    "tbl_core_promoters.distinct(key=('parent_feature_id', 'strand')).display(10)"
   ]
  },
  {
   "cell_type": "code",
   "execution_count": null,
   "metadata": {
    "collapsed": false
   },
   "outputs": [],
   "source": [
    "def tabulate_site_proximity_regions(tbl_sites, window_size=100):\n",
    "    tbl_out = [['feature_chrom', 'feature_start', 'feature_stop', 'feature_length', 'site_pos', 'site_strand', 'site_dist', 'parent_feature_type', 'parent_feature_id']]\n",
    "    for rec in tbl_sites.records():\n",
    "        if rec.strand == '+':\n",
    "            # upstream bins\n",
    "            # setup first bin, then work upstream\n",
    "            window_stop = rec.pos\n",
    "            window_start = window_stop - window_size\n",
    "            window_center = (window_start + window_stop) // 2\n",
    "            dist = window_center - rec.pos\n",
    "            while window_start > rec.parent_feature_start:\n",
    "                row = [rec.chrom, window_start, window_stop, window_size, rec.pos, rec.strand, dist, rec.parent_feature_type, rec.parent_feature_id]\n",
    "                tbl_out += [row]\n",
    "                window_stop = window_start\n",
    "                window_start = window_stop - window_size\n",
    "                window_center = (window_start + window_stop) // 2\n",
    "                dist = window_center - rec.pos\n",
    "            # downstream bins\n",
    "            # setup first bin, then work downstream\n",
    "            window_start = rec.pos\n",
    "            window_stop = window_start + window_size\n",
    "            window_center = (window_start + window_stop) // 2\n",
    "            dist = window_center - rec.pos\n",
    "            while window_stop < rec.parent_feature_stop:\n",
    "                row = [rec.chrom, window_start, window_stop, window_size, rec.pos, rec.strand, dist, rec.parent_feature_type, rec.parent_feature_id]\n",
    "                tbl_out += [row]\n",
    "                window_start = window_stop\n",
    "                window_stop = window_start + window_size\n",
    "                window_center = (window_start + window_stop) // 2\n",
    "                dist = window_center - rec.pos\n",
    "        else:\n",
    "            # upstream bins\n",
    "            # setup first bin, then work upstream\n",
    "            window_start = rec.pos\n",
    "            window_stop = window_start + window_size\n",
    "            window_center = (window_start + window_stop) // 2\n",
    "            dist = rec.pos - window_center\n",
    "            while window_stop < rec.parent_feature_stop:\n",
    "                row = [rec.chrom, window_start, window_stop, window_size, rec.pos, rec.strand, dist, rec.parent_feature_type, rec.parent_feature_id]\n",
    "                tbl_out += [row]\n",
    "                window_start = window_stop\n",
    "                window_stop = window_start + window_size\n",
    "                window_center = (window_start + window_stop) // 2\n",
    "                dist = rec.pos - window_center\n",
    "            # downstream bins\n",
    "            # setup first bin, then work downstream\n",
    "            window_stop = rec.pos\n",
    "            window_start = window_stop - window_size\n",
    "            window_center = (window_start + window_stop) // 2\n",
    "            dist = rec.pos - window_center\n",
    "            while window_start > rec.parent_feature_start:\n",
    "                row = [rec.chrom, window_start, window_stop, window_size, rec.pos, rec.strand, dist, rec.parent_feature_type, rec.parent_feature_id]\n",
    "                tbl_out += [row]\n",
    "                window_stop = window_start\n",
    "                window_start = window_stop - window_size\n",
    "                window_center = (window_start + window_stop) // 2\n",
    "                dist = rec.pos - window_center\n",
    "            \n",
    "    return etl.wrap(tbl_out).sort(key=('feature_chrom', 'feature_start'))\n",
    "                \n",
    "            "
   ]
  },
  {
   "cell_type": "code",
   "execution_count": null,
   "metadata": {
    "collapsed": false
   },
   "outputs": [],
   "source": [
    "@etlcache\n",
    "def tbl_core_promoter_diversity_100():\n",
    "    return (\n",
    "        tabulate_site_proximity_regions(tbl_core_promoters, window_size=100)\n",
    "        .add_diversity_fields()\n",
    "    )\n",
    "\n",
    "tbl_core_promoter_diversity_100"
   ]
  },
  {
   "cell_type": "code",
   "execution_count": null,
   "metadata": {
    "collapsed": false
   },
   "outputs": [],
   "source": [
    "@pdcache\n",
    "def df_core_promoter_diversity_100():\n",
    "    return (\n",
    "        tbl_core_promoter_diversity_100\n",
    "        .cutout('site_pos', 'site_strand', 'parent_feature_type', 'parent_feature_id')\n",
    "        .todataframe()\n",
    "    )\n",
    "\n",
    "df_core_promoter_diversity_100.head()"
   ]
  },
  {
   "cell_type": "code",
   "execution_count": null,
   "metadata": {
    "collapsed": false
   },
   "outputs": [],
   "source": [
    "@etlcache\n",
    "def tbl_core_promoter_diversity_50():\n",
    "    return (\n",
    "        tabulate_site_proximity_regions(tbl_core_promoters, window_size=50)\n",
    "        .add_diversity_fields()\n",
    "    )\n",
    "\n",
    "tbl_core_promoter_diversity_50"
   ]
  },
  {
   "cell_type": "code",
   "execution_count": null,
   "metadata": {
    "collapsed": false
   },
   "outputs": [],
   "source": [
    "@pdcache\n",
    "def df_core_promoter_diversity_50():\n",
    "    return (\n",
    "        tbl_core_promoter_diversity_50\n",
    "        .cutout('site_pos', 'site_strand', 'parent_feature_type', 'parent_feature_id')\n",
    "        .todataframe()\n",
    "    )\n",
    "\n",
    "df_core_promoter_diversity_50.head()"
   ]
  },
  {
   "cell_type": "code",
   "execution_count": null,
   "metadata": {
    "collapsed": false
   },
   "outputs": [],
   "source": [
    "def multi_regplot(df, x, variables, figsize=(10, 2.5), suptitle='', axtitles=None, xlim=None, ylim=None, markersize=20, xlabel=None):\n",
    "    \n",
    "    # setup figure\n",
    "    fig = plt.figure(figsize=figsize)\n",
    "    fig.suptitle(suptitle, fontsize=12, y=1.05)\n",
    "    n = len(variables)\n",
    "    x = df[x]\n",
    "\n",
    "    # make subplots\n",
    "    for i, v in enumerate(variables):\n",
    "        \n",
    "        # setup subplot\n",
    "        ax = fig.add_subplot(1, n, i+1)\n",
    "        sns.despine(offset=5, ax=ax)\n",
    "        \n",
    "        # obtain subplot data\n",
    "        y = df[v]\n",
    "        \n",
    "        # plotting\n",
    "        ax.axhline(np.mean(y), color='k', linestyle=':')\n",
    "#         ax.axvline(0, color='k', linestyle=':')\n",
    "        sns.regplot(x, y, x_estimator=np.mean, fit_reg=False, ax=ax, color='k', scatter_kws=dict(s=markersize))\n",
    "        if xlim:\n",
    "            ax.set_xlim(*xlim)\n",
    "        if ylim:\n",
    "            ax.set_ylim(*ylim)\n",
    "        if axtitles:\n",
    "            ax.set_title(axtitles[i])\n",
    "        else:\n",
    "            ax.set_title(v)\n",
    "        if i == 0:\n",
    "            ax.set_ylabel('diversity (bp$^{-1}$)')\n",
    "        else:\n",
    "            ax.set_yticks([])\n",
    "            ax.spines['left'].set_visible(False)\n",
    "            ax.set_ylabel('')\n",
    "        if i == 1 and xlabel:\n",
    "            ax.set_xlabel(xlabel)\n",
    "        else:\n",
    "            ax.set_xlabel('')\n",
    "            \n",
    "    return fig\n"
   ]
  },
  {
   "cell_type": "code",
   "execution_count": null,
   "metadata": {
    "collapsed": false
   },
   "outputs": [],
   "source": [
    "x = 'site_dist'\n",
    "for cross in CROSSES + ('all',):\n",
    "    variables = [v % cross for v in ('snp_diversity_%s', 'indel_nostr_diversity_%s', 'indel_str_diversity_%s')]\n",
    "    suptitle = LABELS.get(cross, 'All crosses')\n",
    "    axtitles = 'SNPs', 'Indels (non-STR)', 'Indels (STR)'\n",
    "    xlabel = 'distance to core promoter (bp)'\n",
    "    fig = multi_regplot(df_core_promoter_diversity_100, x, variables, xlim=(-600, 600), ylim=(0, 0.0025), suptitle=suptitle, axtitles=axtitles, xlabel=xlabel)\n",
    "#     fig.savefig('../artwork/suppfig_core_promoter_diversity_%s.jpeg' % cross, jpeg_quality=100, dpi=200, bbox_inches='tight')\n",
    "    plt.show()"
   ]
  },
  {
   "cell_type": "code",
   "execution_count": null,
   "metadata": {
    "collapsed": false
   },
   "outputs": [],
   "source": [
    "x = 'site_dist'\n",
    "for cross in CROSSES + ('all',):\n",
    "    variables = [v % cross for v in ('snp_diversity_%s', 'indel_nostr_diversity_%s', 'indel_str_diversity_%s')]\n",
    "    suptitle = LABELS.get(cross, 'All crosses')\n",
    "    axtitles = 'SNPs', 'Indels (non-STR)', 'Indels (STR)'\n",
    "    xlabel = 'distance to core promoter (bp)'\n",
    "    fig = multi_regplot(df_core_promoter_diversity_50, x, variables, xlim=(-500, 500), ylim=(0, 0.0025), suptitle=suptitle, axtitles=axtitles, xlabel=xlabel)\n",
    "#     fig.savefig('../../artwork/suppfig_core_promoter_diversity_%s.jpeg' % cross, jpeg_quality=100, dpi=200, bbox_inches='tight')\n",
    "    plt.show()"
   ]
  },
  {
   "cell_type": "code",
   "execution_count": null,
   "metadata": {
    "collapsed": false
   },
   "outputs": [],
   "source": [
    "xlim = -500, 500\n",
    "ylim = 0, .002\n",
    "markersize = 20\n",
    "xlabel = 'distance to core promoter (bp)'\n",
    "\n",
    "fig = plt.figure(figsize=(4, 7))\n",
    "fig.suptitle('C', fontsize=12, fontweight='bold', y=.95)\n",
    "\n",
    "df = df_core_promoter_diversity_50\n",
    "x = df.site_dist\n",
    "\n",
    "ax = fig.add_subplot(2, 1, 1)\n",
    "sns.despine(offset=5, ax=ax)\n",
    "y = df.indel_str_diversity_all\n",
    "ax.axhline(np.mean(y), color='k', linestyle=':')\n",
    "sns.regplot(x, y, x_estimator=np.mean, fit_reg=False, ax=ax, color='k', scatter_kws=dict(s=markersize))\n",
    "ax.set_xlim(*xlim)\n",
    "ax.set_ylim(*ylim)\n",
    "ax.text(1, .1, 'Indels (STR)', transform=ax.transAxes, ha='right', va='bottom')\n",
    "ax.set_ylabel('diversity (bp$^{-1}$)')\n",
    "ax.set_xticklabels([])\n",
    "ax.set_xlabel('')\n",
    "\n",
    "ax = fig.add_subplot(2, 1, 2)\n",
    "sns.despine(offset=5, ax=ax)\n",
    "y = df.indel_nostr_diversity_all\n",
    "ax.axhline(np.mean(y), color='k', linestyle=':')\n",
    "sns.regplot(x, y, x_estimator=np.mean, fit_reg=False, ax=ax, color='k', scatter_kws=dict(s=markersize))\n",
    "ax.set_xlim(*xlim)\n",
    "ax.set_ylim(*ylim)\n",
    "ax.text(1, .9, 'Indels (non-STR)', transform=ax.transAxes, ha='right', va='top')\n",
    "ax.set_ylabel('diversity (bp$^{-1}$)')\n",
    "ax.set_xlabel(xlabel)\n",
    "\n",
    "#fig.savefig('../artwork/fig_indels_c.jpeg', dpi=1200, jpeg_quality=100, bbox_inches='tight');"
   ]
  },
  {
   "cell_type": "markdown",
   "metadata": {},
   "source": [
    "# Diversity by distance to transcription start site (TSS)"
   ]
  },
  {
   "cell_type": "code",
   "execution_count": null,
   "metadata": {
    "collapsed": false
   },
   "outputs": [],
   "source": [
    "tss_v3_coords_fn = '../../../data/reference/ponts_2011/tss_v3_coords.bed'\n",
    "\n",
    "tbl_tss_v3 = (etl\n",
    "    .fromtsv(tss_v3_coords_fn)\n",
    "    .cut(0, 1, 3, 4)\n",
    "    .pushheader(['chrom', 'pos', 'strand', 'gene'])\n",
    "    .convert('pos', int)\n",
    "    .intervalleftjoin(tbl_intergenic.suffixheader('_intergenic'), \n",
    "                      lkey='chrom', lstart='pos', lstop='pos',\n",
    "                      rkey='chrom_intergenic', rstart='start_intergenic', rstop='stop_intergenic')\n",
    "    .eq('region_type_intergenic', 'Core')\n",
    "    .cutout('chrom_intergenic', 'region_type_intergenic')\n",
    "    .sort(key=('chrom', 'pos'))\n",
    ")\n",
    "tbl_tss_v3"
   ]
  },
  {
   "cell_type": "code",
   "execution_count": null,
   "metadata": {
    "collapsed": false
   },
   "outputs": [],
   "source": [
    "tbl_tss_diversity_50 = (\n",
    "    tabulate_site_proximity_regions(\n",
    "        tbl_tss_v3\n",
    "#             # only use intergenic regions where you expect one core promoter\n",
    "#             .eq('type_intergenic', 'intergenic_1')\n",
    "#             # make sure there is only one\n",
    "#             .distinct(key='label_intergenic')\n",
    "        ,\n",
    "        window_size=50,\n",
    "    )\n",
    "    .tabulate_diversity(\n",
    "        callsets_snp['3d7_hb3'],\n",
    "        'snp_diversity_3d7_hb3'\n",
    "    )\n",
    "    .tabulate_diversity(\n",
    "        callsets_indel_str['3d7_hb3'],\n",
    "        'indel_str_diversity_3d7_hb3'\n",
    "    )\n",
    "    .tabulate_diversity(\n",
    "        callsets_indel_nostr['3d7_hb3'],\n",
    "        'indel_nostr_diversity_3d7_hb3'\n",
    "    )\n",
    "    .tabulate_diversity(\n",
    "        callsets_snp['hb3_dd2'],\n",
    "        'snp_diversity_hb3_dd2'\n",
    "    )\n",
    "    .tabulate_diversity(\n",
    "        callsets_indel_str['hb3_dd2'],\n",
    "        'indel_str_diversity_hb3_dd2'\n",
    "    )\n",
    "    .tabulate_diversity(\n",
    "        callsets_indel_nostr['hb3_dd2'],\n",
    "        'indel_nostr_diversity_hb3_dd2'\n",
    "    )\n",
    "    .tabulate_diversity(\n",
    "        callsets_snp['7g8_gb4'],\n",
    "        'snp_diversity_7g8_gb4'\n",
    "    )\n",
    "    .tabulate_diversity(\n",
    "        callsets_indel_str['7g8_gb4'],\n",
    "        'indel_str_diversity_7g8_gb4'\n",
    "    )\n",
    "    .tabulate_diversity(\n",
    "        callsets_indel_nostr['7g8_gb4'],\n",
    "        'indel_nostr_diversity_7g8_gb4'\n",
    "    )\n",
    "    .addfield('snp_diversity_all', lambda row: sum(row['snp_diversity_%s' % cross] for cross in CROSSES) / 3)\n",
    "    .addfield('indel_str_diversity_all', lambda row: sum(row['indel_str_diversity_%s' % cross] for cross in CROSSES) / 3)\n",
    "    .addfield('indel_nostr_diversity_all', lambda row: sum(row['indel_nostr_diversity_%s' % cross] for cross in CROSSES) / 3)\n",
    ")\n",
    "df_tss_diversity_50 = tbl_tss_diversity_50.cutout('chrom', 'start', 'stop', 'length', 'site_pos', 'site_strand', 'type_intergenic', 'label_intergenic').todataframe()\n",
    "tbl_tss_diversity_50.display(20)"
   ]
  },
  {
   "cell_type": "code",
   "execution_count": null,
   "metadata": {
    "collapsed": false
   },
   "outputs": [],
   "source": [
    "x = 'site_dist'\n",
    "for cross in CROSSES + ('all',):\n",
    "    variables = [v % cross for v in ('snp_diversity_%s', 'indel_nostr_diversity_%s', 'indel_str_diversity_%s')]\n",
    "    suptitle = LABELS.get(cross, 'All crosses')\n",
    "    axtitles = 'SNPs', 'Indels (non-STR)', 'Indels (STR)'\n",
    "    xlabel = 'distance to transcription start site (bp)'\n",
    "    fig = multi_regplot(df_tss_diversity_50, x, variables, xlim=(-500, 500), ylim=(0, 0.003), suptitle=suptitle, axtitles=axtitles, xlabel=xlabel)\n",
    "#     fig.savefig('../artwork/suppfig_tss_diversity_%s.jpeg' % cross, jpeg_quality=100, dpi=200, bbox_inches='tight')\n",
    "    plt.show()"
   ]
  },
  {
   "cell_type": "markdown",
   "metadata": {},
   "source": [
    "# Characterise indels within core promoters"
   ]
  },
  {
   "cell_type": "code",
   "execution_count": null,
   "metadata": {
    "collapsed": false
   },
   "outputs": [],
   "source": [
    "tbl_cp_v3"
   ]
  },
  {
   "cell_type": "code",
   "execution_count": null,
   "metadata": {
    "collapsed": false
   },
   "outputs": [],
   "source": [
    "# build interval trees from the core promoter sites so we can find nearest\n",
    "cp_trees = (\n",
    "    tbl_cp_v3\n",
    "    # need start and end fields, make them the same\n",
    "    .rename('pos', 'start')\n",
    "    .addfield('end', lambda v: v.start)\n",
    "    .recordtrees('chrom', 'start', 'end')\n",
    ")\n",
    "cp_trees"
   ]
  },
  {
   "cell_type": "code",
   "execution_count": null,
   "metadata": {
    "collapsed": false
   },
   "outputs": [],
   "source": [
    "# example of how to find nearest CP\n",
    "cp_trees['Pf3D7_01_v3'].after(90000, max_dist=10000)"
   ]
  },
  {
   "cell_type": "code",
   "execution_count": null,
   "metadata": {
    "collapsed": false
   },
   "outputs": [],
   "source": [
    "def tabulate_intergenic_variants(callset, max_cp_dist=2000):\n",
    "    V, _, _ = unpack_callset(callset)\n",
    "    tbl_variants = (etl\n",
    "        .fromarray(V[['CHROM', 'POS', 'is_snp', 'num_alleles', 'svlen', 'STR', 'RU', 'REF', 'ALT']])\n",
    "        .convert(('svlen', 'ALT'), operator.itemgetter(0))\n",
    "        .annex(etl\n",
    "            .fromarray(V['EFF'][['Effect']])\n",
    "        )\n",
    "        .eq('Effect', 'INTERGENIC')\n",
    "        .addfield('cp_before', lambda v: cp_trees[v.CHROM].before(v.POS, max_dist=max_cp_dist))\n",
    "        .addfield('cp_after', lambda v: cp_trees[v.CHROM].after(v.POS, max_dist=max_cp_dist))\n",
    "        .convert(('cp_before', 'cp_after'), lambda v: v[0] if v else tuple())\n",
    "        .addfield('cp_before_dist', lambda v: np.abs(v.cp_before.start - v.POS) if v.cp_before else max_cp_dist)\n",
    "        .addfield('cp_after_dist', lambda v: np.abs(v.cp_after.start - v.POS) if v.cp_after else max_cp_dist)\n",
    "        .addfield('cp', lambda v: v.cp_before if v.cp_before_dist < v.cp_after_dist else v.cp_after)\n",
    "        .cutout('cp_after', 'cp_before', 'cp_after_dist', 'cp_before_dist')\n",
    "        .unpack('cp', ['cp_chrom', 'cp_pos', 'cp_strand', 'cp_gene'])\n",
    "        .cutout('cp_chrom')\n",
    "        .addfield('cp_dist', lambda v: v.POS - v.cp_pos if v.cp_strand == '+' else v.cp_pos - v.POS if v.cp_strand == '-' else None)\n",
    "        .notnone('cp_dist')\n",
    "    )\n",
    "    return tbl_variants\n"
   ]
  },
  {
   "cell_type": "code",
   "execution_count": null,
   "metadata": {
    "collapsed": false
   },
   "outputs": [],
   "source": [
    "dfv = tabulate_intergenic_variants(callsets['3d7_hb3']).todataframe()\n",
    "dfv.head()"
   ]
  },
  {
   "cell_type": "code",
   "execution_count": null,
   "metadata": {
    "collapsed": false
   },
   "outputs": [],
   "source": [
    "flt = (~dfv.is_snp) & ((dfv.cp_dist < -50) | (dfv.cp_dist > 0)) & (dfv.num_alleles == 2) & (~dfv.STR)\n",
    "x = dfv.svlen[flt].values\n",
    "plt.hist(x, bins=np.arange(-40, 40, 1));"
   ]
  },
  {
   "cell_type": "code",
   "execution_count": null,
   "metadata": {
    "collapsed": false
   },
   "outputs": [],
   "source": [
    "flt = (~dfv.is_snp) & (dfv.cp_dist >= -50) & (dfv.cp_dist <= 0) & (dfv.num_alleles == 2) & (~dfv.STR)\n",
    "x = dfv.svlen[flt].values\n",
    "plt.hist(x, bins=np.arange(-40, 40, 1));"
   ]
  },
  {
   "cell_type": "code",
   "execution_count": null,
   "metadata": {
    "collapsed": false
   },
   "outputs": [],
   "source": [
    "flt = (~dfv.is_snp) & ((dfv.cp_dist < -50) | (dfv.cp_dist > 0)) & (dfv.num_alleles == 2) & (~dfv.STR) & (dfv.svlen < 0)\n",
    "x = dfv.REF[flt]\n",
    "collections.Counter(x).most_common(40)"
   ]
  },
  {
   "cell_type": "code",
   "execution_count": null,
   "metadata": {
    "collapsed": false
   },
   "outputs": [],
   "source": [
    "flt = (~dfv.is_snp) & (dfv.cp_dist >= -50) & (dfv.cp_dist <= 0) & (dfv.num_alleles == 2) & (~dfv.STR) & (dfv.svlen < 0)\n",
    "log(np.count_nonzero(flt))\n",
    "x = dfv.REF[flt]\n",
    "collections.Counter(x).most_common(20)"
   ]
  },
  {
   "cell_type": "code",
   "execution_count": null,
   "metadata": {
    "collapsed": false
   },
   "outputs": [],
   "source": [
    "flt = (~dfv.is_snp) & ((dfv.cp_dist < -50) | (dfv.cp_dist > 0)) & (dfv.num_alleles == 2) & (~dfv.STR) & (dfv.svlen > 0)\n",
    "x = dfv.ALT[flt]\n",
    "collections.Counter(x).most_common(40)"
   ]
  },
  {
   "cell_type": "code",
   "execution_count": null,
   "metadata": {
    "collapsed": false
   },
   "outputs": [],
   "source": [
    "flt = (~dfv.is_snp) & (dfv.cp_dist >= -50) & (dfv.cp_dist <= 0) & (dfv.num_alleles == 2) & (~dfv.STR) & (dfv.svlen > 0)\n",
    "log(np.count_nonzero(flt))\n",
    "x = dfv.ALT[flt]\n",
    "collections.Counter(x).most_common(20)"
   ]
  },
  {
   "cell_type": "markdown",
   "metadata": {},
   "source": [
    "# Sandbox"
   ]
  },
  {
   "cell_type": "code",
   "execution_count": null,
   "metadata": {
    "collapsed": false
   },
   "outputs": [],
   "source": []
  }
 ],
 "metadata": {
  "kernelspec": {
   "display_name": "Python 3",
   "language": "python",
   "name": "python3"
  },
  "language_info": {
   "codemirror_mode": {
    "name": "ipython",
    "version": 3
   },
   "file_extension": ".py",
   "mimetype": "text/x-python",
   "name": "python",
   "nbconvert_exporter": "python",
   "pygments_lexer": "ipython3",
   "version": "3.5.0+"
  }
 },
 "nbformat": 4,
 "nbformat_minor": 0
}
