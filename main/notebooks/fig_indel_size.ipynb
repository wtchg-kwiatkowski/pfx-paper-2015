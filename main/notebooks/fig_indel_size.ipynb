{
 "metadata": {
  "name": "",
  "signature": "sha256:e82c0fe321486a600ae08a34bb024503637c97ee49d4f0e88fa98b74dea9fb1a"
 },
 "nbformat": 3,
 "nbformat_minor": 0,
 "worksheets": [
  {
   "cells": [
    {
     "cell_type": "heading",
     "level": 1,
     "metadata": {},
     "source": [
      "Figure 1a, indel size distribution"
     ]
    },
    {
     "cell_type": "code",
     "collapsed": false,
     "input": [
      "from __future__ import division, print_function\n",
      "%run shared_setup.ipynb\n",
      "%run plotting_setup.ipynb"
     ],
     "language": "python",
     "metadata": {},
     "outputs": [],
     "prompt_number": 1
    },
    {
     "cell_type": "code",
     "collapsed": false,
     "input": [
      "# load indels for all three crosses\n",
      "callsets = load_callsets(COMBINED_CALLSET_FN_TEMPLATE, \n",
      "                         variant_filter='FILTER_PASS & ~is_snp')"
     ],
     "language": "python",
     "metadata": {},
     "outputs": [
      {
       "output_type": "stream",
       "stream": "stderr",
       "text": [
        "2014-12-10 11:00:55.206032 :: loading /data/plasmodium/pfalciparum/pf-crosses/data/public/20141022/3d7_hb3.combined.final.npz\n"
       ]
      },
      {
       "output_type": "stream",
       "stream": "stderr",
       "text": [
        "2014-12-10 11:00:55.567076 :: filter variants: excluding 15545 (36.8%) retaining 26699 (63.2%) of 42244 variants\n"
       ]
      },
      {
       "output_type": "stream",
       "stream": "stderr",
       "text": [
        "2014-12-10 11:00:55.598422 :: loading /data/plasmodium/pfalciparum/pf-crosses/data/public/20141022/hb3_dd2.combined.final.npz\n"
       ]
      },
      {
       "output_type": "stream",
       "stream": "stderr",
       "text": [
        "2014-12-10 11:00:56.019337 :: filter variants: excluding 15335 (41.5%) retaining 21576 (58.5%) of 36911 variants\n"
       ]
      },
      {
       "output_type": "stream",
       "stream": "stderr",
       "text": [
        "2014-12-10 11:00:56.055340 :: loading /data/plasmodium/pfalciparum/pf-crosses/data/public/20141022/7g8_gb4.combined.final.npz\n"
       ]
      },
      {
       "output_type": "stream",
       "stream": "stderr",
       "text": [
        "2014-12-10 11:00:56.484795 :: filter variants: excluding 14696 (42.3%) retaining 20079 (57.7%) of 34775 variants\n"
       ]
      }
     ],
     "prompt_number": 2
    },
    {
     "cell_type": "code",
     "collapsed": false,
     "input": [
      "# define a generic function for plotting an indel size histogram\n",
      "def plot_indel_size_stacked_hist(ax, coding, major_step, minor_step, cross=None, minsize=-33, maxsize=33):\n",
      "    \n",
      "    # obtain variants array\n",
      "    if cross:\n",
      "        variants = callsets[cross]['variants']\n",
      "    else:\n",
      "        variants = np.concatenate([callsets[cross]['variants'] for cross in CROSSES]).view(np.recarray)\n",
      "        \n",
      "    # filter coding/non-coding\n",
      "    if coding:\n",
      "        variants = variants[variants.CDSAnnotationID != '.']\n",
      "    else:\n",
      "        variants = variants[variants.CDSAnnotationID == '.']\n",
      "        \n",
      "    # obtain indel sizes\n",
      "    # N.B., there are some multiallelic variants, however all PASS variants are Mendelian\n",
      "    # segregating, therefore any multiallelic implies both parents have non-reference alleles\n",
      "    # and can determine relative indel size difference by subtraction of alt1 and alt2 indel sizes.\n",
      "    # N.B., this also works for biallelic because the svlen array defaults to zero.\n",
      "    svlen = variants.svlen[:, 0] - variants.svlen[:, 1]\n",
      "\n",
      "    # obtain STR information\n",
      "    is_str = variants.STR\n",
      "        \n",
      "    # prepare data series for plotting\n",
      "    x = [svlen[~is_str], svlen[is_str]]\n",
      "\n",
      "    # prepare axes\n",
      "    sns.despine(ax=ax, offset=0, left=True)\n",
      "    \n",
      "    # plot histogram \n",
      "    ax.hist(x, \n",
      "            bins=np.arange(minsize, maxsize, 1), \n",
      "            histtype='bar', \n",
      "            stacked=1, \n",
      "            color=['w', 'k'], \n",
      "            edgecolor='k', \n",
      "            linewidth=.5, \n",
      "            alpha=1,\n",
      "            align='left')\n",
      "    \n",
      "    # tidy up axes\n",
      "    ax.set_xlabel('size (bp)')\n",
      "    ax.xaxis.tick_bottom()\n",
      "    ax.set_xlim(minsize-1, maxsize+1)\n",
      "    major_locator = mpl.ticker.MultipleLocator(major_step)\n",
      "    minor_locator = mpl.ticker.MultipleLocator(minor_step)\n",
      "    ax.xaxis.set_major_locator(major_locator)\n",
      "    ax.xaxis.set_minor_locator(minor_locator)\n",
      "    ax.set_yticks([])\n",
      "    \n",
      "    return ax\n",
      "    "
     ],
     "language": "python",
     "metadata": {},
     "outputs": [],
     "prompt_number": 3
    },
    {
     "cell_type": "code",
     "collapsed": false,
     "input": [
      "# plot coding indels\n",
      "width = 8 * (1/3)\n",
      "height = width / 1.2\n",
      "fig, ax = plt.subplots(figsize=(width, height))\n",
      "plot_indel_size_stacked_hist(ax, coding=True, major_step=10, minor_step=1, cross=None)\n",
      "ax.set_ylabel('coding indels')\n",
      "fig.tight_layout()\n",
      "fig.savefig('../artwork/main/fig1A1.jpeg', dpi=1200, jpeg_quality=100);"
     ],
     "language": "python",
     "metadata": {},
     "outputs": [
      {
       "metadata": {},
       "output_type": "display_data",
       "png": "[encoded data removed]",
       "text": [
        "<matplotlib.figure.Figure at 0x7f06371ab190>"
       ]
      }
     ],
     "prompt_number": 15
    },
    {
     "cell_type": "code",
     "collapsed": false,
     "input": [
      "# plot non-coding indels\n",
      "width = 8 * (1/3)\n",
      "height = width / 1.2\n",
      "fig, ax = plt.subplots(figsize=(width, height))\n",
      "plot_indel_size_stacked_hist(ax, coding=False, major_step=10, minor_step=1, cross=None)\n",
      "ax.set_ylabel('non-coding indels')\n",
      "fig.tight_layout()\n",
      "fig.savefig('../artwork/main/fig1A2.jpeg', dpi=1200, jpeg_quality=100);"
     ],
     "language": "python",
     "metadata": {},
     "outputs": [
      {
       "metadata": {},
       "output_type": "display_data",
       "png": "[encoded data removed]",
       "text": [
        "<matplotlib.figure.Figure at 0x7f06369c3310>"
       ]
      }
     ],
     "prompt_number": 16
    },
    {
     "cell_type": "code",
     "collapsed": false,
     "input": [
      "# plot legend\n",
      "width = 8 * (1/3)\n",
      "height = width / 1.2\n",
      "fig, ax = plt.subplots(figsize=(width, height))\n",
      "ax.set_axis_off()\n",
      "p = plt.Rectangle((0, 0), 1, 1, fc=\"k\")\n",
      "q = plt.Rectangle((0, 0), 1, 1, fc=\"w\")\n",
      "ax.legend([p, q], ['STR', 'non-STR'], \n",
      "          ncol=1, loc='upper left', bbox_to_anchor=(0, 1))\n",
      "fig.tight_layout()\n",
      "fig.savefig('../artwork/main/fig1A_legend.jpeg', dpi=1200, jpeg_quality=100);"
     ],
     "language": "python",
     "metadata": {},
     "outputs": [
      {
       "metadata": {},
       "output_type": "display_data",
       "png": "[encoded data removed]",
       "text": [
        "<matplotlib.figure.Figure at 0x7f063537cd50>"
       ]
      }
     ],
     "prompt_number": 12
    }
   ],
   "metadata": {}
  }
 ]
}