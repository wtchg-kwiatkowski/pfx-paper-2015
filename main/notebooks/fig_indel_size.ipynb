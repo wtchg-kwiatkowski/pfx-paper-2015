{
 "cells": [
  {
   "cell_type": "markdown",
   "metadata": {},
   "source": [
    "# Figure 1a, indel size distribution"
   ]
  },
  {
   "cell_type": "code",
   "execution_count": 1,
   "metadata": {
    "collapsed": false
   },
   "outputs": [
    {
     "name": "stdout",
     "output_type": "stream",
     "text": [
      "docker image cggh/biipy:v1.6.0\n"
     ]
    },
    {
     "data": {
      "text/html": [
       "<style type=\"text/css\">\n",
       ".container {\n",
       "    width: 96%;\n",
       "}\n",
       "#maintoolbar {\n",
       "    display: none;\n",
       "}\n",
       "#header-container {\n",
       "    display: none;\n",
       "}\n",
       "#notebook {\n",
       "    padding-top: 0;\n",
       "}\n",
       "</style>"
      ],
      "text/plain": [
       "<IPython.core.display.HTML object>"
      ]
     },
     "metadata": {},
     "output_type": "display_data"
    }
   ],
   "source": [
    "%run ../../shared_setup.ipynb"
   ]
  },
  {
   "cell_type": "code",
   "execution_count": 2,
   "metadata": {
    "collapsed": false
   },
   "outputs": [
    {
     "name": "stderr",
     "output_type": "stream",
     "text": [
      "2016-03-15 21:51:20.768554 :: loading /data/plasmodium/pfalciparum/pf-crosses/data/public/20141022/3d7_hb3.combined.final.npz\n",
      "2016-03-15 21:51:21.143917 :: filter variants: excluding 15545 (36.8%) retaining 26699 (63.2%) of 42244 variants\n",
      "2016-03-15 21:51:21.155826 :: loading /data/plasmodium/pfalciparum/pf-crosses/data/public/20141022/hb3_dd2.combined.final.npz\n",
      "2016-03-15 21:51:21.573601 :: filter variants: excluding 15335 (41.5%) retaining 21576 (58.5%) of 36911 variants\n",
      "2016-03-15 21:51:21.587216 :: loading /data/plasmodium/pfalciparum/pf-crosses/data/public/20141022/7g8_gb4.combined.final.npz\n",
      "2016-03-15 21:51:21.994362 :: filter variants: excluding 14696 (42.3%) retaining 20079 (57.7%) of 34775 variants\n"
     ]
    }
   ],
   "source": [
    "# load indels for all three crosses\n",
    "callsets = load_callsets(COMBINED_CALLSET_FN_TEMPLATE, \n",
    "                         variant_filter='FILTER_PASS & ~is_snp')"
   ]
  },
  {
   "cell_type": "code",
   "execution_count": 9,
   "metadata": {
    "collapsed": false
   },
   "outputs": [],
   "source": [
    "# define a generic function for plotting an indel size histogram\n",
    "def plot_indel_size_stacked_hist(ax, coding, major_step, minor_step, cross=None, minsize=-33, maxsize=33):\n",
    "    \n",
    "    # obtain variants array\n",
    "    if cross:\n",
    "        variants = callsets[cross]['variants']\n",
    "    else:\n",
    "        variants = np.concatenate([callsets[cross]['variants'] for cross in CROSSES]).view(np.recarray)\n",
    "        \n",
    "    # filter coding/non-coding\n",
    "    if coding:\n",
    "        variants = variants[variants.CDSAnnotationID != b'.']\n",
    "    else:\n",
    "        variants = variants[variants.CDSAnnotationID == b'.']\n",
    "        \n",
    "    # obtain indel sizes\n",
    "    # N.B., there are some multiallelic variants, however all PASS variants are Mendelian\n",
    "    # segregating, therefore any multiallelic implies both parents have non-reference alleles\n",
    "    # and can determine relative indel size difference by subtraction of alt1 and alt2 indel sizes.\n",
    "    # N.B., this also works for biallelic because the svlen array defaults to zero.\n",
    "    svlen = variants.svlen[:, 0] - variants.svlen[:, 1]\n",
    "\n",
    "    # obtain STR information\n",
    "    is_str = variants.STR\n",
    "        \n",
    "    # prepare data series for plotting\n",
    "    x = [svlen[~is_str], svlen[is_str]]\n",
    "\n",
    "    # prepare axes\n",
    "    sns.despine(ax=ax, offset=0, left=False)\n",
    "    \n",
    "    # plot histogram \n",
    "    ax.hist(x, \n",
    "            bins=np.arange(minsize, maxsize, 1), \n",
    "            histtype='bar', \n",
    "            stacked=1, \n",
    "            color=['w', 'k'], \n",
    "            edgecolor='k', \n",
    "            linewidth=.5, \n",
    "            alpha=1,\n",
    "            align='left')\n",
    "    \n",
    "    # tidy up axes\n",
    "    ax.set_xlabel('size (bp)')\n",
    "    ax.xaxis.tick_bottom()\n",
    "    ax.set_xlim(minsize-1, maxsize+1)\n",
    "    major_locator = mpl.ticker.MultipleLocator(major_step)\n",
    "    minor_locator = mpl.ticker.MultipleLocator(minor_step)\n",
    "    ax.xaxis.set_major_locator(major_locator)\n",
    "    ax.xaxis.set_minor_locator(minor_locator)\n",
    "    \n",
    "    return ax\n",
    "    "
   ]
  },
  {
   "cell_type": "code",
   "execution_count": 12,
   "metadata": {
    "collapsed": false
   },
   "outputs": [
    {
     "data": {
      "image/png": "[encoded data removed]",
      "text/plain": [
       "<matplotlib.figure.Figure at 0x7f0eecfdfa20>"
      ]
     },
     "metadata": {},
     "output_type": "display_data"
    }
   ],
   "source": [
    "# plot coding indels\n",
    "width = 8 * (1/3)\n",
    "height = width / 1.2\n",
    "fig, ax = plt.subplots(figsize=(width, height))\n",
    "plot_indel_size_stacked_hist(ax, coding=True, major_step=10, minor_step=1, cross=None)\n",
    "ax.set_title('Coding INDELs')\n",
    "ax.set_ylabel('frequency')\n",
    "fig.tight_layout()\n",
    "fig.savefig('../../artwork/main/fig1A1.jpeg', dpi=1200, jpeg_quality=100);"
   ]
  },
  {
   "cell_type": "code",
   "execution_count": 13,
   "metadata": {
    "collapsed": false
   },
   "outputs": [
    {
     "data": {
      "image/png": "[encoded data removed]",
      "text/plain": [
       "<matplotlib.figure.Figure at 0x7f0eec5cb7b8>"
      ]
     },
     "metadata": {},
     "output_type": "display_data"
    }
   ],
   "source": [
    "# plot non-coding indels\n",
    "width = 8 * (1/3)\n",
    "height = width / 1.2\n",
    "fig, ax = plt.subplots(figsize=(width, height))\n",
    "plot_indel_size_stacked_hist(ax, coding=False, major_step=10, minor_step=1, cross=None)\n",
    "ax.set_title('Non-coding INDELs')\n",
    "ax.set_ylabel('frequency')\n",
    "fig.tight_layout()\n",
    "fig.savefig('../../artwork/main/fig1A2.jpeg', dpi=1200, jpeg_quality=100);"
   ]
  },
  {
   "cell_type": "code",
   "execution_count": 6,
   "metadata": {
    "collapsed": false
   },
   "outputs": [
    {
     "data": {
      "image/png": "[encoded data removed]",
      "text/plain": [
       "<matplotlib.figure.Figure at 0x7f0eec6859e8>"
      ]
     },
     "metadata": {},
     "output_type": "display_data"
    }
   ],
   "source": [
    "# plot legend\n",
    "width = 8 * (1/3)\n",
    "height = width / 1.2\n",
    "fig, ax = plt.subplots(figsize=(width, height))\n",
    "ax.set_axis_off()\n",
    "p = plt.Rectangle((0, 0), 1, 1, fc=\"k\")\n",
    "q = plt.Rectangle((0, 0), 1, 1, fc=\"w\")\n",
    "ax.legend([p, q], ['STR', 'non-STR'], \n",
    "          ncol=1, loc='upper left', bbox_to_anchor=(0, 1))\n",
    "fig.tight_layout()\n",
    "fig.savefig('../../artwork/main/fig1A_legend.jpeg', dpi=1200, jpeg_quality=100);"
   ]
  },
  {
   "cell_type": "code",
   "execution_count": null,
   "metadata": {
    "collapsed": false
   },
   "outputs": [],
   "source": []
  }
 ],
 "metadata": {
  "kernelspec": {
   "display_name": "Python 3",
   "language": "python",
   "name": "python3"
  },
  "language_info": {
   "codemirror_mode": {
    "name": "ipython",
    "version": 3
   },
   "file_extension": ".py",
   "mimetype": "text/x-python",
   "name": "python",
   "nbconvert_exporter": "python",
   "pygments_lexer": "ipython3",
   "version": "3.5.0+"
  }
 },
 "nbformat": 4,
 "nbformat_minor": 0
}
