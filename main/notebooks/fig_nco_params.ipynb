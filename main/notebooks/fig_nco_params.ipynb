{
 "cells": [
  {
   "cell_type": "markdown",
   "metadata": {},
   "source": [
    "# Figure 3D/E/F, NCO recombination parameters"
   ]
  },
  {
   "cell_type": "markdown",
   "metadata": {},
   "source": [
    "## Setup"
   ]
  },
  {
   "cell_type": "code",
   "execution_count": 1,
   "metadata": {
    "collapsed": false
   },
   "outputs": [
    {
     "name": "stdout",
     "output_type": "stream",
     "text": [
      "docker image cggh/biipy:v1.6.0\n"
     ]
    },
    {
     "data": {
      "text/html": [
       "<style type=\"text/css\">\n",
       ".container {\n",
       "    width: 96%;\n",
       "}\n",
       "#maintoolbar {\n",
       "    display: none;\n",
       "}\n",
       "#header-container {\n",
       "    display: none;\n",
       "}\n",
       "#notebook {\n",
       "    padding-top: 0;\n",
       "}\n",
       "</style>"
      ],
      "text/plain": [
       "<IPython.core.display.HTML object>"
      ]
     },
     "metadata": {},
     "output_type": "display_data"
    }
   ],
   "source": [
    "%run ../../shared_setup.ipynb"
   ]
  },
  {
   "cell_type": "code",
   "execution_count": 2,
   "metadata": {
    "collapsed": false
   },
   "outputs": [
    {
     "name": "stderr",
     "output_type": "stream",
     "text": [
      "2016-03-08 18:07:59.109120 :: loading /data/plasmodium/pfalciparum/pf-crosses/data/public/20141022/3d7_hb3.combined.final.npz\n",
      "2016-03-08 18:07:59.402186 :: filter variants: excluding 157 (0.4%) retaining 42087 (99.6%) of 42244 variants\n",
      "2016-03-08 18:07:59.420460 :: filter samples: excluding ['C01/PG0062-C/ERR019070', 'C02/PG0053-C/ERR019067', 'C02/PG0055-C/ERR019066', 'C02/PG0056-C/ERR019068'] including ['3D7/PG0051-C/ERR019061', 'HB3/PG0052-C/ERR019054', 'C01/PG0065-C/ERR019064', 'C02/PG0067-C/ERR019073', 'C03/PG0066-C/ERR019072', 'C04/PG0061-C/ERR019059', 'C05/PG0068-C/ERR019065', 'C06/PG0069-C/ERR019055', 'C07/PG0070-C/ERR019056', 'C08/PG0071-C/ERR019074', 'C09/PG0072-C/ERR019057', 'C10/PG0063-C/ERR019060', 'C11/PG0064-C/ERR019071', 'C12/PG0058-C/ERR019063', 'C13/PG0054-C/ERR019062', 'C14/PG0060-C/ERR019058', 'C15/PG0057-C/ERR019069']\n",
      "2016-03-08 18:07:59.468446 :: filter calls: excluding 2216 (0.3%) retaining 713263 (99.7%) of 715479 calls\n",
      "2016-03-08 18:07:59.469582 :: loading /data/plasmodium/pfalciparum/pf-crosses/data/public/20141022/hb3_dd2.combined.final.npz\n",
      "2016-03-08 18:07:59.866487 :: filter variants: excluding 450 (1.2%) retaining 36461 (98.8%) of 36911 variants\n",
      "2016-03-08 18:07:59.889371 :: filter samples: excluding ['SC01/PG0025-C/ERR019045'] including ['HB3/PG0004-CW/ERR012788', 'DD2/PG0008-CW/ERR012840', '1BB5/PG0023-C/ERR015449', '3BA6/PG0022-Cx/ERR126027', '3BD5/PG0024-C/ERR019053', '7C101/PG0074-C/ERR019048', '7C111/PG0038-C/ERR015457', '7C12/PG0035-Cx/ERR037704', '7C126/PG0047-C/ERR015452', '7C140/PG0039-C/ERR015454', '7C159/PG0040-Cx/ERR107475', '7C16/PG0036-C/ERR015455', '7C170/PG0041-C/ERR015446', '7C183/PG0042-C/ERR015448', '7C188/PG0030-C/ERR019046', '7C20/PG0037-C/ERR015451', '7C3/PG0034-C/ERR019047', '7C408/PG0031-C/ERR015458', '7C421/PG0043-C/ERR015459', '7C424/PG0044-C/ERR019043', '7C46/PG0046-Cx/ERR107476', '7C7/PG0048-C/ERR019049', 'B1SD/PG0015-C/ERR019044', 'B4R3/PG0018-C/ERR019042', 'CH3_116/PG0032-Cx/ERR037703', 'CH3_61/PG0033-Cx/ERR175544', 'D43/PG0029-Cx/ERR107474', 'GC03/PG0021-C/ERR015447', 'GC06/PG0028-C/ERR015456', 'QC01/PG0017-C/ERR019050', 'QC13/PG0016-C/ERR012895', 'QC23/PG0045-C/ERR012892', 'QC34/PG0026-C/ERR015453', 'SC05/PG0019-C/ERR019051', 'TC05/PG0027-C/ERR015450', 'TC08/PG0020-C/ERR019052']\n",
      "2016-03-08 18:07:59.978640 :: filter calls: excluding 28934 (2.2%) retaining 1283662 (97.8%) of 1312596 calls\n",
      "2016-03-08 18:07:59.980795 :: loading /data/plasmodium/pfalciparum/pf-crosses/data/public/20141022/7g8_gb4.combined.final.npz\n",
      "2016-03-08 18:08:00.367046 :: filter variants: excluding 304 (0.9%) retaining 34471 (99.1%) of 34775 variants\n",
      "2016-03-08 18:08:00.386717 :: filter samples: excluding ['AUD/PG0112-CW/ERR045639', 'JC9/PG0111-C/ERR029409', 'JE11/PG0100-CW/ERR045630', 'JF6/PG0079-CW/ERR045637', 'KB8/PG0104-CW/ERR045642', 'LA10/PG0086-CW/ERR045629', 'NIC/PG0095-C/ERR027107', 'QF5/PG0078-CW/ERR045638', 'XD8/PG0105-CW/ERR045628', 'XF12/PG0102-CW/ERR045635', 'D2/PG0094-CW/ERR045632'] including ['7G8/PG0083-C/ERR027099', 'GB4/PG0084-C/ERR027100', 'AL2/PG0103-CW/ERR045627', 'AUD/PG0112-C/ERR029406', 'DAN/PG0098-C/ERR027110', 'DEV/PG0081-CW/ERR045633', 'JB12/PG0099-C/ERR029146', 'JB8/PG0087-C/ERR029091', 'JC3/PG0077-CW/ERR045636', 'JC9/PG0111-CW/ERR045634', 'JE11/PG0100-C/ERR029404', 'JF6/PG0079-C/ERR027102', 'JON/PG0107-C/ERR029408', 'KA6/PG0091-C/ERR027117', 'KB8/PG0104-C/ERR029148', 'KH7/PG0088-C/ERR027111', 'LA10/PG0086-C/ERR029090', 'NF10/PG0096-C/ERR027108', 'NIC/PG0095-CW/ERR045631', 'QF5/PG0078-C/ERR029092', 'TF1/PG0080-C/ERR027103', 'WC4/PG0082-C/ERR029093', 'WE2/PG0085-C/ERR027101', 'WF12/PG0097-C/ERR027109', 'XB3/PG0093-C/ERR029105', 'XD8/PG0105-C/ERR029144', 'XE7/PG0106-C/ERR029407', 'XF12/PG0102-C/ERR029143', 'XG10/PG0109-C/ERR029405']\n",
      "2016-03-08 18:08:00.457166 :: filter calls: excluding 12209 (1.2%) retaining 987450 (98.8%) of 999659 calls\n"
     ]
    },
    {
     "name": "stdout",
     "output_type": "stream",
     "text": [
      "{'7g8_gb4': 27, 'hb3_dd2': 34, '3d7_hb3': 15}\n",
      "76\n"
     ]
    }
   ],
   "source": [
    "# load variation data\n",
    "sample_exclusions = dup_samples.copy()\n",
    "for cross in excessive_recomb_samples:\n",
    "    sample_exclusions[cross] += excessive_recomb_samples[cross]\n",
    "\n",
    "callsets = load_callsets(COMBINED_CALLSET_FN_TEMPLATE, \n",
    "                         sample_exclusions=sample_exclusions, \n",
    "                         variant_filter='FILTER_PASS',\n",
    "                         call_filter=combined_conf_calls)\n",
    "\n",
    "samples = {cross: callsets[cross]['calldata'].dtype.names\n",
    "           for cross in CROSSES}\n",
    "progeny = {cross: samples[cross][2:] for cross in CROSSES}\n",
    "n_progeny = {cross: len(progeny[cross]) for cross in CROSSES}\n",
    "print(n_progeny)\n",
    "print(np.sum(list(n_progeny.values())))"
   ]
  },
  {
   "cell_type": "code",
   "execution_count": 3,
   "metadata": {
    "collapsed": false
   },
   "outputs": [
    {
     "data": {
      "text/html": [
       "<table class='petl'>\n",
       "<caption>NCO tracts (230 rows)</caption>\n",
       "<thead>\n",
       "<tr>\n",
       "<th>0|sample</th>\n",
       "<th>1|cross</th>\n",
       "<th>2|chrom</th>\n",
       "<th>3|tract_start_min</th>\n",
       "<th>4|tract_start_mid</th>\n",
       "<th>5|tract_start_max</th>\n",
       "<th>6|tract_stop_min</th>\n",
       "<th>7|tract_stop_mid</th>\n",
       "<th>8|tract_stop_max</th>\n",
       "<th>9|tract_length_min</th>\n",
       "<th>10|tract_length_mid</th>\n",
       "<th>11|tract_length_max</th>\n",
       "<th>12|tract_support</th>\n",
       "<th>13|tract_is_complex</th>\n",
       "<th>14|tract_blocks</th>\n",
       "<th>15|co_pos_mid</th>\n",
       "<th>16|co_pos_min</th>\n",
       "<th>17|co_pos_max</th>\n",
       "<th>18|co_pos_range</th>\n",
       "<th>19|tract_type</th>\n",
       "</tr>\n",
       "</thead>\n",
       "<tbody>\n",
       "<tr>\n",
       "<td>1BB5/PG0023-C/ERR015449</td>\n",
       "<td>hb3_dd2</td>\n",
       "<td>b'Pf3D7_02_v3'</td>\n",
       "<td style='text-align: right'>551191</td>\n",
       "<td style='text-align: right'>551710</td>\n",
       "<td style='text-align: right'>552230</td>\n",
       "<td style='text-align: right'>553769</td>\n",
       "<td style='text-align: right'>554132</td>\n",
       "<td style='text-align: right'>554496</td>\n",
       "<td style='text-align: right'>1539</td>\n",
       "<td style='text-align: right'>2422</td>\n",
       "<td style='text-align: right'>3305</td>\n",
       "<td style='text-align: right'>5</td>\n",
       "<td>False</td>\n",
       "<td style='text-align: right'>1</td>\n",
       "<td>None</td>\n",
       "<td>None</td>\n",
       "<td>None</td>\n",
       "<td>None</td>\n",
       "<td>NCO</td>\n",
       "</tr>\n",
       "<tr>\n",
       "<td>1BB5/PG0023-C/ERR015449</td>\n",
       "<td>hb3_dd2</td>\n",
       "<td>b'Pf3D7_08_v3'</td>\n",
       "<td style='text-align: right'>1293542</td>\n",
       "<td style='text-align: right'>1294381</td>\n",
       "<td style='text-align: right'>1295221</td>\n",
       "<td style='text-align: right'>1296788</td>\n",
       "<td style='text-align: right'>1297035</td>\n",
       "<td style='text-align: right'>1297283</td>\n",
       "<td style='text-align: right'>1567</td>\n",
       "<td style='text-align: right'>2654</td>\n",
       "<td style='text-align: right'>3741</td>\n",
       "<td style='text-align: right'>4</td>\n",
       "<td>False</td>\n",
       "<td style='text-align: right'>1</td>\n",
       "<td>None</td>\n",
       "<td>None</td>\n",
       "<td>None</td>\n",
       "<td>None</td>\n",
       "<td>NCO</td>\n",
       "</tr>\n",
       "<tr>\n",
       "<td>1BB5/PG0023-C/ERR015449</td>\n",
       "<td>hb3_dd2</td>\n",
       "<td>b'Pf3D7_09_v3'</td>\n",
       "<td style='text-align: right'>950476</td>\n",
       "<td style='text-align: right'>951138</td>\n",
       "<td style='text-align: right'>951801</td>\n",
       "<td style='text-align: right'>954256</td>\n",
       "<td style='text-align: right'>954735</td>\n",
       "<td style='text-align: right'>955215</td>\n",
       "<td style='text-align: right'>2455</td>\n",
       "<td style='text-align: right'>3597</td>\n",
       "<td style='text-align: right'>4739</td>\n",
       "<td style='text-align: right'>4</td>\n",
       "<td>True</td>\n",
       "<td style='text-align: right'>3</td>\n",
       "<td>None</td>\n",
       "<td>None</td>\n",
       "<td>None</td>\n",
       "<td>None</td>\n",
       "<td>NCO</td>\n",
       "</tr>\n",
       "<tr>\n",
       "<td>1BB5/PG0023-C/ERR015449</td>\n",
       "<td>hb3_dd2</td>\n",
       "<td>b'Pf3D7_12_v3'</td>\n",
       "<td style='text-align: right'>331487</td>\n",
       "<td style='text-align: right'>331820</td>\n",
       "<td style='text-align: right'>332154</td>\n",
       "<td style='text-align: right'>336886</td>\n",
       "<td style='text-align: right'>337497</td>\n",
       "<td style='text-align: right'>338108</td>\n",
       "<td style='text-align: right'>4732</td>\n",
       "<td style='text-align: right'>5677</td>\n",
       "<td style='text-align: right'>6621</td>\n",
       "<td style='text-align: right'>7</td>\n",
       "<td>False</td>\n",
       "<td style='text-align: right'>1</td>\n",
       "<td>None</td>\n",
       "<td>None</td>\n",
       "<td>None</td>\n",
       "<td>None</td>\n",
       "<td>NCO</td>\n",
       "</tr>\n",
       "<tr>\n",
       "<td>1BB5/PG0023-C/ERR015449</td>\n",
       "<td>hb3_dd2</td>\n",
       "<td>b'Pf3D7_13_v3'</td>\n",
       "<td style='text-align: right'>756601</td>\n",
       "<td style='text-align: right'>756957</td>\n",
       "<td style='text-align: right'>757313</td>\n",
       "<td style='text-align: right'>760183</td>\n",
       "<td style='text-align: right'>761269</td>\n",
       "<td style='text-align: right'>762355</td>\n",
       "<td style='text-align: right'>2870</td>\n",
       "<td style='text-align: right'>4312</td>\n",
       "<td style='text-align: right'>5754</td>\n",
       "<td style='text-align: right'>9</td>\n",
       "<td>False</td>\n",
       "<td style='text-align: right'>1</td>\n",
       "<td>None</td>\n",
       "<td>None</td>\n",
       "<td>None</td>\n",
       "<td>None</td>\n",
       "<td>NCO</td>\n",
       "</tr>\n",
       "</tbody>\n",
       "</table>\n",
       "<p><strong>...</strong></p>"
      ]
     },
     "metadata": {},
     "output_type": "display_data"
    }
   ],
   "source": [
    "tbl_nco = (etl\n",
    "    .frompickle(os.path.join(PUBLIC_DIR, 'tbl_conversion_tracts.pickle'))\n",
    "    .eq('tract_type', 'NCO')\n",
    "    # exclude the really long outliers\n",
    "    .lt('tract_length_min', 18000)\n",
    ")\n",
    "display_with_nrows(tbl_nco, caption='NCO tracts')\n",
    "df_nco = tbl_nco.todataframe()"
   ]
  },
  {
   "cell_type": "markdown",
   "metadata": {},
   "source": [
    "### Simulate random uniform/geometric NCOs"
   ]
  },
  {
   "cell_type": "code",
   "execution_count": 4,
   "metadata": {
    "collapsed": false
   },
   "outputs": [],
   "source": [
    "def simulate_nco(phi, sim_factor=10):\n",
    "    tbls_nco_sim = [simulate_random_uniform_non_crossovers(len(progeny[cross])*sim_factor, callsets[cross], phi).addfield('cross', cross)\n",
    "                    for cross in CROSSES]\n",
    "    tbl_nco_sim = etl.cat(*tbls_nco_sim)\n",
    "    return tbl_nco_sim.todataframe()"
   ]
  },
  {
   "cell_type": "code",
   "execution_count": 5,
   "metadata": {
    "collapsed": false
   },
   "outputs": [
    {
     "name": "stderr",
     "output_type": "stream",
     "text": [
      "2016-03-08 18:08:04.059834 :: loading /data/plasmodium/pfalciparum/pf-crosses/data/public/20141022/nco_sim.dataframe.pickle\n"
     ]
    }
   ],
   "source": [
    "# simulation based on uniform location and geometric length\n",
    "# N.B., don't want to have to repeat this if possible\n",
    "nco_sim_fn = os.path.join(PUBLIC_DIR, 'nco_sim.dataframe.pickle')\n",
    "if not os.path.exists(nco_sim_fn):\n",
    "    log('simulating')\n",
    "    df_nco_sim = simulate_nco(phi=.9993, sim_factor=5000)\n",
    "    log('saving', nco_sim_fn)\n",
    "    df_nco_sim.to_pickle(nco_sim_fn)\n",
    "else:\n",
    "    log('loading', nco_sim_fn)\n",
    "    df_nco_sim = pandas.read_pickle(nco_sim_fn)"
   ]
  },
  {
   "cell_type": "code",
   "execution_count": 6,
   "metadata": {
    "collapsed": false
   },
   "outputs": [
    {
     "name": "stdout",
     "output_type": "stream",
     "text": [
      "3d7_hb3 75000 34244 0.45658666666666664\n",
      "hb3_dd2 170000 68450 0.4026470588235294\n",
      "7g8_gb4 135000 53131 0.39356296296296295\n"
     ]
    }
   ],
   "source": [
    "# discovery rates\n",
    "nco_discovery_rate = dict()\n",
    "for cross in CROSSES:\n",
    "    n = np.count_nonzero(df_nco_sim.cross == cross)\n",
    "    n_discovered = np.count_nonzero((df_nco_sim.cross == cross) & (df_nco_sim.tract_support > 1) & (df_nco_sim.tract_length_min > 100))\n",
    "    discovery_rate = n_discovered / n\n",
    "    print(cross, n, n_discovered, discovery_rate)\n",
    "    nco_discovery_rate[cross] = discovery_rate"
   ]
  },
  {
   "cell_type": "markdown",
   "metadata": {},
   "source": [
    "## Minimal tract length distribution"
   ]
  },
  {
   "cell_type": "code",
   "execution_count": 7,
   "metadata": {
    "collapsed": false
   },
   "outputs": [
    {
     "data": {
      "image/png": "[encoded data removed]",
      "text/plain": [
       "<matplotlib.figure.Figure at 0x7efe786b6cf8>"
      ]
     },
     "metadata": {},
     "output_type": "display_data"
    }
   ],
   "source": [
    "colors = sns.color_palette()\n",
    "sns.palplot(colors)"
   ]
  },
  {
   "cell_type": "code",
   "execution_count": 8,
   "metadata": {
    "collapsed": false
   },
   "outputs": [],
   "source": [
    "def plot_tract_length_distribution(ax):\n",
    "\n",
    "    sns.despine(ax=ax, offset=5)\n",
    "    data = [\n",
    "        df_nco.tract_length_min.loc[df_nco.tract_is_complex].values,\n",
    "        df_nco.tract_length_min.loc[~df_nco.tract_is_complex].values,\n",
    "    ]\n",
    "    bin_edges = np.logspace(2, 4.5, 15)\n",
    "    ax.hist(data, bins=bin_edges, stacked=True, color=[colors[2], colors[0]], rwidth=1, label=['complex', 'simple'])\n",
    "    ax.set_xscale('log')\n",
    "    ax.set_xlabel('minimal tract length (bp)')\n",
    "    ax.set_ylabel('frequency')\n",
    "    ax.autoscale(axis='y', tight=True)\n",
    "\n",
    "    ax2 = ax.twinx()\n",
    "    sns.despine(ax=ax2, offset=5)\n",
    "    bin_edges = np.logspace(2, 4.5, 40)\n",
    "    Z = df_nco_sim.tract_length_min[(df_nco_sim.tract_support > 1) & (df_nco_sim.tract_length_min > 100)].values\n",
    "    Y, _ = np.histogram(Z, bins=bin_edges)\n",
    "    X = (bin_edges[1:] + bin_edges[:-1])/2\n",
    "    ax2.plot(X, Y, color='k', linewidth=1, linestyle='--')\n",
    "    ax2.autoscale(axis='y', tight=True)\n",
    "    ax2.set_yticks([])\n"
   ]
  },
  {
   "cell_type": "code",
   "execution_count": 9,
   "metadata": {
    "collapsed": false
   },
   "outputs": [
    {
     "data": {
      "image/png": "[encoded data removed]",
      "text/plain": [
       "<matplotlib.figure.Figure at 0x7efe76877dd8>"
      ]
     },
     "metadata": {},
     "output_type": "display_data"
    }
   ],
   "source": [
    "width = 8/3\n",
    "height = width\n",
    "fig, ax = plt.subplots(figsize=(width, height))\n",
    "plot_tract_length_distribution(ax)\n",
    "ax.set_xlim(100, 15000)\n",
    "ax.set_xlabel('NCO minimal tract length (bp)')\n",
    "ax.set_title('D', fontweight='bold')\n",
    "fig.tight_layout()\n",
    "fig.savefig('../../artwork/main/fig3D.jpg', dpi=900, jpeg_quality=100)"
   ]
  },
  {
   "cell_type": "code",
   "execution_count": 10,
   "metadata": {
    "collapsed": false
   },
   "outputs": [
    {
     "data": {
      "image/png": "[encoded data removed]",
      "text/plain": [
       "<matplotlib.figure.Figure at 0x7efe76cd39b0>"
      ]
     },
     "metadata": {},
     "output_type": "display_data"
    }
   ],
   "source": [
    "from matplotlib.patches import Patch\n",
    "fig, ax = plt.subplots(figsize=(2, 2))\n",
    "ax.set_axis_off()\n",
    "handles = []\n",
    "handles.append(Patch(color=colors[0], label='simple'))\n",
    "handles.append(Patch(color=colors[2], label='complex'))\n",
    "handles.append(plt.Line2D((0, 0), (1, 1), linestyle='--', marker=' ', color='k', label='geometric'))\n",
    "ax.legend(handles=handles, loc='upper left', bbox_to_anchor=(0, 1), numpoints=1, fontsize=8, frameon=False, framealpha=.5);\n",
    "fig.tight_layout()\n",
    "fig.savefig('../../artwork/main/fig3D_legend.jpg', dpi=900, jpeg_quality=100)"
   ]
  },
  {
   "cell_type": "code",
   "execution_count": 11,
   "metadata": {
    "collapsed": false
   },
   "outputs": [],
   "source": [
    "def plot_tract_length_pp(ax, percentiles=range(0, 100, 4), vmax=15000, scatter_kws=dict()):\n",
    "\n",
    "    sns.despine(ax=ax, offset=5)\n",
    "    X = df_nco.tract_length_min.values\n",
    "    Y = df_nco_sim.tract_length_min[(df_nco_sim.tract_support > 1) & (df_nco_sim.tract_length_min > 100)].values\n",
    "    px = np.array([np.percentile(X, p) for p in percentiles])\n",
    "    py = np.array([np.percentile(Y, p) for p in percentiles])\n",
    "    ax.set_xscale('log')\n",
    "    ax.set_yscale('log')\n",
    "    ax.plot([1, vmax], [1, vmax], color='k', linestyle=':', marker=' ')\n",
    "    ax.scatter(px, py, **scatter_kws)\n",
    "    ax.set_xlim(0, vmax)\n",
    "    ax.set_ylim(0, vmax)\n",
    "    ax.set_xlim(100, vmax)\n",
    "    ax.set_ylim(100, vmax)\n",
    "#    ax.grid(axis='both', which='both')\n",
    "    "
   ]
  },
  {
   "cell_type": "code",
   "execution_count": 12,
   "metadata": {
    "collapsed": false
   },
   "outputs": [
    {
     "data": {
      "image/png": "[encoded data removed]",
      "text/plain": [
       "<matplotlib.figure.Figure at 0x7efe76cbb978>"
      ]
     },
     "metadata": {},
     "output_type": "display_data"
    }
   ],
   "source": [
    "width = 8/3\n",
    "height = width\n",
    "fig, ax = plt.subplots(figsize=(width, height))\n",
    "plot_tract_length_pp(ax, scatter_kws=dict(s=12, marker='o', color=colors[0], zorder=10))\n",
    "ax.set_xlabel('NCO minimal tract length (bp)')\n",
    "ax.set_ylabel('geometric model, $\\phi = 0.9993$')\n",
    "ax.set_title('E', fontweight='bold')\n",
    "fig.tight_layout()\n",
    "fig.savefig('../../artwork/main/fig3E.jpg', dpi=900, jpeg_quality=100)"
   ]
  },
  {
   "cell_type": "code",
   "execution_count": 13,
   "metadata": {
    "collapsed": false
   },
   "outputs": [
    {
     "name": "stdout",
     "output_type": "stream",
     "text": [
      "50.0\n",
      "72.6086956522\n"
     ]
    }
   ],
   "source": [
    "X = df_nco.tract_length_min.values\n",
    "print(stats.percentileofscore(X, 1000))\n",
    "print(stats.percentileofscore(X, 2000))"
   ]
  },
  {
   "cell_type": "markdown",
   "metadata": {},
   "source": [
    "## NCO recombination rate"
   ]
  },
  {
   "cell_type": "code",
   "execution_count": 14,
   "metadata": {
    "collapsed": false
   },
   "outputs": [
    {
     "data": {
      "text/html": [
       "<table class='petl'>\n",
       "<caption>NCO events by cross</caption>\n",
       "<thead>\n",
       "<tr>\n",
       "<th>0|cross</th>\n",
       "<th>1|n_progeny</th>\n",
       "<th>2|n_obs</th>\n",
       "<th>3|rate_obs</th>\n",
       "<th>4|n_adj</th>\n",
       "<th>5|rate_adj</th>\n",
       "<th>6|rate_adj_stderr</th>\n",
       "<th>7|rate_adj_95ci</th>\n",
       "</tr>\n",
       "</thead>\n",
       "<tbody>\n",
       "<tr>\n",
       "<td>hb3_dd2</td>\n",
       "<td style='text-align: right'>34</td>\n",
       "<td style='text-align: right'>111</td>\n",
       "<td style='text-align: right'>3.264705882352941</td>\n",
       "<td style='text-align: right'>275.6756756756757</td>\n",
       "<td style='text-align: right'>8.108108108108109</td>\n",
       "<td style='text-align: right'>0.488337760045</td>\n",
       "<td style='text-align: right'>0.957142009688</td>\n",
       "</tr>\n",
       "<tr>\n",
       "<td>7g8_gb4</td>\n",
       "<td style='text-align: right'>27</td>\n",
       "<td style='text-align: right'>77</td>\n",
       "<td style='text-align: right'>2.8518518518518516</td>\n",
       "<td style='text-align: right'>195.64849146449342</td>\n",
       "<td style='text-align: right'>7.246240424610868</td>\n",
       "<td style='text-align: right'>0.518053351486</td>\n",
       "<td style='text-align: right'>1.01538456891</td>\n",
       "</tr>\n",
       "<tr>\n",
       "<td>3d7_hb3</td>\n",
       "<td style='text-align: right'>15</td>\n",
       "<td style='text-align: right'>42</td>\n",
       "<td style='text-align: right'>2.8</td>\n",
       "<td style='text-align: right'>91.9869174161897</td>\n",
       "<td style='text-align: right'>6.132461161079314</td>\n",
       "<td style='text-align: right'>0.63939873637</td>\n",
       "<td style='text-align: right'>1.25322152329</td>\n",
       "</tr>\n",
       "</tbody>\n",
       "</table>\n"
      ]
     },
     "metadata": {},
     "output_type": "display_data"
    }
   ],
   "source": [
    "tbl_nco_adjusted = (\n",
    "    tbl_nco\n",
    "    .valuecounts('cross')\n",
    "    .cutout('frequency')\n",
    "    .rename('count', 'n_obs')\n",
    "    .addfield('n_progeny', lambda row: len(progeny[row.cross]), index=1)\n",
    "    .addfield('rate_obs', lambda row: row.n_obs / row.n_progeny)\n",
    "    .addfield('n_adj', lambda row: row.n_obs / nco_discovery_rate[row.cross])\n",
    "    .addfield('rate_adj', lambda row: row.n_adj / row.n_progeny)\n",
    "    .addfield('rate_adj_stderr', lambda row: np.sqrt(row.rate_adj / row.n_progeny))\n",
    "    .addfield('rate_adj_95ci', lambda row: row.rate_adj_stderr * 1.96)\n",
    ")\n",
    "tbl_nco_adjusted.display(caption='NCO events by cross')"
   ]
  },
  {
   "cell_type": "code",
   "execution_count": 15,
   "metadata": {
    "collapsed": false
   },
   "outputs": [
    {
     "name": "stdout",
     "output_type": "stream",
     "text": [
      "#NCOs: 563.3110845563588\n",
      "meioses: 76\n",
      "recombination rate: 7.41 NCO/meiosis\n",
      "recombination rate stderr: 0.31229178231\n",
      "recombination rate 95% CI: 6.80 - 8.02\n"
     ]
    }
   ],
   "source": [
    "n_nco_adj = tbl_nco_adjusted.values('n_adj').sum()\n",
    "print('#NCOs:', n_nco_adj)\n",
    "\n",
    "n = np.sum(len(s) for s in progeny.values())\n",
    "# N.B., some samples have 0 NCOs\n",
    "print('meioses:', n)\n",
    "\n",
    "mu_adj_hat = n_nco_adj / n\n",
    "print('recombination rate: %.2f' % mu_adj_hat, 'NCO/meiosis')\n",
    "\n",
    "mu_adj_stderr = np.sqrt(mu_adj_hat / n)\n",
    "print('recombination rate stderr:', mu_adj_stderr)\n",
    "\n",
    "mu_adj_95ci = 1.96 * mu_adj_stderr\n",
    "print('recombination rate 95%% CI: %.2f - %.2f' % (mu_adj_hat - mu_adj_95ci, mu_adj_hat + mu_adj_95ci))"
   ]
  },
  {
   "cell_type": "code",
   "execution_count": 16,
   "metadata": {
    "collapsed": false
   },
   "outputs": [
    {
     "data": {
      "text/html": [
       "<table class='petl'>\n",
       "<caption>Core genome span (total = 20.78)</caption>\n",
       "<thead>\n",
       "<tr>\n",
       "<th>0|chrom</th>\n",
       "<th>1|span</th>\n",
       "</tr>\n",
       "</thead>\n",
       "<tbody>\n",
       "<tr>\n",
       "<td>Pf3D7_01_v3</td>\n",
       "<td style='text-align: right'>480620</td>\n",
       "</tr>\n",
       "<tr>\n",
       "<td>Pf3D7_02_v3</td>\n",
       "<td style='text-align: right'>753550</td>\n",
       "</tr>\n",
       "<tr>\n",
       "<td>Pf3D7_03_v3</td>\n",
       "<td style='text-align: right'>929971</td>\n",
       "</tr>\n",
       "<tr>\n",
       "<td>Pf3D7_04_v3</td>\n",
       "<td style='text-align: right'>932894</td>\n",
       "</tr>\n",
       "<tr>\n",
       "<td>Pf3D7_05_v3</td>\n",
       "<td style='text-align: right'>1281978</td>\n",
       "</tr>\n",
       "<tr>\n",
       "<td>Pf3D7_06_v3</td>\n",
       "<td style='text-align: right'>1200478</td>\n",
       "</tr>\n",
       "<tr>\n",
       "<td>Pf3D7_07_v3</td>\n",
       "<td style='text-align: right'>1204739</td>\n",
       "</tr>\n",
       "<tr>\n",
       "<td>Pf3D7_08_v3</td>\n",
       "<td style='text-align: right'>1249936</td>\n",
       "</tr>\n",
       "<tr>\n",
       "<td>Pf3D7_09_v3</td>\n",
       "<td style='text-align: right'>1392114</td>\n",
       "</tr>\n",
       "<tr>\n",
       "<td>Pf3D7_10_v3</td>\n",
       "<td style='text-align: right'>1502845</td>\n",
       "</tr>\n",
       "<tr>\n",
       "<td>Pf3D7_11_v3</td>\n",
       "<td style='text-align: right'>1891043</td>\n",
       "</tr>\n",
       "<tr>\n",
       "<td>Pf3D7_12_v3</td>\n",
       "<td style='text-align: right'>2030380</td>\n",
       "</tr>\n",
       "<tr>\n",
       "<td>Pf3D7_13_v3</td>\n",
       "<td style='text-align: right'>2715189</td>\n",
       "</tr>\n",
       "<tr>\n",
       "<td>Pf3D7_14_v3</td>\n",
       "<td style='text-align: right'>3216370</td>\n",
       "</tr>\n",
       "</tbody>\n",
       "</table>\n"
      ]
     },
     "metadata": {},
     "output_type": "display_data"
    }
   ],
   "source": [
    "# calculate marker span using accessibility regions, it's fairer and simpler\n",
    "# N.B., here we **exclude** internal hypervariable regions from the total marker span, because NCOs within them will be hidden.\n",
    "tbl_marker_span = (\n",
    "    tbl_regions_1b\n",
    "    .eq('region_type', 'Core')\n",
    "    .aggregate('region_chrom', sum, 'region_size')\n",
    "    .rename(dict(region_chrom='chrom', value='span'))\n",
    ")\n",
    "\n",
    "total_marker_span = tbl_marker_span.values('span').sum()\n",
    "lkp_marker_span = tbl_marker_span.lookupone('chrom', 'span')\n",
    "tbl_marker_span.displayall(caption='Core genome span (total = %.2f)' % (total_marker_span/1e6))\n"
   ]
  },
  {
   "cell_type": "code",
   "execution_count": 17,
   "metadata": {
    "collapsed": false
   },
   "outputs": [
    {
     "name": "stdout",
     "output_type": "stream",
     "text": [
      "NCO rate (adjusted): 0.3567 NCO / meiosis / Mb\n",
      "NCO rate (adjusted) 95% CI: 0.3272 - 0.3861\n"
     ]
    }
   ],
   "source": [
    "nco_adj_hat = (mu_adj_hat / (total_marker_span / 1e6))\n",
    "print('NCO rate (adjusted): %.4f NCO / meiosis / Mb' % nco_adj_hat)\n",
    "nco_adj_95ci = (mu_adj_95ci / (total_marker_span / 1e6))\n",
    "print('NCO rate (adjusted) 95%% CI: %.4f - %.4f' % (nco_adj_hat - nco_adj_95ci, nco_adj_hat + nco_adj_95ci))"
   ]
  },
  {
   "cell_type": "markdown",
   "metadata": {},
   "source": [
    "## NCO rate by chromosome"
   ]
  },
  {
   "cell_type": "code",
   "execution_count": 18,
   "metadata": {
    "collapsed": false
   },
   "outputs": [
    {
     "data": {
      "text/plain": [
       "Counter({('1BB5/PG0023-C/ERR015449', b'Pf3D7_02_v3'): 1,\n",
       "         ('1BB5/PG0023-C/ERR015449', b'Pf3D7_08_v3'): 1,\n",
       "         ('1BB5/PG0023-C/ERR015449', b'Pf3D7_09_v3'): 1,\n",
       "         ('1BB5/PG0023-C/ERR015449', b'Pf3D7_12_v3'): 1,\n",
       "         ('1BB5/PG0023-C/ERR015449', b'Pf3D7_13_v3'): 1,\n",
       "         ('1BB5/PG0023-C/ERR015449', b'Pf3D7_14_v3'): 1,\n",
       "         ('3BA6/PG0022-Cx/ERR126027', b'Pf3D7_02_v3'): 1,\n",
       "         ('3BA6/PG0022-Cx/ERR126027', b'Pf3D7_06_v3'): 1,\n",
       "         ('3BA6/PG0022-Cx/ERR126027', b'Pf3D7_07_v3'): 2,\n",
       "         ('3BA6/PG0022-Cx/ERR126027', b'Pf3D7_12_v3'): 1,\n",
       "         ('3BA6/PG0022-Cx/ERR126027', b'Pf3D7_14_v3'): 1,\n",
       "         ('3BD5/PG0024-C/ERR019053', b'Pf3D7_10_v3'): 1,\n",
       "         ('3BD5/PG0024-C/ERR019053', b'Pf3D7_12_v3'): 1,\n",
       "         ('7C101/PG0074-C/ERR019048', b'Pf3D7_06_v3'): 1,\n",
       "         ('7C101/PG0074-C/ERR019048', b'Pf3D7_13_v3'): 1,\n",
       "         ('7C101/PG0074-C/ERR019048', b'Pf3D7_14_v3'): 1,\n",
       "         ('7C111/PG0038-C/ERR015457', b'Pf3D7_03_v3'): 1,\n",
       "         ('7C111/PG0038-C/ERR015457', b'Pf3D7_07_v3'): 1,\n",
       "         ('7C111/PG0038-C/ERR015457', b'Pf3D7_10_v3'): 1,\n",
       "         ('7C111/PG0038-C/ERR015457', b'Pf3D7_11_v3'): 2,\n",
       "         ('7C111/PG0038-C/ERR015457', b'Pf3D7_12_v3'): 2,\n",
       "         ('7C111/PG0038-C/ERR015457', b'Pf3D7_14_v3'): 1,\n",
       "         ('7C12/PG0035-Cx/ERR037704', b'Pf3D7_13_v3'): 1,\n",
       "         ('7C126/PG0047-C/ERR015452', b'Pf3D7_11_v3'): 1,\n",
       "         ('7C140/PG0039-C/ERR015454', b'Pf3D7_13_v3'): 1,\n",
       "         ('7C159/PG0040-Cx/ERR107475', b'Pf3D7_02_v3'): 1,\n",
       "         ('7C159/PG0040-Cx/ERR107475', b'Pf3D7_08_v3'): 1,\n",
       "         ('7C159/PG0040-Cx/ERR107475', b'Pf3D7_09_v3'): 1,\n",
       "         ('7C159/PG0040-Cx/ERR107475', b'Pf3D7_13_v3'): 1,\n",
       "         ('7C170/PG0041-C/ERR015446', b'Pf3D7_09_v3'): 1,\n",
       "         ('7C170/PG0041-C/ERR015446', b'Pf3D7_14_v3'): 1,\n",
       "         ('7C183/PG0042-C/ERR015448', b'Pf3D7_01_v3'): 1,\n",
       "         ('7C183/PG0042-C/ERR015448', b'Pf3D7_02_v3'): 1,\n",
       "         ('7C183/PG0042-C/ERR015448', b'Pf3D7_04_v3'): 1,\n",
       "         ('7C183/PG0042-C/ERR015448', b'Pf3D7_10_v3'): 1,\n",
       "         ('7C183/PG0042-C/ERR015448', b'Pf3D7_11_v3'): 2,\n",
       "         ('7C188/PG0030-C/ERR019046', b'Pf3D7_02_v3'): 1,\n",
       "         ('7C188/PG0030-C/ERR019046', b'Pf3D7_08_v3'): 1,\n",
       "         ('7C188/PG0030-C/ERR019046', b'Pf3D7_10_v3'): 1,\n",
       "         ('7C188/PG0030-C/ERR019046', b'Pf3D7_12_v3'): 1,\n",
       "         ('7C20/PG0037-C/ERR015451', b'Pf3D7_02_v3'): 1,\n",
       "         ('7C20/PG0037-C/ERR015451', b'Pf3D7_10_v3'): 1,\n",
       "         ('7C20/PG0037-C/ERR015451', b'Pf3D7_11_v3'): 2,\n",
       "         ('7C20/PG0037-C/ERR015451', b'Pf3D7_12_v3'): 1,\n",
       "         ('7C3/PG0034-C/ERR019047', b'Pf3D7_03_v3'): 1,\n",
       "         ('7C3/PG0034-C/ERR019047', b'Pf3D7_07_v3'): 1,\n",
       "         ('7C3/PG0034-C/ERR019047', b'Pf3D7_08_v3'): 1,\n",
       "         ('7C3/PG0034-C/ERR019047', b'Pf3D7_13_v3'): 1,\n",
       "         ('7C421/PG0043-C/ERR015459', b'Pf3D7_06_v3'): 1,\n",
       "         ('7C421/PG0043-C/ERR015459', b'Pf3D7_07_v3'): 2,\n",
       "         ('7C424/PG0044-C/ERR019043', b'Pf3D7_06_v3'): 1,\n",
       "         ('7C424/PG0044-C/ERR019043', b'Pf3D7_07_v3'): 1,\n",
       "         ('7C424/PG0044-C/ERR019043', b'Pf3D7_09_v3'): 1,\n",
       "         ('7C424/PG0044-C/ERR019043', b'Pf3D7_14_v3'): 1,\n",
       "         ('7C46/PG0046-Cx/ERR107476', b'Pf3D7_09_v3'): 1,\n",
       "         ('7C46/PG0046-Cx/ERR107476', b'Pf3D7_14_v3'): 3,\n",
       "         ('7C7/PG0048-C/ERR019049', b'Pf3D7_09_v3'): 1,\n",
       "         ('7C7/PG0048-C/ERR019049', b'Pf3D7_11_v3'): 1,\n",
       "         ('7C7/PG0048-C/ERR019049', b'Pf3D7_12_v3'): 1,\n",
       "         ('AUD/PG0112-C/ERR029406', b'Pf3D7_03_v3'): 1,\n",
       "         ('AUD/PG0112-C/ERR029406', b'Pf3D7_04_v3'): 1,\n",
       "         ('AUD/PG0112-C/ERR029406', b'Pf3D7_13_v3'): 1,\n",
       "         ('AUD/PG0112-C/ERR029406', b'Pf3D7_14_v3'): 1,\n",
       "         ('B1SD/PG0015-C/ERR019044', b'Pf3D7_09_v3'): 1,\n",
       "         ('B1SD/PG0015-C/ERR019044', b'Pf3D7_10_v3'): 1,\n",
       "         ('B1SD/PG0015-C/ERR019044', b'Pf3D7_13_v3'): 2,\n",
       "         ('B4R3/PG0018-C/ERR019042', b'Pf3D7_04_v3'): 1,\n",
       "         ('B4R3/PG0018-C/ERR019042', b'Pf3D7_05_v3'): 1,\n",
       "         ('B4R3/PG0018-C/ERR019042', b'Pf3D7_09_v3'): 1,\n",
       "         ('C01/PG0065-C/ERR019064', b'Pf3D7_06_v3'): 1,\n",
       "         ('C01/PG0065-C/ERR019064', b'Pf3D7_10_v3'): 1,\n",
       "         ('C01/PG0065-C/ERR019064', b'Pf3D7_11_v3'): 1,\n",
       "         ('C02/PG0067-C/ERR019073', b'Pf3D7_08_v3'): 1,\n",
       "         ('C02/PG0067-C/ERR019073', b'Pf3D7_09_v3'): 1,\n",
       "         ('C03/PG0066-C/ERR019072', b'Pf3D7_04_v3'): 1,\n",
       "         ('C03/PG0066-C/ERR019072', b'Pf3D7_09_v3'): 1,\n",
       "         ('C03/PG0066-C/ERR019072', b'Pf3D7_12_v3'): 1,\n",
       "         ('C04/PG0061-C/ERR019059', b'Pf3D7_09_v3'): 1,\n",
       "         ('C04/PG0061-C/ERR019059', b'Pf3D7_13_v3'): 1,\n",
       "         ('C05/PG0068-C/ERR019065', b'Pf3D7_11_v3'): 1,\n",
       "         ('C06/PG0069-C/ERR019055', b'Pf3D7_06_v3'): 1,\n",
       "         ('C06/PG0069-C/ERR019055', b'Pf3D7_10_v3'): 1,\n",
       "         ('C06/PG0069-C/ERR019055', b'Pf3D7_12_v3'): 2,\n",
       "         ('C07/PG0070-C/ERR019056', b'Pf3D7_05_v3'): 1,\n",
       "         ('C07/PG0070-C/ERR019056', b'Pf3D7_06_v3'): 1,\n",
       "         ('C08/PG0071-C/ERR019074', b'Pf3D7_03_v3'): 1,\n",
       "         ('C08/PG0071-C/ERR019074', b'Pf3D7_12_v3'): 2,\n",
       "         ('C09/PG0072-C/ERR019057', b'Pf3D7_06_v3'): 1,\n",
       "         ('C09/PG0072-C/ERR019057', b'Pf3D7_09_v3'): 1,\n",
       "         ('C09/PG0072-C/ERR019057', b'Pf3D7_10_v3'): 1,\n",
       "         ('C09/PG0072-C/ERR019057', b'Pf3D7_13_v3'): 2,\n",
       "         ('C10/PG0063-C/ERR019060', b'Pf3D7_03_v3'): 1,\n",
       "         ('C10/PG0063-C/ERR019060', b'Pf3D7_05_v3'): 1,\n",
       "         ('C10/PG0063-C/ERR019060', b'Pf3D7_14_v3'): 1,\n",
       "         ('C11/PG0064-C/ERR019071', b'Pf3D7_05_v3'): 1,\n",
       "         ('C11/PG0064-C/ERR019071', b'Pf3D7_11_v3'): 1,\n",
       "         ('C11/PG0064-C/ERR019071', b'Pf3D7_12_v3'): 1,\n",
       "         ('C11/PG0064-C/ERR019071', b'Pf3D7_14_v3'): 1,\n",
       "         ('C12/PG0058-C/ERR019063', b'Pf3D7_09_v3'): 1,\n",
       "         ('C12/PG0058-C/ERR019063', b'Pf3D7_10_v3'): 1,\n",
       "         ('C12/PG0058-C/ERR019063', b'Pf3D7_14_v3'): 1,\n",
       "         ('C13/PG0054-C/ERR019062', b'Pf3D7_03_v3'): 1,\n",
       "         ('C13/PG0054-C/ERR019062', b'Pf3D7_13_v3'): 2,\n",
       "         ('C13/PG0054-C/ERR019062', b'Pf3D7_14_v3'): 1,\n",
       "         ('C14/PG0060-C/ERR019058', b'Pf3D7_10_v3'): 1,\n",
       "         ('C14/PG0060-C/ERR019058', b'Pf3D7_13_v3'): 1,\n",
       "         ('C15/PG0057-C/ERR019069', b'Pf3D7_05_v3'): 1,\n",
       "         ('CH3_116/PG0032-Cx/ERR037703', b'Pf3D7_08_v3'): 1,\n",
       "         ('CH3_116/PG0032-Cx/ERR037703', b'Pf3D7_13_v3'): 1,\n",
       "         ('CH3_61/PG0033-Cx/ERR175544', b'Pf3D7_01_v3'): 2,\n",
       "         ('CH3_61/PG0033-Cx/ERR175544', b'Pf3D7_02_v3'): 1,\n",
       "         ('CH3_61/PG0033-Cx/ERR175544', b'Pf3D7_12_v3'): 1,\n",
       "         ('CH3_61/PG0033-Cx/ERR175544', b'Pf3D7_13_v3'): 1,\n",
       "         ('CH3_61/PG0033-Cx/ERR175544', b'Pf3D7_14_v3'): 1,\n",
       "         ('D43/PG0029-Cx/ERR107474', b'Pf3D7_08_v3'): 1,\n",
       "         ('D43/PG0029-Cx/ERR107474', b'Pf3D7_09_v3'): 1,\n",
       "         ('D43/PG0029-Cx/ERR107474', b'Pf3D7_10_v3'): 1,\n",
       "         ('D43/PG0029-Cx/ERR107474', b'Pf3D7_11_v3'): 1,\n",
       "         ('D43/PG0029-Cx/ERR107474', b'Pf3D7_13_v3'): 1,\n",
       "         ('DAN/PG0098-C/ERR027110', b'Pf3D7_01_v3'): 1,\n",
       "         ('DAN/PG0098-C/ERR027110', b'Pf3D7_09_v3'): 1,\n",
       "         ('DEV/PG0081-CW/ERR045633', b'Pf3D7_01_v3'): 1,\n",
       "         ('DEV/PG0081-CW/ERR045633', b'Pf3D7_06_v3'): 1,\n",
       "         ('DEV/PG0081-CW/ERR045633', b'Pf3D7_08_v3'): 1,\n",
       "         ('DEV/PG0081-CW/ERR045633', b'Pf3D7_10_v3'): 1,\n",
       "         ('GC03/PG0021-C/ERR015447', b'Pf3D7_06_v3'): 1,\n",
       "         ('GC03/PG0021-C/ERR015447', b'Pf3D7_09_v3'): 1,\n",
       "         ('GC03/PG0021-C/ERR015447', b'Pf3D7_12_v3'): 1,\n",
       "         ('GC03/PG0021-C/ERR015447', b'Pf3D7_13_v3'): 1,\n",
       "         ('GC03/PG0021-C/ERR015447', b'Pf3D7_14_v3'): 1,\n",
       "         ('GC06/PG0028-C/ERR015456', b'Pf3D7_01_v3'): 1,\n",
       "         ('GC06/PG0028-C/ERR015456', b'Pf3D7_07_v3'): 1,\n",
       "         ('GC06/PG0028-C/ERR015456', b'Pf3D7_10_v3'): 1,\n",
       "         ('GC06/PG0028-C/ERR015456', b'Pf3D7_12_v3'): 1,\n",
       "         ('GC06/PG0028-C/ERR015456', b'Pf3D7_14_v3'): 1,\n",
       "         ('JB12/PG0099-C/ERR029146', b'Pf3D7_12_v3'): 1,\n",
       "         ('JB12/PG0099-C/ERR029146', b'Pf3D7_14_v3'): 2,\n",
       "         ('JB8/PG0087-C/ERR029091', b'Pf3D7_04_v3'): 1,\n",
       "         ('JB8/PG0087-C/ERR029091', b'Pf3D7_09_v3'): 1,\n",
       "         ('JC3/PG0077-CW/ERR045636', b'Pf3D7_06_v3'): 1,\n",
       "         ('JC3/PG0077-CW/ERR045636', b'Pf3D7_12_v3'): 1,\n",
       "         ('JC3/PG0077-CW/ERR045636', b'Pf3D7_13_v3'): 1,\n",
       "         ('JC9/PG0111-CW/ERR045634', b'Pf3D7_07_v3'): 1,\n",
       "         ('JC9/PG0111-CW/ERR045634', b'Pf3D7_09_v3'): 1,\n",
       "         ('JC9/PG0111-CW/ERR045634', b'Pf3D7_10_v3'): 1,\n",
       "         ('JC9/PG0111-CW/ERR045634', b'Pf3D7_11_v3'): 1,\n",
       "         ('JC9/PG0111-CW/ERR045634', b'Pf3D7_14_v3'): 1,\n",
       "         ('JE11/PG0100-C/ERR029404', b'Pf3D7_02_v3'): 1,\n",
       "         ('JE11/PG0100-C/ERR029404', b'Pf3D7_03_v3'): 1,\n",
       "         ('JE11/PG0100-C/ERR029404', b'Pf3D7_04_v3'): 1,\n",
       "         ('JF6/PG0079-C/ERR027102', b'Pf3D7_10_v3'): 2,\n",
       "         ('JF6/PG0079-C/ERR027102', b'Pf3D7_12_v3'): 2,\n",
       "         ('JF6/PG0079-C/ERR027102', b'Pf3D7_13_v3'): 2,\n",
       "         ('JON/PG0107-C/ERR029408', b'Pf3D7_09_v3'): 2,\n",
       "         ('KA6/PG0091-C/ERR027117', b'Pf3D7_11_v3'): 1,\n",
       "         ('KA6/PG0091-C/ERR027117', b'Pf3D7_12_v3'): 2,\n",
       "         ('KA6/PG0091-C/ERR027117', b'Pf3D7_14_v3'): 2,\n",
       "         ('KB8/PG0104-C/ERR029148', b'Pf3D7_04_v3'): 1,\n",
       "         ('KB8/PG0104-C/ERR029148', b'Pf3D7_07_v3'): 1,\n",
       "         ('KB8/PG0104-C/ERR029148', b'Pf3D7_12_v3'): 1,\n",
       "         ('KH7/PG0088-C/ERR027111', b'Pf3D7_05_v3'): 1,\n",
       "         ('KH7/PG0088-C/ERR027111', b'Pf3D7_08_v3'): 1,\n",
       "         ('KH7/PG0088-C/ERR027111', b'Pf3D7_09_v3'): 1,\n",
       "         ('LA10/PG0086-C/ERR029090', b'Pf3D7_08_v3'): 3,\n",
       "         ('LA10/PG0086-C/ERR029090', b'Pf3D7_13_v3'): 2,\n",
       "         ('NF10/PG0096-C/ERR027108', b'Pf3D7_01_v3'): 2,\n",
       "         ('NF10/PG0096-C/ERR027108', b'Pf3D7_04_v3'): 1,\n",
       "         ('NIC/PG0095-CW/ERR045631', b'Pf3D7_03_v3'): 1,\n",
       "         ('NIC/PG0095-CW/ERR045631', b'Pf3D7_06_v3'): 1,\n",
       "         ('NIC/PG0095-CW/ERR045631', b'Pf3D7_07_v3'): 1,\n",
       "         ('NIC/PG0095-CW/ERR045631', b'Pf3D7_08_v3'): 1,\n",
       "         ('NIC/PG0095-CW/ERR045631', b'Pf3D7_09_v3'): 1,\n",
       "         ('QC01/PG0017-C/ERR019050', b'Pf3D7_04_v3'): 1,\n",
       "         ('QC01/PG0017-C/ERR019050', b'Pf3D7_07_v3'): 1,\n",
       "         ('QC01/PG0017-C/ERR019050', b'Pf3D7_14_v3'): 1,\n",
       "         ('QC13/PG0016-C/ERR012895', b'Pf3D7_01_v3'): 1,\n",
       "         ('QC13/PG0016-C/ERR012895', b'Pf3D7_09_v3'): 1,\n",
       "         ('QC23/PG0045-C/ERR012892', b'Pf3D7_04_v3'): 1,\n",
       "         ('QC23/PG0045-C/ERR012892', b'Pf3D7_11_v3'): 2,\n",
       "         ('QC23/PG0045-C/ERR012892', b'Pf3D7_12_v3'): 1,\n",
       "         ('QC34/PG0026-C/ERR015453', b'Pf3D7_13_v3'): 1,\n",
       "         ('QF5/PG0078-C/ERR029092', b'Pf3D7_13_v3'): 1,\n",
       "         ('SC05/PG0019-C/ERR019051', b'Pf3D7_07_v3'): 1,\n",
       "         ('TC05/PG0027-C/ERR015450', b'Pf3D7_05_v3'): 1,\n",
       "         ('TC05/PG0027-C/ERR015450', b'Pf3D7_14_v3'): 1,\n",
       "         ('TC08/PG0020-C/ERR019052', b'Pf3D7_14_v3'): 1,\n",
       "         ('TF1/PG0080-C/ERR027103', b'Pf3D7_10_v3'): 1,\n",
       "         ('TF1/PG0080-C/ERR027103', b'Pf3D7_13_v3'): 1,\n",
       "         ('WC4/PG0082-C/ERR029093', b'Pf3D7_04_v3'): 1,\n",
       "         ('WC4/PG0082-C/ERR029093', b'Pf3D7_05_v3'): 1,\n",
       "         ('WF12/PG0097-C/ERR027109', b'Pf3D7_02_v3'): 1,\n",
       "         ('WF12/PG0097-C/ERR027109', b'Pf3D7_07_v3'): 1,\n",
       "         ('WF12/PG0097-C/ERR027109', b'Pf3D7_09_v3'): 1,\n",
       "         ('WF12/PG0097-C/ERR027109', b'Pf3D7_14_v3'): 1,\n",
       "         ('XB3/PG0093-C/ERR029105', b'Pf3D7_07_v3'): 1,\n",
       "         ('XB3/PG0093-C/ERR029105', b'Pf3D7_14_v3'): 1,\n",
       "         ('XD8/PG0105-C/ERR029144', b'Pf3D7_10_v3'): 1,\n",
       "         ('XD8/PG0105-C/ERR029144', b'Pf3D7_11_v3'): 1,\n",
       "         ('XE7/PG0106-C/ERR029407', b'Pf3D7_06_v3'): 2,\n",
       "         ('XE7/PG0106-C/ERR029407', b'Pf3D7_08_v3'): 1,\n",
       "         ('XE7/PG0106-C/ERR029407', b'Pf3D7_11_v3'): 1,\n",
       "         ('XF12/PG0102-C/ERR029143', b'Pf3D7_12_v3'): 1,\n",
       "         ('XG10/PG0109-C/ERR029405', b'Pf3D7_14_v3'): 1})"
      ]
     },
     "execution_count": 18,
     "metadata": {},
     "output_type": "execute_result"
    }
   ],
   "source": [
    "lkp_nco_sample_chrom = (\n",
    "    tbl_nco\n",
    "    .valuecounter('sample', 'chrom')\n",
    "#    .lookupone('value', 'count')\n",
    ")\n",
    "lkp_nco_sample_chrom"
   ]
  },
  {
   "cell_type": "code",
   "execution_count": 19,
   "metadata": {
    "collapsed": false
   },
   "outputs": [
    {
     "data": {
      "text/html": [
       "<table class='petl'>\n",
       "<thead>\n",
       "<tr>\n",
       "<th>0|cross</th>\n",
       "<th>1|sample</th>\n",
       "<th>2|chrom</th>\n",
       "<th>3|n_obs</th>\n",
       "<th>4|n_adj</th>\n",
       "<th>5|span</th>\n",
       "</tr>\n",
       "</thead>\n",
       "<tbody>\n",
       "<tr>\n",
       "<td>3d7_hb3</td>\n",
       "<td>C01/PG0065-C/ERR019064</td>\n",
       "<td>b'Pf3D7_01_v3'</td>\n",
       "<td style='text-align: right'>0</td>\n",
       "<td style='text-align: right'>0.0</td>\n",
       "<td style='text-align: right'>480620</td>\n",
       "</tr>\n",
       "<tr>\n",
       "<td>3d7_hb3</td>\n",
       "<td>C01/PG0065-C/ERR019064</td>\n",
       "<td>b'Pf3D7_02_v3'</td>\n",
       "<td style='text-align: right'>0</td>\n",
       "<td style='text-align: right'>0.0</td>\n",
       "<td style='text-align: right'>753550</td>\n",
       "</tr>\n",
       "<tr>\n",
       "<td>3d7_hb3</td>\n",
       "<td>C01/PG0065-C/ERR019064</td>\n",
       "<td>b'Pf3D7_03_v3'</td>\n",
       "<td style='text-align: right'>0</td>\n",
       "<td style='text-align: right'>0.0</td>\n",
       "<td style='text-align: right'>929971</td>\n",
       "</tr>\n",
       "<tr>\n",
       "<td>3d7_hb3</td>\n",
       "<td>C01/PG0065-C/ERR019064</td>\n",
       "<td>b'Pf3D7_04_v3'</td>\n",
       "<td style='text-align: right'>0</td>\n",
       "<td style='text-align: right'>0.0</td>\n",
       "<td style='text-align: right'>932894</td>\n",
       "</tr>\n",
       "<tr>\n",
       "<td>3d7_hb3</td>\n",
       "<td>C01/PG0065-C/ERR019064</td>\n",
       "<td>b'Pf3D7_05_v3'</td>\n",
       "<td style='text-align: right'>0</td>\n",
       "<td style='text-align: right'>0.0</td>\n",
       "<td style='text-align: right'>1281978</td>\n",
       "</tr>\n",
       "<tr>\n",
       "<td>3d7_hb3</td>\n",
       "<td>C01/PG0065-C/ERR019064</td>\n",
       "<td>b'Pf3D7_06_v3'</td>\n",
       "<td style='text-align: right'>1</td>\n",
       "<td style='text-align: right'>2.190164700385469</td>\n",
       "<td style='text-align: right'>1200478</td>\n",
       "</tr>\n",
       "<tr>\n",
       "<td>3d7_hb3</td>\n",
       "<td>C01/PG0065-C/ERR019064</td>\n",
       "<td>b'Pf3D7_07_v3'</td>\n",
       "<td style='text-align: right'>0</td>\n",
       "<td style='text-align: right'>0.0</td>\n",
       "<td style='text-align: right'>1204739</td>\n",
       "</tr>\n",
       "<tr>\n",
       "<td>3d7_hb3</td>\n",
       "<td>C01/PG0065-C/ERR019064</td>\n",
       "<td>b'Pf3D7_08_v3'</td>\n",
       "<td style='text-align: right'>0</td>\n",
       "<td style='text-align: right'>0.0</td>\n",
       "<td style='text-align: right'>1249936</td>\n",
       "</tr>\n",
       "<tr>\n",
       "<td>3d7_hb3</td>\n",
       "<td>C01/PG0065-C/ERR019064</td>\n",
       "<td>b'Pf3D7_09_v3'</td>\n",
       "<td style='text-align: right'>0</td>\n",
       "<td style='text-align: right'>0.0</td>\n",
       "<td style='text-align: right'>1392114</td>\n",
       "</tr>\n",
       "<tr>\n",
       "<td>3d7_hb3</td>\n",
       "<td>C01/PG0065-C/ERR019064</td>\n",
       "<td>b'Pf3D7_10_v3'</td>\n",
       "<td style='text-align: right'>1</td>\n",
       "<td style='text-align: right'>2.190164700385469</td>\n",
       "<td style='text-align: right'>1502845</td>\n",
       "</tr>\n",
       "<tr>\n",
       "<td>3d7_hb3</td>\n",
       "<td>C01/PG0065-C/ERR019064</td>\n",
       "<td>b'Pf3D7_11_v3'</td>\n",
       "<td style='text-align: right'>1</td>\n",
       "<td style='text-align: right'>2.190164700385469</td>\n",
       "<td style='text-align: right'>1891043</td>\n",
       "</tr>\n",
       "<tr>\n",
       "<td>3d7_hb3</td>\n",
       "<td>C01/PG0065-C/ERR019064</td>\n",
       "<td>b'Pf3D7_12_v3'</td>\n",
       "<td style='text-align: right'>0</td>\n",
       "<td style='text-align: right'>0.0</td>\n",
       "<td style='text-align: right'>2030380</td>\n",
       "</tr>\n",
       "<tr>\n",
       "<td>3d7_hb3</td>\n",
       "<td>C01/PG0065-C/ERR019064</td>\n",
       "<td>b'Pf3D7_13_v3'</td>\n",
       "<td style='text-align: right'>0</td>\n",
       "<td style='text-align: right'>0.0</td>\n",
       "<td style='text-align: right'>2715189</td>\n",
       "</tr>\n",
       "<tr>\n",
       "<td>3d7_hb3</td>\n",
       "<td>C01/PG0065-C/ERR019064</td>\n",
       "<td>b'Pf3D7_14_v3'</td>\n",
       "<td style='text-align: right'>0</td>\n",
       "<td style='text-align: right'>0.0</td>\n",
       "<td style='text-align: right'>3216370</td>\n",
       "</tr>\n",
       "<tr>\n",
       "<td>3d7_hb3</td>\n",
       "<td>C02/PG0067-C/ERR019073</td>\n",
       "<td>b'Pf3D7_01_v3'</td>\n",
       "<td style='text-align: right'>0</td>\n",
       "<td style='text-align: right'>0.0</td>\n",
       "<td style='text-align: right'>480620</td>\n",
       "</tr>\n",
       "<tr>\n",
       "<td>3d7_hb3</td>\n",
       "<td>C02/PG0067-C/ERR019073</td>\n",
       "<td>b'Pf3D7_02_v3'</td>\n",
       "<td style='text-align: right'>0</td>\n",
       "<td style='text-align: right'>0.0</td>\n",
       "<td style='text-align: right'>753550</td>\n",
       "</tr>\n",
       "<tr>\n",
       "<td>3d7_hb3</td>\n",
       "<td>C02/PG0067-C/ERR019073</td>\n",
       "<td>b'Pf3D7_03_v3'</td>\n",
       "<td style='text-align: right'>0</td>\n",
       "<td style='text-align: right'>0.0</td>\n",
       "<td style='text-align: right'>929971</td>\n",
       "</tr>\n",
       "<tr>\n",
       "<td>3d7_hb3</td>\n",
       "<td>C02/PG0067-C/ERR019073</td>\n",
       "<td>b'Pf3D7_04_v3'</td>\n",
       "<td style='text-align: right'>0</td>\n",
       "<td style='text-align: right'>0.0</td>\n",
       "<td style='text-align: right'>932894</td>\n",
       "</tr>\n",
       "<tr>\n",
       "<td>3d7_hb3</td>\n",
       "<td>C02/PG0067-C/ERR019073</td>\n",
       "<td>b'Pf3D7_05_v3'</td>\n",
       "<td style='text-align: right'>0</td>\n",
       "<td style='text-align: right'>0.0</td>\n",
       "<td style='text-align: right'>1281978</td>\n",
       "</tr>\n",
       "<tr>\n",
       "<td>3d7_hb3</td>\n",
       "<td>C02/PG0067-C/ERR019073</td>\n",
       "<td>b'Pf3D7_06_v3'</td>\n",
       "<td style='text-align: right'>0</td>\n",
       "<td style='text-align: right'>0.0</td>\n",
       "<td style='text-align: right'>1200478</td>\n",
       "</tr>\n",
       "</tbody>\n",
       "</table>\n",
       "<p><strong>...</strong></p>"
      ]
     },
     "metadata": {},
     "output_type": "display_data"
    }
   ],
   "source": [
    "tbl_nco_chrom = [['cross', 'sample', 'chrom', 'n_obs']]\n",
    "for cross in CROSSES:\n",
    "    for sample in progeny[cross]:\n",
    "        for chrom in CHROMOSOMES:\n",
    "            tbl_nco_chrom.append([cross, sample, chrom, lkp_nco_sample_chrom.get((sample, chrom), 0)])\n",
    "tbl_nco_chrom = (etl\n",
    "    .wrap(tbl_nco_chrom)\n",
    "    .addfield('n_adj', lambda row: row.n_obs / nco_discovery_rate[row.cross])\n",
    "    .addfield('span', lambda row: lkp_marker_span[str(row.chrom, 'ascii')])\n",
    ")\n",
    "tbl_nco_chrom.display(20)"
   ]
  },
  {
   "cell_type": "code",
   "execution_count": 20,
   "metadata": {
    "collapsed": false
   },
   "outputs": [],
   "source": [
    "def plot_nco_rate_by_chrom(ax, scatter_kws=dict()):\n",
    "    df_nco_chrom = tbl_nco_chrom.todataframe()\n",
    "    sns.despine(ax=ax)\n",
    "    sns.offset_spines(ax=ax)\n",
    "    sns.regplot('span', 'n_adj', df_nco_chrom, x_estimator=np.mean, ax=ax, scatter_kws=scatter_kws)\n"
   ]
  },
  {
   "cell_type": "code",
   "execution_count": 21,
   "metadata": {
    "collapsed": false
   },
   "outputs": [
    {
     "name": "stderr",
     "output_type": "stream",
     "text": [
      "/usr/local/lib/python3.5/dist-packages/seaborn/utils.py:260: UserWarning: `offset_spines` is deprecated and will be removed in v0.5\n",
      "  warnings.warn(warn_msg, UserWarning)\n"
     ]
    },
    {
     "data": {
      "image/png": "[encoded data removed]",
      "text/plain": [
       "<matplotlib.figure.Figure at 0x7efe76c38780>"
      ]
     },
     "metadata": {},
     "output_type": "display_data"
    }
   ],
   "source": [
    "width = 8/3\n",
    "height = width\n",
    "fig, ax = plt.subplots(figsize=(width, height))\n",
    "plot_nco_rate_by_chrom(ax, scatter_kws=dict(s=12))\n",
    "ax.set_title('F', fontweight='bold')\n",
    "ax.set_xticks(range(0, 3500000, 1000000))\n",
    "ax.set_xticklabels(range(0, 4, 1))\n",
    "ax.set_xlabel('chromosome marker span (Mbp)')\n",
    "ax.set_ylim(0, 1.4)\n",
    "ax.set_ylabel('NCO/meiosis')\n",
    "fig.tight_layout()\n",
    "fig.savefig('../../artwork/main/fig3F.jpg', dpi=900, jpeg_quality=100)"
   ]
  },
  {
   "cell_type": "markdown",
   "metadata": {},
   "source": [
    "## Long tracts"
   ]
  },
  {
   "cell_type": "code",
   "execution_count": 22,
   "metadata": {
    "collapsed": false
   },
   "outputs": [
    {
     "data": {
      "text/html": [
       "<table class='petl'>\n",
       "<thead>\n",
       "<tr>\n",
       "<th>0|sample</th>\n",
       "<th>1|cross</th>\n",
       "<th>2|chrom</th>\n",
       "<th>3|tract_start_min</th>\n",
       "<th>4|tract_start_mid</th>\n",
       "<th>5|tract_start_max</th>\n",
       "<th>6|tract_stop_min</th>\n",
       "<th>7|tract_stop_mid</th>\n",
       "<th>8|tract_stop_max</th>\n",
       "<th>9|tract_length_min</th>\n",
       "<th>10|tract_length_mid</th>\n",
       "<th>11|tract_length_max</th>\n",
       "<th>12|tract_support</th>\n",
       "<th>13|tract_is_complex</th>\n",
       "<th>14|tract_blocks</th>\n",
       "<th>15|co_pos_mid</th>\n",
       "<th>16|co_pos_min</th>\n",
       "<th>17|co_pos_max</th>\n",
       "<th>18|co_pos_range</th>\n",
       "<th>19|tract_type</th>\n",
       "</tr>\n",
       "</thead>\n",
       "<tbody>\n",
       "<tr>\n",
       "<td>3BD5/PG0024-C/ERR019053</td>\n",
       "<td>hb3_dd2</td>\n",
       "<td>b'Pf3D7_10_v3'</td>\n",
       "<td style='text-align: right'>1308754</td>\n",
       "<td style='text-align: right'>1309392</td>\n",
       "<td style='text-align: right'>1310031</td>\n",
       "<td style='text-align: right'>1330511</td>\n",
       "<td style='text-align: right'>1330807</td>\n",
       "<td style='text-align: right'>1331104</td>\n",
       "<td style='text-align: right'>20480</td>\n",
       "<td style='text-align: right'>21415</td>\n",
       "<td style='text-align: right'>22350</td>\n",
       "<td style='text-align: right'>39</td>\n",
       "<td>True</td>\n",
       "<td style='text-align: right'>3</td>\n",
       "<td>None</td>\n",
       "<td>None</td>\n",
       "<td>None</td>\n",
       "<td>None</td>\n",
       "<td>NCO</td>\n",
       "</tr>\n",
       "<tr>\n",
       "<td>7C3/PG0034-C/ERR019047</td>\n",
       "<td>hb3_dd2</td>\n",
       "<td>b'Pf3D7_08_v3'</td>\n",
       "<td style='text-align: right'>1202631</td>\n",
       "<td style='text-align: right'>1203122</td>\n",
       "<td style='text-align: right'>1203613</td>\n",
       "<td style='text-align: right'>1227264</td>\n",
       "<td style='text-align: right'>1227421</td>\n",
       "<td style='text-align: right'>1227578</td>\n",
       "<td style='text-align: right'>23651</td>\n",
       "<td style='text-align: right'>24299</td>\n",
       "<td style='text-align: right'>24947</td>\n",
       "<td style='text-align: right'>44</td>\n",
       "<td>True</td>\n",
       "<td style='text-align: right'>5</td>\n",
       "<td>None</td>\n",
       "<td>None</td>\n",
       "<td>None</td>\n",
       "<td>None</td>\n",
       "<td>NCO</td>\n",
       "</tr>\n",
       "<tr>\n",
       "<td>C04/PG0061-C/ERR019059</td>\n",
       "<td>3d7_hb3</td>\n",
       "<td>b'Pf3D7_14_v3'</td>\n",
       "<td style='text-align: right'>2891817</td>\n",
       "<td style='text-align: right'>2892879</td>\n",
       "<td style='text-align: right'>2893941</td>\n",
       "<td style='text-align: right'>2922794</td>\n",
       "<td style='text-align: right'>2923016</td>\n",
       "<td style='text-align: right'>2923239</td>\n",
       "<td style='text-align: right'>28853</td>\n",
       "<td style='text-align: right'>30137</td>\n",
       "<td style='text-align: right'>31422</td>\n",
       "<td style='text-align: right'>77</td>\n",
       "<td>True</td>\n",
       "<td style='text-align: right'>9</td>\n",
       "<td>None</td>\n",
       "<td>None</td>\n",
       "<td>None</td>\n",
       "<td>None</td>\n",
       "<td>NCO</td>\n",
       "</tr>\n",
       "<tr>\n",
       "<td>JF6/PG0079-C/ERR027102</td>\n",
       "<td>7g8_gb4</td>\n",
       "<td>b'Pf3D7_11_v3'</td>\n",
       "<td style='text-align: right'>1685640</td>\n",
       "<td style='text-align: right'>1686586</td>\n",
       "<td style='text-align: right'>1687533</td>\n",
       "<td style='text-align: right'>1713449</td>\n",
       "<td style='text-align: right'>1713727</td>\n",
       "<td style='text-align: right'>1714005</td>\n",
       "<td style='text-align: right'>25916</td>\n",
       "<td style='text-align: right'>27141</td>\n",
       "<td style='text-align: right'>28365</td>\n",
       "<td style='text-align: right'>40</td>\n",
       "<td>True</td>\n",
       "<td style='text-align: right'>7</td>\n",
       "<td>None</td>\n",
       "<td>None</td>\n",
       "<td>None</td>\n",
       "<td>None</td>\n",
       "<td>NCO</td>\n",
       "</tr>\n",
       "<tr>\n",
       "<td>JF6/PG0079-C/ERR027102</td>\n",
       "<td>7g8_gb4</td>\n",
       "<td>b'Pf3D7_11_v3'</td>\n",
       "<td style='text-align: right'>1726074</td>\n",
       "<td style='text-align: right'>1726125</td>\n",
       "<td style='text-align: right'>1726177</td>\n",
       "<td style='text-align: right'>1746099</td>\n",
       "<td style='text-align: right'>1747010</td>\n",
       "<td style='text-align: right'>1747922</td>\n",
       "<td style='text-align: right'>19922</td>\n",
       "<td style='text-align: right'>20885</td>\n",
       "<td style='text-align: right'>21848</td>\n",
       "<td style='text-align: right'>42</td>\n",
       "<td>True</td>\n",
       "<td style='text-align: right'>11</td>\n",
       "<td>None</td>\n",
       "<td>None</td>\n",
       "<td>None</td>\n",
       "<td>None</td>\n",
       "<td>NCO</td>\n",
       "</tr>\n",
       "</tbody>\n",
       "</table>\n"
      ]
     },
     "metadata": {},
     "output_type": "display_data"
    }
   ],
   "source": [
    "tbl_nco_long = (etl\n",
    "    .frompickle(os.path.join(PUBLIC_DIR, 'tbl_conversion_tracts.pickle'))\n",
    "    .eq('tract_type', 'NCO')\n",
    "    .ge('tract_length_min', 18000)\n",
    ")\n",
    "tbl_nco_long.displayall()"
   ]
  },
  {
   "cell_type": "code",
   "execution_count": null,
   "metadata": {
    "collapsed": false
   },
   "outputs": [],
   "source": []
  }
 ],
 "metadata": {
  "kernelspec": {
   "display_name": "Python 3",
   "language": "python",
   "name": "python3"
  },
  "language_info": {
   "codemirror_mode": {
    "name": "ipython",
    "version": 3
   },
   "file_extension": ".py",
   "mimetype": "text/x-python",
   "name": "python",
   "nbconvert_exporter": "python",
   "pygments_lexer": "ipython3",
   "version": "3.5.0+"
  }
 },
 "nbformat": 4,
 "nbformat_minor": 0
}
