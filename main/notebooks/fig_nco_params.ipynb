{
 "metadata": {
  "name": "",
  "signature": "sha256:97b037c9a1f5103260d6a136d27f0f6cc154ea352ad2d44dfad57319b32dc79c"
 },
 "nbformat": 3,
 "nbformat_minor": 0,
 "worksheets": [
  {
   "cells": [
    {
     "cell_type": "heading",
     "level": 1,
     "metadata": {},
     "source": [
      "Figure 3D/E/F, NCO recombination parameters"
     ]
    },
    {
     "cell_type": "heading",
     "level": 2,
     "metadata": {},
     "source": [
      "Setup"
     ]
    },
    {
     "cell_type": "code",
     "collapsed": false,
     "input": [
      "from __future__ import division\n",
      "%run shared_setup.ipynb\n",
      "%run plotting_setup.ipynb"
     ],
     "language": "python",
     "metadata": {},
     "outputs": [],
     "prompt_number": 68
    },
    {
     "cell_type": "code",
     "collapsed": false,
     "input": [
      "# load variation data\n",
      "sample_exclusions = dup_samples.copy()\n",
      "for cross in excessive_recomb_samples:\n",
      "    sample_exclusions[cross] += excessive_recomb_samples[cross]\n",
      "\n",
      "callsets = load_callsets(COMBINED_CALLSET_FN_TEMPLATE, \n",
      "                         sample_exclusions=sample_exclusions, \n",
      "                         variant_filter='FILTER_PASS',\n",
      "                         call_filter=combined_conf_calls)\n",
      "\n",
      "samples = {cross: callsets[cross]['calldata'].dtype.names\n",
      "           for cross in CROSSES}\n",
      "progeny = {cross: samples[cross][2:] for cross in CROSSES}\n",
      "n_progeny = {cross: len(progeny[cross]) for cross in CROSSES}\n",
      "print n_progeny\n",
      "print np.sum(n_progeny.values())"
     ],
     "language": "python",
     "metadata": {},
     "outputs": [
      {
       "output_type": "stream",
       "stream": "stderr",
       "text": [
        "2014-12-10 16:25:52.971272 :: loading /data/plasmodium/pfalciparum/pf-crosses/data/public/20141022/3d7_hb3.combined.final.npz\n"
       ]
      },
      {
       "output_type": "stream",
       "stream": "stderr",
       "text": [
        "2014-12-10 16:25:53.307787 :: filter variants: excluding 157 (0.4%) retaining 42087 (99.6%) of 42244 variants\n"
       ]
      },
      {
       "output_type": "stream",
       "stream": "stderr",
       "text": [
        "2014-12-10 16:25:53.347133 :: filter samples: excluding ['C01/PG0062-C/ERR019070', 'C02/PG0053-C/ERR019067', 'C02/PG0055-C/ERR019066', 'C02/PG0056-C/ERR019068'] including ['3D7/PG0051-C/ERR019061', 'HB3/PG0052-C/ERR019054', 'C01/PG0065-C/ERR019064', 'C02/PG0067-C/ERR019073', 'C03/PG0066-C/ERR019072', 'C04/PG0061-C/ERR019059', 'C05/PG0068-C/ERR019065', 'C06/PG0069-C/ERR019055', 'C07/PG0070-C/ERR019056', 'C08/PG0071-C/ERR019074', 'C09/PG0072-C/ERR019057', 'C10/PG0063-C/ERR019060', 'C11/PG0064-C/ERR019071', 'C12/PG0058-C/ERR019063', 'C13/PG0054-C/ERR019062', 'C14/PG0060-C/ERR019058', 'C15/PG0057-C/ERR019069']\n"
       ]
      },
      {
       "output_type": "stream",
       "stream": "stderr",
       "text": [
        "2014-12-10 16:25:53.424349 :: filter calls: excluding 2216 (0.3%) retaining 713263 (99.7%) of 715479 calls\n"
       ]
      },
      {
       "output_type": "stream",
       "stream": "stderr",
       "text": [
        "2014-12-10 16:25:53.425151 :: loading /data/plasmodium/pfalciparum/pf-crosses/data/public/20141022/hb3_dd2.combined.final.npz\n"
       ]
      },
      {
       "output_type": "stream",
       "stream": "stderr",
       "text": [
        "2014-12-10 16:25:53.787554 :: filter variants: excluding 450 (1.2%) retaining 36461 (98.8%) of 36911 variants\n"
       ]
      },
      {
       "output_type": "stream",
       "stream": "stderr",
       "text": [
        "2014-12-10 16:25:53.839560 :: filter samples: excluding ['SC01/PG0025-C/ERR019045'] including ['HB3/PG0004-CW/ERR012788', 'DD2/PG0008-CW/ERR012840', '1BB5/PG0023-C/ERR015449', '3BA6/PG0022-Cx/ERR126027', '3BD5/PG0024-C/ERR019053', '7C101/PG0074-C/ERR019048', '7C111/PG0038-C/ERR015457', '7C12/PG0035-Cx/ERR037704', '7C126/PG0047-C/ERR015452', '7C140/PG0039-C/ERR015454', '7C159/PG0040-Cx/ERR107475', '7C16/PG0036-C/ERR015455', '7C170/PG0041-C/ERR015446', '7C183/PG0042-C/ERR015448', '7C188/PG0030-C/ERR019046', '7C20/PG0037-C/ERR015451', '7C3/PG0034-C/ERR019047', '7C408/PG0031-C/ERR015458', '7C421/PG0043-C/ERR015459', '7C424/PG0044-C/ERR019043', '7C46/PG0046-Cx/ERR107476', '7C7/PG0048-C/ERR019049', 'B1SD/PG0015-C/ERR019044', 'B4R3/PG0018-C/ERR019042', 'CH3_116/PG0032-Cx/ERR037703', 'CH3_61/PG0033-Cx/ERR175544', 'D43/PG0029-Cx/ERR107474', 'GC03/PG0021-C/ERR015447', 'GC06/PG0028-C/ERR015456', 'QC01/PG0017-C/ERR019050', 'QC13/PG0016-C/ERR012895', 'QC23/PG0045-C/ERR012892', 'QC34/PG0026-C/ERR015453', 'SC05/PG0019-C/ERR019051', 'TC05/PG0027-C/ERR015450', 'TC08/PG0020-C/ERR019052']\n"
       ]
      },
      {
       "output_type": "stream",
       "stream": "stderr",
       "text": [
        "2014-12-10 16:25:53.938982 :: filter calls: excluding 28934 (2.2%) retaining 1283662 (97.8%) of 1312596 calls\n"
       ]
      },
      {
       "output_type": "stream",
       "stream": "stderr",
       "text": [
        "2014-12-10 16:25:53.940773 :: loading /data/plasmodium/pfalciparum/pf-crosses/data/public/20141022/7g8_gb4.combined.final.npz\n"
       ]
      },
      {
       "output_type": "stream",
       "stream": "stderr",
       "text": [
        "2014-12-10 16:25:54.350429 :: filter variants: excluding 304 (0.9%) retaining 34471 (99.1%) of 34775 variants\n"
       ]
      },
      {
       "output_type": "stream",
       "stream": "stderr",
       "text": [
        "2014-12-10 16:25:54.417028 :: filter samples: excluding ['AUD/PG0112-CW/ERR045639', 'JC9/PG0111-C/ERR029409', 'JE11/PG0100-CW/ERR045630', 'JF6/PG0079-CW/ERR045637', 'KB8/PG0104-CW/ERR045642', 'LA10/PG0086-CW/ERR045629', 'NIC/PG0095-C/ERR027107', 'QF5/PG0078-CW/ERR045638', 'XD8/PG0105-CW/ERR045628', 'XF12/PG0102-CW/ERR045635', 'D2/PG0094-CW/ERR045632'] including ['7G8/PG0083-C/ERR027099', 'GB4/PG0084-C/ERR027100', 'AL2/PG0103-CW/ERR045627', 'AUD/PG0112-C/ERR029406', 'DAN/PG0098-C/ERR027110', 'DEV/PG0081-CW/ERR045633', 'JB12/PG0099-C/ERR029146', 'JB8/PG0087-C/ERR029091', 'JC3/PG0077-CW/ERR045636', 'JC9/PG0111-CW/ERR045634', 'JE11/PG0100-C/ERR029404', 'JF6/PG0079-C/ERR027102', 'JON/PG0107-C/ERR029408', 'KA6/PG0091-C/ERR027117', 'KB8/PG0104-C/ERR029148', 'KH7/PG0088-C/ERR027111', 'LA10/PG0086-C/ERR029090', 'NF10/PG0096-C/ERR027108', 'NIC/PG0095-CW/ERR045631', 'QF5/PG0078-C/ERR029092', 'TF1/PG0080-C/ERR027103', 'WC4/PG0082-C/ERR029093', 'WE2/PG0085-C/ERR027101', 'WF12/PG0097-C/ERR027109', 'XB3/PG0093-C/ERR029105', 'XD8/PG0105-C/ERR029144', 'XE7/PG0106-C/ERR029407', 'XF12/PG0102-C/ERR029143', 'XG10/PG0109-C/ERR029405']\n"
       ]
      },
      {
       "output_type": "stream",
       "stream": "stderr",
       "text": [
        "2014-12-10 16:25:54.516152 :: filter calls: excluding 12209 (1.2%) retaining 987450 (98.8%) of 999659 calls\n"
       ]
      },
      {
       "output_type": "stream",
       "stream": "stdout",
       "text": [
        "{'3d7_hb3': 15, 'hb3_dd2': 34, '7g8_gb4': 27}\n",
        "76\n"
       ]
      }
     ],
     "prompt_number": 2
    },
    {
     "cell_type": "code",
     "collapsed": false,
     "input": [
      "tbl_nco = (etl\n",
      "    .frompickle(os.path.join(PUBLIC_DIR, 'tbl_conversion_tracts.pickle'))\n",
      "    .eq('tract_type', 'NCO')\n",
      "    # exclude the really long outliers\n",
      "    .lt('tract_length_min', 18000)\n",
      ")\n",
      "display_with_nrows(tbl_nco, caption='NCO tracts')\n",
      "df_nco = tbl_nco.todataframe()"
     ],
     "language": "python",
     "metadata": {},
     "outputs": [
      {
       "html": [
        "<table class='petl'>\r\n",
        "<caption>NCO tracts (230 rows)</caption>\r\n",
        "<thead>\r\n",
        "<tr>\r\n",
        "<th>0|sample</th>\r\n",
        "<th>1|cross</th>\r\n",
        "<th>2|chrom</th>\r\n",
        "<th>3|tract_start_min</th>\r\n",
        "<th>4|tract_start_mid</th>\r\n",
        "<th>5|tract_start_max</th>\r\n",
        "<th>6|tract_stop_min</th>\r\n",
        "<th>7|tract_stop_mid</th>\r\n",
        "<th>8|tract_stop_max</th>\r\n",
        "<th>9|tract_length_min</th>\r\n",
        "<th>10|tract_length_mid</th>\r\n",
        "<th>11|tract_length_max</th>\r\n",
        "<th>12|tract_support</th>\r\n",
        "<th>13|tract_is_complex</th>\r\n",
        "<th>14|tract_blocks</th>\r\n",
        "<th>15|co_pos_mid</th>\r\n",
        "<th>16|co_pos_min</th>\r\n",
        "<th>17|co_pos_max</th>\r\n",
        "<th>18|co_pos_range</th>\r\n",
        "<th>19|tract_type</th>\r\n",
        "</tr>\r\n",
        "</thead>\r\n",
        "<tbody>\r\n",
        "<tr>\r\n",
        "<td>1BB5/PG0023-C/ERR015449</td>\r\n",
        "<td>hb3_dd2</td>\r\n",
        "<td>Pf3D7_02_v3</td>\r\n",
        "<td style='text-align: right'>551191</td>\r\n",
        "<td style='text-align: right'>551710</td>\r\n",
        "<td style='text-align: right'>552230</td>\r\n",
        "<td style='text-align: right'>553769</td>\r\n",
        "<td style='text-align: right'>554132</td>\r\n",
        "<td style='text-align: right'>554496</td>\r\n",
        "<td style='text-align: right'>1539</td>\r\n",
        "<td style='text-align: right'>2422</td>\r\n",
        "<td style='text-align: right'>3305</td>\r\n",
        "<td style='text-align: right'>5</td>\r\n",
        "<td>False</td>\r\n",
        "<td style='text-align: right'>1</td>\r\n",
        "<td>None</td>\r\n",
        "<td>None</td>\r\n",
        "<td>None</td>\r\n",
        "<td>None</td>\r\n",
        "<td>NCO</td>\r\n",
        "</tr>\r\n",
        "<tr>\r\n",
        "<td>1BB5/PG0023-C/ERR015449</td>\r\n",
        "<td>hb3_dd2</td>\r\n",
        "<td>Pf3D7_08_v3</td>\r\n",
        "<td style='text-align: right'>1293542</td>\r\n",
        "<td style='text-align: right'>1294381</td>\r\n",
        "<td style='text-align: right'>1295221</td>\r\n",
        "<td style='text-align: right'>1296788</td>\r\n",
        "<td style='text-align: right'>1297035</td>\r\n",
        "<td style='text-align: right'>1297283</td>\r\n",
        "<td style='text-align: right'>1567</td>\r\n",
        "<td style='text-align: right'>2654</td>\r\n",
        "<td style='text-align: right'>3741</td>\r\n",
        "<td style='text-align: right'>4</td>\r\n",
        "<td>False</td>\r\n",
        "<td style='text-align: right'>1</td>\r\n",
        "<td>None</td>\r\n",
        "<td>None</td>\r\n",
        "<td>None</td>\r\n",
        "<td>None</td>\r\n",
        "<td>NCO</td>\r\n",
        "</tr>\r\n",
        "<tr>\r\n",
        "<td>1BB5/PG0023-C/ERR015449</td>\r\n",
        "<td>hb3_dd2</td>\r\n",
        "<td>Pf3D7_09_v3</td>\r\n",
        "<td style='text-align: right'>950476</td>\r\n",
        "<td style='text-align: right'>951138</td>\r\n",
        "<td style='text-align: right'>951801</td>\r\n",
        "<td style='text-align: right'>954256</td>\r\n",
        "<td style='text-align: right'>954735</td>\r\n",
        "<td style='text-align: right'>955215</td>\r\n",
        "<td style='text-align: right'>2455</td>\r\n",
        "<td style='text-align: right'>3597</td>\r\n",
        "<td style='text-align: right'>4739</td>\r\n",
        "<td style='text-align: right'>4</td>\r\n",
        "<td>True</td>\r\n",
        "<td style='text-align: right'>3</td>\r\n",
        "<td>None</td>\r\n",
        "<td>None</td>\r\n",
        "<td>None</td>\r\n",
        "<td>None</td>\r\n",
        "<td>NCO</td>\r\n",
        "</tr>\r\n",
        "<tr>\r\n",
        "<td>1BB5/PG0023-C/ERR015449</td>\r\n",
        "<td>hb3_dd2</td>\r\n",
        "<td>Pf3D7_12_v3</td>\r\n",
        "<td style='text-align: right'>331487</td>\r\n",
        "<td style='text-align: right'>331820</td>\r\n",
        "<td style='text-align: right'>332154</td>\r\n",
        "<td style='text-align: right'>336886</td>\r\n",
        "<td style='text-align: right'>337497</td>\r\n",
        "<td style='text-align: right'>338108</td>\r\n",
        "<td style='text-align: right'>4732</td>\r\n",
        "<td style='text-align: right'>5677</td>\r\n",
        "<td style='text-align: right'>6621</td>\r\n",
        "<td style='text-align: right'>7</td>\r\n",
        "<td>False</td>\r\n",
        "<td style='text-align: right'>1</td>\r\n",
        "<td>None</td>\r\n",
        "<td>None</td>\r\n",
        "<td>None</td>\r\n",
        "<td>None</td>\r\n",
        "<td>NCO</td>\r\n",
        "</tr>\r\n",
        "<tr>\r\n",
        "<td>1BB5/PG0023-C/ERR015449</td>\r\n",
        "<td>hb3_dd2</td>\r\n",
        "<td>Pf3D7_13_v3</td>\r\n",
        "<td style='text-align: right'>756601</td>\r\n",
        "<td style='text-align: right'>756957</td>\r\n",
        "<td style='text-align: right'>757313</td>\r\n",
        "<td style='text-align: right'>760183</td>\r\n",
        "<td style='text-align: right'>761269</td>\r\n",
        "<td style='text-align: right'>762355</td>\r\n",
        "<td style='text-align: right'>2870</td>\r\n",
        "<td style='text-align: right'>4312</td>\r\n",
        "<td style='text-align: right'>5754</td>\r\n",
        "<td style='text-align: right'>9</td>\r\n",
        "<td>False</td>\r\n",
        "<td style='text-align: right'>1</td>\r\n",
        "<td>None</td>\r\n",
        "<td>None</td>\r\n",
        "<td>None</td>\r\n",
        "<td>None</td>\r\n",
        "<td>NCO</td>\r\n",
        "</tr>\r\n",
        "</tbody>\r\n",
        "</table>\r\n",
        "<p><strong>...</strong></p>"
       ],
       "metadata": {},
       "output_type": "display_data"
      }
     ],
     "prompt_number": 3
    },
    {
     "cell_type": "heading",
     "level": 3,
     "metadata": {},
     "source": [
      "Simulate random uniform/geometric NCOs"
     ]
    },
    {
     "cell_type": "code",
     "collapsed": false,
     "input": [
      "def simulate_nco(phi, sim_factor=10):\n",
      "    tbls_nco_sim = [simulate_random_uniform_non_crossovers(len(progeny[cross])*sim_factor, callsets[cross], phi).addfield('cross', cross)\n",
      "                    for cross in CROSSES]\n",
      "    tbl_nco_sim = etl.cat(*tbls_nco_sim)\n",
      "    return tbl_nco_sim.todataframe()"
     ],
     "language": "python",
     "metadata": {},
     "outputs": [],
     "prompt_number": 8
    },
    {
     "cell_type": "code",
     "collapsed": false,
     "input": [
      "# simulation based on uniform location and geometric length\n",
      "# N.B., don't want to have to repeat this if possible\n",
      "nco_sim_fn = os.path.join(PUBLIC_DIR, 'nco_sim.dataframe.pickle')\n",
      "if not os.path.exists(nco_sim_fn):\n",
      "    log('simulating')\n",
      "    df_nco_sim = simulate_nco(phi=.9993, sim_factor=5000)\n",
      "    log('saving', nco_sim_fn)\n",
      "    df_nco_sim.to_pickle(nco_sim_fn)\n",
      "else:\n",
      "    log('loading', nco_sim_fn)\n",
      "    df_nco_sim = pandas.read_pickle(nco_sim_fn)"
     ],
     "language": "python",
     "metadata": {},
     "outputs": [
      {
       "output_type": "stream",
       "stream": "stderr",
       "text": [
        "2014-12-10 16:30:49.784382 :: simulating\n"
       ]
      },
      {
       "output_type": "stream",
       "stream": "stderr",
       "text": [
        "2014-12-10 16:32:21.362137 :: saving /data/plasmodium/pfalciparum/pf-crosses/data/public/20141022/nco_sim.dataframe.pickle\n"
       ]
      }
     ],
     "prompt_number": 11
    },
    {
     "cell_type": "code",
     "collapsed": false,
     "input": [
      "# discovery rates\n",
      "nco_discovery_rate = dict()\n",
      "for cross in CROSSES:\n",
      "    n = np.count_nonzero(df_nco_sim.cross == cross)\n",
      "    n_discovered = np.count_nonzero((df_nco_sim.cross == cross) & (df_nco_sim.tract_support > 1) & (df_nco_sim.tract_length_min > 100))\n",
      "    discovery_rate = n_discovered / n\n",
      "    print cross, n, n_discovered, discovery_rate\n",
      "    nco_discovery_rate[cross] = discovery_rate"
     ],
     "language": "python",
     "metadata": {},
     "outputs": [
      {
       "output_type": "stream",
       "stream": "stdout",
       "text": [
        "3d7_hb3 75000 34244 0.456586666667\n",
        "hb3_dd2 170000 68450 0.402647058824\n",
        "7g8_gb4"
       ]
      },
      {
       "output_type": "stream",
       "stream": "stdout",
       "text": [
        " 135000 53131 0.393562962963\n"
       ]
      }
     ],
     "prompt_number": 12
    },
    {
     "cell_type": "heading",
     "level": 2,
     "metadata": {},
     "source": [
      "Minimal tract length distribution"
     ]
    },
    {
     "cell_type": "code",
     "collapsed": false,
     "input": [
      "colors = sns.color_palette()\n",
      "sns.palplot(colors)"
     ],
     "language": "python",
     "metadata": {},
     "outputs": [
      {
       "metadata": {},
       "output_type": "display_data",
       "png": "[encoded data removed]",
       "text": [
        "<matplotlib.figure.Figure at 0x7fae08cf3350>"
       ]
      }
     ],
     "prompt_number": 13
    },
    {
     "cell_type": "code",
     "collapsed": false,
     "input": [
      "def plot_tract_length_distribution(ax):\n",
      "\n",
      "    sns.despine(ax=ax, offset=5)\n",
      "    data = [\n",
      "        df_nco.tract_length_min.loc[df_nco.tract_is_complex].values,\n",
      "        df_nco.tract_length_min.loc[~df_nco.tract_is_complex].values,\n",
      "    ]\n",
      "    bin_edges = np.logspace(2, 4.5, 15)\n",
      "    ax.hist(data, bins=bin_edges, stacked=True, color=[colors[2], colors[0]], rwidth=1, label=['complex', 'simple'])\n",
      "    ax.set_xscale('log')\n",
      "    ax.set_xlabel('minimal tract length (bp)')\n",
      "    ax.set_ylabel('frequency')\n",
      "    ax.autoscale(axis='y', tight=True)\n",
      "\n",
      "    ax2 = ax.twinx()\n",
      "    sns.despine(ax=ax2, offset=5)\n",
      "    bin_edges = np.logspace(2, 4.5, 40)\n",
      "    Z = df_nco_sim.tract_length_min[(df_nco_sim.tract_support > 1) & (df_nco_sim.tract_length_min > 100)].values\n",
      "    Y, _ = np.histogram(Z, bins=bin_edges)\n",
      "    X = (bin_edges[1:] + bin_edges[:-1])/2\n",
      "    ax2.plot(X, Y, color='k', linewidth=1, linestyle='--')\n",
      "    ax2.autoscale(axis='y', tight=True)\n",
      "    ax2.set_yticks([])\n"
     ],
     "language": "python",
     "metadata": {},
     "outputs": [],
     "prompt_number": 38
    },
    {
     "cell_type": "code",
     "collapsed": false,
     "input": [
      "width = 8/3\n",
      "height = width\n",
      "fig, ax = plt.subplots(figsize=(width, height))\n",
      "plot_tract_length_distribution(ax)\n",
      "ax.set_xlim(100, 15000)\n",
      "ax.set_xlabel('NCO minimal tract length (bp)')\n",
      "ax.set_title('D', fontweight='bold')\n",
      "fig.tight_layout()\n",
      "fig.savefig('../artwork/main/fig3D.jpg', dpi=900, jpeg_quality=100)"
     ],
     "language": "python",
     "metadata": {},
     "outputs": [
      {
       "metadata": {},
       "output_type": "display_data",
       "png": "[encoded data removed]",
       "text": [
        "<matplotlib.figure.Figure at 0x7fae069113d0>"
       ]
      }
     ],
     "prompt_number": 57
    },
    {
     "cell_type": "code",
     "collapsed": false,
     "input": [
      "from matplotlib.patches import Patch\n",
      "fig, ax = plt.subplots(figsize=(2, 2))\n",
      "ax.set_axis_off()\n",
      "handles = []\n",
      "handles.append(Patch(color=colors[0], label='simple'))\n",
      "handles.append(Patch(color=colors[2], label='complex'))\n",
      "handles.append(plt.Line2D((0, 0), (1, 1), linestyle='--', marker=' ', color='k', label='geometric'))\n",
      "ax.legend(handles=handles, loc='upper left', bbox_to_anchor=(0, 1), numpoints=1, fontsize=8, frameon=False, framealpha=.5);\n",
      "fig.tight_layout()\n",
      "fig.savefig('../artwork/main/fig3D_legend.jpg', dpi=900, jpeg_quality=100)"
     ],
     "language": "python",
     "metadata": {},
     "outputs": [
      {
       "metadata": {},
       "output_type": "display_data",
       "png": "[encoded data removed]",
       "text": [
        "<matplotlib.figure.Figure at 0x7fae08d52d90>"
       ]
      }
     ],
     "prompt_number": 59
    },
    {
     "cell_type": "code",
     "collapsed": false,
     "input": [
      "def plot_tract_length_pp(ax, percentiles=range(0, 100, 4), vmax=15000, scatter_kws=dict()):\n",
      "\n",
      "    sns.despine(ax=ax, offset=5)\n",
      "    X = df_nco.tract_length_min.values\n",
      "    Y = df_nco_sim.tract_length_min[(df_nco_sim.tract_support > 1) & (df_nco_sim.tract_length_min > 100)].values\n",
      "    px = np.array([np.percentile(X, p) for p in percentiles])\n",
      "    py = np.array([np.percentile(Y, p) for p in percentiles])\n",
      "    ax.set_xscale('log')\n",
      "    ax.set_yscale('log')\n",
      "    ax.plot([1, vmax], [1, vmax], color='k', linestyle=':', marker=' ')\n",
      "    ax.scatter(px, py, **scatter_kws)\n",
      "    ax.set_xlim(0, vmax)\n",
      "    ax.set_ylim(0, vmax)\n",
      "    ax.set_xlim(100, vmax)\n",
      "    ax.set_ylim(100, vmax)\n",
      "#    ax.grid(axis='both', which='both')\n",
      "    "
     ],
     "language": "python",
     "metadata": {},
     "outputs": [],
     "prompt_number": 54
    },
    {
     "cell_type": "code",
     "collapsed": false,
     "input": [
      "width = 8/3\n",
      "height = width\n",
      "fig, ax = plt.subplots(figsize=(width, height))\n",
      "plot_tract_length_pp(ax, scatter_kws=dict(s=12, marker='o', color=colors[0], zorder=10))\n",
      "ax.set_xlabel('NCO minimal tract length (bp)')\n",
      "ax.set_ylabel('geometric model, $\\phi = 0.9993$')\n",
      "ax.set_title('E', fontweight='bold')\n",
      "fig.tight_layout()\n",
      "fig.savefig('../artwork/main/fig3E.jpg', dpi=900, jpeg_quality=100)"
     ],
     "language": "python",
     "metadata": {},
     "outputs": [
      {
       "metadata": {},
       "output_type": "display_data",
       "png": "[encoded data removed]",
       "text": [
        "<matplotlib.figure.Figure at 0x7fae068fcb90>"
       ]
      }
     ],
     "prompt_number": 58
    },
    {
     "cell_type": "code",
     "collapsed": false,
     "input": [
      "X = df_nco.tract_length_min.values\n",
      "print stats.percentileofscore(X, 1000)\n",
      "print stats.percentileofscore(X, 2000)"
     ],
     "language": "python",
     "metadata": {},
     "outputs": [
      {
       "output_type": "stream",
       "stream": "stdout",
       "text": [
        "50.0\n",
        "72.6086956522\n"
       ]
      }
     ],
     "prompt_number": 50
    },
    {
     "cell_type": "heading",
     "level": 2,
     "metadata": {},
     "source": [
      "NCO recombination rate"
     ]
    },
    {
     "cell_type": "code",
     "collapsed": false,
     "input": [
      "tbl_nco_adjusted = (\n",
      "    tbl_nco\n",
      "    .valuecounts('cross')\n",
      "    .cutout('frequency')\n",
      "    .rename('value', 'cross')\n",
      "    .rename('count', 'n_obs')\n",
      "    .addfield('n_progeny', lambda row: len(progeny[row.cross]), index=1)\n",
      "    .addfield('rate_obs', lambda row: row.n_obs / row.n_progeny)\n",
      "    .addfield('n_adj', lambda row: row.n_obs / nco_discovery_rate[row.cross])\n",
      "    .addfield('rate_adj', lambda row: row.n_adj / row.n_progeny)\n",
      "    .addfield('rate_adj_stderr', lambda row: np.sqrt(row.rate_adj / row.n_progeny))\n",
      "    .addfield('rate_adj_95ci', lambda row: row.rate_adj_stderr * 1.96)\n",
      ")\n",
      "tbl_nco_adjusted.display(caption='NCO events by cross')"
     ],
     "language": "python",
     "metadata": {},
     "outputs": [
      {
       "html": [
        "<table class='petl'>\r\n",
        "<caption>NCO events by cross</caption>\r\n",
        "<thead>\r\n",
        "<tr>\r\n",
        "<th>0|cross</th>\r\n",
        "<th>1|n_progeny</th>\r\n",
        "<th>2|n_obs</th>\r\n",
        "<th>3|rate_obs</th>\r\n",
        "<th>4|n_adj</th>\r\n",
        "<th>5|rate_adj</th>\r\n",
        "<th>6|rate_adj_stderr</th>\r\n",
        "<th>7|rate_adj_95ci</th>\r\n",
        "</tr>\r\n",
        "</thead>\r\n",
        "<tbody>\r\n",
        "<tr>\r\n",
        "<td>hb3_dd2</td>\r\n",
        "<td style='text-align: right'>34</td>\r\n",
        "<td style='text-align: right'>111</td>\r\n",
        "<td style='text-align: right'>3.26470588235</td>\r\n",
        "<td style='text-align: right'>275.675675676</td>\r\n",
        "<td style='text-align: right'>8.10810810811</td>\r\n",
        "<td style='text-align: right'>0.488337760045</td>\r\n",
        "<td style='text-align: right'>0.957142009688</td>\r\n",
        "</tr>\r\n",
        "<tr>\r\n",
        "<td>7g8_gb4</td>\r\n",
        "<td style='text-align: right'>27</td>\r\n",
        "<td style='text-align: right'>77</td>\r\n",
        "<td style='text-align: right'>2.85185185185</td>\r\n",
        "<td style='text-align: right'>195.648491464</td>\r\n",
        "<td style='text-align: right'>7.24624042461</td>\r\n",
        "<td style='text-align: right'>0.518053351486</td>\r\n",
        "<td style='text-align: right'>1.01538456891</td>\r\n",
        "</tr>\r\n",
        "<tr>\r\n",
        "<td>3d7_hb3</td>\r\n",
        "<td style='text-align: right'>15</td>\r\n",
        "<td style='text-align: right'>42</td>\r\n",
        "<td style='text-align: right'>2.8</td>\r\n",
        "<td style='text-align: right'>91.9869174162</td>\r\n",
        "<td style='text-align: right'>6.13246116108</td>\r\n",
        "<td style='text-align: right'>0.63939873637</td>\r\n",
        "<td style='text-align: right'>1.25322152329</td>\r\n",
        "</tr>\r\n",
        "</tbody>\r\n",
        "</table>\r\n"
       ],
       "metadata": {},
       "output_type": "display_data"
      }
     ],
     "prompt_number": 60
    },
    {
     "cell_type": "code",
     "collapsed": false,
     "input": [
      "n_nco_adj = tbl_nco_adjusted.values('n_adj').sum()\n",
      "print '#NCOs:', n_nco_adj\n",
      "\n",
      "n = np.sum(len(s) for s in progeny.values())\n",
      "# N.B., some samples have 0 NCOs\n",
      "print 'meioses:', n\n",
      "\n",
      "mu_adj_hat = n_nco_adj / n\n",
      "print 'recombination rate: %.2f' % mu_adj_hat, 'NCO/meiosis'\n",
      "\n",
      "mu_adj_stderr = np.sqrt(mu_adj_hat / n)\n",
      "print 'recombination rate stderr:', mu_adj_stderr\n",
      "\n",
      "mu_adj_95ci = 1.96 * mu_adj_stderr\n",
      "print 'recombination rate 95%% CI: %.2f - %.2f' % (mu_adj_hat - mu_adj_95ci, mu_adj_hat + mu_adj_95ci)"
     ],
     "language": "python",
     "metadata": {},
     "outputs": [
      {
       "output_type": "stream",
       "stream": "stdout",
       "text": [
        "#NCOs: 563.311084556\n",
        "meioses: 76\n",
        "recombination rate: 7.41 NCO/meiosis\n",
        "recombination rate stderr: 0.31229178231\n",
        "recombination rate 95% CI: 6.80 - 8.02\n"
       ]
      }
     ],
     "prompt_number": 61
    },
    {
     "cell_type": "code",
     "collapsed": false,
     "input": [
      "# calculate marker span using accessibility regions, it's fairer and simpler\n",
      "# N.B., here we **exclude** internal hypervariable regions from the total marker span, because NCOs within them will be hidden.\n",
      "tbl_marker_span = (\n",
      "    tbl_regions_1b\n",
      "    .eq('region_type', 'Core')\n",
      "    .aggregate('region_chrom', sum, 'region_size')\n",
      "    .rename(dict(region_chrom='chrom', value='span'))\n",
      ")\n",
      "\n",
      "total_marker_span = tbl_marker_span.values('span').sum()\n",
      "lkp_marker_span = tbl_marker_span.lookupone('chrom', 'span')\n",
      "tbl_marker_span.displayall(caption='Core genome span (total = %.2f)' % (total_marker_span/1e6))\n"
     ],
     "language": "python",
     "metadata": {},
     "outputs": [
      {
       "html": [
        "<table class='petl'>\r\n",
        "<caption>Core genome span (total = 20.78)</caption>\r\n",
        "<thead>\r\n",
        "<tr>\r\n",
        "<th>0|chrom</th>\r\n",
        "<th>1|span</th>\r\n",
        "</tr>\r\n",
        "</thead>\r\n",
        "<tbody>\r\n",
        "<tr>\r\n",
        "<td>Pf3D7_01_v3</td>\r\n",
        "<td style='text-align: right'>480620</td>\r\n",
        "</tr>\r\n",
        "<tr>\r\n",
        "<td>Pf3D7_02_v3</td>\r\n",
        "<td style='text-align: right'>753550</td>\r\n",
        "</tr>\r\n",
        "<tr>\r\n",
        "<td>Pf3D7_03_v3</td>\r\n",
        "<td style='text-align: right'>929971</td>\r\n",
        "</tr>\r\n",
        "<tr>\r\n",
        "<td>Pf3D7_04_v3</td>\r\n",
        "<td style='text-align: right'>932894</td>\r\n",
        "</tr>\r\n",
        "<tr>\r\n",
        "<td>Pf3D7_05_v3</td>\r\n",
        "<td style='text-align: right'>1281978</td>\r\n",
        "</tr>\r\n",
        "<tr>\r\n",
        "<td>Pf3D7_06_v3</td>\r\n",
        "<td style='text-align: right'>1200478</td>\r\n",
        "</tr>\r\n",
        "<tr>\r\n",
        "<td>Pf3D7_07_v3</td>\r\n",
        "<td style='text-align: right'>1204739</td>\r\n",
        "</tr>\r\n",
        "<tr>\r\n",
        "<td>Pf3D7_08_v3</td>\r\n",
        "<td style='text-align: right'>1249936</td>\r\n",
        "</tr>\r\n",
        "<tr>\r\n",
        "<td>Pf3D7_09_v3</td>\r\n",
        "<td style='text-align: right'>1392114</td>\r\n",
        "</tr>\r\n",
        "<tr>\r\n",
        "<td>Pf3D7_10_v3</td>\r\n",
        "<td style='text-align: right'>1502845</td>\r\n",
        "</tr>\r\n",
        "<tr>\r\n",
        "<td>Pf3D7_11_v3</td>\r\n",
        "<td style='text-align: right'>1891043</td>\r\n",
        "</tr>\r\n",
        "<tr>\r\n",
        "<td>Pf3D7_12_v3</td>\r\n",
        "<td style='text-align: right'>2030380</td>\r\n",
        "</tr>\r\n",
        "<tr>\r\n",
        "<td>Pf3D7_13_v3</td>\r\n",
        "<td style='text-align: right'>2715189</td>\r\n",
        "</tr>\r\n",
        "<tr>\r\n",
        "<td>Pf3D7_14_v3</td>\r\n",
        "<td style='text-align: right'>3216370</td>\r\n",
        "</tr>\r\n",
        "</tbody>\r\n",
        "</table>\r\n"
       ],
       "metadata": {},
       "output_type": "display_data"
      }
     ],
     "prompt_number": 70
    },
    {
     "cell_type": "code",
     "collapsed": false,
     "input": [
      "nco_adj_hat = (mu_adj_hat / (total_marker_span / 1e6))\n",
      "print 'NCO rate (adjusted): %.4f NCO / meiosis / Mb' % nco_adj_hat\n",
      "nco_adj_95ci = (mu_adj_95ci / (total_marker_span / 1e6))\n",
      "print 'NCO rate (adjusted) 95%% CI: %.4f - %.4f' % (nco_adj_hat - nco_adj_95ci, nco_adj_hat + nco_adj_95ci)"
     ],
     "language": "python",
     "metadata": {},
     "outputs": [
      {
       "output_type": "stream",
       "stream": "stdout",
       "text": [
        "NCO rate (adjusted): 0.3567 NCO / meiosis / Mb\n",
        "NCO rate (adjusted) 95% CI: 0.3272 - 0.3861\n"
       ]
      }
     ],
     "prompt_number": 71
    },
    {
     "cell_type": "heading",
     "level": 1,
     "metadata": {},
     "source": [
      "NCO rate by chromosome"
     ]
    },
    {
     "cell_type": "code",
     "collapsed": false,
     "input": [
      "lkp_nco_sample_chrom = (\n",
      "    tbl_nco\n",
      "    .valuecounter('sample', 'chrom')\n",
      "#    .lookupone('value', 'count')\n",
      ")\n",
      "lkp_nco_sample_chrom"
     ],
     "language": "python",
     "metadata": {},
     "outputs": [
      {
       "metadata": {},
       "output_type": "pyout",
       "prompt_number": 73,
       "text": [
        "Counter({('7C46/PG0046-Cx/ERR107476', 'Pf3D7_14_v3'): 3, ('LA10/PG0086-C/ERR029090', 'Pf3D7_08_v3'): 3, ('7C111/PG0038-C/ERR015457', 'Pf3D7_12_v3'): 2, ('KA6/PG0091-C/ERR027117', 'Pf3D7_12_v3'): 2, ('C13/PG0054-C/ERR019062', 'Pf3D7_13_v3'): 2, ('JF6/PG0079-C/ERR027102', 'Pf3D7_12_v3'): 2, ('C09/PG0072-C/ERR019057', 'Pf3D7_13_v3'): 2, ('C08/PG0071-C/ERR019074', 'Pf3D7_12_v3'): 2, ('NF10/PG0096-C/ERR027108', 'Pf3D7_01_v3'): 2, ('B1SD/PG0015-C/ERR019044', 'Pf3D7_13_v3'): 2, ('LA10/PG0086-C/ERR029090', 'Pf3D7_13_v3'): 2, ('7C20/PG0037-C/ERR015451', 'Pf3D7_11_v3'): 2, ('3BA6/PG0022-Cx/ERR126027', 'Pf3D7_07_v3'): 2, ('QC23/PG0045-C/ERR012892', 'Pf3D7_11_v3'): 2, ('JF6/PG0079-C/ERR027102', 'Pf3D7_10_v3'): 2, ('JF6/PG0079-C/ERR027102', 'Pf3D7_13_v3'): 2, ('7C421/PG0043-C/ERR015459', 'Pf3D7_07_v3'): 2, ('7C111/PG0038-C/ERR015457', 'Pf3D7_11_v3'): 2, ('JB12/PG0099-C/ERR029146', 'Pf3D7_14_v3'): 2, ('JON/PG0107-C/ERR029408', 'Pf3D7_09_v3'): 2, ('KA6/PG0091-C/ERR027117', 'Pf3D7_14_v3'): 2, ('7C183/PG0042-C/ERR015448', 'Pf3D7_11_v3'): 2, ('C06/PG0069-C/ERR019055', 'Pf3D7_12_v3'): 2, ('CH3_61/PG0033-Cx/ERR175544', 'Pf3D7_01_v3'): 2, ('XE7/PG0106-C/ERR029407', 'Pf3D7_06_v3'): 2, ('7C188/PG0030-C/ERR019046', 'Pf3D7_08_v3'): 1, ('C05/PG0068-C/ERR019065', 'Pf3D7_11_v3'): 1, ('7C111/PG0038-C/ERR015457', 'Pf3D7_10_v3'): 1, ('7C46/PG0046-Cx/ERR107476', 'Pf3D7_09_v3'): 1, ('CH3_116/PG0032-Cx/ERR037703', 'Pf3D7_13_v3'): 1, ('7C111/PG0038-C/ERR015457', 'Pf3D7_07_v3'): 1, ('JC9/PG0111-CW/ERR045634', 'Pf3D7_09_v3'): 1, ('C09/PG0072-C/ERR019057', 'Pf3D7_09_v3'): 1, ('GC06/PG0028-C/ERR015456', 'Pf3D7_14_v3'): 1, ('7C126/PG0047-C/ERR015452', 'Pf3D7_11_v3'): 1, ('7C183/PG0042-C/ERR015448', 'Pf3D7_02_v3'): 1, ('XB3/PG0093-C/ERR029105', 'Pf3D7_07_v3'): 1, ('1BB5/PG0023-C/ERR015449', 'Pf3D7_02_v3'): 1, ('C13/PG0054-C/ERR019062', 'Pf3D7_03_v3'): 1, ('GC06/PG0028-C/ERR015456', 'Pf3D7_10_v3'): 1, ('B4R3/PG0018-C/ERR019042', 'Pf3D7_09_v3'): 1, ('1BB5/PG0023-C/ERR015449', 'Pf3D7_08_v3'): 1, ('C14/PG0060-C/ERR019058', 'Pf3D7_10_v3'): 1, ('JC3/PG0077-CW/ERR045636', 'Pf3D7_13_v3'): 1, ('AUD/PG0112-C/ERR029406', 'Pf3D7_14_v3'): 1, ('7C7/PG0048-C/ERR019049', 'Pf3D7_12_v3'): 1, ('7C101/PG0074-C/ERR019048', 'Pf3D7_13_v3'): 1, ('B1SD/PG0015-C/ERR019044', 'Pf3D7_09_v3'): 1, ('B1SD/PG0015-C/ERR019044', 'Pf3D7_10_v3'): 1, ('AUD/PG0112-C/ERR029406', 'Pf3D7_13_v3'): 1, ('JE11/PG0100-C/ERR029404', 'Pf3D7_02_v3'): 1, ('NIC/PG0095-CW/ERR045631', 'Pf3D7_06_v3'): 1, ('AUD/PG0112-C/ERR029406', 'Pf3D7_04_v3'): 1, ('C07/PG0070-C/ERR019056', 'Pf3D7_06_v3'): 1, ('C06/PG0069-C/ERR019055', 'Pf3D7_10_v3'): 1, ('NIC/PG0095-CW/ERR045631', 'Pf3D7_03_v3'): 1, ('DEV/PG0081-CW/ERR045633', 'Pf3D7_08_v3'): 1, ('QC13/PG0016-C/ERR012895', 'Pf3D7_01_v3'): 1, ('NIC/PG0095-CW/ERR045631', 'Pf3D7_08_v3'): 1, ('JB8/PG0087-C/ERR029091', 'Pf3D7_09_v3'): 1, ('QC01/PG0017-C/ERR019050', 'Pf3D7_14_v3'): 1, ('7C159/PG0040-Cx/ERR107475', 'Pf3D7_13_v3'): 1, ('C02/PG0067-C/ERR019073', 'Pf3D7_08_v3'): 1, ('KA6/PG0091-C/ERR027117', 'Pf3D7_11_v3'): 1, ('D43/PG0029-Cx/ERR107474', 'Pf3D7_11_v3'): 1, ('CH3_61/PG0033-Cx/ERR175544', 'Pf3D7_12_v3'): 1, ('7C3/PG0034-C/ERR019047', 'Pf3D7_13_v3'): 1, ('WC4/PG0082-C/ERR029093', 'Pf3D7_04_v3'): 1, ('CH3_61/PG0033-Cx/ERR175544', 'Pf3D7_13_v3'): 1, ('7C183/PG0042-C/ERR015448', 'Pf3D7_01_v3'): 1, ('QC01/PG0017-C/ERR019050', 'Pf3D7_07_v3'): 1, ('C01/PG0065-C/ERR019064', 'Pf3D7_11_v3'): 1, ('GC03/PG0021-C/ERR015447', 'Pf3D7_12_v3'): 1, ('XF12/PG0102-C/ERR029143', 'Pf3D7_12_v3'): 1, ('3BD5/PG0024-C/ERR019053', 'Pf3D7_10_v3'): 1, ('XD8/PG0105-C/ERR029144', 'Pf3D7_10_v3'): 1, ('QC01/PG0017-C/ERR019050', 'Pf3D7_04_v3'): 1, ('B4R3/PG0018-C/ERR019042', 'Pf3D7_04_v3'): 1, ('7C159/PG0040-Cx/ERR107475', 'Pf3D7_08_v3'): 1, ('WF12/PG0097-C/ERR027109', 'Pf3D7_07_v3'): 1, ('WF12/PG0097-C/ERR027109', 'Pf3D7_14_v3'): 1, ('C08/PG0071-C/ERR019074', 'Pf3D7_03_v3'): 1, ('3BA6/PG0022-Cx/ERR126027', 'Pf3D7_02_v3'): 1, ('JC9/PG0111-CW/ERR045634', 'Pf3D7_11_v3'): 1, ('KB8/PG0104-C/ERR029148', 'Pf3D7_07_v3'): 1, ('KH7/PG0088-C/ERR027111', 'Pf3D7_08_v3'): 1, ('7C3/PG0034-C/ERR019047', 'Pf3D7_08_v3'): 1, ('NIC/PG0095-CW/ERR045631', 'Pf3D7_09_v3'): 1, ('JE11/PG0100-C/ERR029404', 'Pf3D7_03_v3'): 1, ('DAN/PG0098-C/ERR027110', 'Pf3D7_01_v3'): 1, ('C03/PG0066-C/ERR019072', 'Pf3D7_04_v3'): 1, ('SC05/PG0019-C/ERR019051', 'Pf3D7_07_v3'): 1, ('B4R3/PG0018-C/ERR019042', 'Pf3D7_05_v3'): 1, ('WF12/PG0097-C/ERR027109', 'Pf3D7_09_v3'): 1, ('DEV/PG0081-CW/ERR045633', 'Pf3D7_06_v3'): 1, ('TF1/PG0080-C/ERR027103', 'Pf3D7_10_v3'): 1, ('JC3/PG0077-CW/ERR045636', 'Pf3D7_06_v3'): 1, ('NF10/PG0096-C/ERR027108', 'Pf3D7_04_v3'): 1, ('GC03/PG0021-C/ERR015447', 'Pf3D7_06_v3'): 1, ('C10/PG0063-C/ERR019060', 'Pf3D7_05_v3'): 1, ('C10/PG0063-C/ERR019060', 'Pf3D7_03_v3'): 1, ('7C111/PG0038-C/ERR015457', 'Pf3D7_14_v3'): 1, ('QC23/PG0045-C/ERR012892', 'Pf3D7_12_v3'): 1, ('DEV/PG0081-CW/ERR045633', 'Pf3D7_10_v3'): 1, ('TC08/PG0020-C/ERR019052', 'Pf3D7_14_v3'): 1, ('7C101/PG0074-C/ERR019048', 'Pf3D7_06_v3'): 1, ('GC03/PG0021-C/ERR015447', 'Pf3D7_13_v3'): 1, ('7C20/PG0037-C/ERR015451', 'Pf3D7_02_v3'): 1, ('7C170/PG0041-C/ERR015446', 'Pf3D7_14_v3'): 1, ('3BA6/PG0022-Cx/ERR126027', 'Pf3D7_12_v3'): 1, ('XG10/PG0109-C/ERR029405', 'Pf3D7_14_v3'): 1, ('C02/PG0067-C/ERR019073', 'Pf3D7_09_v3'): 1, ('JE11/PG0100-C/ERR029404', 'Pf3D7_04_v3'): 1, ('7C12/PG0035-Cx/ERR037704', 'Pf3D7_13_v3'): 1, ('GC03/PG0021-C/ERR015447', 'Pf3D7_14_v3'): 1, ('7C424/PG0044-C/ERR019043', 'Pf3D7_06_v3'): 1, ('7C170/PG0041-C/ERR015446', 'Pf3D7_09_v3'): 1, ('C03/PG0066-C/ERR019072', 'Pf3D7_12_v3'): 1, ('1BB5/PG0023-C/ERR015449', 'Pf3D7_12_v3'): 1, ('C07/PG0070-C/ERR019056', 'Pf3D7_05_v3'): 1, ('C01/PG0065-C/ERR019064', 'Pf3D7_10_v3'): 1, ('C14/PG0060-C/ERR019058', 'Pf3D7_13_v3'): 1, ('7C7/PG0048-C/ERR019049', 'Pf3D7_11_v3'): 1, ('QC34/PG0026-C/ERR015453', 'Pf3D7_13_v3'): 1, ('QF5/PG0078-C/ERR029092', 'Pf3D7_13_v3'): 1, ('WC4/PG0082-C/ERR029093', 'Pf3D7_05_v3'): 1, ('C15/PG0057-C/ERR019069', 'Pf3D7_05_v3'): 1, ('QC13/PG0016-C/ERR012895', 'Pf3D7_09_v3'): 1, ('7C421/PG0043-C/ERR015459', 'Pf3D7_06_v3'): 1, ('KH7/PG0088-C/ERR027111', 'Pf3D7_09_v3'): 1, ('D43/PG0029-Cx/ERR107474', 'Pf3D7_10_v3'): 1, ('C11/PG0064-C/ERR019071', 'Pf3D7_11_v3'): 1, ('7C101/PG0074-C/ERR019048', 'Pf3D7_14_v3'): 1, ('7C140/PG0039-C/ERR015454', 'Pf3D7_13_v3'): 1, ('TC05/PG0027-C/ERR015450', 'Pf3D7_14_v3'): 1, ('KB8/PG0104-C/ERR029148', 'Pf3D7_04_v3'): 1, ('1BB5/PG0023-C/ERR015449', 'Pf3D7_13_v3'): 1, ('CH3_116/PG0032-Cx/ERR037703', 'Pf3D7_08_v3'): 1, ('AUD/PG0112-C/ERR029406', 'Pf3D7_03_v3'): 1, ('GC06/PG0028-C/ERR015456', 'Pf3D7_01_v3'): 1, ('C12/PG0058-C/ERR019063', 'Pf3D7_14_v3'): 1, ('7C188/PG0030-C/ERR019046', 'Pf3D7_10_v3'): 1, ('7C20/PG0037-C/ERR015451', 'Pf3D7_10_v3'): 1, ('WF12/PG0097-C/ERR027109', 'Pf3D7_02_v3'): 1, ('QC23/PG0045-C/ERR012892', 'Pf3D7_04_v3'): 1, ('C12/PG0058-C/ERR019063', 'Pf3D7_10_v3'): 1, ('TC05/PG0027-C/ERR015450', 'Pf3D7_05_v3'): 1, ('C09/PG0072-C/ERR019057', 'Pf3D7_10_v3'): 1, ('C12/PG0058-C/ERR019063', 'Pf3D7_09_v3'): 1, ('C03/PG0066-C/ERR019072', 'Pf3D7_09_v3'): 1, ('7C3/PG0034-C/ERR019047', 'Pf3D7_03_v3'): 1, ('DEV/PG0081-CW/ERR045633', 'Pf3D7_01_v3'): 1, ('TF1/PG0080-C/ERR027103', 'Pf3D7_13_v3'): 1, ('D43/PG0029-Cx/ERR107474', 'Pf3D7_09_v3'): 1, ('JC9/PG0111-CW/ERR045634', 'Pf3D7_07_v3'): 1, ('7C159/PG0040-Cx/ERR107475', 'Pf3D7_09_v3'): 1, ('JB8/PG0087-C/ERR029091', 'Pf3D7_04_v3'): 1, ('1BB5/PG0023-C/ERR015449', 'Pf3D7_09_v3'): 1, ('CH3_61/PG0033-Cx/ERR175544', 'Pf3D7_02_v3'): 1, ('NIC/PG0095-CW/ERR045631', 'Pf3D7_07_v3'): 1, ('D43/PG0029-Cx/ERR107474', 'Pf3D7_08_v3'): 1, ('7C188/PG0030-C/ERR019046', 'Pf3D7_12_v3'): 1, ('C09/PG0072-C/ERR019057', 'Pf3D7_06_v3'): 1, ('C04/PG0061-C/ERR019059', 'Pf3D7_13_v3'): 1, ('7C424/PG0044-C/ERR019043', 'Pf3D7_07_v3'): 1, ('C13/PG0054-C/ERR019062', 'Pf3D7_14_v3'): 1, ('7C424/PG0044-C/ERR019043', 'Pf3D7_09_v3'): 1, ('GC06/PG0028-C/ERR015456', 'Pf3D7_07_v3'): 1, ('7C7/PG0048-C/ERR019049', 'Pf3D7_09_v3'): 1, ('C11/PG0064-C/ERR019071', 'Pf3D7_14_v3'): 1, ('C11/PG0064-C/ERR019071', 'Pf3D7_12_v3'): 1, ('JC3/PG0077-CW/ERR045636', 'Pf3D7_12_v3'): 1, ('JC9/PG0111-CW/ERR045634', 'Pf3D7_10_v3'): 1, ('XE7/PG0106-C/ERR029407', 'Pf3D7_11_v3'): 1, ('D43/PG0029-Cx/ERR107474', 'Pf3D7_13_v3'): 1, ('CH3_61/PG0033-Cx/ERR175544', 'Pf3D7_14_v3'): 1, ('XD8/PG0105-C/ERR029144', 'Pf3D7_11_v3'): 1, ('3BA6/PG0022-Cx/ERR126027', 'Pf3D7_14_v3'): 1, ('DAN/PG0098-C/ERR027110', 'Pf3D7_09_v3'): 1, ('C06/PG0069-C/ERR019055', 'Pf3D7_06_v3'): 1, ('C11/PG0064-C/ERR019071', 'Pf3D7_05_v3'): 1, ('7C20/PG0037-C/ERR015451', 'Pf3D7_12_v3'): 1, ('7C3/PG0034-C/ERR019047', 'Pf3D7_07_v3'): 1, ('KB8/PG0104-C/ERR029148', 'Pf3D7_12_v3'): 1, ('GC03/PG0021-C/ERR015447', 'Pf3D7_09_v3'): 1, ('C01/PG0065-C/ERR019064', 'Pf3D7_06_v3'): 1, ('7C183/PG0042-C/ERR015448', 'Pf3D7_04_v3'): 1, ('7C111/PG0038-C/ERR015457', 'Pf3D7_03_v3'): 1, ('C10/PG0063-C/ERR019060', 'Pf3D7_14_v3'): 1, ('XE7/PG0106-C/ERR029407', 'Pf3D7_08_v3'): 1, ('3BD5/PG0024-C/ERR019053', 'Pf3D7_12_v3'): 1, ('7C159/PG0040-Cx/ERR107475', 'Pf3D7_02_v3'): 1, ('XB3/PG0093-C/ERR029105', 'Pf3D7_14_v3'): 1, ('7C424/PG0044-C/ERR019043', 'Pf3D7_14_v3'): 1, ('JB12/PG0099-C/ERR029146', 'Pf3D7_12_v3'): 1, ('3BA6/PG0022-Cx/ERR126027', 'Pf3D7_06_v3'): 1, ('GC06/PG0028-C/ERR015456', 'Pf3D7_12_v3'): 1, ('KH7/PG0088-C/ERR027111', 'Pf3D7_05_v3'): 1, ('C04/PG0061-C/ERR019059', 'Pf3D7_09_v3'): 1, ('1BB5/PG0023-C/ERR015449', 'Pf3D7_14_v3'): 1, ('7C183/PG0042-C/ERR015448', 'Pf3D7_10_v3'): 1, ('7C188/PG0030-C/ERR019046', 'Pf3D7_02_v3'): 1, ('JC9/PG0111-CW/ERR045634', 'Pf3D7_14_v3'): 1})"
       ]
      }
     ],
     "prompt_number": 73
    },
    {
     "cell_type": "code",
     "collapsed": false,
     "input": [
      "tbl_nco_chrom = [['cross', 'sample', 'chrom', 'n_obs']]\n",
      "for cross in CROSSES:\n",
      "    for sample in progeny[cross]:\n",
      "        for chrom in CHROMOSOMES:\n",
      "            tbl_nco_chrom.append([cross, sample, chrom, lkp_nco_sample_chrom.get((sample, chrom), 0)])\n",
      "tbl_nco_chrom = (etl\n",
      "    .wrap(tbl_nco_chrom)\n",
      "    .addfield('n_adj', lambda row: row.n_obs / nco_discovery_rate[row.cross])\n",
      "    .addfield('span', lambda row: lkp_marker_span[row.chrom])\n",
      ")\n",
      "tbl_nco_chrom.display(20)"
     ],
     "language": "python",
     "metadata": {},
     "outputs": [
      {
       "html": [
        "<table class='petl'>\r\n",
        "<thead>\r\n",
        "<tr>\r\n",
        "<th>0|cross</th>\r\n",
        "<th>1|sample</th>\r\n",
        "<th>2|chrom</th>\r\n",
        "<th>3|n_obs</th>\r\n",
        "<th>4|n_adj</th>\r\n",
        "<th>5|span</th>\r\n",
        "</tr>\r\n",
        "</thead>\r\n",
        "<tbody>\r\n",
        "<tr>\r\n",
        "<td>3d7_hb3</td>\r\n",
        "<td>C01/PG0065-C/ERR019064</td>\r\n",
        "<td>Pf3D7_01_v3</td>\r\n",
        "<td style='text-align: right'>0</td>\r\n",
        "<td style='text-align: right'>0.0</td>\r\n",
        "<td style='text-align: right'>480620</td>\r\n",
        "</tr>\r\n",
        "<tr>\r\n",
        "<td>3d7_hb3</td>\r\n",
        "<td>C01/PG0065-C/ERR019064</td>\r\n",
        "<td>Pf3D7_02_v3</td>\r\n",
        "<td style='text-align: right'>0</td>\r\n",
        "<td style='text-align: right'>0.0</td>\r\n",
        "<td style='text-align: right'>753550</td>\r\n",
        "</tr>\r\n",
        "<tr>\r\n",
        "<td>3d7_hb3</td>\r\n",
        "<td>C01/PG0065-C/ERR019064</td>\r\n",
        "<td>Pf3D7_03_v3</td>\r\n",
        "<td style='text-align: right'>0</td>\r\n",
        "<td style='text-align: right'>0.0</td>\r\n",
        "<td style='text-align: right'>929971</td>\r\n",
        "</tr>\r\n",
        "<tr>\r\n",
        "<td>3d7_hb3</td>\r\n",
        "<td>C01/PG0065-C/ERR019064</td>\r\n",
        "<td>Pf3D7_04_v3</td>\r\n",
        "<td style='text-align: right'>0</td>\r\n",
        "<td style='text-align: right'>0.0</td>\r\n",
        "<td style='text-align: right'>932894</td>\r\n",
        "</tr>\r\n",
        "<tr>\r\n",
        "<td>3d7_hb3</td>\r\n",
        "<td>C01/PG0065-C/ERR019064</td>\r\n",
        "<td>Pf3D7_05_v3</td>\r\n",
        "<td style='text-align: right'>0</td>\r\n",
        "<td style='text-align: right'>0.0</td>\r\n",
        "<td style='text-align: right'>1281978</td>\r\n",
        "</tr>\r\n",
        "<tr>\r\n",
        "<td>3d7_hb3</td>\r\n",
        "<td>C01/PG0065-C/ERR019064</td>\r\n",
        "<td>Pf3D7_06_v3</td>\r\n",
        "<td style='text-align: right'>1</td>\r\n",
        "<td style='text-align: right'>2.19016470039</td>\r\n",
        "<td style='text-align: right'>1200478</td>\r\n",
        "</tr>\r\n",
        "<tr>\r\n",
        "<td>3d7_hb3</td>\r\n",
        "<td>C01/PG0065-C/ERR019064</td>\r\n",
        "<td>Pf3D7_07_v3</td>\r\n",
        "<td style='text-align: right'>0</td>\r\n",
        "<td style='text-align: right'>0.0</td>\r\n",
        "<td style='text-align: right'>1204739</td>\r\n",
        "</tr>\r\n",
        "<tr>\r\n",
        "<td>3d7_hb3</td>\r\n",
        "<td>C01/PG0065-C/ERR019064</td>\r\n",
        "<td>Pf3D7_08_v3</td>\r\n",
        "<td style='text-align: right'>0</td>\r\n",
        "<td style='text-align: right'>0.0</td>\r\n",
        "<td style='text-align: right'>1249936</td>\r\n",
        "</tr>\r\n",
        "<tr>\r\n",
        "<td>3d7_hb3</td>\r\n",
        "<td>C01/PG0065-C/ERR019064</td>\r\n",
        "<td>Pf3D7_09_v3</td>\r\n",
        "<td style='text-align: right'>0</td>\r\n",
        "<td style='text-align: right'>0.0</td>\r\n",
        "<td style='text-align: right'>1392114</td>\r\n",
        "</tr>\r\n",
        "<tr>\r\n",
        "<td>3d7_hb3</td>\r\n",
        "<td>C01/PG0065-C/ERR019064</td>\r\n",
        "<td>Pf3D7_10_v3</td>\r\n",
        "<td style='text-align: right'>1</td>\r\n",
        "<td style='text-align: right'>2.19016470039</td>\r\n",
        "<td style='text-align: right'>1502845</td>\r\n",
        "</tr>\r\n",
        "<tr>\r\n",
        "<td>3d7_hb3</td>\r\n",
        "<td>C01/PG0065-C/ERR019064</td>\r\n",
        "<td>Pf3D7_11_v3</td>\r\n",
        "<td style='text-align: right'>1</td>\r\n",
        "<td style='text-align: right'>2.19016470039</td>\r\n",
        "<td style='text-align: right'>1891043</td>\r\n",
        "</tr>\r\n",
        "<tr>\r\n",
        "<td>3d7_hb3</td>\r\n",
        "<td>C01/PG0065-C/ERR019064</td>\r\n",
        "<td>Pf3D7_12_v3</td>\r\n",
        "<td style='text-align: right'>0</td>\r\n",
        "<td style='text-align: right'>0.0</td>\r\n",
        "<td style='text-align: right'>2030380</td>\r\n",
        "</tr>\r\n",
        "<tr>\r\n",
        "<td>3d7_hb3</td>\r\n",
        "<td>C01/PG0065-C/ERR019064</td>\r\n",
        "<td>Pf3D7_13_v3</td>\r\n",
        "<td style='text-align: right'>0</td>\r\n",
        "<td style='text-align: right'>0.0</td>\r\n",
        "<td style='text-align: right'>2715189</td>\r\n",
        "</tr>\r\n",
        "<tr>\r\n",
        "<td>3d7_hb3</td>\r\n",
        "<td>C01/PG0065-C/ERR019064</td>\r\n",
        "<td>Pf3D7_14_v3</td>\r\n",
        "<td style='text-align: right'>0</td>\r\n",
        "<td style='text-align: right'>0.0</td>\r\n",
        "<td style='text-align: right'>3216370</td>\r\n",
        "</tr>\r\n",
        "<tr>\r\n",
        "<td>3d7_hb3</td>\r\n",
        "<td>C02/PG0067-C/ERR019073</td>\r\n",
        "<td>Pf3D7_01_v3</td>\r\n",
        "<td style='text-align: right'>0</td>\r\n",
        "<td style='text-align: right'>0.0</td>\r\n",
        "<td style='text-align: right'>480620</td>\r\n",
        "</tr>\r\n",
        "<tr>\r\n",
        "<td>3d7_hb3</td>\r\n",
        "<td>C02/PG0067-C/ERR019073</td>\r\n",
        "<td>Pf3D7_02_v3</td>\r\n",
        "<td style='text-align: right'>0</td>\r\n",
        "<td style='text-align: right'>0.0</td>\r\n",
        "<td style='text-align: right'>753550</td>\r\n",
        "</tr>\r\n",
        "<tr>\r\n",
        "<td>3d7_hb3</td>\r\n",
        "<td>C02/PG0067-C/ERR019073</td>\r\n",
        "<td>Pf3D7_03_v3</td>\r\n",
        "<td style='text-align: right'>0</td>\r\n",
        "<td style='text-align: right'>0.0</td>\r\n",
        "<td style='text-align: right'>929971</td>\r\n",
        "</tr>\r\n",
        "<tr>\r\n",
        "<td>3d7_hb3</td>\r\n",
        "<td>C02/PG0067-C/ERR019073</td>\r\n",
        "<td>Pf3D7_04_v3</td>\r\n",
        "<td style='text-align: right'>0</td>\r\n",
        "<td style='text-align: right'>0.0</td>\r\n",
        "<td style='text-align: right'>932894</td>\r\n",
        "</tr>\r\n",
        "<tr>\r\n",
        "<td>3d7_hb3</td>\r\n",
        "<td>C02/PG0067-C/ERR019073</td>\r\n",
        "<td>Pf3D7_05_v3</td>\r\n",
        "<td style='text-align: right'>0</td>\r\n",
        "<td style='text-align: right'>0.0</td>\r\n",
        "<td style='text-align: right'>1281978</td>\r\n",
        "</tr>\r\n",
        "<tr>\r\n",
        "<td>3d7_hb3</td>\r\n",
        "<td>C02/PG0067-C/ERR019073</td>\r\n",
        "<td>Pf3D7_06_v3</td>\r\n",
        "<td style='text-align: right'>0</td>\r\n",
        "<td style='text-align: right'>0.0</td>\r\n",
        "<td style='text-align: right'>1200478</td>\r\n",
        "</tr>\r\n",
        "</tbody>\r\n",
        "</table>\r\n",
        "<p><strong>...</strong></p>"
       ],
       "metadata": {},
       "output_type": "display_data"
      }
     ],
     "prompt_number": 74
    },
    {
     "cell_type": "code",
     "collapsed": false,
     "input": [
      "def plot_nco_rate_by_chrom(ax, scatter_kws=dict()):\n",
      "    df_nco_chrom = tbl_nco_chrom.todataframe()\n",
      "    sns.despine(ax=ax)\n",
      "    sns.offset_spines(ax=ax)\n",
      "    sns.regplot('span', 'n_adj', df_nco_chrom, x_estimator=np.mean, ax=ax, scatter_kws=scatter_kws)\n"
     ],
     "language": "python",
     "metadata": {},
     "outputs": [],
     "prompt_number": 75
    },
    {
     "cell_type": "code",
     "collapsed": false,
     "input": [
      "width = 8/3\n",
      "height = width\n",
      "fig, ax = plt.subplots(figsize=(width, height))\n",
      "plot_nco_rate_by_chrom(ax, scatter_kws=dict(s=12))\n",
      "ax.set_title('F', fontweight='bold')\n",
      "ax.set_xticks(range(0, 3500000, 1000000))\n",
      "ax.set_xticklabels(range(0, 4, 1))\n",
      "ax.set_xlabel('chromosome marker span (Mb)')\n",
      "ax.set_ylim(0, 1.4)\n",
      "ax.set_ylabel('NCO recombination rate (NCO/meiosis)')\n",
      "fig.tight_layout()\n",
      "fig.savefig('../artwork/main/fig3F.jpg', dpi=900, jpeg_quality=100)"
     ],
     "language": "python",
     "metadata": {},
     "outputs": [
      {
       "metadata": {},
       "output_type": "display_data",
       "png": "[encoded data removed]",
       "text": [
        "<matplotlib.figure.Figure at 0x7fae0c1b17d0>"
       ]
      }
     ],
     "prompt_number": 79
    },
    {
     "cell_type": "code",
     "collapsed": false,
     "input": [],
     "language": "python",
     "metadata": {},
     "outputs": []
    }
   ],
   "metadata": {}
  }
 ]
}