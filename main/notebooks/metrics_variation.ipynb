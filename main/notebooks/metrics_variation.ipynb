{
 "metadata": {
  "name": "",
  "signature": "sha256:82e656171c0d4c46d82a6b7c5316228a2485c01d08ab5f648da9b5e35de8788f"
 },
 "nbformat": 3,
 "nbformat_minor": 0,
 "worksheets": [
  {
   "cells": [
    {
     "cell_type": "heading",
     "level": 1,
     "metadata": {},
     "source": [
      "Metrics: variation"
     ]
    },
    {
     "cell_type": "code",
     "collapsed": false,
     "input": [
      "from __future__ import division\n",
      "%run ../../shared_setup.ipynb\n",
      "%run ../../plotting_setup.ipynb"
     ],
     "language": "python",
     "metadata": {},
     "outputs": [],
     "prompt_number": 1
    },
    {
     "cell_type": "code",
     "collapsed": false,
     "input": [
      "# load PASS variants for all three crosses\n",
      "callsets = load_callsets(COMBINED_CALLSET_FN_TEMPLATE, \n",
      "                         variant_filter='FILTER_PASS')"
     ],
     "language": "python",
     "metadata": {},
     "outputs": [
      {
       "output_type": "stream",
       "stream": "stderr",
       "text": [
        "2014-12-16 11:29:50.798602 :: loading /data/plasmodium/pfalciparum/pf-crosses/data/public/20141022/3d7_hb3.combined.final.npz\n"
       ]
      },
      {
       "output_type": "stream",
       "stream": "stderr",
       "text": [
        "2014-12-16 11:29:51.163385 :: filter variants: excluding 157 (0.4%) retaining 42087 (99.6%) of 42244 variants\n"
       ]
      },
      {
       "output_type": "stream",
       "stream": "stderr",
       "text": [
        "2014-12-16 11:29:51.248079 :: loading /data/plasmodium/pfalciparum/pf-crosses/data/public/20141022/hb3_dd2.combined.final.npz\n"
       ]
      },
      {
       "output_type": "stream",
       "stream": "stderr",
       "text": [
        "2014-12-16 11:29:51.710681 :: filter variants: excluding 450 (1.2%) retaining 36461 (98.8%) of 36911 variants\n"
       ]
      },
      {
       "output_type": "stream",
       "stream": "stderr",
       "text": [
        "2014-12-16 11:29:51.807011 :: loading /data/plasmodium/pfalciparum/pf-crosses/data/public/20141022/7g8_gb4.combined.final.npz\n"
       ]
      },
      {
       "output_type": "stream",
       "stream": "stderr",
       "text": [
        "2014-12-16 11:29:52.344502 :: filter variants: excluding 304 (0.9%) retaining 34471 (99.1%) of 34775 variants\n"
       ]
      }
     ],
     "prompt_number": 2
    },
    {
     "cell_type": "heading",
     "level": 2,
     "metadata": {},
     "source": [
      "No. of independent progeny clones"
     ]
    },
    {
     "cell_type": "code",
     "collapsed": false,
     "input": [
      "for cross in CROSSES:\n",
      "    samples = callsets[cross]['calldata'].dtype.names\n",
      "    progeny = samples[2:]\n",
      "    progeny_clones = set([p.split('/')[0] for p in progeny])\n",
      "    print cross, len(progeny_clones)"
     ],
     "language": "python",
     "metadata": {},
     "outputs": [
      {
       "output_type": "stream",
       "stream": "stdout",
       "text": [
        "3d7_hb3 15\n",
        "hb3_dd2 35\n",
        "7g8_gb4 28\n"
       ]
      }
     ],
     "prompt_number": 3
    },
    {
     "cell_type": "heading",
     "level": 2,
     "metadata": {},
     "source": [
      "Coverage"
     ]
    },
    {
     "cell_type": "code",
     "collapsed": false,
     "input": [
      "tbl_samples = (etl\n",
      "    .fromtsv(os.path.join(PUBLIC_DIR, 'samples.txt'))\n",
      "    .convert('coverage', lambda v: int(v[:-1]))\n",
      ")\n",
      "tbl_samples"
     ],
     "language": "python",
     "metadata": {},
     "outputs": [
      {
       "html": [
        "<table class='petl'>\r\n",
        "<thead>\r\n",
        "<tr>\r\n",
        "<th>0|cross</th>\r\n",
        "<th>1|clone</th>\r\n",
        "<th>2|sample</th>\r\n",
        "<th>3|run</th>\r\n",
        "<th>4|instrument</th>\r\n",
        "<th>5|coverage</th>\r\n",
        "</tr>\r\n",
        "</thead>\r\n",
        "<tbody>\r\n",
        "<tr>\r\n",
        "<td>3d7_hb3</td>\r\n",
        "<td>3D7</td>\r\n",
        "<td>PG0051-C</td>\r\n",
        "<td>ERR019061</td>\r\n",
        "<td>Illumina Genome Analyzer II</td>\r\n",
        "<td style='text-align: right'>122</td>\r\n",
        "</tr>\r\n",
        "<tr>\r\n",
        "<td>3d7_hb3</td>\r\n",
        "<td>C01</td>\r\n",
        "<td>PG0065-C</td>\r\n",
        "<td>ERR019064</td>\r\n",
        "<td>Illumina Genome Analyzer II</td>\r\n",
        "<td style='text-align: right'>163</td>\r\n",
        "</tr>\r\n",
        "<tr>\r\n",
        "<td>3d7_hb3</td>\r\n",
        "<td>C01</td>\r\n",
        "<td>PG0062-C</td>\r\n",
        "<td>ERR019070</td>\r\n",
        "<td>Illumina Genome Analyzer II</td>\r\n",
        "<td style='text-align: right'>108</td>\r\n",
        "</tr>\r\n",
        "<tr>\r\n",
        "<td>3d7_hb3</td>\r\n",
        "<td>C02</td>\r\n",
        "<td>PG0055-C</td>\r\n",
        "<td>ERR019066</td>\r\n",
        "<td>Illumina Genome Analyzer II</td>\r\n",
        "<td style='text-align: right'>102</td>\r\n",
        "</tr>\r\n",
        "<tr>\r\n",
        "<td>3d7_hb3</td>\r\n",
        "<td>C02</td>\r\n",
        "<td>PG0053-C</td>\r\n",
        "<td>ERR019067</td>\r\n",
        "<td>Illumina Genome Analyzer II</td>\r\n",
        "<td style='text-align: right'>73</td>\r\n",
        "</tr>\r\n",
        "</tbody>\r\n",
        "</table>\r\n",
        "<p><strong>...</strong></p>"
       ],
       "metadata": {},
       "output_type": "pyout",
       "prompt_number": 5,
       "text": [
        "+-----------+-----------+------------+-------------+-------------------------------+--------------+\n",
        "| '0|cross' | '1|clone' | '2|sample' | '3|run'     | '4|instrument'                | '5|coverage' |\n",
        "+===========+===========+============+=============+===============================+==============+\n",
        "| '3d7_hb3' | '3D7'     | 'PG0051-C' | 'ERR019061' | 'Illumina Genome Analyzer II' |          122 |\n",
        "+-----------+-----------+------------+-------------+-------------------------------+--------------+\n",
        "| '3d7_hb3' | 'C01'     | 'PG0065-C' | 'ERR019064' | 'Illumina Genome Analyzer II' |          163 |\n",
        "+-----------+-----------+------------+-------------+-------------------------------+--------------+\n",
        "| '3d7_hb3' | 'C01'     | 'PG0062-C' | 'ERR019070' | 'Illumina Genome Analyzer II' |          108 |\n",
        "+-----------+-----------+------------+-------------+-------------------------------+--------------+\n",
        "| '3d7_hb3' | 'C02'     | 'PG0055-C' | 'ERR019066' | 'Illumina Genome Analyzer II' |          102 |\n",
        "+-----------+-----------+------------+-------------+-------------------------------+--------------+\n",
        "| '3d7_hb3' | 'C02'     | 'PG0053-C' | 'ERR019067' | 'Illumina Genome Analyzer II' |           73 |\n",
        "+-----------+-----------+------------+-------------+-------------------------------+--------------+"
       ]
      }
     ],
     "prompt_number": 5
    },
    {
     "cell_type": "code",
     "collapsed": false,
     "input": [
      "tbl_samples.counts('cross')"
     ],
     "language": "python",
     "metadata": {},
     "outputs": [
      {
       "html": [
        "<table class='petl'>\r\n",
        "<thead>\r\n",
        "<tr>\r\n",
        "<th>0|cross</th>\r\n",
        "<th>1|count</th>\r\n",
        "<th>2|frequency</th>\r\n",
        "</tr>\r\n",
        "</thead>\r\n",
        "<tbody>\r\n",
        "<tr>\r\n",
        "<td>7g8_gb4</td>\r\n",
        "<td style='text-align: right'>40</td>\r\n",
        "<td style='text-align: right'>0.408163265306</td>\r\n",
        "</tr>\r\n",
        "<tr>\r\n",
        "<td>hb3_dd2</td>\r\n",
        "<td style='text-align: right'>37</td>\r\n",
        "<td style='text-align: right'>0.377551020408</td>\r\n",
        "</tr>\r\n",
        "<tr>\r\n",
        "<td>3d7_hb3</td>\r\n",
        "<td style='text-align: right'>21</td>\r\n",
        "<td style='text-align: right'>0.214285714286</td>\r\n",
        "</tr>\r\n",
        "</tbody>\r\n",
        "</table>\r\n"
       ],
       "metadata": {},
       "output_type": "pyout",
       "prompt_number": 10,
       "text": [
        "+-----------+-----------+---------------------+\n",
        "| '0|cross' | '1|count' | '2|frequency'       |\n",
        "+===========+===========+=====================+\n",
        "| '7g8_gb4' |        40 | 0.40816326530612246 |\n",
        "+-----------+-----------+---------------------+\n",
        "| 'hb3_dd2' |        37 | 0.37755102040816324 |\n",
        "+-----------+-----------+---------------------+\n",
        "| '3d7_hb3' |        21 | 0.21428571428571427 |\n",
        "+-----------+-----------+---------------------+"
       ]
      }
     ],
     "prompt_number": 10
    },
    {
     "cell_type": "code",
     "collapsed": false,
     "input": [
      "df_samples = tbl_samples.todataframe()\n",
      "df_samples.groupby('cross').coverage.median()"
     ],
     "language": "python",
     "metadata": {},
     "outputs": [
      {
       "metadata": {},
       "output_type": "pyout",
       "prompt_number": 8,
       "text": [
        "cross\n",
        "3d7_hb3    102.0\n",
        "7g8_gb4    106.5\n",
        "hb3_dd2    110.0\n",
        "Name: coverage, dtype: float64"
       ]
      }
     ],
     "prompt_number": 8
    },
    {
     "cell_type": "code",
     "collapsed": false,
     "input": [
      "df_samples.groupby('cross').coverage.min()"
     ],
     "language": "python",
     "metadata": {},
     "outputs": [
      {
       "metadata": {},
       "output_type": "pyout",
       "prompt_number": 9,
       "text": [
        "cross\n",
        "3d7_hb3    41\n",
        "7g8_gb4    55\n",
        "hb3_dd2    22\n",
        "Name: coverage, dtype: int64"
       ]
      }
     ],
     "prompt_number": 9
    },
    {
     "cell_type": "code",
     "collapsed": false,
     "input": [
      "df_samples.groupby('cross').coverage.max()"
     ],
     "language": "python",
     "metadata": {},
     "outputs": [
      {
       "metadata": {},
       "output_type": "pyout",
       "prompt_number": 11,
       "text": [
        "cross\n",
        "3d7_hb3    173\n",
        "7g8_gb4    250\n",
        "hb3_dd2    637\n",
        "Name: coverage, dtype: int64"
       ]
      }
     ],
     "prompt_number": 11
    },
    {
     "cell_type": "code",
     "collapsed": false,
     "input": [
      "tbl_samples.aggregate('cross', [('median', 'coverage', lambda g: np.median(list(g))),\n",
      "                                ('min', 'coverage', min),\n",
      "                                ('max', 'coverage', max)])"
     ],
     "language": "python",
     "metadata": {},
     "outputs": [
      {
       "html": [
        "<table class='petl'>\r\n",
        "<thead>\r\n",
        "<tr>\r\n",
        "<th>0|cross</th>\r\n",
        "<th>1|median</th>\r\n",
        "<th>2|min</th>\r\n",
        "<th>3|max</th>\r\n",
        "</tr>\r\n",
        "</thead>\r\n",
        "<tbody>\r\n",
        "<tr>\r\n",
        "<td>3d7_hb3</td>\r\n",
        "<td style='text-align: right'>102.0</td>\r\n",
        "<td style='text-align: right'>41</td>\r\n",
        "<td style='text-align: right'>173</td>\r\n",
        "</tr>\r\n",
        "<tr>\r\n",
        "<td>7g8_gb4</td>\r\n",
        "<td style='text-align: right'>106.5</td>\r\n",
        "<td style='text-align: right'>55</td>\r\n",
        "<td style='text-align: right'>250</td>\r\n",
        "</tr>\r\n",
        "<tr>\r\n",
        "<td>hb3_dd2</td>\r\n",
        "<td style='text-align: right'>110.0</td>\r\n",
        "<td style='text-align: right'>22</td>\r\n",
        "<td style='text-align: right'>637</td>\r\n",
        "</tr>\r\n",
        "</tbody>\r\n",
        "</table>\r\n"
       ],
       "metadata": {},
       "output_type": "pyout",
       "prompt_number": 15,
       "text": [
        "+-----------+------------+---------+---------+\n",
        "| '0|cross' | '1|median' | '2|min' | '3|max' |\n",
        "+===========+============+=========+=========+\n",
        "| '3d7_hb3' |      102.0 |      41 |     173 |\n",
        "+-----------+------------+---------+---------+\n",
        "| '7g8_gb4' |      106.5 |      55 |     250 |\n",
        "+-----------+------------+---------+---------+\n",
        "| 'hb3_dd2' |      110.0 |      22 |     637 |\n",
        "+-----------+------------+---------+---------+"
       ]
      }
     ],
     "prompt_number": 15
    },
    {
     "cell_type": "heading",
     "level": 2,
     "metadata": {},
     "source": [
      "Count SNPs and INDELs"
     ]
    },
    {
     "cell_type": "code",
     "collapsed": false,
     "input": [
      "def count_variants(query):\n",
      "    def f(row):\n",
      "        callset = filter_variants(callsets[row.cross], query=query)\n",
      "        return callset['variants'].size\n",
      "    return f\n",
      "        \n",
      "\n",
      "tbl_variation = (etl\n",
      "    .wrap([['cross']] + [[cross] for cross in CROSSES])\n",
      "    .addfield('n_snps', count_variants('is_snp'))\n",
      "    .addfield('n_indels', count_variants('~is_snp'))\n",
      "    .addfield('n_snps_coding', count_variants('is_snp & (CDSAnnotationID != \".\")'))\n",
      "    .addfield('n_snps_noncoding', count_variants('is_snp & (CDSAnnotationID == \".\")'))\n",
      "    .addfield('n_indels_coding', count_variants('~is_snp & (CDSAnnotationID != \".\")'))\n",
      "    .addfield('n_indels_noncoding', count_variants('~is_snp & (CDSAnnotationID == \".\")'))\n",
      "    .addfield('ratio_snp_indel_coding', lambda row: row.n_snps_coding / row.n_indels_coding)\n",
      "    .addfield('ratio_snp_indel_noncoding', lambda row: row.n_snps_noncoding / row.n_indels_noncoding)\n",
      "    .melt(key='cross')\n",
      "    .recast(variablefield='cross', valuefield='value')\n",
      ")\n",
      "tbl_variation.displayall()"
     ],
     "language": "python",
     "metadata": {},
     "outputs": [
      {
       "output_type": "stream",
       "stream": "stderr",
       "text": [
        "2014-12-16 12:18:02.835355 :: filter variants: excluding 26699 (63.4%) retaining 15388 (36.6%) of 42087 variants\n"
       ]
      },
      {
       "output_type": "stream",
       "stream": "stderr",
       "text": [
        "2014-12-16 12:18:02.906545 :: filter variants: excluding 15388 (36.6%) retaining 26699 (63.4%) of 42087 variants\n"
       ]
      },
      {
       "output_type": "stream",
       "stream": "stderr",
       "text": [
        "2014-12-16 12:18:02.981992 :: filter variants: excluding 33219 (78.9%) retaining 8868 (21.1%) of 42087 variants\n"
       ]
      },
      {
       "output_type": "stream",
       "stream": "stderr",
       "text": [
        "2014-12-16 12:18:03.040879 :: filter variants: excluding 35567 (84.5%) retaining 6520 (15.5%) of 42087 variants\n"
       ]
      },
      {
       "output_type": "stream",
       "stream": "stderr",
       "text": [
        "2014-12-16 12:18:03.100159 :: filter variants: excluding 37981 (90.2%) retaining 4106 (9.8%) of 42087 variants\n"
       ]
      },
      {
       "output_type": "stream",
       "stream": "stderr",
       "text": [
        "2014-12-16 12:18:03.155113 :: filter variants: excluding 19494 (46.3%) retaining 22593 (53.7%) of 42087 variants\n"
       ]
      },
      {
       "output_type": "stream",
       "stream": "stderr",
       "text": [
        "2014-12-16 12:18:03.224185 :: filter variants: excluding 21576 (59.2%) retaining 14885 (40.8%) of 36461 variants\n"
       ]
      },
      {
       "output_type": "stream",
       "stream": "stderr",
       "text": [
        "2014-12-16 12:18:03.287925 :: filter variants: excluding 14885 (40.8%) retaining 21576 (59.2%) of 36461 variants\n"
       ]
      },
      {
       "output_type": "stream",
       "stream": "stderr",
       "text": [
        "2014-12-16 12:18:03.361258 :: filter variants: excluding 27853 (76.4%) retaining 8608 (23.6%) of 36461 variants\n"
       ]
      },
      {
       "output_type": "stream",
       "stream": "stderr",
       "text": [
        "2014-12-16 12:18:03.418925 :: filter variants: excluding 30184 (82.8%) retaining 6277 (17.2%) of 36461 variants\n"
       ]
      },
      {
       "output_type": "stream",
       "stream": "stderr",
       "text": [
        "2014-12-16 12:18:03.473743 :: filter variants: excluding 32782 (89.9%) retaining 3679 (10.1%) of 36461 variants\n"
       ]
      },
      {
       "output_type": "stream",
       "stream": "stderr",
       "text": [
        "2014-12-16 12:18:03.525594 :: filter variants: excluding 18564 (50.9%) retaining 17897 (49.1%) of 36461 variants\n"
       ]
      },
      {
       "output_type": "stream",
       "stream": "stderr",
       "text": [
        "2014-12-16 12:18:03.595135 :: filter variants: excluding 20079 (58.2%) retaining 14392 (41.8%) of 34471 variants\n"
       ]
      },
      {
       "output_type": "stream",
       "stream": "stderr",
       "text": [
        "2014-12-16 12:18:03.662485 :: filter variants: excluding 14392 (41.8%) retaining 20079 (58.2%) of 34471 variants\n"
       ]
      },
      {
       "output_type": "stream",
       "stream": "stderr",
       "text": [
        "2014-12-16 12:18:03.736981 :: filter variants: excluding 26266 (76.2%) retaining 8205 (23.8%) of 34471 variants\n"
       ]
      },
      {
       "output_type": "stream",
       "stream": "stderr",
       "text": [
        "2014-12-16 12:18:03.796959 :: filter variants: excluding 28284 (82.1%) retaining 6187 (17.9%) of 34471 variants\n"
       ]
      },
      {
       "output_type": "stream",
       "stream": "stderr",
       "text": [
        "2014-12-16 12:18:03.856975 :: filter variants: excluding 30740 (89.2%) retaining 3731 (10.8%) of 34471 variants\n"
       ]
      },
      {
       "output_type": "stream",
       "stream": "stderr",
       "text": [
        "2014-12-16 12:18:03.910872 :: filter variants: excluding 18123 (52.6%) retaining 16348 (47.4%) of 34471 variants\n"
       ]
      },
      {
       "html": [
        "<table class='petl'>\r\n",
        "<thead>\r\n",
        "<tr>\r\n",
        "<th>0|variable</th>\r\n",
        "<th>1|3d7_hb3</th>\r\n",
        "<th>2|7g8_gb4</th>\r\n",
        "<th>3|hb3_dd2</th>\r\n",
        "</tr>\r\n",
        "</thead>\r\n",
        "<tbody>\r\n",
        "<tr>\r\n",
        "<td>n_indels</td>\r\n",
        "<td style='text-align: right'>26699</td>\r\n",
        "<td style='text-align: right'>20079</td>\r\n",
        "<td style='text-align: right'>21576</td>\r\n",
        "</tr>\r\n",
        "<tr>\r\n",
        "<td>n_indels_coding</td>\r\n",
        "<td style='text-align: right'>4106</td>\r\n",
        "<td style='text-align: right'>3731</td>\r\n",
        "<td style='text-align: right'>3679</td>\r\n",
        "</tr>\r\n",
        "<tr>\r\n",
        "<td>n_indels_noncoding</td>\r\n",
        "<td style='text-align: right'>22593</td>\r\n",
        "<td style='text-align: right'>16348</td>\r\n",
        "<td style='text-align: right'>17897</td>\r\n",
        "</tr>\r\n",
        "<tr>\r\n",
        "<td>n_snps</td>\r\n",
        "<td style='text-align: right'>15388</td>\r\n",
        "<td style='text-align: right'>14392</td>\r\n",
        "<td style='text-align: right'>14885</td>\r\n",
        "</tr>\r\n",
        "<tr>\r\n",
        "<td>n_snps_coding</td>\r\n",
        "<td style='text-align: right'>8868</td>\r\n",
        "<td style='text-align: right'>8205</td>\r\n",
        "<td style='text-align: right'>8608</td>\r\n",
        "</tr>\r\n",
        "<tr>\r\n",
        "<td>n_snps_noncoding</td>\r\n",
        "<td style='text-align: right'>6520</td>\r\n",
        "<td style='text-align: right'>6187</td>\r\n",
        "<td style='text-align: right'>6277</td>\r\n",
        "</tr>\r\n",
        "<tr>\r\n",
        "<td>ratio_snp_indel_coding</td>\r\n",
        "<td style='text-align: right'>2.15976619581</td>\r\n",
        "<td style='text-align: right'>2.19914232109</td>\r\n",
        "<td style='text-align: right'>2.33976624083</td>\r\n",
        "</tr>\r\n",
        "<tr>\r\n",
        "<td>ratio_snp_indel_noncoding</td>\r\n",
        "<td style='text-align: right'>0.288584959943</td>\r\n",
        "<td style='text-align: right'>0.378456080254</td>\r\n",
        "<td style='text-align: right'>0.350729172487</td>\r\n",
        "</tr>\r\n",
        "</tbody>\r\n",
        "</table>\r\n"
       ],
       "metadata": {},
       "output_type": "display_data"
      }
     ],
     "prompt_number": 36
    },
    {
     "cell_type": "heading",
     "level": 2,
     "metadata": {},
     "source": [
      "Nucleotide and indel diversity"
     ]
    },
    {
     "cell_type": "code",
     "collapsed": false,
     "input": [],
     "language": "python",
     "metadata": {},
     "outputs": []
    }
   ],
   "metadata": {}
  }
 ]
}