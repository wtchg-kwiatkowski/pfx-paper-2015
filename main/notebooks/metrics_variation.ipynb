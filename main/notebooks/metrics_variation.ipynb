{
 "cells": [
  {
   "cell_type": "markdown",
   "metadata": {},
   "source": [
    "# Metrics: variation"
   ]
  },
  {
   "cell_type": "code",
   "execution_count": 1,
   "metadata": {
    "collapsed": false
   },
   "outputs": [
    {
     "name": "stdout",
     "output_type": "stream",
     "text": [
      "The Cython magic has been move to the Cython package, hence \n",
      "`%load_ext cythonmagic` is deprecated; Please use `%load_ext Cython` instead.\n",
      "\n",
      "Though, because I am nice, I'll still try to load it for you this time.\n"
     ]
    }
   ],
   "source": [
    "%run ../../shared_setup.ipynb"
   ]
  },
  {
   "cell_type": "code",
   "execution_count": 2,
   "metadata": {
    "collapsed": false
   },
   "outputs": [
    {
     "name": "stderr",
     "output_type": "stream",
     "text": [
      "2015-04-02 21:39:10.175159 :: loading /data/plasmodium/pfalciparum/pf-crosses/data/public/20141022/3d7_hb3.combined.final.npz\n",
      "2015-04-02 21:39:10.442290 :: filter variants: excluding 157 (0.4%) retaining 42087 (99.6%) of 42244 variants\n",
      "2015-04-02 21:39:10.469674 :: loading /data/plasmodium/pfalciparum/pf-crosses/data/public/20141022/hb3_dd2.combined.final.npz\n",
      "2015-04-02 21:39:10.816443 :: filter variants: excluding 450 (1.2%) retaining 36461 (98.8%) of 36911 variants\n",
      "2015-04-02 21:39:10.839421 :: loading /data/plasmodium/pfalciparum/pf-crosses/data/public/20141022/7g8_gb4.combined.final.npz\n",
      "2015-04-02 21:39:11.182208 :: filter variants: excluding 304 (0.9%) retaining 34471 (99.1%) of 34775 variants\n"
     ]
    }
   ],
   "source": [
    "# load PASS variants for all three crosses\n",
    "callsets = load_callsets(COMBINED_CALLSET_FN_TEMPLATE, \n",
    "                         variant_filter='FILTER_PASS')"
   ]
  },
  {
   "cell_type": "markdown",
   "metadata": {},
   "source": [
    "## No. of independent progeny clones"
   ]
  },
  {
   "cell_type": "code",
   "execution_count": 3,
   "metadata": {
    "collapsed": false
   },
   "outputs": [
    {
     "name": "stdout",
     "output_type": "stream",
     "text": [
      "3d7_hb3 15\n",
      "hb3_dd2 35\n",
      "7g8_gb4 28\n"
     ]
    }
   ],
   "source": [
    "for cross in CROSSES:\n",
    "    samples = callsets[cross]['calldata'].dtype.names\n",
    "    progeny = samples[2:]\n",
    "    progeny_clones = set([p.split('/')[0] for p in progeny])\n",
    "    print(cross, len(progeny_clones))"
   ]
  },
  {
   "cell_type": "markdown",
   "metadata": {},
   "source": [
    "## Coverage"
   ]
  },
  {
   "cell_type": "code",
   "execution_count": 4,
   "metadata": {
    "collapsed": false
   },
   "outputs": [
    {
     "data": {
      "text/html": [
       "<table class='petl'>\n",
       "<thead>\n",
       "<tr>\n",
       "<th>0|cross</th>\n",
       "<th>1|clone</th>\n",
       "<th>2|sample</th>\n",
       "<th>3|run</th>\n",
       "<th>4|instrument</th>\n",
       "<th>5|coverage</th>\n",
       "</tr>\n",
       "</thead>\n",
       "<tbody>\n",
       "<tr>\n",
       "<td>3d7_hb3</td>\n",
       "<td>3D7</td>\n",
       "<td>PG0051-C</td>\n",
       "<td>ERR019061</td>\n",
       "<td>Illumina Genome Analyzer II</td>\n",
       "<td style='text-align: right'>122</td>\n",
       "</tr>\n",
       "<tr>\n",
       "<td>3d7_hb3</td>\n",
       "<td>C01</td>\n",
       "<td>PG0065-C</td>\n",
       "<td>ERR019064</td>\n",
       "<td>Illumina Genome Analyzer II</td>\n",
       "<td style='text-align: right'>163</td>\n",
       "</tr>\n",
       "<tr>\n",
       "<td>3d7_hb3</td>\n",
       "<td>C01</td>\n",
       "<td>PG0062-C</td>\n",
       "<td>ERR019070</td>\n",
       "<td>Illumina Genome Analyzer II</td>\n",
       "<td style='text-align: right'>108</td>\n",
       "</tr>\n",
       "<tr>\n",
       "<td>3d7_hb3</td>\n",
       "<td>C02</td>\n",
       "<td>PG0055-C</td>\n",
       "<td>ERR019066</td>\n",
       "<td>Illumina Genome Analyzer II</td>\n",
       "<td style='text-align: right'>102</td>\n",
       "</tr>\n",
       "<tr>\n",
       "<td>3d7_hb3</td>\n",
       "<td>C02</td>\n",
       "<td>PG0053-C</td>\n",
       "<td>ERR019067</td>\n",
       "<td>Illumina Genome Analyzer II</td>\n",
       "<td style='text-align: right'>73</td>\n",
       "</tr>\n",
       "</tbody>\n",
       "</table>\n",
       "<p><strong>...</strong></p>"
      ],
      "text/plain": [
       "+-----------+-------+------------+-------------+-------------------------------+----------+\n",
       "| cross     | clone | sample     | run         | instrument                    | coverage |\n",
       "+===========+=======+============+=============+===============================+==========+\n",
       "| '3d7_hb3' | '3D7' | 'PG0051-C' | 'ERR019061' | 'Illumina Genome Analyzer II' |      122 |\n",
       "+-----------+-------+------------+-------------+-------------------------------+----------+\n",
       "| '3d7_hb3' | 'C01' | 'PG0065-C' | 'ERR019064' | 'Illumina Genome Analyzer II' |      163 |\n",
       "+-----------+-------+------------+-------------+-------------------------------+----------+\n",
       "| '3d7_hb3' | 'C01' | 'PG0062-C' | 'ERR019070' | 'Illumina Genome Analyzer II' |      108 |\n",
       "+-----------+-------+------------+-------------+-------------------------------+----------+\n",
       "| '3d7_hb3' | 'C02' | 'PG0055-C' | 'ERR019066' | 'Illumina Genome Analyzer II' |      102 |\n",
       "+-----------+-------+------------+-------------+-------------------------------+----------+\n",
       "| '3d7_hb3' | 'C02' | 'PG0053-C' | 'ERR019067' | 'Illumina Genome Analyzer II' |       73 |\n",
       "+-----------+-------+------------+-------------+-------------------------------+----------+\n",
       "..."
      ]
     },
     "execution_count": 4,
     "metadata": {},
     "output_type": "execute_result"
    }
   ],
   "source": [
    "tbl_samples = (etl\n",
    "    .fromtsv(os.path.join(PUBLIC_DIR, 'samples.txt'))\n",
    "    .convert('coverage', lambda v: int(v[:-1]))\n",
    ")\n",
    "tbl_samples"
   ]
  },
  {
   "cell_type": "code",
   "execution_count": 5,
   "metadata": {
    "collapsed": false
   },
   "outputs": [
    {
     "data": {
      "text/html": [
       "<table class='petl'>\n",
       "<thead>\n",
       "<tr>\n",
       "<th>0|cross</th>\n",
       "<th>1|count</th>\n",
       "<th>2|frequency</th>\n",
       "</tr>\n",
       "</thead>\n",
       "<tbody>\n",
       "<tr>\n",
       "<td>7g8_gb4</td>\n",
       "<td style='text-align: right'>40</td>\n",
       "<td style='text-align: right'>0.40816326530612246</td>\n",
       "</tr>\n",
       "<tr>\n",
       "<td>hb3_dd2</td>\n",
       "<td style='text-align: right'>37</td>\n",
       "<td style='text-align: right'>0.37755102040816324</td>\n",
       "</tr>\n",
       "<tr>\n",
       "<td>3d7_hb3</td>\n",
       "<td style='text-align: right'>21</td>\n",
       "<td style='text-align: right'>0.21428571428571427</td>\n",
       "</tr>\n",
       "</tbody>\n",
       "</table>\n"
      ],
      "text/plain": [
       "+-----------+-------+---------------------+\n",
       "| cross     | count | frequency           |\n",
       "+===========+=======+=====================+\n",
       "| '7g8_gb4' |    40 | 0.40816326530612246 |\n",
       "+-----------+-------+---------------------+\n",
       "| 'hb3_dd2' |    37 | 0.37755102040816324 |\n",
       "+-----------+-------+---------------------+\n",
       "| '3d7_hb3' |    21 | 0.21428571428571427 |\n",
       "+-----------+-------+---------------------+"
      ]
     },
     "execution_count": 5,
     "metadata": {},
     "output_type": "execute_result"
    }
   ],
   "source": [
    "tbl_samples.valuecounts('cross')"
   ]
  },
  {
   "cell_type": "code",
   "execution_count": 6,
   "metadata": {
    "collapsed": false
   },
   "outputs": [
    {
     "data": {
      "text/plain": [
       "cross\n",
       "3d7_hb3    102.0\n",
       "7g8_gb4    106.5\n",
       "hb3_dd2    110.0\n",
       "Name: coverage, dtype: float64"
      ]
     },
     "execution_count": 6,
     "metadata": {},
     "output_type": "execute_result"
    }
   ],
   "source": [
    "df_samples = tbl_samples.todataframe()\n",
    "df_samples.groupby('cross').coverage.median()"
   ]
  },
  {
   "cell_type": "code",
   "execution_count": 7,
   "metadata": {
    "collapsed": false
   },
   "outputs": [
    {
     "data": {
      "text/plain": [
       "cross\n",
       "3d7_hb3    41\n",
       "7g8_gb4    55\n",
       "hb3_dd2    22\n",
       "Name: coverage, dtype: int64"
      ]
     },
     "execution_count": 7,
     "metadata": {},
     "output_type": "execute_result"
    }
   ],
   "source": [
    "df_samples.groupby('cross').coverage.min()"
   ]
  },
  {
   "cell_type": "code",
   "execution_count": 8,
   "metadata": {
    "collapsed": false
   },
   "outputs": [
    {
     "data": {
      "text/plain": [
       "cross\n",
       "3d7_hb3    173\n",
       "7g8_gb4    250\n",
       "hb3_dd2    637\n",
       "Name: coverage, dtype: int64"
      ]
     },
     "execution_count": 8,
     "metadata": {},
     "output_type": "execute_result"
    }
   ],
   "source": [
    "df_samples.groupby('cross').coverage.max()"
   ]
  },
  {
   "cell_type": "code",
   "execution_count": 9,
   "metadata": {
    "collapsed": false
   },
   "outputs": [
    {
     "data": {
      "text/html": [
       "<table class='petl'>\n",
       "<thead>\n",
       "<tr>\n",
       "<th>0|cross</th>\n",
       "<th>1|median</th>\n",
       "<th>2|min</th>\n",
       "<th>3|max</th>\n",
       "</tr>\n",
       "</thead>\n",
       "<tbody>\n",
       "<tr>\n",
       "<td>3d7_hb3</td>\n",
       "<td style='text-align: right'>102.0</td>\n",
       "<td style='text-align: right'>41</td>\n",
       "<td style='text-align: right'>173</td>\n",
       "</tr>\n",
       "<tr>\n",
       "<td>7g8_gb4</td>\n",
       "<td style='text-align: right'>106.5</td>\n",
       "<td style='text-align: right'>55</td>\n",
       "<td style='text-align: right'>250</td>\n",
       "</tr>\n",
       "<tr>\n",
       "<td>hb3_dd2</td>\n",
       "<td style='text-align: right'>110.0</td>\n",
       "<td style='text-align: right'>22</td>\n",
       "<td style='text-align: right'>637</td>\n",
       "</tr>\n",
       "</tbody>\n",
       "</table>\n"
      ],
      "text/plain": [
       "+-----------+--------+-----+-----+\n",
       "| cross     | median | min | max |\n",
       "+===========+========+=====+=====+\n",
       "| '3d7_hb3' |  102.0 |  41 | 173 |\n",
       "+-----------+--------+-----+-----+\n",
       "| '7g8_gb4' |  106.5 |  55 | 250 |\n",
       "+-----------+--------+-----+-----+\n",
       "| 'hb3_dd2' |  110.0 |  22 | 637 |\n",
       "+-----------+--------+-----+-----+"
      ]
     },
     "execution_count": 9,
     "metadata": {},
     "output_type": "execute_result"
    }
   ],
   "source": [
    "tbl_samples.aggregate('cross', [('median', 'coverage', lambda g: np.median(list(g))),\n",
    "                                ('min', 'coverage', min),\n",
    "                                ('max', 'coverage', max)])"
   ]
  },
  {
   "cell_type": "markdown",
   "metadata": {},
   "source": [
    "## Count SNPs and INDELs"
   ]
  },
  {
   "cell_type": "code",
   "execution_count": 10,
   "metadata": {
    "collapsed": false
   },
   "outputs": [
    {
     "name": "stderr",
     "output_type": "stream",
     "text": [
      "2015-04-02 21:39:11.324651 :: filter variants: excluding 26699 (63.4%) retaining 15388 (36.6%) of 42087 variants\n",
      "2015-04-02 21:39:11.331757 :: filter variants: excluding 15388 (36.6%) retaining 26699 (63.4%) of 42087 variants\n",
      "2015-04-02 21:39:11.346932 :: filter variants: excluding 33219 (78.9%) retaining 8868 (21.1%) of 42087 variants\n",
      "2015-04-02 21:39:11.352374 :: filter variants: excluding 35567 (84.5%) retaining 6520 (15.5%) of 42087 variants\n",
      "2015-04-02 21:39:11.357002 :: filter variants: excluding 37981 (90.2%) retaining 4106 (9.8%) of 42087 variants\n",
      "2015-04-02 21:39:11.362243 :: filter variants: excluding 19494 (46.3%) retaining 22593 (53.7%) of 42087 variants\n",
      "2015-04-02 21:39:11.371268 :: filter variants: excluding 21576 (59.2%) retaining 14885 (40.8%) of 36461 variants\n",
      "2015-04-02 21:39:11.380708 :: filter variants: excluding 14885 (40.8%) retaining 21576 (59.2%) of 36461 variants\n",
      "2015-04-02 21:39:11.396338 :: filter variants: excluding 27853 (76.4%) retaining 8608 (23.6%) of 36461 variants\n",
      "2015-04-02 21:39:11.403581 :: filter variants: excluding 30184 (82.8%) retaining 6277 (17.2%) of 36461 variants\n",
      "2015-04-02 21:39:11.409216 :: filter variants: excluding 32782 (89.9%) retaining 3679 (10.1%) of 36461 variants\n",
      "2015-04-02 21:39:11.413792 :: filter variants: excluding 18564 (50.9%) retaining 17897 (49.1%) of 36461 variants\n",
      "2015-04-02 21:39:11.427683 :: filter variants: excluding 20079 (58.2%) retaining 14392 (41.8%) of 34471 variants\n",
      "2015-04-02 21:39:11.438983 :: filter variants: excluding 14392 (41.8%) retaining 20079 (58.2%) of 34471 variants\n",
      "2015-04-02 21:39:11.453829 :: filter variants: excluding 26266 (76.2%) retaining 8205 (23.8%) of 34471 variants\n",
      "2015-04-02 21:39:11.461598 :: filter variants: excluding 28284 (82.1%) retaining 6187 (17.9%) of 34471 variants\n",
      "2015-04-02 21:39:11.468382 :: filter variants: excluding 30740 (89.2%) retaining 3731 (10.8%) of 34471 variants\n",
      "2015-04-02 21:39:11.472647 :: filter variants: excluding 18123 (52.6%) retaining 16348 (47.4%) of 34471 variants\n",
      "2015-04-02 21:39:11.486631 :: filter variants: excluding 26699 (63.4%) retaining 15388 (36.6%) of 42087 variants\n",
      "2015-04-02 21:39:11.495011 :: filter variants: excluding 15388 (36.6%) retaining 26699 (63.4%) of 42087 variants\n",
      "2015-04-02 21:39:11.506932 :: filter variants: excluding 33219 (78.9%) retaining 8868 (21.1%) of 42087 variants\n",
      "2015-04-02 21:39:11.513257 :: filter variants: excluding 35567 (84.5%) retaining 6520 (15.5%) of 42087 variants\n",
      "2015-04-02 21:39:11.518616 :: filter variants: excluding 37981 (90.2%) retaining 4106 (9.8%) of 42087 variants\n",
      "2015-04-02 21:39:11.523985 :: filter variants: excluding 19494 (46.3%) retaining 22593 (53.7%) of 42087 variants\n",
      "2015-04-02 21:39:11.535828 :: filter variants: excluding 21576 (59.2%) retaining 14885 (40.8%) of 36461 variants\n",
      "2015-04-02 21:39:11.547825 :: filter variants: excluding 14885 (40.8%) retaining 21576 (59.2%) of 36461 variants\n",
      "2015-04-02 21:39:11.562670 :: filter variants: excluding 27853 (76.4%) retaining 8608 (23.6%) of 36461 variants\n",
      "2015-04-02 21:39:11.569534 :: filter variants: excluding 30184 (82.8%) retaining 6277 (17.2%) of 36461 variants\n",
      "2015-04-02 21:39:11.577219 :: filter variants: excluding 32782 (89.9%) retaining 3679 (10.1%) of 36461 variants\n",
      "2015-04-02 21:39:11.581688 :: filter variants: excluding 18564 (50.9%) retaining 17897 (49.1%) of 36461 variants\n",
      "2015-04-02 21:39:11.592799 :: filter variants: excluding 20079 (58.2%) retaining 14392 (41.8%) of 34471 variants\n",
      "2015-04-02 21:39:11.605123 :: filter variants: excluding 14392 (41.8%) retaining 20079 (58.2%) of 34471 variants\n",
      "2015-04-02 21:39:11.620808 :: filter variants: excluding 26266 (76.2%) retaining 8205 (23.8%) of 34471 variants\n",
      "2015-04-02 21:39:11.630579 :: filter variants: excluding 28284 (82.1%) retaining 6187 (17.9%) of 34471 variants\n",
      "2015-04-02 21:39:11.636658 :: filter variants: excluding 30740 (89.2%) retaining 3731 (10.8%) of 34471 variants\n",
      "2015-04-02 21:39:11.642262 :: filter variants: excluding 18123 (52.6%) retaining 16348 (47.4%) of 34471 variants\n"
     ]
    },
    {
     "data": {
      "text/html": [
       "<table class='petl'>\n",
       "<thead>\n",
       "<tr>\n",
       "<th>0|variable</th>\n",
       "<th>1|3d7_hb3</th>\n",
       "<th>2|7g8_gb4</th>\n",
       "<th>3|hb3_dd2</th>\n",
       "</tr>\n",
       "</thead>\n",
       "<tbody>\n",
       "<tr>\n",
       "<td>n_indels</td>\n",
       "<td style='text-align: right'>26699</td>\n",
       "<td style='text-align: right'>20079</td>\n",
       "<td style='text-align: right'>21576</td>\n",
       "</tr>\n",
       "<tr>\n",
       "<td>n_indels_coding</td>\n",
       "<td style='text-align: right'>4106</td>\n",
       "<td style='text-align: right'>3731</td>\n",
       "<td style='text-align: right'>3679</td>\n",
       "</tr>\n",
       "<tr>\n",
       "<td>n_indels_noncoding</td>\n",
       "<td style='text-align: right'>22593</td>\n",
       "<td style='text-align: right'>16348</td>\n",
       "<td style='text-align: right'>17897</td>\n",
       "</tr>\n",
       "<tr>\n",
       "<td>n_snps</td>\n",
       "<td style='text-align: right'>15388</td>\n",
       "<td style='text-align: right'>14392</td>\n",
       "<td style='text-align: right'>14885</td>\n",
       "</tr>\n",
       "<tr>\n",
       "<td>n_snps_coding</td>\n",
       "<td style='text-align: right'>8868</td>\n",
       "<td style='text-align: right'>8205</td>\n",
       "<td style='text-align: right'>8608</td>\n",
       "</tr>\n",
       "<tr>\n",
       "<td>n_snps_noncoding</td>\n",
       "<td style='text-align: right'>6520</td>\n",
       "<td style='text-align: right'>6187</td>\n",
       "<td style='text-align: right'>6277</td>\n",
       "</tr>\n",
       "<tr>\n",
       "<td>ratio_snp_indel_coding</td>\n",
       "<td style='text-align: right'>2.159766195811008</td>\n",
       "<td style='text-align: right'>2.199142321093541</td>\n",
       "<td style='text-align: right'>2.3397662408263113</td>\n",
       "</tr>\n",
       "<tr>\n",
       "<td>ratio_snp_indel_noncoding</td>\n",
       "<td style='text-align: right'>0.28858495994334527</td>\n",
       "<td style='text-align: right'>0.37845608025446537</td>\n",
       "<td style='text-align: right'>0.350729172487009</td>\n",
       "</tr>\n",
       "</tbody>\n",
       "</table>\n"
      ]
     },
     "metadata": {},
     "output_type": "display_data"
    }
   ],
   "source": [
    "def count_variants(query):\n",
    "    def f(row):\n",
    "        callset = filter_variants(callsets[row.cross], query=query)\n",
    "        return callset['variants'].size\n",
    "    return f\n",
    "        \n",
    "\n",
    "tbl_variation = (etl\n",
    "    .wrap([['cross']] + [[cross] for cross in CROSSES])\n",
    "    .addfield('n_snps', count_variants('is_snp'))\n",
    "    .addfield('n_indels', count_variants('~is_snp'))\n",
    "    .addfield('n_snps_coding', count_variants('is_snp & (CDSAnnotationID != b\".\")'))\n",
    "    .addfield('n_snps_noncoding', count_variants('is_snp & (CDSAnnotationID == b\".\")'))\n",
    "    .addfield('n_indels_coding', count_variants('~is_snp & (CDSAnnotationID != b\".\")'))\n",
    "    .addfield('n_indels_noncoding', count_variants('~is_snp & (CDSAnnotationID == b\".\")'))\n",
    "    .addfield('ratio_snp_indel_coding', lambda row: row.n_snps_coding / row.n_indels_coding)\n",
    "    .addfield('ratio_snp_indel_noncoding', lambda row: row.n_snps_noncoding / row.n_indels_noncoding)\n",
    "    .melt(key='cross')\n",
    "    .recast(variablefield='cross', valuefield='value')\n",
    ")\n",
    "tbl_variation.displayall()"
   ]
  },
  {
   "cell_type": "markdown",
   "metadata": {},
   "source": [
    "## Nucleotide and indel diversity"
   ]
  },
  {
   "cell_type": "code",
   "execution_count": null,
   "metadata": {
    "collapsed": false
   },
   "outputs": [],
   "source": []
  }
 ],
 "metadata": {
  "kernelspec": {
   "display_name": "Python 3",
   "language": "python",
   "name": "python3"
  },
  "language_info": {
   "codemirror_mode": {
    "name": "ipython",
    "version": 3
   },
   "file_extension": ".py",
   "mimetype": "text/x-python",
   "name": "python",
   "nbconvert_exporter": "python",
   "pygments_lexer": "ipython3",
   "version": "3.4.2"
  }
 },
 "nbformat": 4,
 "nbformat_minor": 0
}
