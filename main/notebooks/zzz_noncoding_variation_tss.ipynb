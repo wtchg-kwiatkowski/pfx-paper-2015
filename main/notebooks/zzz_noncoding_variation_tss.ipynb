{
 "metadata": {
  "name": "",
  "signature": "sha256:c3c47df799794dc07b77c3bebf6de0a441f9f0fcd717dafdc4e95a89151458c0"
 },
 "nbformat": 3,
 "nbformat_minor": 0,
 "worksheets": [
  {
   "cells": [
    {
     "cell_type": "heading",
     "level": 1,
     "metadata": {},
     "source": [
      "Exploration of variation in relation to transcription start sites (TSSs)"
     ]
    },
    {
     "cell_type": "code",
     "collapsed": false,
     "input": [
      "from __future__ import division, print_function\n",
      "%run _shared_setup.ipynb\n",
      "%run _plotting_setup.ipynb"
     ],
     "language": "python",
     "metadata": {},
     "outputs": [],
     "prompt_number": 1
    },
    {
     "cell_type": "heading",
     "level": 2,
     "metadata": {},
     "source": [
      "Prepare data on TSSs"
     ]
    },
    {
     "cell_type": "code",
     "collapsed": false,
     "input": [
      "tbl_tss = (etl\n",
      "    .fromxls('../../../data/reference/ponts_2011/NIHMS400242-supplement-SuppTS2.xls')\n",
      "    .skip(2)\n",
      "    .setheader(['gene', 'description', 'chrom', 'pos', 'strand'])\n",
      "    .convert('chrom', lambda v: 'Pf3D7_%02d' % v)\n",
      "    .convert('pos', int)\n",
      "    .convert('strand', lambda v: '+' if v > 0 else '-')\n",
      "    .cut('chrom', 'pos', 'strand', 'gene')\n",
      ")\n",
      "tbl_tss.display(caption='TSS (Ponts et al. 2011, supplementary table S2)')"
     ],
     "language": "python",
     "metadata": {},
     "outputs": [
      {
       "html": [
        "<table class='petl'>\r\n",
        "<caption>TSS (Ponts et al. 2011, supplementary table S2)</caption>\r\n",
        "<thead>\r\n",
        "<tr>\r\n",
        "<th>0|chrom</th>\r\n",
        "<th>1|pos</th>\r\n",
        "<th>2|strand</th>\r\n",
        "<th>3|gene</th>\r\n",
        "</tr>\r\n",
        "</thead>\r\n",
        "<tbody>\r\n",
        "<tr>\r\n",
        "<td>Pf3D7_01</td>\r\n",
        "<td style='text-align: right'>67555</td>\r\n",
        "<td>-</td>\r\n",
        "<td>PFA0050c</td>\r\n",
        "</tr>\r\n",
        "<tr>\r\n",
        "<td>Pf3D7_01</td>\r\n",
        "<td style='text-align: right'>98636</td>\r\n",
        "<td>+</td>\r\n",
        "<td>PFA0110w</td>\r\n",
        "</tr>\r\n",
        "<tr>\r\n",
        "<td>Pf3D7_01</td>\r\n",
        "<td style='text-align: right'>104567</td>\r\n",
        "<td>+</td>\r\n",
        "<td>PFA0115w</td>\r\n",
        "</tr>\r\n",
        "<tr>\r\n",
        "<td>Pf3D7_01</td>\r\n",
        "<td style='text-align: right'>109992</td>\r\n",
        "<td>-</td>\r\n",
        "<td>PFA0120c</td>\r\n",
        "</tr>\r\n",
        "<tr>\r\n",
        "<td>Pf3D7_01</td>\r\n",
        "<td style='text-align: right'>117026</td>\r\n",
        "<td>-</td>\r\n",
        "<td>PFA0125c</td>\r\n",
        "</tr>\r\n",
        "</tbody>\r\n",
        "</table>\r\n",
        "<p><strong>...</strong></p>"
       ],
       "metadata": {},
       "output_type": "display_data"
      }
     ],
     "prompt_number": 2
    },
    {
     "cell_type": "markdown",
     "metadata": {},
     "source": [
      "N.B., need to lift over to Pf3D7 version 3 coordinates."
     ]
    },
    {
     "cell_type": "code",
     "collapsed": false,
     "input": [
      "tss_v2_coords_fn = '../../../data/reference/ponts_2011/tss_v2_coords.bed'\n",
      "tss_v3_coords_fn = '../../../data/reference/ponts_2011/tss_v3_coords.bed'\n",
      "\n",
      "if not os.path.exists(tss_v3_coords_fn):\n",
      "\n",
      "    tbl_tss.cut(0, 1, 1, 2, 3).convert(2, lambda v: v+1).data().totsv(tss_v2_coords_fn)\n",
      "#     !head {tss_v2_coords_fn}\n",
      "\n",
      "    liftover = sh.Command('../../../opt/liftover/liftOver')\n",
      "    chain_2to3 = '/data/plasmodium/pfalciparum/pf-crosses/opt/liftover/2to3.liftOver'\n",
      "    liftover(tss_v2_coords_fn, chain_2to3, tss_v3_coords_fn, tss_v3_coords_fn + '.unmapped')\n",
      "#     !head {tss_v3_coords_fn}\n",
      "#     !head {tss_v3_coords_fn}.unmapped\n",
      "\n",
      "tbl_tss_v3 = (etl\n",
      "    .fromtsv(tss_v3_coords_fn)\n",
      "    .cut(0, 1, 3, 4)\n",
      "    .pushheader(['chrom', 'pos', 'strand', 'gene'])\n",
      "    .convert('pos', int)\n",
      "    .sort(key=('chrom', 'pos'))\n",
      ")\n",
      "tbl_tss_v3"
     ],
     "language": "python",
     "metadata": {},
     "outputs": [
      {
       "html": [
        "<table class='petl'>\r\n",
        "<thead>\r\n",
        "<tr>\r\n",
        "<th>0|chrom</th>\r\n",
        "<th>1|pos</th>\r\n",
        "<th>2|strand</th>\r\n",
        "<th>3|gene</th>\r\n",
        "</tr>\r\n",
        "</thead>\r\n",
        "<tbody>\r\n",
        "<tr>\r\n",
        "<td>Pf3D7_01_v3</td>\r\n",
        "<td style='text-align: right'>67322</td>\r\n",
        "<td>-</td>\r\n",
        "<td>PFA0050c</td>\r\n",
        "</tr>\r\n",
        "<tr>\r\n",
        "<td>Pf3D7_01_v3</td>\r\n",
        "<td style='text-align: right'>98403</td>\r\n",
        "<td>+</td>\r\n",
        "<td>PFA0110w</td>\r\n",
        "</tr>\r\n",
        "<tr>\r\n",
        "<td>Pf3D7_01_v3</td>\r\n",
        "<td style='text-align: right'>104334</td>\r\n",
        "<td>+</td>\r\n",
        "<td>PFA0115w</td>\r\n",
        "</tr>\r\n",
        "<tr>\r\n",
        "<td>Pf3D7_01_v3</td>\r\n",
        "<td style='text-align: right'>109759</td>\r\n",
        "<td>-</td>\r\n",
        "<td>PFA0120c</td>\r\n",
        "</tr>\r\n",
        "<tr>\r\n",
        "<td>Pf3D7_01_v3</td>\r\n",
        "<td style='text-align: right'>116792</td>\r\n",
        "<td>-</td>\r\n",
        "<td>PFA0125c</td>\r\n",
        "</tr>\r\n",
        "</tbody>\r\n",
        "</table>\r\n",
        "<p><strong>...</strong></p>"
       ],
       "metadata": {},
       "output_type": "pyout",
       "prompt_number": 3,
       "text": [
        "+---------------+---------+------------+------------+\n",
        "| '0|chrom'     | '1|pos' | '2|strand' | '3|gene'   |\n",
        "+===============+=========+============+============+\n",
        "| 'Pf3D7_01_v3' |   67322 | '-'        | 'PFA0050c' |\n",
        "+---------------+---------+------------+------------+\n",
        "| 'Pf3D7_01_v3' |   98403 | '+'        | 'PFA0110w' |\n",
        "+---------------+---------+------------+------------+\n",
        "| 'Pf3D7_01_v3' |  104334 | '+'        | 'PFA0115w' |\n",
        "+---------------+---------+------------+------------+\n",
        "| 'Pf3D7_01_v3' |  109759 | '-'        | 'PFA0120c' |\n",
        "+---------------+---------+------------+------------+\n",
        "| 'Pf3D7_01_v3' |  116792 | '-'        | 'PFA0125c' |\n",
        "+---------------+---------+------------+------------+"
       ]
      }
     ],
     "prompt_number": 3
    },
    {
     "cell_type": "code",
     "collapsed": false,
     "input": [
      "tbl_tss_v3.nrows()"
     ],
     "language": "python",
     "metadata": {},
     "outputs": [
      {
       "metadata": {},
       "output_type": "pyout",
       "prompt_number": 42,
       "text": [
        "2854"
       ]
      }
     ],
     "prompt_number": 42
    },
    {
     "cell_type": "code",
     "collapsed": false,
     "input": [
      "# build interval trees from the transcription start sites so we can find nearest\n",
      "tss_trees = (\n",
      "    tbl_tss_v3\n",
      "    # need start and end fields, make them the same\n",
      "    .rename('pos', 'start')\n",
      "    .addfield('end', lambda v: v.start)\n",
      "    .recordtrees('chrom', 'start', 'end')\n",
      ")\n",
      "tss_trees"
     ],
     "language": "python",
     "metadata": {},
     "outputs": [
      {
       "metadata": {},
       "output_type": "pyout",
       "prompt_number": 4,
       "text": [
        "{'Pf3D7_01_v3': <bx.intervals.intersection.IntervalTree at 0x7f92d8455398>,\n",
        " 'Pf3D7_02_v3': <bx.intervals.intersection.IntervalTree at 0x7f92d84553d0>,\n",
        " 'Pf3D7_03_v3': <bx.intervals.intersection.IntervalTree at 0x7f92dc64ff30>,\n",
        " 'Pf3D7_04_v3': <bx.intervals.intersection.IntervalTree at 0x7f92d8455408>,\n",
        " 'Pf3D7_05_v3': <bx.intervals.intersection.IntervalTree at 0x7f92d8455440>,\n",
        " 'Pf3D7_06_v3': <bx.intervals.intersection.IntervalTree at 0x7f92d8455478>,\n",
        " 'Pf3D7_07_v3': <bx.intervals.intersection.IntervalTree at 0x7f92d84554e8>,\n",
        " 'Pf3D7_08_v3': <bx.intervals.intersection.IntervalTree at 0x7f92d84554b0>,\n",
        " 'Pf3D7_09_v3': <bx.intervals.intersection.IntervalTree at 0x7f92d8455520>,\n",
        " 'Pf3D7_10_v3': <bx.intervals.intersection.IntervalTree at 0x7f92d8455558>,\n",
        " 'Pf3D7_11_v3': <bx.intervals.intersection.IntervalTree at 0x7f92d8455590>,\n",
        " 'Pf3D7_12_v3': <bx.intervals.intersection.IntervalTree at 0x7f92d84555c8>,\n",
        " 'Pf3D7_13_v3': <bx.intervals.intersection.IntervalTree at 0x7f92d8455600>,\n",
        " 'Pf3D7_14_v3': <bx.intervals.intersection.IntervalTree at 0x7f92d8455638>}"
       ]
      }
     ],
     "prompt_number": 4
    },
    {
     "cell_type": "code",
     "collapsed": false,
     "input": [
      "# example of how to find nearest TSS\n",
      "tss_trees['Pf3D7_01_v3'].after(60000, max_dist=10000)"
     ],
     "language": "python",
     "metadata": {},
     "outputs": [
      {
       "metadata": {},
       "output_type": "pyout",
       "prompt_number": 5,
       "text": [
        "[('Pf3D7_01_v3', 67322, '-', 'PFA0050c', 67322)]"
       ]
      }
     ],
     "prompt_number": 5
    },
    {
     "cell_type": "heading",
     "level": 2,
     "metadata": {},
     "source": [
      "Prepare variation data relative to TSSs"
     ]
    },
    {
     "cell_type": "code",
     "collapsed": false,
     "input": [
      "# load callsets\n",
      "callsets = load_callsets(COMBINED_CALLSET_FN_TEMPLATE, variant_filter='FILTER_PASS')"
     ],
     "language": "python",
     "metadata": {},
     "outputs": [
      {
       "output_type": "stream",
       "stream": "stderr",
       "text": [
        "2014-11-04 11:41:04.616084 :: loading /home/aliman/src/github/malariagen/pf-crosses/data/public/20141022/3d7_hb3.combined.final.npz\n"
       ]
      },
      {
       "output_type": "stream",
       "stream": "stderr",
       "text": [
        "2014-11-04 11:41:04.617103 :: filter variants\n"
       ]
      },
      {
       "output_type": "stream",
       "stream": "stderr",
       "text": [
        "2014-11-04 11:41:05.198335 :: excluding 157 (0.4%) retaining 42087 (99.6%) of 42244 variants\n"
       ]
      },
      {
       "output_type": "stream",
       "stream": "stderr",
       "text": [
        "2014-11-04 11:41:05.221690 :: filter samples\n"
       ]
      },
      {
       "output_type": "stream",
       "stream": "stderr",
       "text": [
        "2014-11-04 11:41:05.222285 :: filter calls\n"
       ]
      },
      {
       "output_type": "stream",
       "stream": "stderr",
       "text": [
        "2014-11-04 11:41:05.222642 :: loading /home/aliman/src/github/malariagen/pf-crosses/data/public/20141022/hb3_dd2.combined.final.npz\n"
       ]
      },
      {
       "output_type": "stream",
       "stream": "stderr",
       "text": [
        "2014-11-04 11:41:05.274288 :: filter variants\n"
       ]
      },
      {
       "output_type": "stream",
       "stream": "stderr",
       "text": [
        "2014-11-04 11:41:05.710799 :: excluding 450 (1.2%) retaining 36461 (98.8%) of 36911 variants\n"
       ]
      },
      {
       "output_type": "stream",
       "stream": "stderr",
       "text": [
        "2014-11-04 11:41:05.729494 :: filter samples\n"
       ]
      },
      {
       "output_type": "stream",
       "stream": "stderr",
       "text": [
        "2014-11-04 11:41:05.729947 :: filter calls\n"
       ]
      },
      {
       "output_type": "stream",
       "stream": "stderr",
       "text": [
        "2014-11-04 11:41:05.730251 :: loading /home/aliman/src/github/malariagen/pf-crosses/data/public/20141022/7g8_gb4.combined.final.npz\n"
       ]
      },
      {
       "output_type": "stream",
       "stream": "stderr",
       "text": [
        "2014-11-04 11:41:05.741166 :: filter variants\n"
       ]
      },
      {
       "output_type": "stream",
       "stream": "stderr",
       "text": [
        "2014-11-04 11:41:06.132988 :: excluding 304 (0.9%) retaining 34471 (99.1%) of 34775 variants\n"
       ]
      },
      {
       "output_type": "stream",
       "stream": "stderr",
       "text": [
        "2014-11-04 11:41:06.153449 :: filter samples\n"
       ]
      },
      {
       "output_type": "stream",
       "stream": "stderr",
       "text": [
        "2014-11-04 11:41:06.153956 :: filter calls\n"
       ]
      }
     ],
     "prompt_number": 6
    },
    {
     "cell_type": "code",
     "collapsed": false,
     "input": [
      "def tabulate_intergenic_variants(cross, max_tss_dist=2000):\n",
      "    V, _, _ = unpack_callset(callsets[cross])\n",
      "    tbl_variants = (etl\n",
      "        .fromarray(V[['CHROM', 'POS', 'is_snp', 'svlen', 'STR', 'RU']])\n",
      "        .annex(etl\n",
      "            .fromarray(V['EFF'][['Effect']])\n",
      "        )\n",
      "        .eq('Effect', 'INTERGENIC')\n",
      "        .addfield('tss_before', lambda v: tss_trees[v.CHROM].before(v.POS, max_dist=max_tss_dist))\n",
      "        .addfield('tss_after', lambda v: tss_trees[v.CHROM].after(v.POS, max_dist=max_tss_dist))\n",
      "        .convert(('tss_before', 'tss_after'), lambda v: v[0] if v else tuple())\n",
      "        .addfield('tss_before_dist', lambda v: np.abs(v.tss_before.start - v.POS) if v.tss_before else max_tss_dist)\n",
      "        .addfield('tss_after_dist', lambda v: np.abs(v.tss_after.start - v.POS) if v.tss_after else max_tss_dist)\n",
      "        .addfield('tss', lambda v: v.tss_before if v.tss_before_dist < v.tss_after_dist else v.tss_after)\n",
      "        .cutout('tss_after', 'tss_before', 'tss_after_dist', 'tss_before_dist')\n",
      "        .unpack('tss', ['tss_chrom', 'tss_pos', 'tss_strand', 'tss_gene'])\n",
      "        .cutout('tss_chrom')\n",
      "        .addfield('tss_dist', lambda v: v.POS - v.tss_pos if v.tss_strand == '+' else v.tss_pos - v.POS if v.tss_strand == '-' else None)\n",
      "    )\n",
      "    return tbl_variants\n"
     ],
     "language": "python",
     "metadata": {},
     "outputs": [],
     "prompt_number": 11
    },
    {
     "cell_type": "code",
     "collapsed": false,
     "input": [
      "tabulate_intergenic_variants('3d7_hb3').display(20)"
     ],
     "language": "python",
     "metadata": {},
     "outputs": [
      {
       "html": [
        "<table class='petl'>\r\n",
        "<thead>\r\n",
        "<tr>\r\n",
        "<th>0|CHROM</th>\r\n",
        "<th>1|POS</th>\r\n",
        "<th>2|is_snp</th>\r\n",
        "<th>3|svlen</th>\r\n",
        "<th>4|STR</th>\r\n",
        "<th>5|RU</th>\r\n",
        "<th>6|Effect</th>\r\n",
        "<th>7|tss_pos</th>\r\n",
        "<th>8|tss_strand</th>\r\n",
        "<th>9|tss_gene</th>\r\n",
        "<th>10|tss_dist</th>\r\n",
        "</tr>\r\n",
        "</thead>\r\n",
        "<tbody>\r\n",
        "<tr>\r\n",
        "<td>Pf3D7_01_v3</td>\r\n",
        "<td>93901</td>\r\n",
        "<td>False</td>\r\n",
        "<td>[-10   0]</td>\r\n",
        "<td>True</td>\r\n",
        "<td>AT</td>\r\n",
        "<td>INTERGENIC</td>\r\n",
        "<td>None</td>\r\n",
        "<td>None</td>\r\n",
        "<td>None</td>\r\n",
        "<td>None</td>\r\n",
        "</tr>\r\n",
        "<tr>\r\n",
        "<td>Pf3D7_01_v3</td>\r\n",
        "<td>94590</td>\r\n",
        "<td>False</td>\r\n",
        "<td>[4 0]</td>\r\n",
        "<td>False</td>\r\n",
        "<td>.</td>\r\n",
        "<td>INTERGENIC</td>\r\n",
        "<td>None</td>\r\n",
        "<td>None</td>\r\n",
        "<td>None</td>\r\n",
        "<td>None</td>\r\n",
        "</tr>\r\n",
        "<tr>\r\n",
        "<td>Pf3D7_01_v3</td>\r\n",
        "<td>94993</td>\r\n",
        "<td>False</td>\r\n",
        "<td>[-6  0]</td>\r\n",
        "<td>True</td>\r\n",
        "<td>AT</td>\r\n",
        "<td>INTERGENIC</td>\r\n",
        "<td>None</td>\r\n",
        "<td>None</td>\r\n",
        "<td>None</td>\r\n",
        "<td>None</td>\r\n",
        "</tr>\r\n",
        "<tr>\r\n",
        "<td>Pf3D7_01_v3</td>\r\n",
        "<td>97296</td>\r\n",
        "<td>False</td>\r\n",
        "<td>[-2  0]</td>\r\n",
        "<td>True</td>\r\n",
        "<td>TA</td>\r\n",
        "<td>INTERGENIC</td>\r\n",
        "<td style='text-align: right'>98403</td>\r\n",
        "<td>+</td>\r\n",
        "<td>PFA0110w</td>\r\n",
        "<td style='text-align: right'>-1107</td>\r\n",
        "</tr>\r\n",
        "<tr>\r\n",
        "<td>Pf3D7_01_v3</td>\r\n",
        "<td>97825</td>\r\n",
        "<td>False</td>\r\n",
        "<td>[-1  0]</td>\r\n",
        "<td>True</td>\r\n",
        "<td>T</td>\r\n",
        "<td>INTERGENIC</td>\r\n",
        "<td style='text-align: right'>98403</td>\r\n",
        "<td>+</td>\r\n",
        "<td>PFA0110w</td>\r\n",
        "<td style='text-align: right'>-578</td>\r\n",
        "</tr>\r\n",
        "<tr>\r\n",
        "<td>Pf3D7_01_v3</td>\r\n",
        "<td>103196</td>\r\n",
        "<td>True</td>\r\n",
        "<td>[0 0]</td>\r\n",
        "<td>False</td>\r\n",
        "<td>.</td>\r\n",
        "<td>INTERGENIC</td>\r\n",
        "<td style='text-align: right'>104334</td>\r\n",
        "<td>+</td>\r\n",
        "<td>PFA0115w</td>\r\n",
        "<td style='text-align: right'>-1138</td>\r\n",
        "</tr>\r\n",
        "<tr>\r\n",
        "<td>Pf3D7_01_v3</td>\r\n",
        "<td>103413</td>\r\n",
        "<td>False</td>\r\n",
        "<td>[2 0]</td>\r\n",
        "<td>True</td>\r\n",
        "<td>AT</td>\r\n",
        "<td>INTERGENIC</td>\r\n",
        "<td style='text-align: right'>104334</td>\r\n",
        "<td>+</td>\r\n",
        "<td>PFA0115w</td>\r\n",
        "<td style='text-align: right'>-921</td>\r\n",
        "</tr>\r\n",
        "<tr>\r\n",
        "<td>Pf3D7_01_v3</td>\r\n",
        "<td>104116</td>\r\n",
        "<td>False</td>\r\n",
        "<td>[4 0]</td>\r\n",
        "<td>True</td>\r\n",
        "<td>AT</td>\r\n",
        "<td>INTERGENIC</td>\r\n",
        "<td style='text-align: right'>104334</td>\r\n",
        "<td>+</td>\r\n",
        "<td>PFA0115w</td>\r\n",
        "<td style='text-align: right'>-218</td>\r\n",
        "</tr>\r\n",
        "<tr>\r\n",
        "<td>Pf3D7_01_v3</td>\r\n",
        "<td>104408</td>\r\n",
        "<td>False</td>\r\n",
        "<td>[2 0]</td>\r\n",
        "<td>True</td>\r\n",
        "<td>AT</td>\r\n",
        "<td>INTERGENIC</td>\r\n",
        "<td style='text-align: right'>104334</td>\r\n",
        "<td>+</td>\r\n",
        "<td>PFA0115w</td>\r\n",
        "<td style='text-align: right'>74</td>\r\n",
        "</tr>\r\n",
        "<tr>\r\n",
        "<td>Pf3D7_01_v3</td>\r\n",
        "<td>104659</td>\r\n",
        "<td>False</td>\r\n",
        "<td>[-8  0]</td>\r\n",
        "<td>True</td>\r\n",
        "<td>AT</td>\r\n",
        "<td>INTERGENIC</td>\r\n",
        "<td style='text-align: right'>104334</td>\r\n",
        "<td>+</td>\r\n",
        "<td>PFA0115w</td>\r\n",
        "<td style='text-align: right'>325</td>\r\n",
        "</tr>\r\n",
        "<tr>\r\n",
        "<td>Pf3D7_01_v3</td>\r\n",
        "<td>105268</td>\r\n",
        "<td>False</td>\r\n",
        "<td>[2 0]</td>\r\n",
        "<td>True</td>\r\n",
        "<td>TA</td>\r\n",
        "<td>INTERGENIC</td>\r\n",
        "<td style='text-align: right'>104334</td>\r\n",
        "<td>+</td>\r\n",
        "<td>PFA0115w</td>\r\n",
        "<td style='text-align: right'>934</td>\r\n",
        "</tr>\r\n",
        "<tr>\r\n",
        "<td>Pf3D7_01_v3</td>\r\n",
        "<td>105501</td>\r\n",
        "<td>False</td>\r\n",
        "<td>[4 0]</td>\r\n",
        "<td>True</td>\r\n",
        "<td>TATT</td>\r\n",
        "<td>INTERGENIC</td>\r\n",
        "<td style='text-align: right'>104334</td>\r\n",
        "<td>+</td>\r\n",
        "<td>PFA0115w</td>\r\n",
        "<td style='text-align: right'>1167</td>\r\n",
        "</tr>\r\n",
        "<tr>\r\n",
        "<td>Pf3D7_01_v3</td>\r\n",
        "<td>105643</td>\r\n",
        "<td>False</td>\r\n",
        "<td>[8 0]</td>\r\n",
        "<td>True</td>\r\n",
        "<td>TA</td>\r\n",
        "<td>INTERGENIC</td>\r\n",
        "<td style='text-align: right'>104334</td>\r\n",
        "<td>+</td>\r\n",
        "<td>PFA0115w</td>\r\n",
        "<td style='text-align: right'>1309</td>\r\n",
        "</tr>\r\n",
        "<tr>\r\n",
        "<td>Pf3D7_01_v3</td>\r\n",
        "<td>106113</td>\r\n",
        "<td>False</td>\r\n",
        "<td>[-12   0]</td>\r\n",
        "<td>True</td>\r\n",
        "<td>AT</td>\r\n",
        "<td>INTERGENIC</td>\r\n",
        "<td style='text-align: right'>104334</td>\r\n",
        "<td>+</td>\r\n",
        "<td>PFA0115w</td>\r\n",
        "<td style='text-align: right'>1779</td>\r\n",
        "</tr>\r\n",
        "<tr>\r\n",
        "<td>Pf3D7_01_v3</td>\r\n",
        "<td>106975</td>\r\n",
        "<td>False</td>\r\n",
        "<td>[-8  0]</td>\r\n",
        "<td>True</td>\r\n",
        "<td>AT</td>\r\n",
        "<td>INTERGENIC</td>\r\n",
        "<td>None</td>\r\n",
        "<td>None</td>\r\n",
        "<td>None</td>\r\n",
        "<td>None</td>\r\n",
        "</tr>\r\n",
        "<tr>\r\n",
        "<td>Pf3D7_01_v3</td>\r\n",
        "<td>108363</td>\r\n",
        "<td>False</td>\r\n",
        "<td>[-4  0]</td>\r\n",
        "<td>True</td>\r\n",
        "<td>AT</td>\r\n",
        "<td>INTERGENIC</td>\r\n",
        "<td style='text-align: right'>109759</td>\r\n",
        "<td>-</td>\r\n",
        "<td>PFA0120c</td>\r\n",
        "<td style='text-align: right'>1396</td>\r\n",
        "</tr>\r\n",
        "<tr>\r\n",
        "<td>Pf3D7_01_v3</td>\r\n",
        "<td>108675</td>\r\n",
        "<td>False</td>\r\n",
        "<td>[-12   0]</td>\r\n",
        "<td>True</td>\r\n",
        "<td>TA</td>\r\n",
        "<td>INTERGENIC</td>\r\n",
        "<td style='text-align: right'>109759</td>\r\n",
        "<td>-</td>\r\n",
        "<td>PFA0120c</td>\r\n",
        "<td style='text-align: right'>1084</td>\r\n",
        "</tr>\r\n",
        "<tr>\r\n",
        "<td>Pf3D7_01_v3</td>\r\n",
        "<td>108943</td>\r\n",
        "<td>False</td>\r\n",
        "<td>[-8  0]</td>\r\n",
        "<td>True</td>\r\n",
        "<td>A</td>\r\n",
        "<td>INTERGENIC</td>\r\n",
        "<td style='text-align: right'>109759</td>\r\n",
        "<td>-</td>\r\n",
        "<td>PFA0120c</td>\r\n",
        "<td style='text-align: right'>816</td>\r\n",
        "</tr>\r\n",
        "<tr>\r\n",
        "<td>Pf3D7_01_v3</td>\r\n",
        "<td>109393</td>\r\n",
        "<td>False</td>\r\n",
        "<td>[18  0]</td>\r\n",
        "<td>True</td>\r\n",
        "<td>AT</td>\r\n",
        "<td>INTERGENIC</td>\r\n",
        "<td style='text-align: right'>109759</td>\r\n",
        "<td>-</td>\r\n",
        "<td>PFA0120c</td>\r\n",
        "<td style='text-align: right'>366</td>\r\n",
        "</tr>\r\n",
        "<tr>\r\n",
        "<td>Pf3D7_01_v3</td>\r\n",
        "<td>109984</td>\r\n",
        "<td>False</td>\r\n",
        "<td>[-2  0]</td>\r\n",
        "<td>True</td>\r\n",
        "<td>TA</td>\r\n",
        "<td>INTERGENIC</td>\r\n",
        "<td style='text-align: right'>109759</td>\r\n",
        "<td>-</td>\r\n",
        "<td>PFA0120c</td>\r\n",
        "<td style='text-align: right'>-225</td>\r\n",
        "</tr>\r\n",
        "</tbody>\r\n",
        "</table>\r\n",
        "<p><strong>...</strong></p>"
       ],
       "metadata": {},
       "output_type": "display_data"
      }
     ],
     "prompt_number": 13
    },
    {
     "cell_type": "heading",
     "level": 2,
     "metadata": {},
     "source": [
      "Prepare genomic data relative to TSSs"
     ]
    },
    {
     "cell_type": "markdown",
     "metadata": {},
     "source": [
      "Need to locate genome positions that are (1) core and (2) intergenic, then calculate distance to nearest TSS for each position."
     ]
    },
    {
     "cell_type": "code",
     "collapsed": false,
     "input": [
      "tbl_regions_0b = (etl\n",
      "    .fromtsv('../../../meta/regions-20130225.txt')\n",
      "    .pushheader(['chrom', 'start', 'stop', 'region'])\n",
      "    .convertnumbers()\n",
      ")\n",
      "tbl_regions_0b"
     ],
     "language": "python",
     "metadata": {},
     "outputs": [
      {
       "html": [
        "<table class='petl'>\r\n",
        "<thead>\r\n",
        "<tr>\r\n",
        "<th>0|chrom</th>\r\n",
        "<th>1|start</th>\r\n",
        "<th>2|stop</th>\r\n",
        "<th>3|region</th>\r\n",
        "</tr>\r\n",
        "</thead>\r\n",
        "<tbody>\r\n",
        "<tr>\r\n",
        "<td>Pf3D7_01_v3</td>\r\n",
        "<td style='text-align: right'>0</td>\r\n",
        "<td style='text-align: right'>27336</td>\r\n",
        "<td>SubtelomericRepeat</td>\r\n",
        "</tr>\r\n",
        "<tr>\r\n",
        "<td>Pf3D7_01_v3</td>\r\n",
        "<td style='text-align: right'>27336</td>\r\n",
        "<td style='text-align: right'>92900</td>\r\n",
        "<td>SubtelomericHypervariable</td>\r\n",
        "</tr>\r\n",
        "<tr>\r\n",
        "<td>Pf3D7_01_v3</td>\r\n",
        "<td style='text-align: right'>92900</td>\r\n",
        "<td style='text-align: right'>457931</td>\r\n",
        "<td>Core</td>\r\n",
        "</tr>\r\n",
        "<tr>\r\n",
        "<td>Pf3D7_01_v3</td>\r\n",
        "<td style='text-align: right'>457931</td>\r\n",
        "<td style='text-align: right'>460311</td>\r\n",
        "<td>Centromere</td>\r\n",
        "</tr>\r\n",
        "<tr>\r\n",
        "<td>Pf3D7_01_v3</td>\r\n",
        "<td style='text-align: right'>460311</td>\r\n",
        "<td style='text-align: right'>575900</td>\r\n",
        "<td>Core</td>\r\n",
        "</tr>\r\n",
        "</tbody>\r\n",
        "</table>\r\n",
        "<p><strong>...</strong></p>"
       ],
       "metadata": {},
       "output_type": "pyout",
       "prompt_number": 14,
       "text": [
        "+---------------+-----------+----------+-----------------------------+\n",
        "| '0|chrom'     | '1|start' | '2|stop' | '3|region'                  |\n",
        "+===============+===========+==========+=============================+\n",
        "| 'Pf3D7_01_v3' |         0 |    27336 | 'SubtelomericRepeat'        |\n",
        "+---------------+-----------+----------+-----------------------------+\n",
        "| 'Pf3D7_01_v3' |     27336 |    92900 | 'SubtelomericHypervariable' |\n",
        "+---------------+-----------+----------+-----------------------------+\n",
        "| 'Pf3D7_01_v3' |     92900 |   457931 | 'Core'                      |\n",
        "+---------------+-----------+----------+-----------------------------+\n",
        "| 'Pf3D7_01_v3' |    457931 |   460311 | 'Centromere'                |\n",
        "+---------------+-----------+----------+-----------------------------+\n",
        "| 'Pf3D7_01_v3' |    460311 |   575900 | 'Core'                      |\n",
        "+---------------+-----------+----------+-----------------------------+"
       ]
      }
     ],
     "prompt_number": 14
    },
    {
     "cell_type": "code",
     "collapsed": false,
     "input": [
      "genome_is_core = {chrom: np.zeros_like(genome[chrom], dtype=np.bool)\n",
      "           for chrom in CHROMOSOMES}\n",
      "\n",
      "for region in tbl_regions_0b.eq('region', 'Core').records():\n",
      "    genome_is_core[region.chrom][region.start:region.stop] = True\n"
     ],
     "language": "python",
     "metadata": {},
     "outputs": [],
     "prompt_number": 17
    },
    {
     "cell_type": "code",
     "collapsed": false,
     "input": [
      "tbl_genes = (etl\n",
      "    .fromgff3(GFF_FN)\n",
      "    .selectin('type', {'gene', 'pseudogene'})\n",
      ")\n",
      "tbl_genes"
     ],
     "language": "python",
     "metadata": {},
     "outputs": [
      {
       "html": [
        "<table class='petl'>\r\n",
        "<thead>\r\n",
        "<tr>\r\n",
        "<th>0|seqid</th>\r\n",
        "<th>1|source</th>\r\n",
        "<th>2|type</th>\r\n",
        "<th>3|start</th>\r\n",
        "<th>4|end</th>\r\n",
        "<th>5|score</th>\r\n",
        "<th>6|strand</th>\r\n",
        "<th>7|phase</th>\r\n",
        "<th>8|attributes</th>\r\n",
        "</tr>\r\n",
        "</thead>\r\n",
        "<tbody>\r\n",
        "<tr>\r\n",
        "<td>Pf3D7_01_v3</td>\r\n",
        "<td>chado</td>\r\n",
        "<td>gene</td>\r\n",
        "<td style='text-align: right'>29510</td>\r\n",
        "<td style='text-align: right'>37126</td>\r\n",
        "<td>.</td>\r\n",
        "<td>+</td>\r\n",
        "<td>.</td>\r\n",
        "<td>{'Name': 'VAR', 'feature_id': '20734001', 'isObsolete': 'false', 'previous_systematic_id': 'PFA0005w', 'ID': 'PF3D7_0100100', 'timelastmodified': '07.09.2011 06:34:15 BST'}</td>\r\n",
        "</tr>\r\n",
        "<tr>\r\n",
        "<td>Pf3D7_01_v3</td>\r\n",
        "<td>chado</td>\r\n",
        "<td>gene</td>\r\n",
        "<td style='text-align: right'>38982</td>\r\n",
        "<td style='text-align: right'>40207</td>\r\n",
        "<td>.</td>\r\n",
        "<td>-</td>\r\n",
        "<td>.</td>\r\n",
        "<td>{'Name': 'RIF', 'feature_id': '20725865', 'isObsolete': 'false', 'previous_systematic_id': 'PFA0010c', 'ID': 'PF3D7_0100200', 'timelastmodified': '07.09.2011 05:28:48 BST'}</td>\r\n",
        "</tr>\r\n",
        "<tr>\r\n",
        "<td>Pf3D7_01_v3</td>\r\n",
        "<td>chado</td>\r\n",
        "<td>gene</td>\r\n",
        "<td style='text-align: right'>42367</td>\r\n",
        "<td style='text-align: right'>46507</td>\r\n",
        "<td>.</td>\r\n",
        "<td>-</td>\r\n",
        "<td>.</td>\r\n",
        "<td>{'feature_id': '20725861', 'previous_systematic_id': 'PFA0015c', 'ID': 'PF3D7_0100300', 'timelastmodified': '07.09.2011 05:28:46 BST', 'isObsolete': 'false'}</td>\r\n",
        "</tr>\r\n",
        "<tr>\r\n",
        "<td>Pf3D7_01_v3</td>\r\n",
        "<td>chado</td>\r\n",
        "<td>gene</td>\r\n",
        "<td style='text-align: right'>50363</td>\r\n",
        "<td style='text-align: right'>51636</td>\r\n",
        "<td>.</td>\r\n",
        "<td>+</td>\r\n",
        "<td>.</td>\r\n",
        "<td>{'Name': 'RIF', 'feature_id': '20725850', 'isObsolete': 'false', 'previous_systematic_id': 'PFA0020w', 'ID': 'PF3D7_0100400', 'timelastmodified': '07.09.2011 05:28:40 BST'}</td>\r\n",
        "</tr>\r\n",
        "<tr>\r\n",
        "<td>Pf3D7_01_v3</td>\r\n",
        "<td>chado</td>\r\n",
        "<td>pseudogene</td>\r\n",
        "<td style='text-align: right'>53169</td>\r\n",
        "<td style='text-align: right'>53280</td>\r\n",
        "<td>.</td>\r\n",
        "<td>-</td>\r\n",
        "<td>.</td>\r\n",
        "<td>{'Name': 'var pseudogene, exon 1', 'feature_id': '20725852', 'isObsolete': 'false', 'previous_systematic_id': 'PFA0025c', 'ID': 'PF3D7_0100500', 'timelastmodified': '07.09.2011 05:28:40 BST'}</td>\r\n",
        "</tr>\r\n",
        "</tbody>\r\n",
        "</table>\r\n",
        "<p><strong>...</strong></p>"
       ],
       "metadata": {},
       "output_type": "pyout",
       "prompt_number": 18,
       "text": [
        "+---------------+------------+--------------+-----------+---------+-----------+------------+-----------+-------------------------------------------------------------------------------------------------------------------------------------------------------------------------------------------------+\n",
        "| '0|seqid'     | '1|source' | '2|type'     | '3|start' | '4|end' | '5|score' | '6|strand' | '7|phase' | '8|attributes'                                                                                                                                                                                  |\n",
        "+===============+============+==============+===========+=========+===========+============+===========+=================================================================================================================================================================================================+\n",
        "| 'Pf3D7_01_v3' | 'chado'    | 'gene'       |     29510 |   37126 | '.'       | '+'        | '.'       | {'Name': 'VAR', 'feature_id': '20734001', 'isObsolete': 'false', 'previous_systematic_id': 'PFA0005w', 'ID': 'PF3D7_0100100', 'timelastmodified': '07.09.2011 06:34:15 BST'}                    |\n",
        "+---------------+------------+--------------+-----------+---------+-----------+------------+-----------+-------------------------------------------------------------------------------------------------------------------------------------------------------------------------------------------------+\n",
        "| 'Pf3D7_01_v3' | 'chado'    | 'gene'       |     38982 |   40207 | '.'       | '-'        | '.'       | {'Name': 'RIF', 'feature_id': '20725865', 'isObsolete': 'false', 'previous_systematic_id': 'PFA0010c', 'ID': 'PF3D7_0100200', 'timelastmodified': '07.09.2011 05:28:48 BST'}                    |\n",
        "+---------------+------------+--------------+-----------+---------+-----------+------------+-----------+-------------------------------------------------------------------------------------------------------------------------------------------------------------------------------------------------+\n",
        "| 'Pf3D7_01_v3' | 'chado'    | 'gene'       |     42367 |   46507 | '.'       | '-'        | '.'       | {'feature_id': '20725861', 'previous_systematic_id': 'PFA0015c', 'ID': 'PF3D7_0100300', 'timelastmodified': '07.09.2011 05:28:46 BST', 'isObsolete': 'false'}                                   |\n",
        "+---------------+------------+--------------+-----------+---------+-----------+------------+-----------+-------------------------------------------------------------------------------------------------------------------------------------------------------------------------------------------------+\n",
        "| 'Pf3D7_01_v3' | 'chado'    | 'gene'       |     50363 |   51636 | '.'       | '+'        | '.'       | {'Name': 'RIF', 'feature_id': '20725850', 'isObsolete': 'false', 'previous_systematic_id': 'PFA0020w', 'ID': 'PF3D7_0100400', 'timelastmodified': '07.09.2011 05:28:40 BST'}                    |\n",
        "+---------------+------------+--------------+-----------+---------+-----------+------------+-----------+-------------------------------------------------------------------------------------------------------------------------------------------------------------------------------------------------+\n",
        "| 'Pf3D7_01_v3' | 'chado'    | 'pseudogene' |     53169 |   53280 | '.'       | '-'        | '.'       | {'Name': 'var pseudogene, exon 1', 'feature_id': '20725852', 'isObsolete': 'false', 'previous_systematic_id': 'PFA0025c', 'ID': 'PF3D7_0100500', 'timelastmodified': '07.09.2011 05:28:40 BST'} |\n",
        "+---------------+------------+--------------+-----------+---------+-----------+------------+-----------+-------------------------------------------------------------------------------------------------------------------------------------------------------------------------------------------------+"
       ]
      }
     ],
     "prompt_number": 18
    },
    {
     "cell_type": "code",
     "collapsed": false,
     "input": [
      "genome_is_genic = {chrom: np.zeros_like(genome[chrom], dtype=np.bool) \n",
      "                   for chrom in CHROMOSOMES}\n",
      "\n",
      "for gene in tbl_genes.records():\n",
      "    genome_is_genic[gene.seqid][gene.start-1:gene.end] = True"
     ],
     "language": "python",
     "metadata": {},
     "outputs": [],
     "prompt_number": 20
    },
    {
     "cell_type": "code",
     "collapsed": false,
     "input": [
      "genome_is_core_intergenic = {chrom: genome_is_core[chrom] & ~genome_is_genic[chrom]\n",
      "                             for chrom in CHROMOSOMES}\n",
      "\n",
      "genome_pos_core_intergenic = {chrom: np.nonzero(genome_is_core_intergenic[chrom])[0]\n",
      "                              for chrom in CHROMOSOMES}\n",
      "genome_pos_core_intergenic"
     ],
     "language": "python",
     "metadata": {},
     "outputs": [
      {
       "metadata": {},
       "output_type": "pyout",
       "prompt_number": 22,
       "text": [
        "{'Pf3D7_01_v3': array([ 92900,  92901,  92902, ..., 575897, 575898, 575899]),\n",
        " 'Pf3D7_02_v3': array([105800, 105801, 105802, ..., 862497, 862498, 862499]),\n",
        " 'Pf3D7_03_v3': array([  71919,   71920,   71921, ..., 1002868, 1002869, 1002870]),\n",
        " 'Pf3D7_04_v3': array([  91420,   91421,   91422, ..., 1143987, 1143988, 1143989]),\n",
        " 'Pf3D7_05_v3': array([  37900,   37901,   37902, ..., 1321387, 1321388, 1321389]),\n",
        " 'Pf3D7_06_v3': array([  72350,   72351,   72352, ..., 1294827, 1294828, 1294829]),\n",
        " 'Pf3D7_07_v3': array([  77100,   77101,   77102, ..., 1381597, 1381598, 1381599]),\n",
        " 'Pf3D7_08_v3': array([  73560,   73561,   73562, ..., 1365463, 1365464, 1365465]),\n",
        " 'Pf3D7_09_v3': array([  79100,   79101,   79102, ..., 1473557, 1473558, 1473559]),\n",
        " 'Pf3D7_10_v3': array([  68970,   68971,   68972, ..., 1568705, 1568706, 1568707]),\n",
        " 'Pf3D7_11_v3': array([ 110000,  110001,  110002, ..., 2003317, 2003318, 2003319]),\n",
        " 'Pf3D7_12_v3': array([  60300,   60301,   60302, ..., 2163697, 2163698, 2163699]),\n",
        " 'Pf3D7_13_v3': array([  74413,   74414,   74415, ..., 2791897, 2791898, 2791899]),\n",
        " 'Pf3D7_14_v3': array([  35774,   35775,   35776, ..., 3254088, 3254089, 3254090])}"
       ]
      }
     ],
     "prompt_number": 22
    },
    {
     "cell_type": "code",
     "collapsed": false,
     "input": [
      "max_tss_dist = 2000\n",
      "\n",
      "genome_tss_dist = {chrom: np.zeros_like(genome_pos_core_intergenic[chrom])\n",
      "                   for chrom in sorted(genome.keys())}\n",
      "\n",
      "for chrom in CHROMOSOMES:\n",
      "    log(chrom)\n",
      "    pos = genome_pos_core_intergenic[chrom]\n",
      "    for i, p in enumerate(pos):\n",
      "        tss_before = tss_trees[chrom].before(p, max_dist=max_tss_dist)\n",
      "        tss_before = tss_before[0] if tss_before else tuple()\n",
      "        tss_after = tss_trees[chrom].after(p, max_dist=max_tss_dist)\n",
      "        tss_after = tss_after[0] if tss_after else tuple()\n",
      "        tss_before_dist = np.abs(tss_before.start - p) if tss_before else max_tss_dist \n",
      "        tss_after_dist = np.abs(tss_after.start - p) if tss_after else max_tss_dist\n",
      "        tss = tss_before if tss_before_dist < tss_after_dist else tss_after\n",
      "        dist = max_tss_dist\n",
      "        if tss:\n",
      "            dist = p - tss.start if tss.strand == '+' else tss.start - p if tss.strand == '-' else max_tss_dist\n",
      "        genome_tss_dist[chrom][i] = dist\n",
      "        "
     ],
     "language": "python",
     "metadata": {},
     "outputs": [
      {
       "output_type": "stream",
       "stream": "stderr",
       "text": [
        "2014-11-04 12:03:21.520227 :: Pf3D7_01_v3\n"
       ]
      },
      {
       "output_type": "stream",
       "stream": "stderr",
       "text": [
        "2014-11-04 12:03:23.615262 :: Pf3D7_02_v3\n"
       ]
      },
      {
       "output_type": "stream",
       "stream": "stderr",
       "text": [
        "2014-11-04 12:03:26.825294 :: Pf3D7_03_v3\n"
       ]
      },
      {
       "output_type": "stream",
       "stream": "stderr",
       "text": [
        "2014-11-04 12:03:30.989030 :: Pf3D7_04_v3\n"
       ]
      },
      {
       "output_type": "stream",
       "stream": "stderr",
       "text": [
        "2014-11-04 12:03:34.953315 :: Pf3D7_05_v3\n"
       ]
      },
      {
       "output_type": "stream",
       "stream": "stderr",
       "text": [
        "2014-11-04 12:03:40.810692 :: Pf3D7_06_v3\n"
       ]
      },
      {
       "output_type": "stream",
       "stream": "stderr",
       "text": [
        "2014-11-04 12:03:45.401742 :: Pf3D7_07_v3\n"
       ]
      },
      {
       "output_type": "stream",
       "stream": "stderr",
       "text": [
        "2014-11-04 12:03:48.973156 :: Pf3D7_08_v3\n"
       ]
      },
      {
       "output_type": "stream",
       "stream": "stderr",
       "text": [
        "2014-11-04 12:03:53.689960 :: Pf3D7_09_v3\n"
       ]
      },
      {
       "output_type": "stream",
       "stream": "stderr",
       "text": [
        "2014-11-04 12:04:00.455264 :: Pf3D7_10_v3\n"
       ]
      },
      {
       "output_type": "stream",
       "stream": "stderr",
       "text": [
        "2014-11-04 12:04:07.577698 :: Pf3D7_11_v3\n"
       ]
      },
      {
       "output_type": "stream",
       "stream": "stderr",
       "text": [
        "2014-11-04 12:04:15.156139 :: Pf3D7_12_v3\n"
       ]
      },
      {
       "output_type": "stream",
       "stream": "stderr",
       "text": [
        "2014-11-04 12:04:23.829108 :: Pf3D7_13_v3\n"
       ]
      },
      {
       "output_type": "stream",
       "stream": "stderr",
       "text": [
        "2014-11-04 12:04:34.285063 :: Pf3D7_14_v3\n"
       ]
      }
     ],
     "prompt_number": 23
    },
    {
     "cell_type": "code",
     "collapsed": false,
     "input": [
      "genome_pos_core_intergenic['Pf3D7_01_v3'][2000:]"
     ],
     "language": "python",
     "metadata": {},
     "outputs": [
      {
       "metadata": {},
       "output_type": "pyout",
       "prompt_number": 29,
       "text": [
        "array([ 96513,  96514,  96515, ..., 575897, 575898, 575899])"
       ]
      }
     ],
     "prompt_number": 29
    },
    {
     "cell_type": "code",
     "collapsed": false,
     "input": [
      "genome_tss_dist['Pf3D7_01_v3'][2000:]"
     ],
     "language": "python",
     "metadata": {},
     "outputs": [
      {
       "metadata": {},
       "output_type": "pyout",
       "prompt_number": 30,
       "text": [
        "array([-1890, -1889, -1888, ...,  2000,  2000,  2000])"
       ]
      }
     ],
     "prompt_number": 30
    },
    {
     "cell_type": "code",
     "collapsed": false,
     "input": [
      "tbl_tss_v3"
     ],
     "language": "python",
     "metadata": {},
     "outputs": [
      {
       "html": [
        "<table class='petl'>\r\n",
        "<thead>\r\n",
        "<tr>\r\n",
        "<th>0|chrom</th>\r\n",
        "<th>1|pos</th>\r\n",
        "<th>2|strand</th>\r\n",
        "<th>3|gene</th>\r\n",
        "</tr>\r\n",
        "</thead>\r\n",
        "<tbody>\r\n",
        "<tr>\r\n",
        "<td>Pf3D7_01_v3</td>\r\n",
        "<td style='text-align: right'>67322</td>\r\n",
        "<td>-</td>\r\n",
        "<td>PFA0050c</td>\r\n",
        "</tr>\r\n",
        "<tr>\r\n",
        "<td>Pf3D7_01_v3</td>\r\n",
        "<td style='text-align: right'>98403</td>\r\n",
        "<td>+</td>\r\n",
        "<td>PFA0110w</td>\r\n",
        "</tr>\r\n",
        "<tr>\r\n",
        "<td>Pf3D7_01_v3</td>\r\n",
        "<td style='text-align: right'>104334</td>\r\n",
        "<td>+</td>\r\n",
        "<td>PFA0115w</td>\r\n",
        "</tr>\r\n",
        "<tr>\r\n",
        "<td>Pf3D7_01_v3</td>\r\n",
        "<td style='text-align: right'>109759</td>\r\n",
        "<td>-</td>\r\n",
        "<td>PFA0120c</td>\r\n",
        "</tr>\r\n",
        "<tr>\r\n",
        "<td>Pf3D7_01_v3</td>\r\n",
        "<td style='text-align: right'>116792</td>\r\n",
        "<td>-</td>\r\n",
        "<td>PFA0125c</td>\r\n",
        "</tr>\r\n",
        "</tbody>\r\n",
        "</table>\r\n",
        "<p><strong>...</strong></p>"
       ],
       "metadata": {},
       "output_type": "pyout",
       "prompt_number": 28,
       "text": [
        "+---------------+---------+------------+------------+\n",
        "| '0|chrom'     | '1|pos' | '2|strand' | '3|gene'   |\n",
        "+===============+=========+============+============+\n",
        "| 'Pf3D7_01_v3' |   67322 | '-'        | 'PFA0050c' |\n",
        "+---------------+---------+------------+------------+\n",
        "| 'Pf3D7_01_v3' |   98403 | '+'        | 'PFA0110w' |\n",
        "+---------------+---------+------------+------------+\n",
        "| 'Pf3D7_01_v3' |  104334 | '+'        | 'PFA0115w' |\n",
        "+---------------+---------+------------+------------+\n",
        "| 'Pf3D7_01_v3' |  109759 | '-'        | 'PFA0120c' |\n",
        "+---------------+---------+------------+------------+\n",
        "| 'Pf3D7_01_v3' |  116792 | '-'        | 'PFA0125c' |\n",
        "+---------------+---------+------------+------------+"
       ]
      }
     ],
     "prompt_number": 28
    },
    {
     "cell_type": "heading",
     "level": 2,
     "metadata": {},
     "source": [
      "Analyse variants density relative to TSSs"
     ]
    },
    {
     "cell_type": "code",
     "collapsed": false,
     "input": [
      "def plot_tss_variant_density(cross, bins=np.arange(-1025, 1026, 50), ax=None):\n",
      "    \n",
      "    if ax is None:\n",
      "        fig, ax = plt.subplots(figsize=(10, 4))\n",
      "        ax.set_title(LABELS[cross])\n",
      "    sns.despine(ax=ax)\n",
      "    sns.offset_spines(ax=ax)\n",
      "    \n",
      "    # x coords\n",
      "    x = (bins[:-1] + bins[1:]) / 2\n",
      "    \n",
      "    # genomic tss distances\n",
      "    a1 = np.concatenate(genome_tss_dist.values())\n",
      "    h1, _ = np.histogram(a1, bins=bins)\n",
      "    \n",
      "    # obtain variants\n",
      "    df_variants = tabulate_intergenic_variants(cross).todataframe()\n",
      "    \n",
      "    # SNPs\n",
      "    a2 = df_variants[df_variants.is_snp].tss_dist\n",
      "    h2, _ = np.histogram(a2, bins=bins)\n",
      "    y = h2 / h1\n",
      "    ax.plot(x, y, label='SNPs', lw=2)\n",
      "    \n",
      "    # indels\n",
      "    a2 = df_variants[~df_variants.is_snp].tss_dist\n",
      "    h2, _ = np.histogram(a2, bins=bins)\n",
      "    y = h2 / h1\n",
      "    ax.plot(x, y, label='indels', lw=2)\n",
      "    \n",
      "    # tidy up\n",
      "    ax.legend()\n",
      "    ax.set_xlabel('distance to transcription start site')\n",
      "    ax.set_ylabel('variant density')\n",
      "    ax.set_ylim(0, 0.003)\n",
      "\n",
      "    return ax\n",
      "    "
     ],
     "language": "python",
     "metadata": {},
     "outputs": [],
     "prompt_number": 38
    },
    {
     "cell_type": "code",
     "collapsed": false,
     "input": [
      "plot_tss_variant_density('3d7_hb3');"
     ],
     "language": "python",
     "metadata": {},
     "outputs": [
      {
       "metadata": {},
       "output_type": "display_data",
       "png": "[encoded data removed]",
       "text": [
        "<matplotlib.figure.Figure at 0x7f92d450db90>"
       ]
      }
     ],
     "prompt_number": 39
    },
    {
     "cell_type": "code",
     "collapsed": false,
     "input": [
      "plot_tss_variant_density('hb3_dd2');"
     ],
     "language": "python",
     "metadata": {},
     "outputs": [
      {
       "metadata": {},
       "output_type": "display_data",
       "png": "[encoded data removed]",
       "text": [
        "<matplotlib.figure.Figure at 0x7f92d446c790>"
       ]
      }
     ],
     "prompt_number": 40
    },
    {
     "cell_type": "code",
     "collapsed": false,
     "input": [
      "plot_tss_variant_density('7g8_gb4');"
     ],
     "language": "python",
     "metadata": {},
     "outputs": [
      {
       "metadata": {},
       "output_type": "display_data",
       "png": "[encoded data removed]",
       "text": [
        "<matplotlib.figure.Figure at 0x7f92d4696bd0>"
       ]
      }
     ],
     "prompt_number": 41
    },
    {
     "cell_type": "code",
     "collapsed": false,
     "input": [],
     "language": "python",
     "metadata": {},
     "outputs": []
    }
   ],
   "metadata": {}
  }
 ]
}