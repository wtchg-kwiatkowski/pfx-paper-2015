{
 "cells": [
  {
   "cell_type": "code",
   "execution_count": 1,
   "metadata": {
    "collapsed": false
   },
   "outputs": [
    {
     "name": "stdout",
     "output_type": "stream",
     "text": [
      "docker image cggh/biipy:v1.6.0\n"
     ]
    },
    {
     "data": {
      "text/html": [
       "<style type=\"text/css\">\n",
       ".container {\n",
       "    width: 96%;\n",
       "}\n",
       "#maintoolbar {\n",
       "    display: none;\n",
       "}\n",
       "#header-container {\n",
       "    display: none;\n",
       "}\n",
       "#notebook {\n",
       "    padding-top: 0;\n",
       "}\n",
       "</style>"
      ],
      "text/plain": [
       "<IPython.core.display.HTML object>"
      ]
     },
     "metadata": {},
     "output_type": "display_data"
    }
   ],
   "source": [
    "%run ../../shared_setup.ipynb"
   ]
  },
  {
   "cell_type": "code",
   "execution_count": 2,
   "metadata": {
    "collapsed": true
   },
   "outputs": [],
   "source": [
    "def tabulate(f):\n",
    "    class Tabulated(etl.Table):\n",
    "        def __init__(self, *args, **kwargs):\n",
    "            self.args = args\n",
    "            self.kwargs = kwargs\n",
    "        def __iter__(self):\n",
    "            return f(*self.args, **self.kwargs)\n",
    "    return Tabulated\n",
    "        "
   ]
  },
  {
   "cell_type": "code",
   "execution_count": 3,
   "metadata": {
    "collapsed": true
   },
   "outputs": [],
   "source": [
    "@tabulate\n",
    "def tabulate_core_windows(window_size):\n",
    "    yield 'chrom', 'start', 'stop'\n",
    "    for rec in tbl_regions_1b.eq('region_type', 'Core').records():\n",
    "        for start in range(rec.region_start, rec.region_stop, window_size):\n",
    "            yield rec.region_chrom, start, start + window_size - 1\n",
    "    "
   ]
  },
  {
   "cell_type": "code",
   "execution_count": 4,
   "metadata": {
    "collapsed": false
   },
   "outputs": [
    {
     "data": {
      "text/html": [
       "<table class='petl'>\n",
       "<caption>CO events (1194 rows)</caption>\n",
       "<thead>\n",
       "<tr>\n",
       "<th>0|sample</th>\n",
       "<th>1|chrom</th>\n",
       "<th>2|co_pos_mid</th>\n",
       "<th>3|co_pos_min</th>\n",
       "<th>4|co_pos_max</th>\n",
       "<th>5|co_pos_range</th>\n",
       "<th>6|cross</th>\n",
       "<th>7|co_from_parent</th>\n",
       "<th>8|co_to_parent</th>\n",
       "</tr>\n",
       "</thead>\n",
       "<tbody>\n",
       "<tr>\n",
       "<td>B1SD/PG0015-C/ERR019044</td>\n",
       "<td>Pf3D7_01_v3</td>\n",
       "<td style='text-align: right'>145052</td>\n",
       "<td style='text-align: right'>144877</td>\n",
       "<td style='text-align: right'>145227</td>\n",
       "<td style='text-align: right'>350</td>\n",
       "<td>hb3_dd2</td>\n",
       "<td>hb3</td>\n",
       "<td>dd2</td>\n",
       "</tr>\n",
       "<tr>\n",
       "<td>GC03/PG0021-C/ERR015447</td>\n",
       "<td>Pf3D7_01_v3</td>\n",
       "<td style='text-align: right'>163584</td>\n",
       "<td style='text-align: right'>163145</td>\n",
       "<td style='text-align: right'>164024</td>\n",
       "<td style='text-align: right'>879</td>\n",
       "<td>hb3_dd2</td>\n",
       "<td>dd2</td>\n",
       "<td>hb3</td>\n",
       "</tr>\n",
       "<tr>\n",
       "<td>XF12/PG0102-C/ERR029143</td>\n",
       "<td>Pf3D7_01_v3</td>\n",
       "<td style='text-align: right'>206769</td>\n",
       "<td style='text-align: right'>205803</td>\n",
       "<td style='text-align: right'>207736</td>\n",
       "<td style='text-align: right'>1933</td>\n",
       "<td>7g8_gb4</td>\n",
       "<td>gb4</td>\n",
       "<td>7g8</td>\n",
       "</tr>\n",
       "<tr>\n",
       "<td>7C159/PG0040-Cx/ERR107475</td>\n",
       "<td>Pf3D7_01_v3</td>\n",
       "<td style='text-align: right'>206905</td>\n",
       "<td style='text-align: right'>206074</td>\n",
       "<td style='text-align: right'>207736</td>\n",
       "<td style='text-align: right'>1662</td>\n",
       "<td>hb3_dd2</td>\n",
       "<td>hb3</td>\n",
       "<td>dd2</td>\n",
       "</tr>\n",
       "<tr>\n",
       "<td>CH3_61/PG0033-Cx/ERR175544</td>\n",
       "<td>Pf3D7_01_v3</td>\n",
       "<td style='text-align: right'>206905</td>\n",
       "<td style='text-align: right'>206074</td>\n",
       "<td style='text-align: right'>207736</td>\n",
       "<td style='text-align: right'>1662</td>\n",
       "<td>hb3_dd2</td>\n",
       "<td>dd2</td>\n",
       "<td>hb3</td>\n",
       "</tr>\n",
       "</tbody>\n",
       "</table>\n",
       "<p><strong>...</strong></p>"
      ]
     },
     "metadata": {},
     "output_type": "display_data"
    }
   ],
   "source": [
    "tbl_co = (\n",
    "    etl\n",
    "    .frompickle(os.path.join(PUBLIC_DIR, 'tbl_co.pickle'))\n",
    "    .convert('chrom', lambda v: str(v, 'ascii'))\n",
    ")\n",
    "display_with_nrows(tbl_co, caption='CO events')"
   ]
  },
  {
   "cell_type": "code",
   "execution_count": 5,
   "metadata": {
    "collapsed": false
   },
   "outputs": [
    {
     "data": {
      "text/html": [
       "<table class='petl'>\n",
       "<thead>\n",
       "<tr>\n",
       "<th>0|chrom</th>\n",
       "<th>1|start</th>\n",
       "<th>2|stop</th>\n",
       "</tr>\n",
       "</thead>\n",
       "<tbody>\n",
       "<tr>\n",
       "<td>Pf3D7_01_v3</td>\n",
       "<td style='text-align: right'>92901</td>\n",
       "<td style='text-align: right'>97900</td>\n",
       "</tr>\n",
       "<tr>\n",
       "<td>Pf3D7_01_v3</td>\n",
       "<td style='text-align: right'>97901</td>\n",
       "<td style='text-align: right'>102900</td>\n",
       "</tr>\n",
       "<tr>\n",
       "<td>Pf3D7_01_v3</td>\n",
       "<td style='text-align: right'>102901</td>\n",
       "<td style='text-align: right'>107900</td>\n",
       "</tr>\n",
       "<tr>\n",
       "<td>Pf3D7_01_v3</td>\n",
       "<td style='text-align: right'>107901</td>\n",
       "<td style='text-align: right'>112900</td>\n",
       "</tr>\n",
       "<tr>\n",
       "<td>Pf3D7_01_v3</td>\n",
       "<td style='text-align: right'>112901</td>\n",
       "<td style='text-align: right'>117900</td>\n",
       "</tr>\n",
       "</tbody>\n",
       "</table>\n",
       "<p><strong>...</strong></p>"
      ],
      "text/plain": [
       "+---------------+--------+--------+\n",
       "| chrom         | start  | stop   |\n",
       "+===============+========+========+\n",
       "| 'Pf3D7_01_v3' |  92901 |  97900 |\n",
       "+---------------+--------+--------+\n",
       "| 'Pf3D7_01_v3' |  97901 | 102900 |\n",
       "+---------------+--------+--------+\n",
       "| 'Pf3D7_01_v3' | 102901 | 107900 |\n",
       "+---------------+--------+--------+\n",
       "| 'Pf3D7_01_v3' | 107901 | 112900 |\n",
       "+---------------+--------+--------+\n",
       "| 'Pf3D7_01_v3' | 112901 | 117900 |\n",
       "+---------------+--------+--------+\n",
       "..."
      ]
     },
     "execution_count": 5,
     "metadata": {},
     "output_type": "execute_result"
    }
   ],
   "source": [
    "tbl_windows = tabulate_core_windows(5000)\n",
    "tbl_windows"
   ]
  },
  {
   "cell_type": "code",
   "execution_count": 10,
   "metadata": {
    "collapsed": false
   },
   "outputs": [
    {
     "data": {
      "text/html": [
       "<table class='petl'>\n",
       "<thead>\n",
       "<tr>\n",
       "<th>0|chrom</th>\n",
       "<th>1|start</th>\n",
       "<th>2|stop</th>\n",
       "<th>3|co_count</th>\n",
       "<th>4|co_count_3d7_hb3</th>\n",
       "<th>5|co_count_hb3_dd2</th>\n",
       "<th>6|co_count_7g8_gb4</th>\n",
       "</tr>\n",
       "</thead>\n",
       "<tbody>\n",
       "<tr>\n",
       "<td>Pf3D7_01_v3</td>\n",
       "<td style='text-align: right'>92901</td>\n",
       "<td style='text-align: right'>97900</td>\n",
       "<td>Counter()</td>\n",
       "<td style='text-align: right'>0</td>\n",
       "<td style='text-align: right'>0</td>\n",
       "<td style='text-align: right'>0</td>\n",
       "</tr>\n",
       "<tr>\n",
       "<td>Pf3D7_01_v3</td>\n",
       "<td style='text-align: right'>97901</td>\n",
       "<td style='text-align: right'>102900</td>\n",
       "<td>Counter()</td>\n",
       "<td style='text-align: right'>0</td>\n",
       "<td style='text-align: right'>0</td>\n",
       "<td style='text-align: right'>0</td>\n",
       "</tr>\n",
       "<tr>\n",
       "<td>Pf3D7_01_v3</td>\n",
       "<td style='text-align: right'>102901</td>\n",
       "<td style='text-align: right'>107900</td>\n",
       "<td>Counter()</td>\n",
       "<td style='text-align: right'>0</td>\n",
       "<td style='text-align: right'>0</td>\n",
       "<td style='text-align: right'>0</td>\n",
       "</tr>\n",
       "<tr>\n",
       "<td>Pf3D7_01_v3</td>\n",
       "<td style='text-align: right'>107901</td>\n",
       "<td style='text-align: right'>112900</td>\n",
       "<td>Counter()</td>\n",
       "<td style='text-align: right'>0</td>\n",
       "<td style='text-align: right'>0</td>\n",
       "<td style='text-align: right'>0</td>\n",
       "</tr>\n",
       "<tr>\n",
       "<td>Pf3D7_01_v3</td>\n",
       "<td style='text-align: right'>112901</td>\n",
       "<td style='text-align: right'>117900</td>\n",
       "<td>Counter()</td>\n",
       "<td style='text-align: right'>0</td>\n",
       "<td style='text-align: right'>0</td>\n",
       "<td style='text-align: right'>0</td>\n",
       "</tr>\n",
       "</tbody>\n",
       "</table>\n",
       "<p><strong>...</strong></p>"
      ],
      "text/plain": [
       "+---------------+--------+--------+-----------+------------------+------------------+------------------+\n",
       "| chrom         | start  | stop   | co_count  | co_count_3d7_hb3 | co_count_hb3_dd2 | co_count_7g8_gb4 |\n",
       "+===============+========+========+===========+==================+==================+==================+\n",
       "| 'Pf3D7_01_v3' |  92901 |  97900 | Counter() |                0 |                0 |                0 |\n",
       "+---------------+--------+--------+-----------+------------------+------------------+------------------+\n",
       "| 'Pf3D7_01_v3' |  97901 | 102900 | Counter() |                0 |                0 |                0 |\n",
       "+---------------+--------+--------+-----------+------------------+------------------+------------------+\n",
       "| 'Pf3D7_01_v3' | 102901 | 107900 | Counter() |                0 |                0 |                0 |\n",
       "+---------------+--------+--------+-----------+------------------+------------------+------------------+\n",
       "| 'Pf3D7_01_v3' | 107901 | 112900 | Counter() |                0 |                0 |                0 |\n",
       "+---------------+--------+--------+-----------+------------------+------------------+------------------+\n",
       "| 'Pf3D7_01_v3' | 112901 | 117900 | Counter() |                0 |                0 |                0 |\n",
       "+---------------+--------+--------+-----------+------------------+------------------+------------------+\n",
       "..."
      ]
     },
     "execution_count": 10,
     "metadata": {},
     "output_type": "execute_result"
    }
   ],
   "source": [
    "# count COs in windows\n",
    "tbl_windows_co = (\n",
    "    tbl_windows\n",
    "    .intervalleftjoin(tbl_co, lkey='chrom', lstart='start', lstop='stop',\n",
    "                      rkey='chrom', rstart='co_pos_min', rstop='co_pos_max',\n",
    "                      include_stop=True)\n",
    "    .cutout(4)\n",
    "    .aggregate(key=('chrom', 'start', 'stop'),\n",
    "               aggregation=lambda vals: collections.Counter([v for v in vals if v is not None]),\n",
    "               value='cross')\n",
    "    .rename('value', 'co_count')\n",
    "    .addfield('co_count_3d7_hb3', lambda row: row.co_count['3d7_hb3'])\n",
    "    .addfield('co_count_hb3_dd2', lambda row: row.co_count['hb3_dd2'])\n",
    "    .addfield('co_count_7g8_gb4', lambda row: row.co_count['7g8_gb4'])\n",
    ")\n",
    "tbl_windows_co"
   ]
  },
  {
   "cell_type": "code",
   "execution_count": 11,
   "metadata": {
    "collapsed": false
   },
   "outputs": [
    {
     "data": {
      "text/html": [
       "<table class='petl'>\n",
       "<thead>\n",
       "<tr>\n",
       "<th>0|co_count_3d7_hb3</th>\n",
       "<th>1|count</th>\n",
       "<th>2|frequency</th>\n",
       "</tr>\n",
       "</thead>\n",
       "<tbody>\n",
       "<tr>\n",
       "<td style='text-align: right'>0</td>\n",
       "<td style='text-align: right'>3811</td>\n",
       "<td style='text-align: right'>0.912814371257485</td>\n",
       "</tr>\n",
       "<tr>\n",
       "<td style='text-align: right'>1</td>\n",
       "<td style='text-align: right'>314</td>\n",
       "<td style='text-align: right'>0.07520958083832335</td>\n",
       "</tr>\n",
       "<tr>\n",
       "<td style='text-align: right'>2</td>\n",
       "<td style='text-align: right'>50</td>\n",
       "<td style='text-align: right'>0.011976047904191617</td>\n",
       "</tr>\n",
       "</tbody>\n",
       "</table>\n"
      ]
     },
     "metadata": {},
     "output_type": "display_data"
    }
   ],
   "source": [
    "tbl_windows_co.valuecounts('co_count_3d7_hb3').displayall()"
   ]
  },
  {
   "cell_type": "code",
   "execution_count": 12,
   "metadata": {
    "collapsed": false
   },
   "outputs": [
    {
     "data": {
      "text/html": [
       "<table class='petl'>\n",
       "<thead>\n",
       "<tr>\n",
       "<th>0|co_count_hb3_dd2</th>\n",
       "<th>1|count</th>\n",
       "<th>2|frequency</th>\n",
       "</tr>\n",
       "</thead>\n",
       "<tbody>\n",
       "<tr>\n",
       "<td style='text-align: right'>0</td>\n",
       "<td style='text-align: right'>3464</td>\n",
       "<td style='text-align: right'>0.8297005988023952</td>\n",
       "</tr>\n",
       "<tr>\n",
       "<td style='text-align: right'>1</td>\n",
       "<td style='text-align: right'>603</td>\n",
       "<td style='text-align: right'>0.1444311377245509</td>\n",
       "</tr>\n",
       "<tr>\n",
       "<td style='text-align: right'>2</td>\n",
       "<td style='text-align: right'>101</td>\n",
       "<td style='text-align: right'>0.024191616766467066</td>\n",
       "</tr>\n",
       "<tr>\n",
       "<td style='text-align: right'>3</td>\n",
       "<td style='text-align: right'>7</td>\n",
       "<td style='text-align: right'>0.0016766467065868263</td>\n",
       "</tr>\n",
       "</tbody>\n",
       "</table>\n"
      ]
     },
     "metadata": {},
     "output_type": "display_data"
    }
   ],
   "source": [
    "tbl_windows_co.valuecounts('co_count_hb3_dd2').displayall()"
   ]
  },
  {
   "cell_type": "code",
   "execution_count": 13,
   "metadata": {
    "collapsed": false
   },
   "outputs": [
    {
     "data": {
      "text/html": [
       "<table class='petl'>\n",
       "<thead>\n",
       "<tr>\n",
       "<th>0|co_count_7g8_gb4</th>\n",
       "<th>1|count</th>\n",
       "<th>2|frequency</th>\n",
       "</tr>\n",
       "</thead>\n",
       "<tbody>\n",
       "<tr>\n",
       "<td style='text-align: right'>0</td>\n",
       "<td style='text-align: right'>3688</td>\n",
       "<td style='text-align: right'>0.8833532934131737</td>\n",
       "</tr>\n",
       "<tr>\n",
       "<td style='text-align: right'>1</td>\n",
       "<td style='text-align: right'>434</td>\n",
       "<td style='text-align: right'>0.10395209580838323</td>\n",
       "</tr>\n",
       "<tr>\n",
       "<td style='text-align: right'>2</td>\n",
       "<td style='text-align: right'>48</td>\n",
       "<td style='text-align: right'>0.011497005988023952</td>\n",
       "</tr>\n",
       "<tr>\n",
       "<td style='text-align: right'>3</td>\n",
       "<td style='text-align: right'>4</td>\n",
       "<td style='text-align: right'>0.0009580838323353293</td>\n",
       "</tr>\n",
       "<tr>\n",
       "<td style='text-align: right'>4</td>\n",
       "<td style='text-align: right'>1</td>\n",
       "<td style='text-align: right'>0.00023952095808383233</td>\n",
       "</tr>\n",
       "</tbody>\n",
       "</table>\n"
      ]
     },
     "metadata": {},
     "output_type": "display_data"
    }
   ],
   "source": [
    "tbl_windows_co.valuecounts('co_count_7g8_gb4').displayall()"
   ]
  },
  {
   "cell_type": "code",
   "execution_count": 16,
   "metadata": {
    "collapsed": false
   },
   "outputs": [
    {
     "data": {
      "text/html": [
       "<table class='petl'>\n",
       "<thead>\n",
       "<tr>\n",
       "<th>0|chrom</th>\n",
       "<th>1|start</th>\n",
       "<th>2|stop</th>\n",
       "<th>3|co_count</th>\n",
       "<th>4|co_count_3d7_hb3</th>\n",
       "<th>5|co_count_hb3_dd2</th>\n",
       "<th>6|co_count_7g8_gb4</th>\n",
       "<th>7|n_hot</th>\n",
       "</tr>\n",
       "</thead>\n",
       "<tbody>\n",
       "<tr>\n",
       "<td>Pf3D7_01_v3</td>\n",
       "<td style='text-align: right'>202901</td>\n",
       "<td style='text-align: right'>207900</td>\n",
       "<td>Counter({'hb3_dd2': 2, '7g8_gb4': 1})</td>\n",
       "<td style='text-align: right'>0</td>\n",
       "<td style='text-align: right'>2</td>\n",
       "<td style='text-align: right'>1</td>\n",
       "<td style='text-align: right'>1</td>\n",
       "</tr>\n",
       "<tr>\n",
       "<td>Pf3D7_01_v3</td>\n",
       "<td style='text-align: right'>322901</td>\n",
       "<td style='text-align: right'>327900</td>\n",
       "<td>Counter({'3d7_hb3': 2, 'hb3_dd2': 1})</td>\n",
       "<td style='text-align: right'>2</td>\n",
       "<td style='text-align: right'>1</td>\n",
       "<td style='text-align: right'>0</td>\n",
       "<td style='text-align: right'>1</td>\n",
       "</tr>\n",
       "<tr>\n",
       "<td>Pf3D7_01_v3</td>\n",
       "<td style='text-align: right'>402901</td>\n",
       "<td style='text-align: right'>407900</td>\n",
       "<td>Counter({'7g8_gb4': 2, 'hb3_dd2': 1})</td>\n",
       "<td style='text-align: right'>0</td>\n",
       "<td style='text-align: right'>1</td>\n",
       "<td style='text-align: right'>2</td>\n",
       "<td style='text-align: right'>1</td>\n",
       "</tr>\n",
       "<tr>\n",
       "<td>Pf3D7_01_v3</td>\n",
       "<td style='text-align: right'>550312</td>\n",
       "<td style='text-align: right'>555311</td>\n",
       "<td>Counter({'7g8_gb4': 2})</td>\n",
       "<td style='text-align: right'>0</td>\n",
       "<td style='text-align: right'>0</td>\n",
       "<td style='text-align: right'>2</td>\n",
       "<td style='text-align: right'>1</td>\n",
       "</tr>\n",
       "<tr>\n",
       "<td>Pf3D7_02_v3</td>\n",
       "<td style='text-align: right'>205801</td>\n",
       "<td style='text-align: right'>210800</td>\n",
       "<td>Counter({'3d7_hb3': 2})</td>\n",
       "<td style='text-align: right'>2</td>\n",
       "<td style='text-align: right'>0</td>\n",
       "<td style='text-align: right'>0</td>\n",
       "<td style='text-align: right'>1</td>\n",
       "</tr>\n",
       "</tbody>\n",
       "</table>\n",
       "<p><strong>...</strong></p>"
      ],
      "text/plain": [
       "+---------------+--------+--------+---------------------------------------+------------------+------------------+------------------+-------+\n",
       "| chrom         | start  | stop   | co_count                              | co_count_3d7_hb3 | co_count_hb3_dd2 | co_count_7g8_gb4 | n_hot |\n",
       "+===============+========+========+=======================================+==================+==================+==================+=======+\n",
       "| 'Pf3D7_01_v3' | 202901 | 207900 | Counter({'hb3_dd2': 2, '7g8_gb4': 1}) |                0 |                2 |                1 |     1 |\n",
       "+---------------+--------+--------+---------------------------------------+------------------+------------------+------------------+-------+\n",
       "| 'Pf3D7_01_v3' | 322901 | 327900 | Counter({'3d7_hb3': 2, 'hb3_dd2': 1}) |                2 |                1 |                0 |     1 |\n",
       "+---------------+--------+--------+---------------------------------------+------------------+------------------+------------------+-------+\n",
       "| 'Pf3D7_01_v3' | 402901 | 407900 | Counter({'7g8_gb4': 2, 'hb3_dd2': 1}) |                0 |                1 |                2 |     1 |\n",
       "+---------------+--------+--------+---------------------------------------+------------------+------------------+------------------+-------+\n",
       "| 'Pf3D7_01_v3' | 550312 | 555311 | Counter({'7g8_gb4': 2})               |                0 |                0 |                2 |     1 |\n",
       "+---------------+--------+--------+---------------------------------------+------------------+------------------+------------------+-------+\n",
       "| 'Pf3D7_02_v3' | 205801 | 210800 | Counter({'3d7_hb3': 2})               |                2 |                0 |                0 |     1 |\n",
       "+---------------+--------+--------+---------------------------------------+------------------+------------------+------------------+-------+\n",
       "..."
      ]
     },
     "execution_count": 16,
     "metadata": {},
     "output_type": "execute_result"
    }
   ],
   "source": [
    "tbl_hotspots = (\n",
    "    tbl_windows_co\n",
    "    .select(lambda row: row.co_count_3d7_hb3 >= 2 or row.co_count_hb3_dd2 >= 2 or row.co_count_7g8_gb4 >= 2)\n",
    "    .addfield('n_hot', lambda row: sum(1 for v in [row.co_count_3d7_hb3, row.co_count_hb3_dd2, row.co_count_7g8_gb4] if v >=2))\n",
    ")\n",
    "tbl_hotspots"
   ]
  },
  {
   "cell_type": "code",
   "execution_count": 17,
   "metadata": {
    "collapsed": false
   },
   "outputs": [
    {
     "data": {
      "text/html": [
       "<table class='petl'>\n",
       "<thead>\n",
       "<tr>\n",
       "<th>0|n_hot</th>\n",
       "<th>1|count</th>\n",
       "<th>2|frequency</th>\n",
       "</tr>\n",
       "</thead>\n",
       "<tbody>\n",
       "<tr>\n",
       "<td style='text-align: right'>1</td>\n",
       "<td style='text-align: right'>197</td>\n",
       "<td style='text-align: right'>0.9656862745098039</td>\n",
       "</tr>\n",
       "<tr>\n",
       "<td style='text-align: right'>2</td>\n",
       "<td style='text-align: right'>7</td>\n",
       "<td style='text-align: right'>0.03431372549019608</td>\n",
       "</tr>\n",
       "</tbody>\n",
       "</table>\n"
      ],
      "text/plain": [
       "+-------+-------+---------------------+\n",
       "| n_hot | count | frequency           |\n",
       "+=======+=======+=====================+\n",
       "|     1 |   197 |  0.9656862745098039 |\n",
       "+-------+-------+---------------------+\n",
       "|     2 |     7 | 0.03431372549019608 |\n",
       "+-------+-------+---------------------+"
      ]
     },
     "execution_count": 17,
     "metadata": {},
     "output_type": "execute_result"
    }
   ],
   "source": [
    "tbl_hotspots.valuecounts('n_hot')"
   ]
  },
  {
   "cell_type": "code",
   "execution_count": 18,
   "metadata": {
    "collapsed": false
   },
   "outputs": [
    {
     "data": {
      "text/plain": [
       "204"
      ]
     },
     "execution_count": 18,
     "metadata": {},
     "output_type": "execute_result"
    }
   ],
   "source": [
    "tbl_hotspots.nrows()"
   ]
  },
  {
   "cell_type": "code",
   "execution_count": null,
   "metadata": {
    "collapsed": true
   },
   "outputs": [],
   "source": []
  }
 ],
 "metadata": {
  "kernelspec": {
   "display_name": "Python 3",
   "language": "python",
   "name": "python3"
  },
  "language_info": {
   "codemirror_mode": {
    "name": "ipython",
    "version": 3
   },
   "file_extension": ".py",
   "mimetype": "text/x-python",
   "name": "python",
   "nbconvert_exporter": "python",
   "pygments_lexer": "ipython3",
   "version": "3.5.0+"
  }
 },
 "nbformat": 4,
 "nbformat_minor": 0
}
