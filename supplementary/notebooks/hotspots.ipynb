{
 "cells": [
  {
   "cell_type": "code",
   "execution_count": 1,
   "metadata": {
    "collapsed": false
   },
   "outputs": [
    {
     "name": "stdout",
     "output_type": "stream",
     "text": [
      "docker image cggh/biipy:v1.6.0\n"
     ]
    },
    {
     "data": {
      "text/html": [
       "<style type=\"text/css\">\n",
       ".container {\n",
       "    width: 96%;\n",
       "}\n",
       "#maintoolbar {\n",
       "    display: none;\n",
       "}\n",
       "#header-container {\n",
       "    display: none;\n",
       "}\n",
       "#notebook {\n",
       "    padding-top: 0;\n",
       "}\n",
       "</style>"
      ],
      "text/plain": [
       "<IPython.core.display.HTML object>"
      ]
     },
     "metadata": {},
     "output_type": "display_data"
    }
   ],
   "source": [
    "%run ../../shared_setup.ipynb"
   ]
  },
  {
   "cell_type": "code",
   "execution_count": 2,
   "metadata": {
    "collapsed": true
   },
   "outputs": [],
   "source": [
    "def tabulate(f):\n",
    "    class Tabulated(etl.Table):\n",
    "        def __init__(self, *args, **kwargs):\n",
    "            self.args = args\n",
    "            self.kwargs = kwargs\n",
    "        def __iter__(self):\n",
    "            return f(*self.args, **self.kwargs)\n",
    "    return Tabulated\n",
    "        "
   ]
  },
  {
   "cell_type": "code",
   "execution_count": 3,
   "metadata": {
    "collapsed": true
   },
   "outputs": [],
   "source": [
    "@tabulate\n",
    "def tabulate_core_windows(window_size):\n",
    "    yield 'chrom', 'start', 'stop'\n",
    "    for rec in tbl_regions_1b.eq('region_type', 'Core').records():\n",
    "        for start in range(rec.region_start, rec.region_stop, window_size):\n",
    "            yield rec.region_chrom, start, start + window_size - 1\n",
    "    "
   ]
  },
  {
   "cell_type": "code",
   "execution_count": 4,
   "metadata": {
    "collapsed": false
   },
   "outputs": [
    {
     "data": {
      "text/html": [
       "<table class='petl'>\n",
       "<caption>CO events (1194 rows)</caption>\n",
       "<thead>\n",
       "<tr>\n",
       "<th>0|sample</th>\n",
       "<th>1|chrom</th>\n",
       "<th>2|co_pos_mid</th>\n",
       "<th>3|co_pos_min</th>\n",
       "<th>4|co_pos_max</th>\n",
       "<th>5|co_pos_range</th>\n",
       "<th>6|cross</th>\n",
       "<th>7|co_from_parent</th>\n",
       "<th>8|co_to_parent</th>\n",
       "</tr>\n",
       "</thead>\n",
       "<tbody>\n",
       "<tr>\n",
       "<td>B1SD/PG0015-C/ERR019044</td>\n",
       "<td>Pf3D7_01_v3</td>\n",
       "<td style='text-align: right'>145052</td>\n",
       "<td style='text-align: right'>144877</td>\n",
       "<td style='text-align: right'>145227</td>\n",
       "<td style='text-align: right'>350</td>\n",
       "<td>hb3_dd2</td>\n",
       "<td>hb3</td>\n",
       "<td>dd2</td>\n",
       "</tr>\n",
       "<tr>\n",
       "<td>GC03/PG0021-C/ERR015447</td>\n",
       "<td>Pf3D7_01_v3</td>\n",
       "<td style='text-align: right'>163584</td>\n",
       "<td style='text-align: right'>163145</td>\n",
       "<td style='text-align: right'>164024</td>\n",
       "<td style='text-align: right'>879</td>\n",
       "<td>hb3_dd2</td>\n",
       "<td>dd2</td>\n",
       "<td>hb3</td>\n",
       "</tr>\n",
       "<tr>\n",
       "<td>XF12/PG0102-C/ERR029143</td>\n",
       "<td>Pf3D7_01_v3</td>\n",
       "<td style='text-align: right'>206769</td>\n",
       "<td style='text-align: right'>205803</td>\n",
       "<td style='text-align: right'>207736</td>\n",
       "<td style='text-align: right'>1933</td>\n",
       "<td>7g8_gb4</td>\n",
       "<td>gb4</td>\n",
       "<td>7g8</td>\n",
       "</tr>\n",
       "<tr>\n",
       "<td>7C159/PG0040-Cx/ERR107475</td>\n",
       "<td>Pf3D7_01_v3</td>\n",
       "<td style='text-align: right'>206905</td>\n",
       "<td style='text-align: right'>206074</td>\n",
       "<td style='text-align: right'>207736</td>\n",
       "<td style='text-align: right'>1662</td>\n",
       "<td>hb3_dd2</td>\n",
       "<td>hb3</td>\n",
       "<td>dd2</td>\n",
       "</tr>\n",
       "<tr>\n",
       "<td>CH3_61/PG0033-Cx/ERR175544</td>\n",
       "<td>Pf3D7_01_v3</td>\n",
       "<td style='text-align: right'>206905</td>\n",
       "<td style='text-align: right'>206074</td>\n",
       "<td style='text-align: right'>207736</td>\n",
       "<td style='text-align: right'>1662</td>\n",
       "<td>hb3_dd2</td>\n",
       "<td>dd2</td>\n",
       "<td>hb3</td>\n",
       "</tr>\n",
       "</tbody>\n",
       "</table>\n",
       "<p><strong>...</strong></p>"
      ]
     },
     "metadata": {},
     "output_type": "display_data"
    }
   ],
   "source": [
    "tbl_co = (\n",
    "    etl\n",
    "    .frompickle(os.path.join(PUBLIC_DIR, 'tbl_co.pickle'))\n",
    "    .convert('chrom', lambda v: str(v, 'ascii'))\n",
    ")\n",
    "display_with_nrows(tbl_co, caption='CO events')"
   ]
  },
  {
   "cell_type": "code",
   "execution_count": 5,
   "metadata": {
    "collapsed": false
   },
   "outputs": [
    {
     "name": "stderr",
     "output_type": "stream",
     "text": [
      "2016-03-14 15:24:26.350678 :: Pf3D7_01_v3\n",
      "2016-03-14 15:24:26.389463 :: Pf3D7_02_v3\n",
      "2016-03-14 15:24:26.424155 :: Pf3D7_03_v3\n",
      "2016-03-14 15:24:26.460277 :: Pf3D7_04_v3\n",
      "2016-03-14 15:24:26.493263 :: Pf3D7_05_v3\n",
      "2016-03-14 15:24:26.526733 :: Pf3D7_06_v3\n",
      "2016-03-14 15:24:26.561042 :: Pf3D7_07_v3\n",
      "2016-03-14 15:24:26.597658 :: Pf3D7_08_v3\n",
      "2016-03-14 15:24:26.633981 :: Pf3D7_09_v3\n",
      "2016-03-14 15:24:26.670715 :: Pf3D7_10_v3\n",
      "2016-03-14 15:24:26.705302 :: Pf3D7_11_v3\n",
      "2016-03-14 15:24:26.740746 :: Pf3D7_12_v3\n",
      "2016-03-14 15:24:26.776300 :: Pf3D7_13_v3\n",
      "2016-03-14 15:24:26.814106 :: Pf3D7_14_v3\n"
     ]
    }
   ],
   "source": [
    "is_exon = dict()\n",
    "for chrom in sorted(fasta.keys()):\n",
    "    log(chrom)\n",
    "    is_exon[chrom] = np.zeros(len(fasta[chrom]), dtype='b1')\n",
    "    for rec in tbl_exons.eq('feature_chrom', chrom).records():\n",
    "        start = rec.feature_start - 1\n",
    "        stop = rec.feature_stop\n",
    "        is_exon[chrom][start:stop] = True\n"
   ]
  },
  {
   "cell_type": "code",
   "execution_count": 8,
   "metadata": {
    "collapsed": false
   },
   "outputs": [
    {
     "name": "stderr",
     "output_type": "stream",
     "text": [
      "/usr/local/lib/python3.5/dist-packages/rpy2/robjects/functions.py:106: UserWarning: Loading required package: car\n",
      "\n",
      "  res = super(Function, self).__call__(*new_args, **new_kwargs)\n",
      "/usr/local/lib/python3.5/dist-packages/rpy2/robjects/functions.py:106: UserWarning: Loading required package: lmtest\n",
      "\n",
      "  res = super(Function, self).__call__(*new_args, **new_kwargs)\n",
      "/usr/local/lib/python3.5/dist-packages/rpy2/robjects/functions.py:106: UserWarning: Loading required package: zoo\n",
      "\n",
      "  res = super(Function, self).__call__(*new_args, **new_kwargs)\n",
      "/usr/local/lib/python3.5/dist-packages/rpy2/robjects/functions.py:106: UserWarning: \n",
      "Attaching package: 'zoo'\n",
      "\n",
      "\n",
      "  res = super(Function, self).__call__(*new_args, **new_kwargs)\n",
      "/usr/local/lib/python3.5/dist-packages/rpy2/robjects/functions.py:106: UserWarning: The following objects are masked from 'package:base':\n",
      "\n",
      "    as.Date, as.Date.numeric\n",
      "\n",
      "\n",
      "  res = super(Function, self).__call__(*new_args, **new_kwargs)\n",
      "/usr/local/lib/python3.5/dist-packages/rpy2/robjects/functions.py:106: UserWarning: Loading required package: sandwich\n",
      "\n",
      "  res = super(Function, self).__call__(*new_args, **new_kwargs)\n",
      "/usr/local/lib/python3.5/dist-packages/rpy2/robjects/functions.py:106: UserWarning: Loading required package: survival\n",
      "\n",
      "  res = super(Function, self).__call__(*new_args, **new_kwargs)\n"
     ]
    }
   ],
   "source": [
    "%%R\n",
    "library(AER)"
   ]
  },
  {
   "cell_type": "code",
   "execution_count": 39,
   "metadata": {
    "collapsed": false
   },
   "outputs": [
    {
     "name": "stderr",
     "output_type": "stream",
     "text": [
      "2016-03-14 16:33:06.102736 :: loading /data/plasmodium/pfalciparum/pf-crosses/data/public/20141022/3d7_hb3.combined.final.npz\n",
      "2016-03-14 16:33:06.312482 :: filter variants: excluding 157 (0.4%) retaining 42087 (99.6%) of 42244 variants\n",
      "2016-03-14 16:33:06.355337 :: filter calls: excluding 2439 (0.3%) retaining 881388 (99.7%) of 883827 calls\n",
      "2016-03-14 16:33:06.356063 :: loading /data/plasmodium/pfalciparum/pf-crosses/data/public/20141022/hb3_dd2.combined.final.npz\n",
      "2016-03-14 16:33:06.616439 :: filter variants: excluding 450 (1.2%) retaining 36461 (98.8%) of 36911 variants\n",
      "2016-03-14 16:33:06.631426 :: filter samples: excluding ['SC01/PG0025-C/ERR019045'] including ['HB3/PG0004-CW/ERR012788', 'DD2/PG0008-CW/ERR012840', '1BB5/PG0023-C/ERR015449', '3BA6/PG0022-Cx/ERR126027', '3BD5/PG0024-C/ERR019053', '7C101/PG0074-C/ERR019048', '7C111/PG0038-C/ERR015457', '7C12/PG0035-Cx/ERR037704', '7C126/PG0047-C/ERR015452', '7C140/PG0039-C/ERR015454', '7C159/PG0040-Cx/ERR107475', '7C16/PG0036-C/ERR015455', '7C170/PG0041-C/ERR015446', '7C183/PG0042-C/ERR015448', '7C188/PG0030-C/ERR019046', '7C20/PG0037-C/ERR015451', '7C3/PG0034-C/ERR019047', '7C408/PG0031-C/ERR015458', '7C421/PG0043-C/ERR015459', '7C424/PG0044-C/ERR019043', '7C46/PG0046-Cx/ERR107476', '7C7/PG0048-C/ERR019049', 'B1SD/PG0015-C/ERR019044', 'B4R3/PG0018-C/ERR019042', 'CH3_116/PG0032-Cx/ERR037703', 'CH3_61/PG0033-Cx/ERR175544', 'D43/PG0029-Cx/ERR107474', 'GC03/PG0021-C/ERR015447', 'GC06/PG0028-C/ERR015456', 'QC01/PG0017-C/ERR019050', 'QC13/PG0016-C/ERR012895', 'QC23/PG0045-C/ERR012892', 'QC34/PG0026-C/ERR015453', 'SC05/PG0019-C/ERR019051', 'TC05/PG0027-C/ERR015450', 'TC08/PG0020-C/ERR019052']\n",
      "2016-03-14 16:33:06.694254 :: filter calls: excluding 28934 (2.2%) retaining 1283662 (97.8%) of 1312596 calls\n",
      "2016-03-14 16:33:06.695673 :: loading /data/plasmodium/pfalciparum/pf-crosses/data/public/20141022/7g8_gb4.combined.final.npz\n",
      "2016-03-14 16:33:06.954661 :: filter variants: excluding 304 (0.9%) retaining 34471 (99.1%) of 34775 variants\n",
      "2016-03-14 16:33:06.969186 :: filter samples: excluding ['D2/PG0094-CW/ERR045632'] including ['7G8/PG0083-C/ERR027099', 'GB4/PG0084-C/ERR027100', 'AL2/PG0103-CW/ERR045627', 'AUD/PG0112-C/ERR029406', 'AUD/PG0112-CW/ERR045639', 'DAN/PG0098-C/ERR027110', 'DEV/PG0081-CW/ERR045633', 'JB12/PG0099-C/ERR029146', 'JB8/PG0087-C/ERR029091', 'JC3/PG0077-CW/ERR045636', 'JC9/PG0111-C/ERR029409', 'JC9/PG0111-CW/ERR045634', 'JE11/PG0100-C/ERR029404', 'JE11/PG0100-CW/ERR045630', 'JF6/PG0079-C/ERR027102', 'JF6/PG0079-CW/ERR045637', 'JON/PG0107-C/ERR029408', 'KA6/PG0091-C/ERR027117', 'KB8/PG0104-C/ERR029148', 'KB8/PG0104-CW/ERR045642', 'KH7/PG0088-C/ERR027111', 'LA10/PG0086-C/ERR029090', 'LA10/PG0086-CW/ERR045629', 'NF10/PG0096-C/ERR027108', 'NIC/PG0095-C/ERR027107', 'NIC/PG0095-CW/ERR045631', 'QF5/PG0078-C/ERR029092', 'QF5/PG0078-CW/ERR045638', 'TF1/PG0080-C/ERR027103', 'WC4/PG0082-C/ERR029093', 'WE2/PG0085-C/ERR027101', 'WF12/PG0097-C/ERR027109', 'XB3/PG0093-C/ERR029105', 'XD8/PG0105-C/ERR029144', 'XD8/PG0105-CW/ERR045628', 'XE7/PG0106-C/ERR029407', 'XF12/PG0102-C/ERR029143', 'XF12/PG0102-CW/ERR045635', 'XG10/PG0109-C/ERR029405']\n",
      "2016-03-14 16:33:07.032631 :: filter calls: excluding 19937 (1.5%) retaining 1324432 (98.5%) of 1344369 calls\n"
     ]
    }
   ],
   "source": [
    "callsets = load_callsets(COMBINED_CALLSET_FN_TEMPLATE, \n",
    "                         variant_filter='FILTER_PASS',\n",
    "                         call_filter=combined_conf_calls, \n",
    "                         sample_exclusions=excessive_recomb_samples)"
   ]
  },
  {
   "cell_type": "code",
   "execution_count": 40,
   "metadata": {
    "collapsed": false
   },
   "outputs": [],
   "source": [
    "pos = dict()\n",
    "for cross in CROSSES:\n",
    "    variants = callsets[cross]['variants']\n",
    "    pos[cross] = allel.SortedMultiIndex(variants['CHROM'], variants['POS'])"
   ]
  },
  {
   "cell_type": "code",
   "execution_count": 42,
   "metadata": {
    "collapsed": true
   },
   "outputs": [],
   "source": [
    "is_snp = dict()\n",
    "for cross in CROSSES:\n",
    "    variants = callsets[cross]['variants']\n",
    "    is_snp[cross] = variants['is_snp']"
   ]
  },
  {
   "cell_type": "code",
   "execution_count": 48,
   "metadata": {
    "collapsed": false
   },
   "outputs": [
    {
     "ename": "KeyError",
     "evalue": "(b'Pf3D7_01_v3', 92901, 93900)",
     "output_type": "error",
     "traceback": [
      "\u001b[1;31m---------------------------------------------------------------------------\u001b[0m",
      "\u001b[1;31mKeyError\u001b[0m                                  Traceback (most recent call last)",
      "\u001b[1;32m/usr/local/lib/python3.5/dist-packages/allel/model/ndarray.py\u001b[0m in \u001b[0;36mlocate_range\u001b[1;34m(self, k1, start, stop)\u001b[0m\n\u001b[0;32m   3680\u001b[0m             \u001b[1;32mtry\u001b[0m\u001b[1;33m:\u001b[0m\u001b[1;33m\u001b[0m\u001b[0m\n\u001b[1;32m-> 3681\u001b[1;33m                 \u001b[0mloc2\u001b[0m \u001b[1;33m=\u001b[0m \u001b[0midx\u001b[0m\u001b[1;33m.\u001b[0m\u001b[0mlocate_range\u001b[0m\u001b[1;33m(\u001b[0m\u001b[0mstart\u001b[0m\u001b[1;33m,\u001b[0m \u001b[0mstop\u001b[0m\u001b[1;33m)\u001b[0m\u001b[1;33m\u001b[0m\u001b[0m\n\u001b[0m\u001b[0;32m   3682\u001b[0m             \u001b[1;32mexcept\u001b[0m \u001b[0mKeyError\u001b[0m\u001b[1;33m:\u001b[0m\u001b[1;33m\u001b[0m\u001b[0m\n",
      "\u001b[1;32m/usr/local/lib/python3.5/dist-packages/allel/model/ndarray.py\u001b[0m in \u001b[0;36mlocate_range\u001b[1;34m(self, start, stop)\u001b[0m\n\u001b[0;32m   3093\u001b[0m         \u001b[1;32mif\u001b[0m \u001b[0mstop_index\u001b[0m \u001b[1;33m-\u001b[0m \u001b[0mstart_index\u001b[0m \u001b[1;33m==\u001b[0m \u001b[1;36m0\u001b[0m\u001b[1;33m:\u001b[0m\u001b[1;33m\u001b[0m\u001b[0m\n\u001b[1;32m-> 3094\u001b[1;33m             \u001b[1;32mraise\u001b[0m \u001b[0mKeyError\u001b[0m\u001b[1;33m(\u001b[0m\u001b[0mstart\u001b[0m\u001b[1;33m,\u001b[0m \u001b[0mstop\u001b[0m\u001b[1;33m)\u001b[0m\u001b[1;33m\u001b[0m\u001b[0m\n\u001b[0m\u001b[0;32m   3095\u001b[0m \u001b[1;33m\u001b[0m\u001b[0m\n",
      "\u001b[1;31mKeyError\u001b[0m: (92901, 93900)",
      "\nDuring handling of the above exception, another exception occurred:\n",
      "\u001b[1;31mKeyError\u001b[0m                                  Traceback (most recent call last)",
      "\u001b[1;32m<ipython-input-48-3d4a8216c32e>\u001b[0m in \u001b[0;36m<module>\u001b[1;34m()\u001b[0m\n\u001b[1;32m----> 1\u001b[1;33m \u001b[0mloc\u001b[0m \u001b[1;33m=\u001b[0m \u001b[0mpos\u001b[0m\u001b[1;33m[\u001b[0m\u001b[1;34m'3d7_hb3'\u001b[0m\u001b[1;33m]\u001b[0m\u001b[1;33m.\u001b[0m\u001b[0mlocate_range\u001b[0m\u001b[1;33m(\u001b[0m\u001b[1;34mb'Pf3D7_01_v3'\u001b[0m\u001b[1;33m,\u001b[0m \u001b[1;36m92901\u001b[0m\u001b[1;33m,\u001b[0m \u001b[1;36m93900\u001b[0m\u001b[1;33m)\u001b[0m\u001b[1;33m\u001b[0m\u001b[0m\n\u001b[0m\u001b[0;32m      2\u001b[0m \u001b[0mloc\u001b[0m\u001b[1;33m\u001b[0m\u001b[0m\n",
      "\u001b[1;32m/usr/local/lib/python3.5/dist-packages/allel/model/ndarray.py\u001b[0m in \u001b[0;36mlocate_range\u001b[1;34m(self, k1, start, stop)\u001b[0m\n\u001b[0;32m   3681\u001b[0m                 \u001b[0mloc2\u001b[0m \u001b[1;33m=\u001b[0m \u001b[0midx\u001b[0m\u001b[1;33m.\u001b[0m\u001b[0mlocate_range\u001b[0m\u001b[1;33m(\u001b[0m\u001b[0mstart\u001b[0m\u001b[1;33m,\u001b[0m \u001b[0mstop\u001b[0m\u001b[1;33m)\u001b[0m\u001b[1;33m\u001b[0m\u001b[0m\n\u001b[0;32m   3682\u001b[0m             \u001b[1;32mexcept\u001b[0m \u001b[0mKeyError\u001b[0m\u001b[1;33m:\u001b[0m\u001b[1;33m\u001b[0m\u001b[0m\n\u001b[1;32m-> 3683\u001b[1;33m                 \u001b[1;32mraise\u001b[0m \u001b[0mKeyError\u001b[0m\u001b[1;33m(\u001b[0m\u001b[0mk1\u001b[0m\u001b[1;33m,\u001b[0m \u001b[0mstart\u001b[0m\u001b[1;33m,\u001b[0m \u001b[0mstop\u001b[0m\u001b[1;33m)\u001b[0m\u001b[1;33m\u001b[0m\u001b[0m\n\u001b[0m\u001b[0;32m   3684\u001b[0m             \u001b[1;32melse\u001b[0m\u001b[1;33m:\u001b[0m\u001b[1;33m\u001b[0m\u001b[0m\n\u001b[0;32m   3685\u001b[0m                 \u001b[0mloc\u001b[0m \u001b[1;33m=\u001b[0m \u001b[0mslice\u001b[0m\u001b[1;33m(\u001b[0m\u001b[0moffset\u001b[0m \u001b[1;33m+\u001b[0m \u001b[0mloc2\u001b[0m\u001b[1;33m.\u001b[0m\u001b[0mstart\u001b[0m\u001b[1;33m,\u001b[0m \u001b[0moffset\u001b[0m \u001b[1;33m+\u001b[0m \u001b[0mloc2\u001b[0m\u001b[1;33m.\u001b[0m\u001b[0mstop\u001b[0m\u001b[1;33m)\u001b[0m\u001b[1;33m\u001b[0m\u001b[0m\n",
      "\u001b[1;31mKeyError\u001b[0m: (b'Pf3D7_01_v3', 92901, 93900)"
     ]
    }
   ],
   "source": [
    "loc = pos['3d7_hb3'].locate_range(b'Pf3D7_01_v3', 92901, 93900)\n",
    "loc"
   ]
  },
  {
   "cell_type": "code",
   "execution_count": 45,
   "metadata": {
    "collapsed": false
   },
   "outputs": [
    {
     "data": {
      "text/plain": [
       "array([False, False, False, False, False, False, False,  True, False,\n",
       "        True, False, False, False,  True,  True,  True,  True, False,\n",
       "       False, False, False,  True, False, False, False, False, False,\n",
       "       False, False,  True, False, False, False, False, False,  True,\n",
       "       False, False, False], dtype=bool)"
      ]
     },
     "execution_count": 45,
     "metadata": {},
     "output_type": "execute_result"
    }
   ],
   "source": [
    "is_snp['3d7_hb3'][loc]"
   ]
  },
  {
   "cell_type": "code",
   "execution_count": 51,
   "metadata": {
    "collapsed": true
   },
   "outputs": [],
   "source": [
    "def distance_to_centromere(row):\n",
    "    cen_id = 'PF3D7_CEN' + row.chrom[6:8]\n",
    "    try:\n",
    "        cen = lkp_feature[cen_id]\n",
    "        cen_pos = (cen['feature_start'] + cen['feature_stop'])/2\n",
    "        window_pos = (row.start + row.stop) / 2\n",
    "        return abs(window_pos - cen_pos)\n",
    "    except KeyError:\n",
    "        return None\n",
    "    \n",
    "\n",
    "def n_coding(row):\n",
    "    return np.count_nonzero(is_exon[row.chrom][row.start-1:row.stop])\n",
    "\n",
    "\n",
    "def gc(row):\n",
    "    seq = fasta[row.chrom][row.start-1:row.stop].lower()\n",
    "    com = collections.Counter(seq)\n",
    "    return (com['g'] + com['c']) / len(seq) \n",
    "\n",
    "\n",
    "def n_variants(row):\n",
    "    nv = ni = ns = 0\n",
    "    start = row.start\n",
    "    stop = row.stop\n",
    "    chrom = row.chrom.encode('ascii')\n",
    "    for cross in CROSSES:\n",
    "        try:\n",
    "            loc = pos[cross].locate_range(chrom, start, stop)\n",
    "        except KeyError:\n",
    "            pass\n",
    "        else:\n",
    "            x = is_snp[cross][loc]\n",
    "            ns += nnz(x)\n",
    "            ni += nnz(~x)\n",
    "    return ns, ni\n",
    "    \n",
    "    \n",
    "def analyse_dispersion(*window_sizes):\n",
    "    for window_size in window_sizes:\n",
    "        log('=================================')\n",
    "        log(window_size)\n",
    "        \n",
    "        # tabulate windows\n",
    "        tbl_windows = tabulate_core_windows(window_size)\n",
    "        \n",
    "        # count COs in windows\n",
    "        tbl_windows_co = (\n",
    "            tbl_windows\n",
    "            .intervalleftjoin(tbl_co, lkey='chrom', lstart='start', lstop='stop',\n",
    "                              rkey='chrom', rstart='co_pos_min', rstop='co_pos_max',\n",
    "                              include_stop=True)\n",
    "            .cutout(4)\n",
    "            .aggregate(key=('chrom', 'start', 'stop'),\n",
    "                       aggregation=lambda vals: sum(1 for v in vals if v is not None),\n",
    "                       value='cross')\n",
    "            .rename('value', 'co_count')\n",
    "            \n",
    "        )\n",
    "        tbl_windows_co.valuecounts('co_count').displayall(caption='window size: %sbp' % window_size)\n",
    "        \n",
    "        # augment\n",
    "        tbl_aug = (\n",
    "            tbl_windows_co\n",
    "            .addfield('cen_dist', distance_to_centromere)\n",
    "            .notnone('cen_dist')\n",
    "            .addfield('n_coding', n_coding)\n",
    "            .addfield('gc', gc)\n",
    "            .addfield('n_variants', n_variants)\n",
    "            .unpack('n_variants', ('n_snps', 'n_indels'))\n",
    "        )\n",
    "        tbl_aug.display(caption='augmented windows')\n",
    "        \n",
    "        # convert to dataframe\n",
    "        df = tbl_aug.todataframe()\n",
    "        df_cen = df[df.cen_dist < 100000]\n",
    "        df_tel = df[df.cen_dist > 100000]\n",
    "        \n",
    "        # model \n",
    "        log('************************')\n",
    "        log('model centromeric')\n",
    "        mu_cen = df_cen.co_count.mean()\n",
    "        log(mu_cen)\n",
    "        log('~~~~~~~~~~~~~~~~~~~~~~~~~~~~')\n",
    "        rd = %R -i df_cen -o rd rd <- glm(co_count ~ cen_dist + n_coding + gc + n_snps + n_indels, data = df_cen, family = poisson)\n",
    "        summ = %R summary(rd)\n",
    "        log(summ)\n",
    "        t = %R -i rd -o t t <- dispersiontest(rd, trafo=1, alternative=\"greater\")\n",
    "        log(t)\n",
    "        \n",
    "        log('************************')\n",
    "        log('model telomeric')\n",
    "        mu_tel = df_tel.co_count.mean()\n",
    "        log(mu_tel)\n",
    "        log('~~~~~~~~~~~~~~~~~~~~~~~~~~~~')\n",
    "        rd = %R -i df_tel -o rd rd <- glm(co_count ~ cen_dist + n_coding + gc + n_snps + n_indels, data = df_tel, family = poisson)\n",
    "        summ = %R summary(rd)\n",
    "        log(summ)\n",
    "        t = %R -i rd -o t t <- dispersiontest(rd, trafo=1, alternative=\"greater\")\n",
    "        log(t)\n"
   ]
  },
  {
   "cell_type": "code",
   "execution_count": 54,
   "metadata": {
    "collapsed": false,
    "scrolled": false
   },
   "outputs": [
    {
     "name": "stderr",
     "output_type": "stream",
     "text": [
      "2016-03-14 17:00:52.889118 :: =================================\n",
      "2016-03-14 17:00:52.889442 :: 1000\n"
     ]
    },
    {
     "data": {
      "text/html": [
       "<table class='petl'>\n",
       "<caption>window size: 1000bp</caption>\n",
       "<thead>\n",
       "<tr>\n",
       "<th>0|co_count</th>\n",
       "<th>1|count</th>\n",
       "<th>2|frequency</th>\n",
       "</tr>\n",
       "</thead>\n",
       "<tbody>\n",
       "<tr>\n",
       "<td style='text-align: right'>0</td>\n",
       "<td style='text-align: right'>17573</td>\n",
       "<td style='text-align: right'>0.844774540909528</td>\n",
       "</tr>\n",
       "<tr>\n",
       "<td style='text-align: right'>1</td>\n",
       "<td style='text-align: right'>2584</td>\n",
       "<td style='text-align: right'>0.1242188251129699</td>\n",
       "</tr>\n",
       "<tr>\n",
       "<td style='text-align: right'>2</td>\n",
       "<td style='text-align: right'>438</td>\n",
       "<td style='text-align: right'>0.021055667724257283</td>\n",
       "</tr>\n",
       "<tr>\n",
       "<td style='text-align: right'>3</td>\n",
       "<td style='text-align: right'>192</td>\n",
       "<td style='text-align: right'>0.009229881742140178</td>\n",
       "</tr>\n",
       "<tr>\n",
       "<td style='text-align: right'>4</td>\n",
       "<td style='text-align: right'>12</td>\n",
       "<td style='text-align: right'>0.0005768676088837611</td>\n",
       "</tr>\n",
       "<tr>\n",
       "<td style='text-align: right'>5</td>\n",
       "<td style='text-align: right'>3</td>\n",
       "<td style='text-align: right'>0.00014421690222094028</td>\n",
       "</tr>\n",
       "</tbody>\n",
       "</table>\n"
      ]
     },
     "metadata": {},
     "output_type": "display_data"
    },
    {
     "data": {
      "text/html": [
       "<table class='petl'>\n",
       "<caption>augmented windows</caption>\n",
       "<thead>\n",
       "<tr>\n",
       "<th>0|chrom</th>\n",
       "<th>1|start</th>\n",
       "<th>2|stop</th>\n",
       "<th>3|co_count</th>\n",
       "<th>4|cen_dist</th>\n",
       "<th>5|n_coding</th>\n",
       "<th>6|gc</th>\n",
       "<th>7|n_snps</th>\n",
       "<th>8|n_indels</th>\n",
       "</tr>\n",
       "</thead>\n",
       "<tbody>\n",
       "<tr>\n",
       "<td>Pf3D7_01_v3</td>\n",
       "<td style='text-align: right'>92901</td>\n",
       "<td style='text-align: right'>93900</td>\n",
       "<td style='text-align: right'>0</td>\n",
       "<td style='text-align: right'>365720.5</td>\n",
       "<td style='text-align: right'>0</td>\n",
       "<td style='text-align: right'>0.212</td>\n",
       "<td style='text-align: right'>1</td>\n",
       "<td style='text-align: right'>0</td>\n",
       "</tr>\n",
       "<tr>\n",
       "<td>Pf3D7_01_v3</td>\n",
       "<td style='text-align: right'>93901</td>\n",
       "<td style='text-align: right'>94900</td>\n",
       "<td style='text-align: right'>0</td>\n",
       "<td style='text-align: right'>364720.5</td>\n",
       "<td style='text-align: right'>0</td>\n",
       "<td style='text-align: right'>0.124</td>\n",
       "<td style='text-align: right'>3</td>\n",
       "<td style='text-align: right'>6</td>\n",
       "</tr>\n",
       "<tr>\n",
       "<td>Pf3D7_01_v3</td>\n",
       "<td style='text-align: right'>94901</td>\n",
       "<td style='text-align: right'>95900</td>\n",
       "<td style='text-align: right'>0</td>\n",
       "<td style='text-align: right'>363720.5</td>\n",
       "<td style='text-align: right'>0</td>\n",
       "<td style='text-align: right'>0.284</td>\n",
       "<td style='text-align: right'>25</td>\n",
       "<td style='text-align: right'>3</td>\n",
       "</tr>\n",
       "<tr>\n",
       "<td>Pf3D7_01_v3</td>\n",
       "<td style='text-align: right'>95901</td>\n",
       "<td style='text-align: right'>96900</td>\n",
       "<td style='text-align: right'>0</td>\n",
       "<td style='text-align: right'>362720.5</td>\n",
       "<td style='text-align: right'>0</td>\n",
       "<td style='text-align: right'>0.108</td>\n",
       "<td style='text-align: right'>0</td>\n",
       "<td style='text-align: right'>2</td>\n",
       "</tr>\n",
       "<tr>\n",
       "<td>Pf3D7_01_v3</td>\n",
       "<td style='text-align: right'>96901</td>\n",
       "<td style='text-align: right'>97900</td>\n",
       "<td style='text-align: right'>0</td>\n",
       "<td style='text-align: right'>361720.5</td>\n",
       "<td style='text-align: right'>0</td>\n",
       "<td style='text-align: right'>0.094</td>\n",
       "<td style='text-align: right'>0</td>\n",
       "<td style='text-align: right'>2</td>\n",
       "</tr>\n",
       "</tbody>\n",
       "</table>\n",
       "<p><strong>...</strong></p>"
      ]
     },
     "metadata": {},
     "output_type": "display_data"
    },
    {
     "name": "stderr",
     "output_type": "stream",
     "text": [
      "2016-03-14 17:01:08.295303 :: ************************\n",
      "2016-03-14 17:01:08.295656 :: model centromeric\n",
      "2016-03-14 17:01:08.296016 :: 0.162679425837\n",
      "2016-03-14 17:01:08.296180 :: ~~~~~~~~~~~~~~~~~~~~~~~~~~~~\n",
      "2016-03-14 17:01:08.342602 :: \n",
      "Call:\n",
      "glm(formula = co_count ~ cen_dist + n_coding + gc + n_snps + \n",
      "    n_indels, family = poisson, data = df_cen)\n",
      "\n",
      "Deviance Residuals: \n",
      "    Min       1Q   Median       3Q      Max  \n",
      "-1.0001  -0.6205  -0.5025  -0.3882   3.3288  \n",
      "\n",
      "Coefficients:\n",
      "              Estimate Std. Error z value Pr(>|z|)    \n",
      "(Intercept) -2.256e+00  3.010e-01  -7.494 6.68e-14 ***\n",
      "cen_dist     1.456e-05  1.842e-06   7.906 2.66e-15 ***\n",
      "n_coding     1.085e-03  2.214e-04   4.899 9.64e-07 ***\n",
      "gc          -5.677e+00  1.819e+00  -3.120  0.00181 ** \n",
      "n_snps      -2.654e-02  1.804e-02  -1.471  0.14119    \n",
      "n_indels     2.440e-02  2.033e-02   1.200  0.23019    \n",
      "---\n",
      "Signif. codes:  0 '***' 0.001 '**' 0.01 '*' 0.05 '.' 0.1 ' ' 1\n",
      "\n",
      "(Dispersion parameter for poisson family taken to be 1)\n",
      "\n",
      "    Null deviance: 1642.3  on 2507  degrees of freedom\n",
      "Residual deviance: 1543.5  on 2502  degrees of freedom\n",
      "AIC: 2292.7\n",
      "\n",
      "Number of Fisher Scoring iterations: 6\n",
      "\n",
      "\n",
      "2016-03-14 17:01:08.350108 :: \n",
      "\tOverdispersion test\n",
      "\n",
      "data:  rd\n",
      "z = 2.9014, p-value = 0.001858\n",
      "alternative hypothesis: true alpha is greater than 0\n",
      "sample estimates:\n",
      "     alpha \n",
      "0.09643325 \n",
      "\n",
      "\n",
      "2016-03-14 17:01:08.351354 :: ************************\n",
      "2016-03-14 17:01:08.351507 :: model telomeric\n",
      "2016-03-14 17:01:08.351959 :: 0.203442320291\n",
      "2016-03-14 17:01:08.352162 :: ~~~~~~~~~~~~~~~~~~~~~~~~~~~~\n",
      "2016-03-14 17:01:08.709313 :: \n",
      "Call:\n",
      "glm(formula = co_count ~ cen_dist + n_coding + gc + n_snps + \n",
      "    n_indels, family = poisson, data = df_tel)\n",
      "\n",
      "Deviance Residuals: \n",
      "    Min       1Q   Median       3Q      Max  \n",
      "-0.9195  -0.6788  -0.5994  -0.5012   5.2029  \n",
      "\n",
      "Coefficients:\n",
      "              Estimate Std. Error z value Pr(>|z|)    \n",
      "(Intercept) -8.962e-01  9.774e-02  -9.169  < 2e-16 ***\n",
      "cen_dist    -5.421e-07  4.725e-08 -11.473  < 2e-16 ***\n",
      "n_coding     5.380e-04  7.172e-05   7.502 6.31e-14 ***\n",
      "gc          -2.695e+00  5.768e-01  -4.673 2.97e-06 ***\n",
      "n_snps      -3.598e-02  7.274e-03  -4.947 7.55e-07 ***\n",
      "n_indels    -4.813e-02  7.864e-03  -6.120 9.35e-10 ***\n",
      "---\n",
      "Signif. codes:  0 '***' 0.001 '**' 0.01 '*' 0.05 '.' 0.1 ' ' 1\n",
      "\n",
      "(Dispersion parameter for poisson family taken to be 1)\n",
      "\n",
      "    Null deviance: 13276  on 16790  degrees of freedom\n",
      "Residual deviance: 12913  on 16785  degrees of freedom\n",
      "AIC: 18626\n",
      "\n",
      "Number of Fisher Scoring iterations: 6\n",
      "\n",
      "\n",
      "2016-03-14 17:01:08.732704 :: \n",
      "\tOverdispersion test\n",
      "\n",
      "data:  rd\n",
      "z = 13.796, p-value < 2.2e-16\n",
      "alternative hypothesis: true alpha is greater than 0\n",
      "sample estimates:\n",
      "  alpha \n",
      "0.31039 \n",
      "\n",
      "\n"
     ]
    }
   ],
   "source": [
    "analyse_dispersion(1000)"
   ]
  },
  {
   "cell_type": "code",
   "execution_count": 55,
   "metadata": {
    "collapsed": false
   },
   "outputs": [
    {
     "name": "stderr",
     "output_type": "stream",
     "text": [
      "2016-03-14 17:01:08.739122 :: =================================\n",
      "2016-03-14 17:01:08.739385 :: 2000\n"
     ]
    },
    {
     "data": {
      "text/html": [
       "<table class='petl'>\n",
       "<caption>window size: 2000bp</caption>\n",
       "<thead>\n",
       "<tr>\n",
       "<th>0|co_count</th>\n",
       "<th>1|count</th>\n",
       "<th>2|frequency</th>\n",
       "</tr>\n",
       "</thead>\n",
       "<tbody>\n",
       "<tr>\n",
       "<td style='text-align: right'>0</td>\n",
       "<td style='text-align: right'>8351</td>\n",
       "<td style='text-align: right'>0.8022864828513786</td>\n",
       "</tr>\n",
       "<tr>\n",
       "<td style='text-align: right'>1</td>\n",
       "<td style='text-align: right'>1618</td>\n",
       "<td style='text-align: right'>0.15544240561052936</td>\n",
       "</tr>\n",
       "<tr>\n",
       "<td style='text-align: right'>2</td>\n",
       "<td style='text-align: right'>311</td>\n",
       "<td style='text-align: right'>0.02987799020078778</td>\n",
       "</tr>\n",
       "<tr>\n",
       "<td style='text-align: right'>3</td>\n",
       "<td style='text-align: right'>117</td>\n",
       "<td style='text-align: right'>0.011240272840810837</td>\n",
       "</tr>\n",
       "<tr>\n",
       "<td style='text-align: right'>4</td>\n",
       "<td style='text-align: right'>10</td>\n",
       "<td style='text-align: right'>0.0009607070804111826</td>\n",
       "</tr>\n",
       "<tr>\n",
       "<td style='text-align: right'>5</td>\n",
       "<td style='text-align: right'>2</td>\n",
       "<td style='text-align: right'>0.00019214141608223654</td>\n",
       "</tr>\n",
       "</tbody>\n",
       "</table>\n"
      ]
     },
     "metadata": {},
     "output_type": "display_data"
    },
    {
     "data": {
      "text/html": [
       "<table class='petl'>\n",
       "<caption>augmented windows</caption>\n",
       "<thead>\n",
       "<tr>\n",
       "<th>0|chrom</th>\n",
       "<th>1|start</th>\n",
       "<th>2|stop</th>\n",
       "<th>3|co_count</th>\n",
       "<th>4|cen_dist</th>\n",
       "<th>5|n_coding</th>\n",
       "<th>6|gc</th>\n",
       "<th>7|n_snps</th>\n",
       "<th>8|n_indels</th>\n",
       "</tr>\n",
       "</thead>\n",
       "<tbody>\n",
       "<tr>\n",
       "<td>Pf3D7_01_v3</td>\n",
       "<td style='text-align: right'>92901</td>\n",
       "<td style='text-align: right'>94900</td>\n",
       "<td style='text-align: right'>0</td>\n",
       "<td style='text-align: right'>365220.5</td>\n",
       "<td style='text-align: right'>0</td>\n",
       "<td style='text-align: right'>0.168</td>\n",
       "<td style='text-align: right'>4</td>\n",
       "<td style='text-align: right'>6</td>\n",
       "</tr>\n",
       "<tr>\n",
       "<td>Pf3D7_01_v3</td>\n",
       "<td style='text-align: right'>94901</td>\n",
       "<td style='text-align: right'>96900</td>\n",
       "<td style='text-align: right'>0</td>\n",
       "<td style='text-align: right'>363220.5</td>\n",
       "<td style='text-align: right'>0</td>\n",
       "<td style='text-align: right'>0.196</td>\n",
       "<td style='text-align: right'>25</td>\n",
       "<td style='text-align: right'>5</td>\n",
       "</tr>\n",
       "<tr>\n",
       "<td>Pf3D7_01_v3</td>\n",
       "<td style='text-align: right'>96901</td>\n",
       "<td style='text-align: right'>98900</td>\n",
       "<td style='text-align: right'>0</td>\n",
       "<td style='text-align: right'>361220.5</td>\n",
       "<td style='text-align: right'>82</td>\n",
       "<td style='text-align: right'>0.0995</td>\n",
       "<td style='text-align: right'>2</td>\n",
       "<td style='text-align: right'>4</td>\n",
       "</tr>\n",
       "<tr>\n",
       "<td>Pf3D7_01_v3</td>\n",
       "<td style='text-align: right'>98901</td>\n",
       "<td style='text-align: right'>100900</td>\n",
       "<td style='text-align: right'>0</td>\n",
       "<td style='text-align: right'>359220.5</td>\n",
       "<td style='text-align: right'>1794</td>\n",
       "<td style='text-align: right'>0.301</td>\n",
       "<td style='text-align: right'>4</td>\n",
       "<td style='text-align: right'>1</td>\n",
       "</tr>\n",
       "<tr>\n",
       "<td>Pf3D7_01_v3</td>\n",
       "<td style='text-align: right'>100901</td>\n",
       "<td style='text-align: right'>102900</td>\n",
       "<td style='text-align: right'>0</td>\n",
       "<td style='text-align: right'>357220.5</td>\n",
       "<td style='text-align: right'>1382</td>\n",
       "<td style='text-align: right'>0.2305</td>\n",
       "<td style='text-align: right'>2</td>\n",
       "<td style='text-align: right'>2</td>\n",
       "</tr>\n",
       "</tbody>\n",
       "</table>\n",
       "<p><strong>...</strong></p>"
      ]
     },
     "metadata": {},
     "output_type": "display_data"
    },
    {
     "name": "stderr",
     "output_type": "stream",
     "text": [
      "2016-03-14 17:01:17.223391 :: ************************\n",
      "2016-03-14 17:01:17.223750 :: model centromeric\n",
      "2016-03-14 17:01:17.224152 :: 0.224620303757\n",
      "2016-03-14 17:01:17.224364 :: ~~~~~~~~~~~~~~~~~~~~~~~~~~~~\n",
      "2016-03-14 17:01:17.253926 :: \n",
      "Call:\n",
      "glm(formula = co_count ~ cen_dist + n_coding + gc + n_snps + \n",
      "    n_indels, family = poisson, data = df_cen)\n",
      "\n",
      "Deviance Residuals: \n",
      "    Min       1Q   Median       3Q      Max  \n",
      "-1.1606  -0.7155  -0.5663  -0.4167   3.4972  \n",
      "\n",
      "Coefficients:\n",
      "              Estimate Std. Error z value Pr(>|z|)    \n",
      "(Intercept) -1.685e+00  4.452e-01  -3.785 0.000153 ***\n",
      "cen_dist     1.472e-05  2.251e-06   6.539 6.18e-11 ***\n",
      "n_coding     6.953e-04  1.592e-04   4.367 1.26e-05 ***\n",
      "gc          -8.323e+00  2.745e+00  -3.032 0.002429 ** \n",
      "n_snps      -9.854e-03  1.069e-02  -0.922 0.356664    \n",
      "n_indels     1.964e-02  1.648e-02   1.192 0.233387    \n",
      "---\n",
      "Signif. codes:  0 '***' 0.001 '**' 0.01 '*' 0.05 '.' 0.1 ' ' 1\n",
      "\n",
      "(Dispersion parameter for poisson family taken to be 1)\n",
      "\n",
      "    Null deviance: 983.12  on 1250  degrees of freedom\n",
      "Residual deviance: 912.51  on 1245  degrees of freedom\n",
      "AIC: 1416\n",
      "\n",
      "Number of Fisher Scoring iterations: 6\n",
      "\n",
      "\n",
      "2016-03-14 17:01:17.262020 :: \n",
      "\tOverdispersion test\n",
      "\n",
      "data:  rd\n",
      "z = 2.4833, p-value = 0.006509\n",
      "alternative hypothesis: true alpha is greater than 0\n",
      "sample estimates:\n",
      "    alpha \n",
      "0.1224759 \n",
      "\n",
      "\n",
      "2016-03-14 17:01:17.263761 :: ************************\n",
      "2016-03-14 17:01:17.264107 :: model telomeric\n",
      "2016-03-14 17:01:17.264721 :: 0.258981679753\n",
      "2016-03-14 17:01:17.264981 :: ~~~~~~~~~~~~~~~~~~~~~~~~~~~~\n",
      "2016-03-14 17:01:17.383600 :: \n",
      "Call:\n",
      "glm(formula = co_count ~ cen_dist + n_coding + gc + n_snps + \n",
      "    n_indels, family = poisson, data = df_tel)\n",
      "\n",
      "Deviance Residuals: \n",
      "    Min       1Q   Median       3Q      Max  \n",
      "-1.0602  -0.7560  -0.6706  -0.5467   4.8871  \n",
      "\n",
      "Coefficients:\n",
      "              Estimate Std. Error z value Pr(>|z|)    \n",
      "(Intercept) -5.212e-01  1.543e-01  -3.377 0.000732 ***\n",
      "cen_dist    -4.717e-07  5.824e-08  -8.099 5.54e-16 ***\n",
      "n_coding     3.336e-04  5.286e-05   6.311 2.77e-10 ***\n",
      "gc          -3.846e+00  8.988e-01  -4.279 1.88e-05 ***\n",
      "n_snps      -1.980e-02  5.397e-03  -3.668 0.000245 ***\n",
      "n_indels    -2.663e-02  6.512e-03  -4.089 4.33e-05 ***\n",
      "---\n",
      "Signif. codes:  0 '***' 0.001 '**' 0.01 '*' 0.05 '.' 0.1 ' ' 1\n",
      "\n",
      "(Dispersion parameter for poisson family taken to be 1)\n",
      "\n",
      "    Null deviance: 7434.2  on 8405  degrees of freedom\n",
      "Residual deviance: 7236.9  on 8400  degrees of freedom\n",
      "AIC: 10869\n",
      "\n",
      "Number of Fisher Scoring iterations: 6\n",
      "\n",
      "\n",
      "2016-03-14 17:01:17.390991 :: \n",
      "\tOverdispersion test\n",
      "\n",
      "data:  rd\n",
      "z = 9.5903, p-value < 2.2e-16\n",
      "alternative hypothesis: true alpha is greater than 0\n",
      "sample estimates:\n",
      "    alpha \n",
      "0.2733859 \n",
      "\n",
      "\n"
     ]
    }
   ],
   "source": [
    "analyse_dispersion(2000)"
   ]
  },
  {
   "cell_type": "code",
   "execution_count": 56,
   "metadata": {
    "collapsed": false
   },
   "outputs": [
    {
     "name": "stderr",
     "output_type": "stream",
     "text": [
      "2016-03-14 17:01:17.395295 :: =================================\n",
      "2016-03-14 17:01:17.395554 :: 5000\n"
     ]
    },
    {
     "data": {
      "text/html": [
       "<table class='petl'>\n",
       "<caption>window size: 5000bp</caption>\n",
       "<thead>\n",
       "<tr>\n",
       "<th>0|co_count</th>\n",
       "<th>1|count</th>\n",
       "<th>2|frequency</th>\n",
       "</tr>\n",
       "</thead>\n",
       "<tbody>\n",
       "<tr>\n",
       "<td style='text-align: right'>0</td>\n",
       "<td style='text-align: right'>2869</td>\n",
       "<td style='text-align: right'>0.687185628742515</td>\n",
       "</tr>\n",
       "<tr>\n",
       "<td style='text-align: right'>1</td>\n",
       "<td style='text-align: right'>935</td>\n",
       "<td style='text-align: right'>0.22395209580838324</td>\n",
       "</tr>\n",
       "<tr>\n",
       "<td style='text-align: right'>2</td>\n",
       "<td style='text-align: right'>279</td>\n",
       "<td style='text-align: right'>0.06682634730538922</td>\n",
       "</tr>\n",
       "<tr>\n",
       "<td style='text-align: right'>3</td>\n",
       "<td style='text-align: right'>77</td>\n",
       "<td style='text-align: right'>0.01844311377245509</td>\n",
       "</tr>\n",
       "<tr>\n",
       "<td style='text-align: right'>4</td>\n",
       "<td style='text-align: right'>13</td>\n",
       "<td style='text-align: right'>0.0031137724550898203</td>\n",
       "</tr>\n",
       "<tr>\n",
       "<td style='text-align: right'>5</td>\n",
       "<td style='text-align: right'>2</td>\n",
       "<td style='text-align: right'>0.00047904191616766467</td>\n",
       "</tr>\n",
       "</tbody>\n",
       "</table>\n"
      ]
     },
     "metadata": {},
     "output_type": "display_data"
    },
    {
     "data": {
      "text/html": [
       "<table class='petl'>\n",
       "<caption>augmented windows</caption>\n",
       "<thead>\n",
       "<tr>\n",
       "<th>0|chrom</th>\n",
       "<th>1|start</th>\n",
       "<th>2|stop</th>\n",
       "<th>3|co_count</th>\n",
       "<th>4|cen_dist</th>\n",
       "<th>5|n_coding</th>\n",
       "<th>6|gc</th>\n",
       "<th>7|n_snps</th>\n",
       "<th>8|n_indels</th>\n",
       "</tr>\n",
       "</thead>\n",
       "<tbody>\n",
       "<tr>\n",
       "<td>Pf3D7_01_v3</td>\n",
       "<td style='text-align: right'>92901</td>\n",
       "<td style='text-align: right'>97900</td>\n",
       "<td style='text-align: right'>0</td>\n",
       "<td style='text-align: right'>363720.5</td>\n",
       "<td style='text-align: right'>0</td>\n",
       "<td style='text-align: right'>0.1644</td>\n",
       "<td style='text-align: right'>29</td>\n",
       "<td style='text-align: right'>13</td>\n",
       "</tr>\n",
       "<tr>\n",
       "<td>Pf3D7_01_v3</td>\n",
       "<td style='text-align: right'>97901</td>\n",
       "<td style='text-align: right'>102900</td>\n",
       "<td style='text-align: right'>0</td>\n",
       "<td style='text-align: right'>358720.5</td>\n",
       "<td style='text-align: right'>3258</td>\n",
       "<td style='text-align: right'>0.2336</td>\n",
       "<td style='text-align: right'>8</td>\n",
       "<td style='text-align: right'>5</td>\n",
       "</tr>\n",
       "<tr>\n",
       "<td>Pf3D7_01_v3</td>\n",
       "<td style='text-align: right'>102901</td>\n",
       "<td style='text-align: right'>107900</td>\n",
       "<td style='text-align: right'>0</td>\n",
       "<td style='text-align: right'>353720.5</td>\n",
       "<td style='text-align: right'>354</td>\n",
       "<td style='text-align: right'>0.1518</td>\n",
       "<td style='text-align: right'>8</td>\n",
       "<td style='text-align: right'>20</td>\n",
       "</tr>\n",
       "<tr>\n",
       "<td>Pf3D7_01_v3</td>\n",
       "<td style='text-align: right'>107901</td>\n",
       "<td style='text-align: right'>112900</td>\n",
       "<td style='text-align: right'>0</td>\n",
       "<td style='text-align: right'>348720.5</td>\n",
       "<td style='text-align: right'>1805</td>\n",
       "<td style='text-align: right'>0.2098</td>\n",
       "<td style='text-align: right'>7</td>\n",
       "<td style='text-align: right'>18</td>\n",
       "</tr>\n",
       "<tr>\n",
       "<td>Pf3D7_01_v3</td>\n",
       "<td style='text-align: right'>112901</td>\n",
       "<td style='text-align: right'>117900</td>\n",
       "<td style='text-align: right'>0</td>\n",
       "<td style='text-align: right'>343720.5</td>\n",
       "<td style='text-align: right'>2899</td>\n",
       "<td style='text-align: right'>0.2128</td>\n",
       "<td style='text-align: right'>7</td>\n",
       "<td style='text-align: right'>14</td>\n",
       "</tr>\n",
       "</tbody>\n",
       "</table>\n",
       "<p><strong>...</strong></p>"
      ]
     },
     "metadata": {},
     "output_type": "display_data"
    },
    {
     "name": "stderr",
     "output_type": "stream",
     "text": [
      "2016-03-14 17:01:21.887883 :: ************************\n",
      "2016-03-14 17:01:21.888212 :: model centromeric\n",
      "2016-03-14 17:01:21.888625 :: 0.417647058824\n",
      "2016-03-14 17:01:21.888825 :: ~~~~~~~~~~~~~~~~~~~~~~~~~~~~\n",
      "2016-03-14 17:01:21.904825 :: \n",
      "Call:\n",
      "glm(formula = co_count ~ cen_dist + n_coding + gc + n_snps + \n",
      "    n_indels, family = poisson, data = df_cen)\n",
      "\n",
      "Deviance Residuals: \n",
      "    Min       1Q   Median       3Q      Max  \n",
      "-1.4701  -0.9258  -0.6829   0.4609   2.7685  \n",
      "\n",
      "Coefficients:\n",
      "              Estimate Std. Error z value Pr(>|z|)    \n",
      "(Intercept) -1.156e+00  6.786e-01  -1.703  0.08851 .  \n",
      "cen_dist     1.502e-05  2.646e-06   5.675 1.38e-08 ***\n",
      "n_coding     3.007e-04  9.595e-05   3.134  0.00172 ** \n",
      "gc          -8.883e+00  4.435e+00  -2.003  0.04518 *  \n",
      "n_snps      -9.479e-03  7.912e-03  -1.198  0.23089    \n",
      "n_indels     1.726e-02  9.944e-03   1.736  0.08261 .  \n",
      "---\n",
      "Signif. codes:  0 '***' 0.001 '**' 0.01 '*' 0.05 '.' 0.1 ' ' 1\n",
      "\n",
      "(Dispersion parameter for poisson family taken to be 1)\n",
      "\n",
      "    Null deviance: 546.68  on 509  degrees of freedom\n",
      "Residual deviance: 491.05  on 504  degrees of freedom\n",
      "AIC: 844.8\n",
      "\n",
      "Number of Fisher Scoring iterations: 6\n",
      "\n",
      "\n",
      "2016-03-14 17:01:21.911820 :: \n",
      "\tOverdispersion test\n",
      "\n",
      "data:  rd\n",
      "z = 2.2119, p-value = 0.01349\n",
      "alternative hypothesis: true alpha is greater than 0\n",
      "sample estimates:\n",
      "    alpha \n",
      "0.1302253 \n",
      "\n",
      "\n",
      "2016-03-14 17:01:21.913587 :: ************************\n",
      "2016-03-14 17:01:21.913901 :: model telomeric\n",
      "2016-03-14 17:01:21.914389 :: 0.430142687277\n",
      "2016-03-14 17:01:21.914617 :: ~~~~~~~~~~~~~~~~~~~~~~~~~~~~\n",
      "2016-03-14 17:01:21.975356 :: \n",
      "Call:\n",
      "glm(formula = co_count ~ cen_dist + n_coding + gc + n_snps + \n",
      "    n_indels, family = poisson, data = df_tel)\n",
      "\n",
      "Deviance Residuals: \n",
      "    Min       1Q   Median       3Q      Max  \n",
      "-1.3365  -0.9448  -0.8502   0.6399   4.1091  \n",
      "\n",
      "Coefficients:\n",
      "              Estimate Std. Error z value Pr(>|z|)    \n",
      "(Intercept) -1.498e-01  2.710e-01  -0.553  0.58046    \n",
      "cen_dist    -3.577e-07  6.992e-08  -5.116 3.12e-07 ***\n",
      "n_coding     1.896e-04  3.298e-05   5.749 8.99e-09 ***\n",
      "gc          -4.818e+00  1.530e+00  -3.149  0.00164 ** \n",
      "n_snps      -8.817e-03  3.210e-03  -2.746  0.00602 ** \n",
      "n_indels    -3.319e-03  4.450e-03  -0.746  0.45575    \n",
      "---\n",
      "Signif. codes:  0 '***' 0.001 '**' 0.01 '*' 0.05 '.' 0.1 ' ' 1\n",
      "\n",
      "(Dispersion parameter for poisson family taken to be 1)\n",
      "\n",
      "    Null deviance: 3639.6  on 3363  degrees of freedom\n",
      "Residual deviance: 3550.4  on 3358  degrees of freedom\n",
      "AIC: 5888.8\n",
      "\n",
      "Number of Fisher Scoring iterations: 6\n",
      "\n",
      "\n",
      "2016-03-14 17:01:21.982815 :: \n",
      "\tOverdispersion test\n",
      "\n",
      "data:  rd\n",
      "z = 6.477, p-value = 4.678e-11\n",
      "alternative hypothesis: true alpha is greater than 0\n",
      "sample estimates:\n",
      "    alpha \n",
      "0.2205386 \n",
      "\n",
      "\n"
     ]
    }
   ],
   "source": [
    "analyse_dispersion(5000)"
   ]
  },
  {
   "cell_type": "code",
   "execution_count": 57,
   "metadata": {
    "collapsed": false
   },
   "outputs": [
    {
     "name": "stderr",
     "output_type": "stream",
     "text": [
      "2016-03-14 17:01:21.986951 :: =================================\n",
      "2016-03-14 17:01:21.987190 :: 10000\n"
     ]
    },
    {
     "data": {
      "text/html": [
       "<table class='petl'>\n",
       "<caption>window size: 10000bp</caption>\n",
       "<thead>\n",
       "<tr>\n",
       "<th>0|co_count</th>\n",
       "<th>1|count</th>\n",
       "<th>2|frequency</th>\n",
       "</tr>\n",
       "</thead>\n",
       "<tbody>\n",
       "<tr>\n",
       "<td style='text-align: right'>0</td>\n",
       "<td style='text-align: right'>1122</td>\n",
       "<td style='text-align: right'>0.5350500715307582</td>\n",
       "</tr>\n",
       "<tr>\n",
       "<td style='text-align: right'>1</td>\n",
       "<td style='text-align: right'>599</td>\n",
       "<td style='text-align: right'>0.28564616118264186</td>\n",
       "</tr>\n",
       "<tr>\n",
       "<td style='text-align: right'>2</td>\n",
       "<td style='text-align: right'>260</td>\n",
       "<td style='text-align: right'>0.12398664759179781</td>\n",
       "</tr>\n",
       "<tr>\n",
       "<td style='text-align: right'>3</td>\n",
       "<td style='text-align: right'>90</td>\n",
       "<td style='text-align: right'>0.04291845493562232</td>\n",
       "</tr>\n",
       "<tr>\n",
       "<td style='text-align: right'>4</td>\n",
       "<td style='text-align: right'>24</td>\n",
       "<td style='text-align: right'>0.011444921316165951</td>\n",
       "</tr>\n",
       "<tr>\n",
       "<td style='text-align: right'>5</td>\n",
       "<td style='text-align: right'>1</td>\n",
       "<td style='text-align: right'>0.0004768717215069146</td>\n",
       "</tr>\n",
       "<tr>\n",
       "<td style='text-align: right'>6</td>\n",
       "<td style='text-align: right'>1</td>\n",
       "<td style='text-align: right'>0.0004768717215069146</td>\n",
       "</tr>\n",
       "</tbody>\n",
       "</table>\n"
      ]
     },
     "metadata": {},
     "output_type": "display_data"
    },
    {
     "data": {
      "text/html": [
       "<table class='petl'>\n",
       "<caption>augmented windows</caption>\n",
       "<thead>\n",
       "<tr>\n",
       "<th>0|chrom</th>\n",
       "<th>1|start</th>\n",
       "<th>2|stop</th>\n",
       "<th>3|co_count</th>\n",
       "<th>4|cen_dist</th>\n",
       "<th>5|n_coding</th>\n",
       "<th>6|gc</th>\n",
       "<th>7|n_snps</th>\n",
       "<th>8|n_indels</th>\n",
       "</tr>\n",
       "</thead>\n",
       "<tbody>\n",
       "<tr>\n",
       "<td>Pf3D7_01_v3</td>\n",
       "<td style='text-align: right'>92901</td>\n",
       "<td style='text-align: right'>102900</td>\n",
       "<td style='text-align: right'>0</td>\n",
       "<td style='text-align: right'>361220.5</td>\n",
       "<td style='text-align: right'>3258</td>\n",
       "<td style='text-align: right'>0.199</td>\n",
       "<td style='text-align: right'>37</td>\n",
       "<td style='text-align: right'>18</td>\n",
       "</tr>\n",
       "<tr>\n",
       "<td>Pf3D7_01_v3</td>\n",
       "<td style='text-align: right'>102901</td>\n",
       "<td style='text-align: right'>112900</td>\n",
       "<td style='text-align: right'>0</td>\n",
       "<td style='text-align: right'>351220.5</td>\n",
       "<td style='text-align: right'>2159</td>\n",
       "<td style='text-align: right'>0.1808</td>\n",
       "<td style='text-align: right'>15</td>\n",
       "<td style='text-align: right'>38</td>\n",
       "</tr>\n",
       "<tr>\n",
       "<td>Pf3D7_01_v3</td>\n",
       "<td style='text-align: right'>112901</td>\n",
       "<td style='text-align: right'>122900</td>\n",
       "<td style='text-align: right'>0</td>\n",
       "<td style='text-align: right'>341220.5</td>\n",
       "<td style='text-align: right'>4792</td>\n",
       "<td style='text-align: right'>0.1984</td>\n",
       "<td style='text-align: right'>12</td>\n",
       "<td style='text-align: right'>27</td>\n",
       "</tr>\n",
       "<tr>\n",
       "<td>Pf3D7_01_v3</td>\n",
       "<td style='text-align: right'>122901</td>\n",
       "<td style='text-align: right'>132900</td>\n",
       "<td style='text-align: right'>0</td>\n",
       "<td style='text-align: right'>331220.5</td>\n",
       "<td style='text-align: right'>5004</td>\n",
       "<td style='text-align: right'>0.1735</td>\n",
       "<td style='text-align: right'>17</td>\n",
       "<td style='text-align: right'>39</td>\n",
       "</tr>\n",
       "<tr>\n",
       "<td>Pf3D7_01_v3</td>\n",
       "<td style='text-align: right'>132901</td>\n",
       "<td style='text-align: right'>142900</td>\n",
       "<td style='text-align: right'>0</td>\n",
       "<td style='text-align: right'>321220.5</td>\n",
       "<td style='text-align: right'>6522</td>\n",
       "<td style='text-align: right'>0.192</td>\n",
       "<td style='text-align: right'>22</td>\n",
       "<td style='text-align: right'>41</td>\n",
       "</tr>\n",
       "</tbody>\n",
       "</table>\n",
       "<p><strong>...</strong></p>"
      ]
     },
     "metadata": {},
     "output_type": "display_data"
    },
    {
     "name": "stderr",
     "output_type": "stream",
     "text": [
      "2016-03-14 17:01:24.909119 :: ************************\n",
      "2016-03-14 17:01:24.909440 :: model centromeric\n",
      "2016-03-14 17:01:24.909819 :: 0.730769230769\n",
      "2016-03-14 17:01:24.910060 :: ~~~~~~~~~~~~~~~~~~~~~~~~~~~~\n",
      "2016-03-14 17:01:24.923039 :: \n",
      "Call:\n",
      "glm(formula = co_count ~ cen_dist + n_coding + gc + n_snps + \n",
      "    n_indels, family = poisson, data = df_cen)\n",
      "\n",
      "Deviance Residuals: \n",
      "    Min       1Q   Median       3Q      Max  \n",
      "-1.9605  -1.1007  -0.7299   0.5574   2.4562  \n",
      "\n",
      "Coefficients:\n",
      "              Estimate Std. Error z value Pr(>|z|)    \n",
      "(Intercept) -1.763e-01  9.417e-01  -0.187   0.8515    \n",
      "cen_dist     1.411e-05  2.889e-06   4.884 1.04e-06 ***\n",
      "n_coding     1.528e-04  6.462e-05   2.365   0.0180 *  \n",
      "gc          -1.178e+01  6.241e+00  -1.887   0.0592 .  \n",
      "n_snps      -2.979e-03  2.603e-03  -1.145   0.2524    \n",
      "n_indels     1.267e-02  6.993e-03   1.811   0.0701 .  \n",
      "---\n",
      "Signif. codes:  0 '***' 0.001 '**' 0.01 '*' 0.05 '.' 0.1 ' ' 1\n",
      "\n",
      "(Dispersion parameter for poisson family taken to be 1)\n",
      "\n",
      "    Null deviance: 346.96  on 259  degrees of freedom\n",
      "Residual deviance: 301.94  on 254  degrees of freedom\n",
      "AIC: 586.46\n",
      "\n",
      "Number of Fisher Scoring iterations: 6\n",
      "\n",
      "\n",
      "2016-03-14 17:01:24.929608 :: \n",
      "\tOverdispersion test\n",
      "\n",
      "data:  rd\n",
      "z = 1.9179, p-value = 0.02756\n",
      "alternative hypothesis: true alpha is greater than 0\n",
      "sample estimates:\n",
      "   alpha \n",
      "0.139828 \n",
      "\n",
      "\n",
      "2016-03-14 17:01:24.931152 :: ************************\n",
      "2016-03-14 17:01:24.931441 :: model telomeric\n",
      "2016-03-14 17:01:24.931935 :: 0.708185053381\n",
      "2016-03-14 17:01:24.932168 :: ~~~~~~~~~~~~~~~~~~~~~~~~~~~~\n",
      "2016-03-14 17:01:24.968360 :: \n",
      "Call:\n",
      "glm(formula = co_count ~ cen_dist + n_coding + gc + n_snps + \n",
      "    n_indels, family = poisson, data = df_tel)\n",
      "\n",
      "Deviance Residuals: \n",
      "    Min       1Q   Median       3Q      Max  \n",
      "-1.5935  -1.1832  -0.9469   0.4459   4.0976  \n",
      "\n",
      "Coefficients:\n",
      "              Estimate Std. Error z value Pr(>|z|)    \n",
      "(Intercept) -2.329e-01  3.989e-01  -0.584  0.55936    \n",
      "cen_dist    -2.747e-07  7.633e-08  -3.598  0.00032 ***\n",
      "n_coding     1.317e-04  2.166e-05   6.081 1.19e-09 ***\n",
      "gc          -4.365e+00  2.192e+00  -1.991  0.04646 *  \n",
      "n_snps      -3.137e-03  1.692e-03  -1.854  0.06379 .  \n",
      "n_indels     5.329e-03  3.000e-03   1.776  0.07566 .  \n",
      "---\n",
      "Signif. codes:  0 '***' 0.001 '**' 0.01 '*' 0.05 '.' 0.1 ' ' 1\n",
      "\n",
      "(Dispersion parameter for poisson family taken to be 1)\n",
      "\n",
      "    Null deviance: 2098.6  on 1685  degrees of freedom\n",
      "Residual deviance: 2034.1  on 1680  degrees of freedom\n",
      "AIC: 3836.8\n",
      "\n",
      "Number of Fisher Scoring iterations: 5\n",
      "\n",
      "\n",
      "2016-03-14 17:01:24.976273 :: \n",
      "\tOverdispersion test\n",
      "\n",
      "data:  rd\n",
      "z = 4.1601, p-value = 1.59e-05\n",
      "alternative hypothesis: true alpha is greater than 0\n",
      "sample estimates:\n",
      "    alpha \n",
      "0.1800617 \n",
      "\n",
      "\n"
     ]
    }
   ],
   "source": [
    "analyse_dispersion(10000)"
   ]
  },
  {
   "cell_type": "code",
   "execution_count": 58,
   "metadata": {
    "collapsed": false
   },
   "outputs": [
    {
     "name": "stderr",
     "output_type": "stream",
     "text": [
      "2016-03-14 17:01:24.980767 :: =================================\n",
      "2016-03-14 17:01:24.981021 :: 20000\n"
     ]
    },
    {
     "data": {
      "text/html": [
       "<table class='petl'>\n",
       "<caption>window size: 20000bp</caption>\n",
       "<thead>\n",
       "<tr>\n",
       "<th>0|co_count</th>\n",
       "<th>1|count</th>\n",
       "<th>2|frequency</th>\n",
       "</tr>\n",
       "</thead>\n",
       "<tbody>\n",
       "<tr>\n",
       "<td style='text-align: right'>0</td>\n",
       "<td style='text-align: right'>376</td>\n",
       "<td style='text-align: right'>0.35471698113207545</td>\n",
       "</tr>\n",
       "<tr>\n",
       "<td style='text-align: right'>1</td>\n",
       "<td style='text-align: right'>301</td>\n",
       "<td style='text-align: right'>0.2839622641509434</td>\n",
       "</tr>\n",
       "<tr>\n",
       "<td style='text-align: right'>2</td>\n",
       "<td style='text-align: right'>221</td>\n",
       "<td style='text-align: right'>0.20849056603773586</td>\n",
       "</tr>\n",
       "<tr>\n",
       "<td style='text-align: right'>3</td>\n",
       "<td style='text-align: right'>102</td>\n",
       "<td style='text-align: right'>0.09622641509433963</td>\n",
       "</tr>\n",
       "<tr>\n",
       "<td style='text-align: right'>4</td>\n",
       "<td style='text-align: right'>39</td>\n",
       "<td style='text-align: right'>0.03679245283018868</td>\n",
       "</tr>\n",
       "<tr>\n",
       "<td style='text-align: right'>5</td>\n",
       "<td style='text-align: right'>13</td>\n",
       "<td style='text-align: right'>0.012264150943396227</td>\n",
       "</tr>\n",
       "<tr>\n",
       "<td style='text-align: right'>6</td>\n",
       "<td style='text-align: right'>6</td>\n",
       "<td style='text-align: right'>0.005660377358490566</td>\n",
       "</tr>\n",
       "<tr>\n",
       "<td style='text-align: right'>7</td>\n",
       "<td style='text-align: right'>2</td>\n",
       "<td style='text-align: right'>0.0018867924528301887</td>\n",
       "</tr>\n",
       "</tbody>\n",
       "</table>\n"
      ]
     },
     "metadata": {},
     "output_type": "display_data"
    },
    {
     "data": {
      "text/html": [
       "<table class='petl'>\n",
       "<caption>augmented windows</caption>\n",
       "<thead>\n",
       "<tr>\n",
       "<th>0|chrom</th>\n",
       "<th>1|start</th>\n",
       "<th>2|stop</th>\n",
       "<th>3|co_count</th>\n",
       "<th>4|cen_dist</th>\n",
       "<th>5|n_coding</th>\n",
       "<th>6|gc</th>\n",
       "<th>7|n_snps</th>\n",
       "<th>8|n_indels</th>\n",
       "</tr>\n",
       "</thead>\n",
       "<tbody>\n",
       "<tr>\n",
       "<td>Pf3D7_01_v3</td>\n",
       "<td style='text-align: right'>92901</td>\n",
       "<td style='text-align: right'>112900</td>\n",
       "<td style='text-align: right'>0</td>\n",
       "<td style='text-align: right'>356220.5</td>\n",
       "<td style='text-align: right'>5417</td>\n",
       "<td style='text-align: right'>0.1899</td>\n",
       "<td style='text-align: right'>52</td>\n",
       "<td style='text-align: right'>56</td>\n",
       "</tr>\n",
       "<tr>\n",
       "<td>Pf3D7_01_v3</td>\n",
       "<td style='text-align: right'>112901</td>\n",
       "<td style='text-align: right'>132900</td>\n",
       "<td style='text-align: right'>0</td>\n",
       "<td style='text-align: right'>336220.5</td>\n",
       "<td style='text-align: right'>9796</td>\n",
       "<td style='text-align: right'>0.18595</td>\n",
       "<td style='text-align: right'>29</td>\n",
       "<td style='text-align: right'>66</td>\n",
       "</tr>\n",
       "<tr>\n",
       "<td>Pf3D7_01_v3</td>\n",
       "<td style='text-align: right'>132901</td>\n",
       "<td style='text-align: right'>152900</td>\n",
       "<td style='text-align: right'>1</td>\n",
       "<td style='text-align: right'>316220.5</td>\n",
       "<td style='text-align: right'>14142</td>\n",
       "<td style='text-align: right'>0.20315</td>\n",
       "<td style='text-align: right'>45</td>\n",
       "<td style='text-align: right'>56</td>\n",
       "</tr>\n",
       "<tr>\n",
       "<td>Pf3D7_01_v3</td>\n",
       "<td style='text-align: right'>152901</td>\n",
       "<td style='text-align: right'>172900</td>\n",
       "<td style='text-align: right'>1</td>\n",
       "<td style='text-align: right'>296220.5</td>\n",
       "<td style='text-align: right'>12865</td>\n",
       "<td style='text-align: right'>0.1888</td>\n",
       "<td style='text-align: right'>62</td>\n",
       "<td style='text-align: right'>91</td>\n",
       "</tr>\n",
       "<tr>\n",
       "<td>Pf3D7_01_v3</td>\n",
       "<td style='text-align: right'>172901</td>\n",
       "<td style='text-align: right'>192900</td>\n",
       "<td style='text-align: right'>0</td>\n",
       "<td style='text-align: right'>276220.5</td>\n",
       "<td style='text-align: right'>8592</td>\n",
       "<td style='text-align: right'>0.17105</td>\n",
       "<td style='text-align: right'>128</td>\n",
       "<td style='text-align: right'>116</td>\n",
       "</tr>\n",
       "</tbody>\n",
       "</table>\n",
       "<p><strong>...</strong></p>"
      ]
     },
     "metadata": {},
     "output_type": "display_data"
    },
    {
     "name": "stderr",
     "output_type": "stream",
     "text": [
      "2016-03-14 17:01:27.212571 :: ************************\n",
      "2016-03-14 17:01:27.212860 :: model centromeric\n",
      "2016-03-14 17:01:27.213241 :: 1.31617647059\n",
      "2016-03-14 17:01:27.213479 :: ~~~~~~~~~~~~~~~~~~~~~~~~~~~~\n",
      "2016-03-14 17:01:27.222630 :: \n",
      "Call:\n",
      "glm(formula = co_count ~ cen_dist + n_coding + gc + n_snps + \n",
      "    n_indels, family = poisson, data = df_cen)\n",
      "\n",
      "Deviance Residuals: \n",
      "    Min       1Q   Median       3Q      Max  \n",
      "-2.2414  -1.1432  -0.2514   0.6606   3.0119  \n",
      "\n",
      "Coefficients:\n",
      "              Estimate Std. Error z value Pr(>|z|)    \n",
      "(Intercept) -6.733e-02  1.326e+00  -0.051    0.959    \n",
      "cen_dist     1.336e-05  3.231e-06   4.135 3.55e-05 ***\n",
      "n_coding     6.881e-05  4.266e-05   1.613    0.107    \n",
      "gc          -8.980e+00  8.575e+00  -1.047    0.295    \n",
      "n_snps      -1.843e-04  5.766e-04  -0.320    0.749    \n",
      "n_indels     6.979e-03  4.538e-03   1.538    0.124    \n",
      "---\n",
      "Signif. codes:  0 '***' 0.001 '**' 0.01 '*' 0.05 '.' 0.1 ' ' 1\n",
      "\n",
      "(Dispersion parameter for poisson family taken to be 1)\n",
      "\n",
      "    Null deviance: 223.71  on 135  degrees of freedom\n",
      "Residual deviance: 184.57  on 130  degrees of freedom\n",
      "AIC: 410.88\n",
      "\n",
      "Number of Fisher Scoring iterations: 5\n",
      "\n",
      "\n",
      "2016-03-14 17:01:27.229523 :: \n",
      "\tOverdispersion test\n",
      "\n",
      "data:  rd\n",
      "z = 1.704, p-value = 0.04419\n",
      "alternative hypothesis: true alpha is greater than 0\n",
      "sample estimates:\n",
      "    alpha \n",
      "0.2193538 \n",
      "\n",
      "\n",
      "2016-03-14 17:01:27.231635 :: ************************\n",
      "2016-03-14 17:01:27.231905 :: model telomeric\n",
      "2016-03-14 17:01:27.232435 :: 1.22641509434\n",
      "2016-03-14 17:01:27.232684 :: ~~~~~~~~~~~~~~~~~~~~~~~~~~~~\n",
      "2016-03-14 17:01:27.254699 :: \n",
      "Call:\n",
      "glm(formula = co_count ~ cen_dist + n_coding + gc + n_snps + \n",
      "    n_indels, family = poisson, data = df_tel)\n",
      "\n",
      "Deviance Residuals: \n",
      "    Min       1Q   Median       3Q      Max  \n",
      "-1.9293  -1.4150  -0.2141   0.6283   3.4574  \n",
      "\n",
      "Coefficients:\n",
      "              Estimate Std. Error z value Pr(>|z|)    \n",
      "(Intercept)  2.632e-01  5.680e-01   0.463  0.64309    \n",
      "cen_dist    -2.348e-07  8.283e-08  -2.835  0.00458 ** \n",
      "n_coding     9.127e-05  1.444e-05   6.319 2.63e-10 ***\n",
      "gc          -8.148e+00  3.101e+00  -2.627  0.00860 ** \n",
      "n_snps      -1.557e-03  9.579e-04  -1.625  0.10411    \n",
      "n_indels     9.738e-03  1.990e-03   4.893 9.94e-07 ***\n",
      "---\n",
      "Signif. codes:  0 '***' 0.001 '**' 0.01 '*' 0.05 '.' 0.1 ' ' 1\n",
      "\n",
      "(Dispersion parameter for poisson family taken to be 1)\n",
      "\n",
      "    Null deviance: 1192.0  on 847  degrees of freedom\n",
      "Residual deviance: 1120.9  on 842  degrees of freedom\n",
      "AIC: 2481.3\n",
      "\n",
      "Number of Fisher Scoring iterations: 5\n",
      "\n",
      "\n",
      "2016-03-14 17:01:27.261951 :: \n",
      "\tOverdispersion test\n",
      "\n",
      "data:  rd\n",
      "z = 3.2252, p-value = 0.0006293\n",
      "alternative hypothesis: true alpha is greater than 0\n",
      "sample estimates:\n",
      "    alpha \n",
      "0.1835252 \n",
      "\n",
      "\n"
     ]
    }
   ],
   "source": [
    "analyse_dispersion(20000)"
   ]
  },
  {
   "cell_type": "code",
   "execution_count": 59,
   "metadata": {
    "collapsed": false,
    "scrolled": false
   },
   "outputs": [
    {
     "name": "stderr",
     "output_type": "stream",
     "text": [
      "2016-03-14 17:01:27.268529 :: =================================\n",
      "2016-03-14 17:01:27.268956 :: 50000\n"
     ]
    },
    {
     "data": {
      "text/html": [
       "<table class='petl'>\n",
       "<caption>window size: 50000bp</caption>\n",
       "<thead>\n",
       "<tr>\n",
       "<th>0|co_count</th>\n",
       "<th>1|count</th>\n",
       "<th>2|frequency</th>\n",
       "</tr>\n",
       "</thead>\n",
       "<tbody>\n",
       "<tr>\n",
       "<td style='text-align: right'>2</td>\n",
       "<td style='text-align: right'>88</td>\n",
       "<td style='text-align: right'>0.2018348623853211</td>\n",
       "</tr>\n",
       "<tr>\n",
       "<td style='text-align: right'>3</td>\n",
       "<td style='text-align: right'>73</td>\n",
       "<td style='text-align: right'>0.16743119266055045</td>\n",
       "</tr>\n",
       "<tr>\n",
       "<td style='text-align: right'>1</td>\n",
       "<td style='text-align: right'>66</td>\n",
       "<td style='text-align: right'>0.15137614678899083</td>\n",
       "</tr>\n",
       "<tr>\n",
       "<td style='text-align: right'>4</td>\n",
       "<td style='text-align: right'>66</td>\n",
       "<td style='text-align: right'>0.15137614678899083</td>\n",
       "</tr>\n",
       "<tr>\n",
       "<td style='text-align: right'>0</td>\n",
       "<td style='text-align: right'>52</td>\n",
       "<td style='text-align: right'>0.11926605504587157</td>\n",
       "</tr>\n",
       "<tr>\n",
       "<td style='text-align: right'>5</td>\n",
       "<td style='text-align: right'>51</td>\n",
       "<td style='text-align: right'>0.11697247706422019</td>\n",
       "</tr>\n",
       "<tr>\n",
       "<td style='text-align: right'>6</td>\n",
       "<td style='text-align: right'>18</td>\n",
       "<td style='text-align: right'>0.04128440366972477</td>\n",
       "</tr>\n",
       "<tr>\n",
       "<td style='text-align: right'>8</td>\n",
       "<td style='text-align: right'>10</td>\n",
       "<td style='text-align: right'>0.022935779816513763</td>\n",
       "</tr>\n",
       "<tr>\n",
       "<td style='text-align: right'>7</td>\n",
       "<td style='text-align: right'>9</td>\n",
       "<td style='text-align: right'>0.020642201834862386</td>\n",
       "</tr>\n",
       "<tr>\n",
       "<td style='text-align: right'>9</td>\n",
       "<td style='text-align: right'>2</td>\n",
       "<td style='text-align: right'>0.0045871559633027525</td>\n",
       "</tr>\n",
       "<tr>\n",
       "<td style='text-align: right'>10</td>\n",
       "<td style='text-align: right'>1</td>\n",
       "<td style='text-align: right'>0.0022935779816513763</td>\n",
       "</tr>\n",
       "</tbody>\n",
       "</table>\n"
      ]
     },
     "metadata": {},
     "output_type": "display_data"
    },
    {
     "data": {
      "text/html": [
       "<table class='petl'>\n",
       "<caption>augmented windows</caption>\n",
       "<thead>\n",
       "<tr>\n",
       "<th>0|chrom</th>\n",
       "<th>1|start</th>\n",
       "<th>2|stop</th>\n",
       "<th>3|co_count</th>\n",
       "<th>4|cen_dist</th>\n",
       "<th>5|n_coding</th>\n",
       "<th>6|gc</th>\n",
       "<th>7|n_snps</th>\n",
       "<th>8|n_indels</th>\n",
       "</tr>\n",
       "</thead>\n",
       "<tbody>\n",
       "<tr>\n",
       "<td>Pf3D7_01_v3</td>\n",
       "<td style='text-align: right'>92901</td>\n",
       "<td style='text-align: right'>142900</td>\n",
       "<td style='text-align: right'>0</td>\n",
       "<td style='text-align: right'>341220.5</td>\n",
       "<td style='text-align: right'>21735</td>\n",
       "<td style='text-align: right'>0.18874</td>\n",
       "<td style='text-align: right'>103</td>\n",
       "<td style='text-align: right'>163</td>\n",
       "</tr>\n",
       "<tr>\n",
       "<td>Pf3D7_01_v3</td>\n",
       "<td style='text-align: right'>142901</td>\n",
       "<td style='text-align: right'>192900</td>\n",
       "<td style='text-align: right'>2</td>\n",
       "<td style='text-align: right'>291220.5</td>\n",
       "<td style='text-align: right'>29077</td>\n",
       "<td style='text-align: right'>0.1868</td>\n",
       "<td style='text-align: right'>213</td>\n",
       "<td style='text-align: right'>222</td>\n",
       "</tr>\n",
       "<tr>\n",
       "<td>Pf3D7_01_v3</td>\n",
       "<td style='text-align: right'>192901</td>\n",
       "<td style='text-align: right'>242900</td>\n",
       "<td style='text-align: right'>4</td>\n",
       "<td style='text-align: right'>241220.5</td>\n",
       "<td style='text-align: right'>30768</td>\n",
       "<td style='text-align: right'>0.197</td>\n",
       "<td style='text-align: right'>70</td>\n",
       "<td style='text-align: right'>123</td>\n",
       "</tr>\n",
       "<tr>\n",
       "<td>Pf3D7_01_v3</td>\n",
       "<td style='text-align: right'>242901</td>\n",
       "<td style='text-align: right'>292900</td>\n",
       "<td style='text-align: right'>1</td>\n",
       "<td style='text-align: right'>191220.5</td>\n",
       "<td style='text-align: right'>29821</td>\n",
       "<td style='text-align: right'>0.19262</td>\n",
       "<td style='text-align: right'>68</td>\n",
       "<td style='text-align: right'>157</td>\n",
       "</tr>\n",
       "<tr>\n",
       "<td>Pf3D7_01_v3</td>\n",
       "<td style='text-align: right'>292901</td>\n",
       "<td style='text-align: right'>342900</td>\n",
       "<td style='text-align: right'>6</td>\n",
       "<td style='text-align: right'>141220.5</td>\n",
       "<td style='text-align: right'>28248</td>\n",
       "<td style='text-align: right'>0.18416</td>\n",
       "<td style='text-align: right'>64</td>\n",
       "<td style='text-align: right'>201</td>\n",
       "</tr>\n",
       "</tbody>\n",
       "</table>\n",
       "<p><strong>...</strong></p>"
      ]
     },
     "metadata": {},
     "output_type": "display_data"
    },
    {
     "name": "stderr",
     "output_type": "stream",
     "text": [
      "2016-03-14 17:01:29.200561 :: ************************\n",
      "2016-03-14 17:01:29.200841 :: model centromeric\n",
      "2016-03-14 17:01:29.201139 :: 2.98305084746\n",
      "2016-03-14 17:01:29.201300 :: ~~~~~~~~~~~~~~~~~~~~~~~~~~~~\n",
      "2016-03-14 17:01:29.208955 :: \n",
      "Call:\n",
      "glm(formula = co_count ~ cen_dist + n_coding + gc + n_snps + \n",
      "    n_indels, family = poisson, data = df_cen)\n",
      "\n",
      "Deviance Residuals: \n",
      "    Min       1Q   Median       3Q      Max  \n",
      "-2.1146  -0.9826  -0.1383   0.6388   2.3396  \n",
      "\n",
      "Coefficients:\n",
      "              Estimate Std. Error z value Pr(>|z|)    \n",
      "(Intercept) -1.458e+00  1.868e+00  -0.781  0.43492    \n",
      "cen_dist     2.394e-06  4.023e-06   0.595  0.55185    \n",
      "n_coding     6.127e-05  2.360e-05   2.596  0.00943 ** \n",
      "gc          -5.797e+00  1.094e+01  -0.530  0.59616    \n",
      "n_snps      -3.986e-04  3.395e-04  -1.174  0.24035    \n",
      "n_indels     1.019e-02  2.710e-03   3.759  0.00017 ***\n",
      "---\n",
      "Signif. codes:  0 '***' 0.001 '**' 0.01 '*' 0.05 '.' 0.1 ' ' 1\n",
      "\n",
      "(Dispersion parameter for poisson family taken to be 1)\n",
      "\n",
      "    Null deviance: 107.664  on 58  degrees of freedom\n",
      "Residual deviance:  70.923  on 53  degrees of freedom\n",
      "AIC: 233.37\n",
      "\n",
      "Number of Fisher Scoring iterations: 6\n",
      "\n",
      "\n",
      "2016-03-14 17:01:29.218190 :: \n",
      "\tOverdispersion test\n",
      "\n",
      "data:  rd\n",
      "z = 0.62501, p-value = 0.266\n",
      "alternative hypothesis: true alpha is greater than 0\n",
      "sample estimates:\n",
      "    alpha \n",
      "0.1111429 \n",
      "\n",
      "\n",
      "2016-03-14 17:01:29.219511 :: ************************\n",
      "2016-03-14 17:01:29.219699 :: model telomeric\n",
      "2016-03-14 17:01:29.220120 :: 2.86705202312\n",
      "2016-03-14 17:01:29.220320 :: ~~~~~~~~~~~~~~~~~~~~~~~~~~~~\n",
      "2016-03-14 17:01:29.234390 :: \n",
      "Call:\n",
      "glm(formula = co_count ~ cen_dist + n_coding + gc + n_snps + \n",
      "    n_indels, family = poisson, data = df_tel)\n",
      "\n",
      "Deviance Residuals: \n",
      "    Min       1Q   Median       3Q      Max  \n",
      "-2.6874  -0.8541  -0.1194   0.5571   2.5140  \n",
      "\n",
      "Coefficients:\n",
      "              Estimate Std. Error z value Pr(>|z|)    \n",
      "(Intercept) -4.718e-01  8.096e-01  -0.583    0.560    \n",
      "cen_dist    -6.528e-08  8.500e-08  -0.768    0.443    \n",
      "n_coding     5.110e-05  7.771e-06   6.576 4.84e-11 ***\n",
      "gc          -5.941e+00  4.261e+00  -1.394    0.163    \n",
      "n_snps      -4.136e-04  4.789e-04  -0.864    0.388    \n",
      "n_indels     7.931e-03  1.023e-03   7.755 8.83e-15 ***\n",
      "---\n",
      "Signif. codes:  0 '***' 0.001 '**' 0.01 '*' 0.05 '.' 0.1 ' ' 1\n",
      "\n",
      "(Dispersion parameter for poisson family taken to be 1)\n",
      "\n",
      "    Null deviance: 523.03  on 345  degrees of freedom\n",
      "Residual deviance: 404.61  on 340  degrees of freedom\n",
      "AIC: 1315.9\n",
      "\n",
      "Number of Fisher Scoring iterations: 5\n",
      "\n",
      "\n",
      "2016-03-14 17:01:29.240685 :: \n",
      "\tOverdispersion test\n",
      "\n",
      "data:  rd\n",
      "z = 0.98759, p-value = 0.1617\n",
      "alternative hypothesis: true alpha is greater than 0\n",
      "sample estimates:\n",
      "     alpha \n",
      "0.07143211 \n",
      "\n",
      "\n"
     ]
    }
   ],
   "source": [
    "analyse_dispersion(50000)"
   ]
  },
  {
   "cell_type": "code",
   "execution_count": 60,
   "metadata": {
    "collapsed": false
   },
   "outputs": [
    {
     "name": "stderr",
     "output_type": "stream",
     "text": [
      "2016-03-14 17:01:29.245275 :: =================================\n",
      "2016-03-14 17:01:29.245515 :: 100000\n"
     ]
    },
    {
     "data": {
      "text/html": [
       "<table class='petl'>\n",
       "<caption>window size: 100000bp</caption>\n",
       "<thead>\n",
       "<tr>\n",
       "<th>0|co_count</th>\n",
       "<th>1|count</th>\n",
       "<th>2|frequency</th>\n",
       "</tr>\n",
       "</thead>\n",
       "<tbody>\n",
       "<tr>\n",
       "<td style='text-align: right'>4</td>\n",
       "<td style='text-align: right'>38</td>\n",
       "<td style='text-align: right'>0.16593886462882096</td>\n",
       "</tr>\n",
       "<tr>\n",
       "<td style='text-align: right'>6</td>\n",
       "<td style='text-align: right'>30</td>\n",
       "<td style='text-align: right'>0.13100436681222707</td>\n",
       "</tr>\n",
       "<tr>\n",
       "<td style='text-align: right'>5</td>\n",
       "<td style='text-align: right'>28</td>\n",
       "<td style='text-align: right'>0.1222707423580786</td>\n",
       "</tr>\n",
       "<tr>\n",
       "<td style='text-align: right'>7</td>\n",
       "<td style='text-align: right'>25</td>\n",
       "<td style='text-align: right'>0.1091703056768559</td>\n",
       "</tr>\n",
       "<tr>\n",
       "<td style='text-align: right'>8</td>\n",
       "<td style='text-align: right'>20</td>\n",
       "<td style='text-align: right'>0.08733624454148471</td>\n",
       "</tr>\n",
       "<tr>\n",
       "<td style='text-align: right'>3</td>\n",
       "<td style='text-align: right'>19</td>\n",
       "<td style='text-align: right'>0.08296943231441048</td>\n",
       "</tr>\n",
       "<tr>\n",
       "<td style='text-align: right'>0</td>\n",
       "<td style='text-align: right'>13</td>\n",
       "<td style='text-align: right'>0.056768558951965066</td>\n",
       "</tr>\n",
       "<tr>\n",
       "<td style='text-align: right'>2</td>\n",
       "<td style='text-align: right'>13</td>\n",
       "<td style='text-align: right'>0.056768558951965066</td>\n",
       "</tr>\n",
       "<tr>\n",
       "<td style='text-align: right'>9</td>\n",
       "<td style='text-align: right'>12</td>\n",
       "<td style='text-align: right'>0.05240174672489083</td>\n",
       "</tr>\n",
       "<tr>\n",
       "<td style='text-align: right'>10</td>\n",
       "<td style='text-align: right'>11</td>\n",
       "<td style='text-align: right'>0.048034934497816595</td>\n",
       "</tr>\n",
       "<tr>\n",
       "<td style='text-align: right'>1</td>\n",
       "<td style='text-align: right'>8</td>\n",
       "<td style='text-align: right'>0.034934497816593885</td>\n",
       "</tr>\n",
       "<tr>\n",
       "<td style='text-align: right'>13</td>\n",
       "<td style='text-align: right'>5</td>\n",
       "<td style='text-align: right'>0.021834061135371178</td>\n",
       "</tr>\n",
       "<tr>\n",
       "<td style='text-align: right'>11</td>\n",
       "<td style='text-align: right'>4</td>\n",
       "<td style='text-align: right'>0.017467248908296942</td>\n",
       "</tr>\n",
       "<tr>\n",
       "<td style='text-align: right'>12</td>\n",
       "<td style='text-align: right'>2</td>\n",
       "<td style='text-align: right'>0.008733624454148471</td>\n",
       "</tr>\n",
       "<tr>\n",
       "<td style='text-align: right'>14</td>\n",
       "<td style='text-align: right'>1</td>\n",
       "<td style='text-align: right'>0.004366812227074236</td>\n",
       "</tr>\n",
       "</tbody>\n",
       "</table>\n"
      ]
     },
     "metadata": {},
     "output_type": "display_data"
    },
    {
     "data": {
      "text/html": [
       "<table class='petl'>\n",
       "<caption>augmented windows</caption>\n",
       "<thead>\n",
       "<tr>\n",
       "<th>0|chrom</th>\n",
       "<th>1|start</th>\n",
       "<th>2|stop</th>\n",
       "<th>3|co_count</th>\n",
       "<th>4|cen_dist</th>\n",
       "<th>5|n_coding</th>\n",
       "<th>6|gc</th>\n",
       "<th>7|n_snps</th>\n",
       "<th>8|n_indels</th>\n",
       "</tr>\n",
       "</thead>\n",
       "<tbody>\n",
       "<tr>\n",
       "<td>Pf3D7_01_v3</td>\n",
       "<td style='text-align: right'>92901</td>\n",
       "<td style='text-align: right'>192900</td>\n",
       "<td style='text-align: right'>2</td>\n",
       "<td style='text-align: right'>316220.5</td>\n",
       "<td style='text-align: right'>50812</td>\n",
       "<td style='text-align: right'>0.18777</td>\n",
       "<td style='text-align: right'>316</td>\n",
       "<td style='text-align: right'>385</td>\n",
       "</tr>\n",
       "<tr>\n",
       "<td>Pf3D7_01_v3</td>\n",
       "<td style='text-align: right'>192901</td>\n",
       "<td style='text-align: right'>292900</td>\n",
       "<td style='text-align: right'>5</td>\n",
       "<td style='text-align: right'>216220.5</td>\n",
       "<td style='text-align: right'>60589</td>\n",
       "<td style='text-align: right'>0.19481</td>\n",
       "<td style='text-align: right'>138</td>\n",
       "<td style='text-align: right'>280</td>\n",
       "</tr>\n",
       "<tr>\n",
       "<td>Pf3D7_01_v3</td>\n",
       "<td style='text-align: right'>292901</td>\n",
       "<td style='text-align: right'>392900</td>\n",
       "<td style='text-align: right'>8</td>\n",
       "<td style='text-align: right'>116220.5</td>\n",
       "<td style='text-align: right'>52005</td>\n",
       "<td style='text-align: right'>0.1847</td>\n",
       "<td style='text-align: right'>128</td>\n",
       "<td style='text-align: right'>421</td>\n",
       "</tr>\n",
       "<tr>\n",
       "<td>Pf3D7_01_v3</td>\n",
       "<td style='text-align: right'>392901</td>\n",
       "<td style='text-align: right'>492900</td>\n",
       "<td style='text-align: right'>6</td>\n",
       "<td style='text-align: right'>16220.5</td>\n",
       "<td style='text-align: right'>49583</td>\n",
       "<td style='text-align: right'>0.18866</td>\n",
       "<td style='text-align: right'>134</td>\n",
       "<td style='text-align: right'>363</td>\n",
       "</tr>\n",
       "<tr>\n",
       "<td>Pf3D7_01_v3</td>\n",
       "<td style='text-align: right'>460312</td>\n",
       "<td style='text-align: right'>560311</td>\n",
       "<td style='text-align: right'>3</td>\n",
       "<td style='text-align: right'>51190.5</td>\n",
       "<td style='text-align: right'>42915</td>\n",
       "<td style='text-align: right'>0.20299</td>\n",
       "<td style='text-align: right'>1403</td>\n",
       "<td style='text-align: right'>486</td>\n",
       "</tr>\n",
       "</tbody>\n",
       "</table>\n",
       "<p><strong>...</strong></p>"
      ]
     },
     "metadata": {},
     "output_type": "display_data"
    },
    {
     "name": "stderr",
     "output_type": "stream",
     "text": [
      "2016-03-14 17:01:31.054901 :: ************************\n",
      "2016-03-14 17:01:31.055207 :: model centromeric\n",
      "2016-03-14 17:01:31.055475 :: 6.2\n",
      "2016-03-14 17:01:31.055629 :: ~~~~~~~~~~~~~~~~~~~~~~~~~~~~\n",
      "2016-03-14 17:01:31.062878 :: \n",
      "Call:\n",
      "glm(formula = co_count ~ cen_dist + n_coding + gc + n_snps + \n",
      "    n_indels, family = poisson, data = df_cen)\n",
      "\n",
      "Deviance Residuals: \n",
      "    Min       1Q   Median       3Q      Max  \n",
      "-2.7081  -0.8017  -0.2442   0.8081   1.8723  \n",
      "\n",
      "Coefficients:\n",
      "              Estimate Std. Error z value Pr(>|z|)  \n",
      "(Intercept)  8.848e-01  2.100e+00   0.421   0.6735  \n",
      "cen_dist     2.832e-06  4.612e-06   0.614   0.5392  \n",
      "n_coding     1.684e-05  1.928e-05   0.873   0.3824  \n",
      "gc          -9.940e+00  1.267e+01  -0.784   0.4329  \n",
      "n_snps      -2.184e-04  2.605e-04  -0.838   0.4018  \n",
      "n_indels     4.973e-03  1.938e-03   2.566   0.0103 *\n",
      "---\n",
      "Signif. codes:  0 '***' 0.001 '**' 0.01 '*' 0.05 '.' 0.1 ' ' 1\n",
      "\n",
      "(Dispersion parameter for poisson family taken to be 1)\n",
      "\n",
      "    Null deviance: 53.378  on 34  degrees of freedom\n",
      "Residual deviance: 40.671  on 29  degrees of freedom\n",
      "AIC: 175.56\n",
      "\n",
      "Number of Fisher Scoring iterations: 5\n",
      "\n",
      "\n",
      "2016-03-14 17:01:31.068793 :: \n",
      "\tOverdispersion test\n",
      "\n",
      "data:  rd\n",
      "z = 0.34612, p-value = 0.3646\n",
      "alternative hypothesis: true alpha is greater than 0\n",
      "sample estimates:\n",
      "     alpha \n",
      "0.06774736 \n",
      "\n",
      "\n",
      "2016-03-14 17:01:31.070230 :: ************************\n",
      "2016-03-14 17:01:31.070424 :: model telomeric\n",
      "2016-03-14 17:01:31.070813 :: 5.37640449438\n",
      "2016-03-14 17:01:31.070988 :: ~~~~~~~~~~~~~~~~~~~~~~~~~~~~\n",
      "2016-03-14 17:01:31.082142 :: \n",
      "Call:\n",
      "glm(formula = co_count ~ cen_dist + n_coding + gc + n_snps + \n",
      "    n_indels, family = poisson, data = df_tel)\n",
      "\n",
      "Deviance Residuals: \n",
      "     Min        1Q    Median        3Q       Max  \n",
      "-3.08734  -0.77272  -0.05951   0.62021   2.53684  \n",
      "\n",
      "Coefficients:\n",
      "              Estimate Std. Error z value Pr(>|z|)    \n",
      "(Intercept)  1.834e+00  1.004e+00   1.827  0.06767 .  \n",
      "cen_dist    -1.158e-07  9.006e-08  -1.285  0.19869    \n",
      "n_coding     2.768e-05  4.766e-06   5.808 6.34e-09 ***\n",
      "gc          -1.532e+01  5.057e+00  -3.031  0.00244 ** \n",
      "n_snps       1.912e-04  2.764e-04   0.692  0.48914    \n",
      "n_indels     3.832e-03  6.390e-04   5.996 2.02e-09 ***\n",
      "---\n",
      "Signif. codes:  0 '***' 0.001 '**' 0.01 '*' 0.05 '.' 0.1 ' ' 1\n",
      "\n",
      "(Dispersion parameter for poisson family taken to be 1)\n",
      "\n",
      "    Null deviance: 325.98  on 177  degrees of freedom\n",
      "Residual deviance: 190.36  on 172  degrees of freedom\n",
      "AIC: 788.23\n",
      "\n",
      "Number of Fisher Scoring iterations: 5\n",
      "\n",
      "\n",
      "2016-03-14 17:01:31.088441 :: \n",
      "\tOverdispersion test\n",
      "\n",
      "data:  rd\n",
      "z = 0.11545, p-value = 0.454\n",
      "alternative hypothesis: true alpha is greater than 0\n",
      "sample estimates:\n",
      "     alpha \n",
      "0.01155244 \n",
      "\n",
      "\n"
     ]
    }
   ],
   "source": [
    "analyse_dispersion(100000)"
   ]
  },
  {
   "cell_type": "markdown",
   "metadata": {},
   "source": [
    "## Sandbox"
   ]
  },
  {
   "cell_type": "code",
   "execution_count": 47,
   "metadata": {
    "collapsed": false
   },
   "outputs": [
    {
     "data": {
      "text/html": [
       "<table class='petl'>\n",
       "<thead>\n",
       "<tr>\n",
       "<th>0|chrom</th>\n",
       "<th>1|start</th>\n",
       "<th>2|stop</th>\n",
       "</tr>\n",
       "</thead>\n",
       "<tbody>\n",
       "<tr>\n",
       "<td>Pf3D7_01_v3</td>\n",
       "<td style='text-align: right'>92901</td>\n",
       "<td style='text-align: right'>97900</td>\n",
       "</tr>\n",
       "<tr>\n",
       "<td>Pf3D7_01_v3</td>\n",
       "<td style='text-align: right'>97901</td>\n",
       "<td style='text-align: right'>102900</td>\n",
       "</tr>\n",
       "<tr>\n",
       "<td>Pf3D7_01_v3</td>\n",
       "<td style='text-align: right'>102901</td>\n",
       "<td style='text-align: right'>107900</td>\n",
       "</tr>\n",
       "<tr>\n",
       "<td>Pf3D7_01_v3</td>\n",
       "<td style='text-align: right'>107901</td>\n",
       "<td style='text-align: right'>112900</td>\n",
       "</tr>\n",
       "<tr>\n",
       "<td>Pf3D7_01_v3</td>\n",
       "<td style='text-align: right'>112901</td>\n",
       "<td style='text-align: right'>117900</td>\n",
       "</tr>\n",
       "</tbody>\n",
       "</table>\n",
       "<p><strong>...</strong></p>"
      ],
      "text/plain": [
       "+---------------+--------+--------+\n",
       "| chrom         | start  | stop   |\n",
       "+===============+========+========+\n",
       "| 'Pf3D7_01_v3' |  92901 |  97900 |\n",
       "+---------------+--------+--------+\n",
       "| 'Pf3D7_01_v3' |  97901 | 102900 |\n",
       "+---------------+--------+--------+\n",
       "| 'Pf3D7_01_v3' | 102901 | 107900 |\n",
       "+---------------+--------+--------+\n",
       "| 'Pf3D7_01_v3' | 107901 | 112900 |\n",
       "+---------------+--------+--------+\n",
       "| 'Pf3D7_01_v3' | 112901 | 117900 |\n",
       "+---------------+--------+--------+\n",
       "..."
      ]
     },
     "execution_count": 47,
     "metadata": {},
     "output_type": "execute_result"
    }
   ],
   "source": [
    "tbl_5kb = tabulate_core_windows()\n",
    "tbl_5kb"
   ]
  },
  {
   "cell_type": "code",
   "execution_count": 48,
   "metadata": {
    "collapsed": false
   },
   "outputs": [
    {
     "data": {
      "text/html": [
       "<table class='petl'>\n",
       "<thead>\n",
       "<tr>\n",
       "<th>0|chrom</th>\n",
       "<th>1|start</th>\n",
       "<th>2|stop</th>\n",
       "<th>3|co_count</th>\n",
       "</tr>\n",
       "</thead>\n",
       "<tbody>\n",
       "<tr>\n",
       "<td>Pf3D7_01_v3</td>\n",
       "<td style='text-align: right'>142901</td>\n",
       "<td style='text-align: right'>147900</td>\n",
       "<td style='text-align: right'>1</td>\n",
       "</tr>\n",
       "<tr>\n",
       "<td>Pf3D7_01_v3</td>\n",
       "<td style='text-align: right'>162901</td>\n",
       "<td style='text-align: right'>167900</td>\n",
       "<td style='text-align: right'>1</td>\n",
       "</tr>\n",
       "<tr>\n",
       "<td>Pf3D7_01_v3</td>\n",
       "<td style='text-align: right'>202901</td>\n",
       "<td style='text-align: right'>207900</td>\n",
       "<td style='text-align: right'>3</td>\n",
       "</tr>\n",
       "<tr>\n",
       "<td>Pf3D7_01_v3</td>\n",
       "<td style='text-align: right'>227901</td>\n",
       "<td style='text-align: right'>232900</td>\n",
       "<td style='text-align: right'>1</td>\n",
       "</tr>\n",
       "<tr>\n",
       "<td>Pf3D7_01_v3</td>\n",
       "<td style='text-align: right'>232901</td>\n",
       "<td style='text-align: right'>237900</td>\n",
       "<td style='text-align: right'>1</td>\n",
       "</tr>\n",
       "</tbody>\n",
       "</table>\n",
       "<p><strong>...</strong></p>"
      ],
      "text/plain": [
       "+---------------+--------+--------+----------+\n",
       "| chrom         | start  | stop   | co_count |\n",
       "+===============+========+========+==========+\n",
       "| 'Pf3D7_01_v3' | 142901 | 147900 |        1 |\n",
       "+---------------+--------+--------+----------+\n",
       "| 'Pf3D7_01_v3' | 162901 | 167900 |        1 |\n",
       "+---------------+--------+--------+----------+\n",
       "| 'Pf3D7_01_v3' | 202901 | 207900 |        3 |\n",
       "+---------------+--------+--------+----------+\n",
       "| 'Pf3D7_01_v3' | 227901 | 232900 |        1 |\n",
       "+---------------+--------+--------+----------+\n",
       "| 'Pf3D7_01_v3' | 232901 | 237900 |        1 |\n",
       "+---------------+--------+--------+----------+\n",
       "..."
      ]
     },
     "execution_count": 48,
     "metadata": {},
     "output_type": "execute_result"
    }
   ],
   "source": [
    "tbl_5kb_co = (\n",
    "    tbl_5kb\n",
    "    .intervalleftjoin(tbl_co, lkey='chrom', lstart='start', lstop='stop',\n",
    "                      rkey='chrom', rstart='co_pos_min', rstop='co_pos_max',\n",
    "                      include_stop=True)\n",
    "    .cutout(4)\n",
    "    .aggregate(key=('chrom', 'start', 'stop'),\n",
    "               aggregation=lambda vals: sum(1 for v in vals if v is not None),\n",
    "               value='cross')\n",
    "    .rename('value', 'co_count')\n",
    ")\n",
    "tbl_5kb_co.gt('co_count', 0)"
   ]
  },
  {
   "cell_type": "code",
   "execution_count": 82,
   "metadata": {
    "collapsed": false
   },
   "outputs": [
    {
     "name": "stderr",
     "output_type": "stream",
     "text": [
      "2016-03-14 14:11:55.420788 :: Pf3D7_01_v3\n",
      "2016-03-14 14:11:55.794967 :: Pf3D7_02_v3\n",
      "2016-03-14 14:11:55.830365 :: Pf3D7_03_v3\n",
      "2016-03-14 14:11:55.867528 :: Pf3D7_04_v3\n",
      "2016-03-14 14:11:55.903987 :: Pf3D7_05_v3\n",
      "2016-03-14 14:11:55.940566 :: Pf3D7_06_v3\n",
      "2016-03-14 14:11:55.974674 :: Pf3D7_07_v3\n",
      "2016-03-14 14:11:56.006387 :: Pf3D7_08_v3\n",
      "2016-03-14 14:11:56.038419 :: Pf3D7_09_v3\n",
      "2016-03-14 14:11:56.071895 :: Pf3D7_10_v3\n",
      "2016-03-14 14:11:56.105776 :: Pf3D7_11_v3\n",
      "2016-03-14 14:11:56.140899 :: Pf3D7_12_v3\n",
      "2016-03-14 14:11:56.176380 :: Pf3D7_13_v3\n",
      "2016-03-14 14:11:56.214013 :: Pf3D7_14_v3\n"
     ]
    }
   ],
   "source": [
    "is_exon = dict()\n",
    "for chrom in sorted(fasta.keys()):\n",
    "    log(chrom)\n",
    "    is_exon[chrom] = np.zeros(len(fasta[chrom]), dtype='b1')\n",
    "    for rec in tbl_exons.eq('feature_chrom', chrom).records():\n",
    "        start = rec.feature_start - 1\n",
    "        stop = rec.feature_stop\n",
    "        is_exon[chrom][start:stop] = True\n"
   ]
  },
  {
   "cell_type": "code",
   "execution_count": 117,
   "metadata": {
    "collapsed": false
   },
   "outputs": [
    {
     "data": {
      "text/html": [
       "<table class='petl'>\n",
       "<thead>\n",
       "<tr>\n",
       "<th>0|chrom</th>\n",
       "<th>1|start</th>\n",
       "<th>2|stop</th>\n",
       "<th>3|co_count</th>\n",
       "<th>4|cen_dist</th>\n",
       "<th>5|n_coding</th>\n",
       "<th>6|gc</th>\n",
       "</tr>\n",
       "</thead>\n",
       "<tbody>\n",
       "<tr>\n",
       "<td>Pf3D7_01_v3</td>\n",
       "<td style='text-align: right'>92901</td>\n",
       "<td style='text-align: right'>97900</td>\n",
       "<td style='text-align: right'>0</td>\n",
       "<td style='text-align: right'>363720.5</td>\n",
       "<td style='text-align: right'>0</td>\n",
       "<td style='text-align: right'>0.1644</td>\n",
       "</tr>\n",
       "<tr>\n",
       "<td>Pf3D7_01_v3</td>\n",
       "<td style='text-align: right'>97901</td>\n",
       "<td style='text-align: right'>102900</td>\n",
       "<td style='text-align: right'>0</td>\n",
       "<td style='text-align: right'>358720.5</td>\n",
       "<td style='text-align: right'>3258</td>\n",
       "<td style='text-align: right'>0.2336</td>\n",
       "</tr>\n",
       "<tr>\n",
       "<td>Pf3D7_01_v3</td>\n",
       "<td style='text-align: right'>102901</td>\n",
       "<td style='text-align: right'>107900</td>\n",
       "<td style='text-align: right'>0</td>\n",
       "<td style='text-align: right'>353720.5</td>\n",
       "<td style='text-align: right'>354</td>\n",
       "<td style='text-align: right'>0.1518</td>\n",
       "</tr>\n",
       "<tr>\n",
       "<td>Pf3D7_01_v3</td>\n",
       "<td style='text-align: right'>107901</td>\n",
       "<td style='text-align: right'>112900</td>\n",
       "<td style='text-align: right'>0</td>\n",
       "<td style='text-align: right'>348720.5</td>\n",
       "<td style='text-align: right'>1805</td>\n",
       "<td style='text-align: right'>0.2098</td>\n",
       "</tr>\n",
       "<tr>\n",
       "<td>Pf3D7_01_v3</td>\n",
       "<td style='text-align: right'>112901</td>\n",
       "<td style='text-align: right'>117900</td>\n",
       "<td style='text-align: right'>0</td>\n",
       "<td style='text-align: right'>343720.5</td>\n",
       "<td style='text-align: right'>2899</td>\n",
       "<td style='text-align: right'>0.2128</td>\n",
       "</tr>\n",
       "</tbody>\n",
       "</table>\n",
       "<p><strong>...</strong></p>"
      ],
      "text/plain": [
       "+---------------+--------+--------+----------+----------+----------+--------+\n",
       "| chrom         | start  | stop   | co_count | cen_dist | n_coding | gc     |\n",
       "+===============+========+========+==========+==========+==========+========+\n",
       "| 'Pf3D7_01_v3' |  92901 |  97900 |        0 | 363720.5 |        0 | 0.1644 |\n",
       "+---------------+--------+--------+----------+----------+----------+--------+\n",
       "| 'Pf3D7_01_v3' |  97901 | 102900 |        0 | 358720.5 |     3258 | 0.2336 |\n",
       "+---------------+--------+--------+----------+----------+----------+--------+\n",
       "| 'Pf3D7_01_v3' | 102901 | 107900 |        0 | 353720.5 |      354 | 0.1518 |\n",
       "+---------------+--------+--------+----------+----------+----------+--------+\n",
       "| 'Pf3D7_01_v3' | 107901 | 112900 |        0 | 348720.5 |     1805 | 0.2098 |\n",
       "+---------------+--------+--------+----------+----------+----------+--------+\n",
       "| 'Pf3D7_01_v3' | 112901 | 117900 |        0 | 343720.5 |     2899 | 0.2128 |\n",
       "+---------------+--------+--------+----------+----------+----------+--------+\n",
       "..."
      ]
     },
     "execution_count": 117,
     "metadata": {},
     "output_type": "execute_result"
    }
   ],
   "source": [
    "def distance_to_centromere(row):\n",
    "    cen_id = 'PF3D7_CEN' + row.chrom[6:8]\n",
    "    try:\n",
    "        cen = lkp_feature[cen_id]\n",
    "        cen_pos = (cen['feature_start'] + cen['feature_stop'])/2\n",
    "        window_pos = (row.start + row.stop) / 2\n",
    "        return abs(window_pos - cen_pos)\n",
    "    except KeyError:\n",
    "        return None\n",
    "    \n",
    "\n",
    "def n_coding(row):\n",
    "    return np.count_nonzero(is_exon[row.chrom][row.start-1:row.stop])\n",
    "\n",
    "\n",
    "def gc(row):\n",
    "    seq = fasta[row.chrom][row.start-1:row.stop].lower()\n",
    "    com = collections.Counter(seq)\n",
    "    return (com['g'] + com['c']) / len(seq) \n",
    "\n",
    "\n",
    "tbl_5kb_co_aug = (\n",
    "    tbl_5kb_co\n",
    "    .addfield('cen_dist', distance_to_centromere)\n",
    "    .notnone('cen_dist')\n",
    "    .addfield('n_coding', n_coding)\n",
    "    .addfield('gc', gc)\n",
    ")\n",
    "tbl_5kb_co_aug"
   ]
  },
  {
   "cell_type": "code",
   "execution_count": 118,
   "metadata": {
    "collapsed": false
   },
   "outputs": [
    {
     "data": {
      "text/html": [
       "<div>\n",
       "<table border=\"1\" class=\"dataframe\">\n",
       "  <thead>\n",
       "    <tr style=\"text-align: right;\">\n",
       "      <th></th>\n",
       "      <th>chrom</th>\n",
       "      <th>start</th>\n",
       "      <th>stop</th>\n",
       "      <th>co_count</th>\n",
       "      <th>cen_dist</th>\n",
       "      <th>n_coding</th>\n",
       "      <th>gc</th>\n",
       "    </tr>\n",
       "  </thead>\n",
       "  <tbody>\n",
       "    <tr>\n",
       "      <th>0</th>\n",
       "      <td>Pf3D7_01_v3</td>\n",
       "      <td>92901</td>\n",
       "      <td>97900</td>\n",
       "      <td>0</td>\n",
       "      <td>363720.5</td>\n",
       "      <td>0</td>\n",
       "      <td>0.1644</td>\n",
       "    </tr>\n",
       "    <tr>\n",
       "      <th>1</th>\n",
       "      <td>Pf3D7_01_v3</td>\n",
       "      <td>97901</td>\n",
       "      <td>102900</td>\n",
       "      <td>0</td>\n",
       "      <td>358720.5</td>\n",
       "      <td>3258</td>\n",
       "      <td>0.2336</td>\n",
       "    </tr>\n",
       "    <tr>\n",
       "      <th>2</th>\n",
       "      <td>Pf3D7_01_v3</td>\n",
       "      <td>102901</td>\n",
       "      <td>107900</td>\n",
       "      <td>0</td>\n",
       "      <td>353720.5</td>\n",
       "      <td>354</td>\n",
       "      <td>0.1518</td>\n",
       "    </tr>\n",
       "    <tr>\n",
       "      <th>3</th>\n",
       "      <td>Pf3D7_01_v3</td>\n",
       "      <td>107901</td>\n",
       "      <td>112900</td>\n",
       "      <td>0</td>\n",
       "      <td>348720.5</td>\n",
       "      <td>1805</td>\n",
       "      <td>0.2098</td>\n",
       "    </tr>\n",
       "    <tr>\n",
       "      <th>4</th>\n",
       "      <td>Pf3D7_01_v3</td>\n",
       "      <td>112901</td>\n",
       "      <td>117900</td>\n",
       "      <td>0</td>\n",
       "      <td>343720.5</td>\n",
       "      <td>2899</td>\n",
       "      <td>0.2128</td>\n",
       "    </tr>\n",
       "  </tbody>\n",
       "</table>\n",
       "</div>"
      ],
      "text/plain": [
       "         chrom   start    stop  co_count  cen_dist  n_coding      gc\n",
       "0  Pf3D7_01_v3   92901   97900         0  363720.5         0  0.1644\n",
       "1  Pf3D7_01_v3   97901  102900         0  358720.5      3258  0.2336\n",
       "2  Pf3D7_01_v3  102901  107900         0  353720.5       354  0.1518\n",
       "3  Pf3D7_01_v3  107901  112900         0  348720.5      1805  0.2098\n",
       "4  Pf3D7_01_v3  112901  117900         0  343720.5      2899  0.2128"
      ]
     },
     "execution_count": 118,
     "metadata": {},
     "output_type": "execute_result"
    }
   ],
   "source": [
    "df = tbl_5kb_co_aug.todataframe()\n",
    "df.head()"
   ]
  },
  {
   "cell_type": "code",
   "execution_count": 119,
   "metadata": {
    "collapsed": true
   },
   "outputs": [],
   "source": [
    "df_cen = df[df.cen_dist < 100000]\n",
    "df_tel = df[df.cen_dist > 100000]"
   ]
  },
  {
   "cell_type": "code",
   "execution_count": 120,
   "metadata": {
    "collapsed": false
   },
   "outputs": [
    {
     "data": {
      "text/plain": [
       "\n",
       "Call:\n",
       "glm(formula = co_count ~ cen_dist + n_coding + gc, family = poisson, \n",
       "    data = df_cen)\n",
       "\n",
       "Deviance Residuals: \n",
       "    Min       1Q   Median       3Q      Max  \n",
       "-1.5206  -0.9219  -0.6825   0.4439   2.9431  \n",
       "\n",
       "Coefficients:\n",
       "              Estimate Std. Error z value Pr(>|z|)    \n",
       "(Intercept) -7.218e-01  6.183e-01  -1.167  0.24307    \n",
       "cen_dist     1.614e-05  2.534e-06   6.370 1.89e-10 ***\n",
       "n_coding     2.335e-04  8.232e-05   2.836  0.00457 ** \n",
       "gc          -9.288e+00  4.202e+00  -2.211  0.02706 *  \n",
       "---\n",
       "Signif. codes:  0 '***' 0.001 '**' 0.01 '*' 0.05 '.' 0.1 ' ' 1\n",
       "\n",
       "(Dispersion parameter for poisson family taken to be 1)\n",
       "\n",
       "    Null deviance: 546.68  on 509  degrees of freedom\n",
       "Residual deviance: 496.79  on 506  degrees of freedom\n",
       "AIC: 846.54\n",
       "\n",
       "Number of Fisher Scoring iterations: 6\n",
       "\n"
      ]
     },
     "metadata": {},
     "output_type": "display_data"
    }
   ],
   "source": [
    "%%R -i df_cen\n",
    "rd <- glm(co_count ~ cen_dist + n_coding + gc, data = df_cen, family = poisson)\n",
    "summary(rd)"
   ]
  },
  {
   "cell_type": "code",
   "execution_count": 121,
   "metadata": {
    "collapsed": false
   },
   "outputs": [
    {
     "data": {
      "text/plain": [
       "\n",
       "\tOverdispersion test\n",
       "\n",
       "data:  rd\n",
       "z = 2.3429, p-value = 0.009567\n",
       "alternative hypothesis: true alpha is greater than 0\n",
       "sample estimates:\n",
       "    alpha \n",
       "0.1488943 \n",
       "\n"
      ]
     },
     "metadata": {},
     "output_type": "display_data"
    }
   ],
   "source": [
    "%%R\n",
    "dispersiontest(rd, trafo=1, alternative=\"greater\")"
   ]
  },
  {
   "cell_type": "code",
   "execution_count": 122,
   "metadata": {
    "collapsed": false
   },
   "outputs": [
    {
     "data": {
      "image/png": "[encoded data removed]",
      "text/plain": [
       "<matplotlib.figure.Figure at 0x7fda84e0d898>"
      ]
     },
     "metadata": {},
     "output_type": "display_data"
    }
   ],
   "source": [
    "cen_dist = np.arange(0, 110000, 10000)\n",
    "y = np.e**(-7.218e-01 + 1.614e-05*cen_dist)\n",
    "plt.plot(cen_dist, y)\n",
    "plt.autoscale(axis='y');"
   ]
  },
  {
   "cell_type": "code",
   "execution_count": 123,
   "metadata": {
    "collapsed": false
   },
   "outputs": [
    {
     "data": {
      "text/plain": [
       "\n",
       "Call:\n",
       "glm(formula = co_count ~ cen_dist + n_coding + gc, family = poisson, \n",
       "    data = df_tel)\n",
       "\n",
       "Deviance Residuals: \n",
       "    Min       1Q   Median       3Q      Max  \n",
       "-1.3010  -0.9444  -0.8522   0.6453   4.1154  \n",
       "\n",
       "Coefficients:\n",
       "              Estimate Std. Error z value Pr(>|z|)    \n",
       "(Intercept) -2.845e-01  2.400e-01  -1.186  0.23581    \n",
       "cen_dist    -3.454e-07  6.909e-08  -4.999 5.77e-07 ***\n",
       "n_coding     2.014e-04  2.962e-05   6.799 1.05e-11 ***\n",
       "gc          -5.031e+00  1.522e+00  -3.305  0.00095 ***\n",
       "---\n",
       "Signif. codes:  0 '***' 0.001 '**' 0.01 '*' 0.05 '.' 0.1 ' ' 1\n",
       "\n",
       "(Dispersion parameter for poisson family taken to be 1)\n",
       "\n",
       "    Null deviance: 3639.6  on 3363  degrees of freedom\n",
       "Residual deviance: 3562.3  on 3360  degrees of freedom\n",
       "AIC: 5896.7\n",
       "\n",
       "Number of Fisher Scoring iterations: 6\n",
       "\n"
      ]
     },
     "metadata": {},
     "output_type": "display_data"
    }
   ],
   "source": [
    "%%R -i df_tel\n",
    "rd <- glm(co_count ~ cen_dist + n_coding + gc, data = df_tel, family = poisson)\n",
    "summary(rd)"
   ]
  },
  {
   "cell_type": "code",
   "execution_count": 124,
   "metadata": {
    "collapsed": false
   },
   "outputs": [
    {
     "data": {
      "text/plain": [
       "\n",
       "\tOverdispersion test\n",
       "\n",
       "data:  rd\n",
       "z = 6.6494, p-value = 1.471e-11\n",
       "alternative hypothesis: true alpha is greater than 0\n",
       "sample estimates:\n",
       "    alpha \n",
       "0.2277584 \n",
       "\n"
      ]
     },
     "metadata": {},
     "output_type": "display_data"
    }
   ],
   "source": [
    "%%R\n",
    "dispersiontest(rd, trafo=1, alternative=\"greater\")"
   ]
  },
  {
   "cell_type": "code",
   "execution_count": 116,
   "metadata": {
    "collapsed": false
   },
   "outputs": [
    {
     "data": {
      "image/png": "[encoded data removed]",
      "text/plain": [
       "<matplotlib.figure.Figure at 0x7fda84b7ef98>"
      ]
     },
     "metadata": {},
     "output_type": "display_data"
    }
   ],
   "source": [
    "cen_dist = np.arange(0, 500000, 10000)\n",
    "y = np.e**(-1.035e+00 + -3.316e-07*cen_dist)\n",
    "plt.plot(x, y)\n",
    "plt.ylim(0, 1);"
   ]
  },
  {
   "cell_type": "markdown",
   "metadata": {},
   "source": [
    "## Sandbox"
   ]
  },
  {
   "cell_type": "code",
   "execution_count": 19,
   "metadata": {
    "collapsed": false
   },
   "outputs": [
    {
     "data": {
      "text/html": [
       "<table class='petl'>\n",
       "<thead>\n",
       "<tr>\n",
       "<th>0|co_count</th>\n",
       "<th>1|count</th>\n",
       "<th>2|frequency</th>\n",
       "</tr>\n",
       "</thead>\n",
       "<tbody>\n",
       "<tr>\n",
       "<td style='text-align: right'>0</td>\n",
       "<td style='text-align: right'>2869</td>\n",
       "<td style='text-align: right'>0.687185628742515</td>\n",
       "</tr>\n",
       "<tr>\n",
       "<td style='text-align: right'>1</td>\n",
       "<td style='text-align: right'>935</td>\n",
       "<td style='text-align: right'>0.22395209580838324</td>\n",
       "</tr>\n",
       "<tr>\n",
       "<td style='text-align: right'>2</td>\n",
       "<td style='text-align: right'>279</td>\n",
       "<td style='text-align: right'>0.06682634730538922</td>\n",
       "</tr>\n",
       "<tr>\n",
       "<td style='text-align: right'>3</td>\n",
       "<td style='text-align: right'>77</td>\n",
       "<td style='text-align: right'>0.01844311377245509</td>\n",
       "</tr>\n",
       "<tr>\n",
       "<td style='text-align: right'>4</td>\n",
       "<td style='text-align: right'>13</td>\n",
       "<td style='text-align: right'>0.0031137724550898203</td>\n",
       "</tr>\n",
       "<tr>\n",
       "<td style='text-align: right'>5</td>\n",
       "<td style='text-align: right'>2</td>\n",
       "<td style='text-align: right'>0.00047904191616766467</td>\n",
       "</tr>\n",
       "</tbody>\n",
       "</table>\n"
      ]
     },
     "metadata": {},
     "output_type": "display_data"
    }
   ],
   "source": [
    "tbl_5kb_co.valuecounts('co_count').displayall()"
   ]
  },
  {
   "cell_type": "code",
   "execution_count": 20,
   "metadata": {
    "collapsed": false
   },
   "outputs": [
    {
     "data": {
      "text/plain": [
       "array([0, 0, 0, ..., 0, 0, 0])"
      ]
     },
     "execution_count": 20,
     "metadata": {},
     "output_type": "execute_result"
    }
   ],
   "source": [
    "co_count = tbl_5kb_co.values('co_count').array()\n",
    "co_count"
   ]
  },
  {
   "cell_type": "code",
   "execution_count": 22,
   "metadata": {
    "collapsed": false
   },
   "outputs": [
    {
     "data": {
      "text/plain": [
       "   [1] 0 0 0 0 0 0 0 0 0 0 1 0 0 0 1 0 0 0 0 0 0 0 3 0 0 0 0 1 1 0 0 0 0 0 0 0 0\n",
       "  [38] 0 1 0 0 0 0 0 2 2 3 1 1 0 1 0 0 0 0 0 0 0 0 1 0 1 3 1 1 0 0 1 1 0 0 0 0 0\n",
       "  [75] 0 0 0 0 0 0 0 0 0 0 0 0 0 0 0 0 0 1 2 1 0 0 0 0 0 0 0 0 0 0 0 1 0 1 1 0 1\n",
       " [112] 0 1 2 0 0 0 0 2 1 0 1 0 0 1 1 0 0 1 1 2 1 0 0 0 0 0 0 0 0 0 0 0 0 1 1 3 2\n",
       " [149] 2 0 0 2 1 0 1 0 0 0 1 1 1 0 0 0 1 0 0 0 0 0 0 0 2 0 1 0 0 1 1 0 0 0 0 0 1\n",
       " [186] 0 0 0 1 0 0 0 0 0 0 1 1 0 0 1 1 2 1 1 2 1 0 0 0 0 0 1 1 0 0 1 0 0 1 1 0 0\n",
       " [223] 0 0 1 1 2 1 0 0 0 0 1 1 0 0 0 0 0 0 0 2 2 0 0 0 0 0 0 0 0 0 0 1 1 0 0 0 0\n",
       " [260] 0 0 0 0 0 0 1 0 0 0 0 0 0 0 0 0 0 0 0 1 0 0 0 0 1 2 0 1 0 0 0 1 0 0 0 0 1\n",
       " [297] 2 1 2 1 0 2 3 0 2 2 1 0 1 0 0 1 1 0 0 1 1 1 0 0 0 0 0 0 1 1 0 2 0 0 0 1 1\n",
       " [334] 0 0 1 2 2 1 1 0 1 1 0 1 1 0 0 1 2 0 0 0 0 0 0 0 0 0 0 0 0 0 0 1 2 3 0 0 0\n",
       " [371] 0 0 0 1 0 0 1 0 0 0 0 1 2 1 0 0 0 0 0 2 1 0 1 0 0 0 0 0 1 1 0 0 1 0 0 0 0\n",
       " [408] 1 1 0 0 2 0 0 0 0 3 3 2 1 0 1 1 1 0 2 0 0 1 1 0 1 0 1 0 0 0 0 0 0 2 0 0 0\n",
       " [445] 0 0 0 1 0 1 0 1 0 0 0 0 3 2 1 0 0 0 0 0 0 0 0 0 0 0 0 0 0 0 0 1 0 1 2 3 0\n",
       " [482] 0 1 1 1 0 1 1 0 1 0 0 0 0 0 0 1 0 0 0 0 0 0 0 0 1 1 0 0 1 0 0 0 0 0 1 1 1\n",
       " [519] 0 0 0 0 1 2 1 0 0 0 0 0 1 0 0 1 1 0 0 0 0 2 0 0 0 0 0 0 0 0 0 0 1 1 1 1 1\n",
       " [556] 0 0 0 0 1 0 1 0 0 0 1 0 0 0 0 0 0 0 0 0 0 2 1 0 0 2 3 1 0 1 0 2 0 0 0 0 0\n",
       " [593] 1 2 1 0 0 0 1 0 0 1 2 1 0 0 0 1 1 0 0 0 1 0 0 1 0 2 1 0 0 1 0 0 0 0 0 0 0\n",
       " [630] 0 0 0 0 0 0 0 0 0 0 0 1 1 0 1 2 0 0 1 0 0 0 0 0 1 0 0 0 0 0 0 2 1 1 0 0 1\n",
       " [667] 1 0 1 0 3 1 0 1 2 3 1 1 0 1 2 1 0 0 1 0 0 0 1 2 0 0 0 0 0 0 0 2 1 0 0 0 0\n",
       " [704] 0 1 2 0 0 0 0 0 0 0 1 1 1 1 1 0 0 0 0 0 0 1 0 0 0 0 0 1 1 0 2 3 2 1 0 1 0\n",
       " [741] 1 2 0 0 0 0 0 0 1 0 0 1 1 0 1 1 0 1 2 1 1 0 0 1 1 0 0 1 2 0 0 1 1 0 0 0 0\n",
       " [778] 0 0 1 0 0 0 0 0 0 0 0 0 0 0 0 0 0 0 0 4 2 2 2 2 2 4 2 2 2 2 2 2 2 2 2 2 1\n",
       " [815] 1 0 0 0 0 0 0 0 1 2 2 1 1 2 2 0 0 0 0 0 1 0 0 0 0 0 0 0 0 1 1 0 0 0 0 0 0\n",
       " [852] 1 0 0 1 0 0 0 1 0 0 0 0 0 0 0 1 0 0 0 0 0 0 0 0 0 1 0 0 0 0 0 0 0 0 1 1 0\n",
       " [889] 0 0 0 0 0 0 0 1 1 0 0 1 0 0 1 0 0 1 0 1 1 0 0 0 1 1 1 0 2 2 0 0 0 1 0 0 1\n",
       " [926] 1 0 0 1 1 0 0 0 1 0 0 0 1 1 1 0 0 1 2 2 2 0 1 2 0 0 0 1 1 0 0 1 0 0 0 0 0\n",
       " [963] 0 0 0 0 0 0 0 0 0 3 1 1 0 1 1 0 2 1 0 0 2 2 0 1 2 2 0 0 0 0 0 1 2 1 1 0 0\n",
       "[1000] 0 0 2 0 1 1 0 0 0 0 0 0 0 0 1 0 0 0 0 0 0 0 0 0 0 0 0 1 0 0 0 0 2 2 1 0 0\n",
       "[1037] 2 1 0 0 0 0 0 0 0 0 0 0 1 3 3 0 0 0 0 0 0 1 1 1 0 0 0 1 0 0 0 1 1 0 0 0 0\n",
       "[1074] 1 0 0 0 1 3 0 0 0 0 0 1 0 0 0 0 0 0 0 0 0 0 0 0 0 0 0 0 0 0 2 1 0 0 1 1 0\n",
       "[1111] 0 0 0 1 0 0 0 1 0 0 0 0 0 0 0 0 0 0 0 0 0 0 0 1 1 0 0 0 0 0 0 0 3 2 1 0 0\n",
       "[1148] 0 0 0 0 1 0 0 0 0 0 1 0 1 0 0 0 0 0 0 0 0 0 0 0 0 0 0 0 0 0 0 1 1 1 1 0 0\n",
       "[1185] 1 0 0 1 0 0 0 0 0 1 3 0 0 0 1 0 1 0 0 0 0 0 0 0 0 0 1 1 2 0 0 0 0 2 2 1 1\n",
       "[1222] 0 0 1 2 2 1 0 0 1 1 0 1 0 0 0 0 2 0 0 0 0 0 0 0 0 1 0 0 1 1 0 0 0 2 0 0 0\n",
       "[1259] 2 0 1 0 0 0 0 3 0 0 1 0 0 0 0 0 1 0 1 1 0 0 0 0 1 0 0 0 0 0 0 1 2 1 1 0 1\n",
       "[1296] 0 0 0 1 1 1 0 1 0 0 0 0 0 0 1 1 1 1 0 0 0 4 2 3 2 1 0 0 0 0 1 1 1 0 2 1 1\n",
       "[1333] 0 2 0 0 0 0 0 0 0 0 0 1 0 1 1 0 0 0 0 0 0 1 1 0 0 0 0 1 0 0 0 0 0 0 0 0 0\n",
       "[1370] 0 0 1 0 0 0 1 1 0 2 1 0 0 0 0 0 0 1 0 1 1 0 1 0 0 0 0 1 2 1 0 0 0 0 0 0 1\n",
       "[1407] 0 1 0 0 1 0 0 0 0 0 0 0 0 0 0 0 0 0 0 0 1 1 2 1 0 1 1 1 1 1 0 0 0 0 0 0 0\n",
       "[1444] 0 0 1 0 3 0 0 0 0 0 0 0 1 1 1 0 0 0 0 0 0 0 0 0 0 0 1 1 1 0 0 0 0 1 0 1 1\n",
       "[1481] 1 1 0 0 0 0 0 0 0 0 0 1 2 0 0 2 1 1 0 0 0 0 0 0 1 0 0 1 1 0 0 0 0 0 0 0 0\n",
       "[1518] 0 0 1 1 0 0 0 0 1 1 0 0 0 0 0 0 0 1 0 0 0 1 1 0 1 1 1 0 0 0 1 0 0 0 1 1 0\n",
       "[1555] 0 0 2 0 0 0 0 0 0 0 0 0 0 1 1 0 0 1 0 0 0 1 0 0 1 1 0 1 0 0 0 1 1 2 1 2 2\n",
       "[1592] 2 0 0 0 0 0 0 0 1 0 0 1 0 0 0 0 0 0 0 0 0 1 1 1 1 0 0 0 0 0 0 0 0 0 1 0 1\n",
       "[1629] 1 0 1 0 0 0 0 1 2 1 1 1 1 1 1 0 0 0 0 0 0 0 0 0 0 0 0 0 0 0 0 0 0 0 0 0 0\n",
       "[1666] 0 0 1 0 0 2 1 1 1 0 0 1 2 0 0 2 1 0 0 0 0 0 0 0 0 0 2 1 0 0 0 0 0 0 0 0 0\n",
       "[1703] 0 0 0 0 0 1 1 0 0 0 0 0 0 1 1 3 1 2 3 2 2 1 0 0 2 0 0 0 0 0 0 0 0 0 1 2 0\n",
       "[1740] 0 0 0 0 0 3 2 0 0 1 1 1 1 0 0 1 0 0 0 0 0 0 1 0 0 0 1 1 0 0 0 0 0 0 0 2 0\n",
       "[1777] 0 0 0 0 1 1 0 1 1 0 0 0 0 0 1 0 0 0 2 1 0 0 0 2 1 0 0 0 0 0 0 1 4 1 2 1 0\n",
       "[1814] 0 0 0 1 0 1 0 0 0 0 0 0 1 0 0 0 0 0 3 0 2 3 1 2 2 1 0 0 0 2 0 0 1 2 0 0 0\n",
       "[1851] 0 0 0 0 0 0 0 2 1 0 0 0 0 0 0 0 2 1 0 1 0 0 1 0 0 0 2 0 0 0 0 0 0 0 0 0 0\n",
       "[1888] 1 1 0 0 0 0 0 0 0 0 0 0 0 0 0 0 0 0 0 0 0 0 0 0 1 0 2 1 0 0 0 2 1 0 0 0 0\n",
       "[1925] 0 0 0 0 0 1 1 1 1 3 0 0 0 0 0 1 2 0 0 1 1 1 1 1 0 0 0 0 0 0 1 1 1 0 0 1 1\n",
       "[1962] 1 1 2 1 0 0 0 1 0 2 3 1 0 0 2 1 0 0 1 0 0 1 0 2 1 0 0 0 0 0 0 1 0 0 0 0 0\n",
       "[1999] 0 0 0 0 1 0 1 0 1 0 1 0 0 0 0 0 0 0 0 0 0 1 1 1 1 1 0 0 0 1 1 0 0 0 0 1 2\n",
       "[2036] 3 2 1 0 0 0 0 0 1 0 0 0 0 0 2 1 0 0 1 0 0 0 0 0 0 0 0 0 0 0 0 0 0 0 0 0 0\n",
       "[2073] 0 0 0 0 0 0 0 0 1 0 0 0 0 0 1 1 0 0 0 0 0 2 1 0 0 0 0 1 1 1 0 0 1 0 0 1 0\n",
       "[2110] 2 1 0 0 0 0 0 0 0 1 0 0 0 1 2 0 1 1 2 3 0 0 0 0 0 0 2 1 1 0 0 0 1 1 0 0 0\n",
       "[2147] 1 1 0 2 1 0 2 2 2 1 1 0 0 0 0 0 0 0 0 0 0 0 0 1 1 0 0 0 0 0 0 0 0 1 1 1 0\n",
       "[2184] 0 0 2 2 0 0 0 0 0 0 0 0 0 0 0 0 0 0 0 1 0 0 0 0 0 0 0 0 0 1 2 0 2 0 0 0 0\n",
       "[2221] 2 0 0 0 0 1 0 1 5 0 0 0 2 2 1 0 0 2 2 0 0 0 2 2 0 1 1 0 0 0 0 0 0 0 0 0 0\n",
       "[2258] 0 0 1 0 0 0 0 0 0 1 0 0 0 0 0 0 3 2 0 0 0 0 0 0 1 0 0 0 0 0 0 0 0 1 0 0 0\n",
       "[2295] 0 0 0 0 1 0 0 0 2 0 2 0 1 1 0 0 1 0 0 0 1 1 1 1 0 0 0 0 0 0 0 2 1 0 0 0 0\n",
       "[2332] 0 0 1 1 0 0 0 0 0 0 0 0 0 0 0 0 0 0 0 0 0 0 0 0 0 0 0 0 0 0 0 0 1 0 0 0 0\n",
       "[2369] 0 0 2 1 2 1 3 1 2 0 0 0 1 1 1 0 0 0 0 0 0 0 0 1 0 1 1 0 2 2 0 0 0 0 0 0 0\n",
       "[2406] 0 0 1 1 2 0 1 1 0 0 0 0 0 0 0 0 1 2 0 0 2 2 2 1 0 0 0 0 0 0 0 0 2 1 0 0 0\n",
       "[2443] 0 0 2 2 1 1 2 0 0 0 0 0 0 0 0 0 0 0 0 0 1 0 0 1 1 0 1 0 1 0 0 0 0 0 0 0 0\n",
       "[2480] 0 0 0 2 2 0 0 0 1 4 0 0 0 0 0 0 2 2 1 0 1 0 0 0 0 1 2 1 1 0 0 0 0 0 0 0 0\n",
       "[2517] 0 0 1 1 2 1 0 1 2 1 0 0 0 0 0 0 0 2 3 0 0 0 0 0 0 1 0 0 0 0 0 0 0 0 0 0 1\n",
       "[2554] 1 1 0 0 1 0 0 0 0 0 0 0 0 0 0 0 0 0 0 0 0 0 0 0 0 0 0 0 0 0 0 0 1 2 0 0 0\n",
       "[2591] 0 1 2 1 0 1 0 0 1 0 0 0 0 0 0 1 5 1 1 1 0 0 0 1 1 0 0 0 0 1 1 0 1 1 2 3 0\n",
       "[2628] 0 0 0 0 0 1 1 0 0 0 0 0 0 1 1 0 0 0 1 2 0 0 0 0 0 0 0 0 1 1 1 0 0 0 0 0 0\n",
       "[2665] 0 0 0 0 1 0 0 0 0 2 0 0 1 0 0 0 0 0 0 1 1 0 0 0 0 0 0 0 0 0 0 1 1 2 0 1 1\n",
       "[2702] 0 1 0 0 0 1 1 1 0 0 0 0 0 2 0 0 0 0 0 0 0 0 0 0 0 0 0 0 0 0 0 0 0 0 0 0 0\n",
       "[2739] 0 0 0 0 0 2 1 0 0 0 0 0 2 2 3 3 3 3 3 3 3 3 3 3 3 3 3 3 3 3 3 3 3 3 3 3 3\n",
       "[2776] 4 4 3 4 4 3 3 3 3 3 0 0 0 1 2 0 0 1 2 1 2 0 1 1 0 0 0 1 1 0 1 0 0 2 0 2 0\n",
       "[2813] 1 1 0 0 0 0 0 0 0 0 0 0 0 0 0 0 0 0 0 0 1 0 0 1 2 1 0 0 0 0 4 3 0 0 1 0 0\n",
       "[2850] 0 0 0 0 0 1 1 0 0 0 0 0 0 0 1 1 0 0 0 0 0 0 0 1 2 0 0 1 0 1 0 0 0 0 0 0 0\n",
       "[2887] 1 1 0 0 1 0 0 0 0 0 2 2 0 0 0 0 0 0 0 0 0 0 0 0 1 0 0 0 0 0 0 1 0 0 1 0 0\n",
       "[2924] 1 0 0 0 0 0 1 0 1 2 1 1 1 0 0 0 0 1 1 0 1 1 1 0 0 0 1 1 0 0 1 0 1 1 1 0 1\n",
       "[2961] 1 0 0 0 0 0 0 0 0 0 1 0 0 0 0 0 0 0 0 0 0 0 0 0 0 0 0 0 0 0 0 0 0 0 0 0 0\n",
       "[2998] 0 0 1 1 0 0 2 1 0 0 1 1 0 0 0 0 0 0 0 1 1 0 0 0 0 0 0 0 0 0 0 0 0 0 0 0 0\n",
       "[3035] 0 0 0 0 0 1 2 3 0 0 0 0 0 0 1 2 0 1 0 1 2 2 0 0 0 0 0 0 1 0 0 0 2 3 0 0 0\n",
       "[3072] 1 1 1 0 0 0 0 0 0 0 0 0 0 1 0 0 0 1 1 0 0 0 0 0 0 0 1 0 0 0 0 1 1 0 2 0 0\n",
       "[3109] 0 0 0 0 1 1 1 0 1 2 0 0 0 0 2 1 1 0 0 0 1 0 0 0 0 0 0 0 0 0 0 0 0 0 0 1 0\n",
       "[3146] 0 0 0 0 0 1 0 0 0 1 0 1 1 2 0 1 0 0 0 1 0 0 0 0 0 1 1 1 0 0 0 1 3 2 1 0 0\n",
       "[3183] 1 1 1 2 1 1 1 1 1 1 0 1 1 0 0 0 0 1 0 0 0 0 0 0 0 0 0 0 0 1 0 0 0 2 1 1 0\n",
       "[3220] 0 0 0 1 4 3 0 0 0 0 0 1 1 1 0 0 0 1 1 1 1 1 0 0 2 2 2 2 0 0 0 0 1 0 0 1 0\n",
       "[3257] 0 0 0 0 0 1 2 0 0 2 0 0 0 0 0 0 0 0 0 0 0 0 0 1 0 0 0 0 1 1 0 0 1 3 1 1 1\n",
       "[3294] 0 0 0 0 0 0 0 0 0 0 0 0 1 1 0 1 0 0 0 0 0 1 0 0 0 0 0 0 0 0 0 1 1 1 0 0 0\n",
       "[3331] 0 0 0 0 0 0 0 0 0 0 0 0 0 1 0 0 1 0 0 0 0 0 0 0 0 0 0 0 0 0 1 0 0 0 0 0 2\n",
       "[3368] 2 0 1 1 1 0 1 0 2 3 0 0 0 0 0 0 0 0 2 0 0 0 0 0 0 0 1 0 0 0 1 0 0 0 0 0 0\n",
       "[3405] 0 0 0 0 0 0 0 0 2 1 0 0 1 0 0 0 0 0 0 0 0 0 0 0 0 0 0 0 0 0 0 0 0 0 0 0 0\n",
       "[3442] 0 0 0 0 0 1 2 0 0 0 0 1 0 0 0 0 0 0 0 0 0 0 0 0 0 0 0 0 1 3 1 1 0 0 0 0 1\n",
       "[3479] 0 0 0 0 0 0 0 0 2 2 1 0 1 0 0 1 0 0 0 0 0 0 0 0 0 0 1 0 0 1 0 1 1 0 1 1 2\n",
       "[3516] 1 0 0 0 1 1 0 1 0 0 1 1 0 0 0 0 0 0 0 0 0 0 1 1 0 0 2 0 0 0 1 0 1 4 1 0 1\n",
       "[3553] 0 0 0 0 0 0 0 0 0 1 0 0 1 0 0 0 0 1 0 0 0 0 0 0 0 0 0 0 0 0 0 4 2 1 0 0 0\n",
       "[3590] 1 1 0 0 0 0 1 1 1 1 0 1 0 0 0 0 0 0 0 1 0 0 0 0 0 0 0 0 0 1 0 0 1 0 0 0 0\n",
       "[3627] 1 0 1 0 0 0 2 0 0 2 0 0 0 0 0 0 0 0 1 1 1 1 1 1 0 0 0 0 0 0 0 0 0 0 0 1 0\n",
       "[3664] 0 0 0 0 0 0 0 0 2 0 0 0 0 0 0 0 0 1 1 0 0 0 0 0 0 0 0 1 0 0 0 0 0 0 1 0 0\n",
       "[3701] 0 0 1 1 0 0 0 1 1 1 1 1 1 0 0 0 1 2 0 0 2 0 0 0 0 0 1 1 1 0 0 0 0 1 0 0 0\n",
       "[3738] 0 0 0 0 0 0 1 0 0 1 2 2 3 2 0 0 0 1 3 1 0 0 0 0 0 0 1 1 2 1 0 0 0 0 0 0 0\n",
       "[3775] 0 0 0 0 0 0 0 0 0 0 0 1 1 0 1 1 0 0 0 0 1 3 2 0 0 1 0 0 1 0 0 0 0 0 2 2 1\n",
       "[3812] 1 0 0 1 0 0 1 2 0 0 1 3 0 0 0 0 0 0 0 0 1 1 1 1 0 0 0 0 1 0 0 0 0 1 1 0 0\n",
       "[3849] 0 0 0 0 0 1 1 0 0 0 0 0 0 1 0 2 0 0 0 0 0 0 0 0 0 1 1 1 1 1 0 0 0 1 1 1 2\n",
       "[3886] 1 0 0 0 0 1 0 0 1 0 0 0 0 0 0 1 0 0 1 0 0 0 0 0 1 1 1 1 0 0 0 0 0 0 0 1 1\n",
       "[3923] 2 2 0 0 0 0 0 1 0 1 0 1 1 0 1 1 0 1 1 0 0 0 0 1 0 0 0 0 0 0 0 0 0 1 2 0 0\n",
       "[3960] 0 0 0 0 0 0 0 1 2 2 1 0 0 0 0 0 0 2 0 0 2 2 1 0 0 0 1 1 0 0 0 0 1 2 1 2 1\n",
       "[3997] 0 1 0 0 1 0 0 0 0 0 0 1 1 0 0 0 0 0 0 0 0 0 1 1 0 0 0 0 2 2 1 1 1 0 1 0 0\n",
       "[4034] 0 1 2 1 0 0 0 0 0 0 0 0 0 0 0 0 1 1 0 0 0 0 0 0 0 0 0 0 0 1 0 1 0 0 0 0 0\n",
       "[4071] 0 0 0 0 0 0 0 0 0 0 0 0 2 2 1 1 1 0 0 1 0 0 0 0 0 1 1 1 1 2 0 0 0 0 0 0 2\n",
       "[4108] 2 2 0 0 0 1 0 0 2 2 0 0 0 0 0 1 0 0 1 0 0 0 1 0 0 1 1 0 1 1 0 0 0 1 1 1 1\n",
       "[4145] 1 1 1 0 0 0 0 1 0 0 0 0 0 0 0 1 1 0 1 1 0 0 0 1 1 0 0 0 0 0 0\n"
      ]
     },
     "metadata": {},
     "output_type": "display_data"
    }
   ],
   "source": [
    "%%R -i co_count\n",
    "library(AER)\n",
    "co_count"
   ]
  },
  {
   "cell_type": "code",
   "execution_count": 24,
   "metadata": {
    "collapsed": false
   },
   "outputs": [
    {
     "data": {
      "text/plain": [
       "\n",
       "Call:\n",
       "glm(formula = co_count ~ 1, family = poisson)\n",
       "\n",
       "Deviance Residuals: \n",
       "    Min       1Q   Median       3Q      Max  \n",
       "-0.9250  -0.9250  -0.9250   0.7442   3.9295  \n",
       "\n",
       "Coefficients:\n",
       "            Estimate Std. Error z value Pr(>|z|)    \n",
       "(Intercept) -0.84914    0.02366  -35.88   <2e-16 ***\n",
       "---\n",
       "Signif. codes:  0 '***' 0.001 '**' 0.01 '*' 0.05 '.' 0.1 ' ' 1\n",
       "\n",
       "(Dispersion parameter for poisson family taken to be 1)\n",
       "\n",
       "    Null deviance: 4490.6  on 4174  degrees of freedom\n",
       "Residual deviance: 4490.6  on 4174  degrees of freedom\n",
       "AIC: 7371.6\n",
       "\n",
       "Number of Fisher Scoring iterations: 6\n",
       "\n"
      ]
     },
     "metadata": {},
     "output_type": "display_data"
    }
   ],
   "source": [
    "%%R\n",
    "rd <- glm(co_count ~ 1, family = poisson)\n",
    "summary(rd)"
   ]
  },
  {
   "cell_type": "code",
   "execution_count": 41,
   "metadata": {
    "collapsed": false
   },
   "outputs": [
    {
     "data": {
      "text/plain": [
       "0.4274149319487267"
      ]
     },
     "execution_count": 41,
     "metadata": {},
     "output_type": "execute_result"
    }
   ],
   "source": [
    "np.e**-.85"
   ]
  },
  {
   "cell_type": "code",
   "execution_count": 25,
   "metadata": {
    "collapsed": false
   },
   "outputs": [
    {
     "data": {
      "text/plain": [
       "\n",
       "\tOverdispersion test\n",
       "\n",
       "data:  rd\n",
       "z = 8.1926, p-value < 2.2e-16\n",
       "alternative hypothesis: true alpha is greater than 0\n",
       "sample estimates:\n",
       "    alpha \n",
       "0.2530666 \n",
       "\n"
      ]
     },
     "metadata": {},
     "output_type": "display_data"
    }
   ],
   "source": [
    "%%R\n",
    "dispersiontest(rd, trafo=1, alternative=\"greater\")"
   ]
  },
  {
   "cell_type": "code",
   "execution_count": 36,
   "metadata": {
    "collapsed": false
   },
   "outputs": [
    {
     "data": {
      "text/plain": [
       "array([0, 0, 1, ..., 0, 1, 1])"
      ]
     },
     "execution_count": 36,
     "metadata": {},
     "output_type": "execute_result"
    }
   ],
   "source": [
    "x = scipy.stats.poisson.rvs(np.mean(co_count), size=co_count.size)\n",
    "x"
   ]
  },
  {
   "cell_type": "code",
   "execution_count": 37,
   "metadata": {
    "collapsed": false
   },
   "outputs": [
    {
     "data": {
      "image/png": "[encoded data removed]",
      "text/plain": [
       "<matplotlib.figure.Figure at 0x7fda84f5b710>"
      ]
     },
     "metadata": {},
     "output_type": "display_data"
    }
   ],
   "source": [
    "plt.hist(x, histtype='step', bins=np.arange(10), lw=2)\n",
    "plt.hist(co_count, histtype='step', bins=np.arange(10), lw=2);"
   ]
  },
  {
   "cell_type": "code",
   "execution_count": 33,
   "metadata": {
    "collapsed": false
   },
   "outputs": [
    {
     "data": {
      "text/plain": [
       "(0.42778443113772457, 0.73214916283762699)"
      ]
     },
     "execution_count": 33,
     "metadata": {},
     "output_type": "execute_result"
    }
   ],
   "source": [
    "np.mean(co_count), np.std(co_count)"
   ]
  },
  {
   "cell_type": "code",
   "execution_count": 35,
   "metadata": {
    "collapsed": false
   },
   "outputs": [
    {
     "data": {
      "text/plain": [
       "(0.86347305389221551, 0.92110057064902273)"
      ]
     },
     "execution_count": 35,
     "metadata": {},
     "output_type": "execute_result"
    }
   ],
   "source": [
    "np.mean(x), np.std(x)"
   ]
  },
  {
   "cell_type": "markdown",
   "metadata": {},
   "source": [
    "## Sandbox"
   ]
  },
  {
   "cell_type": "code",
   "execution_count": 14,
   "metadata": {
    "collapsed": false
   },
   "outputs": [
    {
     "data": {
      "text/plain": [
       "  trips quality ski income userfee  costC   costS   costH\n",
       "1     0       0 yes      4      no  67.59  68.620  76.800\n",
       "2     0       0  no      9      no  68.86  70.936  84.780\n",
       "3     0       0 yes      5      no  58.12  59.465  72.110\n",
       "4     0       0  no      2      no  15.79  13.750  23.680\n",
       "5     0       0 yes      3      no  24.02  34.033  34.547\n",
       "6     0       0 yes      5      no 129.46 137.377 137.850\n"
      ]
     },
     "metadata": {},
     "output_type": "display_data"
    }
   ],
   "source": [
    "%%R\n",
    "library(AER)\n",
    "data(RecreationDemand)\n",
    "head(RecreationDemand)"
   ]
  },
  {
   "cell_type": "code",
   "execution_count": 15,
   "metadata": {
    "collapsed": false
   },
   "outputs": [
    {
     "data": {
      "text/plain": [
       "\n",
       "Call:\n",
       "glm(formula = RecreationDemand$trips ~ 1, family = poisson)\n",
       "\n",
       "Deviance Residuals: \n",
       "    Min       1Q   Median       3Q      Max  \n",
       "-2.1186  -2.1186  -2.1186  -0.1662  21.7766  \n",
       "\n",
       "Coefficients:\n",
       "            Estimate Std. Error z value Pr(>|z|)    \n",
       "(Intercept)   0.8084     0.0260   31.09   <2e-16 ***\n",
       "---\n",
       "Signif. codes:  0 '***' 0.001 '**' 0.01 '*' 0.05 '.' 0.1 ' ' 1\n",
       "\n",
       "(Dispersion parameter for poisson family taken to be 1)\n",
       "\n",
       "    Null deviance: 4849.7  on 658  degrees of freedom\n",
       "Residual deviance: 4849.7  on 658  degrees of freedom\n",
       "AIC: 5604.8\n",
       "\n",
       "Number of Fisher Scoring iterations: 6\n",
       "\n"
      ]
     },
     "metadata": {},
     "output_type": "display_data"
    }
   ],
   "source": [
    "%%R\n",
    "rd <- glm(RecreationDemand$trips ~ 1, family = poisson)\n",
    "summary(rd)"
   ]
  },
  {
   "cell_type": "code",
   "execution_count": 17,
   "metadata": {
    "collapsed": false
   },
   "outputs": [
    {
     "data": {
      "text/plain": [
       "\n",
       "\tOverdispersion test\n",
       "\n",
       "data:  rd\n",
       "z = 3.0234, p-value = 0.00125\n",
       "alternative hypothesis: true alpha is greater than 0\n",
       "sample estimates:\n",
       "   alpha \n",
       "16.61573 \n",
       "\n"
      ]
     },
     "metadata": {},
     "output_type": "display_data"
    }
   ],
   "source": [
    "%%R\n",
    "dispersiontest(rd, trafo=1, alternative=\"greater\")"
   ]
  },
  {
   "cell_type": "code",
   "execution_count": null,
   "metadata": {
    "collapsed": false
   },
   "outputs": [],
   "source": [
    "combined = load_callsets(COMBINED_CALLSET_FN_TEMPLATE, \n",
    "                         variant_filter='FILTER_PASS',\n",
    "                         call_filter=combined_conf_calls, \n",
    "                         sample_exclusions=excessive_recomb_samples)"
   ]
  },
  {
   "cell_type": "code",
   "execution_count": null,
   "metadata": {
    "collapsed": true
   },
   "outputs": [],
   "source": [
    "variants = combined['3d7_hb3']['variants']"
   ]
  },
  {
   "cell_type": "code",
   "execution_count": null,
   "metadata": {
    "collapsed": false
   },
   "outputs": [],
   "source": [
    "pos = variants['POS'][variants['CHROM'] == b'Pf3D7_01_v3']\n",
    "pos.shape"
   ]
  },
  {
   "cell_type": "code",
   "execution_count": null,
   "metadata": {
    "collapsed": false,
    "scrolled": false
   },
   "outputs": [],
   "source": [
    "tbl_intervals = (\n",
    "    etl\n",
    "    .fromcolumns((pos[:-1], pos[1:], np.diff(pos)), header=('start', 'stop', 'length'))\n",
    "    .addfield('chrom', b'Pf3D7_01_v3', index=0)\n",
    "    .intervalleftjoin(tbl_recom.prefixheader('recom_'), \n",
    "                      lkey='chrom', lstart='start', lstop='stop',\n",
    "                      rkey='recom_chrom', rstart='recom_start', rstop='recom_stop',\n",
    "                      include_stop=True)\n",
    "    .aggregate(key=('chrom', 'start', 'stop', 'length'),\n",
    "               aggregation=list, value='recom_type')\n",
    "    .rename('value', 'event_types')\n",
    "    .convert('event_types', lambda v: [] if v == [None] else v)\n",
    "    .addfield('n_events', lambda row: len(row.event_types))\n",
    ")\n",
    "tbl_intervals.gt('n_events', 0).display(50)"
   ]
  },
  {
   "cell_type": "code",
   "execution_count": null,
   "metadata": {
    "collapsed": true
   },
   "outputs": [],
   "source": []
  }
 ],
 "metadata": {
  "kernelspec": {
   "display_name": "Python 3",
   "language": "python",
   "name": "python3"
  },
  "language_info": {
   "codemirror_mode": {
    "name": "ipython",
    "version": 3
   },
   "file_extension": ".py",
   "mimetype": "text/x-python",
   "name": "python",
   "nbconvert_exporter": "python",
   "pygments_lexer": "ipython3",
   "version": "3.5.0+"
  }
 },
 "nbformat": 4,
 "nbformat_minor": 0
}
