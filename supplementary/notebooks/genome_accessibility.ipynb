{
 "metadata": {
  "name": "",
  "signature": "sha256:edd8e5423eb59069f1b652b4982598af02ca84e412d4b392d6bdf4a54c670aa0"
 },
 "nbformat": 3,
 "nbformat_minor": 0,
 "worksheets": [
  {
   "cells": [
    {
     "cell_type": "markdown",
     "metadata": {},
     "source": [
      "This notebook is part of the supplementary information for the paper **Deep sequencing of *Plasmodium falciparum* genetic crosses: a resource for the study of genome variation and meiotic recombination**. \n",
      "\n",
      "[Up to index of supplementary information](../README.md)."
     ]
    },
    {
     "cell_type": "heading",
     "level": 1,
     "metadata": {},
     "source": [
      "Genome accessibility"
     ]
    },
    {
     "cell_type": "markdown",
     "metadata": {},
     "source": [
      "Sequence reads from each sample were aligned to the 3D7 version 3 reference genome using BWA. Various metrics were then calculated per genome position for each sample and visualised to identify regions where alignments were ambiguous or showed fluctuations in coverage or other indications of poor accessibility for variant discovery.   "
     ]
    },
    {
     "cell_type": "code",
     "collapsed": false,
     "input": [
      "from __future__ import division\n",
      "%run ../../shared_setup.ipynb\n",
      "%run ../../plotting_setup.ipynb"
     ],
     "language": "python",
     "metadata": {},
     "outputs": [],
     "prompt_number": 1
    },
    {
     "cell_type": "markdown",
     "metadata": {},
     "source": [
      "Based on inspection of the alignment metrics for all chromosomes for the parent clones, and for alignments combined across all samples within each cross, the genome was divided into different region classes. A table defining these regions is included in the data release directory."
     ]
    },
    {
     "cell_type": "code",
     "collapsed": false,
     "input": [
      "tbl_regions_1b.display(5, caption='Genome accessibility map')"
     ],
     "language": "python",
     "metadata": {},
     "outputs": [
      {
       "html": [
        "<table class='petl'>\r\n",
        "<caption>Genome accessibility map</caption>\r\n",
        "<thead>\r\n",
        "<tr>\r\n",
        "<th>0|region_chrom</th>\r\n",
        "<th>1|region_start</th>\r\n",
        "<th>2|region_stop</th>\r\n",
        "<th>3|region_type</th>\r\n",
        "<th>4|region_size</th>\r\n",
        "</tr>\r\n",
        "</thead>\r\n",
        "<tbody>\r\n",
        "<tr>\r\n",
        "<td>Pf3D7_01_v3</td>\r\n",
        "<td style='text-align: right'>1</td>\r\n",
        "<td style='text-align: right'>27336</td>\r\n",
        "<td>SubtelomericRepeat</td>\r\n",
        "<td style='text-align: right'>27336</td>\r\n",
        "</tr>\r\n",
        "<tr>\r\n",
        "<td>Pf3D7_01_v3</td>\r\n",
        "<td style='text-align: right'>27337</td>\r\n",
        "<td style='text-align: right'>92900</td>\r\n",
        "<td>SubtelomericHypervariable</td>\r\n",
        "<td style='text-align: right'>65564</td>\r\n",
        "</tr>\r\n",
        "<tr>\r\n",
        "<td>Pf3D7_01_v3</td>\r\n",
        "<td style='text-align: right'>92901</td>\r\n",
        "<td style='text-align: right'>457931</td>\r\n",
        "<td>Core</td>\r\n",
        "<td style='text-align: right'>365031</td>\r\n",
        "</tr>\r\n",
        "<tr>\r\n",
        "<td>Pf3D7_01_v3</td>\r\n",
        "<td style='text-align: right'>457932</td>\r\n",
        "<td style='text-align: right'>460311</td>\r\n",
        "<td>Centromere</td>\r\n",
        "<td style='text-align: right'>2380</td>\r\n",
        "</tr>\r\n",
        "<tr>\r\n",
        "<td>Pf3D7_01_v3</td>\r\n",
        "<td style='text-align: right'>460312</td>\r\n",
        "<td style='text-align: right'>575900</td>\r\n",
        "<td>Core</td>\r\n",
        "<td style='text-align: right'>115589</td>\r\n",
        "</tr>\r\n",
        "</tbody>\r\n",
        "</table>\r\n",
        "<p><strong>...</strong></p>"
       ],
       "metadata": {},
       "output_type": "display_data"
      }
     ],
     "prompt_number": 6
    },
    {
     "cell_type": "code",
     "collapsed": false,
     "input": [
      "tbl_regions_1b.aggregate('region_type', sum, 'region_size').rename('value', 'total_size')"
     ],
     "language": "python",
     "metadata": {},
     "outputs": [
      {
       "html": [
        "<table class='petl'>\r\n",
        "<thead>\r\n",
        "<tr>\r\n",
        "<th>0|region_type</th>\r\n",
        "<th>1|total_size</th>\r\n",
        "</tr>\r\n",
        "</thead>\r\n",
        "<tbody>\r\n",
        "<tr>\r\n",
        "<td>Centromere</td>\r\n",
        "<td style='text-align: right'>31922</td>\r\n",
        "</tr>\r\n",
        "<tr>\r\n",
        "<td>Core</td>\r\n",
        "<td style='text-align: right'>20782107</td>\r\n",
        "</tr>\r\n",
        "<tr>\r\n",
        "<td>InternalHypervariable</td>\r\n",
        "<td style='text-align: right'>344759</td>\r\n",
        "</tr>\r\n",
        "<tr>\r\n",
        "<td>SubtelomericHypervariable</td>\r\n",
        "<td style='text-align: right'>1571888</td>\r\n",
        "</tr>\r\n",
        "<tr>\r\n",
        "<td>SubtelomericRepeat</td>\r\n",
        "<td style='text-align: right'>561966</td>\r\n",
        "</tr>\r\n",
        "</tbody>\r\n",
        "</table>\r\n"
       ],
       "metadata": {},
       "output_type": "pyout",
       "prompt_number": 4,
       "text": [
        "+-----------------------------+----------------+\n",
        "| '0|region_type'             | '1|total_size' |\n",
        "+=============================+================+\n",
        "| 'Centromere'                |          31922 |\n",
        "+-----------------------------+----------------+\n",
        "| 'Core'                      |       20782107 |\n",
        "+-----------------------------+----------------+\n",
        "| 'InternalHypervariable'     |         344759 |\n",
        "+-----------------------------+----------------+\n",
        "| 'SubtelomericHypervariable' |        1571888 |\n",
        "+-----------------------------+----------------+\n",
        "| 'SubtelomericRepeat'        |         561966 |\n",
        "+-----------------------------+----------------+"
       ]
      }
     ],
     "prompt_number": 4
    },
    {
     "cell_type": "heading",
     "level": 2,
     "metadata": {},
     "source": [
      "Sandbox"
     ]
    },
    {
     "cell_type": "code",
     "collapsed": false,
     "input": [],
     "language": "python",
     "metadata": {},
     "outputs": []
    }
   ],
   "metadata": {}
  }
 ]
}