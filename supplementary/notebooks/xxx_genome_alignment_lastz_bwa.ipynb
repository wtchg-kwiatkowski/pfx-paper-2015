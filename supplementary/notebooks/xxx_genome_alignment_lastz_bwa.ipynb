{
 "cells": [
  {
   "cell_type": "code",
   "execution_count": 1,
   "metadata": {
    "collapsed": false
   },
   "outputs": [
    {
     "name": "stdout",
     "output_type": "stream",
     "text": [
      "The Cython magic has been move to the Cython package, hence \n",
      "`%load_ext cythonmagic` is deprecated; Please use `%load_ext Cython` instead.\n",
      "\n",
      "Though, because I am nice, I'll still try to load it for you this time.\n"
     ]
    }
   ],
   "source": [
    "%run ../../shared_setup.ipynb"
   ]
  },
  {
   "cell_type": "code",
   "execution_count": 2,
   "metadata": {
    "collapsed": true
   },
   "outputs": [],
   "source": [
    "assembly_dir = '/data/plasmodium/pfalciparum/pf-crosses/data/reference/birren_2006'"
   ]
  },
  {
   "cell_type": "code",
   "execution_count": 3,
   "metadata": {
    "collapsed": false
   },
   "outputs": [
    {
     "name": "stdout",
     "output_type": "stream",
     "text": [
      "total 145M\r\n",
      "drwxrwsr-x 5 aliman malariagen    5 Apr  8 11:28 mummer\r\n",
      "-rw-rw-r-- 1 aliman malariagen  14M Apr  7 11:45 plasmodium_falciparum__isolate_7g8__1_contigs.fasta\r\n",
      "-rw-rw-r-- 1 aliman malariagen  13M Apr  8 11:31 plasmodium_falciparum__isolate_7g8__1_contigs.fasta.flat\r\n",
      "-rw-rw-r-- 1 aliman malariagen 234K Apr  8 11:31 plasmodium_falciparum__isolate_7g8__1_contigs.fasta.gdx\r\n",
      "-rw-rw-r-- 1 aliman malariagen  15M Apr  7 11:45 plasmodium_falciparum__isolate_7g8__1_supercontigs.fasta\r\n",
      "-rw-rw-r-- 1 aliman malariagen  14M Apr  8 11:31 plasmodium_falciparum__isolate_7g8__1_supercontigs.fasta.flat\r\n",
      "-rw-rw-r-- 1 aliman malariagen 156K Apr  8 11:31 plasmodium_falciparum__isolate_7g8__1_supercontigs.fasta.gdx\r\n",
      "-rw-rw-r-- 1 aliman malariagen  20M Apr  7 11:45 plasmodium_falciparum__isolate_dd2__1_contigs.fasta\r\n",
      "-rw-rw-r-- 1 aliman malariagen  19M Apr  8 11:30 plasmodium_falciparum__isolate_dd2__1_contigs.fasta.flat\r\n",
      "-rw-rw-r-- 1 aliman malariagen 119K Apr  8 11:30 plasmodium_falciparum__isolate_dd2__1_contigs.fasta.gdx\r\n",
      "-rw-rw-r-- 1 aliman malariagen  21M Apr  7 11:45 plasmodium_falciparum__isolate_dd2__1_supercontigs.fasta\r\n",
      "-rw-rw-r-- 1 aliman malariagen  20M Apr  8 11:30 plasmodium_falciparum__isolate_dd2__1_supercontigs.fasta.flat\r\n",
      "-rw-rw-r-- 1 aliman malariagen  91K Apr  8 11:30 plasmodium_falciparum__isolate_dd2__1_supercontigs.fasta.gdx\r\n",
      "-rw-rw-r-- 1 aliman malariagen  24M Apr  7 11:45 plasmodium_falciparum__isolate_hb3__1_contigs.fasta\r\n",
      "-rw-rw-r-- 1 aliman malariagen  23M Apr  7 18:01 plasmodium_falciparum__isolate_hb3__1_contigs.fasta.flat\r\n",
      "-rw-rw-r-- 1 aliman malariagen  79K Apr  7 18:01 plasmodium_falciparum__isolate_hb3__1_contigs.fasta.gdx\r\n",
      "-rw-rw-r-- 1 aliman malariagen  24M Apr  7 11:45 plasmodium_falciparum__isolate_hb3__1_supercontigs.fasta\r\n",
      "-rw-rw-r-- 1 aliman malariagen  24M Apr  7 18:02 plasmodium_falciparum__isolate_hb3__1_supercontigs.fasta.flat\r\n",
      "-rw-rw-r-- 1 aliman malariagen  38K Apr  7 18:02 plasmodium_falciparum__isolate_hb3__1_supercontigs.fasta.gdx\r\n"
     ]
    }
   ],
   "source": [
    "!ls -lh {assembly_dir}"
   ]
  },
  {
   "cell_type": "code",
   "execution_count": 4,
   "metadata": {
    "collapsed": true
   },
   "outputs": [],
   "source": [
    "fasta_hb3_contigs = os.path.join(assembly_dir, 'plasmodium_falciparum__isolate_hb3__1_contigs.fasta')\n",
    "fasta_hb3_supercontigs = os.path.join(assembly_dir, 'plasmodium_falciparum__isolate_hb3__1_supercontigs.fasta')\n",
    "fasta_dd2_contigs = os.path.join(assembly_dir, 'plasmodium_falciparum__isolate_dd2__1_contigs.fasta')\n",
    "fasta_dd2_supercontigs = os.path.join(assembly_dir, 'plasmodium_falciparum__isolate_dd2__1_supercontigs.fasta')\n",
    "fasta_7g8_contigs = os.path.join(assembly_dir, 'plasmodium_falciparum__isolate_7g8__1_contigs.fasta')\n",
    "fasta_7g8_supercontigs = os.path.join(assembly_dir, 'plasmodium_falciparum__isolate_7g8__1_supercontigs.fasta')"
   ]
  },
  {
   "cell_type": "code",
   "execution_count": 5,
   "metadata": {
    "collapsed": false
   },
   "outputs": [],
   "source": [
    "fasta_3d7_v3 = '/data/plasmodium/pfalciparum/pf-crosses/data/genome/sanger/version3/September_2012/Pf3D7_v3.lookseq.fa'"
   ]
  },
  {
   "cell_type": "markdown",
   "metadata": {},
   "source": [
    "## lastz"
   ]
  },
  {
   "cell_type": "code",
   "execution_count": 6,
   "metadata": {
    "collapsed": false
   },
   "outputs": [
    {
     "name": "stdout",
     "output_type": "stream",
     "text": [
      "You must specify a target file\r\n",
      "lastz-- Local Alignment Search Tool, blastZ-like\r\n",
      "  (version 1.02.00 released 20100112)\r\n",
      "usage: lastz target [query] [options]\r\n",
      "  (common options;  use --help for a more extensive list)\r\n",
      "  target, query          specifiers or files, containing sequences to align\r\n",
      "                         (use --help=files for more details)\r\n",
      "  --seed=<pattern>       set seed pattern (12of19, 14of22, or general pattern)\r\n",
      "                         (default is 1110100110010101111)\r\n",
      "  --[no]transition       allow (or don't) one transition in a seed hit\r\n",
      "                         (by default a transition is allowed)\r\n",
      "  --[no]chain            perform chaining\r\n",
      "                         (by default no chaining is performed)\r\n",
      "  --[no]gapped           perform gapped alignment (instead of gap-free)\r\n",
      "                         (by default gapped alignment is performed)\r\n",
      "  --step=<length>        set step length (default is 1)\r\n",
      "  --strand=both          search both strands\r\n",
      "  --strand=plus          search + strand only (matching strand of query spec)\r\n",
      "                         (by default both strands are searched)\r\n",
      "  --scores=<file>        read substitution and gap scores from a file\r\n",
      "  --xdrop=<score>        set x-drop threshold (default is 10sub[A][A])\r\n",
      "  --ydrop=<score>        set y-drop threshold (default is open+300extend)\r\n",
      "  --infer[=<control>]    infer scores from the sequences, then use them\r\n",
      "                         all inference options are read from the control file\r\n",
      "  --hspthresh=<score>    set threshold for high scoring pairs (default is 3000)\r\n",
      "                         ungapped extensions scoring lower are discarded\r\n",
      "                         <score> can also be a percentage or base count\r\n",
      "  --gappedthresh=<score> set threshold for gapped alignments\r\n",
      "                         gapped extensions scoring lower are discarded\r\n",
      "                         <score> can also be a percentage or base count\r\n",
      "                         (default is to use same value as --hspthresh)\r\n",
      "  --help                 list all options\r\n",
      "  --help=files           list information about file specifiers\r\n",
      "  --help=shortcuts       list blastz-compatible shortcuts\r\n",
      "  --help=yasra           list yasra-specific shortcuts\r\n"
     ]
    }
   ],
   "source": [
    "!lastz "
   ]
  },
  {
   "cell_type": "code",
   "execution_count": 7,
   "metadata": {
    "collapsed": true
   },
   "outputs": [],
   "source": [
    "output_3d7_hb3_dir = os.path.join(assembly_dir, 'lastz/3d7_hb3')\n",
    "if not os.path.exists(output_3d7_hb3_dir):\n",
    "    os.makedirs(output_3d7_hb3_dir)"
   ]
  },
  {
   "cell_type": "code",
   "execution_count": 14,
   "metadata": {
    "collapsed": true
   },
   "outputs": [],
   "source": [
    "output_3d7_dd2_dir = os.path.join(assembly_dir, 'lastz/3d7_dd2')\n",
    "if not os.path.exists(output_3d7_dd2_dir):\n",
    "    os.makedirs(output_3d7_dd2_dir)"
   ]
  },
  {
   "cell_type": "code",
   "execution_count": 15,
   "metadata": {
    "collapsed": true
   },
   "outputs": [],
   "source": [
    "output_3d7_7g8_dir = os.path.join(assembly_dir, 'lastz/3d7_7g8')\n",
    "if not os.path.exists(output_3d7_7g8_dir):\n",
    "    os.makedirs(output_3d7_7g8_dir)"
   ]
  },
  {
   "cell_type": "code",
   "execution_count": 13,
   "metadata": {
    "collapsed": false
   },
   "outputs": [],
   "source": [
    "!(lastz {fasta_3d7_v3}[multiple] {fasta_hb3_contigs} \\\n",
    "    --gfextend \\\n",
    "    --chain \\\n",
    "    --gapped \\\n",
    "    --output={output_3d7_hb3_dir}/3d7_hb3.sam \\\n",
    "    --format=sam \\\n",
    "    --rdotplot={output_3d7_hb3_dir}/3d7_hb3.rdotplot \\\n",
    "    --progress=100 \\\n",
    "    > {output_3d7_hb3_dir}/3d7_hb3.log 2>&1 &)"
   ]
  },
  {
   "cell_type": "code",
   "execution_count": 16,
   "metadata": {
    "collapsed": true
   },
   "outputs": [],
   "source": [
    "!(lastz {fasta_3d7_v3}[multiple] {fasta_dd2_contigs} \\\n",
    "    --gfextend \\\n",
    "    --chain \\\n",
    "    --gapped \\\n",
    "    --output={output_3d7_dd2_dir}/3d7_dd2.sam \\\n",
    "    --format=sam \\\n",
    "    --rdotplot={output_3d7_dd2_dir}/3d7_dd2.rdotplot \\\n",
    "    --progress=100 \\\n",
    "    > {output_3d7_dd2_dir}/3d7_dd2.log 2>&1 &)"
   ]
  },
  {
   "cell_type": "code",
   "execution_count": 17,
   "metadata": {
    "collapsed": true
   },
   "outputs": [],
   "source": [
    "!(lastz {fasta_3d7_v3}[multiple] {fasta_7g8_contigs} \\\n",
    "    --gfextend \\\n",
    "    --chain \\\n",
    "    --gapped \\\n",
    "    --output={output_3d7_7g8_dir}/3d7_7g8.sam \\\n",
    "    --format=sam \\\n",
    "    --rdotplot={output_3d7_7g8_dir}/3d7_7g8.rdotplot \\\n",
    "    --progress=100 \\\n",
    "    > {output_3d7_7g8_dir}/3d7_7g8.log 2>&1 &)"
   ]
  },
  {
   "cell_type": "markdown",
   "metadata": {},
   "source": [
    "## bwasw"
   ]
  },
  {
   "cell_type": "code",
   "execution_count": 20,
   "metadata": {
    "collapsed": true
   },
   "outputs": [],
   "source": [
    "bwa = '/data/plasmodium/pfalciparum/pf-crosses/opt/bwa-0.7.12/bwa'"
   ]
  },
  {
   "cell_type": "code",
   "execution_count": 21,
   "metadata": {
    "collapsed": false
   },
   "outputs": [
    {
     "name": "stdout",
     "output_type": "stream",
     "text": [
      "\r\n",
      "Program: bwa (alignment via Burrows-Wheeler transformation)\r\n",
      "Version: 0.7.12-r1039\r\n",
      "Contact: Heng Li <lh3@sanger.ac.uk>\r\n",
      "\r\n",
      "Usage:   bwa <command> [options]\r\n",
      "\r\n",
      "Command: index         index sequences in the FASTA format\r\n",
      "         mem           BWA-MEM algorithm\r\n",
      "         fastmap       identify super-maximal exact matches\r\n",
      "         pemerge       merge overlapping paired ends (EXPERIMENTAL)\r\n",
      "         aln           gapped/ungapped alignment\r\n",
      "         samse         generate alignment (single ended)\r\n",
      "         sampe         generate alignment (paired ended)\r\n",
      "         bwasw         BWA-SW for long queries\r\n",
      "\r\n",
      "         shm           manage indices in shared memory\r\n",
      "         fa2pac        convert FASTA to PAC format\r\n",
      "         pac2bwt       generate BWT from PAC\r\n",
      "         pac2bwtgen    alternative algorithm for generating BWT\r\n",
      "         bwtupdate     update .bwt to the new format\r\n",
      "         bwt2sa        generate SA from BWT and Occ\r\n",
      "\r\n",
      "Note: To use BWA, you need to first index the genome with `bwa index'.\r\n",
      "      There are three alignment algorithms in BWA: `mem', `bwasw', and\r\n",
      "      `aln/samse/sampe'. If you are not sure which to use, try `bwa mem'\r\n",
      "      first. Please `man ./bwa.1' for the manual.\r\n",
      "\r\n"
     ]
    }
   ],
   "source": [
    "!{bwa} "
   ]
  },
  {
   "cell_type": "code",
   "execution_count": 22,
   "metadata": {
    "collapsed": false
   },
   "outputs": [
    {
     "name": "stdout",
     "output_type": "stream",
     "text": [
      "\r\n",
      "Usage:   bwa bwasw [options] <target.prefix> <query.fa> [query2.fa]\r\n",
      "\r\n",
      "Options: -a INT   score for a match [1]\r\n",
      "         -b INT   mismatch penalty [3]\r\n",
      "         -q INT   gap open penalty [5]\r\n",
      "         -r INT   gap extension penalty [2]\r\n",
      "         -w INT   band width [50]\r\n",
      "         -m FLOAT mask level [0.50]\r\n",
      "\r\n",
      "         -t INT   number of threads [1]\r\n",
      "         -f FILE  file to output results to instead of stdout\r\n",
      "         -H       in SAM output, use hard clipping instead of soft clipping\r\n",
      "         -C       copy FASTA/Q comment to SAM output\r\n",
      "         -M       mark multi-part alignments as secondary\r\n",
      "         -S       skip Smith-Waterman read pairing\r\n",
      "         -I INT   ignore pairs with insert >=INT for inferring the size distr [20000]\r\n",
      "\r\n",
      "         -T INT   score threshold divided by a [30]\r\n",
      "         -c FLOAT coefficient of length-threshold adjustment [5.5]\r\n",
      "         -z INT   Z-best [1]\r\n",
      "         -s INT   maximum seeding interval size [3]\r\n",
      "         -N INT   # seeds to trigger rev aln; 2*INT is also the chaining threshold [5]\r\n",
      "         -G INT   maximum gap size during chaining [10000]\r\n",
      "\r\n",
      "Note: For long Illumina, 454 and Sanger reads, assembly contigs, fosmids and\r\n",
      "      BACs, the default setting usually works well. For the current PacBio\r\n",
      "      reads (end of 2010), '-b5 -q2 -r1 -z10' is recommended. One may also\r\n",
      "      increase '-z' for better sensitivity.\r\n",
      "\r\n"
     ]
    }
   ],
   "source": [
    "!{bwa} bwasw"
   ]
  },
  {
   "cell_type": "code",
   "execution_count": 23,
   "metadata": {
    "collapsed": true
   },
   "outputs": [],
   "source": [
    "bwasw_3d7_hb3_dir = os.path.join(assembly_dir, 'bwasw/3d7_hb3')\n",
    "if not os.path.exists(bwasw_3d7_hb3_dir):\n",
    "    os.makedirs(bwasw_3d7_hb3_dir)"
   ]
  },
  {
   "cell_type": "code",
   "execution_count": 31,
   "metadata": {
    "collapsed": true
   },
   "outputs": [],
   "source": [
    "bwasw_3d7_dd2_dir = os.path.join(assembly_dir, 'bwasw/3d7_dd2')\n",
    "if not os.path.exists(bwasw_3d7_dd2_dir):\n",
    "    os.makedirs(bwasw_3d7_dd2_dir)"
   ]
  },
  {
   "cell_type": "code",
   "execution_count": 32,
   "metadata": {
    "collapsed": true
   },
   "outputs": [],
   "source": [
    "bwasw_3d7_7g8_dir = os.path.join(assembly_dir, 'bwasw/3d7_7g8')\n",
    "if not os.path.exists(bwasw_3d7_7g8_dir):\n",
    "    os.makedirs(bwasw_3d7_7g8_dir)"
   ]
  },
  {
   "cell_type": "code",
   "execution_count": 25,
   "metadata": {
    "collapsed": false
   },
   "outputs": [
    {
     "name": "stdout",
     "output_type": "stream",
     "text": [
      "[bwa_index] Pack FASTA... 0.61 sec\n",
      "[bwa_index] Construct BWT for the packed sequence...\n",
      "[bwa_index] 18.72 seconds elapse.\n",
      "[bwa_index] Update BWT... 0.39 sec\n",
      "[bwa_index] Pack forward-only FASTA... 0.51 sec\n",
      "[bwa_index] Construct SA from BWT and Occ... 9.23 sec\n",
      "[main] Version: 0.7.12-r1039\n",
      "[main] CMD: /data/plasmodium/pfalciparum/pf-crosses/opt/bwa-0.7.12/bwa index /data/plasmodium/pfalciparum/pf-crosses/data/genome/sanger/version3/September_2012/Pf3D7_v3.lookseq.fa\n",
      "[main] Real time: 30.082 sec; CPU: 29.473 sec\n"
     ]
    }
   ],
   "source": [
    "!{bwa} index {fasta_3d7_v3}"
   ]
  },
  {
   "cell_type": "code",
   "execution_count": 26,
   "metadata": {
    "collapsed": false
   },
   "outputs": [
    {
     "name": "stdout",
     "output_type": "stream",
     "text": [
      "[bwa_index] Pack FASTA... 0.71 sec\n",
      "[bwa_index] Construct BWT for the packed sequence...\n",
      "[bwa_index] 16.28 seconds elapse.\n",
      "[bwa_index] Update BWT... 0.58 sec\n",
      "[bwa_index] Pack forward-only FASTA... 0.38 sec\n",
      "[bwa_index] Construct SA from BWT and Occ... 9.57 sec\n",
      "[main] Version: 0.7.12-r1039\n",
      "[main] CMD: /data/plasmodium/pfalciparum/pf-crosses/opt/bwa-0.7.12/bwa index /data/plasmodium/pfalciparum/pf-crosses/data/reference/birren_2006/plasmodium_falciparum__isolate_hb3__1_contigs.fasta\n",
      "[main] Real time: 28.087 sec; CPU: 27.527 sec\n"
     ]
    }
   ],
   "source": [
    "!{bwa} index {fasta_hb3_contigs}"
   ]
  },
  {
   "cell_type": "code",
   "execution_count": 27,
   "metadata": {
    "collapsed": false
   },
   "outputs": [
    {
     "name": "stdout",
     "output_type": "stream",
     "text": [
      "[bwa_index] Pack FASTA... 0.60 sec\n",
      "[bwa_index] Construct BWT for the packed sequence...\n",
      "[bwa_index] 13.40 seconds elapse.\n",
      "[bwa_index] Update BWT... 0.26 sec\n",
      "[bwa_index] Pack forward-only FASTA... 0.43 sec\n",
      "[bwa_index] Construct SA from BWT and Occ... 6.74 sec\n",
      "[main] Version: 0.7.12-r1039\n",
      "[main] CMD: /data/plasmodium/pfalciparum/pf-crosses/opt/bwa-0.7.12/bwa index /data/plasmodium/pfalciparum/pf-crosses/data/reference/birren_2006/plasmodium_falciparum__isolate_dd2__1_contigs.fasta\n",
      "[main] Real time: 22.175 sec; CPU: 21.442 sec\n"
     ]
    }
   ],
   "source": [
    "!{bwa} index {fasta_dd2_contigs}"
   ]
  },
  {
   "cell_type": "code",
   "execution_count": 28,
   "metadata": {
    "collapsed": false
   },
   "outputs": [
    {
     "name": "stdout",
     "output_type": "stream",
     "text": [
      "[bwa_index] Pack FASTA... 0.57 sec\n",
      "[bwa_index] Construct BWT for the packed sequence...\n",
      "[bwa_index] 9.59 seconds elapse.\n",
      "[bwa_index] Update BWT... 0.36 sec\n",
      "[bwa_index] Pack forward-only FASTA... 0.19 sec\n",
      "[bwa_index] Construct SA from BWT and Occ... 4.39 sec\n",
      "[main] Version: 0.7.12-r1039\n",
      "[main] CMD: /data/plasmodium/pfalciparum/pf-crosses/opt/bwa-0.7.12/bwa index /data/plasmodium/pfalciparum/pf-crosses/data/reference/birren_2006/plasmodium_falciparum__isolate_7g8__1_contigs.fasta\n",
      "[main] Real time: 15.532 sec; CPU: 15.106 sec\n"
     ]
    }
   ],
   "source": [
    "!{bwa} index {fasta_7g8_contigs}"
   ]
  },
  {
   "cell_type": "code",
   "execution_count": 30,
   "metadata": {
    "collapsed": false
   },
   "outputs": [],
   "source": [
    "!({bwa} bwasw \\\n",
    "    -f {bwasw_3d7_hb3_dir}/3d7_hb3.sam \\\n",
    "    -t4 \\\n",
    "    -M \\\n",
    "    {fasta_3d7_v3} {fasta_hb3_contigs} \\\n",
    "    > {bwasw_3d7_hb3_dir}/3d7_hb3.log 2>&1 &)"
   ]
  },
  {
   "cell_type": "code",
   "execution_count": 33,
   "metadata": {
    "collapsed": true
   },
   "outputs": [],
   "source": [
    "!({bwa} bwasw \\\n",
    "    -f {bwasw_3d7_dd2_dir}/3d7_dd2.sam \\\n",
    "    -t4 \\\n",
    "    -M \\\n",
    "    {fasta_3d7_v3} {fasta_dd2_contigs} \\\n",
    "    > {bwasw_3d7_dd2_dir}/3d7_dd2.log 2>&1 &)"
   ]
  },
  {
   "cell_type": "code",
   "execution_count": 34,
   "metadata": {
    "collapsed": true
   },
   "outputs": [],
   "source": [
    "!({bwa} bwasw \\\n",
    "    -f {bwasw_3d7_7g8_dir}/3d7_7g8.sam \\\n",
    "    -t4 \\\n",
    "    -M \\\n",
    "    {fasta_3d7_v3} {fasta_7g8_contigs} \\\n",
    "    > {bwasw_3d7_7g8_dir}/3d7_7g8.log 2>&1 &)"
   ]
  },
  {
   "cell_type": "markdown",
   "metadata": {},
   "source": [
    "## bwa mem"
   ]
  },
  {
   "cell_type": "code",
   "execution_count": 35,
   "metadata": {
    "collapsed": false
   },
   "outputs": [
    {
     "name": "stdout",
     "output_type": "stream",
     "text": [
      "\r\n",
      "Usage: bwa mem [options] <idxbase> <in1.fq> [in2.fq]\r\n",
      "\r\n",
      "Algorithm options:\r\n",
      "\r\n",
      "       -t INT        number of threads [1]\r\n",
      "       -k INT        minimum seed length [19]\r\n",
      "       -w INT        band width for banded alignment [100]\r\n",
      "       -d INT        off-diagonal X-dropoff [100]\r\n",
      "       -r FLOAT      look for internal seeds inside a seed longer than {-k} * FLOAT [1.5]\r\n",
      "       -y INT        seed occurrence for the 3rd round seeding [20]\r\n",
      "       -c INT        skip seeds with more than INT occurrences [500]\r\n",
      "       -D FLOAT      drop chains shorter than FLOAT fraction of the longest overlapping chain [0.50]\r\n",
      "       -W INT        discard a chain if seeded bases shorter than INT [0]\r\n",
      "       -m INT        perform at most INT rounds of mate rescues for each read [50]\r\n",
      "       -S            skip mate rescue\r\n",
      "       -P            skip pairing; mate rescue performed unless -S also in use\r\n",
      "       -e            discard full-length exact matches\r\n",
      "\r\n",
      "Scoring options:\r\n",
      "\r\n",
      "       -A INT        score for a sequence match, which scales options -TdBOELU unless overridden [1]\r\n",
      "       -B INT        penalty for a mismatch [4]\r\n",
      "       -O INT[,INT]  gap open penalties for deletions and insertions [6,6]\r\n",
      "       -E INT[,INT]  gap extension penalty; a gap of size k cost '{-O} + {-E}*k' [1,1]\r\n",
      "       -L INT[,INT]  penalty for 5'- and 3'-end clipping [5,5]\r\n",
      "       -U INT        penalty for an unpaired read pair [17]\r\n",
      "\r\n",
      "       -x STR        read type. Setting -x changes multiple parameters unless overriden [null]\r\n",
      "                     pacbio: -k17 -W40 -r10 -A1 -B1 -O1 -E1 -L0  (PacBio reads to ref)\r\n",
      "                     ont2d: -k14 -W20 -r10 -A1 -B1 -O1 -E1 -L0  (Oxford Nanopore 2D-reads to ref)\r\n",
      "                     intractg: -B9 -O16 -L5  (intra-species contigs to ref)\r\n",
      "\r\n",
      "Input/output options:\r\n",
      "\r\n",
      "       -p            smart pairing (ignoring in2.fq)\r\n",
      "       -R STR        read group header line such as '@RG\\tID:foo\\tSM:bar' [null]\r\n",
      "       -H STR/FILE   insert STR to header if it starts with @; or insert lines in FILE [null]\r\n",
      "       -j            treat ALT contigs as part of the primary assembly (i.e. ignore <idxbase>.alt file)\r\n",
      "\r\n",
      "       -v INT        verbose level: 1=error, 2=warning, 3=message, 4+=debugging [3]\r\n",
      "       -T INT        minimum score to output [30]\r\n",
      "       -h INT[,INT]  if there are <INT hits with score >80% of the max score, output all in XA [5,200]\r\n",
      "       -a            output all alignments for SE or unpaired PE\r\n",
      "       -C            append FASTA/FASTQ comment to SAM output\r\n",
      "       -V            output the reference FASTA header in the XR tag\r\n",
      "       -Y            use soft clipping for supplementary alignments\r\n",
      "       -M            mark shorter split hits as secondary\r\n",
      "\r\n",
      "       -I FLOAT[,FLOAT[,INT[,INT]]]\r\n",
      "                     specify the mean, standard deviation (10% of the mean if absent), max\r\n",
      "                     (4 sigma from the mean if absent) and min of the insert size distribution.\r\n",
      "                     FR orientation only. [inferred]\r\n",
      "\r\n",
      "Note: Please read the man page for detailed description of the command line and options.\r\n",
      "\r\n"
     ]
    }
   ],
   "source": [
    "!{bwa} mem"
   ]
  },
  {
   "cell_type": "code",
   "execution_count": 36,
   "metadata": {
    "collapsed": true
   },
   "outputs": [],
   "source": [
    "bwamem_3d7_hb3_dir = os.path.join(assembly_dir, 'bwamem/3d7_hb3')\n",
    "if not os.path.exists(bwamem_3d7_hb3_dir):\n",
    "    os.makedirs(bwamem_3d7_hb3_dir)"
   ]
  },
  {
   "cell_type": "code",
   "execution_count": 37,
   "metadata": {
    "collapsed": true
   },
   "outputs": [],
   "source": [
    "bwamem_3d7_dd2_dir = os.path.join(assembly_dir, 'bwamem/3d7_dd2')\n",
    "if not os.path.exists(bwamem_3d7_dd2_dir):\n",
    "    os.makedirs(bwamem_3d7_dd2_dir)"
   ]
  },
  {
   "cell_type": "code",
   "execution_count": 38,
   "metadata": {
    "collapsed": true
   },
   "outputs": [],
   "source": [
    "bwamem_3d7_7g8_dir = os.path.join(assembly_dir, 'bwamem/3d7_7g8')\n",
    "if not os.path.exists(bwamem_3d7_7g8_dir):\n",
    "    os.makedirs(bwamem_3d7_7g8_dir)"
   ]
  },
  {
   "cell_type": "code",
   "execution_count": 39,
   "metadata": {
    "collapsed": true
   },
   "outputs": [],
   "source": [
    "!({bwa} mem \\\n",
    "    -M  \\\n",
    "    {fasta_3d7_v3} {fasta_hb3_contigs} \\\n",
    "    1> {bwamem_3d7_hb3_dir}/3d7_hb3.sam \\\n",
    "    2> {bwamem_3d7_hb3_dir}/3d7_hb3.log &)"
   ]
  },
  {
   "cell_type": "code",
   "execution_count": 40,
   "metadata": {
    "collapsed": true
   },
   "outputs": [],
   "source": [
    "!({bwa} mem \\\n",
    "    -M  \\\n",
    "    {fasta_3d7_v3} {fasta_dd2_contigs} \\\n",
    "    1> {bwamem_3d7_dd2_dir}/3d7_dd2.sam \\\n",
    "    2> {bwamem_3d7_dd2_dir}/3d7_dd2.log &)"
   ]
  },
  {
   "cell_type": "code",
   "execution_count": 41,
   "metadata": {
    "collapsed": true
   },
   "outputs": [],
   "source": [
    "!({bwa} mem \\\n",
    "    -M  \\\n",
    "    {fasta_3d7_v3} {fasta_7g8_contigs} \\\n",
    "    1> {bwamem_3d7_7g8_dir}/3d7_7g8.sam \\\n",
    "    2> {bwamem_3d7_7g8_dir}/3d7_7g8.log &)"
   ]
  },
  {
   "cell_type": "code",
   "execution_count": null,
   "metadata": {
    "collapsed": true
   },
   "outputs": [],
   "source": []
  }
 ],
 "metadata": {
  "kernelspec": {
   "display_name": "Python 3",
   "language": "python",
   "name": "python3"
  },
  "language_info": {
   "codemirror_mode": {
    "name": "ipython",
    "version": 3
   },
   "file_extension": ".py",
   "mimetype": "text/x-python",
   "name": "python",
   "nbconvert_exporter": "python",
   "pygments_lexer": "ipython3",
   "version": "3.4.2"
  }
 },
 "nbformat": 4,
 "nbformat_minor": 0
}
