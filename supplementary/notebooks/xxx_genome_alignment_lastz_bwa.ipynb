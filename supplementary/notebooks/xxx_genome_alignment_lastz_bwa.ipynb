{
 "cells": [
  {
   "cell_type": "code",
   "execution_count": 42,
   "metadata": {
    "collapsed": false
   },
   "outputs": [
    {
     "name": "stdout",
     "output_type": "stream",
     "text": [
      "The Cython magic has been move to the Cython package, hence \n",
      "`%load_ext cythonmagic` is deprecated; Please use `%load_ext Cython` instead.\n",
      "\n",
      "Though, because I am nice, I'll still try to load it for you this time.\n"
     ]
    }
   ],
   "source": [
    "%run ../../shared_setup.ipynb"
   ]
  },
  {
   "cell_type": "code",
   "execution_count": 43,
   "metadata": {
    "collapsed": true
   },
   "outputs": [],
   "source": [
    "assembly_dir = '/data/plasmodium/pfalciparum/pf-crosses/data/reference/birren_2006'"
   ]
  },
  {
   "cell_type": "code",
   "execution_count": 44,
   "metadata": {
    "collapsed": false
   },
   "outputs": [
    {
     "name": "stdout",
     "output_type": "stream",
     "text": [
      "total 220M\r\n",
      "drwxrwsr-x 5 aliman malariagen    5 Apr  8 16:44 bwamem\r\n",
      "drwxrwsr-x 5 aliman malariagen    5 Apr  8 16:35 bwasw\r\n",
      "drwxrwsr-x 5 aliman malariagen    5 Apr  8 16:00 lastz\r\n",
      "drwxrwsr-x 5 aliman malariagen    5 Apr  8 11:28 mummer\r\n",
      "-rw-rw-r-- 1 aliman malariagen  14M Apr  7 11:45 plasmodium_falciparum__isolate_7g8__1_contigs.fasta\r\n",
      "-rw-rw-r-- 1 aliman malariagen   16 Apr  8 16:32 plasmodium_falciparum__isolate_7g8__1_contigs.fasta.amb\r\n",
      "-rw-rw-r-- 1 aliman malariagen 1.1M Apr  8 16:32 plasmodium_falciparum__isolate_7g8__1_contigs.fasta.ann\r\n",
      "-rw-rw-r-- 1 aliman malariagen  13M Apr  8 16:32 plasmodium_falciparum__isolate_7g8__1_contigs.fasta.bwt\r\n",
      "-rw-rw-r-- 1 aliman malariagen  13M Apr  8 11:31 plasmodium_falciparum__isolate_7g8__1_contigs.fasta.flat\r\n",
      "-rw-rw-r-- 1 aliman malariagen 234K Apr  8 11:31 plasmodium_falciparum__isolate_7g8__1_contigs.fasta.gdx\r\n",
      "-rw-rw-r-- 1 aliman malariagen 3.2M Apr  8 16:32 plasmodium_falciparum__isolate_7g8__1_contigs.fasta.pac\r\n",
      "-rw-rw-r-- 1 aliman malariagen 6.4M Apr  8 16:32 plasmodium_falciparum__isolate_7g8__1_contigs.fasta.sa\r\n",
      "-rw-rw-r-- 1 aliman malariagen  15M Apr  7 11:45 plasmodium_falciparum__isolate_7g8__1_supercontigs.fasta\r\n",
      "-rw-rw-r-- 1 aliman malariagen  14M Apr  8 11:31 plasmodium_falciparum__isolate_7g8__1_supercontigs.fasta.flat\r\n",
      "-rw-rw-r-- 1 aliman malariagen 156K Apr  8 11:31 plasmodium_falciparum__isolate_7g8__1_supercontigs.fasta.gdx\r\n",
      "-rw-rw-r-- 1 aliman malariagen  20M Apr  7 11:45 plasmodium_falciparum__isolate_dd2__1_contigs.fasta\r\n",
      "-rw-rw-r-- 1 aliman malariagen   16 Apr  8 16:32 plasmodium_falciparum__isolate_dd2__1_contigs.fasta.amb\r\n",
      "-rw-rw-r-- 1 aliman malariagen 581K Apr  8 16:32 plasmodium_falciparum__isolate_dd2__1_contigs.fasta.ann\r\n",
      "-rw-rw-r-- 1 aliman malariagen  19M Apr  8 16:32 plasmodium_falciparum__isolate_dd2__1_contigs.fasta.bwt\r\n",
      "-rw-rw-r-- 1 aliman malariagen  19M Apr  8 11:30 plasmodium_falciparum__isolate_dd2__1_contigs.fasta.flat\r\n",
      "-rw-rw-r-- 1 aliman malariagen 119K Apr  8 11:30 plasmodium_falciparum__isolate_dd2__1_contigs.fasta.gdx\r\n",
      "-rw-rw-r-- 1 aliman malariagen 4.7M Apr  8 16:32 plasmodium_falciparum__isolate_dd2__1_contigs.fasta.pac\r\n",
      "-rw-rw-r-- 1 aliman malariagen 9.3M Apr  8 16:32 plasmodium_falciparum__isolate_dd2__1_contigs.fasta.sa\r\n",
      "-rw-rw-r-- 1 aliman malariagen  21M Apr  7 11:45 plasmodium_falciparum__isolate_dd2__1_supercontigs.fasta\r\n",
      "-rw-rw-r-- 1 aliman malariagen  20M Apr  8 11:30 plasmodium_falciparum__isolate_dd2__1_supercontigs.fasta.flat\r\n",
      "-rw-rw-r-- 1 aliman malariagen  91K Apr  8 11:30 plasmodium_falciparum__isolate_dd2__1_supercontigs.fasta.gdx\r\n",
      "-rw-rw-r-- 1 aliman malariagen  24M Apr  7 11:45 plasmodium_falciparum__isolate_hb3__1_contigs.fasta\r\n",
      "-rw-rw-r-- 1 aliman malariagen   16 Apr  8 16:31 plasmodium_falciparum__isolate_hb3__1_contigs.fasta.amb\r\n",
      "-rw-rw-r-- 1 aliman malariagen 386K Apr  8 16:31 plasmodium_falciparum__isolate_hb3__1_contigs.fasta.ann\r\n",
      "-rw-rw-r-- 1 aliman malariagen  23M Apr  8 16:31 plasmodium_falciparum__isolate_hb3__1_contigs.fasta.bwt\r\n",
      "-rw-rw-r-- 1 aliman malariagen  23M Apr  7 18:01 plasmodium_falciparum__isolate_hb3__1_contigs.fasta.flat\r\n",
      "-rw-rw-r-- 1 aliman malariagen  79K Apr  7 18:01 plasmodium_falciparum__isolate_hb3__1_contigs.fasta.gdx\r\n",
      "-rw-rw-r-- 1 aliman malariagen 5.6M Apr  8 16:31 plasmodium_falciparum__isolate_hb3__1_contigs.fasta.pac\r\n",
      "-rw-rw-r-- 1 aliman malariagen  12M Apr  8 16:31 plasmodium_falciparum__isolate_hb3__1_contigs.fasta.sa\r\n",
      "-rw-rw-r-- 1 aliman malariagen  24M Apr  7 11:45 plasmodium_falciparum__isolate_hb3__1_supercontigs.fasta\r\n",
      "-rw-rw-r-- 1 aliman malariagen  24M Apr  7 18:02 plasmodium_falciparum__isolate_hb3__1_supercontigs.fasta.flat\r\n",
      "-rw-rw-r-- 1 aliman malariagen  38K Apr  7 18:02 plasmodium_falciparum__isolate_hb3__1_supercontigs.fasta.gdx\r\n"
     ]
    }
   ],
   "source": [
    "!ls -lh {assembly_dir}"
   ]
  },
  {
   "cell_type": "code",
   "execution_count": 45,
   "metadata": {
    "collapsed": true
   },
   "outputs": [],
   "source": [
    "fasta_hb3_contigs = os.path.join(assembly_dir, 'plasmodium_falciparum__isolate_hb3__1_contigs.fasta')\n",
    "fasta_hb3_supercontigs = os.path.join(assembly_dir, 'plasmodium_falciparum__isolate_hb3__1_supercontigs.fasta')\n",
    "fasta_dd2_contigs = os.path.join(assembly_dir, 'plasmodium_falciparum__isolate_dd2__1_contigs.fasta')\n",
    "fasta_dd2_supercontigs = os.path.join(assembly_dir, 'plasmodium_falciparum__isolate_dd2__1_supercontigs.fasta')\n",
    "fasta_7g8_contigs = os.path.join(assembly_dir, 'plasmodium_falciparum__isolate_7g8__1_contigs.fasta')\n",
    "fasta_7g8_supercontigs = os.path.join(assembly_dir, 'plasmodium_falciparum__isolate_7g8__1_supercontigs.fasta')"
   ]
  },
  {
   "cell_type": "code",
   "execution_count": 46,
   "metadata": {
    "collapsed": false
   },
   "outputs": [],
   "source": [
    "fasta_3d7_v3 = '/data/plasmodium/pfalciparum/pf-crosses/data/genome/sanger/version3/September_2012/Pf3D7_v3.lookseq.fa'"
   ]
  },
  {
   "cell_type": "markdown",
   "metadata": {},
   "source": [
    "## lastz"
   ]
  },
  {
   "cell_type": "code",
   "execution_count": 48,
   "metadata": {
    "collapsed": false,
    "scrolled": false
   },
   "outputs": [
    {
     "name": "stdout",
     "output_type": "stream",
     "text": [
      "  target[[start..end]]   spec/file containing target sequence (fasta, nib, 2bit\r\n",
      "                         or hsx);  [start..end] defines a subrange of the file\r\n",
      "                         (use --help=files for more details)\r\n",
      "  query[[start..end]]    spec/file containing query sequences;  if absent,\r\n",
      "                         queries come from stdin (if needed)\r\n",
      "  --self                 the target sequence is also the query\r\n",
      "  --seed=match<length>   use a word with no gaps instead of a seed pattern\r\n",
      "  --seed=half<length>    use space-free half-weight word instead of seed pattern\r\n",
      "  --[no]transition[=2]   allow one or two transitions in a seed hit\r\n",
      "                         (by default a transition is allowed)\r\n",
      "  --word=<bits>          set max bits for word hash;  use this to trade time for\r\n",
      "                         memory, eliminating thrashing for heavy seeds\r\n",
      "                         (default is 28 bits)\r\n",
      "  --filter=<T>,<M>       filter seed hits, requiring at least M matches and\r\n",
      "                         allowing no more than T transversions\r\n",
      "                         (default is no filtering)\r\n",
      "  --notwins              require just one seed hit\r\n",
      "  --twins=<min>..<maxgap> require two nearby seed hits on the same diagonal\r\n",
      "                         (default is twins aren't required)\r\n",
      "  --seedqueue=<entries>  set number of entries in seed hit queue\r\n",
      "                         (default is 262144)\r\n",
      "  --segments=<file>      read anchor segments from a file, instead of\r\n",
      "                         discovering anchors via seeding\r\n",
      "  --norecoverseeds       don't recover hash-collision seed hits\r\n",
      "  --recoverseeds         recover hash-collision seed hits\r\n",
      "                         (default is not to recover seed hits)\r\n",
      "  --step=<length>        set step length (default is 1)\r\n",
      "  --strand=both          search both strands\r\n",
      "  --strand=plus          search + strand only (matching strand of query spec)\r\n",
      "  --strand=minus         search - strand only (opposite strand of query spec)\r\n",
      "                         (by default both strands are searched)\r\n",
      "  --ambiguous=n          treat N as an ambiguous nucleotide\r\n",
      "                         (by default N is treated as a sequence splicing\r\n",
      "                          character)\r\n",
      "  --ambiguous=iupac      treat any ambiguous IUPAC-IUB character as a\r\n",
      "                         completely ambiguous nucleotide\r\n",
      "                         (by default any sequence file with B,D,H,K,M,R,S,V,W,Y\r\n",
      "                          is rejected)\r\n",
      "  --[no]gfextend         perform gap-free extension of seed hits to HSPs\r\n",
      "                         (by default extension is performed)\r\n",
      "  --[no]chain            perform chaining\r\n",
      "  --chain=<diag,anti>    perform chaining with given penalties for diagonal and\r\n",
      "                         anti-diagonal\r\n",
      "                         (by default no chaining is performed)\r\n",
      "  --[no]gapped           perform gapped alignment (instead of gap-free)\r\n",
      "                         (by default gapped alignment is performed)\r\n",
      "  --notrivial            do not output a trivial self-alignment block if the\r\n",
      "                         target and query happen to be identical\r\n",
      "  --scores=<file>        read substitution scores from a file\r\n",
      "                         (default is HOXD70)\r\n",
      "  --match=<R>,<P>        scores are +R/-P for match/mismatch\r\n",
      "  --gap=<open,extend>    set gap open and extend penalties (default is 400,30)\r\n",
      "  --xdrop=<score>        set x-drop threshold (default is 10*sub[A][A])\r\n",
      "  --ydrop=<score>        set y-drop threshold (default is open+300extend)\r\n",
      "  --noxtrim              if x-drop extension encounters end of sequence, don't\r\n",
      "                         trim back to peak score (use this for short reads)\r\n",
      "  --noytrim              if y-drop extension encounters end of sequence, don't\r\n",
      "                         trim back to peak score (use this for short reads)\r\n",
      "  --infer=<control>      infer scores from the sequences, then use them\r\n",
      "  --inferonly=<control>  infer scores but don't use them (requires --infscores)\r\n",
      "                         all inference options are read from the control file\r\n",
      "  --infscores[=<file>]   write inferred scores to a file\r\n",
      "  --hspthresh=<score>    set threshold for high scoring pairs (default is 3000)\r\n",
      "                         ungapped extensions scoring lower are discarded\r\n",
      "                         <score> can also be a percentage or base count\r\n",
      "  --exact=<length>       set threshold for exact matches\r\n",
      "                         if specified, exact matches are found rather than high\r\n",
      "                         scoring pairs (replaces --hspthresh)\r\n",
      "  --mismatch=<N>,<length> set threshold for mismatches\r\n",
      "                         if specified, N-mismatch segments are found rather\r\n",
      "                         than high scoring pairs (replaces --hspthresh)\r\n",
      "  --inner=<score>        set threshold for HSPs during interpolation\r\n",
      "                         (default is no interpolation)\r\n",
      "  --gappedthresh=<score> set threshold for gapped alignments\r\n",
      "                         gapped extensions scoring lower are discarded\r\n",
      "                         <score> can also be a percentage or base count\r\n",
      "                         (default is to use same value as --hspthresh)\r\n",
      "  --ball=<score>[%]      set minimum score required of words 'in' a quantum ball\r\n",
      "  --[no]entropy          involve entropy in filtering high scoring pairs\r\n",
      "                         (default is \"entropy\")\r\n",
      "  --nomirror             don't report mirror-image alignments when using --self\r\n",
      "                         (default is to skip processing them, but recreate them\r\n",
      "                         in the output)\r\n",
      "  --traceback=<bytes>    space for trace-back information\r\n",
      "                         (default is 80.0M)\r\n",
      "  --maxwordcount=<limit>[%] limit seed word-repeats in target\r\n",
      "                         words occurring too often are not used in seed hits\r\n",
      "                         (default is no word-repeat limit)\r\n",
      "  --masking=<count>      mask any position in target hit this many times\r\n",
      "                         zero indicates no masking\r\n",
      "                         (default is no masking)\r\n",
      "  --[no]census[=<file>]  count/report how many times each target base aligns\r\n",
      "                         (default is to not report census)\r\n",
      "  --identity=<min>[..<max>] filter alignments by percent identity\r\n",
      "                         0<=min<=max<=100;  blocks (or HSPs) outside min..max\r\n",
      "                         are discarded\r\n",
      "                         (default is no identity filtering)\r\n",
      "  --coverage=<min>[..<max>] filter alignments by percentage of query covered\r\n",
      "                         0<=min<=max<=100;  blocks (or HSPs) outside min..max\r\n",
      "                         are discarded\r\n",
      "                         (default is no query coverage filtering)\r\n",
      "  --continuity=<min>[..<max>] filter alignments by percent continuity\r\n",
      "                         0<=min<=max<=100;  blocks (or HSPs) outside min..max\r\n",
      "                         are discarded\r\n",
      "                         (default is no continuity filtering)\r\n",
      "  --matchcount=<min> filter alignments by match-count\r\n",
      "                         0<min;  blocks (or HSPs) with fewer than min matched\r\n",
      "                         bases are discarded\r\n",
      "                         (default is no match-count filtering)\r\n",
      "  --output=<file>        specify output alignment file;  otherwise alignments\r\n",
      "                         are written to stdout\r\n",
      "  --format=<type>        specify output format; one of lav, axt, maf, cigar,\r\n",
      "                         rdotplot, text or general\r\n",
      "                         (use --help=formats for more details)\r\n",
      "                         (by default output is LAV)\r\n",
      "  --markend              Write a comment at the end of the output file\r\n",
      "  --rdotplot=<file>      create an output file suitable for plotting in R.\r\n",
      "  --verbosity=<level>    set info level (0 is minimum, 10 is everything)\r\n",
      "                         (default is 0)\r\n",
      "  --[no]runtime          report runtime in the output file\r\n",
      "                         (default is to not report runtime)\r\n",
      "  --tableonly[=count]    just produce the target position table, don't\r\n",
      "                         search for seeds\r\n",
      "  --writesegments=<file> just produce the anchor segments table, don't\r\n",
      "                         perform gapped alignment\r\n",
      "  --writecapsule=<file>  write the target and seed word table to a file\r\n",
      "  --targetcapsule=<file> read the target seed word table from a file\r\n",
      "                         (this replaces the target specifier)\r\n",
      "  --progress=<n>         report processing of every nth query\r\n",
      "  --version              report the program version and quit\r\n",
      "  --help                 list all options\r\n",
      "  --help=files           list information about file specifiers\r\n",
      "  --help=formats         list information about output file formats\r\n",
      "  --help=shortcuts       list blastz-compatible shortcuts\r\n",
      "  --help=yasra           list yasra-specific shortcuts\r\n"
     ]
    }
   ],
   "source": [
    "!lastz --help"
   ]
  },
  {
   "cell_type": "code",
   "execution_count": 49,
   "metadata": {
    "collapsed": false
   },
   "outputs": [
    {
     "name": "stdout",
     "output_type": "stream",
     "text": [
      "usage: lastz target [query] [options]\r\n",
      "\r\n",
      "target is required unless replaced by the --targetcapsule option.\r\n",
      "\r\n",
      "query is not required;  it can be replaced by --self or in some cases (e.g.\r\n",
      "with --tableonly or --writecapsule) no query sequence is needed.  If a query\r\n",
      "sequence is needed and the query field is absent, the sequence is read from\r\n",
      "stdin.\r\n",
      "\r\n",
      "The general form of both target and query specifiers is\r\n",
      "    [nickname::]filename[/selectname][[actions]][-]\r\n",
      "\r\n",
      "The filename field is required; all other fields are optional.\r\n",
      "\r\n",
      "Fields:\r\n",
      "  nickname            name to use for this sequence in any output files\r\n",
      "  filename            file (or path) to fasta, nib, 2bit or hsx file\r\n",
      "  selectname          read only a single sequence from the file\r\n",
      "                      (only valid for 2bit or hsx)\r\n",
      "  actions             list of pre-processing actions;  enclosed in square\r\n",
      "                      brackets and comma-separated;  see list of actions below\r\n",
      "  - (minus sign)      use reverse complement of the sequence\r\n",
      "                      (equivalent to the revcomp action listed below)\r\n",
      "\r\n",
      "Supported actions:\r\n",
      "  <subrange>          only process a subrange of the file (see below)\r\n",
      "  revcomp             reverse complement\r\n",
      "  multiple            file's sequences are internally treated as a single\r\n",
      "                      sequence\r\n",
      "  subset=<namesfile>  process only the sequences listed in namesfile\r\n",
      "                      (only valid for fasta, 2bit and hsx)\r\n",
      "  subsample=<k>/<n>   process only the kth sequence of every group of n\r\n",
      "                      sequences.  k ranges from 1 to n\r\n",
      "                      (only valid for fasta, 2bit and hsx)\r\n",
      "  unmask              convert any lowercase bases to uppercase\r\n",
      "  softmask=<file>     mask segments specified in <file>, replacing them with\r\n",
      "                      lowercase equivalents\r\n",
      "  softmask=keep:<file> mask bases NOT in segments specified in <file>, with Xs\r\n",
      "  xmask=<file>        mask segments specified in <file>, replacing them with Xs\r\n",
      "  xmask=keep:<file>   mask bases NOT in segments specified in <file>, with Xs\r\n",
      "  nmask=<file>        mask segments specified in <file>, replacing them with Ns\r\n",
      "  nmask=keep:<file>   mask bases NOT in segments specified in <file>, with Ns\r\n",
      "  nickname=<name>     name to use for this sequence in any output files\r\n",
      "  nameparse=full      report full names in alignments instead of short names\r\n",
      "  nameparse=alphanum  pull short name from sequence header, alphanumeric only\r\n",
      "  nameparse=darkspace pull short name from sequence header, non-whitespace only\r\n",
      "  nameparse=tag:<marker> pull a short name from sequence header, starting from\r\n",
      "                      marker (only valid for fasta)\r\n",
      "  quantum             the sequence contains quantum DNA\r\n",
      "  quantum=<codefile>  the sequence contains quantum DNA, and <codefile>\r\n",
      "                      describes the mapping from symbols to probabilities (only\r\n",
      "                      meaningful for --format=text)\r\n",
      "  format=<type>       override auto-format detect;  <type> is one of fasta,\r\n",
      "                      csfasta, nib, 2bit, hsx, qdna\r\n",
      "\r\n",
      "Subranges:\r\n",
      "  start,end           process from start thru end, inclusive\r\n",
      "  start..end          process from start thru end, inclusive\r\n",
      "  start..             process from given start thru the end of the sequence\r\n",
      "  ..end               process from the start of the sequence thru given end\r\n",
      "  start#length        same as start..start+length-1\r\n",
      "  center^length       same as center-length/2..center+length/2-1\r\n",
      "  (subrange indices begin with 1 and are inclusive)\r\n"
     ]
    }
   ],
   "source": [
    "!lastz --help=files"
   ]
  },
  {
   "cell_type": "code",
   "execution_count": 50,
   "metadata": {
    "collapsed": true
   },
   "outputs": [],
   "source": [
    "output_3d7_hb3_dir = os.path.join(assembly_dir, 'lastz/3d7_hb3')\n",
    "if not os.path.exists(output_3d7_hb3_dir):\n",
    "    os.makedirs(output_3d7_hb3_dir)"
   ]
  },
  {
   "cell_type": "code",
   "execution_count": 51,
   "metadata": {
    "collapsed": true
   },
   "outputs": [],
   "source": [
    "output_3d7_dd2_dir = os.path.join(assembly_dir, 'lastz/3d7_dd2')\n",
    "if not os.path.exists(output_3d7_dd2_dir):\n",
    "    os.makedirs(output_3d7_dd2_dir)"
   ]
  },
  {
   "cell_type": "code",
   "execution_count": 52,
   "metadata": {
    "collapsed": true
   },
   "outputs": [],
   "source": [
    "output_3d7_7g8_dir = os.path.join(assembly_dir, 'lastz/3d7_7g8')\n",
    "if not os.path.exists(output_3d7_7g8_dir):\n",
    "    os.makedirs(output_3d7_7g8_dir)"
   ]
  },
  {
   "cell_type": "code",
   "execution_count": 64,
   "metadata": {
    "collapsed": false
   },
   "outputs": [],
   "source": [
    "!(lastz {fasta_3d7_v3}[multiple] {fasta_hb3_contigs} \\\n",
    "    --gfextend \\\n",
    "    --nochain \\\n",
    "    --gapped \\\n",
    "    --anyornone --hspthresh=10000 --coverage=90 --identity=95 \\\n",
    "    --output={output_3d7_hb3_dir}/3d7_hb3.sam \\\n",
    "    --format=sam \\\n",
    "    --progress=1 \\\n",
    "    > {output_3d7_hb3_dir}/3d7_hb3.log 2>&1 &)"
   ]
  },
  {
   "cell_type": "code",
   "execution_count": 16,
   "metadata": {
    "collapsed": true
   },
   "outputs": [],
   "source": [
    "# !(lastz {fasta_3d7_v3}[multiple] {fasta_dd2_contigs} \\\n",
    "#     --gfextend \\\n",
    "#     --chain \\\n",
    "#     --gapped \\\n",
    "#     --output={output_3d7_dd2_dir}/3d7_dd2.sam \\\n",
    "#     --format=sam \\\n",
    "#     --rdotplot={output_3d7_dd2_dir}/3d7_dd2.rdotplot \\\n",
    "#     --progress=100 \\\n",
    "#     > {output_3d7_dd2_dir}/3d7_dd2.log 2>&1 &)"
   ]
  },
  {
   "cell_type": "code",
   "execution_count": 17,
   "metadata": {
    "collapsed": true
   },
   "outputs": [],
   "source": [
    "# !(lastz {fasta_3d7_v3}[multiple] {fasta_7g8_contigs} \\\n",
    "#     --gfextend \\\n",
    "#     --chain \\\n",
    "#     --gapped \\\n",
    "#     --output={output_3d7_7g8_dir}/3d7_7g8.sam \\\n",
    "#     --format=sam \\\n",
    "#     --rdotplot={output_3d7_7g8_dir}/3d7_7g8.rdotplot \\\n",
    "#     --progress=100 \\\n",
    "#     > {output_3d7_7g8_dir}/3d7_7g8.log 2>&1 &)"
   ]
  },
  {
   "cell_type": "markdown",
   "metadata": {},
   "source": [
    "## bwasw"
   ]
  },
  {
   "cell_type": "code",
   "execution_count": 20,
   "metadata": {
    "collapsed": true
   },
   "outputs": [],
   "source": [
    "bwa = '/data/plasmodium/pfalciparum/pf-crosses/opt/bwa-0.7.12/bwa'"
   ]
  },
  {
   "cell_type": "code",
   "execution_count": 21,
   "metadata": {
    "collapsed": false
   },
   "outputs": [
    {
     "name": "stdout",
     "output_type": "stream",
     "text": [
      "\r\n",
      "Program: bwa (alignment via Burrows-Wheeler transformation)\r\n",
      "Version: 0.7.12-r1039\r\n",
      "Contact: Heng Li <lh3@sanger.ac.uk>\r\n",
      "\r\n",
      "Usage:   bwa <command> [options]\r\n",
      "\r\n",
      "Command: index         index sequences in the FASTA format\r\n",
      "         mem           BWA-MEM algorithm\r\n",
      "         fastmap       identify super-maximal exact matches\r\n",
      "         pemerge       merge overlapping paired ends (EXPERIMENTAL)\r\n",
      "         aln           gapped/ungapped alignment\r\n",
      "         samse         generate alignment (single ended)\r\n",
      "         sampe         generate alignment (paired ended)\r\n",
      "         bwasw         BWA-SW for long queries\r\n",
      "\r\n",
      "         shm           manage indices in shared memory\r\n",
      "         fa2pac        convert FASTA to PAC format\r\n",
      "         pac2bwt       generate BWT from PAC\r\n",
      "         pac2bwtgen    alternative algorithm for generating BWT\r\n",
      "         bwtupdate     update .bwt to the new format\r\n",
      "         bwt2sa        generate SA from BWT and Occ\r\n",
      "\r\n",
      "Note: To use BWA, you need to first index the genome with `bwa index'.\r\n",
      "      There are three alignment algorithms in BWA: `mem', `bwasw', and\r\n",
      "      `aln/samse/sampe'. If you are not sure which to use, try `bwa mem'\r\n",
      "      first. Please `man ./bwa.1' for the manual.\r\n",
      "\r\n"
     ]
    }
   ],
   "source": [
    "!{bwa} "
   ]
  },
  {
   "cell_type": "code",
   "execution_count": 22,
   "metadata": {
    "collapsed": false
   },
   "outputs": [
    {
     "name": "stdout",
     "output_type": "stream",
     "text": [
      "\r\n",
      "Usage:   bwa bwasw [options] <target.prefix> <query.fa> [query2.fa]\r\n",
      "\r\n",
      "Options: -a INT   score for a match [1]\r\n",
      "         -b INT   mismatch penalty [3]\r\n",
      "         -q INT   gap open penalty [5]\r\n",
      "         -r INT   gap extension penalty [2]\r\n",
      "         -w INT   band width [50]\r\n",
      "         -m FLOAT mask level [0.50]\r\n",
      "\r\n",
      "         -t INT   number of threads [1]\r\n",
      "         -f FILE  file to output results to instead of stdout\r\n",
      "         -H       in SAM output, use hard clipping instead of soft clipping\r\n",
      "         -C       copy FASTA/Q comment to SAM output\r\n",
      "         -M       mark multi-part alignments as secondary\r\n",
      "         -S       skip Smith-Waterman read pairing\r\n",
      "         -I INT   ignore pairs with insert >=INT for inferring the size distr [20000]\r\n",
      "\r\n",
      "         -T INT   score threshold divided by a [30]\r\n",
      "         -c FLOAT coefficient of length-threshold adjustment [5.5]\r\n",
      "         -z INT   Z-best [1]\r\n",
      "         -s INT   maximum seeding interval size [3]\r\n",
      "         -N INT   # seeds to trigger rev aln; 2*INT is also the chaining threshold [5]\r\n",
      "         -G INT   maximum gap size during chaining [10000]\r\n",
      "\r\n",
      "Note: For long Illumina, 454 and Sanger reads, assembly contigs, fosmids and\r\n",
      "      BACs, the default setting usually works well. For the current PacBio\r\n",
      "      reads (end of 2010), '-b5 -q2 -r1 -z10' is recommended. One may also\r\n",
      "      increase '-z' for better sensitivity.\r\n",
      "\r\n"
     ]
    }
   ],
   "source": [
    "!{bwa} bwasw"
   ]
  },
  {
   "cell_type": "code",
   "execution_count": 23,
   "metadata": {
    "collapsed": true
   },
   "outputs": [],
   "source": [
    "bwasw_3d7_hb3_dir = os.path.join(assembly_dir, 'bwasw/3d7_hb3')\n",
    "if not os.path.exists(bwasw_3d7_hb3_dir):\n",
    "    os.makedirs(bwasw_3d7_hb3_dir)"
   ]
  },
  {
   "cell_type": "code",
   "execution_count": 31,
   "metadata": {
    "collapsed": true
   },
   "outputs": [],
   "source": [
    "bwasw_3d7_dd2_dir = os.path.join(assembly_dir, 'bwasw/3d7_dd2')\n",
    "if not os.path.exists(bwasw_3d7_dd2_dir):\n",
    "    os.makedirs(bwasw_3d7_dd2_dir)"
   ]
  },
  {
   "cell_type": "code",
   "execution_count": 32,
   "metadata": {
    "collapsed": true
   },
   "outputs": [],
   "source": [
    "bwasw_3d7_7g8_dir = os.path.join(assembly_dir, 'bwasw/3d7_7g8')\n",
    "if not os.path.exists(bwasw_3d7_7g8_dir):\n",
    "    os.makedirs(bwasw_3d7_7g8_dir)"
   ]
  },
  {
   "cell_type": "code",
   "execution_count": 25,
   "metadata": {
    "collapsed": false
   },
   "outputs": [
    {
     "name": "stdout",
     "output_type": "stream",
     "text": [
      "[bwa_index] Pack FASTA... 0.61 sec\n",
      "[bwa_index] Construct BWT for the packed sequence...\n",
      "[bwa_index] 18.72 seconds elapse.\n",
      "[bwa_index] Update BWT... 0.39 sec\n",
      "[bwa_index] Pack forward-only FASTA... 0.51 sec\n",
      "[bwa_index] Construct SA from BWT and Occ... 9.23 sec\n",
      "[main] Version: 0.7.12-r1039\n",
      "[main] CMD: /data/plasmodium/pfalciparum/pf-crosses/opt/bwa-0.7.12/bwa index /data/plasmodium/pfalciparum/pf-crosses/data/genome/sanger/version3/September_2012/Pf3D7_v3.lookseq.fa\n",
      "[main] Real time: 30.082 sec; CPU: 29.473 sec\n"
     ]
    }
   ],
   "source": [
    "!{bwa} index {fasta_3d7_v3}"
   ]
  },
  {
   "cell_type": "code",
   "execution_count": 26,
   "metadata": {
    "collapsed": false
   },
   "outputs": [
    {
     "name": "stdout",
     "output_type": "stream",
     "text": [
      "[bwa_index] Pack FASTA... 0.71 sec\n",
      "[bwa_index] Construct BWT for the packed sequence...\n",
      "[bwa_index] 16.28 seconds elapse.\n",
      "[bwa_index] Update BWT... 0.58 sec\n",
      "[bwa_index] Pack forward-only FASTA... 0.38 sec\n",
      "[bwa_index] Construct SA from BWT and Occ... 9.57 sec\n",
      "[main] Version: 0.7.12-r1039\n",
      "[main] CMD: /data/plasmodium/pfalciparum/pf-crosses/opt/bwa-0.7.12/bwa index /data/plasmodium/pfalciparum/pf-crosses/data/reference/birren_2006/plasmodium_falciparum__isolate_hb3__1_contigs.fasta\n",
      "[main] Real time: 28.087 sec; CPU: 27.527 sec\n"
     ]
    }
   ],
   "source": [
    "!{bwa} index {fasta_hb3_contigs}"
   ]
  },
  {
   "cell_type": "code",
   "execution_count": 27,
   "metadata": {
    "collapsed": false
   },
   "outputs": [
    {
     "name": "stdout",
     "output_type": "stream",
     "text": [
      "[bwa_index] Pack FASTA... 0.60 sec\n",
      "[bwa_index] Construct BWT for the packed sequence...\n",
      "[bwa_index] 13.40 seconds elapse.\n",
      "[bwa_index] Update BWT... 0.26 sec\n",
      "[bwa_index] Pack forward-only FASTA... 0.43 sec\n",
      "[bwa_index] Construct SA from BWT and Occ... 6.74 sec\n",
      "[main] Version: 0.7.12-r1039\n",
      "[main] CMD: /data/plasmodium/pfalciparum/pf-crosses/opt/bwa-0.7.12/bwa index /data/plasmodium/pfalciparum/pf-crosses/data/reference/birren_2006/plasmodium_falciparum__isolate_dd2__1_contigs.fasta\n",
      "[main] Real time: 22.175 sec; CPU: 21.442 sec\n"
     ]
    }
   ],
   "source": [
    "!{bwa} index {fasta_dd2_contigs}"
   ]
  },
  {
   "cell_type": "code",
   "execution_count": 28,
   "metadata": {
    "collapsed": false
   },
   "outputs": [
    {
     "name": "stdout",
     "output_type": "stream",
     "text": [
      "[bwa_index] Pack FASTA... 0.57 sec\n",
      "[bwa_index] Construct BWT for the packed sequence...\n",
      "[bwa_index] 9.59 seconds elapse.\n",
      "[bwa_index] Update BWT... 0.36 sec\n",
      "[bwa_index] Pack forward-only FASTA... 0.19 sec\n",
      "[bwa_index] Construct SA from BWT and Occ... 4.39 sec\n",
      "[main] Version: 0.7.12-r1039\n",
      "[main] CMD: /data/plasmodium/pfalciparum/pf-crosses/opt/bwa-0.7.12/bwa index /data/plasmodium/pfalciparum/pf-crosses/data/reference/birren_2006/plasmodium_falciparum__isolate_7g8__1_contigs.fasta\n",
      "[main] Real time: 15.532 sec; CPU: 15.106 sec\n"
     ]
    }
   ],
   "source": [
    "!{bwa} index {fasta_7g8_contigs}"
   ]
  },
  {
   "cell_type": "code",
   "execution_count": 30,
   "metadata": {
    "collapsed": false
   },
   "outputs": [],
   "source": [
    "!({bwa} bwasw \\\n",
    "    -f {bwasw_3d7_hb3_dir}/3d7_hb3.sam \\\n",
    "    -t4 \\\n",
    "    -M \\\n",
    "    {fasta_3d7_v3} {fasta_hb3_contigs} \\\n",
    "    > {bwasw_3d7_hb3_dir}/3d7_hb3.log 2>&1 &)"
   ]
  },
  {
   "cell_type": "code",
   "execution_count": 33,
   "metadata": {
    "collapsed": true
   },
   "outputs": [],
   "source": [
    "!({bwa} bwasw \\\n",
    "    -f {bwasw_3d7_dd2_dir}/3d7_dd2.sam \\\n",
    "    -t4 \\\n",
    "    -M \\\n",
    "    {fasta_3d7_v3} {fasta_dd2_contigs} \\\n",
    "    > {bwasw_3d7_dd2_dir}/3d7_dd2.log 2>&1 &)"
   ]
  },
  {
   "cell_type": "code",
   "execution_count": 34,
   "metadata": {
    "collapsed": true
   },
   "outputs": [],
   "source": [
    "!({bwa} bwasw \\\n",
    "    -f {bwasw_3d7_7g8_dir}/3d7_7g8.sam \\\n",
    "    -t4 \\\n",
    "    -M \\\n",
    "    {fasta_3d7_v3} {fasta_7g8_contigs} \\\n",
    "    > {bwasw_3d7_7g8_dir}/3d7_7g8.log 2>&1 &)"
   ]
  },
  {
   "cell_type": "markdown",
   "metadata": {},
   "source": [
    "## bwa mem"
   ]
  },
  {
   "cell_type": "code",
   "execution_count": 35,
   "metadata": {
    "collapsed": false
   },
   "outputs": [
    {
     "name": "stdout",
     "output_type": "stream",
     "text": [
      "\r\n",
      "Usage: bwa mem [options] <idxbase> <in1.fq> [in2.fq]\r\n",
      "\r\n",
      "Algorithm options:\r\n",
      "\r\n",
      "       -t INT        number of threads [1]\r\n",
      "       -k INT        minimum seed length [19]\r\n",
      "       -w INT        band width for banded alignment [100]\r\n",
      "       -d INT        off-diagonal X-dropoff [100]\r\n",
      "       -r FLOAT      look for internal seeds inside a seed longer than {-k} * FLOAT [1.5]\r\n",
      "       -y INT        seed occurrence for the 3rd round seeding [20]\r\n",
      "       -c INT        skip seeds with more than INT occurrences [500]\r\n",
      "       -D FLOAT      drop chains shorter than FLOAT fraction of the longest overlapping chain [0.50]\r\n",
      "       -W INT        discard a chain if seeded bases shorter than INT [0]\r\n",
      "       -m INT        perform at most INT rounds of mate rescues for each read [50]\r\n",
      "       -S            skip mate rescue\r\n",
      "       -P            skip pairing; mate rescue performed unless -S also in use\r\n",
      "       -e            discard full-length exact matches\r\n",
      "\r\n",
      "Scoring options:\r\n",
      "\r\n",
      "       -A INT        score for a sequence match, which scales options -TdBOELU unless overridden [1]\r\n",
      "       -B INT        penalty for a mismatch [4]\r\n",
      "       -O INT[,INT]  gap open penalties for deletions and insertions [6,6]\r\n",
      "       -E INT[,INT]  gap extension penalty; a gap of size k cost '{-O} + {-E}*k' [1,1]\r\n",
      "       -L INT[,INT]  penalty for 5'- and 3'-end clipping [5,5]\r\n",
      "       -U INT        penalty for an unpaired read pair [17]\r\n",
      "\r\n",
      "       -x STR        read type. Setting -x changes multiple parameters unless overriden [null]\r\n",
      "                     pacbio: -k17 -W40 -r10 -A1 -B1 -O1 -E1 -L0  (PacBio reads to ref)\r\n",
      "                     ont2d: -k14 -W20 -r10 -A1 -B1 -O1 -E1 -L0  (Oxford Nanopore 2D-reads to ref)\r\n",
      "                     intractg: -B9 -O16 -L5  (intra-species contigs to ref)\r\n",
      "\r\n",
      "Input/output options:\r\n",
      "\r\n",
      "       -p            smart pairing (ignoring in2.fq)\r\n",
      "       -R STR        read group header line such as '@RG\\tID:foo\\tSM:bar' [null]\r\n",
      "       -H STR/FILE   insert STR to header if it starts with @; or insert lines in FILE [null]\r\n",
      "       -j            treat ALT contigs as part of the primary assembly (i.e. ignore <idxbase>.alt file)\r\n",
      "\r\n",
      "       -v INT        verbose level: 1=error, 2=warning, 3=message, 4+=debugging [3]\r\n",
      "       -T INT        minimum score to output [30]\r\n",
      "       -h INT[,INT]  if there are <INT hits with score >80% of the max score, output all in XA [5,200]\r\n",
      "       -a            output all alignments for SE or unpaired PE\r\n",
      "       -C            append FASTA/FASTQ comment to SAM output\r\n",
      "       -V            output the reference FASTA header in the XR tag\r\n",
      "       -Y            use soft clipping for supplementary alignments\r\n",
      "       -M            mark shorter split hits as secondary\r\n",
      "\r\n",
      "       -I FLOAT[,FLOAT[,INT[,INT]]]\r\n",
      "                     specify the mean, standard deviation (10% of the mean if absent), max\r\n",
      "                     (4 sigma from the mean if absent) and min of the insert size distribution.\r\n",
      "                     FR orientation only. [inferred]\r\n",
      "\r\n",
      "Note: Please read the man page for detailed description of the command line and options.\r\n",
      "\r\n"
     ]
    }
   ],
   "source": [
    "!{bwa} mem"
   ]
  },
  {
   "cell_type": "code",
   "execution_count": 36,
   "metadata": {
    "collapsed": true
   },
   "outputs": [],
   "source": [
    "bwamem_3d7_hb3_dir = os.path.join(assembly_dir, 'bwamem/3d7_hb3')\n",
    "if not os.path.exists(bwamem_3d7_hb3_dir):\n",
    "    os.makedirs(bwamem_3d7_hb3_dir)"
   ]
  },
  {
   "cell_type": "code",
   "execution_count": 37,
   "metadata": {
    "collapsed": true
   },
   "outputs": [],
   "source": [
    "bwamem_3d7_dd2_dir = os.path.join(assembly_dir, 'bwamem/3d7_dd2')\n",
    "if not os.path.exists(bwamem_3d7_dd2_dir):\n",
    "    os.makedirs(bwamem_3d7_dd2_dir)"
   ]
  },
  {
   "cell_type": "code",
   "execution_count": 38,
   "metadata": {
    "collapsed": true
   },
   "outputs": [],
   "source": [
    "bwamem_3d7_7g8_dir = os.path.join(assembly_dir, 'bwamem/3d7_7g8')\n",
    "if not os.path.exists(bwamem_3d7_7g8_dir):\n",
    "    os.makedirs(bwamem_3d7_7g8_dir)"
   ]
  },
  {
   "cell_type": "code",
   "execution_count": 39,
   "metadata": {
    "collapsed": true
   },
   "outputs": [],
   "source": [
    "!({bwa} mem \\\n",
    "    -M  \\\n",
    "    {fasta_3d7_v3} {fasta_hb3_contigs} \\\n",
    "    1> {bwamem_3d7_hb3_dir}/3d7_hb3.sam \\\n",
    "    2> {bwamem_3d7_hb3_dir}/3d7_hb3.log &)"
   ]
  },
  {
   "cell_type": "code",
   "execution_count": 40,
   "metadata": {
    "collapsed": true
   },
   "outputs": [],
   "source": [
    "!({bwa} mem \\\n",
    "    -M  \\\n",
    "    {fasta_3d7_v3} {fasta_dd2_contigs} \\\n",
    "    1> {bwamem_3d7_dd2_dir}/3d7_dd2.sam \\\n",
    "    2> {bwamem_3d7_dd2_dir}/3d7_dd2.log &)"
   ]
  },
  {
   "cell_type": "code",
   "execution_count": 41,
   "metadata": {
    "collapsed": true
   },
   "outputs": [],
   "source": [
    "!({bwa} mem \\\n",
    "    -M  \\\n",
    "    {fasta_3d7_v3} {fasta_7g8_contigs} \\\n",
    "    1> {bwamem_3d7_7g8_dir}/3d7_7g8.sam \\\n",
    "    2> {bwamem_3d7_7g8_dir}/3d7_7g8.log &)"
   ]
  },
  {
   "cell_type": "code",
   "execution_count": null,
   "metadata": {
    "collapsed": true
   },
   "outputs": [],
   "source": []
  }
 ],
 "metadata": {
  "kernelspec": {
   "display_name": "Python 3",
   "language": "python",
   "name": "python3"
  },
  "language_info": {
   "codemirror_mode": {
    "name": "ipython",
    "version": 3
   },
   "file_extension": ".py",
   "mimetype": "text/x-python",
   "name": "python",
   "nbconvert_exporter": "python",
   "pygments_lexer": "ipython3",
   "version": "3.4.2"
  }
 },
 "nbformat": 4,
 "nbformat_minor": 0
}
