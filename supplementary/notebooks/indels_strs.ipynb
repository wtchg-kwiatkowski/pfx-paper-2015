{
 "cells": [
  {
   "cell_type": "code",
   "execution_count": 1,
   "metadata": {
    "collapsed": false
   },
   "outputs": [
    {
     "name": "stdout",
     "output_type": "stream",
     "text": [
      "docker image cggh/biipy:v1.6.0\n"
     ]
    },
    {
     "data": {
      "text/html": [
       "<style type=\"text/css\">\n",
       ".container {\n",
       "    width: 96%;\n",
       "}\n",
       "#maintoolbar {\n",
       "    display: none;\n",
       "}\n",
       "#header-container {\n",
       "    display: none;\n",
       "}\n",
       "#notebook {\n",
       "    padding-top: 0;\n",
       "}\n",
       "</style>"
      ],
      "text/plain": [
       "<IPython.core.display.HTML object>"
      ]
     },
     "metadata": {},
     "output_type": "display_data"
    }
   ],
   "source": [
    "%run ../../shared_setup.ipynb"
   ]
  },
  {
   "cell_type": "code",
   "execution_count": 2,
   "metadata": {
    "collapsed": false
   },
   "outputs": [
    {
     "data": {
      "text/plain": [
       "<pyfasta.fasta.Fasta at 0x7fcc605c0a90>"
      ]
     },
     "execution_count": 2,
     "metadata": {},
     "output_type": "execute_result"
    }
   ],
   "source": [
    "fasta"
   ]
  },
  {
   "cell_type": "code",
   "execution_count": 5,
   "metadata": {
    "collapsed": false
   },
   "outputs": [
    {
     "data": {
      "text/plain": [
       "['Pf3D7_01_v3',\n",
       " 'Pf3D7_02_v3',\n",
       " 'Pf3D7_03_v3',\n",
       " 'Pf3D7_04_v3',\n",
       " 'Pf3D7_05_v3',\n",
       " 'Pf3D7_06_v3',\n",
       " 'Pf3D7_07_v3',\n",
       " 'Pf3D7_08_v3',\n",
       " 'Pf3D7_09_v3',\n",
       " 'Pf3D7_10_v3',\n",
       " 'Pf3D7_11_v3',\n",
       " 'Pf3D7_12_v3',\n",
       " 'Pf3D7_13_v3',\n",
       " 'Pf3D7_14_v3']"
      ]
     },
     "execution_count": 5,
     "metadata": {},
     "output_type": "execute_result"
    }
   ],
   "source": [
    "sorted(fasta.keys())"
   ]
  },
  {
   "cell_type": "code",
   "execution_count": 7,
   "metadata": {
    "collapsed": false
   },
   "outputs": [
    {
     "data": {
      "text/plain": [
       "NpyFastaRecord(0..640851)"
      ]
     },
     "execution_count": 7,
     "metadata": {},
     "output_type": "execute_result"
    }
   ],
   "source": [
    "fasta['Pf3D7_01_v3']"
   ]
  },
  {
   "cell_type": "code",
   "execution_count": 58,
   "metadata": {
    "collapsed": true
   },
   "outputs": [],
   "source": [
    "class TandemRepeatTable(etl.Table):\n",
    "    \n",
    "    def __init__(self, chrom, unit_length, min_tract_length):\n",
    "        self.chrom = chrom\n",
    "        self.unit_length = unit_length\n",
    "        self.min_tract_length = min_tract_length\n",
    "        \n",
    "    def __iter__(self):\n",
    "        chrom = self.chrom\n",
    "        unit_length = self.unit_length\n",
    "        min_tract_length = self.min_tract_length\n",
    "        log('generating tandem repeats for chromosome', chrom, 'unit length', unit_length)\n",
    "\n",
    "        # header row\n",
    "        yield ('chrom', 'pos', 'ru', 'nu', 'unit_length', 'tract_length', 'context')\n",
    "        \n",
    "        # obtain sequence\n",
    "        seq = fasta[chrom]\n",
    "        \n",
    "        # begin iteration\n",
    "        i = 0\n",
    "        while i < len(seq):\n",
    "            \n",
    "            # current repeat unit\n",
    "            ru = seq[i:i+unit_length]\n",
    "            \n",
    "            # number of repeat units found\n",
    "            nu = 1\n",
    "            \n",
    "            # next potential unit to compare\n",
    "            next_unit = seq[i+(nu*unit_length):i+((nu+1)*unit_length)]\n",
    "            \n",
    "            # discover units\n",
    "            while next_unit == ru:\n",
    "                nu += 1\n",
    "                next_unit = seq[i+(nu*unit_length):i+((nu+1)*unit_length)]\n",
    "                \n",
    "            # compute tract length\n",
    "            tract_length = nu * unit_length\n",
    "            \n",
    "            # decide if discovered\n",
    "            if tract_length > min_tract_length:\n",
    "                yield (chrom, i+1, ru, nu, unit_length, tract_length, seq[i-unit_length:i+tract_length+unit_length])\n",
    "                i += nu * unit_length\n",
    "            else:\n",
    "                i += 1\n",
    "        "
   ]
  },
  {
   "cell_type": "code",
   "execution_count": 59,
   "metadata": {
    "collapsed": false
   },
   "outputs": [
    {
     "name": "stderr",
     "output_type": "stream",
     "text": [
      "2016-03-11 23:57:25.347237 :: generating tandem repeats for chromosome Pf3D7_01_v3 unit length 1\n",
      "2016-03-11 23:57:25.469907 :: generating tandem repeats for chromosome Pf3D7_01_v3 unit length 1\n"
     ]
    },
    {
     "data": {
      "text/html": [
       "<table class='petl'>\n",
       "<thead>\n",
       "<tr>\n",
       "<th>0|chrom</th>\n",
       "<th>1|pos</th>\n",
       "<th>2|ru</th>\n",
       "<th>3|nu</th>\n",
       "<th>4|unit_length</th>\n",
       "<th>5|tract_length</th>\n",
       "<th>6|context</th>\n",
       "</tr>\n",
       "</thead>\n",
       "<tbody>\n",
       "<tr>\n",
       "<td>Pf3D7_01_v3</td>\n",
       "<td style='text-align: right'>4179</td>\n",
       "<td>g</td>\n",
       "<td style='text-align: right'>8</td>\n",
       "<td style='text-align: right'>1</td>\n",
       "<td style='text-align: right'>8</td>\n",
       "<td>aggggggggt</td>\n",
       "</tr>\n",
       "<tr>\n",
       "<td>Pf3D7_01_v3</td>\n",
       "<td style='text-align: right'>4337</td>\n",
       "<td>t</td>\n",
       "<td style='text-align: right'>18</td>\n",
       "<td style='text-align: right'>1</td>\n",
       "<td style='text-align: right'>18</td>\n",
       "<td>attttttttttttttttttc</td>\n",
       "</tr>\n",
       "<tr>\n",
       "<td>Pf3D7_01_v3</td>\n",
       "<td style='text-align: right'>4411</td>\n",
       "<td>t</td>\n",
       "<td style='text-align: right'>8</td>\n",
       "<td style='text-align: right'>1</td>\n",
       "<td style='text-align: right'>8</td>\n",
       "<td>gtttttttta</td>\n",
       "</tr>\n",
       "<tr>\n",
       "<td>Pf3D7_01_v3</td>\n",
       "<td style='text-align: right'>4633</td>\n",
       "<td>t</td>\n",
       "<td style='text-align: right'>7</td>\n",
       "<td style='text-align: right'>1</td>\n",
       "<td style='text-align: right'>7</td>\n",
       "<td>attttttta</td>\n",
       "</tr>\n",
       "<tr>\n",
       "<td>Pf3D7_01_v3</td>\n",
       "<td style='text-align: right'>5457</td>\n",
       "<td>g</td>\n",
       "<td style='text-align: right'>8</td>\n",
       "<td style='text-align: right'>1</td>\n",
       "<td style='text-align: right'>8</td>\n",
       "<td>aggggggggt</td>\n",
       "</tr>\n",
       "</tbody>\n",
       "</table>\n",
       "<p><strong>...</strong></p>"
      ],
      "text/plain": [
       "+---------------+------+-----+----+-------------+--------------+------------------------+\n",
       "| chrom         | pos  | ru  | nu | unit_length | tract_length | context                |\n",
       "+===============+======+=====+====+=============+==============+========================+\n",
       "| 'Pf3D7_01_v3' | 4179 | 'g' |  8 |           1 |            8 | 'aggggggggt'           |\n",
       "+---------------+------+-----+----+-------------+--------------+------------------------+\n",
       "| 'Pf3D7_01_v3' | 4337 | 't' | 18 |           1 |           18 | 'attttttttttttttttttc' |\n",
       "+---------------+------+-----+----+-------------+--------------+------------------------+\n",
       "| 'Pf3D7_01_v3' | 4411 | 't' |  8 |           1 |            8 | 'gtttttttta'           |\n",
       "+---------------+------+-----+----+-------------+--------------+------------------------+\n",
       "| 'Pf3D7_01_v3' | 4633 | 't' |  7 |           1 |            7 | 'attttttta'            |\n",
       "+---------------+------+-----+----+-------------+--------------+------------------------+\n",
       "| 'Pf3D7_01_v3' | 5457 | 'g' |  8 |           1 |            8 | 'aggggggggt'           |\n",
       "+---------------+------+-----+----+-------------+--------------+------------------------+\n",
       "..."
      ]
     },
     "execution_count": 59,
     "metadata": {},
     "output_type": "execute_result"
    }
   ],
   "source": [
    "tbl1 = TandemRepeatTable('Pf3D7_01_v3', 1, 6)\n",
    "tbl1"
   ]
  },
  {
   "cell_type": "code",
   "execution_count": 60,
   "metadata": {
    "collapsed": false
   },
   "outputs": [
    {
     "name": "stderr",
     "output_type": "stream",
     "text": [
      "2016-03-11 23:57:32.072973 :: generating tandem repeats for chromosome Pf3D7_01_v3 unit length 2\n",
      "2016-03-11 23:57:32.422906 :: generating tandem repeats for chromosome Pf3D7_01_v3 unit length 2\n"
     ]
    },
    {
     "data": {
      "text/html": [
       "<table class='petl'>\n",
       "<thead>\n",
       "<tr>\n",
       "<th>0|chrom</th>\n",
       "<th>1|pos</th>\n",
       "<th>2|ru</th>\n",
       "<th>3|nu</th>\n",
       "<th>4|unit_length</th>\n",
       "<th>5|tract_length</th>\n",
       "<th>6|context</th>\n",
       "</tr>\n",
       "</thead>\n",
       "<tbody>\n",
       "<tr>\n",
       "<td>Pf3D7_01_v3</td>\n",
       "<td style='text-align: right'>4213</td>\n",
       "<td>tg</td>\n",
       "<td style='text-align: right'>6</td>\n",
       "<td style='text-align: right'>2</td>\n",
       "<td style='text-align: right'>12</td>\n",
       "<td>tatgtgtgtgtgtgaa</td>\n",
       "</tr>\n",
       "<tr>\n",
       "<td>Pf3D7_01_v3</td>\n",
       "<td style='text-align: right'>4337</td>\n",
       "<td>tt</td>\n",
       "<td style='text-align: right'>9</td>\n",
       "<td style='text-align: right'>2</td>\n",
       "<td style='text-align: right'>18</td>\n",
       "<td>aattttttttttttttttttcg</td>\n",
       "</tr>\n",
       "<tr>\n",
       "<td>Pf3D7_01_v3</td>\n",
       "<td style='text-align: right'>27416</td>\n",
       "<td>aa</td>\n",
       "<td style='text-align: right'>15</td>\n",
       "<td style='text-align: right'>2</td>\n",
       "<td style='text-align: right'>30</td>\n",
       "<td>tcaaaaaaaaaaaaaaaaaaaaaaaaaaaaaatt</td>\n",
       "</tr>\n",
       "<tr>\n",
       "<td>Pf3D7_01_v3</td>\n",
       "<td style='text-align: right'>27499</td>\n",
       "<td>aa</td>\n",
       "<td style='text-align: right'>5</td>\n",
       "<td style='text-align: right'>2</td>\n",
       "<td style='text-align: right'>10</td>\n",
       "<td>agaaaaaaaaaaga</td>\n",
       "</tr>\n",
       "<tr>\n",
       "<td>Pf3D7_01_v3</td>\n",
       "<td style='text-align: right'>27510</td>\n",
       "<td>aa</td>\n",
       "<td style='text-align: right'>7</td>\n",
       "<td style='text-align: right'>2</td>\n",
       "<td style='text-align: right'>14</td>\n",
       "<td>agaaaaaaaaaaaaaaat</td>\n",
       "</tr>\n",
       "</tbody>\n",
       "</table>\n",
       "<p><strong>...</strong></p>"
      ],
      "text/plain": [
       "+---------------+-------+------+----+-------------+--------------+--------------------------------------+\n",
       "| chrom         | pos   | ru   | nu | unit_length | tract_length | context                              |\n",
       "+===============+=======+======+====+=============+==============+======================================+\n",
       "| 'Pf3D7_01_v3' |  4213 | 'tg' |  6 |           2 |           12 | 'tatgtgtgtgtgtgaa'                   |\n",
       "+---------------+-------+------+----+-------------+--------------+--------------------------------------+\n",
       "| 'Pf3D7_01_v3' |  4337 | 'tt' |  9 |           2 |           18 | 'aattttttttttttttttttcg'             |\n",
       "+---------------+-------+------+----+-------------+--------------+--------------------------------------+\n",
       "| 'Pf3D7_01_v3' | 27416 | 'aa' | 15 |           2 |           30 | 'tcaaaaaaaaaaaaaaaaaaaaaaaaaaaaaatt' |\n",
       "+---------------+-------+------+----+-------------+--------------+--------------------------------------+\n",
       "| 'Pf3D7_01_v3' | 27499 | 'aa' |  5 |           2 |           10 | 'agaaaaaaaaaaga'                     |\n",
       "+---------------+-------+------+----+-------------+--------------+--------------------------------------+\n",
       "| 'Pf3D7_01_v3' | 27510 | 'aa' |  7 |           2 |           14 | 'agaaaaaaaaaaaaaaat'                 |\n",
       "+---------------+-------+------+----+-------------+--------------+--------------------------------------+\n",
       "..."
      ]
     },
     "execution_count": 60,
     "metadata": {},
     "output_type": "execute_result"
    }
   ],
   "source": [
    "tbl2 = TandemRepeatTable('Pf3D7_01_v3', 2, 9)\n",
    "tbl2"
   ]
  },
  {
   "cell_type": "code",
   "execution_count": 61,
   "metadata": {
    "collapsed": false
   },
   "outputs": [
    {
     "data": {
      "text/html": [
       "<table class='petl'>\n",
       "<thead>\n",
       "<tr>\n",
       "<th>0|region_chrom</th>\n",
       "<th>1|region_start</th>\n",
       "<th>2|region_stop</th>\n",
       "<th>3|region_type</th>\n",
       "<th>4|region_size</th>\n",
       "</tr>\n",
       "</thead>\n",
       "<tbody>\n",
       "<tr>\n",
       "<td>Pf3D7_01_v3</td>\n",
       "<td style='text-align: right'>1</td>\n",
       "<td style='text-align: right'>27336</td>\n",
       "<td>SubtelomericRepeat</td>\n",
       "<td style='text-align: right'>27336</td>\n",
       "</tr>\n",
       "<tr>\n",
       "<td>Pf3D7_01_v3</td>\n",
       "<td style='text-align: right'>27337</td>\n",
       "<td style='text-align: right'>92900</td>\n",
       "<td>SubtelomericHypervariable</td>\n",
       "<td style='text-align: right'>65564</td>\n",
       "</tr>\n",
       "<tr>\n",
       "<td>Pf3D7_01_v3</td>\n",
       "<td style='text-align: right'>92901</td>\n",
       "<td style='text-align: right'>457931</td>\n",
       "<td>Core</td>\n",
       "<td style='text-align: right'>365031</td>\n",
       "</tr>\n",
       "<tr>\n",
       "<td>Pf3D7_01_v3</td>\n",
       "<td style='text-align: right'>457932</td>\n",
       "<td style='text-align: right'>460311</td>\n",
       "<td>Centromere</td>\n",
       "<td style='text-align: right'>2380</td>\n",
       "</tr>\n",
       "<tr>\n",
       "<td>Pf3D7_01_v3</td>\n",
       "<td style='text-align: right'>460312</td>\n",
       "<td style='text-align: right'>575900</td>\n",
       "<td>Core</td>\n",
       "<td style='text-align: right'>115589</td>\n",
       "</tr>\n",
       "</tbody>\n",
       "</table>\n",
       "<p><strong>...</strong></p>"
      ],
      "text/plain": [
       "+---------------+--------------+-------------+-----------------------------+-------------+\n",
       "| region_chrom  | region_start | region_stop | region_type                 | region_size |\n",
       "+===============+==============+=============+=============================+=============+\n",
       "| 'Pf3D7_01_v3' |            1 |       27336 | 'SubtelomericRepeat'        |       27336 |\n",
       "+---------------+--------------+-------------+-----------------------------+-------------+\n",
       "| 'Pf3D7_01_v3' |        27337 |       92900 | 'SubtelomericHypervariable' |       65564 |\n",
       "+---------------+--------------+-------------+-----------------------------+-------------+\n",
       "| 'Pf3D7_01_v3' |        92901 |      457931 | 'Core'                      |      365031 |\n",
       "+---------------+--------------+-------------+-----------------------------+-------------+\n",
       "| 'Pf3D7_01_v3' |       457932 |      460311 | 'Centromere'                |        2380 |\n",
       "+---------------+--------------+-------------+-----------------------------+-------------+\n",
       "| 'Pf3D7_01_v3' |       460312 |      575900 | 'Core'                      |      115589 |\n",
       "+---------------+--------------+-------------+-----------------------------+-------------+\n",
       "..."
      ]
     },
     "execution_count": 61,
     "metadata": {},
     "output_type": "execute_result"
    }
   ],
   "source": [
    "tbl_regions_1b"
   ]
  },
  {
   "cell_type": "code",
   "execution_count": 62,
   "metadata": {
    "collapsed": false
   },
   "outputs": [],
   "source": [
    "def tabulate_tr(chrom):\n",
    "    fn = '/data/plasmodium/pfalciparum/pf-crosses/data/genome/sanger/version3/September_2012/%s.tr.pickle' % chrom\n",
    "    if not os.path.exists(fn):\n",
    "        tbl_tr = (\n",
    "            etl\n",
    "            .cat(*[\n",
    "                TandemRepeatTable(chrom, 1, 6), \n",
    "                TandemRepeatTable(chrom, 2, 9), \n",
    "                TandemRepeatTable(chrom, 3, 11), \n",
    "                TandemRepeatTable(chrom, 4, 13), \n",
    "                TandemRepeatTable(chrom, 5, 14), \n",
    "                TandemRepeatTable(chrom, 6, 16), \n",
    "                TandemRepeatTable(chrom, 7, 18), \n",
    "                TandemRepeatTable(chrom, 8, 18), \n",
    "                TandemRepeatTable(chrom, 9, 18), \n",
    "                TandemRepeatTable(chrom, 10, 18), \n",
    "            ])\n",
    "            .groupselectmin(key=('chrom', 'pos'), value='unit_length')\n",
    "            .intervalleftjoin(tbl_regions_1b, lkey='chrom', lstart='pos', lstop='pos', include_stop=True,\n",
    "                              rkey='region_chrom', rstart='region_start', rstop='region_stop')\n",
    "            .cutout('region_chrom', 'region_start', 'region_stop', 'region_size')\n",
    "        )\n",
    "        tbl_tr.topickle(fn)\n",
    "    tbl_tr = etl.frompickle(fn)\n",
    "    return tbl_tr\n",
    "    "
   ]
  },
  {
   "cell_type": "code",
   "execution_count": 63,
   "metadata": {
    "collapsed": false
   },
   "outputs": [
    {
     "data": {
      "text/html": [
       "<table class='petl'>\n",
       "<thead>\n",
       "<tr>\n",
       "<th>0|chrom</th>\n",
       "<th>1|pos</th>\n",
       "<th>2|ru</th>\n",
       "<th>3|nu</th>\n",
       "<th>4|unit_length</th>\n",
       "<th>5|tract_length</th>\n",
       "<th>6|context</th>\n",
       "<th>7|region_type</th>\n",
       "</tr>\n",
       "</thead>\n",
       "<tbody>\n",
       "<tr>\n",
       "<td>Pf3D7_01_v3</td>\n",
       "<td style='text-align: right'>13</td>\n",
       "<td>cctaaac</td>\n",
       "<td style='text-align: right'>3</td>\n",
       "<td style='text-align: right'>7</td>\n",
       "<td style='text-align: right'>21</td>\n",
       "<td>cctaaaacctaaaccctaaaccctaaaccctgaac</td>\n",
       "<td>SubtelomericRepeat</td>\n",
       "</tr>\n",
       "<tr>\n",
       "<td>Pf3D7_01_v3</td>\n",
       "<td style='text-align: right'>285</td>\n",
       "<td>cctaaac</td>\n",
       "<td style='text-align: right'>4</td>\n",
       "<td style='text-align: right'>7</td>\n",
       "<td style='text-align: right'>28</td>\n",
       "<td>cctaaaacctaaaccctaaaccctaaaccctaaaccctgaac</td>\n",
       "<td>SubtelomericRepeat</td>\n",
       "</tr>\n",
       "<tr>\n",
       "<td>Pf3D7_01_v3</td>\n",
       "<td style='text-align: right'>322</td>\n",
       "<td>aaaccta</td>\n",
       "<td style='text-align: right'>3</td>\n",
       "<td style='text-align: right'>7</td>\n",
       "<td style='text-align: right'>21</td>\n",
       "<td>tgaacctaaacctaaaacctaaaacctaaaaccct</td>\n",
       "<td>SubtelomericRepeat</td>\n",
       "</tr>\n",
       "<tr>\n",
       "<td>Pf3D7_01_v3</td>\n",
       "<td style='text-align: right'>421</td>\n",
       "<td>cttacttact</td>\n",
       "<td style='text-align: right'>2</td>\n",
       "<td style='text-align: right'>10</td>\n",
       "<td style='text-align: right'>20</td>\n",
       "<td>cttagtcttacttacttactcttacttacttactcttatc</td>\n",
       "<td>SubtelomericRepeat</td>\n",
       "</tr>\n",
       "<tr>\n",
       "<td>Pf3D7_01_v3</td>\n",
       "<td style='text-align: right'>477</td>\n",
       "<td>cttacttact</td>\n",
       "<td style='text-align: right'>2</td>\n",
       "<td style='text-align: right'>10</td>\n",
       "<td style='text-align: right'>20</td>\n",
       "<td>cttagtcttacttacttactcttacttacttactcttatc</td>\n",
       "<td>SubtelomericRepeat</td>\n",
       "</tr>\n",
       "</tbody>\n",
       "</table>\n",
       "<p><strong>...</strong></p>"
      ],
      "text/plain": [
       "+---------------+-----+--------------+----+-------------+--------------+----------------------------------------------+----------------------+\n",
       "| chrom         | pos | ru           | nu | unit_length | tract_length | context                                      | region_type          |\n",
       "+===============+=====+==============+====+=============+==============+==============================================+======================+\n",
       "| 'Pf3D7_01_v3' |  13 | 'cctaaac'    |  3 |           7 |           21 | 'cctaaaacctaaaccctaaaccctaaaccctgaac'        | 'SubtelomericRepeat' |\n",
       "+---------------+-----+--------------+----+-------------+--------------+----------------------------------------------+----------------------+\n",
       "| 'Pf3D7_01_v3' | 285 | 'cctaaac'    |  4 |           7 |           28 | 'cctaaaacctaaaccctaaaccctaaaccctaaaccctgaac' | 'SubtelomericRepeat' |\n",
       "+---------------+-----+--------------+----+-------------+--------------+----------------------------------------------+----------------------+\n",
       "| 'Pf3D7_01_v3' | 322 | 'aaaccta'    |  3 |           7 |           21 | 'tgaacctaaacctaaaacctaaaacctaaaaccct'        | 'SubtelomericRepeat' |\n",
       "+---------------+-----+--------------+----+-------------+--------------+----------------------------------------------+----------------------+\n",
       "| 'Pf3D7_01_v3' | 421 | 'cttacttact' |  2 |          10 |           20 | 'cttagtcttacttacttactcttacttacttactcttatc'   | 'SubtelomericRepeat' |\n",
       "+---------------+-----+--------------+----+-------------+--------------+----------------------------------------------+----------------------+\n",
       "| 'Pf3D7_01_v3' | 477 | 'cttacttact' |  2 |          10 |           20 | 'cttagtcttacttacttactcttacttacttactcttatc'   | 'SubtelomericRepeat' |\n",
       "+---------------+-----+--------------+----+-------------+--------------+----------------------------------------------+----------------------+\n",
       "..."
      ]
     },
     "execution_count": 63,
     "metadata": {},
     "output_type": "execute_result"
    }
   ],
   "source": [
    "tbl = tabulate_tr('Pf3D7_01_v3')\n",
    "tbl"
   ]
  },
  {
   "cell_type": "code",
   "execution_count": 64,
   "metadata": {
    "collapsed": false
   },
   "outputs": [
    {
     "data": {
      "text/plain": [
       "[b'Pf3D7_01_v3',\n",
       " b'Pf3D7_02_v3',\n",
       " b'Pf3D7_03_v3',\n",
       " b'Pf3D7_04_v3',\n",
       " b'Pf3D7_05_v3',\n",
       " b'Pf3D7_06_v3',\n",
       " b'Pf3D7_07_v3',\n",
       " b'Pf3D7_08_v3',\n",
       " b'Pf3D7_09_v3',\n",
       " b'Pf3D7_10_v3',\n",
       " b'Pf3D7_11_v3',\n",
       " b'Pf3D7_12_v3',\n",
       " b'Pf3D7_13_v3',\n",
       " b'Pf3D7_14_v3']"
      ]
     },
     "execution_count": 64,
     "metadata": {},
     "output_type": "execute_result"
    }
   ],
   "source": [
    "CHROMOSOMES"
   ]
  },
  {
   "cell_type": "code",
   "execution_count": 65,
   "metadata": {
    "collapsed": false
   },
   "outputs": [
    {
     "name": "stderr",
     "output_type": "stream",
     "text": [
      "2016-03-11 23:57:48.282326 :: generating tandem repeats for chromosome Pf3D7_02_v3 unit length 1\n",
      "2016-03-11 23:57:48.283699 :: generating tandem repeats for chromosome Pf3D7_02_v3 unit length 2\n",
      "2016-03-11 23:57:48.284878 :: generating tandem repeats for chromosome Pf3D7_02_v3 unit length 3\n",
      "2016-03-11 23:57:48.285998 :: generating tandem repeats for chromosome Pf3D7_02_v3 unit length 4\n",
      "2016-03-11 23:57:48.287093 :: generating tandem repeats for chromosome Pf3D7_02_v3 unit length 5\n",
      "2016-03-11 23:57:48.288331 :: generating tandem repeats for chromosome Pf3D7_02_v3 unit length 6\n",
      "2016-03-11 23:57:48.289332 :: generating tandem repeats for chromosome Pf3D7_02_v3 unit length 7\n",
      "2016-03-11 23:57:48.290305 :: generating tandem repeats for chromosome Pf3D7_02_v3 unit length 8\n",
      "2016-03-11 23:57:48.291258 :: generating tandem repeats for chromosome Pf3D7_02_v3 unit length 9\n",
      "2016-03-11 23:57:48.292083 :: generating tandem repeats for chromosome Pf3D7_02_v3 unit length 10\n",
      "2016-03-11 23:59:38.755236 :: generating tandem repeats for chromosome Pf3D7_03_v3 unit length 1\n",
      "2016-03-11 23:59:38.755643 :: generating tandem repeats for chromosome Pf3D7_03_v3 unit length 2\n",
      "2016-03-11 23:59:38.755981 :: generating tandem repeats for chromosome Pf3D7_03_v3 unit length 3\n",
      "2016-03-11 23:59:38.756188 :: generating tandem repeats for chromosome Pf3D7_03_v3 unit length 4\n",
      "2016-03-11 23:59:38.756390 :: generating tandem repeats for chromosome Pf3D7_03_v3 unit length 5\n",
      "2016-03-11 23:59:38.756609 :: generating tandem repeats for chromosome Pf3D7_03_v3 unit length 6\n",
      "2016-03-11 23:59:38.756853 :: generating tandem repeats for chromosome Pf3D7_03_v3 unit length 7\n",
      "2016-03-11 23:59:38.757178 :: generating tandem repeats for chromosome Pf3D7_03_v3 unit length 8\n",
      "2016-03-11 23:59:38.757510 :: generating tandem repeats for chromosome Pf3D7_03_v3 unit length 9\n",
      "2016-03-11 23:59:38.757857 :: generating tandem repeats for chromosome Pf3D7_03_v3 unit length 10\n",
      "2016-03-12 00:01:41.126863 :: generating tandem repeats for chromosome Pf3D7_04_v3 unit length 1\n",
      "2016-03-12 00:01:41.127356 :: generating tandem repeats for chromosome Pf3D7_04_v3 unit length 2\n",
      "2016-03-12 00:01:41.127645 :: generating tandem repeats for chromosome Pf3D7_04_v3 unit length 3\n",
      "2016-03-12 00:01:41.127908 :: generating tandem repeats for chromosome Pf3D7_04_v3 unit length 4\n",
      "2016-03-12 00:01:41.128161 :: generating tandem repeats for chromosome Pf3D7_04_v3 unit length 5\n",
      "2016-03-12 00:01:41.128399 :: generating tandem repeats for chromosome Pf3D7_04_v3 unit length 6\n",
      "2016-03-12 00:01:41.128630 :: generating tandem repeats for chromosome Pf3D7_04_v3 unit length 7\n",
      "2016-03-12 00:01:41.128850 :: generating tandem repeats for chromosome Pf3D7_04_v3 unit length 8\n",
      "2016-03-12 00:01:41.129065 :: generating tandem repeats for chromosome Pf3D7_04_v3 unit length 9\n",
      "2016-03-12 00:01:41.129396 :: generating tandem repeats for chromosome Pf3D7_04_v3 unit length 10\n",
      "2016-03-12 00:03:58.838185 :: generating tandem repeats for chromosome Pf3D7_05_v3 unit length 1\n",
      "2016-03-12 00:03:58.838642 :: generating tandem repeats for chromosome Pf3D7_05_v3 unit length 2\n",
      "2016-03-12 00:03:58.838945 :: generating tandem repeats for chromosome Pf3D7_05_v3 unit length 3\n",
      "2016-03-12 00:03:58.839306 :: generating tandem repeats for chromosome Pf3D7_05_v3 unit length 4\n",
      "2016-03-12 00:03:58.839642 :: generating tandem repeats for chromosome Pf3D7_05_v3 unit length 5\n",
      "2016-03-12 00:03:58.839987 :: generating tandem repeats for chromosome Pf3D7_05_v3 unit length 6\n",
      "2016-03-12 00:03:58.840332 :: generating tandem repeats for chromosome Pf3D7_05_v3 unit length 7\n",
      "2016-03-12 00:03:58.840691 :: generating tandem repeats for chromosome Pf3D7_05_v3 unit length 8\n",
      "2016-03-12 00:03:58.841036 :: generating tandem repeats for chromosome Pf3D7_05_v3 unit length 9\n",
      "2016-03-12 00:03:58.841359 :: generating tandem repeats for chromosome Pf3D7_05_v3 unit length 10\n",
      "2016-03-12 00:06:34.703232 :: generating tandem repeats for chromosome Pf3D7_06_v3 unit length 1\n",
      "2016-03-12 00:06:34.703706 :: generating tandem repeats for chromosome Pf3D7_06_v3 unit length 2\n",
      "2016-03-12 00:06:34.704013 :: generating tandem repeats for chromosome Pf3D7_06_v3 unit length 3\n",
      "2016-03-12 00:06:34.704297 :: generating tandem repeats for chromosome Pf3D7_06_v3 unit length 4\n",
      "2016-03-12 00:06:34.704609 :: generating tandem repeats for chromosome Pf3D7_06_v3 unit length 5\n",
      "2016-03-12 00:06:34.704961 :: generating tandem repeats for chromosome Pf3D7_06_v3 unit length 6\n",
      "2016-03-12 00:06:34.705426 :: generating tandem repeats for chromosome Pf3D7_06_v3 unit length 7\n",
      "2016-03-12 00:06:34.705779 :: generating tandem repeats for chromosome Pf3D7_06_v3 unit length 8\n",
      "2016-03-12 00:06:34.706120 :: generating tandem repeats for chromosome Pf3D7_06_v3 unit length 9\n",
      "2016-03-12 00:06:34.706456 :: generating tandem repeats for chromosome Pf3D7_06_v3 unit length 10\n",
      "2016-03-12 00:09:18.446627 :: generating tandem repeats for chromosome Pf3D7_07_v3 unit length 1\n",
      "2016-03-12 00:09:18.447065 :: generating tandem repeats for chromosome Pf3D7_07_v3 unit length 2\n",
      "2016-03-12 00:09:18.447431 :: generating tandem repeats for chromosome Pf3D7_07_v3 unit length 3\n",
      "2016-03-12 00:09:18.447714 :: generating tandem repeats for chromosome Pf3D7_07_v3 unit length 4\n",
      "2016-03-12 00:09:18.448014 :: generating tandem repeats for chromosome Pf3D7_07_v3 unit length 5\n",
      "2016-03-12 00:09:18.448283 :: generating tandem repeats for chromosome Pf3D7_07_v3 unit length 6\n",
      "2016-03-12 00:09:18.448540 :: generating tandem repeats for chromosome Pf3D7_07_v3 unit length 7\n",
      "2016-03-12 00:09:18.448909 :: generating tandem repeats for chromosome Pf3D7_07_v3 unit length 8\n",
      "2016-03-12 00:09:18.449234 :: generating tandem repeats for chromosome Pf3D7_07_v3 unit length 9\n",
      "2016-03-12 00:09:18.449531 :: generating tandem repeats for chromosome Pf3D7_07_v3 unit length 10\n",
      "2016-03-12 00:12:07.295338 :: generating tandem repeats for chromosome Pf3D7_08_v3 unit length 1\n",
      "2016-03-12 00:12:07.295786 :: generating tandem repeats for chromosome Pf3D7_08_v3 unit length 2\n",
      "2016-03-12 00:12:07.296111 :: generating tandem repeats for chromosome Pf3D7_08_v3 unit length 3\n",
      "2016-03-12 00:12:07.296392 :: generating tandem repeats for chromosome Pf3D7_08_v3 unit length 4\n",
      "2016-03-12 00:12:07.296665 :: generating tandem repeats for chromosome Pf3D7_08_v3 unit length 5\n",
      "2016-03-12 00:12:07.297032 :: generating tandem repeats for chromosome Pf3D7_08_v3 unit length 6\n",
      "2016-03-12 00:12:07.297387 :: generating tandem repeats for chromosome Pf3D7_08_v3 unit length 7\n",
      "2016-03-12 00:12:07.297846 :: generating tandem repeats for chromosome Pf3D7_08_v3 unit length 8\n",
      "2016-03-12 00:12:07.298201 :: generating tandem repeats for chromosome Pf3D7_08_v3 unit length 9\n",
      "2016-03-12 00:12:07.298526 :: generating tandem repeats for chromosome Pf3D7_08_v3 unit length 10\n",
      "2016-03-12 00:14:56.166058 :: generating tandem repeats for chromosome Pf3D7_09_v3 unit length 1\n",
      "2016-03-12 00:14:56.166498 :: generating tandem repeats for chromosome Pf3D7_09_v3 unit length 2\n",
      "2016-03-12 00:14:56.166779 :: generating tandem repeats for chromosome Pf3D7_09_v3 unit length 3\n",
      "2016-03-12 00:14:56.167035 :: generating tandem repeats for chromosome Pf3D7_09_v3 unit length 4\n",
      "2016-03-12 00:14:56.167290 :: generating tandem repeats for chromosome Pf3D7_09_v3 unit length 5\n",
      "2016-03-12 00:14:56.167528 :: generating tandem repeats for chromosome Pf3D7_09_v3 unit length 6\n",
      "2016-03-12 00:14:56.167885 :: generating tandem repeats for chromosome Pf3D7_09_v3 unit length 7\n",
      "2016-03-12 00:14:56.168354 :: generating tandem repeats for chromosome Pf3D7_09_v3 unit length 8\n",
      "2016-03-12 00:14:56.168701 :: generating tandem repeats for chromosome Pf3D7_09_v3 unit length 9\n",
      "2016-03-12 00:14:56.169054 :: generating tandem repeats for chromosome Pf3D7_09_v3 unit length 10\n",
      "2016-03-12 00:17:51.497882 :: generating tandem repeats for chromosome Pf3D7_10_v3 unit length 1\n",
      "2016-03-12 00:17:51.498372 :: generating tandem repeats for chromosome Pf3D7_10_v3 unit length 2\n",
      "2016-03-12 00:17:51.498696 :: generating tandem repeats for chromosome Pf3D7_10_v3 unit length 3\n",
      "2016-03-12 00:17:51.498959 :: generating tandem repeats for chromosome Pf3D7_10_v3 unit length 4\n",
      "2016-03-12 00:17:51.499223 :: generating tandem repeats for chromosome Pf3D7_10_v3 unit length 5\n",
      "2016-03-12 00:17:51.499467 :: generating tandem repeats for chromosome Pf3D7_10_v3 unit length 6\n",
      "2016-03-12 00:17:51.499711 :: generating tandem repeats for chromosome Pf3D7_10_v3 unit length 7\n",
      "2016-03-12 00:17:51.499927 :: generating tandem repeats for chromosome Pf3D7_10_v3 unit length 8\n",
      "2016-03-12 00:17:51.500139 :: generating tandem repeats for chromosome Pf3D7_10_v3 unit length 9\n",
      "2016-03-12 00:17:51.500348 :: generating tandem repeats for chromosome Pf3D7_10_v3 unit length 10\n",
      "2016-03-12 00:21:05.028995 :: generating tandem repeats for chromosome Pf3D7_11_v3 unit length 1\n",
      "2016-03-12 00:21:05.029492 :: generating tandem repeats for chromosome Pf3D7_11_v3 unit length 2\n",
      "2016-03-12 00:21:05.029805 :: generating tandem repeats for chromosome Pf3D7_11_v3 unit length 3\n",
      "2016-03-12 00:21:05.030092 :: generating tandem repeats for chromosome Pf3D7_11_v3 unit length 4\n",
      "2016-03-12 00:21:05.030352 :: generating tandem repeats for chromosome Pf3D7_11_v3 unit length 5\n",
      "2016-03-12 00:21:05.030587 :: generating tandem repeats for chromosome Pf3D7_11_v3 unit length 6\n",
      "2016-03-12 00:21:05.030814 :: generating tandem repeats for chromosome Pf3D7_11_v3 unit length 7\n",
      "2016-03-12 00:21:05.031036 :: generating tandem repeats for chromosome Pf3D7_11_v3 unit length 8\n",
      "2016-03-12 00:21:05.031261 :: generating tandem repeats for chromosome Pf3D7_11_v3 unit length 9\n",
      "2016-03-12 00:21:05.031468 :: generating tandem repeats for chromosome Pf3D7_11_v3 unit length 10\n",
      "2016-03-12 00:24:58.134121 :: generating tandem repeats for chromosome Pf3D7_12_v3 unit length 1\n",
      "2016-03-12 00:24:58.134554 :: generating tandem repeats for chromosome Pf3D7_12_v3 unit length 2\n",
      "2016-03-12 00:24:58.134888 :: generating tandem repeats for chromosome Pf3D7_12_v3 unit length 3\n",
      "2016-03-12 00:24:58.135231 :: generating tandem repeats for chromosome Pf3D7_12_v3 unit length 4\n",
      "2016-03-12 00:24:58.135595 :: generating tandem repeats for chromosome Pf3D7_12_v3 unit length 5\n",
      "2016-03-12 00:24:58.135914 :: generating tandem repeats for chromosome Pf3D7_12_v3 unit length 6\n",
      "2016-03-12 00:24:58.136171 :: generating tandem repeats for chromosome Pf3D7_12_v3 unit length 7\n",
      "2016-03-12 00:24:58.136411 :: generating tandem repeats for chromosome Pf3D7_12_v3 unit length 8\n",
      "2016-03-12 00:24:58.136704 :: generating tandem repeats for chromosome Pf3D7_12_v3 unit length 9\n",
      "2016-03-12 00:24:58.137031 :: generating tandem repeats for chromosome Pf3D7_12_v3 unit length 10\n",
      "2016-03-12 00:29:19.175721 :: generating tandem repeats for chromosome Pf3D7_13_v3 unit length 1\n",
      "2016-03-12 00:29:19.176166 :: generating tandem repeats for chromosome Pf3D7_13_v3 unit length 2\n",
      "2016-03-12 00:29:19.176417 :: generating tandem repeats for chromosome Pf3D7_13_v3 unit length 3\n",
      "2016-03-12 00:29:19.176638 :: generating tandem repeats for chromosome Pf3D7_13_v3 unit length 4\n",
      "2016-03-12 00:29:19.176881 :: generating tandem repeats for chromosome Pf3D7_13_v3 unit length 5\n",
      "2016-03-12 00:29:19.177192 :: generating tandem repeats for chromosome Pf3D7_13_v3 unit length 6\n",
      "2016-03-12 00:29:19.177519 :: generating tandem repeats for chromosome Pf3D7_13_v3 unit length 7\n",
      "2016-03-12 00:29:19.177839 :: generating tandem repeats for chromosome Pf3D7_13_v3 unit length 8\n",
      "2016-03-12 00:29:19.178162 :: generating tandem repeats for chromosome Pf3D7_13_v3 unit length 9\n",
      "2016-03-12 00:29:19.178500 :: generating tandem repeats for chromosome Pf3D7_13_v3 unit length 10\n",
      "2016-03-12 00:34:55.255972 :: generating tandem repeats for chromosome Pf3D7_14_v3 unit length 1\n",
      "2016-03-12 00:34:55.256447 :: generating tandem repeats for chromosome Pf3D7_14_v3 unit length 2\n",
      "2016-03-12 00:34:55.256738 :: generating tandem repeats for chromosome Pf3D7_14_v3 unit length 3\n",
      "2016-03-12 00:34:55.257014 :: generating tandem repeats for chromosome Pf3D7_14_v3 unit length 4\n",
      "2016-03-12 00:34:55.257266 :: generating tandem repeats for chromosome Pf3D7_14_v3 unit length 5\n",
      "2016-03-12 00:34:55.257592 :: generating tandem repeats for chromosome Pf3D7_14_v3 unit length 6\n",
      "2016-03-12 00:34:55.257971 :: generating tandem repeats for chromosome Pf3D7_14_v3 unit length 7\n",
      "2016-03-12 00:34:55.258317 :: generating tandem repeats for chromosome Pf3D7_14_v3 unit length 8\n",
      "2016-03-12 00:34:55.258659 :: generating tandem repeats for chromosome Pf3D7_14_v3 unit length 9\n",
      "2016-03-12 00:34:55.259011 :: generating tandem repeats for chromosome Pf3D7_14_v3 unit length 10\n"
     ]
    }
   ],
   "source": [
    "tbl_tr_wg = etl.cat(*[tabulate_tr(str(chrom, 'ascii')) for chrom in CHROMOSOMES])"
   ]
  },
  {
   "cell_type": "code",
   "execution_count": 66,
   "metadata": {
    "collapsed": false
   },
   "outputs": [
    {
     "data": {
      "text/html": [
       "<table class='petl'>\n",
       "<thead>\n",
       "<tr>\n",
       "<th>0|chrom</th>\n",
       "<th>1|pos</th>\n",
       "<th>2|ru</th>\n",
       "<th>3|nu</th>\n",
       "<th>4|unit_length</th>\n",
       "<th>5|tract_length</th>\n",
       "<th>6|context</th>\n",
       "<th>7|region_type</th>\n",
       "</tr>\n",
       "</thead>\n",
       "<tbody>\n",
       "<tr>\n",
       "<td>Pf3D7_01_v3</td>\n",
       "<td style='text-align: right'>13</td>\n",
       "<td>cctaaac</td>\n",
       "<td style='text-align: right'>3</td>\n",
       "<td style='text-align: right'>7</td>\n",
       "<td style='text-align: right'>21</td>\n",
       "<td>cctaaaacctaaaccctaaaccctaaaccctgaac</td>\n",
       "<td>SubtelomericRepeat</td>\n",
       "</tr>\n",
       "<tr>\n",
       "<td>Pf3D7_01_v3</td>\n",
       "<td style='text-align: right'>285</td>\n",
       "<td>cctaaac</td>\n",
       "<td style='text-align: right'>4</td>\n",
       "<td style='text-align: right'>7</td>\n",
       "<td style='text-align: right'>28</td>\n",
       "<td>cctaaaacctaaaccctaaaccctaaaccctaaaccctgaac</td>\n",
       "<td>SubtelomericRepeat</td>\n",
       "</tr>\n",
       "<tr>\n",
       "<td>Pf3D7_01_v3</td>\n",
       "<td style='text-align: right'>322</td>\n",
       "<td>aaaccta</td>\n",
       "<td style='text-align: right'>3</td>\n",
       "<td style='text-align: right'>7</td>\n",
       "<td style='text-align: right'>21</td>\n",
       "<td>tgaacctaaacctaaaacctaaaacctaaaaccct</td>\n",
       "<td>SubtelomericRepeat</td>\n",
       "</tr>\n",
       "<tr>\n",
       "<td>Pf3D7_01_v3</td>\n",
       "<td style='text-align: right'>421</td>\n",
       "<td>cttacttact</td>\n",
       "<td style='text-align: right'>2</td>\n",
       "<td style='text-align: right'>10</td>\n",
       "<td style='text-align: right'>20</td>\n",
       "<td>cttagtcttacttacttactcttacttacttactcttatc</td>\n",
       "<td>SubtelomericRepeat</td>\n",
       "</tr>\n",
       "<tr>\n",
       "<td>Pf3D7_01_v3</td>\n",
       "<td style='text-align: right'>477</td>\n",
       "<td>cttacttact</td>\n",
       "<td style='text-align: right'>2</td>\n",
       "<td style='text-align: right'>10</td>\n",
       "<td style='text-align: right'>20</td>\n",
       "<td>cttagtcttacttacttactcttacttacttactcttatc</td>\n",
       "<td>SubtelomericRepeat</td>\n",
       "</tr>\n",
       "</tbody>\n",
       "</table>\n",
       "<p><strong>...</strong></p>"
      ],
      "text/plain": [
       "+---------------+-----+--------------+----+-------------+--------------+----------------------------------------------+----------------------+\n",
       "| chrom         | pos | ru           | nu | unit_length | tract_length | context                                      | region_type          |\n",
       "+===============+=====+==============+====+=============+==============+==============================================+======================+\n",
       "| 'Pf3D7_01_v3' |  13 | 'cctaaac'    |  3 |           7 |           21 | 'cctaaaacctaaaccctaaaccctaaaccctgaac'        | 'SubtelomericRepeat' |\n",
       "+---------------+-----+--------------+----+-------------+--------------+----------------------------------------------+----------------------+\n",
       "| 'Pf3D7_01_v3' | 285 | 'cctaaac'    |  4 |           7 |           28 | 'cctaaaacctaaaccctaaaccctaaaccctaaaccctgaac' | 'SubtelomericRepeat' |\n",
       "+---------------+-----+--------------+----+-------------+--------------+----------------------------------------------+----------------------+\n",
       "| 'Pf3D7_01_v3' | 322 | 'aaaccta'    |  3 |           7 |           21 | 'tgaacctaaacctaaaacctaaaacctaaaaccct'        | 'SubtelomericRepeat' |\n",
       "+---------------+-----+--------------+----+-------------+--------------+----------------------------------------------+----------------------+\n",
       "| 'Pf3D7_01_v3' | 421 | 'cttacttact' |  2 |          10 |           20 | 'cttagtcttacttacttactcttacttacttactcttatc'   | 'SubtelomericRepeat' |\n",
       "+---------------+-----+--------------+----+-------------+--------------+----------------------------------------------+----------------------+\n",
       "| 'Pf3D7_01_v3' | 477 | 'cttacttact' |  2 |          10 |           20 | 'cttagtcttacttacttactcttacttacttactcttatc'   | 'SubtelomericRepeat' |\n",
       "+---------------+-----+--------------+----+-------------+--------------+----------------------------------------------+----------------------+\n",
       "..."
      ]
     },
     "execution_count": 66,
     "metadata": {},
     "output_type": "execute_result"
    }
   ],
   "source": [
    "tbl_tr_wg"
   ]
  },
  {
   "cell_type": "code",
   "execution_count": 67,
   "metadata": {
    "collapsed": false
   },
   "outputs": [
    {
     "data": {
      "text/html": [
       "<table class='petl'>\n",
       "<thead>\n",
       "<tr>\n",
       "<th>0|chrom</th>\n",
       "<th>1|pos</th>\n",
       "<th>2|ru</th>\n",
       "<th>3|nu</th>\n",
       "<th>4|unit_length</th>\n",
       "<th>5|tract_length</th>\n",
       "<th>6|context</th>\n",
       "<th>7|region_type</th>\n",
       "</tr>\n",
       "</thead>\n",
       "<tbody>\n",
       "<tr>\n",
       "<td>Pf3D7_01_v3</td>\n",
       "<td style='text-align: right'>93098</td>\n",
       "<td>a</td>\n",
       "<td style='text-align: right'>7</td>\n",
       "<td style='text-align: right'>1</td>\n",
       "<td style='text-align: right'>7</td>\n",
       "<td>caaaaaaat</td>\n",
       "<td>Core</td>\n",
       "</tr>\n",
       "<tr>\n",
       "<td>Pf3D7_01_v3</td>\n",
       "<td style='text-align: right'>93902</td>\n",
       "<td>at</td>\n",
       "<td style='text-align: right'>19</td>\n",
       "<td style='text-align: right'>2</td>\n",
       "<td style='text-align: right'>38</td>\n",
       "<td>taatatatatatatatatatatatatatatatatatatataa</td>\n",
       "<td>Core</td>\n",
       "</tr>\n",
       "<tr>\n",
       "<td>Pf3D7_01_v3</td>\n",
       "<td style='text-align: right'>94016</td>\n",
       "<td>a</td>\n",
       "<td style='text-align: right'>7</td>\n",
       "<td style='text-align: right'>1</td>\n",
       "<td style='text-align: right'>7</td>\n",
       "<td>taaaaaaat</td>\n",
       "<td>Core</td>\n",
       "</tr>\n",
       "<tr>\n",
       "<td>Pf3D7_01_v3</td>\n",
       "<td style='text-align: right'>94258</td>\n",
       "<td>at</td>\n",
       "<td style='text-align: right'>12</td>\n",
       "<td style='text-align: right'>2</td>\n",
       "<td style='text-align: right'>24</td>\n",
       "<td>aaatatatatatatatatatatatataa</td>\n",
       "<td>Core</td>\n",
       "</tr>\n",
       "<tr>\n",
       "<td>Pf3D7_01_v3</td>\n",
       "<td style='text-align: right'>94433</td>\n",
       "<td>taa</td>\n",
       "<td style='text-align: right'>4</td>\n",
       "<td style='text-align: right'>3</td>\n",
       "<td style='text-align: right'>12</td>\n",
       "<td>ttttaataataataatat</td>\n",
       "<td>Core</td>\n",
       "</tr>\n",
       "</tbody>\n",
       "</table>\n",
       "<p><strong>...</strong></p>"
      ],
      "text/plain": [
       "+---------------+-------+-------+----+-------------+--------------+----------------------------------------------+-------------+\n",
       "| chrom         | pos   | ru    | nu | unit_length | tract_length | context                                      | region_type |\n",
       "+===============+=======+=======+====+=============+==============+==============================================+=============+\n",
       "| 'Pf3D7_01_v3' | 93098 | 'a'   |  7 |           1 |            7 | 'caaaaaaat'                                  | 'Core'      |\n",
       "+---------------+-------+-------+----+-------------+--------------+----------------------------------------------+-------------+\n",
       "| 'Pf3D7_01_v3' | 93902 | 'at'  | 19 |           2 |           38 | 'taatatatatatatatatatatatatatatatatatatataa' | 'Core'      |\n",
       "+---------------+-------+-------+----+-------------+--------------+----------------------------------------------+-------------+\n",
       "| 'Pf3D7_01_v3' | 94016 | 'a'   |  7 |           1 |            7 | 'taaaaaaat'                                  | 'Core'      |\n",
       "+---------------+-------+-------+----+-------------+--------------+----------------------------------------------+-------------+\n",
       "| 'Pf3D7_01_v3' | 94258 | 'at'  | 12 |           2 |           24 | 'aaatatatatatatatatatatatataa'               | 'Core'      |\n",
       "+---------------+-------+-------+----+-------------+--------------+----------------------------------------------+-------------+\n",
       "| 'Pf3D7_01_v3' | 94433 | 'taa' |  4 |           3 |           12 | 'ttttaataataataatat'                         | 'Core'      |\n",
       "+---------------+-------+-------+----+-------------+--------------+----------------------------------------------+-------------+\n",
       "..."
      ]
     },
     "execution_count": 67,
     "metadata": {},
     "output_type": "execute_result"
    }
   ],
   "source": [
    "tbl_tr_wg.eq('region_type', 'Core')"
   ]
  },
  {
   "cell_type": "code",
   "execution_count": null,
   "metadata": {
    "collapsed": true
   },
   "outputs": [],
   "source": []
  }
 ],
 "metadata": {
  "kernelspec": {
   "display_name": "Python 3",
   "language": "python",
   "name": "python3"
  },
  "language_info": {
   "codemirror_mode": {
    "name": "ipython",
    "version": 3
   },
   "file_extension": ".py",
   "mimetype": "text/x-python",
   "name": "python",
   "nbconvert_exporter": "python",
   "pygments_lexer": "ipython3",
   "version": "3.5.0+"
  }
 },
 "nbformat": 4,
 "nbformat_minor": 0
}
