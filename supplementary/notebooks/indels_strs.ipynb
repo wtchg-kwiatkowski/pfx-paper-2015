{
 "cells": [
  {
   "cell_type": "code",
   "execution_count": 1,
   "metadata": {
    "collapsed": false
   },
   "outputs": [
    {
     "name": "stdout",
     "output_type": "stream",
     "text": [
      "docker image cggh/biipy:v1.6.0\n"
     ]
    },
    {
     "data": {
      "text/html": [
       "<style type=\"text/css\">\n",
       ".container {\n",
       "    width: 96%;\n",
       "}\n",
       "#maintoolbar {\n",
       "    display: none;\n",
       "}\n",
       "#header-container {\n",
       "    display: none;\n",
       "}\n",
       "#notebook {\n",
       "    padding-top: 0;\n",
       "}\n",
       "</style>"
      ],
      "text/plain": [
       "<IPython.core.display.HTML object>"
      ]
     },
     "metadata": {},
     "output_type": "display_data"
    }
   ],
   "source": [
    "%run ../../shared_setup.ipynb"
   ]
  },
  {
   "cell_type": "code",
   "execution_count": 2,
   "metadata": {
    "collapsed": false
   },
   "outputs": [
    {
     "data": {
      "text/plain": [
       "<pyfasta.fasta.Fasta at 0x7f8908247e48>"
      ]
     },
     "execution_count": 2,
     "metadata": {},
     "output_type": "execute_result"
    }
   ],
   "source": [
    "fasta"
   ]
  },
  {
   "cell_type": "code",
   "execution_count": 3,
   "metadata": {
    "collapsed": false
   },
   "outputs": [
    {
     "data": {
      "text/plain": [
       "['Pf3D7_01_v3',\n",
       " 'Pf3D7_02_v3',\n",
       " 'Pf3D7_03_v3',\n",
       " 'Pf3D7_04_v3',\n",
       " 'Pf3D7_05_v3',\n",
       " 'Pf3D7_06_v3',\n",
       " 'Pf3D7_07_v3',\n",
       " 'Pf3D7_08_v3',\n",
       " 'Pf3D7_09_v3',\n",
       " 'Pf3D7_10_v3',\n",
       " 'Pf3D7_11_v3',\n",
       " 'Pf3D7_12_v3',\n",
       " 'Pf3D7_13_v3',\n",
       " 'Pf3D7_14_v3']"
      ]
     },
     "execution_count": 3,
     "metadata": {},
     "output_type": "execute_result"
    }
   ],
   "source": [
    "sorted(fasta.keys())"
   ]
  },
  {
   "cell_type": "code",
   "execution_count": 4,
   "metadata": {
    "collapsed": false
   },
   "outputs": [
    {
     "data": {
      "text/plain": [
       "NpyFastaRecord(0..640851)"
      ]
     },
     "execution_count": 4,
     "metadata": {},
     "output_type": "execute_result"
    }
   ],
   "source": [
    "fasta['Pf3D7_01_v3']"
   ]
  },
  {
   "cell_type": "code",
   "execution_count": 5,
   "metadata": {
    "collapsed": true
   },
   "outputs": [],
   "source": [
    "class TandemRepeatTable(etl.Table):\n",
    "    \n",
    "    def __init__(self, chrom, unit_length, min_tract_length):\n",
    "        self.chrom = chrom\n",
    "        self.unit_length = unit_length\n",
    "        self.min_tract_length = min_tract_length\n",
    "        \n",
    "    def __iter__(self):\n",
    "        chrom = self.chrom\n",
    "        unit_length = self.unit_length\n",
    "        min_tract_length = self.min_tract_length\n",
    "\n",
    "        # header row\n",
    "        yield ('chrom', 'start', 'stop', 'ru', 'nu', 'unit_length', 'tract_length')\n",
    "        \n",
    "        log('generating tandem repeats for chromosome', chrom, 'unit length', unit_length)\n",
    "\n",
    "        # obtain sequence\n",
    "        seq = fasta[chrom]\n",
    "        \n",
    "        # begin iteration\n",
    "        i = 0\n",
    "        while i < len(seq):\n",
    "            \n",
    "            # current repeat unit\n",
    "            ru = seq[i:i+unit_length]\n",
    "            \n",
    "            # number of repeat units found\n",
    "            nu = 1\n",
    "            \n",
    "            # next potential unit to compare\n",
    "            next_unit = seq[i+(nu*unit_length):i+((nu+1)*unit_length)]\n",
    "            \n",
    "            # discover units\n",
    "            while next_unit == ru:\n",
    "                nu += 1\n",
    "                next_unit = seq[i+(nu*unit_length):i+((nu+1)*unit_length)]\n",
    "                \n",
    "            # compute tract length\n",
    "            tract_length = nu * unit_length\n",
    "            \n",
    "            # decide if discovered a tandem repeat\n",
    "            if nu > 1 and tract_length > min_tract_length:\n",
    "                yield (chrom, i+1, i+1+tract_length, ru, nu, unit_length, tract_length)\n",
    "                i += nu * unit_length\n",
    "            else:\n",
    "                i += 1\n",
    "        "
   ]
  },
  {
   "cell_type": "code",
   "execution_count": 6,
   "metadata": {
    "collapsed": false
   },
   "outputs": [
    {
     "name": "stderr",
     "output_type": "stream",
     "text": [
      "2016-03-12 23:55:31.089804 :: generating tandem repeats for chromosome Pf3D7_01_v3 unit length 1\n",
      "2016-03-12 23:55:31.239531 :: generating tandem repeats for chromosome Pf3D7_01_v3 unit length 1\n"
     ]
    },
    {
     "data": {
      "text/html": [
       "<table class='petl'>\n",
       "<thead>\n",
       "<tr>\n",
       "<th>0|chrom</th>\n",
       "<th>1|start</th>\n",
       "<th>2|stop</th>\n",
       "<th>3|ru</th>\n",
       "<th>4|nu</th>\n",
       "<th>5|unit_length</th>\n",
       "<th>6|tract_length</th>\n",
       "</tr>\n",
       "</thead>\n",
       "<tbody>\n",
       "<tr>\n",
       "<td>Pf3D7_01_v3</td>\n",
       "<td style='text-align: right'>4179</td>\n",
       "<td style='text-align: right'>4187</td>\n",
       "<td>g</td>\n",
       "<td style='text-align: right'>8</td>\n",
       "<td style='text-align: right'>1</td>\n",
       "<td style='text-align: right'>8</td>\n",
       "</tr>\n",
       "<tr>\n",
       "<td>Pf3D7_01_v3</td>\n",
       "<td style='text-align: right'>4337</td>\n",
       "<td style='text-align: right'>4355</td>\n",
       "<td>t</td>\n",
       "<td style='text-align: right'>18</td>\n",
       "<td style='text-align: right'>1</td>\n",
       "<td style='text-align: right'>18</td>\n",
       "</tr>\n",
       "<tr>\n",
       "<td>Pf3D7_01_v3</td>\n",
       "<td style='text-align: right'>4411</td>\n",
       "<td style='text-align: right'>4419</td>\n",
       "<td>t</td>\n",
       "<td style='text-align: right'>8</td>\n",
       "<td style='text-align: right'>1</td>\n",
       "<td style='text-align: right'>8</td>\n",
       "</tr>\n",
       "<tr>\n",
       "<td>Pf3D7_01_v3</td>\n",
       "<td style='text-align: right'>4633</td>\n",
       "<td style='text-align: right'>4640</td>\n",
       "<td>t</td>\n",
       "<td style='text-align: right'>7</td>\n",
       "<td style='text-align: right'>1</td>\n",
       "<td style='text-align: right'>7</td>\n",
       "</tr>\n",
       "<tr>\n",
       "<td>Pf3D7_01_v3</td>\n",
       "<td style='text-align: right'>5457</td>\n",
       "<td style='text-align: right'>5465</td>\n",
       "<td>g</td>\n",
       "<td style='text-align: right'>8</td>\n",
       "<td style='text-align: right'>1</td>\n",
       "<td style='text-align: right'>8</td>\n",
       "</tr>\n",
       "</tbody>\n",
       "</table>\n",
       "<p><strong>...</strong></p>"
      ],
      "text/plain": [
       "+---------------+-------+------+-----+----+-------------+--------------+\n",
       "| chrom         | start | stop | ru  | nu | unit_length | tract_length |\n",
       "+===============+=======+======+=====+====+=============+==============+\n",
       "| 'Pf3D7_01_v3' |  4179 | 4187 | 'g' |  8 |           1 |            8 |\n",
       "+---------------+-------+------+-----+----+-------------+--------------+\n",
       "| 'Pf3D7_01_v3' |  4337 | 4355 | 't' | 18 |           1 |           18 |\n",
       "+---------------+-------+------+-----+----+-------------+--------------+\n",
       "| 'Pf3D7_01_v3' |  4411 | 4419 | 't' |  8 |           1 |            8 |\n",
       "+---------------+-------+------+-----+----+-------------+--------------+\n",
       "| 'Pf3D7_01_v3' |  4633 | 4640 | 't' |  7 |           1 |            7 |\n",
       "+---------------+-------+------+-----+----+-------------+--------------+\n",
       "| 'Pf3D7_01_v3' |  5457 | 5465 | 'g' |  8 |           1 |            8 |\n",
       "+---------------+-------+------+-----+----+-------------+--------------+\n",
       "..."
      ]
     },
     "execution_count": 6,
     "metadata": {},
     "output_type": "execute_result"
    }
   ],
   "source": [
    "tbl1 = TandemRepeatTable('Pf3D7_01_v3', 1, 6)\n",
    "tbl1"
   ]
  },
  {
   "cell_type": "code",
   "execution_count": 7,
   "metadata": {
    "collapsed": false
   },
   "outputs": [
    {
     "name": "stderr",
     "output_type": "stream",
     "text": [
      "2016-03-12 23:55:32.625266 :: generating tandem repeats for chromosome Pf3D7_01_v3 unit length 2\n",
      "2016-03-12 23:55:32.984365 :: generating tandem repeats for chromosome Pf3D7_01_v3 unit length 2\n"
     ]
    },
    {
     "data": {
      "text/html": [
       "<table class='petl'>\n",
       "<thead>\n",
       "<tr>\n",
       "<th>0|chrom</th>\n",
       "<th>1|start</th>\n",
       "<th>2|stop</th>\n",
       "<th>3|ru</th>\n",
       "<th>4|nu</th>\n",
       "<th>5|unit_length</th>\n",
       "<th>6|tract_length</th>\n",
       "</tr>\n",
       "</thead>\n",
       "<tbody>\n",
       "<tr>\n",
       "<td>Pf3D7_01_v3</td>\n",
       "<td style='text-align: right'>4213</td>\n",
       "<td style='text-align: right'>4225</td>\n",
       "<td>tg</td>\n",
       "<td style='text-align: right'>6</td>\n",
       "<td style='text-align: right'>2</td>\n",
       "<td style='text-align: right'>12</td>\n",
       "</tr>\n",
       "<tr>\n",
       "<td>Pf3D7_01_v3</td>\n",
       "<td style='text-align: right'>4337</td>\n",
       "<td style='text-align: right'>4355</td>\n",
       "<td>tt</td>\n",
       "<td style='text-align: right'>9</td>\n",
       "<td style='text-align: right'>2</td>\n",
       "<td style='text-align: right'>18</td>\n",
       "</tr>\n",
       "<tr>\n",
       "<td>Pf3D7_01_v3</td>\n",
       "<td style='text-align: right'>27416</td>\n",
       "<td style='text-align: right'>27446</td>\n",
       "<td>aa</td>\n",
       "<td style='text-align: right'>15</td>\n",
       "<td style='text-align: right'>2</td>\n",
       "<td style='text-align: right'>30</td>\n",
       "</tr>\n",
       "<tr>\n",
       "<td>Pf3D7_01_v3</td>\n",
       "<td style='text-align: right'>27499</td>\n",
       "<td style='text-align: right'>27509</td>\n",
       "<td>aa</td>\n",
       "<td style='text-align: right'>5</td>\n",
       "<td style='text-align: right'>2</td>\n",
       "<td style='text-align: right'>10</td>\n",
       "</tr>\n",
       "<tr>\n",
       "<td>Pf3D7_01_v3</td>\n",
       "<td style='text-align: right'>27510</td>\n",
       "<td style='text-align: right'>27524</td>\n",
       "<td>aa</td>\n",
       "<td style='text-align: right'>7</td>\n",
       "<td style='text-align: right'>2</td>\n",
       "<td style='text-align: right'>14</td>\n",
       "</tr>\n",
       "</tbody>\n",
       "</table>\n",
       "<p><strong>...</strong></p>"
      ],
      "text/plain": [
       "+---------------+-------+-------+------+----+-------------+--------------+\n",
       "| chrom         | start | stop  | ru   | nu | unit_length | tract_length |\n",
       "+===============+=======+=======+======+====+=============+==============+\n",
       "| 'Pf3D7_01_v3' |  4213 |  4225 | 'tg' |  6 |           2 |           12 |\n",
       "+---------------+-------+-------+------+----+-------------+--------------+\n",
       "| 'Pf3D7_01_v3' |  4337 |  4355 | 'tt' |  9 |           2 |           18 |\n",
       "+---------------+-------+-------+------+----+-------------+--------------+\n",
       "| 'Pf3D7_01_v3' | 27416 | 27446 | 'aa' | 15 |           2 |           30 |\n",
       "+---------------+-------+-------+------+----+-------------+--------------+\n",
       "| 'Pf3D7_01_v3' | 27499 | 27509 | 'aa' |  5 |           2 |           10 |\n",
       "+---------------+-------+-------+------+----+-------------+--------------+\n",
       "| 'Pf3D7_01_v3' | 27510 | 27524 | 'aa' |  7 |           2 |           14 |\n",
       "+---------------+-------+-------+------+----+-------------+--------------+\n",
       "..."
      ]
     },
     "execution_count": 7,
     "metadata": {},
     "output_type": "execute_result"
    }
   ],
   "source": [
    "tbl2 = TandemRepeatTable('Pf3D7_01_v3', 2, 9)\n",
    "tbl2"
   ]
  },
  {
   "cell_type": "code",
   "execution_count": 8,
   "metadata": {
    "collapsed": false
   },
   "outputs": [
    {
     "data": {
      "text/html": [
       "<table class='petl'>\n",
       "<thead>\n",
       "<tr>\n",
       "<th>0|region_chrom</th>\n",
       "<th>1|region_start</th>\n",
       "<th>2|region_stop</th>\n",
       "<th>3|region_type</th>\n",
       "<th>4|region_size</th>\n",
       "</tr>\n",
       "</thead>\n",
       "<tbody>\n",
       "<tr>\n",
       "<td>Pf3D7_01_v3</td>\n",
       "<td style='text-align: right'>1</td>\n",
       "<td style='text-align: right'>27336</td>\n",
       "<td>SubtelomericRepeat</td>\n",
       "<td style='text-align: right'>27336</td>\n",
       "</tr>\n",
       "<tr>\n",
       "<td>Pf3D7_01_v3</td>\n",
       "<td style='text-align: right'>27337</td>\n",
       "<td style='text-align: right'>92900</td>\n",
       "<td>SubtelomericHypervariable</td>\n",
       "<td style='text-align: right'>65564</td>\n",
       "</tr>\n",
       "<tr>\n",
       "<td>Pf3D7_01_v3</td>\n",
       "<td style='text-align: right'>92901</td>\n",
       "<td style='text-align: right'>457931</td>\n",
       "<td>Core</td>\n",
       "<td style='text-align: right'>365031</td>\n",
       "</tr>\n",
       "<tr>\n",
       "<td>Pf3D7_01_v3</td>\n",
       "<td style='text-align: right'>457932</td>\n",
       "<td style='text-align: right'>460311</td>\n",
       "<td>Centromere</td>\n",
       "<td style='text-align: right'>2380</td>\n",
       "</tr>\n",
       "<tr>\n",
       "<td>Pf3D7_01_v3</td>\n",
       "<td style='text-align: right'>460312</td>\n",
       "<td style='text-align: right'>575900</td>\n",
       "<td>Core</td>\n",
       "<td style='text-align: right'>115589</td>\n",
       "</tr>\n",
       "</tbody>\n",
       "</table>\n",
       "<p><strong>...</strong></p>"
      ],
      "text/plain": [
       "+---------------+--------------+-------------+-----------------------------+-------------+\n",
       "| region_chrom  | region_start | region_stop | region_type                 | region_size |\n",
       "+===============+==============+=============+=============================+=============+\n",
       "| 'Pf3D7_01_v3' |            1 |       27336 | 'SubtelomericRepeat'        |       27336 |\n",
       "+---------------+--------------+-------------+-----------------------------+-------------+\n",
       "| 'Pf3D7_01_v3' |        27337 |       92900 | 'SubtelomericHypervariable' |       65564 |\n",
       "+---------------+--------------+-------------+-----------------------------+-------------+\n",
       "| 'Pf3D7_01_v3' |        92901 |      457931 | 'Core'                      |      365031 |\n",
       "+---------------+--------------+-------------+-----------------------------+-------------+\n",
       "| 'Pf3D7_01_v3' |       457932 |      460311 | 'Centromere'                |        2380 |\n",
       "+---------------+--------------+-------------+-----------------------------+-------------+\n",
       "| 'Pf3D7_01_v3' |       460312 |      575900 | 'Core'                      |      115589 |\n",
       "+---------------+--------------+-------------+-----------------------------+-------------+\n",
       "..."
      ]
     },
     "execution_count": 8,
     "metadata": {},
     "output_type": "execute_result"
    }
   ],
   "source": [
    "tbl_regions_1b"
   ]
  },
  {
   "cell_type": "code",
   "execution_count": 16,
   "metadata": {
    "collapsed": false
   },
   "outputs": [],
   "source": [
    "#!rm -v /data/plasmodium/pfalciparum/pf-crosses/data/genome/sanger/version3/September_2012/Pf3D7_08_v3.tr.pickle"
   ]
  },
  {
   "cell_type": "code",
   "execution_count": 17,
   "metadata": {
    "collapsed": false
   },
   "outputs": [],
   "source": [
    "def tabulate_tr(chrom):\n",
    "    fn = '/data/plasmodium/pfalciparum/pf-crosses/data/genome/sanger/version3/September_2012/%s.tr.pickle' % chrom\n",
    "    if not os.path.exists(fn):\n",
    "        tbl_tr = (\n",
    "            etl\n",
    "            .cat(*[\n",
    "                TandemRepeatTable(chrom, 1, 6), \n",
    "                TandemRepeatTable(chrom, 2, 9), \n",
    "                TandemRepeatTable(chrom, 3, 11), \n",
    "                TandemRepeatTable(chrom, 4, 13), \n",
    "                TandemRepeatTable(chrom, 5, 14), \n",
    "                TandemRepeatTable(chrom, 6, 16), \n",
    "                TandemRepeatTable(chrom, 7, 18), \n",
    "                TandemRepeatTable(chrom, 8, 18), \n",
    "                TandemRepeatTable(chrom, 9, 18), \n",
    "                TandemRepeatTable(chrom, 10, 18), \n",
    "                TandemRepeatTable(chrom, 11, 18), \n",
    "                TandemRepeatTable(chrom, 12, 18), \n",
    "                TandemRepeatTable(chrom, 13, 18), \n",
    "                TandemRepeatTable(chrom, 14, 18), \n",
    "                TandemRepeatTable(chrom, 15, 18), \n",
    "                TandemRepeatTable(chrom, 16, 18), \n",
    "                TandemRepeatTable(chrom, 17, 18), \n",
    "                TandemRepeatTable(chrom, 18, 18), \n",
    "                TandemRepeatTable(chrom, 19, 18), \n",
    "                TandemRepeatTable(chrom, 20, 18), \n",
    "                TandemRepeatTable(chrom, 21, 18), \n",
    "                TandemRepeatTable(chrom, 22, 18), \n",
    "                TandemRepeatTable(chrom, 23, 18), \n",
    "                TandemRepeatTable(chrom, 24, 18), \n",
    "            ])\n",
    "            # remove redundant sub-repeats\n",
    "            .groupselectmin(key=('chrom', 'start'), value='unit_length')\n",
    "            .intervalleftjoin(tbl_regions_1b, lkey='chrom', lstart='start', lstop='stop', include_stop=True,\n",
    "                              rkey='region_chrom', rstart='region_start', rstop='region_stop')\n",
    "            .cutout('region_chrom', 'region_start', 'region_stop', 'region_size')\n",
    "        )\n",
    "        tbl_tr.topickle(fn)\n",
    "    tbl_tr = etl.frompickle(fn)\n",
    "    return tbl_tr\n",
    "    "
   ]
  },
  {
   "cell_type": "code",
   "execution_count": 18,
   "metadata": {
    "collapsed": false
   },
   "outputs": [
    {
     "data": {
      "text/html": [
       "<table class='petl'>\n",
       "<thead>\n",
       "<tr>\n",
       "<th>0|chrom</th>\n",
       "<th>1|start</th>\n",
       "<th>2|stop</th>\n",
       "<th>3|ru</th>\n",
       "<th>4|nu</th>\n",
       "<th>5|unit_length</th>\n",
       "<th>6|tract_length</th>\n",
       "<th>7|region_type</th>\n",
       "</tr>\n",
       "</thead>\n",
       "<tbody>\n",
       "<tr>\n",
       "<td>Pf3D7_01_v3</td>\n",
       "<td style='text-align: right'>13</td>\n",
       "<td style='text-align: right'>34</td>\n",
       "<td>cctaaac</td>\n",
       "<td style='text-align: right'>3</td>\n",
       "<td style='text-align: right'>7</td>\n",
       "<td style='text-align: right'>21</td>\n",
       "<td>SubtelomericRepeat</td>\n",
       "</tr>\n",
       "<tr>\n",
       "<td>Pf3D7_01_v3</td>\n",
       "<td style='text-align: right'>24</td>\n",
       "<td style='text-align: right'>52</td>\n",
       "<td>aaccctaaaccctg</td>\n",
       "<td style='text-align: right'>2</td>\n",
       "<td style='text-align: right'>14</td>\n",
       "<td style='text-align: right'>28</td>\n",
       "<td>SubtelomericRepeat</td>\n",
       "</tr>\n",
       "<tr>\n",
       "<td>Pf3D7_01_v3</td>\n",
       "<td style='text-align: right'>38</td>\n",
       "<td style='text-align: right'>101</td>\n",
       "<td>aaccctaaaccctgaacccta</td>\n",
       "<td style='text-align: right'>3</td>\n",
       "<td style='text-align: right'>21</td>\n",
       "<td style='text-align: right'>63</td>\n",
       "<td>SubtelomericRepeat</td>\n",
       "</tr>\n",
       "<tr>\n",
       "<td>Pf3D7_01_v3</td>\n",
       "<td style='text-align: right'>80</td>\n",
       "<td style='text-align: right'>108</td>\n",
       "<td>aaccctaaaccctg</td>\n",
       "<td style='text-align: right'>2</td>\n",
       "<td style='text-align: right'>14</td>\n",
       "<td style='text-align: right'>28</td>\n",
       "<td>SubtelomericRepeat</td>\n",
       "</tr>\n",
       "<tr>\n",
       "<td>Pf3D7_01_v3</td>\n",
       "<td style='text-align: right'>111</td>\n",
       "<td style='text-align: right'>139</td>\n",
       "<td>cctaaaccctgaac</td>\n",
       "<td style='text-align: right'>2</td>\n",
       "<td style='text-align: right'>14</td>\n",
       "<td style='text-align: right'>28</td>\n",
       "<td>SubtelomericRepeat</td>\n",
       "</tr>\n",
       "</tbody>\n",
       "</table>\n",
       "<p><strong>...</strong></p>"
      ],
      "text/plain": [
       "+---------------+-------+------+-------------------------+----+-------------+--------------+----------------------+\n",
       "| chrom         | start | stop | ru                      | nu | unit_length | tract_length | region_type          |\n",
       "+===============+=======+======+=========================+====+=============+==============+======================+\n",
       "| 'Pf3D7_01_v3' |    13 |   34 | 'cctaaac'               |  3 |           7 |           21 | 'SubtelomericRepeat' |\n",
       "+---------------+-------+------+-------------------------+----+-------------+--------------+----------------------+\n",
       "| 'Pf3D7_01_v3' |    24 |   52 | 'aaccctaaaccctg'        |  2 |          14 |           28 | 'SubtelomericRepeat' |\n",
       "+---------------+-------+------+-------------------------+----+-------------+--------------+----------------------+\n",
       "| 'Pf3D7_01_v3' |    38 |  101 | 'aaccctaaaccctgaacccta' |  3 |          21 |           63 | 'SubtelomericRepeat' |\n",
       "+---------------+-------+------+-------------------------+----+-------------+--------------+----------------------+\n",
       "| 'Pf3D7_01_v3' |    80 |  108 | 'aaccctaaaccctg'        |  2 |          14 |           28 | 'SubtelomericRepeat' |\n",
       "+---------------+-------+------+-------------------------+----+-------------+--------------+----------------------+\n",
       "| 'Pf3D7_01_v3' |   111 |  139 | 'cctaaaccctgaac'        |  2 |          14 |           28 | 'SubtelomericRepeat' |\n",
       "+---------------+-------+------+-------------------------+----+-------------+--------------+----------------------+\n",
       "..."
      ]
     },
     "execution_count": 18,
     "metadata": {},
     "output_type": "execute_result"
    }
   ],
   "source": [
    "tbl = tabulate_tr('Pf3D7_01_v3')\n",
    "tbl"
   ]
  },
  {
   "cell_type": "code",
   "execution_count": 19,
   "metadata": {
    "collapsed": false
   },
   "outputs": [
    {
     "data": {
      "text/plain": [
       "[b'Pf3D7_01_v3',\n",
       " b'Pf3D7_02_v3',\n",
       " b'Pf3D7_03_v3',\n",
       " b'Pf3D7_04_v3',\n",
       " b'Pf3D7_05_v3',\n",
       " b'Pf3D7_06_v3',\n",
       " b'Pf3D7_07_v3',\n",
       " b'Pf3D7_08_v3',\n",
       " b'Pf3D7_09_v3',\n",
       " b'Pf3D7_10_v3',\n",
       " b'Pf3D7_11_v3',\n",
       " b'Pf3D7_12_v3',\n",
       " b'Pf3D7_13_v3',\n",
       " b'Pf3D7_14_v3']"
      ]
     },
     "execution_count": 19,
     "metadata": {},
     "output_type": "execute_result"
    }
   ],
   "source": [
    "CHROMOSOMES"
   ]
  },
  {
   "cell_type": "code",
   "execution_count": null,
   "metadata": {
    "collapsed": false
   },
   "outputs": [
    {
     "name": "stderr",
     "output_type": "stream",
     "text": [
      "2016-03-12 23:56:23.906519 :: generating tandem repeats for chromosome Pf3D7_07_v3 unit length 1\n",
      "2016-03-12 23:56:44.195917 :: generating tandem repeats for chromosome Pf3D7_07_v3 unit length 2\n",
      "2016-03-12 23:57:01.922624 :: generating tandem repeats for chromosome Pf3D7_07_v3 unit length 3\n",
      "2016-03-12 23:57:19.305757 :: generating tandem repeats for chromosome Pf3D7_07_v3 unit length 4\n",
      "2016-03-12 23:57:36.235974 :: generating tandem repeats for chromosome Pf3D7_07_v3 unit length 5\n",
      "2016-03-12 23:57:52.524319 :: generating tandem repeats for chromosome Pf3D7_07_v3 unit length 6\n",
      "2016-03-12 23:58:08.520138 :: generating tandem repeats for chromosome Pf3D7_07_v3 unit length 7\n",
      "2016-03-12 23:58:24.928209 :: generating tandem repeats for chromosome Pf3D7_07_v3 unit length 8\n",
      "2016-03-12 23:58:41.083142 :: generating tandem repeats for chromosome Pf3D7_07_v3 unit length 9\n"
     ]
    }
   ],
   "source": [
    "tbl_tr_wg = etl.cat(*[tabulate_tr(str(chrom, 'ascii')) for chrom in CHROMOSOMES])"
   ]
  },
  {
   "cell_type": "code",
   "execution_count": null,
   "metadata": {
    "collapsed": false
   },
   "outputs": [],
   "source": [
    "tbl_tr_wg"
   ]
  },
  {
   "cell_type": "markdown",
   "metadata": {},
   "source": [
    "## Fraction of core genome in STRs"
   ]
  },
  {
   "cell_type": "code",
   "execution_count": null,
   "metadata": {
    "collapsed": true
   },
   "outputs": [],
   "source": [
    "# TODO recode below"
   ]
  },
  {
   "cell_type": "code",
   "execution_count": 18,
   "metadata": {
    "collapsed": false
   },
   "outputs": [
    {
     "data": {
      "text/html": [
       "<table class='petl'>\n",
       "<thead>\n",
       "<tr>\n",
       "<th>0|feature_chrom</th>\n",
       "<th>1|feature_type</th>\n",
       "<th>2|feature_start</th>\n",
       "<th>3|feature_stop</th>\n",
       "<th>4|feature_length</th>\n",
       "<th>5|feature_strand</th>\n",
       "<th>6|feature_id</th>\n",
       "<th>7|feature_parent_id</th>\n",
       "<th>8|feature_name</th>\n",
       "<th>9|feature_previous_id</th>\n",
       "<th>10|feature_region_type</th>\n",
       "<th>11|feature_region_size</th>\n",
       "</tr>\n",
       "</thead>\n",
       "<tbody>\n",
       "<tr>\n",
       "<td>Pf3D7_01_v3</td>\n",
       "<td>CDS</td>\n",
       "<td style='text-align: right'>29510</td>\n",
       "<td style='text-align: right'>34762</td>\n",
       "<td style='text-align: right'>5252</td>\n",
       "<td>+</td>\n",
       "<td>PF3D7_0100100.1:exon:1</td>\n",
       "<td>PF3D7_0100100.1</td>\n",
       "<td>None</td>\n",
       "<td>None</td>\n",
       "<td>SubtelomericHypervariable</td>\n",
       "<td style='text-align: right'>65564</td>\n",
       "</tr>\n",
       "<tr>\n",
       "<td>Pf3D7_01_v3</td>\n",
       "<td>CDS</td>\n",
       "<td style='text-align: right'>35888</td>\n",
       "<td style='text-align: right'>37126</td>\n",
       "<td style='text-align: right'>1238</td>\n",
       "<td>+</td>\n",
       "<td>PF3D7_0100100.1:exon:2</td>\n",
       "<td>PF3D7_0100100.1</td>\n",
       "<td>None</td>\n",
       "<td>None</td>\n",
       "<td>SubtelomericHypervariable</td>\n",
       "<td style='text-align: right'>65564</td>\n",
       "</tr>\n",
       "<tr>\n",
       "<td>Pf3D7_01_v3</td>\n",
       "<td>CDS</td>\n",
       "<td style='text-align: right'>38982</td>\n",
       "<td style='text-align: right'>39923</td>\n",
       "<td style='text-align: right'>941</td>\n",
       "<td>-</td>\n",
       "<td>PF3D7_0100200.1:exon:1</td>\n",
       "<td>PF3D7_0100200.1</td>\n",
       "<td>None</td>\n",
       "<td>None</td>\n",
       "<td>SubtelomericHypervariable</td>\n",
       "<td style='text-align: right'>65564</td>\n",
       "</tr>\n",
       "<tr>\n",
       "<td>Pf3D7_01_v3</td>\n",
       "<td>CDS</td>\n",
       "<td style='text-align: right'>40154</td>\n",
       "<td style='text-align: right'>40207</td>\n",
       "<td style='text-align: right'>53</td>\n",
       "<td>-</td>\n",
       "<td>PF3D7_0100200.1:exon:2</td>\n",
       "<td>PF3D7_0100200.1</td>\n",
       "<td>None</td>\n",
       "<td>None</td>\n",
       "<td>SubtelomericHypervariable</td>\n",
       "<td style='text-align: right'>65564</td>\n",
       "</tr>\n",
       "<tr>\n",
       "<td>Pf3D7_01_v3</td>\n",
       "<td>CDS</td>\n",
       "<td style='text-align: right'>42367</td>\n",
       "<td style='text-align: right'>43617</td>\n",
       "<td style='text-align: right'>1250</td>\n",
       "<td>-</td>\n",
       "<td>PF3D7_0100300.1:exon:1</td>\n",
       "<td>PF3D7_0100300.1</td>\n",
       "<td>None</td>\n",
       "<td>None</td>\n",
       "<td>SubtelomericHypervariable</td>\n",
       "<td style='text-align: right'>65564</td>\n",
       "</tr>\n",
       "</tbody>\n",
       "</table>\n",
       "<p><strong>...</strong></p>"
      ],
      "text/plain": [
       "+---------------+--------------+---------------+--------------+----------------+----------------+--------------------------+-------------------+--------------+---------------------+-----------------------------+---------------------+\n",
       "| feature_chrom | feature_type | feature_start | feature_stop | feature_length | feature_strand | feature_id               | feature_parent_id | feature_name | feature_previous_id | feature_region_type         | feature_region_size |\n",
       "+===============+==============+===============+==============+================+================+==========================+===================+==============+=====================+=============================+=====================+\n",
       "| 'Pf3D7_01_v3' | 'CDS'        |         29510 |        34762 |           5252 | '+'            | 'PF3D7_0100100.1:exon:1' | 'PF3D7_0100100.1' | None         | None                | 'SubtelomericHypervariable' |               65564 |\n",
       "+---------------+--------------+---------------+--------------+----------------+----------------+--------------------------+-------------------+--------------+---------------------+-----------------------------+---------------------+\n",
       "| 'Pf3D7_01_v3' | 'CDS'        |         35888 |        37126 |           1238 | '+'            | 'PF3D7_0100100.1:exon:2' | 'PF3D7_0100100.1' | None         | None                | 'SubtelomericHypervariable' |               65564 |\n",
       "+---------------+--------------+---------------+--------------+----------------+----------------+--------------------------+-------------------+--------------+---------------------+-----------------------------+---------------------+\n",
       "| 'Pf3D7_01_v3' | 'CDS'        |         38982 |        39923 |            941 | '-'            | 'PF3D7_0100200.1:exon:1' | 'PF3D7_0100200.1' | None         | None                | 'SubtelomericHypervariable' |               65564 |\n",
       "+---------------+--------------+---------------+--------------+----------------+----------------+--------------------------+-------------------+--------------+---------------------+-----------------------------+---------------------+\n",
       "| 'Pf3D7_01_v3' | 'CDS'        |         40154 |        40207 |             53 | '-'            | 'PF3D7_0100200.1:exon:2' | 'PF3D7_0100200.1' | None         | None                | 'SubtelomericHypervariable' |               65564 |\n",
       "+---------------+--------------+---------------+--------------+----------------+----------------+--------------------------+-------------------+--------------+---------------------+-----------------------------+---------------------+\n",
       "| 'Pf3D7_01_v3' | 'CDS'        |         42367 |        43617 |           1250 | '-'            | 'PF3D7_0100300.1:exon:1' | 'PF3D7_0100300.1' | None         | None                | 'SubtelomericHypervariable' |               65564 |\n",
       "+---------------+--------------+---------------+--------------+----------------+----------------+--------------------------+-------------------+--------------+---------------------+-----------------------------+---------------------+\n",
       "..."
      ]
     },
     "execution_count": 18,
     "metadata": {},
     "output_type": "execute_result"
    }
   ],
   "source": [
    "tbl_exons"
   ]
  },
  {
   "cell_type": "code",
   "execution_count": 32,
   "metadata": {
    "collapsed": false,
    "scrolled": false
   },
   "outputs": [
    {
     "data": {
      "text/html": [
       "<table class='petl'>\n",
       "<thead>\n",
       "<tr>\n",
       "<th>0|chrom</th>\n",
       "<th>1|start</th>\n",
       "<th>2|stop</th>\n",
       "<th>3|ru</th>\n",
       "<th>4|nu</th>\n",
       "<th>5|unit_length</th>\n",
       "<th>6|tract_length</th>\n",
       "<th>7|context</th>\n",
       "<th>8|region_type</th>\n",
       "<th>9|feature_start</th>\n",
       "<th>10|feature_stop</th>\n",
       "<th>11|feature_length</th>\n",
       "<th>12|feature_strand</th>\n",
       "<th>13|feature_id</th>\n",
       "<th>14|feature_parent_id</th>\n",
       "<th>15|feature_name</th>\n",
       "<th>16|feature_previous_id</th>\n",
       "</tr>\n",
       "</thead>\n",
       "<tbody>\n",
       "<tr>\n",
       "<td>Pf3D7_01_v3</td>\n",
       "<td style='text-align: right'>93098</td>\n",
       "<td style='text-align: right'>93105</td>\n",
       "<td>a</td>\n",
       "<td style='text-align: right'>7</td>\n",
       "<td style='text-align: right'>1</td>\n",
       "<td style='text-align: right'>7</td>\n",
       "<td>caaaaaaat</td>\n",
       "<td>Core</td>\n",
       "<td>None</td>\n",
       "<td>None</td>\n",
       "<td>None</td>\n",
       "<td>None</td>\n",
       "<td>None</td>\n",
       "<td>None</td>\n",
       "<td>None</td>\n",
       "<td>None</td>\n",
       "</tr>\n",
       "<tr>\n",
       "<td>Pf3D7_01_v3</td>\n",
       "<td style='text-align: right'>93902</td>\n",
       "<td style='text-align: right'>93940</td>\n",
       "<td>at</td>\n",
       "<td style='text-align: right'>19</td>\n",
       "<td style='text-align: right'>2</td>\n",
       "<td style='text-align: right'>38</td>\n",
       "<td>taatatatatatatatatatatatatatatatatatatataa</td>\n",
       "<td>Core</td>\n",
       "<td>None</td>\n",
       "<td>None</td>\n",
       "<td>None</td>\n",
       "<td>None</td>\n",
       "<td>None</td>\n",
       "<td>None</td>\n",
       "<td>None</td>\n",
       "<td>None</td>\n",
       "</tr>\n",
       "<tr>\n",
       "<td>Pf3D7_01_v3</td>\n",
       "<td style='text-align: right'>94016</td>\n",
       "<td style='text-align: right'>94023</td>\n",
       "<td>a</td>\n",
       "<td style='text-align: right'>7</td>\n",
       "<td style='text-align: right'>1</td>\n",
       "<td style='text-align: right'>7</td>\n",
       "<td>taaaaaaat</td>\n",
       "<td>Core</td>\n",
       "<td>None</td>\n",
       "<td>None</td>\n",
       "<td>None</td>\n",
       "<td>None</td>\n",
       "<td>None</td>\n",
       "<td>None</td>\n",
       "<td>None</td>\n",
       "<td>None</td>\n",
       "</tr>\n",
       "<tr>\n",
       "<td>Pf3D7_01_v3</td>\n",
       "<td style='text-align: right'>94258</td>\n",
       "<td style='text-align: right'>94282</td>\n",
       "<td>at</td>\n",
       "<td style='text-align: right'>12</td>\n",
       "<td style='text-align: right'>2</td>\n",
       "<td style='text-align: right'>24</td>\n",
       "<td>aaatatatatatatatatatatatataa</td>\n",
       "<td>Core</td>\n",
       "<td>None</td>\n",
       "<td>None</td>\n",
       "<td>None</td>\n",
       "<td>None</td>\n",
       "<td>None</td>\n",
       "<td>None</td>\n",
       "<td>None</td>\n",
       "<td>None</td>\n",
       "</tr>\n",
       "<tr>\n",
       "<td>Pf3D7_01_v3</td>\n",
       "<td style='text-align: right'>94433</td>\n",
       "<td style='text-align: right'>94445</td>\n",
       "<td>taa</td>\n",
       "<td style='text-align: right'>4</td>\n",
       "<td style='text-align: right'>3</td>\n",
       "<td style='text-align: right'>12</td>\n",
       "<td>ttttaataataataatat</td>\n",
       "<td>Core</td>\n",
       "<td>None</td>\n",
       "<td>None</td>\n",
       "<td>None</td>\n",
       "<td>None</td>\n",
       "<td>None</td>\n",
       "<td>None</td>\n",
       "<td>None</td>\n",
       "<td>None</td>\n",
       "</tr>\n",
       "</tbody>\n",
       "</table>\n",
       "<p><strong>...</strong></p>"
      ],
      "text/plain": [
       "+---------------+-------+-------+-------+----+-------------+--------------+----------------------------------------------+-------------+---------------+--------------+----------------+----------------+------------+-------------------+--------------+---------------------+\n",
       "| chrom         | start | stop  | ru    | nu | unit_length | tract_length | context                                      | region_type | feature_start | feature_stop | feature_length | feature_strand | feature_id | feature_parent_id | feature_name | feature_previous_id |\n",
       "+===============+=======+=======+=======+====+=============+==============+==============================================+=============+===============+==============+================+================+============+===================+==============+=====================+\n",
       "| 'Pf3D7_01_v3' | 93098 | 93105 | 'a'   |  7 |           1 |            7 | 'caaaaaaat'                                  | 'Core'      | None          | None         | None           | None           | None       | None              | None         | None                |\n",
       "+---------------+-------+-------+-------+----+-------------+--------------+----------------------------------------------+-------------+---------------+--------------+----------------+----------------+------------+-------------------+--------------+---------------------+\n",
       "| 'Pf3D7_01_v3' | 93902 | 93940 | 'at'  | 19 |           2 |           38 | 'taatatatatatatatatatatatatatatatatatatataa' | 'Core'      | None          | None         | None           | None           | None       | None              | None         | None                |\n",
       "+---------------+-------+-------+-------+----+-------------+--------------+----------------------------------------------+-------------+---------------+--------------+----------------+----------------+------------+-------------------+--------------+---------------------+\n",
       "| 'Pf3D7_01_v3' | 94016 | 94023 | 'a'   |  7 |           1 |            7 | 'taaaaaaat'                                  | 'Core'      | None          | None         | None           | None           | None       | None              | None         | None                |\n",
       "+---------------+-------+-------+-------+----+-------------+--------------+----------------------------------------------+-------------+---------------+--------------+----------------+----------------+------------+-------------------+--------------+---------------------+\n",
       "| 'Pf3D7_01_v3' | 94258 | 94282 | 'at'  | 12 |           2 |           24 | 'aaatatatatatatatatatatatataa'               | 'Core'      | None          | None         | None           | None           | None       | None              | None         | None                |\n",
       "+---------------+-------+-------+-------+----+-------------+--------------+----------------------------------------------+-------------+---------------+--------------+----------------+----------------+------------+-------------------+--------------+---------------------+\n",
       "| 'Pf3D7_01_v3' | 94433 | 94445 | 'taa' |  4 |           3 |           12 | 'ttttaataataataatat'                         | 'Core'      | None          | None         | None           | None           | None       | None              | None         | None                |\n",
       "+---------------+-------+-------+-------+----+-------------+--------------+----------------------------------------------+-------------+---------------+--------------+----------------+----------------+------------+-------------------+--------------+---------------------+\n",
       "..."
      ]
     },
     "execution_count": 32,
     "metadata": {},
     "output_type": "execute_result"
    }
   ],
   "source": [
    "tbl_tr_core = (\n",
    "    tbl_tr_wg\n",
    "    .eq('region_type', 'Core')\n",
    "    .rename('pos', 'start')\n",
    "    .addfield('stop', lambda row: row.start + row.tract_length, index=2)\n",
    "    .intervalleftjoin(tbl_exons.cutout('feature_type', 'feature_region_type', 'feature_region_size'), \n",
    "                      lkey='chrom', lstart='start', lstop='stop',\n",
    "                      rkey='feature_chrom', rstart='feature_start', rstop='feature_stop', \n",
    "                      include_stop=True)\n",
    "    .cutout('feature_chrom')\n",
    "    .cache()\n",
    ")\n",
    "tbl_tr_core"
   ]
  },
  {
   "cell_type": "code",
   "execution_count": 34,
   "metadata": {
    "collapsed": false
   },
   "outputs": [
    {
     "data": {
      "text/plain": [
       "204289"
      ]
     },
     "execution_count": 34,
     "metadata": {},
     "output_type": "execute_result"
    }
   ],
   "source": [
    "tbl_tr_core.nrows()"
   ]
  },
  {
   "cell_type": "code",
   "execution_count": 35,
   "metadata": {
    "collapsed": false
   },
   "outputs": [
    {
     "data": {
      "text/plain": [
       "2966687"
      ]
     },
     "execution_count": 35,
     "metadata": {},
     "output_type": "execute_result"
    }
   ],
   "source": [
    "tbl_tr_core.values('tract_length').sum()"
   ]
  },
  {
   "cell_type": "code",
   "execution_count": 36,
   "metadata": {
    "collapsed": false
   },
   "outputs": [
    {
     "data": {
      "text/html": [
       "<table class='petl'>\n",
       "<thead>\n",
       "<tr>\n",
       "<th>0|chrom</th>\n",
       "<th>1|start</th>\n",
       "<th>2|stop</th>\n",
       "<th>3|ru</th>\n",
       "<th>4|nu</th>\n",
       "<th>5|unit_length</th>\n",
       "<th>6|tract_length</th>\n",
       "<th>7|context</th>\n",
       "<th>8|region_type</th>\n",
       "<th>9|feature_start</th>\n",
       "<th>10|feature_stop</th>\n",
       "<th>11|feature_length</th>\n",
       "<th>12|feature_strand</th>\n",
       "<th>13|feature_id</th>\n",
       "<th>14|feature_parent_id</th>\n",
       "<th>15|feature_name</th>\n",
       "<th>16|feature_previous_id</th>\n",
       "</tr>\n",
       "</thead>\n",
       "<tbody>\n",
       "<tr>\n",
       "<td>Pf3D7_01_v3</td>\n",
       "<td style='text-align: right'>98886</td>\n",
       "<td style='text-align: right'>98893</td>\n",
       "<td>a</td>\n",
       "<td style='text-align: right'>7</td>\n",
       "<td style='text-align: right'>1</td>\n",
       "<td style='text-align: right'>7</td>\n",
       "<td>gaaaaaaat</td>\n",
       "<td>Core</td>\n",
       "<td style='text-align: right'>98819</td>\n",
       "<td style='text-align: right'>99013</td>\n",
       "<td style='text-align: right'>194</td>\n",
       "<td>+</td>\n",
       "<td>PF3D7_0102200.1:exon:1</td>\n",
       "<td>PF3D7_0102200.1</td>\n",
       "<td>None</td>\n",
       "<td>None</td>\n",
       "</tr>\n",
       "<tr>\n",
       "<td>Pf3D7_01_v3</td>\n",
       "<td style='text-align: right'>99591</td>\n",
       "<td style='text-align: right'>99599</td>\n",
       "<td>a</td>\n",
       "<td style='text-align: right'>8</td>\n",
       "<td style='text-align: right'>1</td>\n",
       "<td style='text-align: right'>8</td>\n",
       "<td>taaaaaaaat</td>\n",
       "<td>Core</td>\n",
       "<td style='text-align: right'>99220</td>\n",
       "<td style='text-align: right'>102282</td>\n",
       "<td style='text-align: right'>3062</td>\n",
       "<td>+</td>\n",
       "<td>PF3D7_0102200.1:exon:2</td>\n",
       "<td>PF3D7_0102200.1</td>\n",
       "<td>None</td>\n",
       "<td>None</td>\n",
       "</tr>\n",
       "<tr>\n",
       "<td>Pf3D7_01_v3</td>\n",
       "<td style='text-align: right'>100030</td>\n",
       "<td style='text-align: right'>100037</td>\n",
       "<td>a</td>\n",
       "<td style='text-align: right'>7</td>\n",
       "<td style='text-align: right'>1</td>\n",
       "<td style='text-align: right'>7</td>\n",
       "<td>gaaaaaaag</td>\n",
       "<td>Core</td>\n",
       "<td style='text-align: right'>99220</td>\n",
       "<td style='text-align: right'>102282</td>\n",
       "<td style='text-align: right'>3062</td>\n",
       "<td>+</td>\n",
       "<td>PF3D7_0102200.1:exon:2</td>\n",
       "<td>PF3D7_0102200.1</td>\n",
       "<td>None</td>\n",
       "<td>None</td>\n",
       "</tr>\n",
       "<tr>\n",
       "<td>Pf3D7_01_v3</td>\n",
       "<td style='text-align: right'>100060</td>\n",
       "<td style='text-align: right'>100068</td>\n",
       "<td>g</td>\n",
       "<td style='text-align: right'>8</td>\n",
       "<td style='text-align: right'>1</td>\n",
       "<td style='text-align: right'>8</td>\n",
       "<td>tgggggggga</td>\n",
       "<td>Core</td>\n",
       "<td style='text-align: right'>99220</td>\n",
       "<td style='text-align: right'>102282</td>\n",
       "<td style='text-align: right'>3062</td>\n",
       "<td>+</td>\n",
       "<td>PF3D7_0102200.1:exon:2</td>\n",
       "<td>PF3D7_0102200.1</td>\n",
       "<td>None</td>\n",
       "<td>None</td>\n",
       "</tr>\n",
       "<tr>\n",
       "<td>Pf3D7_01_v3</td>\n",
       "<td style='text-align: right'>100759</td>\n",
       "<td style='text-align: right'>100766</td>\n",
       "<td>a</td>\n",
       "<td style='text-align: right'>7</td>\n",
       "<td style='text-align: right'>1</td>\n",
       "<td style='text-align: right'>7</td>\n",
       "<td>taaaaaaag</td>\n",
       "<td>Core</td>\n",
       "<td style='text-align: right'>99220</td>\n",
       "<td style='text-align: right'>102282</td>\n",
       "<td style='text-align: right'>3062</td>\n",
       "<td>+</td>\n",
       "<td>PF3D7_0102200.1:exon:2</td>\n",
       "<td>PF3D7_0102200.1</td>\n",
       "<td>None</td>\n",
       "<td>None</td>\n",
       "</tr>\n",
       "</tbody>\n",
       "</table>\n",
       "<p><strong>...</strong></p>"
      ],
      "text/plain": [
       "+---------------+--------+--------+-----+----+-------------+--------------+--------------+-------------+---------------+--------------+----------------+----------------+--------------------------+-------------------+--------------+---------------------+\n",
       "| chrom         | start  | stop   | ru  | nu | unit_length | tract_length | context      | region_type | feature_start | feature_stop | feature_length | feature_strand | feature_id               | feature_parent_id | feature_name | feature_previous_id |\n",
       "+===============+========+========+=====+====+=============+==============+==============+=============+===============+==============+================+================+==========================+===================+==============+=====================+\n",
       "| 'Pf3D7_01_v3' |  98886 |  98893 | 'a' |  7 |           1 |            7 | 'gaaaaaaat'  | 'Core'      |         98819 |        99013 |            194 | '+'            | 'PF3D7_0102200.1:exon:1' | 'PF3D7_0102200.1' | None         | None                |\n",
       "+---------------+--------+--------+-----+----+-------------+--------------+--------------+-------------+---------------+--------------+----------------+----------------+--------------------------+-------------------+--------------+---------------------+\n",
       "| 'Pf3D7_01_v3' |  99591 |  99599 | 'a' |  8 |           1 |            8 | 'taaaaaaaat' | 'Core'      |         99220 |       102282 |           3062 | '+'            | 'PF3D7_0102200.1:exon:2' | 'PF3D7_0102200.1' | None         | None                |\n",
       "+---------------+--------+--------+-----+----+-------------+--------------+--------------+-------------+---------------+--------------+----------------+----------------+--------------------------+-------------------+--------------+---------------------+\n",
       "| 'Pf3D7_01_v3' | 100030 | 100037 | 'a' |  7 |           1 |            7 | 'gaaaaaaag'  | 'Core'      |         99220 |       102282 |           3062 | '+'            | 'PF3D7_0102200.1:exon:2' | 'PF3D7_0102200.1' | None         | None                |\n",
       "+---------------+--------+--------+-----+----+-------------+--------------+--------------+-------------+---------------+--------------+----------------+----------------+--------------------------+-------------------+--------------+---------------------+\n",
       "| 'Pf3D7_01_v3' | 100060 | 100068 | 'g' |  8 |           1 |            8 | 'tgggggggga' | 'Core'      |         99220 |       102282 |           3062 | '+'            | 'PF3D7_0102200.1:exon:2' | 'PF3D7_0102200.1' | None         | None                |\n",
       "+---------------+--------+--------+-----+----+-------------+--------------+--------------+-------------+---------------+--------------+----------------+----------------+--------------------------+-------------------+--------------+---------------------+\n",
       "| 'Pf3D7_01_v3' | 100759 | 100766 | 'a' |  7 |           1 |            7 | 'taaaaaaag'  | 'Core'      |         99220 |       102282 |           3062 | '+'            | 'PF3D7_0102200.1:exon:2' | 'PF3D7_0102200.1' | None         | None                |\n",
       "+---------------+--------+--------+-----+----+-------------+--------------+--------------+-------------+---------------+--------------+----------------+----------------+--------------------------+-------------------+--------------+---------------------+\n",
       "..."
      ]
     },
     "execution_count": 36,
     "metadata": {},
     "output_type": "execute_result"
    }
   ],
   "source": [
    "tbl_tr_core.notnone('feature_id')"
   ]
  },
  {
   "cell_type": "code",
   "execution_count": 64,
   "metadata": {
    "collapsed": false
   },
   "outputs": [
    {
     "data": {
      "text/plain": [
       "53648"
      ]
     },
     "execution_count": 64,
     "metadata": {},
     "output_type": "execute_result"
    }
   ],
   "source": [
    "n_core_coding_tr = tbl_tr_core.notnone('feature_id').nrows()\n",
    "n_core_coding_tr"
   ]
  },
  {
   "cell_type": "code",
   "execution_count": 65,
   "metadata": {
    "collapsed": false
   },
   "outputs": [
    {
     "data": {
      "text/plain": [
       "580324"
      ]
     },
     "execution_count": 65,
     "metadata": {},
     "output_type": "execute_result"
    }
   ],
   "source": [
    "bp_core_coding_tr = tbl_tr_core.notnone('feature_id').values('tract_length').sum()\n",
    "bp_core_coding_tr"
   ]
  },
  {
   "cell_type": "code",
   "execution_count": 39,
   "metadata": {
    "collapsed": false
   },
   "outputs": [
    {
     "data": {
      "text/html": [
       "<table class='petl'>\n",
       "<thead>\n",
       "<tr>\n",
       "<th>0|chrom</th>\n",
       "<th>1|start</th>\n",
       "<th>2|stop</th>\n",
       "<th>3|ru</th>\n",
       "<th>4|nu</th>\n",
       "<th>5|unit_length</th>\n",
       "<th>6|tract_length</th>\n",
       "<th>7|context</th>\n",
       "<th>8|region_type</th>\n",
       "<th>9|feature_start</th>\n",
       "<th>10|feature_stop</th>\n",
       "<th>11|feature_length</th>\n",
       "<th>12|feature_strand</th>\n",
       "<th>13|feature_id</th>\n",
       "<th>14|feature_parent_id</th>\n",
       "<th>15|feature_name</th>\n",
       "<th>16|feature_previous_id</th>\n",
       "</tr>\n",
       "</thead>\n",
       "<tbody>\n",
       "<tr>\n",
       "<td>Pf3D7_01_v3</td>\n",
       "<td style='text-align: right'>93098</td>\n",
       "<td style='text-align: right'>93105</td>\n",
       "<td>a</td>\n",
       "<td style='text-align: right'>7</td>\n",
       "<td style='text-align: right'>1</td>\n",
       "<td style='text-align: right'>7</td>\n",
       "<td>caaaaaaat</td>\n",
       "<td>Core</td>\n",
       "<td>None</td>\n",
       "<td>None</td>\n",
       "<td>None</td>\n",
       "<td>None</td>\n",
       "<td>None</td>\n",
       "<td>None</td>\n",
       "<td>None</td>\n",
       "<td>None</td>\n",
       "</tr>\n",
       "<tr>\n",
       "<td>Pf3D7_01_v3</td>\n",
       "<td style='text-align: right'>93902</td>\n",
       "<td style='text-align: right'>93940</td>\n",
       "<td>at</td>\n",
       "<td style='text-align: right'>19</td>\n",
       "<td style='text-align: right'>2</td>\n",
       "<td style='text-align: right'>38</td>\n",
       "<td>taatatatatatatatatatatatatatatatatatatataa</td>\n",
       "<td>Core</td>\n",
       "<td>None</td>\n",
       "<td>None</td>\n",
       "<td>None</td>\n",
       "<td>None</td>\n",
       "<td>None</td>\n",
       "<td>None</td>\n",
       "<td>None</td>\n",
       "<td>None</td>\n",
       "</tr>\n",
       "<tr>\n",
       "<td>Pf3D7_01_v3</td>\n",
       "<td style='text-align: right'>94016</td>\n",
       "<td style='text-align: right'>94023</td>\n",
       "<td>a</td>\n",
       "<td style='text-align: right'>7</td>\n",
       "<td style='text-align: right'>1</td>\n",
       "<td style='text-align: right'>7</td>\n",
       "<td>taaaaaaat</td>\n",
       "<td>Core</td>\n",
       "<td>None</td>\n",
       "<td>None</td>\n",
       "<td>None</td>\n",
       "<td>None</td>\n",
       "<td>None</td>\n",
       "<td>None</td>\n",
       "<td>None</td>\n",
       "<td>None</td>\n",
       "</tr>\n",
       "<tr>\n",
       "<td>Pf3D7_01_v3</td>\n",
       "<td style='text-align: right'>94258</td>\n",
       "<td style='text-align: right'>94282</td>\n",
       "<td>at</td>\n",
       "<td style='text-align: right'>12</td>\n",
       "<td style='text-align: right'>2</td>\n",
       "<td style='text-align: right'>24</td>\n",
       "<td>aaatatatatatatatatatatatataa</td>\n",
       "<td>Core</td>\n",
       "<td>None</td>\n",
       "<td>None</td>\n",
       "<td>None</td>\n",
       "<td>None</td>\n",
       "<td>None</td>\n",
       "<td>None</td>\n",
       "<td>None</td>\n",
       "<td>None</td>\n",
       "</tr>\n",
       "<tr>\n",
       "<td>Pf3D7_01_v3</td>\n",
       "<td style='text-align: right'>94433</td>\n",
       "<td style='text-align: right'>94445</td>\n",
       "<td>taa</td>\n",
       "<td style='text-align: right'>4</td>\n",
       "<td style='text-align: right'>3</td>\n",
       "<td style='text-align: right'>12</td>\n",
       "<td>ttttaataataataatat</td>\n",
       "<td>Core</td>\n",
       "<td>None</td>\n",
       "<td>None</td>\n",
       "<td>None</td>\n",
       "<td>None</td>\n",
       "<td>None</td>\n",
       "<td>None</td>\n",
       "<td>None</td>\n",
       "<td>None</td>\n",
       "</tr>\n",
       "</tbody>\n",
       "</table>\n",
       "<p><strong>...</strong></p>"
      ],
      "text/plain": [
       "+---------------+-------+-------+-------+----+-------------+--------------+----------------------------------------------+-------------+---------------+--------------+----------------+----------------+------------+-------------------+--------------+---------------------+\n",
       "| chrom         | start | stop  | ru    | nu | unit_length | tract_length | context                                      | region_type | feature_start | feature_stop | feature_length | feature_strand | feature_id | feature_parent_id | feature_name | feature_previous_id |\n",
       "+===============+=======+=======+=======+====+=============+==============+==============================================+=============+===============+==============+================+================+============+===================+==============+=====================+\n",
       "| 'Pf3D7_01_v3' | 93098 | 93105 | 'a'   |  7 |           1 |            7 | 'caaaaaaat'                                  | 'Core'      | None          | None         | None           | None           | None       | None              | None         | None                |\n",
       "+---------------+-------+-------+-------+----+-------------+--------------+----------------------------------------------+-------------+---------------+--------------+----------------+----------------+------------+-------------------+--------------+---------------------+\n",
       "| 'Pf3D7_01_v3' | 93902 | 93940 | 'at'  | 19 |           2 |           38 | 'taatatatatatatatatatatatatatatatatatatataa' | 'Core'      | None          | None         | None           | None           | None       | None              | None         | None                |\n",
       "+---------------+-------+-------+-------+----+-------------+--------------+----------------------------------------------+-------------+---------------+--------------+----------------+----------------+------------+-------------------+--------------+---------------------+\n",
       "| 'Pf3D7_01_v3' | 94016 | 94023 | 'a'   |  7 |           1 |            7 | 'taaaaaaat'                                  | 'Core'      | None          | None         | None           | None           | None       | None              | None         | None                |\n",
       "+---------------+-------+-------+-------+----+-------------+--------------+----------------------------------------------+-------------+---------------+--------------+----------------+----------------+------------+-------------------+--------------+---------------------+\n",
       "| 'Pf3D7_01_v3' | 94258 | 94282 | 'at'  | 12 |           2 |           24 | 'aaatatatatatatatatatatatataa'               | 'Core'      | None          | None         | None           | None           | None       | None              | None         | None                |\n",
       "+---------------+-------+-------+-------+----+-------------+--------------+----------------------------------------------+-------------+---------------+--------------+----------------+----------------+------------+-------------------+--------------+---------------------+\n",
       "| 'Pf3D7_01_v3' | 94433 | 94445 | 'taa' |  4 |           3 |           12 | 'ttttaataataataatat'                         | 'Core'      | None          | None         | None           | None           | None       | None              | None         | None                |\n",
       "+---------------+-------+-------+-------+----+-------------+--------------+----------------------------------------------+-------------+---------------+--------------+----------------+----------------+------------+-------------------+--------------+---------------------+\n",
       "..."
      ]
     },
     "execution_count": 39,
     "metadata": {},
     "output_type": "execute_result"
    }
   ],
   "source": [
    "tbl_tr_core.none('feature_id')"
   ]
  },
  {
   "cell_type": "code",
   "execution_count": 66,
   "metadata": {
    "collapsed": false
   },
   "outputs": [
    {
     "data": {
      "text/plain": [
       "150641"
      ]
     },
     "execution_count": 66,
     "metadata": {},
     "output_type": "execute_result"
    }
   ],
   "source": [
    "n_core_noncoding_tr = tbl_tr_core.none('feature_id').nrows()\n",
    "n_core_noncoding_tr"
   ]
  },
  {
   "cell_type": "code",
   "execution_count": 67,
   "metadata": {
    "collapsed": false
   },
   "outputs": [
    {
     "data": {
      "text/plain": [
       "2386363"
      ]
     },
     "execution_count": 67,
     "metadata": {},
     "output_type": "execute_result"
    }
   ],
   "source": [
    "bp_core_noncoding_tr = tbl_tr_core.none('feature_id').values('tract_length').sum()\n",
    "bp_core_noncoding_tr"
   ]
  },
  {
   "cell_type": "code",
   "execution_count": 73,
   "metadata": {
    "collapsed": false
   },
   "outputs": [
    {
     "data": {
      "text/plain": [
       "11674189"
      ]
     },
     "execution_count": 73,
     "metadata": {},
     "output_type": "execute_result"
    }
   ],
   "source": [
    "bp_core_coding = tbl_exons.eq('feature_region_type', 'Core').values('feature_length').sum()\n",
    "bp_core_coding"
   ]
  },
  {
   "cell_type": "code",
   "execution_count": 69,
   "metadata": {
    "collapsed": false
   },
   "outputs": [
    {
     "data": {
      "text/html": [
       "<table class='petl'>\n",
       "<thead>\n",
       "<tr>\n",
       "<th>0|feature_chrom</th>\n",
       "<th>1|feature_type</th>\n",
       "<th>2|feature_start</th>\n",
       "<th>3|feature_stop</th>\n",
       "<th>4|feature_length</th>\n",
       "<th>5|feature_strand</th>\n",
       "<th>6|feature_id</th>\n",
       "<th>7|feature_parent_id</th>\n",
       "<th>8|feature_name</th>\n",
       "<th>9|feature_previous_id</th>\n",
       "<th>10|feature_region_size</th>\n",
       "<th>11|feature_region_type</th>\n",
       "<th>12|region_size</th>\n",
       "</tr>\n",
       "</thead>\n",
       "<tbody>\n",
       "<tr>\n",
       "<td>Pf3D7_01_v3</td>\n",
       "<td>intron</td>\n",
       "<td style='text-align: right'>34762</td>\n",
       "<td style='text-align: right'>35888</td>\n",
       "<td style='text-align: right'>1126</td>\n",
       "<td>+</td>\n",
       "<td>PF3D7_0100100.1:exon:1_PF3D7_0100100.1:exon:2</td>\n",
       "<td>PF3D7_0100100.1</td>\n",
       "<td>None</td>\n",
       "<td>None</td>\n",
       "<td style='text-align: right'>65564</td>\n",
       "<td>SubtelomericHypervariable</td>\n",
       "<td style='text-align: right'>65564</td>\n",
       "</tr>\n",
       "<tr>\n",
       "<td>Pf3D7_01_v3</td>\n",
       "<td>intron</td>\n",
       "<td style='text-align: right'>39923</td>\n",
       "<td style='text-align: right'>40154</td>\n",
       "<td style='text-align: right'>231</td>\n",
       "<td>-</td>\n",
       "<td>PF3D7_0100200.1:exon:1_PF3D7_0100200.1:exon:2</td>\n",
       "<td>PF3D7_0100200.1</td>\n",
       "<td>None</td>\n",
       "<td>None</td>\n",
       "<td style='text-align: right'>65564</td>\n",
       "<td>SubtelomericHypervariable</td>\n",
       "<td style='text-align: right'>65564</td>\n",
       "</tr>\n",
       "<tr>\n",
       "<td>Pf3D7_01_v3</td>\n",
       "<td>intron</td>\n",
       "<td style='text-align: right'>43617</td>\n",
       "<td style='text-align: right'>43775</td>\n",
       "<td style='text-align: right'>158</td>\n",
       "<td>-</td>\n",
       "<td>PF3D7_0100300.1:exon:1_PF3D7_0100300.1:exon:2</td>\n",
       "<td>PF3D7_0100300.1</td>\n",
       "<td>None</td>\n",
       "<td>None</td>\n",
       "<td style='text-align: right'>65564</td>\n",
       "<td>SubtelomericHypervariable</td>\n",
       "<td style='text-align: right'>65564</td>\n",
       "</tr>\n",
       "<tr>\n",
       "<td>Pf3D7_01_v3</td>\n",
       "<td>intron</td>\n",
       "<td style='text-align: right'>50416</td>\n",
       "<td style='text-align: right'>50572</td>\n",
       "<td style='text-align: right'>156</td>\n",
       "<td>+</td>\n",
       "<td>PF3D7_0100400.1:exon:1_PF3D7_0100400.1:exon:2</td>\n",
       "<td>PF3D7_0100400.1</td>\n",
       "<td>None</td>\n",
       "<td>None</td>\n",
       "<td style='text-align: right'>65564</td>\n",
       "<td>SubtelomericHypervariable</td>\n",
       "<td style='text-align: right'>65564</td>\n",
       "</tr>\n",
       "<tr>\n",
       "<td>Pf3D7_01_v3</td>\n",
       "<td>intron</td>\n",
       "<td style='text-align: right'>54788</td>\n",
       "<td style='text-align: right'>54938</td>\n",
       "<td style='text-align: right'>150</td>\n",
       "<td>-</td>\n",
       "<td>PF3D7_0100600.1:exon:1_PF3D7_0100600.1:exon:2</td>\n",
       "<td>PF3D7_0100600.1</td>\n",
       "<td>None</td>\n",
       "<td>None</td>\n",
       "<td style='text-align: right'>65564</td>\n",
       "<td>SubtelomericHypervariable</td>\n",
       "<td style='text-align: right'>65564</td>\n",
       "</tr>\n",
       "</tbody>\n",
       "</table>\n",
       "<p><strong>...</strong></p>"
      ],
      "text/plain": [
       "+---------------+--------------+---------------+--------------+----------------+----------------+-------------------------------------------------+-------------------+--------------+---------------------+---------------------+-----------------------------+-------------+\n",
       "| feature_chrom | feature_type | feature_start | feature_stop | feature_length | feature_strand | feature_id                                      | feature_parent_id | feature_name | feature_previous_id | feature_region_size | feature_region_type         | region_size |\n",
       "+===============+==============+===============+==============+================+================+=================================================+===================+==============+=====================+=====================+=============================+=============+\n",
       "| 'Pf3D7_01_v3' | 'intron'     |         34762 |        35888 |           1126 | '+'            | 'PF3D7_0100100.1:exon:1_PF3D7_0100100.1:exon:2' | 'PF3D7_0100100.1' | None         | None                |               65564 | 'SubtelomericHypervariable' |       65564 |\n",
       "+---------------+--------------+---------------+--------------+----------------+----------------+-------------------------------------------------+-------------------+--------------+---------------------+---------------------+-----------------------------+-------------+\n",
       "| 'Pf3D7_01_v3' | 'intron'     |         39923 |        40154 |            231 | '-'            | 'PF3D7_0100200.1:exon:1_PF3D7_0100200.1:exon:2' | 'PF3D7_0100200.1' | None         | None                |               65564 | 'SubtelomericHypervariable' |       65564 |\n",
       "+---------------+--------------+---------------+--------------+----------------+----------------+-------------------------------------------------+-------------------+--------------+---------------------+---------------------+-----------------------------+-------------+\n",
       "| 'Pf3D7_01_v3' | 'intron'     |         43617 |        43775 |            158 | '-'            | 'PF3D7_0100300.1:exon:1_PF3D7_0100300.1:exon:2' | 'PF3D7_0100300.1' | None         | None                |               65564 | 'SubtelomericHypervariable' |       65564 |\n",
       "+---------------+--------------+---------------+--------------+----------------+----------------+-------------------------------------------------+-------------------+--------------+---------------------+---------------------+-----------------------------+-------------+\n",
       "| 'Pf3D7_01_v3' | 'intron'     |         50416 |        50572 |            156 | '+'            | 'PF3D7_0100400.1:exon:1_PF3D7_0100400.1:exon:2' | 'PF3D7_0100400.1' | None         | None                |               65564 | 'SubtelomericHypervariable' |       65564 |\n",
       "+---------------+--------------+---------------+--------------+----------------+----------------+-------------------------------------------------+-------------------+--------------+---------------------+---------------------+-----------------------------+-------------+\n",
       "| 'Pf3D7_01_v3' | 'intron'     |         54788 |        54938 |            150 | '-'            | 'PF3D7_0100600.1:exon:1_PF3D7_0100600.1:exon:2' | 'PF3D7_0100600.1' | None         | None                |               65564 | 'SubtelomericHypervariable' |       65564 |\n",
       "+---------------+--------------+---------------+--------------+----------------+----------------+-------------------------------------------------+-------------------+--------------+---------------------+---------------------+-----------------------------+-------------+\n",
       "..."
      ]
     },
     "execution_count": 69,
     "metadata": {},
     "output_type": "execute_result"
    }
   ],
   "source": [
    "tbl_introns"
   ]
  },
  {
   "cell_type": "code",
   "execution_count": 70,
   "metadata": {
    "collapsed": false
   },
   "outputs": [
    {
     "data": {
      "text/html": [
       "<table class='petl'>\n",
       "<thead>\n",
       "<tr>\n",
       "<th>0|feature_chrom</th>\n",
       "<th>1|feature_type</th>\n",
       "<th>2|feature_start</th>\n",
       "<th>3|feature_stop</th>\n",
       "<th>4|feature_length</th>\n",
       "<th>5|feature_id</th>\n",
       "<th>6|feature_region_size</th>\n",
       "<th>7|feature_region_type</th>\n",
       "<th>8|region_size</th>\n",
       "</tr>\n",
       "</thead>\n",
       "<tbody>\n",
       "<tr>\n",
       "<td>Pf3D7_01_v3</td>\n",
       "<td>intergenic_0</td>\n",
       "<td style='text-align: right'>37126</td>\n",
       "<td style='text-align: right'>38982</td>\n",
       "<td style='text-align: right'>1856</td>\n",
       "<td>PF3D7_0100100_PF3D7_0100200</td>\n",
       "<td style='text-align: right'>65564</td>\n",
       "<td>SubtelomericHypervariable</td>\n",
       "<td style='text-align: right'>65564</td>\n",
       "</tr>\n",
       "<tr>\n",
       "<td>Pf3D7_01_v3</td>\n",
       "<td>intergenic_1</td>\n",
       "<td style='text-align: right'>40207</td>\n",
       "<td style='text-align: right'>42367</td>\n",
       "<td style='text-align: right'>2160</td>\n",
       "<td>PF3D7_0100200_PF3D7_0100300</td>\n",
       "<td style='text-align: right'>65564</td>\n",
       "<td>SubtelomericHypervariable</td>\n",
       "<td style='text-align: right'>65564</td>\n",
       "</tr>\n",
       "<tr>\n",
       "<td>Pf3D7_01_v3</td>\n",
       "<td>intergenic_2</td>\n",
       "<td style='text-align: right'>46507</td>\n",
       "<td style='text-align: right'>50363</td>\n",
       "<td style='text-align: right'>3856</td>\n",
       "<td>PF3D7_0100300_PF3D7_0100400</td>\n",
       "<td style='text-align: right'>65564</td>\n",
       "<td>SubtelomericHypervariable</td>\n",
       "<td style='text-align: right'>65564</td>\n",
       "</tr>\n",
       "<tr>\n",
       "<td>Pf3D7_01_v3</td>\n",
       "<td>intergenic_0</td>\n",
       "<td style='text-align: right'>51636</td>\n",
       "<td style='text-align: right'>53169</td>\n",
       "<td style='text-align: right'>1533</td>\n",
       "<td>PF3D7_0100400_PF3D7_0100500</td>\n",
       "<td style='text-align: right'>65564</td>\n",
       "<td>SubtelomericHypervariable</td>\n",
       "<td style='text-align: right'>65564</td>\n",
       "</tr>\n",
       "<tr>\n",
       "<td>Pf3D7_01_v3</td>\n",
       "<td>intergenic_1</td>\n",
       "<td style='text-align: right'>53280</td>\n",
       "<td style='text-align: right'>53778</td>\n",
       "<td style='text-align: right'>498</td>\n",
       "<td>PF3D7_0100500_PF3D7_0100600</td>\n",
       "<td style='text-align: right'>65564</td>\n",
       "<td>SubtelomericHypervariable</td>\n",
       "<td style='text-align: right'>65564</td>\n",
       "</tr>\n",
       "</tbody>\n",
       "</table>\n",
       "<p><strong>...</strong></p>"
      ],
      "text/plain": [
       "+---------------+----------------+---------------+--------------+----------------+-------------------------------+---------------------+-----------------------------+-------------+\n",
       "| feature_chrom | feature_type   | feature_start | feature_stop | feature_length | feature_id                    | feature_region_size | feature_region_type         | region_size |\n",
       "+===============+================+===============+==============+================+===============================+=====================+=============================+=============+\n",
       "| 'Pf3D7_01_v3' | 'intergenic_0' |         37126 |        38982 |           1856 | 'PF3D7_0100100_PF3D7_0100200' |               65564 | 'SubtelomericHypervariable' |       65564 |\n",
       "+---------------+----------------+---------------+--------------+----------------+-------------------------------+---------------------+-----------------------------+-------------+\n",
       "| 'Pf3D7_01_v3' | 'intergenic_1' |         40207 |        42367 |           2160 | 'PF3D7_0100200_PF3D7_0100300' |               65564 | 'SubtelomericHypervariable' |       65564 |\n",
       "+---------------+----------------+---------------+--------------+----------------+-------------------------------+---------------------+-----------------------------+-------------+\n",
       "| 'Pf3D7_01_v3' | 'intergenic_2' |         46507 |        50363 |           3856 | 'PF3D7_0100300_PF3D7_0100400' |               65564 | 'SubtelomericHypervariable' |       65564 |\n",
       "+---------------+----------------+---------------+--------------+----------------+-------------------------------+---------------------+-----------------------------+-------------+\n",
       "| 'Pf3D7_01_v3' | 'intergenic_0' |         51636 |        53169 |           1533 | 'PF3D7_0100400_PF3D7_0100500' |               65564 | 'SubtelomericHypervariable' |       65564 |\n",
       "+---------------+----------------+---------------+--------------+----------------+-------------------------------+---------------------+-----------------------------+-------------+\n",
       "| 'Pf3D7_01_v3' | 'intergenic_1' |         53280 |        53778 |            498 | 'PF3D7_0100500_PF3D7_0100600' |               65564 | 'SubtelomericHypervariable' |       65564 |\n",
       "+---------------+----------------+---------------+--------------+----------------+-------------------------------+---------------------+-----------------------------+-------------+\n",
       "..."
      ]
     },
     "execution_count": 70,
     "metadata": {},
     "output_type": "execute_result"
    }
   ],
   "source": [
    "tbl_intergenic"
   ]
  },
  {
   "cell_type": "code",
   "execution_count": 71,
   "metadata": {
    "collapsed": false
   },
   "outputs": [
    {
     "data": {
      "text/html": [
       "<table class='petl'>\n",
       "<thead>\n",
       "<tr>\n",
       "<th>0|feature_chrom</th>\n",
       "<th>1|feature_type</th>\n",
       "<th>2|feature_start</th>\n",
       "<th>3|feature_stop</th>\n",
       "<th>4|feature_length</th>\n",
       "<th>5|feature_strand</th>\n",
       "<th>6|feature_id</th>\n",
       "<th>7|feature_parent_id</th>\n",
       "<th>8|feature_name</th>\n",
       "<th>9|feature_previous_id</th>\n",
       "</tr>\n",
       "</thead>\n",
       "<tbody>\n",
       "<tr>\n",
       "<td>Pf3D7_01_v3</td>\n",
       "<td>intergenic_1</td>\n",
       "<td style='text-align: right'>91420</td>\n",
       "<td style='text-align: right'>93113</td>\n",
       "<td style='text-align: right'>1693</td>\n",
       "<td>None</td>\n",
       "<td>PF3D7_0101900_PF3D7_0102000</td>\n",
       "<td>None</td>\n",
       "<td>None</td>\n",
       "<td>None</td>\n",
       "</tr>\n",
       "<tr>\n",
       "<td>Pf3D7_01_v3</td>\n",
       "<td>intergenic_2</td>\n",
       "<td style='text-align: right'>93875</td>\n",
       "<td style='text-align: right'>95050</td>\n",
       "<td style='text-align: right'>1175</td>\n",
       "<td>None</td>\n",
       "<td>PF3D7_0102000_PF3D7_0102100</td>\n",
       "<td>None</td>\n",
       "<td>None</td>\n",
       "<td>None</td>\n",
       "</tr>\n",
       "<tr>\n",
       "<td>Pf3D7_01_v3</td>\n",
       "<td>intergenic_1</td>\n",
       "<td style='text-align: right'>95899</td>\n",
       "<td style='text-align: right'>98819</td>\n",
       "<td style='text-align: right'>2920</td>\n",
       "<td>None</td>\n",
       "<td>PF3D7_0102100_PF3D7_0102200</td>\n",
       "<td>None</td>\n",
       "<td>None</td>\n",
       "<td>None</td>\n",
       "</tr>\n",
       "<tr>\n",
       "<td>Pf3D7_01_v3</td>\n",
       "<td>intron</td>\n",
       "<td style='text-align: right'>99013</td>\n",
       "<td style='text-align: right'>99220</td>\n",
       "<td style='text-align: right'>207</td>\n",
       "<td>+</td>\n",
       "<td>PF3D7_0102200.1:exon:1_PF3D7_0102200.1:exon:2</td>\n",
       "<td>PF3D7_0102200.1</td>\n",
       "<td>None</td>\n",
       "<td>None</td>\n",
       "</tr>\n",
       "<tr>\n",
       "<td>Pf3D7_01_v3</td>\n",
       "<td>intergenic_1</td>\n",
       "<td style='text-align: right'>102282</td>\n",
       "<td style='text-align: right'>104704</td>\n",
       "<td style='text-align: right'>2422</td>\n",
       "<td>None</td>\n",
       "<td>PF3D7_0102200_PF3D7_0102300</td>\n",
       "<td>None</td>\n",
       "<td>None</td>\n",
       "<td>None</td>\n",
       "</tr>\n",
       "</tbody>\n",
       "</table>\n",
       "<p><strong>...</strong></p>"
      ],
      "text/plain": [
       "+---------------+----------------+---------------+--------------+----------------+----------------+-------------------------------------------------+-------------------+--------------+---------------------+\n",
       "| feature_chrom | feature_type   | feature_start | feature_stop | feature_length | feature_strand | feature_id                                      | feature_parent_id | feature_name | feature_previous_id |\n",
       "+===============+================+===============+==============+================+================+=================================================+===================+==============+=====================+\n",
       "| 'Pf3D7_01_v3' | 'intergenic_1' |         91420 |        93113 |           1693 | None           | 'PF3D7_0101900_PF3D7_0102000'                   | None              | None         | None                |\n",
       "+---------------+----------------+---------------+--------------+----------------+----------------+-------------------------------------------------+-------------------+--------------+---------------------+\n",
       "| 'Pf3D7_01_v3' | 'intergenic_2' |         93875 |        95050 |           1175 | None           | 'PF3D7_0102000_PF3D7_0102100'                   | None              | None         | None                |\n",
       "+---------------+----------------+---------------+--------------+----------------+----------------+-------------------------------------------------+-------------------+--------------+---------------------+\n",
       "| 'Pf3D7_01_v3' | 'intergenic_1' |         95899 |        98819 |           2920 | None           | 'PF3D7_0102100_PF3D7_0102200'                   | None              | None         | None                |\n",
       "+---------------+----------------+---------------+--------------+----------------+----------------+-------------------------------------------------+-------------------+--------------+---------------------+\n",
       "| 'Pf3D7_01_v3' | 'intron'       |         99013 |        99220 |            207 | '+'            | 'PF3D7_0102200.1:exon:1_PF3D7_0102200.1:exon:2' | 'PF3D7_0102200.1' | None         | None                |\n",
       "+---------------+----------------+---------------+--------------+----------------+----------------+-------------------------------------------------+-------------------+--------------+---------------------+\n",
       "| 'Pf3D7_01_v3' | 'intergenic_1' |        102282 |       104704 |           2422 | None           | 'PF3D7_0102200_PF3D7_0102300'                   | None              | None         | None                |\n",
       "+---------------+----------------+---------------+--------------+----------------+----------------+-------------------------------------------------+-------------------+--------------+---------------------+\n",
       "..."
      ]
     },
     "execution_count": 71,
     "metadata": {},
     "output_type": "execute_result"
    }
   ],
   "source": [
    "tbl_core_noncoding = (\n",
    "    etl\n",
    "    .cat(tbl_introns, tbl_intergenic)\n",
    "    .sort(key=('feature_chrom', 'feature_start'))\n",
    "    .eq('feature_region_type', 'Core')\n",
    "    .cutout('feature_region_size', 'feature_region_type', 'region_size')\n",
    "    .cache()\n",
    ")\n",
    "tbl_core_noncoding"
   ]
  },
  {
   "cell_type": "code",
   "execution_count": 74,
   "metadata": {
    "collapsed": false
   },
   "outputs": [
    {
     "data": {
      "text/plain": [
       "9225374"
      ]
     },
     "execution_count": 74,
     "metadata": {},
     "output_type": "execute_result"
    }
   ],
   "source": [
    "bp_core_noncoding = tbl_core_noncoding.values('feature_length').sum()\n",
    "bp_core_noncoding"
   ]
  },
  {
   "cell_type": "code",
   "execution_count": 76,
   "metadata": {
    "collapsed": false
   },
   "outputs": [
    {
     "data": {
      "text/plain": [
       "4.971000555156337"
      ]
     },
     "execution_count": 76,
     "metadata": {},
     "output_type": "execute_result"
    }
   ],
   "source": [
    "pc_core_coding_tr = bp_core_coding_tr * 100 / bp_core_coding\n",
    "pc_core_coding_tr"
   ]
  },
  {
   "cell_type": "code",
   "execution_count": 78,
   "metadata": {
    "collapsed": false
   },
   "outputs": [
    {
     "data": {
      "text/plain": [
       "25.867384888677684"
      ]
     },
     "execution_count": 78,
     "metadata": {},
     "output_type": "execute_result"
    }
   ],
   "source": [
    "pc_core_noncoding_tr = bp_core_noncoding_tr * 100 / bp_core_noncoding\n",
    "pc_core_noncoding_tr"
   ]
  },
  {
   "cell_type": "code",
   "execution_count": 79,
   "metadata": {
    "collapsed": false
   },
   "outputs": [
    {
     "data": {
      "text/plain": [
       "217.60716149716671"
      ]
     },
     "execution_count": 79,
     "metadata": {},
     "output_type": "execute_result"
    }
   ],
   "source": [
    "bp_core_coding / n_coding_tr"
   ]
  },
  {
   "cell_type": "code",
   "execution_count": 80,
   "metadata": {
    "collapsed": false
   },
   "outputs": [
    {
     "data": {
      "text/plain": [
       "61.24079101970911"
      ]
     },
     "execution_count": 80,
     "metadata": {},
     "output_type": "execute_result"
    }
   ],
   "source": [
    "bp_core_noncoding / n_noncoding_tr"
   ]
  },
  {
   "cell_type": "code",
   "execution_count": 82,
   "metadata": {
    "collapsed": false
   },
   "outputs": [
    {
     "data": {
      "text/plain": [
       "10.817253206084104"
      ]
     },
     "execution_count": 82,
     "metadata": {},
     "output_type": "execute_result"
    }
   ],
   "source": [
    "bp_core_coding_tr / n_core_coding_tr"
   ]
  },
  {
   "cell_type": "code",
   "execution_count": 83,
   "metadata": {
    "collapsed": false
   },
   "outputs": [
    {
     "data": {
      "text/plain": [
       "15.841391121938914"
      ]
     },
     "execution_count": 83,
     "metadata": {},
     "output_type": "execute_result"
    }
   ],
   "source": [
    "bp_core_noncoding_tr / n_core_noncoding_tr"
   ]
  },
  {
   "cell_type": "markdown",
   "metadata": {},
   "source": [
    "## Are longer STRs more polymorphic?"
   ]
  },
  {
   "cell_type": "code",
   "execution_count": null,
   "metadata": {
    "collapsed": false
   },
   "outputs": [],
   "source": [
    "tbl_tr_wg = etl.cat(*[tabulate_tr(str(chrom, 'ascii')) for chrom in CHROMOSOMES)\n",
    "tbl_tr_wg"
   ]
  },
  {
   "cell_type": "code",
   "execution_count": null,
   "metadata": {
    "collapsed": false
   },
   "outputs": [],
   "source": [
    "tbl_tr_core = tbl_tr_wg.eq('region_type', 'Core').cutout('region_type')\n",
    "tbl_tr_core"
   ]
  },
  {
   "cell_type": "code",
   "execution_count": null,
   "metadata": {
    "collapsed": true
   },
   "outputs": [],
   "source": [
    "def tabulate_indels(cross):\n",
    "    \n",
    "    # VCF file name\n",
    "    vcf_fn = COMBINED_VCF_FN_TEMPLATE.format(cross=cross)\n",
    "    \n",
    "    # build the table\n",
    "    tbl = (etl\n",
    "        .fromvcf(vcf_fn, samples=None)\n",
    "        # only keep PASS variants\n",
    "        .false('FILTER')\n",
    "        # exclude fields not needed in this analysis\n",
    "        .cutout('ID', 'QUAL', 'FILTER', 'INFO')\n",
    "        # only keep INDELs\n",
    "        .select(lambda row: len(row.REF) > 1 or any(len(a) > 1 for a in row.ALT))\n",
    "        .addfield('cross', cross)        \n",
    "    )\n",
    "    \n",
    "    return tbl    "
   ]
  },
  {
   "cell_type": "code",
   "execution_count": null,
   "metadata": {
    "collapsed": false
   },
   "outputs": [],
   "source": [
    "tbl_indels = (\n",
    "    etl\n",
    "    .cat(*[tabulate_indels(cross) for cross in CROSSES])\n",
    "    .sort(key=('CHROM', 'POS'))\n",
    ")\n",
    "tbl_indels"
   ]
  },
  {
   "cell_type": "code",
   "execution_count": null,
   "metadata": {
    "collapsed": false,
    "scrolled": false
   },
   "outputs": [],
   "source": [
    "tbl_tr_indel = (\n",
    "    tbl_tr_core\n",
    "    .intervalleftjoin(tbl_indels.addfield('stop', lambda row: row.POS+1), \n",
    "                      lkey='chrom', lstart='start', lstop='stop',\n",
    "                      rkey='CHROM', rstart='POS', rstop='stop', include_stop=True)\n",
    ")\n",
    "tbl_tr_indel.display(50)"
   ]
  },
  {
   "cell_type": "code",
   "execution_count": null,
   "metadata": {
    "collapsed": false
   },
   "outputs": [],
   "source": [
    "tbl_analysis = (\n",
    "    tbl_tr_indel\n",
    "    .distinct(key=(0, 1, 2), presorted=True)\n",
    "    .addfield('polymorphic', lambda row: row.ALT is not None)\n",
    "    .cutout('CHROM', 'POS', 'REF', 'ALT', 'cross', 12)\n",
    ")\n",
    "tbl_analysis.display(20)"
   ]
  },
  {
   "cell_type": "code",
   "execution_count": null,
   "metadata": {
    "collapsed": false
   },
   "outputs": [],
   "source": [
    "df = tbl_analysis.todataframe()\n",
    "df.head()"
   ]
  },
  {
   "cell_type": "code",
   "execution_count": null,
   "metadata": {
    "collapsed": false
   },
   "outputs": [],
   "source": [
    "unit_length = 2\n",
    "x = df[df.unit_length == unit_length].tract_length\n",
    "plt.hist(x, bins=np.arange(unit_length, x.max(), unit_length))\n",
    "y = df[(df.unit_length == unit_length) & df.polymorphic].tract_length\n",
    "plt.hist(y, bins=np.arange(unit_length, x.max(), unit_length));"
   ]
  },
  {
   "cell_type": "code",
   "execution_count": null,
   "metadata": {
    "collapsed": false
   },
   "outputs": [],
   "source": [
    "fig, ax = plt.subplots()\n",
    "for unit_length in 1, 2, 3, 4, 5, 6:\n",
    "    x1 = df[df.unit_length == unit_length].tract_length\n",
    "    x2 = df[(df.unit_length == unit_length) & df.polymorphic].tract_length\n",
    "    b = np.arange(unit_length, x.max(), unit_length)\n",
    "    h1, _ = np.histogram(x1, bins=b)\n",
    "    h2, _ = np.histogram(x2, bins=b)\n",
    "    f = h2 / h1\n",
    "    ax.plot(b[:-1], f, label=unit_length, lw=2)\n",
    "ax.set_xlim(0, 40)\n",
    "ax.set_xlabel('STR tract length')\n",
    "ax.set_ylabel('fraction polymorphic')\n",
    "ax.legend(bbox_to_anchor=(1, 1), loc='upper left', title='STR unit length');"
   ]
  },
  {
   "cell_type": "code",
   "execution_count": null,
   "metadata": {
    "collapsed": true
   },
   "outputs": [],
   "source": []
  }
 ],
 "metadata": {
  "kernelspec": {
   "display_name": "Python 3",
   "language": "python",
   "name": "python3"
  },
  "language_info": {
   "codemirror_mode": {
    "name": "ipython",
    "version": 3
   },
   "file_extension": ".py",
   "mimetype": "text/x-python",
   "name": "python",
   "nbconvert_exporter": "python",
   "pygments_lexer": "ipython3",
   "version": "3.5.0+"
  }
 },
 "nbformat": 4,
 "nbformat_minor": 0
}
