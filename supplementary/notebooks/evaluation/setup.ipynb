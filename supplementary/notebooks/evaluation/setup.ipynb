{
 "cells": [
  {
   "cell_type": "code",
   "execution_count": 1,
   "metadata": {
    "collapsed": false
   },
   "outputs": [
    {
     "name": "stdout",
     "output_type": "stream",
     "text": [
      "The Cython magic has been move to the Cython package, hence \n",
      "`%load_ext cythonmagic` is deprecated; Please use `%load_ext Cython` instead.\n",
      "\n",
      "Though, because I am nice, I'll still try to load it for you this time.\n"
     ]
    }
   ],
   "source": [
    "%run ../../../shared_setup.ipynb"
   ]
  },
  {
   "cell_type": "code",
   "execution_count": 10,
   "metadata": {
    "collapsed": false
   },
   "outputs": [
    {
     "data": {
      "text/html": [
       "<table class='petl'>\n",
       "<thead>\n",
       "<tr>\n",
       "<th>0|ID</th>\n",
       "<th>1|clone</th>\n",
       "<th>2|fasta</th>\n",
       "<th>3|n_contigs</th>\n",
       "</tr>\n",
       "</thead>\n",
       "<tbody>\n",
       "<tr>\n",
       "<td>birren_hb3_contigs</td>\n",
       "<td>HB3</td>\n",
       "<td>/data/plasmodium/pfalciparum/pf-crosses/data/reference/birren_2006/plasmodium_falciparum__isolate_hb3__1_contigs.fasta</td>\n",
       "<td style='text-align: right'>2971</td>\n",
       "</tr>\n",
       "<tr>\n",
       "<td>birren_hb3_supercontigs</td>\n",
       "<td>HB3</td>\n",
       "<td>/data/plasmodium/pfalciparum/pf-crosses/data/reference/birren_2006/plasmodium_falciparum__isolate_hb3__1_supercontigs.fasta</td>\n",
       "<td style='text-align: right'>1189</td>\n",
       "</tr>\n",
       "<tr>\n",
       "<td>birren_dd2_contigs</td>\n",
       "<td>Dd2</td>\n",
       "<td>/data/plasmodium/pfalciparum/pf-crosses/data/reference/birren_2006/plasmodium_falciparum__isolate_dd2__1_contigs.fasta</td>\n",
       "<td style='text-align: right'>4511</td>\n",
       "</tr>\n",
       "<tr>\n",
       "<td>birren_dd2_supercontigs</td>\n",
       "<td>Dd2</td>\n",
       "<td>/data/plasmodium/pfalciparum/pf-crosses/data/reference/birren_2006/plasmodium_falciparum__isolate_dd2__1_supercontigs.fasta</td>\n",
       "<td style='text-align: right'>2837</td>\n",
       "</tr>\n",
       "<tr>\n",
       "<td>birren_7g8_contigs</td>\n",
       "<td>7G8</td>\n",
       "<td>/data/plasmodium/pfalciparum/pf-crosses/data/reference/birren_2006/plasmodium_falciparum__isolate_7g8__1_contigs.fasta</td>\n",
       "<td style='text-align: right'>8845</td>\n",
       "</tr>\n",
       "<tr>\n",
       "<td>birren_7g8_supercontigs</td>\n",
       "<td>7G8</td>\n",
       "<td>/data/plasmodium/pfalciparum/pf-crosses/data/reference/birren_2006/plasmodium_falciparum__isolate_7g8__1_supercontigs.fasta</td>\n",
       "<td style='text-align: right'>4843</td>\n",
       "</tr>\n",
       "<tr>\n",
       "<td>garimella_3d7_ERR019061_contigs</td>\n",
       "<td>3D7</td>\n",
       "<td>/data/plasmodium/pfalciparum/pf-crosses/data/kiran_assemblies/20150413/3D7xHB3.3D7.PG0051-C.ERR019061.fasta</td>\n",
       "<td style='text-align: right'>58519</td>\n",
       "</tr>\n",
       "<tr>\n",
       "<td>garimella_hb3_ERR019054_contigs</td>\n",
       "<td>HB3</td>\n",
       "<td>/data/plasmodium/pfalciparum/pf-crosses/data/kiran_assemblies/20150413/3D7xHB3.HB3.PG0052-C.ERR019054.fasta</td>\n",
       "<td style='text-align: right'>43443</td>\n",
       "</tr>\n",
       "<tr>\n",
       "<td>garimella_hb3_ERR012788_contigs</td>\n",
       "<td>HB3</td>\n",
       "<td>/data/plasmodium/pfalciparum/pf-crosses/data/kiran_assemblies/20150413/HB3xDD2.HB3.PG0004-CW.ERR012788.fasta</td>\n",
       "<td style='text-align: right'>38823</td>\n",
       "</tr>\n",
       "<tr>\n",
       "<td>garimella_dd2_ERR012840_contigs</td>\n",
       "<td>Dd2</td>\n",
       "<td>/data/plasmodium/pfalciparum/pf-crosses/data/kiran_assemblies/20150413/HB3xDD2.DD2.PG0008-CW.ERR012840.fasta</td>\n",
       "<td style='text-align: right'>35987</td>\n",
       "</tr>\n",
       "<tr>\n",
       "<td>garimella_7g8_ERR027099_contigs</td>\n",
       "<td>7G8</td>\n",
       "<td>/data/plasmodium/pfalciparum/pf-crosses/data/kiran_assemblies/20150413/7G8xGB4.7G8.PG0083-C.ERR027099.fasta</td>\n",
       "<td style='text-align: right'>48139</td>\n",
       "</tr>\n",
       "<tr>\n",
       "<td>garimella_gb4_ERR027099_contigs</td>\n",
       "<td>GB4</td>\n",
       "<td>/data/plasmodium/pfalciparum/pf-crosses/data/kiran_assemblies/20150413/7G8xGB4.GB4.PG0084-C.ERR027100.fasta</td>\n",
       "<td style='text-align: right'>55456</td>\n",
       "</tr>\n",
       "</tbody>\n",
       "</table>\n"
      ]
     },
     "metadata": {},
     "output_type": "display_data"
    }
   ],
   "source": [
    "tbl_sequences = (\n",
    "    etl.wrap([\n",
    "        ['ID', 'clone', 'fasta'],\n",
    "        ['birren_hb3_contigs', 'HB3', '/data/plasmodium/pfalciparum/pf-crosses/data/reference/birren_2006/plasmodium_falciparum__isolate_hb3__1_contigs.fasta'],\n",
    "        ['birren_hb3_supercontigs', 'HB3', '/data/plasmodium/pfalciparum/pf-crosses/data/reference/birren_2006/plasmodium_falciparum__isolate_hb3__1_supercontigs.fasta'],\n",
    "        ['birren_dd2_contigs', 'Dd2', '/data/plasmodium/pfalciparum/pf-crosses/data/reference/birren_2006/plasmodium_falciparum__isolate_dd2__1_contigs.fasta'],\n",
    "        ['birren_dd2_supercontigs', 'Dd2', '/data/plasmodium/pfalciparum/pf-crosses/data/reference/birren_2006/plasmodium_falciparum__isolate_dd2__1_supercontigs.fasta'],\n",
    "        ['birren_7g8_contigs', '7G8', '/data/plasmodium/pfalciparum/pf-crosses/data/reference/birren_2006/plasmodium_falciparum__isolate_7g8__1_contigs.fasta'],\n",
    "        ['birren_7g8_supercontigs', '7G8', '/data/plasmodium/pfalciparum/pf-crosses/data/reference/birren_2006/plasmodium_falciparum__isolate_7g8__1_supercontigs.fasta'],\n",
    "        ['garimella_3d7_ERR019061_contigs', '3D7', '/data/plasmodium/pfalciparum/pf-crosses/data/kiran_assemblies/20150413/3D7xHB3.3D7.PG0051-C.ERR019061.fasta'],\n",
    "        ['garimella_hb3_ERR019054_contigs', 'HB3', '/data/plasmodium/pfalciparum/pf-crosses/data/kiran_assemblies/20150413/3D7xHB3.HB3.PG0052-C.ERR019054.fasta'],\n",
    "        ['garimella_hb3_ERR012788_contigs', 'HB3', '/data/plasmodium/pfalciparum/pf-crosses/data/kiran_assemblies/20150413/HB3xDD2.HB3.PG0004-CW.ERR012788.fasta'],\n",
    "        ['garimella_dd2_ERR012840_contigs', 'Dd2', '/data/plasmodium/pfalciparum/pf-crosses/data/kiran_assemblies/20150413/HB3xDD2.DD2.PG0008-CW.ERR012840.fasta'],\n",
    "        ['garimella_7g8_ERR027099_contigs', '7G8', '/data/plasmodium/pfalciparum/pf-crosses/data/kiran_assemblies/20150413/7G8xGB4.7G8.PG0083-C.ERR027099.fasta'],\n",
    "        ['garimella_gb4_ERR027099_contigs', 'GB4', '/data/plasmodium/pfalciparum/pf-crosses/data/kiran_assemblies/20150413/7G8xGB4.GB4.PG0084-C.ERR027100.fasta'],\n",
    "    ])\n",
    "    .addfield('n_contigs', lambda row: len(pyfasta.Fasta(row.fasta, key_fn=lambda k: k.split()[0])))\n",
    ")\n",
    "tbl_sequences.displayall()"
   ]
  },
  {
   "cell_type": "code",
   "execution_count": 67,
   "metadata": {
    "collapsed": false
   },
   "outputs": [
    {
     "name": "stdout",
     "output_type": "stream",
     "text": [
      "Overwriting /data/plasmodium/pfalciparum/pf-crosses/data/evaluation/scripts/align_bwasw_default.sh\n"
     ]
    }
   ],
   "source": [
    "%%file /data/plasmodium/pfalciparum/pf-crosses/data/evaluation/scripts/align_bwasw_default.sh\n",
    "#!/bin/bash\n",
    "set -e\n",
    "set -u\n",
    "set -o pipefail\n",
    "set -x\n",
    "\n",
    "# arguments\n",
    "target=$1\n",
    "query=$2\n",
    "outdir=$3\n",
    "prefix=$4\n",
    "\n",
    "# programs\n",
    "bwa=/data/plasmodium/pfalciparum/pf-crosses/opt/bwa-0.7.12/bwa\n",
    "samtools=/data/plasmodium/pfalciparum/pf-crosses/opt/samtools-1.2/samtools\n",
    "\n",
    "# ensure target and query have been indexed \n",
    "if [ ! -f ${target}.sa ]\n",
    "then\n",
    "    $bwa index $target\n",
    "fi\n",
    "if [ ! -f ${query}.sa ]\n",
    "then\n",
    "    $bwa index $query\n",
    "fi\n",
    "\n",
    "# perform alignment to SAM\n",
    "samfile=${outdir}/${prefix}.sam\n",
    "if [ ! -f ${samfile}.ok ]\n",
    "then\n",
    "    $bwa bwasw -f $samfile -t4 $target $query\n",
    "    touch ${samfile}.ok\n",
    "fi\n",
    "\n",
    "# convert to BAM\n",
    "bamfile=${outdir}/${prefix}.bam\n",
    "if [ ! -f ${bamfile}.ok ]\n",
    "then\n",
    "    $samtools sort -O bam -o $bamfile -T ${bamfile}.tmp $samfile\n",
    "    $samtools index $bamfile\n",
    "    touch ${bamfile}.ok\n",
    "fi"
   ]
  },
  {
   "cell_type": "code",
   "execution_count": 68,
   "metadata": {
    "collapsed": false
   },
   "outputs": [
    {
     "name": "stdout",
     "output_type": "stream",
     "text": [
      "Overwriting /data/plasmodium/pfalciparum/pf-crosses/data/evaluation/scripts/align_bwamem_default.sh\n"
     ]
    }
   ],
   "source": [
    "%%file /data/plasmodium/pfalciparum/pf-crosses/data/evaluation/scripts/align_bwamem_default.sh\n",
    "#!/bin/bash\n",
    "set -e\n",
    "set -u\n",
    "set -o pipefail\n",
    "set -x\n",
    "\n",
    "# arguments\n",
    "target=$1\n",
    "query=$2\n",
    "outdir=$3\n",
    "prefix=$4\n",
    "\n",
    "# programs\n",
    "bwa=/data/plasmodium/pfalciparum/pf-crosses/opt/bwa-0.7.12/bwa\n",
    "samtools=/data/plasmodium/pfalciparum/pf-crosses/opt/samtools-1.2/samtools\n",
    "\n",
    "# ensure target and query have been indexed \n",
    "if [ ! -f ${target}.sa ]\n",
    "then\n",
    "    $bwa index $target\n",
    "fi\n",
    "if [ ! -f ${query}.sa ]\n",
    "then\n",
    "    $bwa index $query\n",
    "fi\n",
    "\n",
    "# perform alignment to SAM\n",
    "samfile=${outdir}/${prefix}.sam\n",
    "if [ ! -f ${samfile}.ok ]\n",
    "then\n",
    "    $bwa mem $target $query > $samfile\n",
    "    touch ${samfile}.ok\n",
    "fi\n",
    "\n",
    "# convert to BAM\n",
    "bamfile=${outdir}/${prefix}.bam\n",
    "if [ ! -f ${bamfile}.ok ]\n",
    "then\n",
    "    $samtools sort -O bam -o $bamfile -T ${bamfile}.tmp $samfile\n",
    "    $samtools index $bamfile\n",
    "    touch ${bamfile}.ok\n",
    "fi"
   ]
  },
  {
   "cell_type": "code",
   "execution_count": 69,
   "metadata": {
    "collapsed": false
   },
   "outputs": [
    {
     "name": "stdout",
     "output_type": "stream",
     "text": [
      "Overwriting /data/plasmodium/pfalciparum/pf-crosses/data/evaluation/scripts/align_bwamem_intractg.sh\n"
     ]
    }
   ],
   "source": [
    "%%file /data/plasmodium/pfalciparum/pf-crosses/data/evaluation/scripts/align_bwamem_intractg.sh\n",
    "#!/bin/bash\n",
    "set -e\n",
    "set -u\n",
    "set -o pipefail\n",
    "set -x\n",
    "\n",
    "# arguments\n",
    "target=$1\n",
    "query=$2\n",
    "outdir=$3\n",
    "prefix=$4\n",
    "\n",
    "# programs\n",
    "bwa=/data/plasmodium/pfalciparum/pf-crosses/opt/bwa-0.7.12/bwa\n",
    "samtools=/data/plasmodium/pfalciparum/pf-crosses/opt/samtools-1.2/samtools\n",
    "\n",
    "# ensure target and query have been indexed \n",
    "if [ ! -f ${target}.sa ]\n",
    "then\n",
    "    $bwa index $target\n",
    "fi\n",
    "if [ ! -f ${query}.sa ]\n",
    "then\n",
    "    $bwa index $query\n",
    "fi\n",
    "\n",
    "# perform alignment to SAM\n",
    "samfile=${outdir}/${prefix}.sam\n",
    "if [ ! -f ${samfile}.ok ]\n",
    "then\n",
    "    $bwa mem -x intractg $target $query > $samfile\n",
    "    touch ${samfile}.ok\n",
    "fi\n",
    "\n",
    "# convert to BAM\n",
    "bamfile=${outdir}/${prefix}.bam\n",
    "if [ ! -f ${bamfile}.ok ]\n",
    "then\n",
    "    $samtools sort -O bam -o $bamfile -T ${bamfile}.tmp $samfile\n",
    "    $samtools index $bamfile\n",
    "    touch ${bamfile}.ok\n",
    "fi"
   ]
  },
  {
   "cell_type": "code",
   "execution_count": 92,
   "metadata": {
    "collapsed": false
   },
   "outputs": [
    {
     "name": "stdout",
     "output_type": "stream",
     "text": [
      "Writing /data/plasmodium/pfalciparum/pf-crosses/data/evaluation/scripts/call_bcftools_multiallelic.sh\n"
     ]
    }
   ],
   "source": [
    "%%file /data/plasmodium/pfalciparum/pf-crosses/data/evaluation/scripts/call_bcftools_multiallelic.sh\n",
    "#!/bin/bash\n",
    "set -e\n",
    "set -u\n",
    "set -o pipefail\n",
    "set -x\n",
    "\n",
    "# arguments\n",
    "fasta=$1\n",
    "bamfile=$2\n",
    "outdir=$3\n",
    "prefix=$4\n",
    "\n",
    "# programs\n",
    "samtools=/data/plasmodium/pfalciparum/pf-crosses/opt/samtools-1.2/samtools\n",
    "tabix=/data/plasmodium/pfalciparum/pf-crosses/opt/tabix\n",
    "bcftools=/data/plasmodium/pfalciparum/pf-crosses/opt/bcftools-1.2/bcftools\n",
    "java=/usr/lib/jvm/java-7-openjdk-amd64/bin/java\n",
    "gatk_jar=/data/plasmodium/pfalciparum/pf-crosses/opt/GenomeAnalysisTK-3.3-0/GenomeAnalysisTK.jar\n",
    "gatk=\"$java -Xmx2G -jar $gatk_jar -R $fasta\"\n",
    "\n",
    "# create samples file\n",
    "samplesfile=${outdir}/${prefix}.samples\n",
    "echo -e \"${bamfile}\\t1\" > $samplesfile\n",
    "\n",
    "# perform calling\n",
    "vcffile_raw_bgz=${outdir}/${prefix}.raw.vcf.gz\n",
    "vcffile_leftaligned=${outdir}/${prefix}.leftaligned.vcf\n",
    "indicator=${outdir}/${prefix}.ok\n",
    "if [ ! -f $indicator ]\n",
    "then\n",
    "    $samtools mpileup --uncompressed --vcf --count-orphans --no-BAQ --ignore-overlaps --fasta-ref $fasta $bamfile \\\n",
    "        | $bcftools call - --multiallelic-caller --output-type v --samples-file $samplesfile --variants-only \\\n",
    "        | bgzip -c > $vcffile_raw_bgz\n",
    "    tabix -p vcf $vcffile_raw_bgz\n",
    "    $gatk -T LeftAlignAndTrimVariants -V $vcffile_raw_bgz -o $vcffile_leftaligned\n",
    "    bgzip $vcffile_leftaligned\n",
    "    tabix -p vcf ${vcffile_leftaligned}.gz\n",
    "    touch $indicator\n",
    "fi"
   ]
  },
  {
   "cell_type": "code",
   "execution_count": 75,
   "metadata": {
    "collapsed": true
   },
   "outputs": [],
   "source": [
    "tbl_alignment_configurations = etl.wrap([\n",
    "    ['ID', 'script'],\n",
    "    ['bwasw_default', '/data/plasmodium/pfalciparum/pf-crosses/data/evaluation/scripts/align_bwasw_default.sh'],\n",
    "    ['bwamem_default', '/data/plasmodium/pfalciparum/pf-crosses/data/evaluation/scripts/align_bwamem_default.sh'],\n",
    "    ['bwamem_intractg', '/data/plasmodium/pfalciparum/pf-crosses/data/evaluation/scripts/align_bwamem_intractg.sh'],\n",
    "    # TODO lastz\n",
    "])"
   ]
  },
  {
   "cell_type": "code",
   "execution_count": 93,
   "metadata": {
    "collapsed": true
   },
   "outputs": [],
   "source": [
    "tbl_calling_configurations = etl.wrap([\n",
    "    ['ID', 'script'],\n",
    "    ['bcftools_consensus', '/data/plasmodium/pfalciparum/pf-crosses/data/evaluation/scripts/call_bcftools_consensus.sh'],\n",
    "    ['bcftools_multiallelic', '/data/plasmodium/pfalciparum/pf-crosses/data/evaluation/scripts/call_bcftools_multiallelic.sh'],\n",
    "    # TODO GATK UG\n",
    "])"
   ]
  },
  {
   "cell_type": "code",
   "execution_count": 94,
   "metadata": {
    "collapsed": true
   },
   "outputs": [],
   "source": [
    "truth_dir = '/data/plasmodium/pfalciparum/pf-crosses/data/evaluation/truth'"
   ]
  },
  {
   "cell_type": "code",
   "execution_count": 95,
   "metadata": {
    "collapsed": true
   },
   "outputs": [],
   "source": [
    "target = '/data/plasmodium/pfalciparum/pf-crosses/data/genome/sanger/version3/September_2012/Pf3D7_v3.lookseq.fa'"
   ]
  },
  {
   "cell_type": "markdown",
   "metadata": {},
   "source": [
    "## Run alignments"
   ]
  },
  {
   "cell_type": "code",
   "execution_count": 73,
   "metadata": {
    "collapsed": false
   },
   "outputs": [
    {
     "name": "stderr",
     "output_type": "stream",
     "text": [
      "2015-04-13 16:05:27.577434 :: birren_hb3_contigs HB3 /data/plasmodium/pfalciparum/pf-crosses/data/reference/birren_2006/plasmodium_falciparum__isolate_hb3__1_contigs.fasta\n",
      "2015-04-13 16:05:27.579337 :: bwasw_default /data/plasmodium/pfalciparum/pf-crosses/data/evaluation/scripts/align_bwasw_default.sh\n",
      "2015-04-13 16:05:27.641605 :: bwamem_default /data/plasmodium/pfalciparum/pf-crosses/data/evaluation/scripts/align_bwamem_default.sh\n",
      "2015-04-13 16:05:27.703750 :: bwamem_intractg /data/plasmodium/pfalciparum/pf-crosses/data/evaluation/scripts/align_bwamem_intractg.sh\n",
      "2015-04-13 16:05:27.770773 :: birren_hb3_supercontigs HB3 /data/plasmodium/pfalciparum/pf-crosses/data/reference/birren_2006/plasmodium_falciparum__isolate_hb3__1_supercontigs.fasta\n",
      "2015-04-13 16:05:27.772750 :: bwasw_default /data/plasmodium/pfalciparum/pf-crosses/data/evaluation/scripts/align_bwasw_default.sh\n",
      "2015-04-13 16:05:27.826895 :: bwamem_default /data/plasmodium/pfalciparum/pf-crosses/data/evaluation/scripts/align_bwamem_default.sh\n",
      "2015-04-13 16:05:27.880492 :: bwamem_intractg /data/plasmodium/pfalciparum/pf-crosses/data/evaluation/scripts/align_bwamem_intractg.sh\n",
      "2015-04-13 16:05:28.558707 :: birren_dd2_contigs Dd2 /data/plasmodium/pfalciparum/pf-crosses/data/reference/birren_2006/plasmodium_falciparum__isolate_dd2__1_contigs.fasta\n",
      "2015-04-13 16:05:28.560831 :: bwasw_default /data/plasmodium/pfalciparum/pf-crosses/data/evaluation/scripts/align_bwasw_default.sh\n",
      "2015-04-13 16:05:28.612270 :: bwamem_default /data/plasmodium/pfalciparum/pf-crosses/data/evaluation/scripts/align_bwamem_default.sh\n",
      "2015-04-13 16:05:28.660919 :: bwamem_intractg /data/plasmodium/pfalciparum/pf-crosses/data/evaluation/scripts/align_bwamem_intractg.sh\n",
      "2015-04-13 16:05:29.017489 :: birren_dd2_supercontigs Dd2 /data/plasmodium/pfalciparum/pf-crosses/data/reference/birren_2006/plasmodium_falciparum__isolate_dd2__1_supercontigs.fasta\n",
      "2015-04-13 16:05:29.019565 :: bwasw_default /data/plasmodium/pfalciparum/pf-crosses/data/evaluation/scripts/align_bwasw_default.sh\n",
      "2015-04-13 16:05:29.069502 :: bwamem_default /data/plasmodium/pfalciparum/pf-crosses/data/evaluation/scripts/align_bwamem_default.sh\n",
      "2015-04-13 16:05:29.124792 :: bwamem_intractg /data/plasmodium/pfalciparum/pf-crosses/data/evaluation/scripts/align_bwamem_intractg.sh\n",
      "2015-04-13 16:05:29.517650 :: birren_7g8_contigs 7G8 /data/plasmodium/pfalciparum/pf-crosses/data/reference/birren_2006/plasmodium_falciparum__isolate_7g8__1_contigs.fasta\n",
      "2015-04-13 16:05:29.519790 :: bwasw_default /data/plasmodium/pfalciparum/pf-crosses/data/evaluation/scripts/align_bwasw_default.sh\n",
      "2015-04-13 16:05:29.581495 :: bwamem_default /data/plasmodium/pfalciparum/pf-crosses/data/evaluation/scripts/align_bwamem_default.sh\n",
      "2015-04-13 16:05:29.627359 :: bwamem_intractg /data/plasmodium/pfalciparum/pf-crosses/data/evaluation/scripts/align_bwamem_intractg.sh\n",
      "2015-04-13 16:05:29.998876 :: birren_7g8_supercontigs 7G8 /data/plasmodium/pfalciparum/pf-crosses/data/reference/birren_2006/plasmodium_falciparum__isolate_7g8__1_supercontigs.fasta\n",
      "2015-04-13 16:05:30.001178 :: bwasw_default /data/plasmodium/pfalciparum/pf-crosses/data/evaluation/scripts/align_bwasw_default.sh\n",
      "2015-04-13 16:05:30.055260 :: bwamem_default /data/plasmodium/pfalciparum/pf-crosses/data/evaluation/scripts/align_bwamem_default.sh\n",
      "2015-04-13 16:05:30.110595 :: bwamem_intractg /data/plasmodium/pfalciparum/pf-crosses/data/evaluation/scripts/align_bwamem_intractg.sh\n",
      "2015-04-13 16:05:30.684007 :: garimella_3d7_ERR019061_contigs 3D7 /data/plasmodium/pfalciparum/pf-crosses/data/kiran_assemblies/20150413/3D7xHB3.3D7.PG0051-C.ERR019061.fasta\n",
      "2015-04-13 16:05:30.686777 :: bwasw_default /data/plasmodium/pfalciparum/pf-crosses/data/evaluation/scripts/align_bwasw_default.sh\n",
      "2015-04-13 16:05:30.732968 :: bwamem_default /data/plasmodium/pfalciparum/pf-crosses/data/evaluation/scripts/align_bwamem_default.sh\n",
      "2015-04-13 16:05:30.776744 :: bwamem_intractg /data/plasmodium/pfalciparum/pf-crosses/data/evaluation/scripts/align_bwamem_intractg.sh\n",
      "2015-04-13 16:05:31.253174 :: garimella_hb3_ERR019054_contigs HB3 /data/plasmodium/pfalciparum/pf-crosses/data/kiran_assemblies/20150413/3D7xHB3.HB3.PG0052-C.ERR019054.fasta\n",
      "2015-04-13 16:05:31.255537 :: bwasw_default /data/plasmodium/pfalciparum/pf-crosses/data/evaluation/scripts/align_bwasw_default.sh\n",
      "2015-04-13 16:05:31.314899 :: bwamem_default /data/plasmodium/pfalciparum/pf-crosses/data/evaluation/scripts/align_bwamem_default.sh\n",
      "2015-04-13 16:05:31.367797 :: bwamem_intractg /data/plasmodium/pfalciparum/pf-crosses/data/evaluation/scripts/align_bwamem_intractg.sh\n",
      "2015-04-13 16:05:31.852489 :: garimella_hb3_ERR012788_contigs HB3 /data/plasmodium/pfalciparum/pf-crosses/data/kiran_assemblies/20150413/HB3xDD2.HB3.PG0004-CW.ERR012788.fasta\n",
      "2015-04-13 16:05:31.854572 :: bwasw_default /data/plasmodium/pfalciparum/pf-crosses/data/evaluation/scripts/align_bwasw_default.sh\n",
      "2015-04-13 16:05:31.911419 :: bwamem_default /data/plasmodium/pfalciparum/pf-crosses/data/evaluation/scripts/align_bwamem_default.sh\n",
      "2015-04-13 16:05:31.968759 :: bwamem_intractg /data/plasmodium/pfalciparum/pf-crosses/data/evaluation/scripts/align_bwamem_intractg.sh\n",
      "2015-04-13 16:05:32.441671 :: garimella_dd2_ERR012840_contigs Dd2 /data/plasmodium/pfalciparum/pf-crosses/data/kiran_assemblies/20150413/HB3xDD2.DD2.PG0008-CW.ERR012840.fasta\n",
      "2015-04-13 16:05:32.444273 :: bwasw_default /data/plasmodium/pfalciparum/pf-crosses/data/evaluation/scripts/align_bwasw_default.sh\n",
      "2015-04-13 16:05:32.499715 :: bwamem_default /data/plasmodium/pfalciparum/pf-crosses/data/evaluation/scripts/align_bwamem_default.sh\n",
      "2015-04-13 16:05:32.556455 :: bwamem_intractg /data/plasmodium/pfalciparum/pf-crosses/data/evaluation/scripts/align_bwamem_intractg.sh\n",
      "2015-04-13 16:05:33.060165 :: garimella_7g8_ERR027099_contigs 7G8 /data/plasmodium/pfalciparum/pf-crosses/data/kiran_assemblies/20150413/7G8xGB4.7G8.PG0083-C.ERR027099.fasta\n",
      "2015-04-13 16:05:33.063128 :: bwasw_default /data/plasmodium/pfalciparum/pf-crosses/data/evaluation/scripts/align_bwasw_default.sh\n",
      "2015-04-13 16:05:33.116543 :: bwamem_default /data/plasmodium/pfalciparum/pf-crosses/data/evaluation/scripts/align_bwamem_default.sh\n",
      "2015-04-13 16:05:33.177609 :: bwamem_intractg /data/plasmodium/pfalciparum/pf-crosses/data/evaluation/scripts/align_bwamem_intractg.sh\n",
      "2015-04-13 16:05:33.707702 :: garimella_gb4_ERR027099_contigs GB4 /data/plasmodium/pfalciparum/pf-crosses/data/kiran_assemblies/20150413/7G8xGB4.GB4.PG0084-C.ERR027100.fasta\n",
      "2015-04-13 16:05:33.710009 :: bwasw_default /data/plasmodium/pfalciparum/pf-crosses/data/evaluation/scripts/align_bwasw_default.sh\n",
      "2015-04-13 16:05:33.764257 :: bwamem_default /data/plasmodium/pfalciparum/pf-crosses/data/evaluation/scripts/align_bwamem_default.sh\n",
      "2015-04-13 16:05:33.820442 :: bwamem_intractg /data/plasmodium/pfalciparum/pf-crosses/data/evaluation/scripts/align_bwamem_intractg.sh\n"
     ]
    }
   ],
   "source": [
    "for prefix, clone, query, _ in tbl_sequences.data():\n",
    "    log(prefix, clone, query)\n",
    "    for config, script in tbl_alignment_configurations.data():\n",
    "        log(config, script)\n",
    "        outdir = os.path.join(truth_dir, config, 'alignment')\n",
    "        if not os.path.exists(outdir):\n",
    "            os.makedirs(outdir)\n",
    "        !(bash {script} {target} {query} {outdir} {prefix} > {outdir}/{prefix}.log 2>&1 &)"
   ]
  },
  {
   "cell_type": "markdown",
   "metadata": {},
   "source": [
    "## Run calling"
   ]
  },
  {
   "cell_type": "code",
   "execution_count": 96,
   "metadata": {
    "collapsed": false
   },
   "outputs": [
    {
     "name": "stderr",
     "output_type": "stream",
     "text": [
      "2015-04-13 17:01:45.677060 :: birren_hb3_contigs\n",
      "2015-04-13 17:01:45.679137 :: bwasw_default\n",
      "2015-04-13 17:01:45.680235 :: /data/plasmodium/pfalciparum/pf-crosses/data/evaluation/truth/bwasw_default/alignment/birren_hb3_contigs.bam\n",
      "2015-04-13 17:01:45.681208 :: bcftools_consensus /data/plasmodium/pfalciparum/pf-crosses/data/evaluation/scripts/call_bcftools_consensus.sh\n",
      "2015-04-13 17:01:45.739167 :: bcftools_multiallelic /data/plasmodium/pfalciparum/pf-crosses/data/evaluation/scripts/call_bcftools_multiallelic.sh\n",
      "2015-04-13 17:01:45.798912 :: bwamem_default\n",
      "2015-04-13 17:01:45.800952 :: /data/plasmodium/pfalciparum/pf-crosses/data/evaluation/truth/bwamem_default/alignment/birren_hb3_contigs.bam\n",
      "2015-04-13 17:01:45.802034 :: bcftools_consensus /data/plasmodium/pfalciparum/pf-crosses/data/evaluation/scripts/call_bcftools_consensus.sh\n",
      "2015-04-13 17:01:45.867794 :: bcftools_multiallelic /data/plasmodium/pfalciparum/pf-crosses/data/evaluation/scripts/call_bcftools_multiallelic.sh\n",
      "2015-04-13 17:01:45.924599 :: bwamem_intractg\n",
      "2015-04-13 17:01:45.926448 :: /data/plasmodium/pfalciparum/pf-crosses/data/evaluation/truth/bwamem_intractg/alignment/birren_hb3_contigs.bam\n",
      "2015-04-13 17:01:45.927527 :: bcftools_consensus /data/plasmodium/pfalciparum/pf-crosses/data/evaluation/scripts/call_bcftools_consensus.sh\n",
      "2015-04-13 17:01:45.981815 :: bcftools_multiallelic /data/plasmodium/pfalciparum/pf-crosses/data/evaluation/scripts/call_bcftools_multiallelic.sh\n",
      "2015-04-13 17:01:46.041294 :: birren_hb3_supercontigs\n",
      "2015-04-13 17:01:46.043049 :: bwasw_default\n",
      "2015-04-13 17:01:46.044125 :: /data/plasmodium/pfalciparum/pf-crosses/data/evaluation/truth/bwasw_default/alignment/birren_hb3_supercontigs.bam\n",
      "2015-04-13 17:01:46.045130 :: bcftools_consensus /data/plasmodium/pfalciparum/pf-crosses/data/evaluation/scripts/call_bcftools_consensus.sh\n",
      "2015-04-13 17:01:46.094371 :: bcftools_multiallelic /data/plasmodium/pfalciparum/pf-crosses/data/evaluation/scripts/call_bcftools_multiallelic.sh\n",
      "2015-04-13 17:01:46.150082 :: bwamem_default\n",
      "2015-04-13 17:01:46.151921 :: /data/plasmodium/pfalciparum/pf-crosses/data/evaluation/truth/bwamem_default/alignment/birren_hb3_supercontigs.bam\n",
      "2015-04-13 17:01:46.152986 :: bcftools_consensus /data/plasmodium/pfalciparum/pf-crosses/data/evaluation/scripts/call_bcftools_consensus.sh\n",
      "2015-04-13 17:01:46.206361 :: bcftools_multiallelic /data/plasmodium/pfalciparum/pf-crosses/data/evaluation/scripts/call_bcftools_multiallelic.sh\n",
      "2015-04-13 17:01:46.259096 :: bwamem_intractg\n",
      "2015-04-13 17:01:46.260968 :: /data/plasmodium/pfalciparum/pf-crosses/data/evaluation/truth/bwamem_intractg/alignment/birren_hb3_supercontigs.bam\n",
      "2015-04-13 17:01:46.262024 :: bcftools_consensus /data/plasmodium/pfalciparum/pf-crosses/data/evaluation/scripts/call_bcftools_consensus.sh\n",
      "2015-04-13 17:01:46.318656 :: bcftools_multiallelic /data/plasmodium/pfalciparum/pf-crosses/data/evaluation/scripts/call_bcftools_multiallelic.sh\n",
      "2015-04-13 17:01:47.592582 :: birren_dd2_contigs\n",
      "2015-04-13 17:01:47.593526 :: bwasw_default\n",
      "2015-04-13 17:01:47.593924 :: /data/plasmodium/pfalciparum/pf-crosses/data/evaluation/truth/bwasw_default/alignment/birren_dd2_contigs.bam\n",
      "2015-04-13 17:01:47.594296 :: bcftools_consensus /data/plasmodium/pfalciparum/pf-crosses/data/evaluation/scripts/call_bcftools_consensus.sh\n",
      "2015-04-13 17:01:47.638079 :: bcftools_multiallelic /data/plasmodium/pfalciparum/pf-crosses/data/evaluation/scripts/call_bcftools_multiallelic.sh\n",
      "2015-04-13 17:01:47.683980 :: bwamem_default\n",
      "2015-04-13 17:01:47.684853 :: /data/plasmodium/pfalciparum/pf-crosses/data/evaluation/truth/bwamem_default/alignment/birren_dd2_contigs.bam\n",
      "2015-04-13 17:01:47.685290 :: bcftools_consensus /data/plasmodium/pfalciparum/pf-crosses/data/evaluation/scripts/call_bcftools_consensus.sh\n",
      "2015-04-13 17:01:47.727795 :: bcftools_multiallelic /data/plasmodium/pfalciparum/pf-crosses/data/evaluation/scripts/call_bcftools_multiallelic.sh\n",
      "2015-04-13 17:01:47.770996 :: bwamem_intractg\n",
      "2015-04-13 17:01:47.773046 :: /data/plasmodium/pfalciparum/pf-crosses/data/evaluation/truth/bwamem_intractg/alignment/birren_dd2_contigs.bam\n",
      "2015-04-13 17:01:47.774249 :: bcftools_consensus /data/plasmodium/pfalciparum/pf-crosses/data/evaluation/scripts/call_bcftools_consensus.sh\n",
      "2015-04-13 17:01:47.833037 :: bcftools_multiallelic /data/plasmodium/pfalciparum/pf-crosses/data/evaluation/scripts/call_bcftools_multiallelic.sh\n",
      "2015-04-13 17:01:48.490970 :: birren_dd2_supercontigs\n",
      "2015-04-13 17:01:48.492066 :: bwasw_default\n",
      "2015-04-13 17:01:48.492479 :: /data/plasmodium/pfalciparum/pf-crosses/data/evaluation/truth/bwasw_default/alignment/birren_dd2_supercontigs.bam\n",
      "2015-04-13 17:01:48.492831 :: bcftools_consensus /data/plasmodium/pfalciparum/pf-crosses/data/evaluation/scripts/call_bcftools_consensus.sh\n",
      "2015-04-13 17:01:48.533160 :: bcftools_multiallelic /data/plasmodium/pfalciparum/pf-crosses/data/evaluation/scripts/call_bcftools_multiallelic.sh\n",
      "2015-04-13 17:01:48.572477 :: bwamem_default\n",
      "2015-04-13 17:01:48.574640 :: /data/plasmodium/pfalciparum/pf-crosses/data/evaluation/truth/bwamem_default/alignment/birren_dd2_supercontigs.bam\n",
      "2015-04-13 17:01:48.575114 :: bcftools_consensus /data/plasmodium/pfalciparum/pf-crosses/data/evaluation/scripts/call_bcftools_consensus.sh\n",
      "2015-04-13 17:01:48.625315 :: bcftools_multiallelic /data/plasmodium/pfalciparum/pf-crosses/data/evaluation/scripts/call_bcftools_multiallelic.sh\n",
      "2015-04-13 17:01:48.665586 :: bwamem_intractg\n",
      "2015-04-13 17:01:48.666676 :: /data/plasmodium/pfalciparum/pf-crosses/data/evaluation/truth/bwamem_intractg/alignment/birren_dd2_supercontigs.bam\n",
      "2015-04-13 17:01:48.667183 :: bcftools_consensus /data/plasmodium/pfalciparum/pf-crosses/data/evaluation/scripts/call_bcftools_consensus.sh\n",
      "2015-04-13 17:01:48.699427 :: bcftools_multiallelic /data/plasmodium/pfalciparum/pf-crosses/data/evaluation/scripts/call_bcftools_multiallelic.sh\n",
      "2015-04-13 17:01:49.353458 :: birren_7g8_contigs\n",
      "2015-04-13 17:01:49.354703 :: bwasw_default\n",
      "2015-04-13 17:01:49.355196 :: /data/plasmodium/pfalciparum/pf-crosses/data/evaluation/truth/bwasw_default/alignment/birren_7g8_contigs.bam\n",
      "2015-04-13 17:01:49.355663 :: bcftools_consensus /data/plasmodium/pfalciparum/pf-crosses/data/evaluation/scripts/call_bcftools_consensus.sh\n",
      "2015-04-13 17:01:49.389106 :: bcftools_multiallelic /data/plasmodium/pfalciparum/pf-crosses/data/evaluation/scripts/call_bcftools_multiallelic.sh\n",
      "2015-04-13 17:01:49.446979 :: bwamem_default\n",
      "2015-04-13 17:01:49.449049 :: /data/plasmodium/pfalciparum/pf-crosses/data/evaluation/truth/bwamem_default/alignment/birren_7g8_contigs.bam\n",
      "2015-04-13 17:01:49.450190 :: bcftools_consensus /data/plasmodium/pfalciparum/pf-crosses/data/evaluation/scripts/call_bcftools_consensus.sh\n",
      "2015-04-13 17:01:49.488906 :: bcftools_multiallelic /data/plasmodium/pfalciparum/pf-crosses/data/evaluation/scripts/call_bcftools_multiallelic.sh\n",
      "2015-04-13 17:01:49.551738 :: bwamem_intractg\n",
      "2015-04-13 17:01:49.553832 :: /data/plasmodium/pfalciparum/pf-crosses/data/evaluation/truth/bwamem_intractg/alignment/birren_7g8_contigs.bam\n",
      "2015-04-13 17:01:49.554979 :: bcftools_consensus /data/plasmodium/pfalciparum/pf-crosses/data/evaluation/scripts/call_bcftools_consensus.sh\n",
      "2015-04-13 17:01:49.617107 :: bcftools_multiallelic /data/plasmodium/pfalciparum/pf-crosses/data/evaluation/scripts/call_bcftools_multiallelic.sh\n",
      "2015-04-13 17:01:50.275808 :: birren_7g8_supercontigs\n",
      "2015-04-13 17:01:50.277990 :: bwasw_default\n",
      "2015-04-13 17:01:50.279111 :: /data/plasmodium/pfalciparum/pf-crosses/data/evaluation/truth/bwasw_default/alignment/birren_7g8_supercontigs.bam\n",
      "2015-04-13 17:01:50.282232 :: bcftools_consensus /data/plasmodium/pfalciparum/pf-crosses/data/evaluation/scripts/call_bcftools_consensus.sh\n",
      "2015-04-13 17:01:50.327553 :: bcftools_multiallelic /data/plasmodium/pfalciparum/pf-crosses/data/evaluation/scripts/call_bcftools_multiallelic.sh\n",
      "2015-04-13 17:01:50.394339 :: bwamem_default\n",
      "2015-04-13 17:01:50.396524 :: /data/plasmodium/pfalciparum/pf-crosses/data/evaluation/truth/bwamem_default/alignment/birren_7g8_supercontigs.bam\n",
      "2015-04-13 17:01:50.407024 :: bcftools_consensus /data/plasmodium/pfalciparum/pf-crosses/data/evaluation/scripts/call_bcftools_consensus.sh\n",
      "2015-04-13 17:01:50.486431 :: bcftools_multiallelic /data/plasmodium/pfalciparum/pf-crosses/data/evaluation/scripts/call_bcftools_multiallelic.sh\n",
      "2015-04-13 17:01:50.548469 :: bwamem_intractg\n",
      "2015-04-13 17:01:50.552821 :: /data/plasmodium/pfalciparum/pf-crosses/data/evaluation/truth/bwamem_intractg/alignment/birren_7g8_supercontigs.bam\n",
      "2015-04-13 17:01:50.554205 :: bcftools_consensus /data/plasmodium/pfalciparum/pf-crosses/data/evaluation/scripts/call_bcftools_consensus.sh\n",
      "2015-04-13 17:01:50.607267 :: bcftools_multiallelic /data/plasmodium/pfalciparum/pf-crosses/data/evaluation/scripts/call_bcftools_multiallelic.sh\n",
      "2015-04-13 17:01:51.423839 :: garimella_3d7_ERR019061_contigs\n",
      "2015-04-13 17:01:51.456582 :: bwasw_default\n",
      "2015-04-13 17:01:51.457511 :: /data/plasmodium/pfalciparum/pf-crosses/data/evaluation/truth/bwasw_default/alignment/garimella_3d7_ERR019061_contigs.bam\n",
      "2015-04-13 17:01:51.457967 :: bcftools_consensus /data/plasmodium/pfalciparum/pf-crosses/data/evaluation/scripts/call_bcftools_consensus.sh\n",
      "2015-04-13 17:01:51.518045 :: bcftools_multiallelic /data/plasmodium/pfalciparum/pf-crosses/data/evaluation/scripts/call_bcftools_multiallelic.sh\n",
      "2015-04-13 17:01:51.582468 :: bwamem_default\n",
      "2015-04-13 17:01:51.583508 :: /data/plasmodium/pfalciparum/pf-crosses/data/evaluation/truth/bwamem_default/alignment/garimella_3d7_ERR019061_contigs.bam\n",
      "2015-04-13 17:01:51.584003 :: bcftools_consensus /data/plasmodium/pfalciparum/pf-crosses/data/evaluation/scripts/call_bcftools_consensus.sh\n",
      "2015-04-13 17:01:51.636451 :: bcftools_multiallelic /data/plasmodium/pfalciparum/pf-crosses/data/evaluation/scripts/call_bcftools_multiallelic.sh\n",
      "2015-04-13 17:01:51.688226 :: bwamem_intractg\n",
      "2015-04-13 17:01:51.689307 :: /data/plasmodium/pfalciparum/pf-crosses/data/evaluation/truth/bwamem_intractg/alignment/garimella_3d7_ERR019061_contigs.bam\n",
      "2015-04-13 17:01:51.689795 :: bcftools_consensus /data/plasmodium/pfalciparum/pf-crosses/data/evaluation/scripts/call_bcftools_consensus.sh\n",
      "2015-04-13 17:01:51.766003 :: bcftools_multiallelic /data/plasmodium/pfalciparum/pf-crosses/data/evaluation/scripts/call_bcftools_multiallelic.sh\n",
      "2015-04-13 17:01:52.575830 :: garimella_hb3_ERR019054_contigs\n",
      "2015-04-13 17:01:52.589802 :: bwasw_default\n",
      "2015-04-13 17:01:52.590972 :: /data/plasmodium/pfalciparum/pf-crosses/data/evaluation/truth/bwasw_default/alignment/garimella_hb3_ERR019054_contigs.bam\n",
      "2015-04-13 17:01:52.594145 :: bcftools_consensus /data/plasmodium/pfalciparum/pf-crosses/data/evaluation/scripts/call_bcftools_consensus.sh\n",
      "2015-04-13 17:01:52.651178 :: bcftools_multiallelic /data/plasmodium/pfalciparum/pf-crosses/data/evaluation/scripts/call_bcftools_multiallelic.sh\n",
      "2015-04-13 17:01:52.697005 :: bwamem_default\n",
      "2015-04-13 17:01:52.703342 :: /data/plasmodium/pfalciparum/pf-crosses/data/evaluation/truth/bwamem_default/alignment/garimella_hb3_ERR019054_contigs.bam\n",
      "2015-04-13 17:01:52.707005 :: bcftools_consensus /data/plasmodium/pfalciparum/pf-crosses/data/evaluation/scripts/call_bcftools_consensus.sh\n",
      "2015-04-13 17:01:52.786043 :: bcftools_multiallelic /data/plasmodium/pfalciparum/pf-crosses/data/evaluation/scripts/call_bcftools_multiallelic.sh\n",
      "2015-04-13 17:01:52.836713 :: bwamem_intractg\n",
      "2015-04-13 17:01:52.838819 :: /data/plasmodium/pfalciparum/pf-crosses/data/evaluation/truth/bwamem_intractg/alignment/garimella_hb3_ERR019054_contigs.bam\n",
      "2015-04-13 17:01:52.842080 :: bcftools_consensus /data/plasmodium/pfalciparum/pf-crosses/data/evaluation/scripts/call_bcftools_consensus.sh\n",
      "2015-04-13 17:01:52.910249 :: bcftools_multiallelic /data/plasmodium/pfalciparum/pf-crosses/data/evaluation/scripts/call_bcftools_multiallelic.sh\n",
      "2015-04-13 17:01:53.684771 :: garimella_hb3_ERR012788_contigs\n",
      "2015-04-13 17:01:53.685957 :: bwasw_default\n",
      "2015-04-13 17:01:53.686364 :: /data/plasmodium/pfalciparum/pf-crosses/data/evaluation/truth/bwasw_default/alignment/garimella_hb3_ERR012788_contigs.bam\n",
      "2015-04-13 17:01:53.686714 :: bcftools_consensus /data/plasmodium/pfalciparum/pf-crosses/data/evaluation/scripts/call_bcftools_consensus.sh\n",
      "2015-04-13 17:01:53.763149 :: bcftools_multiallelic /data/plasmodium/pfalciparum/pf-crosses/data/evaluation/scripts/call_bcftools_multiallelic.sh\n",
      "2015-04-13 17:01:53.833562 :: bwamem_default\n",
      "2015-04-13 17:01:53.835664 :: /data/plasmodium/pfalciparum/pf-crosses/data/evaluation/truth/bwamem_default/alignment/garimella_hb3_ERR012788_contigs.bam\n",
      "2015-04-13 17:01:53.837463 :: bcftools_consensus /data/plasmodium/pfalciparum/pf-crosses/data/evaluation/scripts/call_bcftools_consensus.sh\n",
      "2015-04-13 17:01:53.916076 :: bcftools_multiallelic /data/plasmodium/pfalciparum/pf-crosses/data/evaluation/scripts/call_bcftools_multiallelic.sh\n",
      "2015-04-13 17:01:53.967389 :: bwamem_intractg\n",
      "2015-04-13 17:01:53.969537 :: /data/plasmodium/pfalciparum/pf-crosses/data/evaluation/truth/bwamem_intractg/alignment/garimella_hb3_ERR012788_contigs.bam\n",
      "2015-04-13 17:01:53.970689 :: bcftools_consensus /data/plasmodium/pfalciparum/pf-crosses/data/evaluation/scripts/call_bcftools_consensus.sh\n",
      "2015-04-13 17:01:54.052523 :: bcftools_multiallelic /data/plasmodium/pfalciparum/pf-crosses/data/evaluation/scripts/call_bcftools_multiallelic.sh\n",
      "2015-04-13 17:01:54.823775 :: garimella_dd2_ERR012840_contigs\n",
      "2015-04-13 17:01:54.825133 :: bwasw_default\n",
      "2015-04-13 17:01:54.825581 :: /data/plasmodium/pfalciparum/pf-crosses/data/evaluation/truth/bwasw_default/alignment/garimella_dd2_ERR012840_contigs.bam\n",
      "2015-04-13 17:01:54.825930 :: bcftools_consensus /data/plasmodium/pfalciparum/pf-crosses/data/evaluation/scripts/call_bcftools_consensus.sh\n",
      "2015-04-13 17:01:54.868577 :: bcftools_multiallelic /data/plasmodium/pfalciparum/pf-crosses/data/evaluation/scripts/call_bcftools_multiallelic.sh\n",
      "2015-04-13 17:01:54.928162 :: bwamem_default\n",
      "2015-04-13 17:01:54.929090 :: /data/plasmodium/pfalciparum/pf-crosses/data/evaluation/truth/bwamem_default/alignment/garimella_dd2_ERR012840_contigs.bam\n",
      "2015-04-13 17:01:54.929582 :: bcftools_consensus /data/plasmodium/pfalciparum/pf-crosses/data/evaluation/scripts/call_bcftools_consensus.sh\n",
      "2015-04-13 17:01:55.016709 :: bcftools_multiallelic /data/plasmodium/pfalciparum/pf-crosses/data/evaluation/scripts/call_bcftools_multiallelic.sh\n",
      "2015-04-13 17:01:55.087447 :: bwamem_intractg\n",
      "2015-04-13 17:01:55.089450 :: /data/plasmodium/pfalciparum/pf-crosses/data/evaluation/truth/bwamem_intractg/alignment/garimella_dd2_ERR012840_contigs.bam\n",
      "2015-04-13 17:01:55.101547 :: bcftools_consensus /data/plasmodium/pfalciparum/pf-crosses/data/evaluation/scripts/call_bcftools_consensus.sh\n",
      "2015-04-13 17:01:55.192414 :: bcftools_multiallelic /data/plasmodium/pfalciparum/pf-crosses/data/evaluation/scripts/call_bcftools_multiallelic.sh\n",
      "2015-04-13 17:01:56.084694 :: garimella_7g8_ERR027099_contigs\n",
      "2015-04-13 17:01:56.095847 :: bwasw_default\n",
      "2015-04-13 17:01:56.096462 :: /data/plasmodium/pfalciparum/pf-crosses/data/evaluation/truth/bwasw_default/alignment/garimella_7g8_ERR027099_contigs.bam\n",
      "2015-04-13 17:01:56.096815 :: bcftools_consensus /data/plasmodium/pfalciparum/pf-crosses/data/evaluation/scripts/call_bcftools_consensus.sh\n",
      "2015-04-13 17:01:56.189121 :: bcftools_multiallelic /data/plasmodium/pfalciparum/pf-crosses/data/evaluation/scripts/call_bcftools_multiallelic.sh\n",
      "2015-04-13 17:01:56.254799 :: bwamem_default\n",
      "2015-04-13 17:01:56.257063 :: /data/plasmodium/pfalciparum/pf-crosses/data/evaluation/truth/bwamem_default/alignment/garimella_7g8_ERR027099_contigs.bam\n",
      "2015-04-13 17:01:56.260445 :: bcftools_consensus /data/plasmodium/pfalciparum/pf-crosses/data/evaluation/scripts/call_bcftools_consensus.sh\n",
      "2015-04-13 17:01:56.338933 :: bcftools_multiallelic /data/plasmodium/pfalciparum/pf-crosses/data/evaluation/scripts/call_bcftools_multiallelic.sh\n",
      "2015-04-13 17:01:56.398792 :: bwamem_intractg\n",
      "2015-04-13 17:01:56.400959 :: /data/plasmodium/pfalciparum/pf-crosses/data/evaluation/truth/bwamem_intractg/alignment/garimella_7g8_ERR027099_contigs.bam\n",
      "2015-04-13 17:01:56.413579 :: bcftools_consensus /data/plasmodium/pfalciparum/pf-crosses/data/evaluation/scripts/call_bcftools_consensus.sh\n",
      "2015-04-13 17:01:56.473920 :: bcftools_multiallelic /data/plasmodium/pfalciparum/pf-crosses/data/evaluation/scripts/call_bcftools_multiallelic.sh\n",
      "2015-04-13 17:01:57.347011 :: garimella_gb4_ERR027099_contigs\n",
      "2015-04-13 17:01:57.348037 :: bwasw_default\n",
      "2015-04-13 17:01:57.348421 :: /data/plasmodium/pfalciparum/pf-crosses/data/evaluation/truth/bwasw_default/alignment/garimella_gb4_ERR027099_contigs.bam\n",
      "2015-04-13 17:01:57.348775 :: bcftools_consensus /data/plasmodium/pfalciparum/pf-crosses/data/evaluation/scripts/call_bcftools_consensus.sh\n",
      "2015-04-13 17:01:57.429590 :: bcftools_multiallelic /data/plasmodium/pfalciparum/pf-crosses/data/evaluation/scripts/call_bcftools_multiallelic.sh\n",
      "2015-04-13 17:01:57.531085 :: bwamem_default\n",
      "2015-04-13 17:01:57.533106 :: /data/plasmodium/pfalciparum/pf-crosses/data/evaluation/truth/bwamem_default/alignment/garimella_gb4_ERR027099_contigs.bam\n",
      "2015-04-13 17:01:57.534226 :: bcftools_consensus /data/plasmodium/pfalciparum/pf-crosses/data/evaluation/scripts/call_bcftools_consensus.sh\n",
      "2015-04-13 17:01:57.614280 :: bcftools_multiallelic /data/plasmodium/pfalciparum/pf-crosses/data/evaluation/scripts/call_bcftools_multiallelic.sh\n",
      "2015-04-13 17:01:57.699867 :: bwamem_intractg\n",
      "2015-04-13 17:01:57.739462 :: /data/plasmodium/pfalciparum/pf-crosses/data/evaluation/truth/bwamem_intractg/alignment/garimella_gb4_ERR027099_contigs.bam\n",
      "2015-04-13 17:01:57.743459 :: bcftools_consensus /data/plasmodium/pfalciparum/pf-crosses/data/evaluation/scripts/call_bcftools_consensus.sh\n",
      "2015-04-13 17:01:57.823811 :: bcftools_multiallelic /data/plasmodium/pfalciparum/pf-crosses/data/evaluation/scripts/call_bcftools_multiallelic.sh\n"
     ]
    }
   ],
   "source": [
    "for prefix, _, _, _ in tbl_sequences.data():\n",
    "    log(prefix)\n",
    "    for alignment_config, _ in tbl_alignment_configurations.data():\n",
    "        log(alignment_config)\n",
    "        bamfile = os.path.join(truth_dir, alignment_config, 'alignment', prefix + '.bam')\n",
    "        log(bamfile)\n",
    "        for calling_config, script in tbl_calling_configurations.data():\n",
    "            log(calling_config, script)\n",
    "            outdir = os.path.join(truth_dir, alignment_config, 'calling', calling_config)\n",
    "            if not os.path.exists(outdir):\n",
    "                os.makedirs(outdir)\n",
    "            !(bash {script} {target} {bamfile} {outdir} {prefix} > {outdir}/{prefix}.log 2>&1 &)\n",
    "    "
   ]
  },
  {
   "cell_type": "markdown",
   "metadata": {},
   "source": [
    "## Sandbox"
   ]
  },
  {
   "cell_type": "code",
   "execution_count": 88,
   "metadata": {
    "collapsed": false
   },
   "outputs": [
    {
     "name": "stdout",
     "output_type": "stream",
     "text": [
      "-rw-rw-r-- 1 aliman malariagen 29M Apr 13 15:50 /data/plasmodium/pfalciparum/pf-crosses/data/evaluation/truth/bwasw_default/alignment/birren_hb3_contigs.bam\r\n",
      "-rw-rw-r-- 1 aliman malariagen 20K Apr 13 15:50 /data/plasmodium/pfalciparum/pf-crosses/data/evaluation/truth/bwasw_default/alignment/birren_hb3_contigs.bam.bai\r\n",
      "-rw-rw-r-- 1 aliman malariagen   0 Apr 13 15:50 /data/plasmodium/pfalciparum/pf-crosses/data/evaluation/truth/bwasw_default/alignment/birren_hb3_contigs.bam.ok\r\n"
     ]
    }
   ],
   "source": [
    "prefix = 'birren_hb3_contigs'\n",
    "alignment_config = 'bwasw_default'\n",
    "bamfile = os.path.join(truth_dir, alignment_config, 'alignment', prefix + '.bam')\n",
    "!ls -lh {bamfile}*"
   ]
  },
  {
   "cell_type": "code",
   "execution_count": 89,
   "metadata": {
    "collapsed": false
   },
   "outputs": [
    {
     "data": {
      "text/plain": [
       "('bcftools_consensus',\n",
       " '/data/plasmodium/pfalciparum/pf-crosses/data/evaluation/scripts/call_bcftools_consensus.sh')"
      ]
     },
     "execution_count": 89,
     "metadata": {},
     "output_type": "execute_result"
    }
   ],
   "source": [
    "calling_config, script = tbl_calling_configurations[1]\n",
    "calling_config, script"
   ]
  },
  {
   "cell_type": "code",
   "execution_count": 90,
   "metadata": {
    "collapsed": true
   },
   "outputs": [],
   "source": [
    "outdir = os.path.join(truth_dir, alignment_config, 'calling', calling_config)\n",
    "if not os.path.exists(outdir):\n",
    "    os.makedirs(outdir)\n"
   ]
  },
  {
   "cell_type": "code",
   "execution_count": 91,
   "metadata": {
    "collapsed": true
   },
   "outputs": [],
   "source": [
    "!(bash {script} {target} {bamfile} {outdir} {prefix} > {outdir}/{prefix}.log 2>&1 &)"
   ]
  },
  {
   "cell_type": "code",
   "execution_count": null,
   "metadata": {
    "collapsed": true
   },
   "outputs": [],
   "source": []
  }
 ],
 "metadata": {
  "kernelspec": {
   "display_name": "Python 3",
   "language": "python",
   "name": "python3"
  },
  "language_info": {
   "codemirror_mode": {
    "name": "ipython",
    "version": 3
   },
   "file_extension": ".py",
   "mimetype": "text/x-python",
   "name": "python",
   "nbconvert_exporter": "python",
   "pygments_lexer": "ipython3",
   "version": "3.4.2"
  }
 },
 "nbformat": 4,
 "nbformat_minor": 0
}
