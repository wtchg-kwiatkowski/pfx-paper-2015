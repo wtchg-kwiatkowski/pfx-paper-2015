{
 "cells": [
  {
   "cell_type": "code",
   "execution_count": 17,
   "metadata": {
    "collapsed": false
   },
   "outputs": [
    {
     "name": "stdout",
     "output_type": "stream",
     "text": [
      "The Cython magic has been move to the Cython package, hence \n",
      "`%load_ext cythonmagic` is deprecated; Please use `%load_ext Cython` instead.\n",
      "\n",
      "Though, because I am nice, I'll still try to load it for you this time.\n"
     ]
    }
   ],
   "source": [
    "%run ../../../shared_setup.ipynb"
   ]
  },
  {
   "cell_type": "code",
   "execution_count": 2,
   "metadata": {
    "collapsed": false
   },
   "outputs": [
    {
     "data": {
      "text/html": [
       "<table class='petl'>\n",
       "<thead>\n",
       "<tr>\n",
       "<th>0|ID</th>\n",
       "<th>1|clone</th>\n",
       "<th>2|fasta</th>\n",
       "<th>3|n_contigs</th>\n",
       "</tr>\n",
       "</thead>\n",
       "<tbody>\n",
       "<tr>\n",
       "<td>birren_hb3_contigs</td>\n",
       "<td>HB3</td>\n",
       "<td>/data/plasmodium/pfalciparum/pf-crosses/data/reference/birren_2006/plasmodium_falciparum__isolate_hb3__1_contigs.fasta</td>\n",
       "<td style='text-align: right'>2971</td>\n",
       "</tr>\n",
       "<tr>\n",
       "<td>birren_hb3_supercontigs</td>\n",
       "<td>HB3</td>\n",
       "<td>/data/plasmodium/pfalciparum/pf-crosses/data/reference/birren_2006/plasmodium_falciparum__isolate_hb3__1_supercontigs.fasta</td>\n",
       "<td style='text-align: right'>1189</td>\n",
       "</tr>\n",
       "<tr>\n",
       "<td>birren_dd2_contigs</td>\n",
       "<td>Dd2</td>\n",
       "<td>/data/plasmodium/pfalciparum/pf-crosses/data/reference/birren_2006/plasmodium_falciparum__isolate_dd2__1_contigs.fasta</td>\n",
       "<td style='text-align: right'>4511</td>\n",
       "</tr>\n",
       "<tr>\n",
       "<td>birren_dd2_supercontigs</td>\n",
       "<td>Dd2</td>\n",
       "<td>/data/plasmodium/pfalciparum/pf-crosses/data/reference/birren_2006/plasmodium_falciparum__isolate_dd2__1_supercontigs.fasta</td>\n",
       "<td style='text-align: right'>2837</td>\n",
       "</tr>\n",
       "<tr>\n",
       "<td>birren_7g8_contigs</td>\n",
       "<td>7G8</td>\n",
       "<td>/data/plasmodium/pfalciparum/pf-crosses/data/reference/birren_2006/plasmodium_falciparum__isolate_7g8__1_contigs.fasta</td>\n",
       "<td style='text-align: right'>8845</td>\n",
       "</tr>\n",
       "<tr>\n",
       "<td>birren_7g8_supercontigs</td>\n",
       "<td>7G8</td>\n",
       "<td>/data/plasmodium/pfalciparum/pf-crosses/data/reference/birren_2006/plasmodium_falciparum__isolate_7g8__1_supercontigs.fasta</td>\n",
       "<td style='text-align: right'>4843</td>\n",
       "</tr>\n",
       "<tr>\n",
       "<td>garimella_3d7_ERR019061_contigs</td>\n",
       "<td>3D7</td>\n",
       "<td>/data/plasmodium/pfalciparum/pf-crosses/data/kiran_assemblies/20150413/3D7xHB3.3D7.PG0051-C.ERR019061.fasta</td>\n",
       "<td style='text-align: right'>58519</td>\n",
       "</tr>\n",
       "<tr>\n",
       "<td>garimella_hb3_ERR019054_contigs</td>\n",
       "<td>HB3</td>\n",
       "<td>/data/plasmodium/pfalciparum/pf-crosses/data/kiran_assemblies/20150413/3D7xHB3.HB3.PG0052-C.ERR019054.fasta</td>\n",
       "<td style='text-align: right'>43443</td>\n",
       "</tr>\n",
       "<tr>\n",
       "<td>garimella_hb3_ERR012788_contigs</td>\n",
       "<td>HB3</td>\n",
       "<td>/data/plasmodium/pfalciparum/pf-crosses/data/kiran_assemblies/20150413/HB3xDD2.HB3.PG0004-CW.ERR012788.fasta</td>\n",
       "<td style='text-align: right'>38823</td>\n",
       "</tr>\n",
       "<tr>\n",
       "<td>garimella_dd2_ERR012840_contigs</td>\n",
       "<td>Dd2</td>\n",
       "<td>/data/plasmodium/pfalciparum/pf-crosses/data/kiran_assemblies/20150413/HB3xDD2.DD2.PG0008-CW.ERR012840.fasta</td>\n",
       "<td style='text-align: right'>35987</td>\n",
       "</tr>\n",
       "<tr>\n",
       "<td>garimella_7g8_ERR027099_contigs</td>\n",
       "<td>7G8</td>\n",
       "<td>/data/plasmodium/pfalciparum/pf-crosses/data/kiran_assemblies/20150413/7G8xGB4.7G8.PG0083-C.ERR027099.fasta</td>\n",
       "<td style='text-align: right'>48139</td>\n",
       "</tr>\n",
       "<tr>\n",
       "<td>garimella_gb4_ERR027099_contigs</td>\n",
       "<td>GB4</td>\n",
       "<td>/data/plasmodium/pfalciparum/pf-crosses/data/kiran_assemblies/20150413/7G8xGB4.GB4.PG0084-C.ERR027100.fasta</td>\n",
       "<td style='text-align: right'>55456</td>\n",
       "</tr>\n",
       "<tr>\n",
       "<td>genbank_hb3_coding_sequences</td>\n",
       "<td>HB3</td>\n",
       "<td>/data/plasmodium/pfalciparum/pf-crosses/data/reference/genbank/hb3_coding_sequences.fasta</td>\n",
       "<td style='text-align: right'>48</td>\n",
       "</tr>\n",
       "</tbody>\n",
       "</table>\n"
      ]
     },
     "metadata": {},
     "output_type": "display_data"
    }
   ],
   "source": [
    "tbl_sequences = (\n",
    "    etl.wrap([\n",
    "        ['ID', 'clone', 'fasta'],\n",
    "        ['birren_hb3_contigs', 'HB3', '/data/plasmodium/pfalciparum/pf-crosses/data/reference/birren_2006/plasmodium_falciparum__isolate_hb3__1_contigs.fasta'],\n",
    "        ['birren_hb3_supercontigs', 'HB3', '/data/plasmodium/pfalciparum/pf-crosses/data/reference/birren_2006/plasmodium_falciparum__isolate_hb3__1_supercontigs.fasta'],\n",
    "        ['birren_dd2_contigs', 'Dd2', '/data/plasmodium/pfalciparum/pf-crosses/data/reference/birren_2006/plasmodium_falciparum__isolate_dd2__1_contigs.fasta'],\n",
    "        ['birren_dd2_supercontigs', 'Dd2', '/data/plasmodium/pfalciparum/pf-crosses/data/reference/birren_2006/plasmodium_falciparum__isolate_dd2__1_supercontigs.fasta'],\n",
    "        ['birren_7g8_contigs', '7G8', '/data/plasmodium/pfalciparum/pf-crosses/data/reference/birren_2006/plasmodium_falciparum__isolate_7g8__1_contigs.fasta'],\n",
    "        ['birren_7g8_supercontigs', '7G8', '/data/plasmodium/pfalciparum/pf-crosses/data/reference/birren_2006/plasmodium_falciparum__isolate_7g8__1_supercontigs.fasta'],\n",
    "        ['garimella_3d7_ERR019061_contigs', '3D7', '/data/plasmodium/pfalciparum/pf-crosses/data/kiran_assemblies/20150413/3D7xHB3.3D7.PG0051-C.ERR019061.fasta'],\n",
    "        ['garimella_hb3_ERR019054_contigs', 'HB3', '/data/plasmodium/pfalciparum/pf-crosses/data/kiran_assemblies/20150413/3D7xHB3.HB3.PG0052-C.ERR019054.fasta'],\n",
    "        ['garimella_hb3_ERR012788_contigs', 'HB3', '/data/plasmodium/pfalciparum/pf-crosses/data/kiran_assemblies/20150413/HB3xDD2.HB3.PG0004-CW.ERR012788.fasta'],\n",
    "        ['garimella_dd2_ERR012840_contigs', 'Dd2', '/data/plasmodium/pfalciparum/pf-crosses/data/kiran_assemblies/20150413/HB3xDD2.DD2.PG0008-CW.ERR012840.fasta'],\n",
    "        ['garimella_7g8_ERR027099_contigs', '7G8', '/data/plasmodium/pfalciparum/pf-crosses/data/kiran_assemblies/20150413/7G8xGB4.7G8.PG0083-C.ERR027099.fasta'],\n",
    "        ['garimella_gb4_ERR027099_contigs', 'GB4', '/data/plasmodium/pfalciparum/pf-crosses/data/kiran_assemblies/20150413/7G8xGB4.GB4.PG0084-C.ERR027100.fasta'],\n",
    "        ['genbank_hb3_coding_sequences', 'HB3', '/data/plasmodium/pfalciparum/pf-crosses/data/reference/genbank/hb3_coding_sequences.fasta'],\n",
    "    ])\n",
    "    .addfield('n_contigs', lambda row: len(pyfasta.Fasta(row.fasta, key_fn=lambda k: k.split()[0])))\n",
    ")\n",
    "tbl_sequences.displayall()"
   ]
  },
  {
   "cell_type": "code",
   "execution_count": 3,
   "metadata": {
    "collapsed": false
   },
   "outputs": [
    {
     "name": "stdout",
     "output_type": "stream",
     "text": [
      "Overwriting /data/plasmodium/pfalciparum/pf-crosses/data/evaluation/scripts/align_bwasw_default.sh\n"
     ]
    }
   ],
   "source": [
    "%%file /data/plasmodium/pfalciparum/pf-crosses/data/evaluation/scripts/align_bwasw_default.sh\n",
    "#!/bin/bash\n",
    "set -e\n",
    "set -u\n",
    "set -o pipefail\n",
    "set -x\n",
    "\n",
    "# arguments\n",
    "target=$1\n",
    "query=$2\n",
    "outdir=$3\n",
    "prefix=$4\n",
    "\n",
    "# programs\n",
    "bwa=/data/plasmodium/pfalciparum/pf-crosses/opt/bwa-0.7.12/bwa\n",
    "samtools=/data/plasmodium/pfalciparum/pf-crosses/opt/samtools-1.2/samtools\n",
    "\n",
    "# ensure target and query have been indexed \n",
    "if [ ! -f ${target}.sa ]\n",
    "then\n",
    "    $bwa index $target\n",
    "fi\n",
    "if [ ! -f ${query}.sa ]\n",
    "then\n",
    "    $bwa index $query\n",
    "fi\n",
    "\n",
    "# perform alignment to SAM\n",
    "samfile=${outdir}/${prefix}.sam\n",
    "if [ ! -f ${samfile}.ok ]\n",
    "then\n",
    "    $bwa bwasw -f $samfile -t4 $target $query\n",
    "    touch ${samfile}.ok\n",
    "fi\n",
    "\n",
    "# convert to BAM\n",
    "bamfile=${outdir}/${prefix}.bam\n",
    "if [ ! -f ${bamfile}.ok ]\n",
    "then\n",
    "    $samtools sort -O bam -o $bamfile -T ${bamfile}.tmp $samfile\n",
    "    $samtools index $bamfile\n",
    "    touch ${bamfile}.ok\n",
    "fi"
   ]
  },
  {
   "cell_type": "code",
   "execution_count": 4,
   "metadata": {
    "collapsed": false
   },
   "outputs": [
    {
     "name": "stdout",
     "output_type": "stream",
     "text": [
      "Overwriting /data/plasmodium/pfalciparum/pf-crosses/data/evaluation/scripts/align_bwamem_default.sh\n"
     ]
    }
   ],
   "source": [
    "%%file /data/plasmodium/pfalciparum/pf-crosses/data/evaluation/scripts/align_bwamem_default.sh\n",
    "#!/bin/bash\n",
    "set -e\n",
    "set -u\n",
    "set -o pipefail\n",
    "set -x\n",
    "\n",
    "# arguments\n",
    "target=$1\n",
    "query=$2\n",
    "outdir=$3\n",
    "prefix=$4\n",
    "\n",
    "# programs\n",
    "bwa=/data/plasmodium/pfalciparum/pf-crosses/opt/bwa-0.7.12/bwa\n",
    "samtools=/data/plasmodium/pfalciparum/pf-crosses/opt/samtools-1.2/samtools\n",
    "\n",
    "# ensure target and query have been indexed \n",
    "if [ ! -f ${target}.sa ]\n",
    "then\n",
    "    $bwa index $target\n",
    "fi\n",
    "if [ ! -f ${query}.sa ]\n",
    "then\n",
    "    $bwa index $query\n",
    "fi\n",
    "\n",
    "# perform alignment to SAM\n",
    "samfile=${outdir}/${prefix}.sam\n",
    "if [ ! -f ${samfile}.ok ]\n",
    "then\n",
    "    $bwa mem $target $query > $samfile\n",
    "    touch ${samfile}.ok\n",
    "fi\n",
    "\n",
    "# convert to BAM\n",
    "bamfile=${outdir}/${prefix}.bam\n",
    "if [ ! -f ${bamfile}.ok ]\n",
    "then\n",
    "    $samtools sort -O bam -o $bamfile -T ${bamfile}.tmp $samfile\n",
    "    $samtools index $bamfile\n",
    "    touch ${bamfile}.ok\n",
    "fi"
   ]
  },
  {
   "cell_type": "code",
   "execution_count": 5,
   "metadata": {
    "collapsed": false
   },
   "outputs": [
    {
     "name": "stdout",
     "output_type": "stream",
     "text": [
      "Overwriting /data/plasmodium/pfalciparum/pf-crosses/data/evaluation/scripts/align_bwamem_intractg.sh\n"
     ]
    }
   ],
   "source": [
    "%%file /data/plasmodium/pfalciparum/pf-crosses/data/evaluation/scripts/align_bwamem_intractg.sh\n",
    "#!/bin/bash\n",
    "set -e\n",
    "set -u\n",
    "set -o pipefail\n",
    "set -x\n",
    "\n",
    "# arguments\n",
    "target=$1\n",
    "query=$2\n",
    "outdir=$3\n",
    "prefix=$4\n",
    "\n",
    "# programs\n",
    "bwa=/data/plasmodium/pfalciparum/pf-crosses/opt/bwa-0.7.12/bwa\n",
    "samtools=/data/plasmodium/pfalciparum/pf-crosses/opt/samtools-1.2/samtools\n",
    "\n",
    "# ensure target and query have been indexed \n",
    "if [ ! -f ${target}.sa ]\n",
    "then\n",
    "    $bwa index $target\n",
    "fi\n",
    "if [ ! -f ${query}.sa ]\n",
    "then\n",
    "    $bwa index $query\n",
    "fi\n",
    "\n",
    "# perform alignment to SAM\n",
    "samfile=${outdir}/${prefix}.sam\n",
    "if [ ! -f ${samfile}.ok ]\n",
    "then\n",
    "    $bwa mem -x intractg $target $query > $samfile\n",
    "    touch ${samfile}.ok\n",
    "fi\n",
    "\n",
    "# convert to BAM\n",
    "bamfile=${outdir}/${prefix}.bam\n",
    "if [ ! -f ${bamfile}.ok ]\n",
    "then\n",
    "    $samtools sort -O bam -o $bamfile -T ${bamfile}.tmp $samfile\n",
    "    $samtools index $bamfile\n",
    "    touch ${bamfile}.ok\n",
    "fi"
   ]
  },
  {
   "cell_type": "code",
   "execution_count": 6,
   "metadata": {
    "collapsed": false
   },
   "outputs": [
    {
     "name": "stdout",
     "output_type": "stream",
     "text": [
      "Overwriting /data/plasmodium/pfalciparum/pf-crosses/data/evaluation/scripts/align_lastz_default.sh\n"
     ]
    }
   ],
   "source": [
    "%%file /data/plasmodium/pfalciparum/pf-crosses/data/evaluation/scripts/align_lastz_default.sh\n",
    "#!/bin/bash\n",
    "set -e\n",
    "set -u\n",
    "set -o pipefail\n",
    "set -x\n",
    "\n",
    "# arguments\n",
    "target=$1\n",
    "query=$2\n",
    "outdir=$3\n",
    "prefix=$4\n",
    "\n",
    "# programs\n",
    "bwa=/data/plasmodium/pfalciparum/pf-crosses/opt/bwa-0.7.12/bwa\n",
    "samtools=/data/plasmodium/pfalciparum/pf-crosses/opt/samtools-1.2/samtools\n",
    "lastz=/data/plasmodium/pfalciparum/pf-crosses/opt/lastz/lastz-distrib-1.03.66/bin/lastz\n",
    "\n",
    "# perform alignment to SAM\n",
    "samfile=${outdir}/${prefix}.sam\n",
    "if [ ! -f ${samfile}.ok ]\n",
    "then\n",
    "    $lastz ${target}[multiple] $query --queryhspbest=1 --format=sam --output=$samfile --progress=1\n",
    "    touch ${samfile}.ok\n",
    "fi\n",
    "\n",
    "# convert to BAM\n",
    "bamfile=${outdir}/${prefix}.bam\n",
    "if [ ! -f ${bamfile}.ok ]\n",
    "then\n",
    "    $samtools sort -O bam -o $bamfile -T ${bamfile}.tmp $samfile\n",
    "    $samtools index $bamfile\n",
    "    touch ${bamfile}.ok\n",
    "fi"
   ]
  },
  {
   "cell_type": "code",
   "execution_count": 7,
   "metadata": {
    "collapsed": false
   },
   "outputs": [
    {
     "name": "stdout",
     "output_type": "stream",
     "text": [
      "Overwriting /data/plasmodium/pfalciparum/pf-crosses/data/evaluation/scripts/call_bcftools_consensus.sh\n"
     ]
    }
   ],
   "source": [
    "%%file /data/plasmodium/pfalciparum/pf-crosses/data/evaluation/scripts/call_bcftools_consensus.sh\n",
    "#!/bin/bash\n",
    "set -e\n",
    "set -u\n",
    "set -o pipefail\n",
    "set -x\n",
    "\n",
    "# arguments\n",
    "fasta=$1\n",
    "bamfile=$2\n",
    "outdir=$3\n",
    "prefix=$4\n",
    "\n",
    "# programs\n",
    "samtools=/data/plasmodium/pfalciparum/pf-crosses/opt/samtools-1.2/samtools\n",
    "bcftools=/data/plasmodium/pfalciparum/pf-crosses/opt/bcftools-1.2/bcftools\n",
    "java=/usr/lib/jvm/java-7-openjdk-amd64/bin/java\n",
    "gatk_jar=/data/plasmodium/pfalciparum/pf-crosses/opt/GenomeAnalysisTK-3.3-0/GenomeAnalysisTK.jar\n",
    "gatk=\"$java -Xmx2G -jar $gatk_jar -R $fasta\"\n",
    "\n",
    "# create samples file\n",
    "samplesfile=${outdir}/${prefix}.samples\n",
    "echo -e \"${bamfile}\\t1\" > $samplesfile\n",
    "\n",
    "# perform calling\n",
    "vcffile_raw_bgz=${outdir}/${prefix}.raw.vcf.gz\n",
    "vcffile_leftaligned=${outdir}/${prefix}.leftaligned.vcf\n",
    "indicator=${outdir}/${prefix}.ok\n",
    "if [ ! -f $indicator ]\n",
    "then\n",
    "    $samtools mpileup \\\n",
    "        --uncompressed \\\n",
    "        --vcf \\\n",
    "        --count-orphans \\\n",
    "        --no-BAQ \\\n",
    "        --ignore-overlaps \\\n",
    "        --fasta-ref $fasta $bamfile \\\n",
    "        | $bcftools call - \\\n",
    "            --consensus-caller \\\n",
    "            --output-type v \\\n",
    "            --samples-file $samplesfile \\\n",
    "            --variants-only \\\n",
    "        | bgzip -c > $vcffile_raw_bgz\n",
    "    tabix -p vcf $vcffile_raw_bgz\n",
    "    $gatk -T LeftAlignAndTrimVariants -V $vcffile_raw_bgz -o $vcffile_leftaligned\n",
    "    bgzip $vcffile_leftaligned\n",
    "    tabix -p vcf ${vcffile_leftaligned}.gz\n",
    "    touch $indicator\n",
    "fi"
   ]
  },
  {
   "cell_type": "code",
   "execution_count": 8,
   "metadata": {
    "collapsed": false
   },
   "outputs": [
    {
     "name": "stdout",
     "output_type": "stream",
     "text": [
      "Overwriting /data/plasmodium/pfalciparum/pf-crosses/data/evaluation/scripts/call_bcftools_multiallelic.sh\n"
     ]
    }
   ],
   "source": [
    "%%file /data/plasmodium/pfalciparum/pf-crosses/data/evaluation/scripts/call_bcftools_multiallelic.sh\n",
    "#!/bin/bash\n",
    "set -e\n",
    "set -u\n",
    "set -o pipefail\n",
    "set -x\n",
    "\n",
    "# arguments\n",
    "fasta=$1\n",
    "bamfile=$2\n",
    "outdir=$3\n",
    "prefix=$4\n",
    "\n",
    "# programs\n",
    "samtools=/data/plasmodium/pfalciparum/pf-crosses/opt/samtools-1.2/samtools\n",
    "bcftools=/data/plasmodium/pfalciparum/pf-crosses/opt/bcftools-1.2/bcftools\n",
    "java=/usr/lib/jvm/java-7-openjdk-amd64/bin/java\n",
    "gatk_jar=/data/plasmodium/pfalciparum/pf-crosses/opt/GenomeAnalysisTK-3.3-0/GenomeAnalysisTK.jar\n",
    "gatk=\"$java -Xmx2G -jar $gatk_jar -R $fasta\"\n",
    "\n",
    "# create samples file\n",
    "samplesfile=${outdir}/${prefix}.samples\n",
    "echo -e \"${bamfile}\\t1\" > $samplesfile\n",
    "\n",
    "# perform calling\n",
    "vcffile_raw_bgz=${outdir}/${prefix}.raw.vcf.gz\n",
    "vcffile_leftaligned=${outdir}/${prefix}.leftaligned.vcf\n",
    "indicator=${outdir}/${prefix}.ok\n",
    "if [ ! -f $indicator ]\n",
    "then\n",
    "    $samtools mpileup \\\n",
    "        --uncompressed \\\n",
    "        --vcf \\\n",
    "        --count-orphans \\\n",
    "        --no-BAQ \\\n",
    "        --ignore-overlaps \\\n",
    "        --fasta-ref $fasta $bamfile \\\n",
    "        --open-prob 0 \\\n",
    "        --ext-prob 0 \\\n",
    "        --tandem-qual 0 \\\n",
    "        | $bcftools call - \\\n",
    "            --multiallelic-caller \\\n",
    "            --output-type v \\\n",
    "            --samples-file $samplesfile \\\n",
    "            --variants-only \\\n",
    "            --prior 0 \\\n",
    "        | bgzip -c > $vcffile_raw_bgz\n",
    "    tabix -p vcf $vcffile_raw_bgz\n",
    "    $gatk -T LeftAlignAndTrimVariants -V $vcffile_raw_bgz -o $vcffile_leftaligned\n",
    "    bgzip $vcffile_leftaligned\n",
    "    tabix -p vcf ${vcffile_leftaligned}.gz\n",
    "    touch $indicator\n",
    "fi"
   ]
  },
  {
   "cell_type": "code",
   "execution_count": 9,
   "metadata": {
    "collapsed": false
   },
   "outputs": [
    {
     "name": "stdout",
     "output_type": "stream",
     "text": [
      "Overwriting /data/plasmodium/pfalciparum/pf-crosses/data/evaluation/scripts/call_gatk_ug.sh\n"
     ]
    }
   ],
   "source": [
    "%%file /data/plasmodium/pfalciparum/pf-crosses/data/evaluation/scripts/call_gatk_ug.sh\n",
    "#!/bin/bash\n",
    "set -e\n",
    "set -u\n",
    "set -o pipefail\n",
    "set -x\n",
    "\n",
    "# arguments\n",
    "fasta=$1\n",
    "bamfile=$2\n",
    "outdir=$3\n",
    "prefix=$4\n",
    "\n",
    "# programs\n",
    "java=/usr/lib/jvm/java-7-openjdk-amd64/bin/java\n",
    "gatk_jar=/data/plasmodium/pfalciparum/pf-crosses/opt/GenomeAnalysisTK-3.3-0/GenomeAnalysisTK.jar\n",
    "gatk=\"$java -Xmx2G -jar $gatk_jar -R $fasta\"\n",
    "picard=/data/plasmodium/pfalciparum/pf-crosses/opt/picard-tools-1.77\n",
    "samtools=/data/plasmodium/pfalciparum/pf-crosses/opt/samtools-1.2/samtools\n",
    "\n",
    "# add read groups for GATK\n",
    "fixedbamfile=${outdir}/${prefix}.fixed.bam\n",
    "$java -Xmx2g -jar ${picard}/AddOrReplaceReadGroups.jar \\\n",
    "    INPUT=$bamfile \\\n",
    "    OUTPUT=$fixedbamfile \\\n",
    "    ID=$prefix \\\n",
    "    LB=$prefix \\\n",
    "    PL=unknown \\\n",
    "    PU=$prefix \\\n",
    "    SM=$prefix \\\n",
    "    VALIDATION_STRINGENCY=LENIENT \n",
    "$samtools index $fixedbamfile\n",
    "\n",
    "# perform calling\n",
    "vcffile_raw=${outdir}/${prefix}.raw.vcf\n",
    "vcffile_leftaligned=${outdir}/${prefix}.leftaligned.vcf\n",
    "indicator=${outdir}/${prefix}.ok\n",
    "if [ ! -f $indicator ]\n",
    "then\n",
    "    $gatk -T UnifiedGenotyper \\\n",
    "        -I $fixedbamfile \\\n",
    "        -o $vcffile_raw \\\n",
    "        -stand_emit_conf 0 \\\n",
    "        -stand_call_conf 0 \\\n",
    "        -ploidy 1 \\\n",
    "        -glm BOTH \\\n",
    "        --defaultBaseQualities 30 \\\n",
    "        -mbq 1 \\\n",
    "        -minIndelCnt 1 \n",
    "    $gatk -T LeftAlignAndTrimVariants -V $vcffile_raw -o $vcffile_leftaligned\n",
    "    bgzip $vcffile_leftaligned\n",
    "    tabix -p vcf ${vcffile_leftaligned}.gz\n",
    "    touch $indicator\n",
    "fi"
   ]
  },
  {
   "cell_type": "code",
   "execution_count": 10,
   "metadata": {
    "collapsed": false
   },
   "outputs": [
    {
     "name": "stdout",
     "output_type": "stream",
     "text": [
      "Overwriting /data/plasmodium/pfalciparum/pf-crosses/data/evaluation/scripts/call_freebayes.sh\n"
     ]
    }
   ],
   "source": [
    "%%file /data/plasmodium/pfalciparum/pf-crosses/data/evaluation/scripts/call_freebayes.sh\n",
    "#!/bin/bash\n",
    "set -e\n",
    "set -u\n",
    "set -o pipefail\n",
    "set -x\n",
    "\n",
    "# arguments\n",
    "fasta=$1\n",
    "bamfile=$2\n",
    "outdir=$3\n",
    "prefix=$4\n",
    "\n",
    "# programs\n",
    "java=/usr/lib/jvm/java-7-openjdk-amd64/bin/java\n",
    "gatk_jar=/data/plasmodium/pfalciparum/pf-crosses/opt/GenomeAnalysisTK-3.3-0/GenomeAnalysisTK.jar\n",
    "gatk=\"$java -Xmx2G -jar $gatk_jar -R $fasta\"\n",
    "picard=/data/plasmodium/pfalciparum/pf-crosses/opt/picard-tools-1.77\n",
    "samtools=/data/plasmodium/pfalciparum/pf-crosses/opt/samtools-1.2/samtools\n",
    "freebayes=/data/plasmodium/pfalciparum/pf-crosses/opt/freebayes/bin/freebayes\n",
    "\n",
    "# add read groups for GATK\n",
    "fixedbamfile=${outdir}/${prefix}.fixed.bam\n",
    "$java -Xmx2g -jar ${picard}/AddOrReplaceReadGroups.jar \\\n",
    "    INPUT=$bamfile \\\n",
    "    OUTPUT=$fixedbamfile \\\n",
    "    ID=$prefix \\\n",
    "    LB=$prefix \\\n",
    "    PL=unknown \\\n",
    "    PU=$prefix \\\n",
    "    SM=$prefix \\\n",
    "    VALIDATION_STRINGENCY=LENIENT \n",
    "$samtools index $fixedbamfile\n",
    "\n",
    "# perform calling\n",
    "vcffile_raw=${outdir}/${prefix}.raw.vcf\n",
    "vcffile_leftaligned=${outdir}/${prefix}.leftaligned.vcf\n",
    "indicator=${outdir}/${prefix}.ok\n",
    "if [ ! -f $indicator ]\n",
    "then\n",
    "    $freebayes -f $fasta \\\n",
    "        --ploidy 1 \\\n",
    "        --min-alternate-count 1 \\\n",
    "        --min-alternate-fraction 0 \\\n",
    "        --hwe-priors-off \\\n",
    "        --binomial-obs-priors-off \\\n",
    "        --allele-balance-priors-off \\\n",
    "        --report-genotype-likelihood-max \\\n",
    "        --haplotype-length 0 \\\n",
    "        --use-reference-allele --reference-quality 0,0 \\\n",
    "        --legacy-gls \\\n",
    "        $fixedbamfile > $vcffile_raw\n",
    "    $gatk -T LeftAlignAndTrimVariants -V $vcffile_raw -o $vcffile_leftaligned\n",
    "    bgzip $vcffile_leftaligned\n",
    "    tabix -p vcf ${vcffile_leftaligned}.gz\n",
    "    touch $indicator\n",
    "fi"
   ]
  },
  {
   "cell_type": "code",
   "execution_count": 12,
   "metadata": {
    "collapsed": true
   },
   "outputs": [],
   "source": [
    "tbl_alignment_configurations = etl.wrap([\n",
    "    ['ID', 'script'],\n",
    "    ['bwasw_default', '/data/plasmodium/pfalciparum/pf-crosses/data/evaluation/scripts/align_bwasw_default.sh'],\n",
    "    ['bwamem_default', '/data/plasmodium/pfalciparum/pf-crosses/data/evaluation/scripts/align_bwamem_default.sh'],\n",
    "    ['bwamem_intractg', '/data/plasmodium/pfalciparum/pf-crosses/data/evaluation/scripts/align_bwamem_intractg.sh'],\n",
    "#    ['lastz_default', '/data/plasmodium/pfalciparum/pf-crosses/data/evaluation/scripts/align_lastz_default.sh'],\n",
    "])"
   ]
  },
  {
   "cell_type": "code",
   "execution_count": 13,
   "metadata": {
    "collapsed": true
   },
   "outputs": [],
   "source": [
    "tbl_calling_configurations = etl.wrap([\n",
    "    ['ID', 'script'],\n",
    "    ['bcftools_consensus', '/data/plasmodium/pfalciparum/pf-crosses/data/evaluation/scripts/call_bcftools_consensus.sh'],\n",
    "    ['bcftools_multiallelic', '/data/plasmodium/pfalciparum/pf-crosses/data/evaluation/scripts/call_bcftools_multiallelic.sh'],\n",
    "    ['gatk_ug', '/data/plasmodium/pfalciparum/pf-crosses/data/evaluation/scripts/call_gatk_ug.sh'],\n",
    "#    ['freebayes', '/data/plasmodium/pfalciparum/pf-crosses/data/evaluation/scripts/call_freebayes.sh'],\n",
    "])"
   ]
  },
  {
   "cell_type": "code",
   "execution_count": 14,
   "metadata": {
    "collapsed": true
   },
   "outputs": [],
   "source": [
    "truth_dir = '/data/plasmodium/pfalciparum/pf-crosses/data/evaluation/truth'"
   ]
  },
  {
   "cell_type": "code",
   "execution_count": 15,
   "metadata": {
    "collapsed": true
   },
   "outputs": [],
   "source": [
    "target = '/data/plasmodium/pfalciparum/pf-crosses/data/genome/sanger/version3/September_2012/Pf3D7_v3.lookseq.fa'"
   ]
  },
  {
   "cell_type": "markdown",
   "metadata": {},
   "source": [
    "## Run alignments"
   ]
  },
  {
   "cell_type": "code",
   "execution_count": 15,
   "metadata": {
    "collapsed": false
   },
   "outputs": [
    {
     "name": "stderr",
     "output_type": "stream",
     "text": [
      "2015-04-14 08:44:08.185434 :: birren_hb3_contigs HB3 /data/plasmodium/pfalciparum/pf-crosses/data/reference/birren_2006/plasmodium_falciparum__isolate_hb3__1_contigs.fasta\n",
      "2015-04-14 08:44:08.187089 :: bwasw_default /data/plasmodium/pfalciparum/pf-crosses/data/evaluation/scripts/align_bwasw_default.sh\n",
      "2015-04-14 08:44:08.251570 :: bwamem_default /data/plasmodium/pfalciparum/pf-crosses/data/evaluation/scripts/align_bwamem_default.sh\n",
      "2015-04-14 08:44:08.313901 :: bwamem_intractg /data/plasmodium/pfalciparum/pf-crosses/data/evaluation/scripts/align_bwamem_intractg.sh\n",
      "2015-04-14 08:44:08.384665 :: birren_hb3_supercontigs HB3 /data/plasmodium/pfalciparum/pf-crosses/data/reference/birren_2006/plasmodium_falciparum__isolate_hb3__1_supercontigs.fasta\n",
      "2015-04-14 08:44:08.386507 :: bwasw_default /data/plasmodium/pfalciparum/pf-crosses/data/evaluation/scripts/align_bwasw_default.sh\n",
      "2015-04-14 08:44:08.446874 :: bwamem_default /data/plasmodium/pfalciparum/pf-crosses/data/evaluation/scripts/align_bwamem_default.sh\n",
      "2015-04-14 08:44:08.509619 :: bwamem_intractg /data/plasmodium/pfalciparum/pf-crosses/data/evaluation/scripts/align_bwamem_intractg.sh\n",
      "2015-04-14 08:44:09.192147 :: birren_dd2_contigs Dd2 /data/plasmodium/pfalciparum/pf-crosses/data/reference/birren_2006/plasmodium_falciparum__isolate_dd2__1_contigs.fasta\n",
      "2015-04-14 08:44:09.194199 :: bwasw_default /data/plasmodium/pfalciparum/pf-crosses/data/evaluation/scripts/align_bwasw_default.sh\n",
      "2015-04-14 08:44:09.253386 :: bwamem_default /data/plasmodium/pfalciparum/pf-crosses/data/evaluation/scripts/align_bwamem_default.sh\n",
      "2015-04-14 08:44:09.316748 :: bwamem_intractg /data/plasmodium/pfalciparum/pf-crosses/data/evaluation/scripts/align_bwamem_intractg.sh\n",
      "2015-04-14 08:44:09.696450 :: birren_dd2_supercontigs Dd2 /data/plasmodium/pfalciparum/pf-crosses/data/reference/birren_2006/plasmodium_falciparum__isolate_dd2__1_supercontigs.fasta\n",
      "2015-04-14 08:44:09.698556 :: bwasw_default /data/plasmodium/pfalciparum/pf-crosses/data/evaluation/scripts/align_bwasw_default.sh\n",
      "2015-04-14 08:44:09.769652 :: bwamem_default /data/plasmodium/pfalciparum/pf-crosses/data/evaluation/scripts/align_bwamem_default.sh\n",
      "2015-04-14 08:44:09.831108 :: bwamem_intractg /data/plasmodium/pfalciparum/pf-crosses/data/evaluation/scripts/align_bwamem_intractg.sh\n",
      "2015-04-14 08:44:10.225784 :: birren_7g8_contigs 7G8 /data/plasmodium/pfalciparum/pf-crosses/data/reference/birren_2006/plasmodium_falciparum__isolate_7g8__1_contigs.fasta\n",
      "2015-04-14 08:44:10.228131 :: bwasw_default /data/plasmodium/pfalciparum/pf-crosses/data/evaluation/scripts/align_bwasw_default.sh\n",
      "2015-04-14 08:44:10.288119 :: bwamem_default /data/plasmodium/pfalciparum/pf-crosses/data/evaluation/scripts/align_bwamem_default.sh\n",
      "2015-04-14 08:44:10.349203 :: bwamem_intractg /data/plasmodium/pfalciparum/pf-crosses/data/evaluation/scripts/align_bwamem_intractg.sh\n",
      "2015-04-14 08:44:10.738004 :: birren_7g8_supercontigs 7G8 /data/plasmodium/pfalciparum/pf-crosses/data/reference/birren_2006/plasmodium_falciparum__isolate_7g8__1_supercontigs.fasta\n",
      "2015-04-14 08:44:10.740177 :: bwasw_default /data/plasmodium/pfalciparum/pf-crosses/data/evaluation/scripts/align_bwasw_default.sh\n",
      "2015-04-14 08:44:10.803181 :: bwamem_default /data/plasmodium/pfalciparum/pf-crosses/data/evaluation/scripts/align_bwamem_default.sh\n",
      "2015-04-14 08:44:10.871954 :: bwamem_intractg /data/plasmodium/pfalciparum/pf-crosses/data/evaluation/scripts/align_bwamem_intractg.sh\n",
      "2015-04-14 08:44:11.434385 :: garimella_3d7_ERR019061_contigs 3D7 /data/plasmodium/pfalciparum/pf-crosses/data/kiran_assemblies/20150413/3D7xHB3.3D7.PG0051-C.ERR019061.fasta\n",
      "2015-04-14 08:44:11.436740 :: bwasw_default /data/plasmodium/pfalciparum/pf-crosses/data/evaluation/scripts/align_bwasw_default.sh\n",
      "2015-04-14 08:44:11.495869 :: bwamem_default /data/plasmodium/pfalciparum/pf-crosses/data/evaluation/scripts/align_bwamem_default.sh\n",
      "2015-04-14 08:44:11.569601 :: bwamem_intractg /data/plasmodium/pfalciparum/pf-crosses/data/evaluation/scripts/align_bwamem_intractg.sh\n",
      "2015-04-14 08:44:12.087053 :: garimella_hb3_ERR019054_contigs HB3 /data/plasmodium/pfalciparum/pf-crosses/data/kiran_assemblies/20150413/3D7xHB3.HB3.PG0052-C.ERR019054.fasta\n",
      "2015-04-14 08:44:12.090113 :: bwasw_default /data/plasmodium/pfalciparum/pf-crosses/data/evaluation/scripts/align_bwasw_default.sh\n",
      "2015-04-14 08:44:12.150827 :: bwamem_default /data/plasmodium/pfalciparum/pf-crosses/data/evaluation/scripts/align_bwamem_default.sh\n",
      "2015-04-14 08:44:12.217652 :: bwamem_intractg /data/plasmodium/pfalciparum/pf-crosses/data/evaluation/scripts/align_bwamem_intractg.sh\n",
      "2015-04-14 08:44:12.710580 :: garimella_hb3_ERR012788_contigs HB3 /data/plasmodium/pfalciparum/pf-crosses/data/kiran_assemblies/20150413/HB3xDD2.HB3.PG0004-CW.ERR012788.fasta\n",
      "2015-04-14 08:44:12.712958 :: bwasw_default /data/plasmodium/pfalciparum/pf-crosses/data/evaluation/scripts/align_bwasw_default.sh\n",
      "2015-04-14 08:44:12.772121 :: bwamem_default /data/plasmodium/pfalciparum/pf-crosses/data/evaluation/scripts/align_bwamem_default.sh\n",
      "2015-04-14 08:44:12.834670 :: bwamem_intractg /data/plasmodium/pfalciparum/pf-crosses/data/evaluation/scripts/align_bwamem_intractg.sh\n",
      "2015-04-14 08:44:13.320216 :: garimella_dd2_ERR012840_contigs Dd2 /data/plasmodium/pfalciparum/pf-crosses/data/kiran_assemblies/20150413/HB3xDD2.DD2.PG0008-CW.ERR012840.fasta\n",
      "2015-04-14 08:44:13.322493 :: bwasw_default /data/plasmodium/pfalciparum/pf-crosses/data/evaluation/scripts/align_bwasw_default.sh\n",
      "2015-04-14 08:44:13.382898 :: bwamem_default /data/plasmodium/pfalciparum/pf-crosses/data/evaluation/scripts/align_bwamem_default.sh\n",
      "2015-04-14 08:44:13.445096 :: bwamem_intractg /data/plasmodium/pfalciparum/pf-crosses/data/evaluation/scripts/align_bwamem_intractg.sh\n",
      "2015-04-14 08:44:13.971084 :: garimella_7g8_ERR027099_contigs 7G8 /data/plasmodium/pfalciparum/pf-crosses/data/kiran_assemblies/20150413/7G8xGB4.7G8.PG0083-C.ERR027099.fasta\n",
      "2015-04-14 08:44:13.973368 :: bwasw_default /data/plasmodium/pfalciparum/pf-crosses/data/evaluation/scripts/align_bwasw_default.sh\n",
      "2015-04-14 08:44:14.032641 :: bwamem_default /data/plasmodium/pfalciparum/pf-crosses/data/evaluation/scripts/align_bwamem_default.sh\n",
      "2015-04-14 08:44:14.101690 :: bwamem_intractg /data/plasmodium/pfalciparum/pf-crosses/data/evaluation/scripts/align_bwamem_intractg.sh\n",
      "2015-04-14 08:44:14.651977 :: garimella_gb4_ERR027099_contigs GB4 /data/plasmodium/pfalciparum/pf-crosses/data/kiran_assemblies/20150413/7G8xGB4.GB4.PG0084-C.ERR027100.fasta\n",
      "2015-04-14 08:44:14.654236 :: bwasw_default /data/plasmodium/pfalciparum/pf-crosses/data/evaluation/scripts/align_bwasw_default.sh\n",
      "2015-04-14 08:44:14.713967 :: bwamem_default /data/plasmodium/pfalciparum/pf-crosses/data/evaluation/scripts/align_bwamem_default.sh\n",
      "2015-04-14 08:44:14.776359 :: bwamem_intractg /data/plasmodium/pfalciparum/pf-crosses/data/evaluation/scripts/align_bwamem_intractg.sh\n",
      "2015-04-14 08:44:14.842689 :: genbank_hb3_coding_sequences HB3 /data/plasmodium/pfalciparum/pf-crosses/data/reference/genbank/hb3_coding_sequences.fasta\n",
      "2015-04-14 08:44:14.844883 :: bwasw_default /data/plasmodium/pfalciparum/pf-crosses/data/evaluation/scripts/align_bwasw_default.sh\n",
      "2015-04-14 08:44:14.905710 :: bwamem_default /data/plasmodium/pfalciparum/pf-crosses/data/evaluation/scripts/align_bwamem_default.sh\n",
      "2015-04-14 08:44:14.967963 :: bwamem_intractg /data/plasmodium/pfalciparum/pf-crosses/data/evaluation/scripts/align_bwamem_intractg.sh\n"
     ]
    }
   ],
   "source": [
    "for prefix, clone, query, _ in tbl_sequences.data():\n",
    "    log(prefix, clone, query)\n",
    "    for config, script in tbl_alignment_configurations.data():\n",
    "        log(config, script)\n",
    "        outdir = os.path.join(truth_dir, config, 'alignment')\n",
    "        if not os.path.exists(outdir):\n",
    "            os.makedirs(outdir)\n",
    "        !(bash {script} {target} {query} {outdir} {prefix} > {outdir}/{prefix}.log 2>&1 &)"
   ]
  },
  {
   "cell_type": "markdown",
   "metadata": {},
   "source": [
    "## Run calling"
   ]
  },
  {
   "cell_type": "code",
   "execution_count": 16,
   "metadata": {
    "collapsed": false
   },
   "outputs": [
    {
     "name": "stderr",
     "output_type": "stream",
     "text": [
      "2015-04-14 15:01:37.587699 :: birren_hb3_contigs\n",
      "2015-04-14 15:01:37.589474 :: bwasw_default\n",
      "2015-04-14 15:01:37.590633 :: /data/plasmodium/pfalciparum/pf-crosses/data/evaluation/truth/bwasw_default/alignment/birren_hb3_contigs.bam\n",
      "2015-04-14 15:01:37.591617 :: bcftools_consensus /data/plasmodium/pfalciparum/pf-crosses/data/evaluation/scripts/call_bcftools_consensus.sh\n",
      "2015-04-14 15:01:37.652892 :: bcftools_multiallelic /data/plasmodium/pfalciparum/pf-crosses/data/evaluation/scripts/call_bcftools_multiallelic.sh\n",
      "2015-04-14 15:01:37.713486 :: gatk_ug /data/plasmodium/pfalciparum/pf-crosses/data/evaluation/scripts/call_gatk_ug.sh\n",
      "2015-04-14 15:01:37.771122 :: bwamem_default\n",
      "2015-04-14 15:01:37.773108 :: /data/plasmodium/pfalciparum/pf-crosses/data/evaluation/truth/bwamem_default/alignment/birren_hb3_contigs.bam\n",
      "2015-04-14 15:01:37.774207 :: bcftools_consensus /data/plasmodium/pfalciparum/pf-crosses/data/evaluation/scripts/call_bcftools_consensus.sh\n",
      "2015-04-14 15:01:37.830438 :: bcftools_multiallelic /data/plasmodium/pfalciparum/pf-crosses/data/evaluation/scripts/call_bcftools_multiallelic.sh\n",
      "2015-04-14 15:01:37.889404 :: gatk_ug /data/plasmodium/pfalciparum/pf-crosses/data/evaluation/scripts/call_gatk_ug.sh\n",
      "2015-04-14 15:01:37.952553 :: bwamem_intractg\n",
      "2015-04-14 15:01:37.954618 :: /data/plasmodium/pfalciparum/pf-crosses/data/evaluation/truth/bwamem_intractg/alignment/birren_hb3_contigs.bam\n",
      "2015-04-14 15:01:37.955760 :: bcftools_consensus /data/plasmodium/pfalciparum/pf-crosses/data/evaluation/scripts/call_bcftools_consensus.sh\n",
      "2015-04-14 15:01:38.016976 :: bcftools_multiallelic /data/plasmodium/pfalciparum/pf-crosses/data/evaluation/scripts/call_bcftools_multiallelic.sh\n",
      "2015-04-14 15:01:38.076478 :: gatk_ug /data/plasmodium/pfalciparum/pf-crosses/data/evaluation/scripts/call_gatk_ug.sh\n",
      "2015-04-14 15:01:38.145233 :: birren_hb3_supercontigs\n",
      "2015-04-14 15:01:38.147172 :: bwasw_default\n",
      "2015-04-14 15:01:38.148331 :: /data/plasmodium/pfalciparum/pf-crosses/data/evaluation/truth/bwasw_default/alignment/birren_hb3_supercontigs.bam\n",
      "2015-04-14 15:01:38.149389 :: bcftools_consensus /data/plasmodium/pfalciparum/pf-crosses/data/evaluation/scripts/call_bcftools_consensus.sh\n",
      "2015-04-14 15:01:38.206826 :: bcftools_multiallelic /data/plasmodium/pfalciparum/pf-crosses/data/evaluation/scripts/call_bcftools_multiallelic.sh\n",
      "2015-04-14 15:01:38.266348 :: gatk_ug /data/plasmodium/pfalciparum/pf-crosses/data/evaluation/scripts/call_gatk_ug.sh\n",
      "2015-04-14 15:01:38.325779 :: bwamem_default\n",
      "2015-04-14 15:01:38.327851 :: /data/plasmodium/pfalciparum/pf-crosses/data/evaluation/truth/bwamem_default/alignment/birren_hb3_supercontigs.bam\n",
      "2015-04-14 15:01:38.328974 :: bcftools_consensus /data/plasmodium/pfalciparum/pf-crosses/data/evaluation/scripts/call_bcftools_consensus.sh\n",
      "2015-04-14 15:01:38.392891 :: bcftools_multiallelic /data/plasmodium/pfalciparum/pf-crosses/data/evaluation/scripts/call_bcftools_multiallelic.sh\n",
      "2015-04-14 15:01:38.447252 :: gatk_ug /data/plasmodium/pfalciparum/pf-crosses/data/evaluation/scripts/call_gatk_ug.sh\n",
      "2015-04-14 15:01:38.501995 :: bwamem_intractg\n",
      "2015-04-14 15:01:38.504075 :: /data/plasmodium/pfalciparum/pf-crosses/data/evaluation/truth/bwamem_intractg/alignment/birren_hb3_supercontigs.bam\n",
      "2015-04-14 15:01:38.505241 :: bcftools_consensus /data/plasmodium/pfalciparum/pf-crosses/data/evaluation/scripts/call_bcftools_consensus.sh\n",
      "2015-04-14 15:01:38.560793 :: bcftools_multiallelic /data/plasmodium/pfalciparum/pf-crosses/data/evaluation/scripts/call_bcftools_multiallelic.sh\n",
      "2015-04-14 15:01:38.608532 :: gatk_ug /data/plasmodium/pfalciparum/pf-crosses/data/evaluation/scripts/call_gatk_ug.sh\n",
      "2015-04-14 15:01:40.479256 :: birren_dd2_contigs\n",
      "2015-04-14 15:01:40.481595 :: bwasw_default\n",
      "2015-04-14 15:01:40.482932 :: /data/plasmodium/pfalciparum/pf-crosses/data/evaluation/truth/bwasw_default/alignment/birren_dd2_contigs.bam\n",
      "2015-04-14 15:01:40.485661 :: bcftools_consensus /data/plasmodium/pfalciparum/pf-crosses/data/evaluation/scripts/call_bcftools_consensus.sh\n",
      "2015-04-14 15:01:40.530457 :: bcftools_multiallelic /data/plasmodium/pfalciparum/pf-crosses/data/evaluation/scripts/call_bcftools_multiallelic.sh\n",
      "2015-04-14 15:01:40.575115 :: gatk_ug /data/plasmodium/pfalciparum/pf-crosses/data/evaluation/scripts/call_gatk_ug.sh\n",
      "2015-04-14 15:01:40.624592 :: bwamem_default\n",
      "2015-04-14 15:01:40.627527 :: /data/plasmodium/pfalciparum/pf-crosses/data/evaluation/truth/bwamem_default/alignment/birren_dd2_contigs.bam\n",
      "2015-04-14 15:01:40.629386 :: bcftools_consensus /data/plasmodium/pfalciparum/pf-crosses/data/evaluation/scripts/call_bcftools_consensus.sh\n",
      "2015-04-14 15:01:40.674285 :: bcftools_multiallelic /data/plasmodium/pfalciparum/pf-crosses/data/evaluation/scripts/call_bcftools_multiallelic.sh\n",
      "2015-04-14 15:01:40.730855 :: gatk_ug /data/plasmodium/pfalciparum/pf-crosses/data/evaluation/scripts/call_gatk_ug.sh\n",
      "2015-04-14 15:01:40.771102 :: bwamem_intractg\n",
      "2015-04-14 15:01:40.772212 :: /data/plasmodium/pfalciparum/pf-crosses/data/evaluation/truth/bwamem_intractg/alignment/birren_dd2_contigs.bam\n",
      "2015-04-14 15:01:40.772726 :: bcftools_consensus /data/plasmodium/pfalciparum/pf-crosses/data/evaluation/scripts/call_bcftools_consensus.sh\n",
      "2015-04-14 15:01:40.830378 :: bcftools_multiallelic /data/plasmodium/pfalciparum/pf-crosses/data/evaluation/scripts/call_bcftools_multiallelic.sh\n",
      "2015-04-14 15:01:40.895069 :: gatk_ug /data/plasmodium/pfalciparum/pf-crosses/data/evaluation/scripts/call_gatk_ug.sh\n",
      "2015-04-14 15:01:41.886168 :: birren_dd2_supercontigs\n",
      "2015-04-14 15:01:41.890853 :: bwasw_default\n",
      "2015-04-14 15:01:41.891525 :: /data/plasmodium/pfalciparum/pf-crosses/data/evaluation/truth/bwasw_default/alignment/birren_dd2_supercontigs.bam\n",
      "2015-04-14 15:01:41.892058 :: bcftools_consensus /data/plasmodium/pfalciparum/pf-crosses/data/evaluation/scripts/call_bcftools_consensus.sh\n",
      "2015-04-14 15:01:41.949756 :: bcftools_multiallelic /data/plasmodium/pfalciparum/pf-crosses/data/evaluation/scripts/call_bcftools_multiallelic.sh\n",
      "2015-04-14 15:01:42.012938 :: gatk_ug /data/plasmodium/pfalciparum/pf-crosses/data/evaluation/scripts/call_gatk_ug.sh\n",
      "2015-04-14 15:01:42.077310 :: bwamem_default\n",
      "2015-04-14 15:01:42.081612 :: /data/plasmodium/pfalciparum/pf-crosses/data/evaluation/truth/bwamem_default/alignment/birren_dd2_supercontigs.bam\n",
      "2015-04-14 15:01:42.083111 :: bcftools_consensus /data/plasmodium/pfalciparum/pf-crosses/data/evaluation/scripts/call_bcftools_consensus.sh\n",
      "2015-04-14 15:01:42.158287 :: bcftools_multiallelic /data/plasmodium/pfalciparum/pf-crosses/data/evaluation/scripts/call_bcftools_multiallelic.sh\n",
      "2015-04-14 15:01:42.201134 :: gatk_ug /data/plasmodium/pfalciparum/pf-crosses/data/evaluation/scripts/call_gatk_ug.sh\n",
      "2015-04-14 15:01:42.260709 :: bwamem_intractg\n",
      "2015-04-14 15:01:42.262906 :: /data/plasmodium/pfalciparum/pf-crosses/data/evaluation/truth/bwamem_intractg/alignment/birren_dd2_supercontigs.bam\n",
      "2015-04-14 15:01:42.264154 :: bcftools_consensus /data/plasmodium/pfalciparum/pf-crosses/data/evaluation/scripts/call_bcftools_consensus.sh\n",
      "2015-04-14 15:01:42.333086 :: bcftools_multiallelic /data/plasmodium/pfalciparum/pf-crosses/data/evaluation/scripts/call_bcftools_multiallelic.sh\n",
      "2015-04-14 15:01:42.385657 :: gatk_ug /data/plasmodium/pfalciparum/pf-crosses/data/evaluation/scripts/call_gatk_ug.sh\n",
      "2015-04-14 15:01:43.392272 :: birren_7g8_contigs\n",
      "2015-04-14 15:01:43.394927 :: bwasw_default\n",
      "2015-04-14 15:01:43.414336 :: /data/plasmodium/pfalciparum/pf-crosses/data/evaluation/truth/bwasw_default/alignment/birren_7g8_contigs.bam\n",
      "2015-04-14 15:01:43.415942 :: bcftools_consensus /data/plasmodium/pfalciparum/pf-crosses/data/evaluation/scripts/call_bcftools_consensus.sh\n",
      "2015-04-14 15:01:43.488772 :: bcftools_multiallelic /data/plasmodium/pfalciparum/pf-crosses/data/evaluation/scripts/call_bcftools_multiallelic.sh\n",
      "2015-04-14 15:01:43.556552 :: gatk_ug /data/plasmodium/pfalciparum/pf-crosses/data/evaluation/scripts/call_gatk_ug.sh\n",
      "2015-04-14 15:01:43.627527 :: bwamem_default\n",
      "2015-04-14 15:01:43.629650 :: /data/plasmodium/pfalciparum/pf-crosses/data/evaluation/truth/bwamem_default/alignment/birren_7g8_contigs.bam\n",
      "2015-04-14 15:01:43.630789 :: bcftools_consensus /data/plasmodium/pfalciparum/pf-crosses/data/evaluation/scripts/call_bcftools_consensus.sh\n",
      "2015-04-14 15:01:43.683274 :: bcftools_multiallelic /data/plasmodium/pfalciparum/pf-crosses/data/evaluation/scripts/call_bcftools_multiallelic.sh\n",
      "2015-04-14 15:01:43.729332 :: gatk_ug /data/plasmodium/pfalciparum/pf-crosses/data/evaluation/scripts/call_gatk_ug.sh\n",
      "2015-04-14 15:01:43.802440 :: bwamem_intractg\n",
      "2015-04-14 15:01:43.805023 :: /data/plasmodium/pfalciparum/pf-crosses/data/evaluation/truth/bwamem_intractg/alignment/birren_7g8_contigs.bam\n",
      "2015-04-14 15:01:43.806302 :: bcftools_consensus /data/plasmodium/pfalciparum/pf-crosses/data/evaluation/scripts/call_bcftools_consensus.sh\n",
      "2015-04-14 15:01:43.900768 :: bcftools_multiallelic /data/plasmodium/pfalciparum/pf-crosses/data/evaluation/scripts/call_bcftools_multiallelic.sh\n",
      "2015-04-14 15:01:43.968393 :: gatk_ug /data/plasmodium/pfalciparum/pf-crosses/data/evaluation/scripts/call_gatk_ug.sh\n",
      "2015-04-14 15:01:44.960055 :: birren_7g8_supercontigs\n",
      "2015-04-14 15:01:44.962536 :: bwasw_default\n",
      "2015-04-14 15:01:44.963726 :: /data/plasmodium/pfalciparum/pf-crosses/data/evaluation/truth/bwasw_default/alignment/birren_7g8_supercontigs.bam\n",
      "2015-04-14 15:01:44.964842 :: bcftools_consensus /data/plasmodium/pfalciparum/pf-crosses/data/evaluation/scripts/call_bcftools_consensus.sh\n",
      "2015-04-14 15:01:45.030704 :: bcftools_multiallelic /data/plasmodium/pfalciparum/pf-crosses/data/evaluation/scripts/call_bcftools_multiallelic.sh\n",
      "2015-04-14 15:01:45.079995 :: gatk_ug /data/plasmodium/pfalciparum/pf-crosses/data/evaluation/scripts/call_gatk_ug.sh\n",
      "2015-04-14 15:01:45.149870 :: bwamem_default\n",
      "2015-04-14 15:01:45.154330 :: /data/plasmodium/pfalciparum/pf-crosses/data/evaluation/truth/bwamem_default/alignment/birren_7g8_supercontigs.bam\n",
      "2015-04-14 15:01:45.157113 :: bcftools_consensus /data/plasmodium/pfalciparum/pf-crosses/data/evaluation/scripts/call_bcftools_consensus.sh\n",
      "2015-04-14 15:01:45.226632 :: bcftools_multiallelic /data/plasmodium/pfalciparum/pf-crosses/data/evaluation/scripts/call_bcftools_multiallelic.sh\n",
      "2015-04-14 15:01:45.283185 :: gatk_ug /data/plasmodium/pfalciparum/pf-crosses/data/evaluation/scripts/call_gatk_ug.sh\n",
      "2015-04-14 15:01:45.348626 :: bwamem_intractg\n",
      "2015-04-14 15:01:45.353167 :: /data/plasmodium/pfalciparum/pf-crosses/data/evaluation/truth/bwamem_intractg/alignment/birren_7g8_supercontigs.bam\n",
      "2015-04-14 15:01:45.356140 :: bcftools_consensus /data/plasmodium/pfalciparum/pf-crosses/data/evaluation/scripts/call_bcftools_consensus.sh\n",
      "2015-04-14 15:01:45.409092 :: bcftools_multiallelic /data/plasmodium/pfalciparum/pf-crosses/data/evaluation/scripts/call_bcftools_multiallelic.sh\n",
      "2015-04-14 15:01:45.461061 :: gatk_ug /data/plasmodium/pfalciparum/pf-crosses/data/evaluation/scripts/call_gatk_ug.sh\n",
      "2015-04-14 15:01:46.679823 :: garimella_3d7_ERR019061_contigs\n",
      "2015-04-14 15:01:46.702785 :: bwasw_default\n",
      "2015-04-14 15:01:46.703511 :: /data/plasmodium/pfalciparum/pf-crosses/data/evaluation/truth/bwasw_default/alignment/garimella_3d7_ERR019061_contigs.bam\n",
      "2015-04-14 15:01:46.734933 :: bcftools_consensus /data/plasmodium/pfalciparum/pf-crosses/data/evaluation/scripts/call_bcftools_consensus.sh\n",
      "2015-04-14 15:01:46.786505 :: bcftools_multiallelic /data/plasmodium/pfalciparum/pf-crosses/data/evaluation/scripts/call_bcftools_multiallelic.sh\n",
      "2015-04-14 15:01:46.869851 :: gatk_ug /data/plasmodium/pfalciparum/pf-crosses/data/evaluation/scripts/call_gatk_ug.sh\n",
      "2015-04-14 15:01:46.931322 :: bwamem_default\n",
      "2015-04-14 15:01:46.933630 :: /data/plasmodium/pfalciparum/pf-crosses/data/evaluation/truth/bwamem_default/alignment/garimella_3d7_ERR019061_contigs.bam\n",
      "2015-04-14 15:01:46.936101 :: bcftools_consensus /data/plasmodium/pfalciparum/pf-crosses/data/evaluation/scripts/call_bcftools_consensus.sh\n",
      "2015-04-14 15:01:47.068441 :: bcftools_multiallelic /data/plasmodium/pfalciparum/pf-crosses/data/evaluation/scripts/call_bcftools_multiallelic.sh\n",
      "2015-04-14 15:01:47.160458 :: gatk_ug /data/plasmodium/pfalciparum/pf-crosses/data/evaluation/scripts/call_gatk_ug.sh\n",
      "2015-04-14 15:01:47.246665 :: bwamem_intractg\n",
      "2015-04-14 15:01:47.248858 :: /data/plasmodium/pfalciparum/pf-crosses/data/evaluation/truth/bwamem_intractg/alignment/garimella_3d7_ERR019061_contigs.bam\n",
      "2015-04-14 15:01:47.250139 :: bcftools_consensus /data/plasmodium/pfalciparum/pf-crosses/data/evaluation/scripts/call_bcftools_consensus.sh\n",
      "2015-04-14 15:01:47.352300 :: bcftools_multiallelic /data/plasmodium/pfalciparum/pf-crosses/data/evaluation/scripts/call_bcftools_multiallelic.sh\n",
      "2015-04-14 15:01:47.416550 :: gatk_ug /data/plasmodium/pfalciparum/pf-crosses/data/evaluation/scripts/call_gatk_ug.sh\n",
      "2015-04-14 15:01:48.596053 :: garimella_hb3_ERR019054_contigs\n",
      "2015-04-14 15:01:48.609080 :: bwasw_default\n",
      "2015-04-14 15:01:48.610852 :: /data/plasmodium/pfalciparum/pf-crosses/data/evaluation/truth/bwasw_default/alignment/garimella_hb3_ERR019054_contigs.bam\n",
      "2015-04-14 15:01:48.612105 :: bcftools_consensus /data/plasmodium/pfalciparum/pf-crosses/data/evaluation/scripts/call_bcftools_consensus.sh\n",
      "2015-04-14 15:01:48.703812 :: bcftools_multiallelic /data/plasmodium/pfalciparum/pf-crosses/data/evaluation/scripts/call_bcftools_multiallelic.sh\n",
      "2015-04-14 15:01:48.797598 :: gatk_ug /data/plasmodium/pfalciparum/pf-crosses/data/evaluation/scripts/call_gatk_ug.sh\n",
      "2015-04-14 15:01:48.900346 :: bwamem_default\n",
      "2015-04-14 15:01:48.902673 :: /data/plasmodium/pfalciparum/pf-crosses/data/evaluation/truth/bwamem_default/alignment/garimella_hb3_ERR019054_contigs.bam\n",
      "2015-04-14 15:01:48.904061 :: bcftools_consensus /data/plasmodium/pfalciparum/pf-crosses/data/evaluation/scripts/call_bcftools_consensus.sh\n",
      "2015-04-14 15:01:48.996290 :: bcftools_multiallelic /data/plasmodium/pfalciparum/pf-crosses/data/evaluation/scripts/call_bcftools_multiallelic.sh\n",
      "2015-04-14 15:01:49.049115 :: gatk_ug /data/plasmodium/pfalciparum/pf-crosses/data/evaluation/scripts/call_gatk_ug.sh\n",
      "2015-04-14 15:01:49.164133 :: bwamem_intractg\n",
      "2015-04-14 15:01:49.166467 :: /data/plasmodium/pfalciparum/pf-crosses/data/evaluation/truth/bwamem_intractg/alignment/garimella_hb3_ERR019054_contigs.bam\n",
      "2015-04-14 15:01:49.167729 :: bcftools_consensus /data/plasmodium/pfalciparum/pf-crosses/data/evaluation/scripts/call_bcftools_consensus.sh\n",
      "2015-04-14 15:01:49.225329 :: bcftools_multiallelic /data/plasmodium/pfalciparum/pf-crosses/data/evaluation/scripts/call_bcftools_multiallelic.sh\n",
      "2015-04-14 15:01:49.313675 :: gatk_ug /data/plasmodium/pfalciparum/pf-crosses/data/evaluation/scripts/call_gatk_ug.sh\n",
      "2015-04-14 15:01:50.503385 :: garimella_hb3_ERR012788_contigs\n",
      "2015-04-14 15:01:50.506426 :: bwasw_default\n",
      "2015-04-14 15:01:50.519699 :: /data/plasmodium/pfalciparum/pf-crosses/data/evaluation/truth/bwasw_default/alignment/garimella_hb3_ERR012788_contigs.bam\n",
      "2015-04-14 15:01:50.529074 :: bcftools_consensus /data/plasmodium/pfalciparum/pf-crosses/data/evaluation/scripts/call_bcftools_consensus.sh\n",
      "2015-04-14 15:01:50.623808 :: bcftools_multiallelic /data/plasmodium/pfalciparum/pf-crosses/data/evaluation/scripts/call_bcftools_multiallelic.sh\n",
      "2015-04-14 15:01:50.693508 :: gatk_ug /data/plasmodium/pfalciparum/pf-crosses/data/evaluation/scripts/call_gatk_ug.sh\n",
      "2015-04-14 15:01:50.766747 :: bwamem_default\n",
      "2015-04-14 15:01:50.769072 :: /data/plasmodium/pfalciparum/pf-crosses/data/evaluation/truth/bwamem_default/alignment/garimella_hb3_ERR012788_contigs.bam\n",
      "2015-04-14 15:01:50.770374 :: bcftools_consensus /data/plasmodium/pfalciparum/pf-crosses/data/evaluation/scripts/call_bcftools_consensus.sh\n",
      "2015-04-14 15:01:50.846260 :: bcftools_multiallelic /data/plasmodium/pfalciparum/pf-crosses/data/evaluation/scripts/call_bcftools_multiallelic.sh\n",
      "2015-04-14 15:01:51.040567 :: gatk_ug /data/plasmodium/pfalciparum/pf-crosses/data/evaluation/scripts/call_gatk_ug.sh\n",
      "2015-04-14 15:01:51.151372 :: bwamem_intractg\n",
      "2015-04-14 15:01:51.152393 :: /data/plasmodium/pfalciparum/pf-crosses/data/evaluation/truth/bwamem_intractg/alignment/garimella_hb3_ERR012788_contigs.bam\n",
      "2015-04-14 15:01:51.152840 :: bcftools_consensus /data/plasmodium/pfalciparum/pf-crosses/data/evaluation/scripts/call_bcftools_consensus.sh\n",
      "2015-04-14 15:01:51.256245 :: bcftools_multiallelic /data/plasmodium/pfalciparum/pf-crosses/data/evaluation/scripts/call_bcftools_multiallelic.sh\n",
      "2015-04-14 15:01:51.401807 :: gatk_ug /data/plasmodium/pfalciparum/pf-crosses/data/evaluation/scripts/call_gatk_ug.sh\n",
      "2015-04-14 15:01:52.674150 :: garimella_dd2_ERR012840_contigs\n",
      "2015-04-14 15:01:52.677808 :: bwasw_default\n",
      "2015-04-14 15:01:52.712659 :: /data/plasmodium/pfalciparum/pf-crosses/data/evaluation/truth/bwasw_default/alignment/garimella_dd2_ERR012840_contigs.bam\n",
      "2015-04-14 15:01:52.713605 :: bcftools_consensus /data/plasmodium/pfalciparum/pf-crosses/data/evaluation/scripts/call_bcftools_consensus.sh\n",
      "2015-04-14 15:01:52.850560 :: bcftools_multiallelic /data/plasmodium/pfalciparum/pf-crosses/data/evaluation/scripts/call_bcftools_multiallelic.sh\n",
      "2015-04-14 15:01:52.942255 :: gatk_ug /data/plasmodium/pfalciparum/pf-crosses/data/evaluation/scripts/call_gatk_ug.sh\n",
      "2015-04-14 15:01:53.047094 :: bwamem_default\n",
      "2015-04-14 15:01:53.049264 :: /data/plasmodium/pfalciparum/pf-crosses/data/evaluation/truth/bwamem_default/alignment/garimella_dd2_ERR012840_contigs.bam\n",
      "2015-04-14 15:01:53.050430 :: bcftools_consensus /data/plasmodium/pfalciparum/pf-crosses/data/evaluation/scripts/call_bcftools_consensus.sh\n",
      "2015-04-14 15:01:53.151223 :: bcftools_multiallelic /data/plasmodium/pfalciparum/pf-crosses/data/evaluation/scripts/call_bcftools_multiallelic.sh\n",
      "2015-04-14 15:01:53.254751 :: gatk_ug /data/plasmodium/pfalciparum/pf-crosses/data/evaluation/scripts/call_gatk_ug.sh\n",
      "2015-04-14 15:01:53.471769 :: bwamem_intractg\n",
      "2015-04-14 15:01:53.501739 :: /data/plasmodium/pfalciparum/pf-crosses/data/evaluation/truth/bwamem_intractg/alignment/garimella_dd2_ERR012840_contigs.bam\n",
      "2015-04-14 15:01:53.520058 :: bcftools_consensus /data/plasmodium/pfalciparum/pf-crosses/data/evaluation/scripts/call_bcftools_consensus.sh\n",
      "2015-04-14 15:01:53.656197 :: bcftools_multiallelic /data/plasmodium/pfalciparum/pf-crosses/data/evaluation/scripts/call_bcftools_multiallelic.sh\n",
      "2015-04-14 15:01:53.743191 :: gatk_ug /data/plasmodium/pfalciparum/pf-crosses/data/evaluation/scripts/call_gatk_ug.sh\n",
      "2015-04-14 15:01:55.142356 :: garimella_7g8_ERR027099_contigs\n",
      "2015-04-14 15:01:55.172942 :: bwasw_default\n",
      "2015-04-14 15:01:55.173768 :: /data/plasmodium/pfalciparum/pf-crosses/data/evaluation/truth/bwasw_default/alignment/garimella_7g8_ERR027099_contigs.bam\n",
      "2015-04-14 15:01:55.177891 :: bcftools_consensus /data/plasmodium/pfalciparum/pf-crosses/data/evaluation/scripts/call_bcftools_consensus.sh\n",
      "2015-04-14 15:01:55.298760 :: bcftools_multiallelic /data/plasmodium/pfalciparum/pf-crosses/data/evaluation/scripts/call_bcftools_multiallelic.sh\n",
      "2015-04-14 15:01:55.386463 :: gatk_ug /data/plasmodium/pfalciparum/pf-crosses/data/evaluation/scripts/call_gatk_ug.sh\n",
      "2015-04-14 15:01:55.503508 :: bwamem_default\n",
      "2015-04-14 15:01:55.513153 :: /data/plasmodium/pfalciparum/pf-crosses/data/evaluation/truth/bwamem_default/alignment/garimella_7g8_ERR027099_contigs.bam\n",
      "2015-04-14 15:01:55.529991 :: bcftools_consensus /data/plasmodium/pfalciparum/pf-crosses/data/evaluation/scripts/call_bcftools_consensus.sh\n",
      "2015-04-14 15:01:55.625484 :: bcftools_multiallelic /data/plasmodium/pfalciparum/pf-crosses/data/evaluation/scripts/call_bcftools_multiallelic.sh\n",
      "2015-04-14 15:01:55.765922 :: gatk_ug /data/plasmodium/pfalciparum/pf-crosses/data/evaluation/scripts/call_gatk_ug.sh\n",
      "2015-04-14 15:01:55.893974 :: bwamem_intractg\n",
      "2015-04-14 15:01:55.896292 :: /data/plasmodium/pfalciparum/pf-crosses/data/evaluation/truth/bwamem_intractg/alignment/garimella_7g8_ERR027099_contigs.bam\n",
      "2015-04-14 15:01:55.899936 :: bcftools_consensus /data/plasmodium/pfalciparum/pf-crosses/data/evaluation/scripts/call_bcftools_consensus.sh\n",
      "2015-04-14 15:01:56.020091 :: bcftools_multiallelic /data/plasmodium/pfalciparum/pf-crosses/data/evaluation/scripts/call_bcftools_multiallelic.sh\n",
      "2015-04-14 15:01:56.124246 :: gatk_ug /data/plasmodium/pfalciparum/pf-crosses/data/evaluation/scripts/call_gatk_ug.sh\n",
      "2015-04-14 15:01:57.559507 :: garimella_gb4_ERR027099_contigs\n",
      "2015-04-14 15:01:57.602656 :: bwasw_default\n",
      "2015-04-14 15:01:57.634477 :: /data/plasmodium/pfalciparum/pf-crosses/data/evaluation/truth/bwasw_default/alignment/garimella_gb4_ERR027099_contigs.bam\n",
      "2015-04-14 15:01:57.644691 :: bcftools_consensus /data/plasmodium/pfalciparum/pf-crosses/data/evaluation/scripts/call_bcftools_consensus.sh\n",
      "2015-04-14 15:01:57.854116 :: bcftools_multiallelic /data/plasmodium/pfalciparum/pf-crosses/data/evaluation/scripts/call_bcftools_multiallelic.sh\n",
      "2015-04-14 15:01:58.043443 :: gatk_ug /data/plasmodium/pfalciparum/pf-crosses/data/evaluation/scripts/call_gatk_ug.sh\n",
      "2015-04-14 15:01:58.152387 :: bwamem_default\n",
      "2015-04-14 15:01:58.154674 :: /data/plasmodium/pfalciparum/pf-crosses/data/evaluation/truth/bwamem_default/alignment/garimella_gb4_ERR027099_contigs.bam\n",
      "2015-04-14 15:01:58.155889 :: bcftools_consensus /data/plasmodium/pfalciparum/pf-crosses/data/evaluation/scripts/call_bcftools_consensus.sh\n",
      "2015-04-14 15:01:58.253958 :: bcftools_multiallelic /data/plasmodium/pfalciparum/pf-crosses/data/evaluation/scripts/call_bcftools_multiallelic.sh\n",
      "2015-04-14 15:01:58.427683 :: gatk_ug /data/plasmodium/pfalciparum/pf-crosses/data/evaluation/scripts/call_gatk_ug.sh\n",
      "2015-04-14 15:01:58.530600 :: bwamem_intractg\n",
      "2015-04-14 15:01:58.532983 :: /data/plasmodium/pfalciparum/pf-crosses/data/evaluation/truth/bwamem_intractg/alignment/garimella_gb4_ERR027099_contigs.bam\n",
      "2015-04-14 15:01:58.534253 :: bcftools_consensus /data/plasmodium/pfalciparum/pf-crosses/data/evaluation/scripts/call_bcftools_consensus.sh\n",
      "2015-04-14 15:01:58.717775 :: bcftools_multiallelic /data/plasmodium/pfalciparum/pf-crosses/data/evaluation/scripts/call_bcftools_multiallelic.sh\n",
      "2015-04-14 15:01:58.891248 :: gatk_ug /data/plasmodium/pfalciparum/pf-crosses/data/evaluation/scripts/call_gatk_ug.sh\n",
      "2015-04-14 15:01:59.074720 :: genbank_hb3_coding_sequences\n",
      "2015-04-14 15:01:59.077004 :: bwasw_default\n",
      "2015-04-14 15:01:59.078461 :: /data/plasmodium/pfalciparum/pf-crosses/data/evaluation/truth/bwasw_default/alignment/genbank_hb3_coding_sequences.bam\n",
      "2015-04-14 15:01:59.079685 :: bcftools_consensus /data/plasmodium/pfalciparum/pf-crosses/data/evaluation/scripts/call_bcftools_consensus.sh\n",
      "2015-04-14 15:01:59.198151 :: bcftools_multiallelic /data/plasmodium/pfalciparum/pf-crosses/data/evaluation/scripts/call_bcftools_multiallelic.sh\n",
      "2015-04-14 15:01:59.319486 :: gatk_ug /data/plasmodium/pfalciparum/pf-crosses/data/evaluation/scripts/call_gatk_ug.sh\n",
      "2015-04-14 15:01:59.449170 :: bwamem_default\n",
      "2015-04-14 15:01:59.451666 :: /data/plasmodium/pfalciparum/pf-crosses/data/evaluation/truth/bwamem_default/alignment/genbank_hb3_coding_sequences.bam\n",
      "2015-04-14 15:01:59.453146 :: bcftools_consensus /data/plasmodium/pfalciparum/pf-crosses/data/evaluation/scripts/call_bcftools_consensus.sh\n",
      "2015-04-14 15:01:59.554891 :: bcftools_multiallelic /data/plasmodium/pfalciparum/pf-crosses/data/evaluation/scripts/call_bcftools_multiallelic.sh\n",
      "2015-04-14 15:01:59.680724 :: gatk_ug /data/plasmodium/pfalciparum/pf-crosses/data/evaluation/scripts/call_gatk_ug.sh\n",
      "2015-04-14 15:01:59.783088 :: bwamem_intractg\n",
      "2015-04-14 15:01:59.785479 :: /data/plasmodium/pfalciparum/pf-crosses/data/evaluation/truth/bwamem_intractg/alignment/genbank_hb3_coding_sequences.bam\n",
      "2015-04-14 15:01:59.786938 :: bcftools_consensus /data/plasmodium/pfalciparum/pf-crosses/data/evaluation/scripts/call_bcftools_consensus.sh\n",
      "2015-04-14 15:01:59.943183 :: bcftools_multiallelic /data/plasmodium/pfalciparum/pf-crosses/data/evaluation/scripts/call_bcftools_multiallelic.sh\n",
      "2015-04-14 15:02:00.041598 :: gatk_ug /data/plasmodium/pfalciparum/pf-crosses/data/evaluation/scripts/call_gatk_ug.sh\n"
     ]
    }
   ],
   "source": [
    "for prefix, _, _, _ in tbl_sequences.data():\n",
    "    log(prefix)\n",
    "    for alignment_config, _ in tbl_alignment_configurations.data():\n",
    "        log(alignment_config)\n",
    "        bamfile = os.path.join(truth_dir, alignment_config, 'alignment', prefix + '.bam')\n",
    "        log(bamfile)\n",
    "        for calling_config, script in tbl_calling_configurations.data():\n",
    "            log(calling_config, script)\n",
    "            outdir = os.path.join(truth_dir, alignment_config, 'calling', calling_config)\n",
    "            if not os.path.exists(outdir):\n",
    "                os.makedirs(outdir)\n",
    "            !(bash {script} {target} {bamfile} {outdir} {prefix} > {outdir}/{prefix}.log 2>&1 &)\n",
    "    "
   ]
  },
  {
   "cell_type": "markdown",
   "metadata": {},
   "source": [
    "## Sandbox"
   ]
  },
  {
   "cell_type": "markdown",
   "metadata": {},
   "source": [
    "### Alignment"
   ]
  },
  {
   "cell_type": "code",
   "execution_count": 143,
   "metadata": {
    "collapsed": false
   },
   "outputs": [
    {
     "data": {
      "text/plain": [
       "('garimella_3d7_ERR019061_contigs',\n",
       " '3D7',\n",
       " '/data/plasmodium/pfalciparum/pf-crosses/data/kiran_assemblies/20150413/3D7xHB3.3D7.PG0051-C.ERR019061.fasta')"
      ]
     },
     "execution_count": 143,
     "metadata": {},
     "output_type": "execute_result"
    }
   ],
   "source": [
    "prefix, clone, query, _ = tbl_sequences[7]\n",
    "prefix, clone, query"
   ]
  },
  {
   "cell_type": "code",
   "execution_count": 144,
   "metadata": {
    "collapsed": false
   },
   "outputs": [
    {
     "name": "stdout",
     "output_type": "stream",
     "text": [
      "total 4.3M\r\n",
      "-rw-rw-r-- 1 aliman malariagen 638K Apr 14 12:52 garimella_3d7_ERR019061_contigs.log\r\n",
      "-rw-rw-r-- 1 aliman malariagen 7.4M Apr 14 12:52 garimella_3d7_ERR019061_contigs.sam\r\n"
     ]
    }
   ],
   "source": [
    "alignment_config = 'lastz_default'\n",
    "alignment_outdir = os.path.join(truth_dir, alignment_config, 'alignment')\n",
    "if not os.path.exists(alignment_outdir):\n",
    "    os.makedirs(alignment_outdir)\n",
    "!ls -lh {alignment_outdir}"
   ]
  },
  {
   "cell_type": "code",
   "execution_count": 145,
   "metadata": {
    "collapsed": false
   },
   "outputs": [
    {
     "name": "stdout",
     "output_type": "stream",
     "text": [
      "ls: cannot access /data/plasmodium/pfalciparum/pf-crosses/data/evaluation/truth/lastz_default/alignment/garimella_3d7_ERR019061_contigs.bam*: No such file or directory\r\n"
     ]
    }
   ],
   "source": [
    "bamfile = os.path.join(alignment_outdir, prefix + '.bam')\n",
    "!ls -lh {bamfile}*"
   ]
  },
  {
   "cell_type": "code",
   "execution_count": 146,
   "metadata": {
    "collapsed": false
   },
   "outputs": [
    {
     "data": {
      "text/plain": [
       "'/data/plasmodium/pfalciparum/pf-crosses/data/evaluation/scripts/align_lastz_default.sh'"
      ]
     },
     "execution_count": 146,
     "metadata": {},
     "output_type": "execute_result"
    }
   ],
   "source": [
    "_, alignment_script = tbl_alignment_configurations[4]\n",
    "alignment_script"
   ]
  },
  {
   "cell_type": "code",
   "execution_count": 98,
   "metadata": {
    "collapsed": true
   },
   "outputs": [],
   "source": [
    "!(bash {alignment_script} {target} {query} {alignment_outdir} {prefix} > {alignment_outdir}/{prefix}.log 2>&1 &)"
   ]
  },
  {
   "cell_type": "markdown",
   "metadata": {},
   "source": [
    "### Calling"
   ]
  },
  {
   "cell_type": "code",
   "execution_count": 247,
   "metadata": {
    "collapsed": false
   },
   "outputs": [
    {
     "data": {
      "text/plain": [
       "('garimella_3d7_ERR019061_contigs',\n",
       " '3D7',\n",
       " '/data/plasmodium/pfalciparum/pf-crosses/data/kiran_assemblies/20150413/3D7xHB3.3D7.PG0051-C.ERR019061.fasta')"
      ]
     },
     "execution_count": 247,
     "metadata": {},
     "output_type": "execute_result"
    }
   ],
   "source": [
    "prefix, clone, query, _ = tbl_sequences[7]\n",
    "prefix, clone, query"
   ]
  },
  {
   "cell_type": "code",
   "execution_count": 248,
   "metadata": {
    "collapsed": false
   },
   "outputs": [
    {
     "name": "stdout",
     "output_type": "stream",
     "text": [
      "-rw-rw-r-- 1 aliman malariagen 7.5M Apr 13 16:06 /data/plasmodium/pfalciparum/pf-crosses/data/evaluation/truth/bwamem_intractg/alignment/garimella_3d7_ERR019061_contigs.bam\r\n",
      "-rw-rw-r-- 1 aliman malariagen  14K Apr 13 16:06 /data/plasmodium/pfalciparum/pf-crosses/data/evaluation/truth/bwamem_intractg/alignment/garimella_3d7_ERR019061_contigs.bam.bai\r\n",
      "-rw-rw-r-- 1 aliman malariagen    0 Apr 13 16:06 /data/plasmodium/pfalciparum/pf-crosses/data/evaluation/truth/bwamem_intractg/alignment/garimella_3d7_ERR019061_contigs.bam.ok\r\n"
     ]
    }
   ],
   "source": [
    "alignment_config = 'bwamem_intractg'\n",
    "alignment_outdir = os.path.join(truth_dir, alignment_config, 'alignment')\n",
    "if not os.path.exists(alignment_outdir):\n",
    "    os.makedirs(alignment_outdir)\n",
    "bamfile = os.path.join(alignment_outdir, prefix + '.bam')\n",
    "!ls -lh {bamfile}*"
   ]
  },
  {
   "cell_type": "code",
   "execution_count": 249,
   "metadata": {
    "collapsed": false
   },
   "outputs": [
    {
     "data": {
      "text/plain": [
       "('freebayes',\n",
       " '/data/plasmodium/pfalciparum/pf-crosses/data/evaluation/scripts/call_freebayes.sh')"
      ]
     },
     "execution_count": 249,
     "metadata": {},
     "output_type": "execute_result"
    }
   ],
   "source": [
    "calling_config, calling_script = tbl_calling_configurations[4]\n",
    "calling_config, calling_script"
   ]
  },
  {
   "cell_type": "code",
   "execution_count": 250,
   "metadata": {
    "collapsed": false
   },
   "outputs": [
    {
     "name": "stdout",
     "output_type": "stream",
     "text": [
      "total 0\r\n"
     ]
    }
   ],
   "source": [
    "calling_outdir = os.path.join(truth_dir, alignment_config, 'calling', calling_config)\n",
    "if not os.path.exists(calling_outdir):\n",
    "    os.makedirs(calling_outdir)\n",
    "!ls -lh {calling_outdir}"
   ]
  },
  {
   "cell_type": "code",
   "execution_count": 251,
   "metadata": {
    "collapsed": false
   },
   "outputs": [],
   "source": [
    "#!rm -v {calling_outdir}/*"
   ]
  },
  {
   "cell_type": "code",
   "execution_count": 252,
   "metadata": {
    "collapsed": true
   },
   "outputs": [],
   "source": [
    "!(bash {calling_script} {target} {bamfile} {calling_outdir} {prefix} > {calling_outdir}/{prefix}.log 2>&1 &)"
   ]
  },
  {
   "cell_type": "markdown",
   "metadata": {
    "collapsed": true
   },
   "source": [
    "## Sandbox"
   ]
  },
  {
   "cell_type": "code",
   "execution_count": 19,
   "metadata": {
    "collapsed": false
   },
   "outputs": [
    {
     "name": "stdout",
     "output_type": "stream",
     "text": [
      "-rw-rw-r-- 1 aliman malariagen 52K Apr 14 08:44 /data/plasmodium/pfalciparum/pf-crosses/data/evaluation/truth/bwamem_intractg/alignment/genbank_hb3_coding_sequences.bam\r\n"
     ]
    }
   ],
   "source": [
    "prefix = 'genbank_hb3_coding_sequences'\n",
    "truth_dir = '/data/plasmodium/pfalciparum/pf-crosses/data/evaluation/truth'\n",
    "alignment_config = 'bwamem_intractg'\n",
    "alignment_outdir = os.path.join(truth_dir, alignment_config, 'alignment')\n",
    "bam_fn = os.path.join(alignment_outdir, prefix + '.bam')\n",
    "!ls -lh {bam_fn}"
   ]
  },
  {
   "cell_type": "code",
   "execution_count": 20,
   "metadata": {
    "collapsed": false
   },
   "outputs": [
    {
     "data": {
      "text/plain": [
       "<pysam.calignmentfile.AlignmentFile at 0x7f9f60355748>"
      ]
     },
     "execution_count": 20,
     "metadata": {},
     "output_type": "execute_result"
    }
   ],
   "source": [
    "bam = pysam.AlignmentFile(bam_fn)\n",
    "bam"
   ]
  },
  {
   "cell_type": "code",
   "execution_count": 33,
   "metadata": {
    "collapsed": false
   },
   "outputs": [
    {
     "data": {
      "text/plain": [
       "NpyFastaRecord(0..640851)"
      ]
     },
     "execution_count": 33,
     "metadata": {},
     "output_type": "execute_result"
    }
   ],
   "source": [
    "seq = pyfasta.Fasta(target)['Pf3D7_01_v3']\n",
    "seq"
   ]
  },
  {
   "cell_type": "code",
   "execution_count": 41,
   "metadata": {
    "collapsed": false
   },
   "outputs": [
    {
     "name": "stdout",
     "output_type": "stream",
     "text": [
      "265603 CAT C\n",
      "266073 A ATT\n",
      "266480 A T\n",
      "266640 TCTC T\n",
      "267777 C T\n",
      "269132 C T\n"
     ]
    }
   ],
   "source": [
    "for col in bam.pileup(region='Pf3D7_01_v3:265200-269174', stepper='nofilter'):\n",
    "    ref_base = seq[col.reference_pos]\n",
    "    for read in col.pileups:\n",
    "        if read.indel < 0:\n",
    "            ref_allele = seq[col.reference_pos:col.reference_pos + -1*read.indel + 1]\n",
    "            alt_allele = ref_base\n",
    "            print(col.reference_pos + 1, ref_allele, alt_allele)\n",
    "        elif read.indel > 0:\n",
    "            ref_allele = ref_base\n",
    "            alt_allele = read.alignment.query_sequence[read.query_position:read.query_position + read.indel + 1]\n",
    "            print(col.reference_pos + 1, ref_allele, alt_allele)\n",
    "        elif not read.is_del and ref_base != read.alignment.query_sequence[read.query_position]:\n",
    "            ref_allele = ref_base\n",
    "            alt_allele = read.alignment.query_sequence[read.query_position]\n",
    "            print(col.reference_pos + 1, ref_allele, alt_allele)\n",
    "            "
   ]
  },
  {
   "cell_type": "code",
   "execution_count": 24,
   "metadata": {
    "collapsed": false
   },
   "outputs": [
    {
     "name": "stdout",
     "output_type": "stream",
     "text": [
      "gi|56342158|dbj|AB121052.1|\t16\t0\t265207\t60\t396M2D468M2I567M3D2604M\t-1\t-1\t4037\tTTAATCAATTTTAATTTTCTTGGTTCTTTGCTCTTCCTTTAATTTCCTCTTTGCATAGAATTTAATAATTTCGTCAAGTATAATAACTGGGAAGGACCACAAGAATACTAAGAACCAGTCATATGCACTTAATGGAACAACACCAAAAATACGAGCTAAGGGTGGAATGTAAAGTATTAAGACATGTAAAAGTAAGGAACCTATAGTAGCTAATACTAGGTACATATTTCTCCATGGTGGTATTTCAAATAAGGAATTATACTCACTCAAGGCATTCAAAGCATTAAACATTTCTATTAAAACTAAAACGGATAAAGATAAGGTGCTTGCCTAAAAATAAAAAAATATATAAATAAATGAATATATATAAATATATACATATATACGTAAATATACATATATATATATATATATATATATATATGTGTGTGTGTATGTTTGTGTGTGTGCACTATATTTATTACCTTAATTTTTCCTGCTGAAAAATATGAACAGTGATCCTCAGACATATCATAAACCTTATTTACACGGAAGTTATTCCATGCTTTACATTGGTTATAATGTGATAATTGATAAAAGTTTATCAACGTGTGCATATCTGAATCTGGATAAAATAAAAACCAGTACACAAATATTGAGACTGTAGCTATTCCTACATATGTTCCAATAATTATATATCTTAATAAAGTTAGACCGTTTATTAAATTGTCGTTTTTGTGTCTCGGCTTGCACTTCATTACGTCATGTTCTGGTGGATTGAACCCTAAAAAAATTAAAAAAAAAGATAATTGATGAATAGGATGTATAAGACAAACAATTAACACACATACATATATATATATATAATATATAATATATAATATATTTTTTTTTTTTTTTTTTTTTTTTTTTTTTTTTATTGTTATTACCTAGTGCTGTTGCTGGTAATCCGTCAGTAACCAAATTTACCCACAATAATTGAACGGGAGCTAAACTGTCAGGTATACCCAATAAGGCTGTTATAAAAATGGATGCAACTTCTCCTATATTACTACTAATTAGATAACGGATAAATGCTTTCATATTATTATATATACATCTTCCTTCTTTAATTGCTTCAACTATAGTATTAAAATTATCATCAGCTAAAACAATATCTGATGCTTCTTTAGCTACCTCCGTTCCATTAATACCCATAGCTATTCCTATGTCAGCTGATTTCAATGCTGGTGCATCATTTACACCATCACCTGTCATAGCAACTGTTTCTCCTAAGTCTTTTAATACTTTTACTATTTGTTTTTTATGTTTAGGTTCAGTTCTACAGAAAACAATTCTTGGTGTATTTTTTAAAATATGTTTTTGCTTTTCTAATGAAAAATCTTCAAATTCTCTTCCATTATAACAACATATTTGTGTATTTTTATTATTTGTATAATTATCCTTTTCATCATCTTCATTTTTATTTAATATATTAATTTCTTTAGCTATAGCTCTGGCCGTATTAATATTATCACCTGTAATCATAAATACACGTATACCAGCCATATGGCATAATCTAATTGCTCTTCCTACATATTTACGTGGTGGATCAATAATACCTAATCCACCTAAATAAATTAAATCTTGTTCTAATTTATAATAATCATCTGTATTCTTAATATTTAAATCTTTACTACTTAATTTTTTATAAGCAAAGCTAAGTGTTCTTAATGCTCTTTTTCCCATATTTTGAATCTTATTATGAATTTCATTTTTTAAAGTTTCATTTAATGGACGTATATCATTTTTCGTTAAATAATATTTACAATTTTTTATTATATTCTCAGGTGCACCTTTACAATACAATATTATTTCTTTTTTTTTATTTTCAACAATAACACTCATAAGTTTCCTTTCTCTAGTGAATTCAATAATTTTTATTTGTTTACATTCATTTCTCCAAGAAGAAATACATTCACTTGGAACACTATTACTATTATTATTATTGTTGTTATTATTATTATGTGTTGATGTGGTATTTATTTTATTACCCAATTTTGAGTGGAAACAATTTTCAAAACTTGTGCCATGCTCAAATGTATTTTCTCCTATAGCTTCATATCCATTTGTTGTTGCCTGAGCTGTAGTATAATTAGAATGGTTAGCATTCTTTAAATTCTTATCATTTTCATTCAATGTACTGGTAATATGACTGTTATCATTTTTTGAACTAAAGAATTTGTTGATACCCCTTGGTGATTTATCCTTCTTATTTGATGATTGTACAGGTGTTGTATTTTTTTCATATTCTGCTGGCATTTTATTATTTTTAGAGAATGTTGGTAATATATCAAAATTATGTACAAAATGTAATAAAGCTAATTCGGTACTGTCTCCAAATTTTTTTACTATTTGACTATTATCGTTACAGAAAATATTTGCTTCATTACAATTTACTAAACACATATAAAAATTATAATCATATTCTGAATAACAATATTTATTAATTTTATCTTCTAATATTTTACTACCTCTACTTATTATTGTATTTTCATTTGATTTCATTTCTTTTAAAGGAATATTCCTCTTAGCACCACTCCTACTATTATTATTATTATTATTATTGTTGTTGTTTAAATCATTTTTCATTTTCTTACTATCACTAGAAAAATAATCACTATATGGATCAGCTTCATCAATTGATCCTTCTTCTCCATCATCCGTTAAAGCTTCAACATTTCCTTCATCTTTTAATTTATTAAAAAAAGATGATTCACCTGCATATATATCATTTGTTAAGTTTGAACTTTCATAAAAGTAATAGGTATCCCCTTTTTGACATAGTTGGTATTCTGTTAAAGAATCAGATTCTCTAAACAAATGAAACACGGTTGTTGTCATTTGATTTGTTGTAAGGGTACCTGTTTTATCAGAACATATAACCGTTGTACATCCTAACGTCTCAACACTTTGTAATTTTCTTACTATAGCATTTTTTTTTACCATTCTTCTTGTTCCTAAAGCTAAACAAGTTGTTATGACTGCTGGCAATCCTTCTGGTATAGCAGCAACAGCTAAAGCAACACTAATTTTAAAATAATATAAACAACCATATAAAAATGAACCATGAATTGGATCTGAGAAATGTTTAAAATTAATAATCCATACAGTTACACATATTACAAAAATGATTTTTGATAATTGTTGACCAAATAAATCGATTTTTATTTGTAAAGGTGTTTGAGTATCTTCACTATTTGATTCTATAACAGCATGCTGAATATGACCTATTTCAGTCTTCATACCTATGTTGATTACAACAGCTATACATCTACCACATACAATAGCGGTAGATGAAAATAAAATATTTTTTTTCAACTGTATTTCACAATTTTTATAACTATCTTCCATTTTTTCAGCATATTTGTCAACTGAACAGGATTCTCCTGTTAACATACTCTGTTCAACTTTTAAACTTGTTGAATATATTTTAATTATTCTTGCATCAGCGGGAGTTTTATTACCAACACTCAATTCAATAATATCACCAACATATAAATATTTACTATCAATAATTTCCCACTTCCCATCTCGTAATACTTTAGCTTTGGTAGGTTGTAATTCTTTTAAAGCTTCTAAAGATTTTTCAGCATTACATTCTTGCCATACACCTACGGCAGCATTTAATATTAATATTAATACTATAACTAATGGTTCAATAAAATCACATATTTCTATTTTTTTATGTTTCATATCTAATAAAGTTAACACGAAACTAATGAATGCAGCTAGTAATAATATCTTTACTAATAAATCATCAAATTGATTTAATATCAATTCAAAAATACTTTTCTTCTTTTCTACTTCTAATTCATTCAAACCATATTTTAATCTTCTATCATCCAATTCCTCATTCTTTAAACCATTATCTTTGTTTACATCCAAAAATTTTAGTACATCTTCAACATCGTATGTATGAGCATTCTTAATAACCTCTTCCATTCTTTATATACAAACCAAAATATTATGTATAATAATAAATAATTTCACGAATGACAAAGATATAATAAGTTCAA\tNone\t[('NM', 10), ('MD', '396^AT874A160^CTC1133C1354C115'), ('AS', 3950), ('XS', 0)]\n",
      "['__class__', '__delattr__', '__dir__', '__doc__', '__eq__', '__format__', '__ge__', '__getattribute__', '__gt__', '__hash__', '__init__', '__le__', '__lt__', '__ne__', '__new__', '__pyx_vtable__', '__reduce__', '__reduce_ex__', '__repr__', '__setattr__', '__sizeof__', '__str__', '__subclasshook__', 'aend', 'alen', 'aligned_pairs', 'bin', 'blocks', 'cigar', 'cigarstring', 'cigartuples', 'compare', 'flag', 'get_aligned_pairs', 'get_blocks', 'get_overlap', 'get_reference_positions', 'infer_query_length', 'inferred_length', 'is_duplicate', 'is_paired', 'is_proper_pair', 'is_qcfail', 'is_read1', 'is_read2', 'is_reverse', 'is_secondary', 'is_unmapped', 'isize', 'mapping_quality', 'mapq', 'mate_is_reverse', 'mate_is_unmapped', 'mpos', 'mrnm', 'next_reference_id', 'next_reference_start', 'opt', 'overlap', 'pnext', 'pos', 'positions', 'qend', 'qlen', 'qname', 'qqual', 'qstart', 'qual', 'query', 'query_aligment_length', 'query_alignment_end', 'query_alignment_length', 'query_alignment_qualities', 'query_alignment_sequence', 'query_alignment_start', 'query_length', 'query_name', 'query_qualities', 'query_sequence', 'reference_end', 'reference_id', 'reference_length', 'reference_start', 'rlen', 'rname', 'rnext', 'seq', 'setTag', 'tags', 'template_length', 'tid', 'tlen']\n",
      "(0, 396)\n",
      "(2, 2)\n",
      "(0, 468)\n",
      "(1, 2)\n",
      "(0, 567)\n",
      "(2, 3)\n",
      "(0, 2604)\n"
     ]
    }
   ],
   "source": [
    "for read in bam.fetch(region='Pf3D7_01_v3:263208-271173'):\n",
    "    print(read)\n",
    "    print(dir(read))\n",
    "    for op in read.cigar:\n",
    "        print(op)"
   ]
  },
  {
   "cell_type": "code",
   "execution_count": null,
   "metadata": {
    "collapsed": true
   },
   "outputs": [],
   "source": []
  }
 ],
 "metadata": {
  "kernelspec": {
   "display_name": "Python 3",
   "language": "python",
   "name": "python3"
  },
  "language_info": {
   "codemirror_mode": {
    "name": "ipython",
    "version": 3
   },
   "file_extension": ".py",
   "mimetype": "text/x-python",
   "name": "python",
   "nbconvert_exporter": "python",
   "pygments_lexer": "ipython3",
   "version": "3.5.0+"
  }
 },
 "nbformat": 4,
 "nbformat_minor": 0
}
